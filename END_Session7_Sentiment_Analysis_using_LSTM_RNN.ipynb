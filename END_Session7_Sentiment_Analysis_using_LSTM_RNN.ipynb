{
  "nbformat": 4,
  "nbformat_minor": 0,
  "metadata": {
    "colab": {
      "name": "Copy of END_Session7 - Sentiment Analysis using LSTM RNN.ipynb",
      "provenance": [],
      "collapsed_sections": [],
      "toc_visible": true
    },
    "kernelspec": {
      "name": "python3",
      "display_name": "Python 3"
    },
    "accelerator": "GPU"
  },
  "cells": [
    {
      "cell_type": "markdown",
      "metadata": {
        "id": "GYiRsFGD6iUC"
      },
      "source": [
        "# 0 TorchText"
      ]
    },
    {
      "cell_type": "markdown",
      "metadata": {
        "id": "IwvZKE_3sZH8"
      },
      "source": [
        "Stanford Sentiment Treebank V1.0\n",
        "\n",
        "This is the dataset of the paper:\n",
        "\n",
        "Recursive Deep Models for Semantic Compositionality Over a Sentiment Treebank\n",
        "Richard Socher, Alex Perelygin, Jean Wu, Jason Chuang, Christopher Manning, Andrew Ng and Christopher Potts\n",
        "Conference on Empirical Methods in Natural Language Processing (EMNLP 2013)\n",
        "\n",
        "If you use this dataset in your research, please cite the above paper.\n",
        "\n",
        "@incollection{SocherEtAl2013:RNTN,\n",
        "title = {{Parsing With Compositional Vector Grammars}},\n",
        "author = {Richard Socher and Alex Perelygin and Jean Wu and Jason Chuang and Christopher Manning and Andrew Ng and Christopher Potts},\n",
        "booktitle = {{EMNLP}},\n",
        "year = {2013}\n",
        "}\n",
        "\n",
        "This file includes:\n",
        "1. original_rt_snippets.txt contains 10,605 processed snippets from the original pool of Rotten Tomatoes HTML files. Please note that some snippet may contain multiple sentences.\n",
        "\n",
        "2. dictionary.txt contains all phrases and their IDs, separated by a vertical line |\n",
        "\n",
        "3. sentiment_labels.txt contains all phrase ids and the corresponding sentiment labels, separated by a vertical line.\n",
        "Note that you can recover the 5 classes by mapping the positivity probability using the following cut-offs:\n",
        "[0, 0.2], (0.2, 0.4], (0.4, 0.6], (0.6, 0.8], (0.8, 1.0]\n",
        "for very negative, negative, neutral, positive, very positive, respectively.\n",
        "Please note that phrase ids and sentence ids are not the same.\n",
        "\n",
        "4. SOStr.txt and STree.txt encode the structure of the parse trees. \n",
        "STree encodes the trees in a parent pointer format. Each line corresponds to each sentence in the datasetSentences.txt file. The Matlab code of this paper will show you how to read this format if you are not familiar with it.\n",
        "\n",
        "5. datasetSentences.txt contains the sentence index, followed by the sentence string separated by a tab. These are the sentences of the train/dev/test sets.\n",
        "\n",
        "6. datasetSplit.txt contains the sentence index (corresponding to the index in datasetSentences.txt file) followed by the set label separated by a comma:\n",
        "\t1 = train\n",
        "\t2 = test\n",
        "\t3 = dev\n",
        "\n",
        "Please note that the datasetSentences.txt file has more sentences/lines than the original_rt_snippet.txt. \n",
        "Each row in the latter represents a snippet as shown on RT, whereas the former is each sub sentence as determined by the Stanford parser.\n",
        "\n",
        "For comparing research and training models, please use the provided train/dev/test splits.\n"
      ]
    },
    {
      "cell_type": "markdown",
      "metadata": {
        "id": "tp5IzBGsPGHs"
      },
      "source": [
        "## Dataset Preview\n",
        "\n",
        "Your first step to deep learning in NLP. We will be mostly using PyTorch. Just like torchvision, PyTorch provides an official library, torchtext, for handling text-processing pipelines. \n",
        "\n",
        "We will be using previous session tweet dataset. Let's just preview the dataset."
      ]
    },
    {
      "cell_type": "code",
      "metadata": {
        "id": "o1-Yz-5RRFYc",
        "colab": {
          "base_uri": "https://localhost:8080/",
          "height": 195
        },
        "outputId": "239834b3-6f1a-4525-a348-539a56497e75"
      },
      "source": [
        "import pandas as pd\n",
        "df1 = pd.read_table('/content/datasetSentences.txt')\n",
        "df1.head()"
      ],
      "execution_count": null,
      "outputs": [
        {
          "output_type": "execute_result",
          "data": {
            "text/html": [
              "<div>\n",
              "<style scoped>\n",
              "    .dataframe tbody tr th:only-of-type {\n",
              "        vertical-align: middle;\n",
              "    }\n",
              "\n",
              "    .dataframe tbody tr th {\n",
              "        vertical-align: top;\n",
              "    }\n",
              "\n",
              "    .dataframe thead th {\n",
              "        text-align: right;\n",
              "    }\n",
              "</style>\n",
              "<table border=\"1\" class=\"dataframe\">\n",
              "  <thead>\n",
              "    <tr style=\"text-align: right;\">\n",
              "      <th></th>\n",
              "      <th>sentence_index</th>\n",
              "      <th>sentence</th>\n",
              "    </tr>\n",
              "  </thead>\n",
              "  <tbody>\n",
              "    <tr>\n",
              "      <th>0</th>\n",
              "      <td>1</td>\n",
              "      <td>The Rock is destined to be the 21st Century 's...</td>\n",
              "    </tr>\n",
              "    <tr>\n",
              "      <th>1</th>\n",
              "      <td>2</td>\n",
              "      <td>The gorgeously elaborate continuation of `` Th...</td>\n",
              "    </tr>\n",
              "    <tr>\n",
              "      <th>2</th>\n",
              "      <td>3</td>\n",
              "      <td>Effective but too-tepid biopic</td>\n",
              "    </tr>\n",
              "    <tr>\n",
              "      <th>3</th>\n",
              "      <td>4</td>\n",
              "      <td>If you sometimes like to go to the movies to h...</td>\n",
              "    </tr>\n",
              "    <tr>\n",
              "      <th>4</th>\n",
              "      <td>5</td>\n",
              "      <td>Emerges as something rare , an issue movie tha...</td>\n",
              "    </tr>\n",
              "  </tbody>\n",
              "</table>\n",
              "</div>"
            ],
            "text/plain": [
              "   sentence_index                                           sentence\n",
              "0               1  The Rock is destined to be the 21st Century 's...\n",
              "1               2  The gorgeously elaborate continuation of `` Th...\n",
              "2               3                     Effective but too-tepid biopic\n",
              "3               4  If you sometimes like to go to the movies to h...\n",
              "4               5  Emerges as something rare , an issue movie tha..."
            ]
          },
          "metadata": {
            "tags": []
          },
          "execution_count": 1
        }
      ]
    },
    {
      "cell_type": "code",
      "metadata": {
        "id": "I3QudvDmas5q"
      },
      "source": [
        "#sentence_idx = pd.read_csv('/content/datasetSentences.txt', sep=\"\\t\").set_index('sentence_index')\n",
        "#sentence = pd.read_csv('/content/datasetSentences.txt', sep=\"\\t\").set_index('sentence_index')\n",
        "split = pd.read_csv('/content/datasetSplit.txt', sep=\",\").set_index('sentence_index')\n",
        "sentence = pd.read_csv('/content/datasetSentences.txt', sep=\"\\t\").set_index('sentence_index')\n",
        "\n",
        "#df = pd.concat([sentence_idx,sentence, lab],axis=1 ,sort=False)\n",
        "df = pd.concat([sentence, split],axis=1 ,sort=False)\n",
        "\n",
        "df.to_csv('/content/Combined_sentiment.csv', index=False)"
      ],
      "execution_count": null,
      "outputs": []
    },
    {
      "cell_type": "code",
      "metadata": {
        "id": "R7JdpCW-YbAG",
        "colab": {
          "base_uri": "https://localhost:8080/"
        },
        "outputId": "5f50660f-daa7-4985-e947-eaeb1fc64dcb"
      },
      "source": [
        "df.shape\n",
        "#1364 tweets, 2 columns, tweet and label"
      ],
      "execution_count": null,
      "outputs": [
        {
          "output_type": "execute_result",
          "data": {
            "text/plain": [
              "(11855, 2)"
            ]
          },
          "metadata": {
            "tags": []
          },
          "execution_count": 3
        }
      ]
    },
    {
      "cell_type": "code",
      "metadata": {
        "colab": {
          "base_uri": "https://localhost:8080/"
        },
        "id": "Gf7UswGhhibZ",
        "outputId": "cc5ad81d-718f-491a-e7ac-ea0b4e2a83c0"
      },
      "source": [
        "df.columns"
      ],
      "execution_count": null,
      "outputs": [
        {
          "output_type": "execute_result",
          "data": {
            "text/plain": [
              "Index(['sentence', 'splitset_label'], dtype='object')"
            ]
          },
          "metadata": {
            "tags": []
          },
          "execution_count": 4
        }
      ]
    },
    {
      "cell_type": "code",
      "metadata": {
        "id": "s2qWANwPPMz0"
      },
      "source": [
        "sentiment_label = pd.read_csv('/content/sentiment_labels.txt', sep=\"|\").set_index('phrase ids', 'sentiment values')\n",
        "dictionary = pd.read_csv('/content/dictionary.txt', sep=\"|\").set_index('!')\n",
        "sentiment_label.columns\n",
        "dictionary.columns\n",
        "df3 = pd.concat([sentiment_label, dictionary],axis=1 ,sort=False)"
      ],
      "execution_count": null,
      "outputs": []
    },
    {
      "cell_type": "code",
      "metadata": {
        "colab": {
          "base_uri": "https://localhost:8080/",
          "height": 402
        },
        "id": "3iYFJxSLTIZ8",
        "outputId": "b918bb8f-7954-4c5f-db51-2ae53dc15062"
      },
      "source": [
        "df3"
      ],
      "execution_count": null,
      "outputs": [
        {
          "output_type": "execute_result",
          "data": {
            "text/html": [
              "<div>\n",
              "<style scoped>\n",
              "    .dataframe tbody tr th:only-of-type {\n",
              "        vertical-align: middle;\n",
              "    }\n",
              "\n",
              "    .dataframe tbody tr th {\n",
              "        vertical-align: top;\n",
              "    }\n",
              "\n",
              "    .dataframe thead th {\n",
              "        text-align: right;\n",
              "    }\n",
              "</style>\n",
              "<table border=\"1\" class=\"dataframe\">\n",
              "  <thead>\n",
              "    <tr style=\"text-align: right;\">\n",
              "      <th></th>\n",
              "      <th>sentiment values</th>\n",
              "      <th>0</th>\n",
              "    </tr>\n",
              "  </thead>\n",
              "  <tbody>\n",
              "    <tr>\n",
              "      <th>0</th>\n",
              "      <td>0.50000</td>\n",
              "      <td>NaN</td>\n",
              "    </tr>\n",
              "    <tr>\n",
              "      <th>1</th>\n",
              "      <td>0.50000</td>\n",
              "      <td>NaN</td>\n",
              "    </tr>\n",
              "    <tr>\n",
              "      <th>2</th>\n",
              "      <td>0.44444</td>\n",
              "      <td>NaN</td>\n",
              "    </tr>\n",
              "    <tr>\n",
              "      <th>3</th>\n",
              "      <td>0.50000</td>\n",
              "      <td>NaN</td>\n",
              "    </tr>\n",
              "    <tr>\n",
              "      <th>4</th>\n",
              "      <td>0.42708</td>\n",
              "      <td>NaN</td>\n",
              "    </tr>\n",
              "    <tr>\n",
              "      <th>...</th>\n",
              "      <td>...</td>\n",
              "      <td>...</td>\n",
              "    </tr>\n",
              "    <tr>\n",
              "      <th>zoning ordinances to protect your community from the dullest science fiction</th>\n",
              "      <td>NaN</td>\n",
              "      <td>220441.0</td>\n",
              "    </tr>\n",
              "    <tr>\n",
              "      <th>zzzzzzzzz</th>\n",
              "      <td>NaN</td>\n",
              "      <td>179256.0</td>\n",
              "    </tr>\n",
              "    <tr>\n",
              "      <th>É</th>\n",
              "      <td>NaN</td>\n",
              "      <td>220443.0</td>\n",
              "    </tr>\n",
              "    <tr>\n",
              "      <th>É um passatempo descompromissado</th>\n",
              "      <td>NaN</td>\n",
              "      <td>220444.0</td>\n",
              "    </tr>\n",
              "    <tr>\n",
              "      <th>élan</th>\n",
              "      <td>NaN</td>\n",
              "      <td>220442.0</td>\n",
              "    </tr>\n",
              "  </tbody>\n",
              "</table>\n",
              "<p>478463 rows × 2 columns</p>\n",
              "</div>"
            ],
            "text/plain": [
              "                                                    sentiment values         0\n",
              "0                                                            0.50000       NaN\n",
              "1                                                            0.50000       NaN\n",
              "2                                                            0.44444       NaN\n",
              "3                                                            0.50000       NaN\n",
              "4                                                            0.42708       NaN\n",
              "...                                                              ...       ...\n",
              "zoning ordinances to protect your community fro...               NaN  220441.0\n",
              "zzzzzzzzz                                                        NaN  179256.0\n",
              "É                                                                NaN  220443.0\n",
              "É um passatempo descompromissado                                 NaN  220444.0\n",
              "élan                                                             NaN  220442.0\n",
              "\n",
              "[478463 rows x 2 columns]"
            ]
          },
          "metadata": {
            "tags": []
          },
          "execution_count": 6
        }
      ]
    },
    {
      "cell_type": "code",
      "metadata": {
        "id": "6TXx-9AhbGlv"
      },
      "source": [
        "df = pd.read_csv('/content/Combined_sentiment.csv')\n",
        "\n",
        "df['sentence'] = df.sentence.str.replace(\"'s\", '') # Removes nonalphabetic\n",
        "df['sentence'] = df.sentence.str.lower()\n",
        "\n",
        "df['sentence'] = df.sentence.str.replace('[^a-zA-Z ]', '') # Removes nonalphabetic\n",
        "df['sentence'] = df.sentence.str.replace('  ', '') # Removes double-space"
      ],
      "execution_count": null,
      "outputs": []
    },
    {
      "cell_type": "code",
      "metadata": {
        "colab": {
          "base_uri": "https://localhost:8080/",
          "height": 195
        },
        "id": "TtIiqhEjrCV2",
        "outputId": "745b4bfc-8e0c-4255-9462-237f8eafb863"
      },
      "source": [
        "df.head()"
      ],
      "execution_count": null,
      "outputs": [
        {
          "output_type": "execute_result",
          "data": {
            "text/html": [
              "<div>\n",
              "<style scoped>\n",
              "    .dataframe tbody tr th:only-of-type {\n",
              "        vertical-align: middle;\n",
              "    }\n",
              "\n",
              "    .dataframe tbody tr th {\n",
              "        vertical-align: top;\n",
              "    }\n",
              "\n",
              "    .dataframe thead th {\n",
              "        text-align: right;\n",
              "    }\n",
              "</style>\n",
              "<table border=\"1\" class=\"dataframe\">\n",
              "  <thead>\n",
              "    <tr style=\"text-align: right;\">\n",
              "      <th></th>\n",
              "      <th>sentence</th>\n",
              "      <th>splitset_label</th>\n",
              "    </tr>\n",
              "  </thead>\n",
              "  <tbody>\n",
              "    <tr>\n",
              "      <th>0</th>\n",
              "      <td>the rock is destined to be the st centurynewco...</td>\n",
              "      <td>1</td>\n",
              "    </tr>\n",
              "    <tr>\n",
              "      <th>1</th>\n",
              "      <td>the gorgeously elaborate continuation ofthe lo...</td>\n",
              "      <td>1</td>\n",
              "    </tr>\n",
              "    <tr>\n",
              "      <th>2</th>\n",
              "      <td>effective but tootepid biopic</td>\n",
              "      <td>2</td>\n",
              "    </tr>\n",
              "    <tr>\n",
              "      <th>3</th>\n",
              "      <td>if you sometimes like to go to the movies to h...</td>\n",
              "      <td>2</td>\n",
              "    </tr>\n",
              "    <tr>\n",
              "      <th>4</th>\n",
              "      <td>emerges as something rarean issue movie thatso...</td>\n",
              "      <td>2</td>\n",
              "    </tr>\n",
              "  </tbody>\n",
              "</table>\n",
              "</div>"
            ],
            "text/plain": [
              "                                            sentence  splitset_label\n",
              "0  the rock is destined to be the st centurynewco...               1\n",
              "1  the gorgeously elaborate continuation ofthe lo...               1\n",
              "2                      effective but tootepid biopic               2\n",
              "3  if you sometimes like to go to the movies to h...               2\n",
              "4  emerges as something rarean issue movie thatso...               2"
            ]
          },
          "metadata": {
            "tags": []
          },
          "execution_count": 8
        }
      ]
    },
    {
      "cell_type": "code",
      "metadata": {
        "id": "zqRsoF6xYdgl",
        "colab": {
          "base_uri": "https://localhost:8080/"
        },
        "outputId": "c5f2fbf0-133e-4088-fc73-5d333b73b392"
      },
      "source": [
        "df.splitset_label.value_counts()"
      ],
      "execution_count": null,
      "outputs": [
        {
          "output_type": "execute_result",
          "data": {
            "text/plain": [
              "1    8544\n",
              "2    2210\n",
              "3    1101\n",
              "Name: splitset_label, dtype: int64"
            ]
          },
          "metadata": {
            "tags": []
          },
          "execution_count": 9
        }
      ]
    },
    {
      "cell_type": "markdown",
      "metadata": {
        "id": "XJ6o_79ISSVb"
      },
      "source": [
        "## Defining Fields"
      ]
    },
    {
      "cell_type": "markdown",
      "metadata": {
        "id": "e63g08ijOrf7"
      },
      "source": [
        "Now we shall be defining LABEL as a LabelField, which is a subclass of Field that sets sequential to False (as it’s our numerical category class). TWEET is a standard Field object, where we have decided to use the spaCy tokenizer and convert all the text to lower‐ case."
      ]
    },
    {
      "cell_type": "code",
      "metadata": {
        "id": "qk8IP4SK1Lrp",
        "colab": {
          "base_uri": "https://localhost:8080/"
        },
        "outputId": "a6df8fb6-a55d-4a8e-cfe0-c2e2b9de7749"
      },
      "source": [
        "# Import Library\n",
        "import random\n",
        "import torch, torchtext\n",
        "from torchtext import data \n",
        "\n",
        "# Manual Seed\n",
        "SEED = 43\n",
        "torch.manual_seed(SEED)"
      ],
      "execution_count": null,
      "outputs": [
        {
          "output_type": "execute_result",
          "data": {
            "text/plain": [
              "<torch._C.Generator at 0x7ff857ed8d08>"
            ]
          },
          "metadata": {
            "tags": []
          },
          "execution_count": 10
        }
      ]
    },
    {
      "cell_type": "markdown",
      "metadata": {
        "id": "ZJeN6VLt3nS-"
      },
      "source": [
        "Field class models common text processing datatypes that can be represented by tensors.  It holds a Vocab object that defines the set of possible values for elements of the field and their corresponding numerical representations.\n",
        "The Field object also holds other parameters relating to how a datatype should be numericalized, such as a tokenization method and the kind of Tensor that should be produced.\n",
        "\n",
        "Attributes:\n",
        "sequential: Whether the datatype represents sequential data. If False, no tokenization is applied. Default: True.\n",
        "use_vocab: Whether to use a Vocab object. If False, the data in this field should already be numerical. Default: True.\n",
        "init_token: A token that will be prepended to every example using this field, or None for no initial token. Default: None.\n",
        "fix_length: A fixed length that all examples using this field will bepadded to, or None for flexible sequence lengths. Default: None.\n",
        "dtype: The torch.dtype class that represents a batch of examples of this kind of data. Default: torch.long.\n",
        "preprocessing: The Pipeline that will be applied to examples using this field after tokenizing but before numericalizing. Many Datasets replace this attribute with a custom preprocessor.Default: None.\n",
        "postprocessing: A Pipeline that will be applied to examples using this field after numericalizing but before the numbers are turned\n",
        "into a Tensor. The pipeline function takes the batch as a list, and the field's Vocab. Default: None.\n",
        "lower: Whether to lowercase the text in this field. Default: False.\n",
        "tokenize: The function used to tokenize strings using this field into sequential examples. If \"spacy\", the SpaCy tokenizer is used. If a non-serializable function is passed as an argument,the field will not be able to be serialized. Default: string.split.\n",
        "tokenizer_language: The language of the tokenizer to be constructed. Various languages currently supported only in SpaCy.\n",
        "include_lengths: Whether to return a tuple of a padded minibatch and a list containing the lengths of each examples, or just a padded minibatch. Default: False.\n",
        "batch_first: Whether to produce tensors with the batch dimension first.Default: False.\n",
        "pad_token: The string token used as padding. Default: \"<pad>\".\n",
        "unk_token: The string token used to represent OOV words. Default: \"<unk>\".\n",
        "pad_first: Do the padding of the sequence at the beginning. Default: False.\n",
        "truncate_first: Do the truncating of the sequence at the beginning. Default: False\n",
        "stop_words: Tokens to discard during the preprocessing step. Default: None\n",
        "is_target: Whether this field is a target variable. Affects iteration over batches. Default: False\n",
        "\n",
        "A label field is a shallow wrapper around a standard field designed to hold labels for a classification task. Its only use is to set the unk_token and sequential to `None` by default"
      ]
    },
    {
      "cell_type": "code",
      "metadata": {
        "colab": {
          "base_uri": "https://localhost:8080/"
        },
        "id": "l7IVgHwqfG6q",
        "outputId": "3b11e955-1292-4fbb-f642-65aa008c6f47"
      },
      "source": [
        "# Import Library\r\n",
        "import random\r\n",
        "import torch, torchtext\r\n",
        "from torchtext import data \r\n",
        "\r\n",
        "# Manual Seed\r\n",
        "SEED = 43\r\n",
        "torch.manual_seed(SEED)"
      ],
      "execution_count": null,
      "outputs": [
        {
          "output_type": "execute_result",
          "data": {
            "text/plain": [
              "<torch._C.Generator at 0x7ff857ed8d08>"
            ]
          },
          "metadata": {
            "tags": []
          },
          "execution_count": 11
        }
      ]
    },
    {
      "cell_type": "code",
      "metadata": {
        "id": "u6bKQax2Mf_U"
      },
      "source": [
        "sentence = data.Field(sequential = True, tokenize = 'spacy', batch_first =True, include_lengths=True)\n",
        "split = data.LabelField(tokenize ='spacy', is_target=True, batch_first =True, sequential =False)"
      ],
      "execution_count": null,
      "outputs": []
    },
    {
      "cell_type": "markdown",
      "metadata": {
        "id": "mX-lYIe_O7Vy"
      },
      "source": [
        "Having defined those fields, we now need to produce a list that maps them onto the list of rows that are in the CSV:"
      ]
    },
    {
      "cell_type": "code",
      "metadata": {
        "id": "VawdWq36O6td"
      },
      "source": [
        "fields = [('tweets', sentence),('labels',split)]\n"
      ],
      "execution_count": null,
      "outputs": []
    },
    {
      "cell_type": "markdown",
      "metadata": {
        "id": "ZbtZ-Ph2P1xL"
      },
      "source": [
        "Armed with our declared fields, lets convert from pandas to list to torchtext. We could also use TabularDataset to apply that definition to the CSV directly but showing an alternative approach too."
      ]
    },
    {
      "cell_type": "code",
      "metadata": {
        "id": "L3OLcJ5B7rHz",
        "colab": {
          "base_uri": "https://localhost:8080/"
        },
        "outputId": "65439b0a-d20f-4e2c-a533-bbeb536a31ba"
      },
      "source": [
        "example = [data.Example.fromlist([df.sentence[i],df.splitset_label[i]], fields) for i in range(df.shape[0])] \n",
        "vars(example[10])"
      ],
      "execution_count": null,
      "outputs": [
        {
          "output_type": "execute_result",
          "data": {
            "text/plain": [
              "{'labels': 2,\n",
              " 'tweets': ['take',\n",
              "  'care',\n",
              "  'of',\n",
              "  'my',\n",
              "  'cat',\n",
              "  'offers',\n",
              "  'a',\n",
              "  'refreshingly',\n",
              "  'different',\n",
              "  'slice',\n",
              "  'of',\n",
              "  'asian',\n",
              "  'cinema']}"
            ]
          },
          "metadata": {
            "tags": []
          },
          "execution_count": 14
        }
      ]
    },
    {
      "cell_type": "code",
      "metadata": {
        "id": "nT-flpH-P1cd",
        "colab": {
          "base_uri": "https://localhost:8080/"
        },
        "outputId": "8235f157-fdaf-4de1-82ae-9fedb45582ec"
      },
      "source": [
        "# Creating dataset\n",
        "#twitterDataset = data.TabularDataset(path=\"tweets.csv\", format=\"CSV\", fields=fields, skip_header=True)\n",
        "\n",
        "stanfordDataset = data.Dataset(example, fields)\n",
        "vars(stanfordDataset[10])"
      ],
      "execution_count": null,
      "outputs": [
        {
          "output_type": "execute_result",
          "data": {
            "text/plain": [
              "{'labels': 2,\n",
              " 'tweets': ['take',\n",
              "  'care',\n",
              "  'of',\n",
              "  'my',\n",
              "  'cat',\n",
              "  'offers',\n",
              "  'a',\n",
              "  'refreshingly',\n",
              "  'different',\n",
              "  'slice',\n",
              "  'of',\n",
              "  'asian',\n",
              "  'cinema']}"
            ]
          },
          "metadata": {
            "tags": []
          },
          "execution_count": 15
        }
      ]
    },
    {
      "cell_type": "markdown",
      "metadata": {
        "id": "g6ZnyCPaR08F"
      },
      "source": [
        "Finally, we can split into training, testing, and validation sets by using the split() method:"
      ]
    },
    {
      "cell_type": "code",
      "metadata": {
        "id": "uPYXyuKhRpBk"
      },
      "source": [
        "(train, valid) = stanfordDataset.split(split_ratio=[0.85, 0.15], random_state=random.seed(SEED))"
      ],
      "execution_count": null,
      "outputs": []
    },
    {
      "cell_type": "code",
      "metadata": {
        "id": "ykvsCGQMR6UD",
        "colab": {
          "base_uri": "https://localhost:8080/"
        },
        "outputId": "56b48e6e-9f8d-472d-9da6-5537685ce372"
      },
      "source": [
        "(len(train), len(valid))"
      ],
      "execution_count": null,
      "outputs": [
        {
          "output_type": "execute_result",
          "data": {
            "text/plain": [
              "(10077, 1778)"
            ]
          },
          "metadata": {
            "tags": []
          },
          "execution_count": 17
        }
      ]
    },
    {
      "cell_type": "code",
      "metadata": {
        "id": "sLYXxcCjgqP2"
      },
      "source": [
        "#10077+1778"
      ],
      "execution_count": null,
      "outputs": []
    },
    {
      "cell_type": "markdown",
      "metadata": {
        "id": "kix8P2IKSBaV"
      },
      "source": [
        "An example from the dataset:"
      ]
    },
    {
      "cell_type": "code",
      "metadata": {
        "colab": {
          "base_uri": "https://localhost:8080/"
        },
        "id": "O_B3w5Kf60jR",
        "outputId": "f2040e8e-2454-40f6-a3b8-d6d5b1503a34"
      },
      "source": [
        "vars(valid.examples[14])"
      ],
      "execution_count": null,
      "outputs": [
        {
          "output_type": "execute_result",
          "data": {
            "text/plain": [
              "{'labels': 3,\n",
              " 'tweets': ['a',\n",
              "  'biggorgeoussprawling',\n",
              "  'swashbuckler',\n",
              "  'that',\n",
              "  'delivers',\n",
              "  'its',\n",
              "  'diversions',\n",
              "  'in',\n",
              "  'granduncomplicated',\n",
              "  'fashion']}"
            ]
          },
          "metadata": {
            "tags": []
          },
          "execution_count": 19
        }
      ]
    },
    {
      "cell_type": "code",
      "metadata": {
        "id": "dUpEOQruR9JL",
        "colab": {
          "base_uri": "https://localhost:8080/"
        },
        "outputId": "3e5390a5-33f3-4838-b78c-9705c41506b4"
      },
      "source": [
        "vars(train.examples[10])\n"
      ],
      "execution_count": null,
      "outputs": [
        {
          "output_type": "execute_result",
          "data": {
            "text/plain": [
              "{'labels': 1,\n",
              " 'tweets': ['in',\n",
              "  'other',\n",
              "  'wordsabout',\n",
              "  'as',\n",
              "  'bad',\n",
              "  'a',\n",
              "  'film',\n",
              "  'you',\n",
              "  're',\n",
              "  'likely',\n",
              "  'to',\n",
              "  'see',\n",
              "  'all',\n",
              "  'year']}"
            ]
          },
          "metadata": {
            "tags": []
          },
          "execution_count": 20
        }
      ]
    },
    {
      "cell_type": "markdown",
      "metadata": {
        "id": "AKdllP3FST4N"
      },
      "source": [
        "## Building Vocabulary"
      ]
    },
    {
      "cell_type": "markdown",
      "metadata": {
        "id": "SuvWQ-SpSmSz"
      },
      "source": [
        "At this point we would have built a one-hot encoding of each word that is present in the dataset—a rather tedious process. Thankfully, torchtext will do this for us, and will also allow a max_size parameter to be passed in to limit the vocabu‐ lary to the most common words. This is normally done to prevent the construction of a huge, memory-hungry model. We don’t want our GPUs too overwhelmed, after all. \n",
        "\n",
        "Let’s limit the vocabulary to a maximum of 5000 words in our training set:\n"
      ]
    },
    {
      "cell_type": "code",
      "metadata": {
        "id": "mx955u93SGeY"
      },
      "source": [
        "sentence.build_vocab(train)\n",
        "split.build_vocab(train)"
      ],
      "execution_count": null,
      "outputs": []
    },
    {
      "cell_type": "markdown",
      "metadata": {
        "id": "xvyEeEjXTGhX"
      },
      "source": [
        "By default, torchtext will add two more special tokens, <unk> for unknown words and <pad>, a padding token that will be used to pad all our text to roughly the same size to help with efficient batching on the GPU."
      ]
    },
    {
      "cell_type": "code",
      "metadata": {
        "id": "rA3tIESdcJdN",
        "colab": {
          "base_uri": "https://localhost:8080/"
        },
        "outputId": "db8e4fcc-a8fa-42c2-8601-c10fe95100e2"
      },
      "source": [
        "print('Size of input vocab : ', len(sentence.vocab))\n",
        "print('Size of label vocab : ', len(split.vocab))\n",
        "print('Top 20 words appreared repeatedly :', list(sentence.vocab.freqs.most_common(20)))\n",
        "print('Labels : ', split.vocab.stoi)"
      ],
      "execution_count": null,
      "outputs": [
        {
          "output_type": "stream",
          "text": [
            "Size of input vocab :  26545\n",
            "Size of label vocab :  3\n",
            "Top 20 words appreared repeatedly : [('the', 7944), ('a', 5730), ('of', 5043), ('and', 4266), ('to', 3524), ('is', 2762), ('in', 2089), ('that', 1954), ('it', 1662), ('as', 1420), ('with', 1170), ('for', 1162), ('its', 1065), ('this', 1057), ('an', 1051), ('film', 1035), ('movie', 937), ('you', 856), ('nt', 784), ('be', 779)]\n",
            "Labels :  defaultdict(<function _default_unk_index at 0x7ff80783fd08>, {1: 0, 2: 1, 3: 2})\n"
          ],
          "name": "stdout"
        }
      ]
    },
    {
      "cell_type": "markdown",
      "metadata": {
        "id": "rwjD2-ebTeUX"
      },
      "source": [
        "**Lots of stopwords!!**"
      ]
    },
    {
      "cell_type": "markdown",
      "metadata": {
        "id": "sLWW221gTpNs"
      },
      "source": [
        "Now we need to create a data loader to feed into our training loop. Torchtext provides the BucketIterator method that will produce what it calls a Batch, which is almost, but not quite, like the data loader we used on images."
      ]
    },
    {
      "cell_type": "markdown",
      "metadata": {
        "id": "EQqMhMoDUDmn"
      },
      "source": [
        "But at first declare the device we are using."
      ]
    },
    {
      "cell_type": "code",
      "metadata": {
        "id": "Zfo2QhGJUK4l"
      },
      "source": [
        "device = torch.device(\"cuda\" if torch.cuda.is_available() else \"cpu\")"
      ],
      "execution_count": null,
      "outputs": []
    },
    {
      "cell_type": "code",
      "metadata": {
        "id": "zK2ORoqdTNsM"
      },
      "source": [
        "train_iterator, valid_iterator = data.BucketIterator.splits((train, valid), batch_size = 32, \n",
        "                                                            sort_key = lambda x: len(x.tweets),\n",
        "                                                            sort_within_batch=True, device = device)"
      ],
      "execution_count": null,
      "outputs": []
    },
    {
      "cell_type": "markdown",
      "metadata": {
        "id": "Gg7gTFQO4fby"
      },
      "source": [
        "Save the vocabulary for later use"
      ]
    },
    {
      "cell_type": "code",
      "metadata": {
        "id": "niE9Cc6-2bD_"
      },
      "source": [
        "import os, pickle\n",
        "with open('tokenizer.pkl', 'wb') as tokens: \n",
        "    pickle.dump(sentence.vocab.stoi, tokens)"
      ],
      "execution_count": null,
      "outputs": []
    },
    {
      "cell_type": "markdown",
      "metadata": {
        "id": "1AbsQwqkVyAy"
      },
      "source": [
        "## Defining Our Model"
      ]
    },
    {
      "cell_type": "markdown",
      "metadata": {
        "id": "E4PED4HJWH4t"
      },
      "source": [
        "We use the Embedding and LSTM modules in PyTorch to build a simple model for classifying tweets.\n",
        "\n",
        "In this model we create three layers. \n",
        "1. First, the words in our tweets are pushed into an Embedding layer, which we have established as a 300-dimensional vector embedding. \n",
        "2. That’s then fed into a 2 stacked-LSTMs with 100 hidden features (again, we’re compressing down from the 300-dimensional input like we did with images). We are using 2 LSTMs for using the dropout.\n",
        "3. Finally, the output of the LSTM (the final hidden state after processing the incoming tweet) is pushed through a standard fully connected layer with three outputs to correspond to our three possible classes (negative, positive, or neutral)."
      ]
    },
    {
      "cell_type": "code",
      "metadata": {
        "id": "43pVRccMT0bT"
      },
      "source": [
        "import torch.nn as nn\n",
        "import torch.nn.functional as F\n",
        "\n",
        "class classifier(nn.Module):\n",
        "    \n",
        "    # Define all the layers used in model\n",
        "    def __init__(self, vocab_size, embedding_dim, hidden_dim, output_dim, n_layers, dropout):\n",
        "        \n",
        "        super().__init__()          \n",
        "        \n",
        "        # Embedding layer\n",
        "        self.embedding = nn.Embedding(vocab_size, embedding_dim)\n",
        "        \n",
        "        # LSTM layer\n",
        "        self.encoder = nn.LSTM(embedding_dim, \n",
        "                           hidden_dim, \n",
        "                           num_layers=n_layers, \n",
        "                           dropout=dropout,\n",
        "                           batch_first=True)\n",
        "        # try using nn.GRU or nn.RNN here and compare their performances\n",
        "        # try bidirectional and compare their performances\n",
        "        \n",
        "        # Dense layer\n",
        "        self.fc = nn.Linear(hidden_dim, output_dim)\n",
        "        \n",
        "    def forward(self, text, text_lengths):\n",
        "        \n",
        "        # text = [batch size, sent_length]\n",
        "        embedded = self.embedding(text)\n",
        "        # embedded = [batch size, sent_len, emb dim]\n",
        "      \n",
        "        # packed sequence\n",
        "        packed_embedded = nn.utils.rnn.pack_padded_sequence(embedded, text_lengths.cpu(), batch_first=True)\n",
        "        \n",
        "        packed_output, (hidden, cell) = self.encoder(packed_embedded)\n",
        "        #hidden = [batch size, num layers * num directions,hid dim]\n",
        "        #cell = [batch size, num layers * num directions,hid dim]\n",
        "    \n",
        "        # Hidden = [batch size, hid dim * num directions]\n",
        "        dense_outputs = self.fc(hidden)   \n",
        "        \n",
        "        # Final activation function softmax\n",
        "        output = F.softmax(dense_outputs[0], dim=1)\n",
        "            \n",
        "        return output"
      ],
      "execution_count": null,
      "outputs": []
    },
    {
      "cell_type": "code",
      "metadata": {
        "id": "rwBoGE_X_Fl8"
      },
      "source": [
        "# Define hyperparameters\n",
        "size_of_vocab = len(sentence.vocab)\n",
        "embedding_dim = 300\n",
        "num_hidden_nodes = 100\n",
        "num_output_nodes = 3\n",
        "num_layers = 2\n",
        "dropout = 0.2\n",
        "\n",
        "# Instantiate the model\n",
        "model = classifier(size_of_vocab, embedding_dim, num_hidden_nodes, num_output_nodes, num_layers, dropout = dropout)"
      ],
      "execution_count": null,
      "outputs": []
    },
    {
      "cell_type": "code",
      "metadata": {
        "id": "O-pOMqzJ3eTv",
        "colab": {
          "base_uri": "https://localhost:8080/"
        },
        "outputId": "851227e7-1e24-4be0-e744-3753855bc038"
      },
      "source": [
        "print(model)\n",
        "\n",
        "#No. of trianable parameters\n",
        "def count_parameters(model):\n",
        "    return sum(p.numel() for p in model.parameters() if p.requires_grad)\n",
        "    \n",
        "print(f'The model has {count_parameters(model):,} trainable parameters')"
      ],
      "execution_count": null,
      "outputs": [
        {
          "output_type": "stream",
          "text": [
            "classifier(\n",
            "  (embedding): Embedding(26545, 300)\n",
            "  (encoder): LSTM(300, 100, num_layers=2, batch_first=True, dropout=0.2)\n",
            "  (fc): Linear(in_features=100, out_features=3, bias=True)\n",
            ")\n",
            "The model has 8,205,403 trainable parameters\n"
          ],
          "name": "stdout"
        }
      ]
    },
    {
      "cell_type": "markdown",
      "metadata": {
        "id": "eXajorf5Xz7t"
      },
      "source": [
        "## Model Training and Evaluation"
      ]
    },
    {
      "cell_type": "markdown",
      "metadata": {
        "id": "PrE9RpMtZ1Vs"
      },
      "source": [
        "First define the optimizer and loss functions"
      ]
    },
    {
      "cell_type": "code",
      "metadata": {
        "id": "-u86JWdlXvu5"
      },
      "source": [
        "import torch.optim as optim\n",
        "\n",
        "# define optimizer and loss\n",
        "optimizer = optim.Adam(model.parameters(), lr=2e-4)\n",
        "criterion = nn.CrossEntropyLoss()\n",
        "\n",
        "# define metric\n",
        "def binary_accuracy(preds, y):\n",
        "    #round predictions to the closest integer\n",
        "    _, predictions = torch.max(preds, 1)\n",
        "    \n",
        "    correct = (predictions == y).float() \n",
        "    acc = correct.sum() / len(correct)\n",
        "    return acc\n",
        "    \n",
        "# push to cuda if available\n",
        "model = model.to(device)\n",
        "criterion = criterion.to(device)"
      ],
      "execution_count": null,
      "outputs": []
    },
    {
      "cell_type": "markdown",
      "metadata": {
        "id": "3VCJtNb3Zt8w"
      },
      "source": [
        "The main thing to be aware of in this new training loop is that we have to reference `batch.tweets` and `batch.labels` to get the particular fields we’re interested in; they don’t fall out quite as nicely from the enumerator as they do in torchvision."
      ]
    },
    {
      "cell_type": "markdown",
      "metadata": {
        "id": "2WjEPLKsAiS_"
      },
      "source": [
        "**Training Loop**"
      ]
    },
    {
      "cell_type": "code",
      "metadata": {
        "id": "HDWNnGK3Y5oJ"
      },
      "source": [
        "def train(model, iterator, optimizer, criterion):\n",
        "    \n",
        "    # initialize every epoch \n",
        "    epoch_loss = 0\n",
        "    epoch_acc = 0\n",
        "    \n",
        "    # set the model in training phase\n",
        "    model.train()  \n",
        "    \n",
        "    for batch in iterator:\n",
        "        \n",
        "        # resets the gradients after every batch\n",
        "        optimizer.zero_grad()   \n",
        "        \n",
        "        # retrieve text and no. of words\n",
        "        tweet, tweet_lengths = batch.tweets   \n",
        "        \n",
        "        # convert to 1D tensor\n",
        "        predictions = model(tweet, tweet_lengths).squeeze()  \n",
        "        \n",
        "        # compute the loss\n",
        "        loss = criterion(predictions, batch.labels)        \n",
        "        \n",
        "        # compute the binary accuracy\n",
        "        acc = binary_accuracy(predictions, batch.labels)   \n",
        "        \n",
        "        # backpropage the loss and compute the gradients\n",
        "        loss.backward()       \n",
        "        \n",
        "        # update the weights\n",
        "        optimizer.step()      \n",
        "        \n",
        "        # loss and accuracy\n",
        "        epoch_loss += loss.item()  \n",
        "        epoch_acc += acc.item()    \n",
        "        \n",
        "    return epoch_loss / len(iterator), epoch_acc / len(iterator)"
      ],
      "execution_count": null,
      "outputs": []
    },
    {
      "cell_type": "markdown",
      "metadata": {
        "id": "CZcHhkkvAsCt"
      },
      "source": [
        "**Evaluation Loop**"
      ]
    },
    {
      "cell_type": "code",
      "metadata": {
        "id": "zHEe-zSVAriL"
      },
      "source": [
        "def evaluate(model, iterator, criterion):\n",
        "    \n",
        "    # initialize every epoch\n",
        "    epoch_loss = 0\n",
        "    epoch_acc = 0\n",
        "\n",
        "    # deactivating dropout layers\n",
        "    model.eval()\n",
        "    \n",
        "    # deactivates autograd\n",
        "    with torch.no_grad():\n",
        "    \n",
        "        for batch in iterator:\n",
        "        \n",
        "            # retrieve text and no. of words\n",
        "            tweet, tweet_lengths = batch.tweets\n",
        "            \n",
        "            # convert to 1d tensor\n",
        "            predictions = model(tweet, tweet_lengths).squeeze()\n",
        "            \n",
        "            # compute loss and accuracy\n",
        "            loss = criterion(predictions, batch.labels)\n",
        "            acc = binary_accuracy(predictions, batch.labels)\n",
        "            \n",
        "            # keep track of loss and accuracy\n",
        "            epoch_loss += loss.item()\n",
        "            epoch_acc += acc.item()\n",
        "        \n",
        "    return epoch_loss / len(iterator), epoch_acc / len(iterator)"
      ],
      "execution_count": null,
      "outputs": []
    },
    {
      "cell_type": "markdown",
      "metadata": {
        "id": "L6LJFW7HaJoV"
      },
      "source": [
        "**Let's Train and Evaluate**"
      ]
    },
    {
      "cell_type": "code",
      "metadata": {
        "id": "tq330XlnaEU9",
        "colab": {
          "base_uri": "https://localhost:8080/"
        },
        "outputId": "534e24b7-e500-4cfc-89a3-36e62abc327b"
      },
      "source": [
        "N_EPOCHS = 10\n",
        "best_valid_loss = float('inf')\n",
        "\n",
        "for epoch in range(N_EPOCHS):\n",
        "     \n",
        "    # train the model\n",
        "    train_loss, train_acc = train(model, train_iterator, optimizer, criterion)\n",
        "    \n",
        "    # evaluate the model\n",
        "    valid_loss, valid_acc = evaluate(model, valid_iterator, criterion)\n",
        "    \n",
        "    # save the best model\n",
        "    if valid_loss < best_valid_loss:\n",
        "        best_valid_loss = valid_loss\n",
        "        torch.save(model.state_dict(), 'saved_weights.pt')\n",
        "    \n",
        "    print(f'\\tTrain Loss: {train_loss:.3f} | Train Acc: {train_acc*100:.2f}%')\n",
        "    print(f'\\t Val. Loss: {valid_loss:.3f} |  Val. Acc: {valid_acc*100:.2f}% \\n')"
      ],
      "execution_count": null,
      "outputs": [
        {
          "output_type": "stream",
          "text": [
            "\tTrain Loss: 0.915 | Train Acc: 68.00%\n",
            "\t Val. Loss: 0.836 |  Val. Acc: 72.34% \n",
            "\n",
            "\tTrain Loss: 0.838 | Train Acc: 71.99%\n",
            "\t Val. Loss: 0.833 |  Val. Acc: 72.34% \n",
            "\n",
            "\tTrain Loss: 0.835 | Train Acc: 72.01%\n",
            "\t Val. Loss: 0.832 |  Val. Acc: 72.34% \n",
            "\n",
            "\tTrain Loss: 0.833 | Train Acc: 72.03%\n",
            "\t Val. Loss: 0.831 |  Val. Acc: 72.34% \n",
            "\n",
            "\tTrain Loss: 0.831 | Train Acc: 72.12%\n",
            "\t Val. Loss: 0.831 |  Val. Acc: 72.34% \n",
            "\n",
            "\tTrain Loss: 0.830 | Train Acc: 72.32%\n",
            "\t Val. Loss: 0.831 |  Val. Acc: 72.23% \n",
            "\n",
            "\tTrain Loss: 0.828 | Train Acc: 72.51%\n",
            "\t Val. Loss: 0.831 |  Val. Acc: 72.23% \n",
            "\n",
            "\tTrain Loss: 0.827 | Train Acc: 72.79%\n",
            "\t Val. Loss: 0.831 |  Val. Acc: 72.28% \n",
            "\n",
            "\tTrain Loss: 0.826 | Train Acc: 72.91%\n",
            "\t Val. Loss: 0.831 |  Val. Acc: 72.23% \n",
            "\n",
            "\tTrain Loss: 0.824 | Train Acc: 73.04%\n",
            "\t Val. Loss: 0.831 |  Val. Acc: 72.23% \n",
            "\n"
          ],
          "name": "stdout"
        }
      ]
    },
    {
      "cell_type": "markdown",
      "metadata": {
        "id": "LZgzB0ZkHVTI"
      },
      "source": [
        "## Model Testing"
      ]
    },
    {
      "cell_type": "code",
      "metadata": {
        "id": "aZZfnWo0abRx"
      },
      "source": [
        "#load weights and tokenizer\n",
        "\n",
        "path='./saved_weights.pt'\n",
        "model.load_state_dict(torch.load(path));\n",
        "model.eval();\n",
        "tokenizer_file = open('./tokenizer.pkl', 'rb')\n",
        "tokenizer = pickle.load(tokenizer_file)\n",
        "\n",
        "#inference \n",
        "\n",
        "import spacy\n",
        "nlp = spacy.load('en')\n",
        "\n",
        "def classify_tweet(tweet):\n",
        "    \n",
        "    categories = {0: \"Negative\", 1:\"Positive\", 2:\"Neutral\"}\n",
        "    \n",
        "    # tokenize the tweet \n",
        "    tokenized = [tok.text for tok in nlp.tokenizer(tweet)] \n",
        "    # convert to integer sequence using predefined tokenizer dictionary\n",
        "    indexed = [tokenizer[t] for t in tokenized]        \n",
        "    # compute no. of words        \n",
        "    length = [len(indexed)]\n",
        "    # convert to tensor                                    \n",
        "    tensor = torch.LongTensor(indexed).to(device)   \n",
        "    # reshape in form of batch, no. of words           \n",
        "    tensor = tensor.unsqueeze(1).T  \n",
        "    # convert to tensor                          \n",
        "    length_tensor = torch.LongTensor(length)\n",
        "    # Get the model prediction                  \n",
        "    prediction = model(tensor, length_tensor)\n",
        "\n",
        "    _, pred = torch.max(prediction, 1) \n",
        "    \n",
        "    return categories[pred.item()]"
      ],
      "execution_count": null,
      "outputs": []
    },
    {
      "cell_type": "code",
      "metadata": {
        "id": "yTkHLEipIlM9",
        "colab": {
          "base_uri": "https://localhost:8080/",
          "height": 35
        },
        "outputId": "a65ac9c6-2868-48e2-abc0-f8e79117e618"
      },
      "source": [
        "classify_tweet(\"Take Care of My Cat offers a refreshingly different slice of Asian cinema \")"
      ],
      "execution_count": null,
      "outputs": [
        {
          "output_type": "execute_result",
          "data": {
            "application/vnd.google.colaboratory.intrinsic+json": {
              "type": "string"
            },
            "text/plain": [
              "'Negative'"
            ]
          },
          "metadata": {
            "tags": []
          },
          "execution_count": 34
        }
      ]
    },
    {
      "cell_type": "code",
      "metadata": {
        "colab": {
          "base_uri": "https://localhost:8080/",
          "height": 35
        },
        "id": "bPMGLoys6MH5",
        "outputId": "1d5b17b8-e75f-48ed-f495-a420be88106f"
      },
      "source": [
        "classify_tweet(\"This is a good test\")"
      ],
      "execution_count": null,
      "outputs": [
        {
          "output_type": "execute_result",
          "data": {
            "application/vnd.google.colaboratory.intrinsic+json": {
              "type": "string"
            },
            "text/plain": [
              "'Negative'"
            ]
          },
          "metadata": {
            "tags": []
          },
          "execution_count": 35
        }
      ]
    },
    {
      "cell_type": "markdown",
      "metadata": {
        "id": "WVjCuKK_LVEF"
      },
      "source": [
        "## Discussion on Data Augmentation Techniques \n",
        "\n",
        "You might wonder exactly how you can augment text data. After all, you can’t really flip it horizontally as you can an image! :D \n",
        "\n",
        "In contrast to data augmentation in images, augmentation techniques on data is very specific to final product you are building. As its general usage on any type of textual data doesn't provides a significant performance boost, that's why unlike torchvision, torchtext doesn’t offer a augmentation pipeline. Due to powerful models as transformers, augmentation tecnhiques are not so preferred now-a-days. But its better to know about some techniques with text that will provide your model with a little more information for training. \n",
        "\n",
        "### Synonym Replacement\n",
        "\n",
        "First, you could replace words in the sentence with synonyms, like so:\n",
        "\n",
        "    The dog slept on the mat\n",
        "\n",
        "could become\n",
        "\n",
        "    The dog slept on the rug\n",
        "\n",
        "Aside from the dog's insistence that a rug is much softer than a mat, the meaning of the sentence hasn’t changed. But mat and rug will be mapped to different indices in the vocabulary, so the model will learn that the two sentences map to the same label, and hopefully that there’s a connection between those two words, as everything else in the sentences is the same."
      ]
    },
    {
      "cell_type": "markdown",
      "metadata": {
        "id": "T_uEfWJpL6Nq"
      },
      "source": [
        "### Random Insertion\n",
        "A random insertion technique looks at a sentence and then randomly inserts synonyms of existing non-stopwords into the sentence n times. Assuming you have a way of getting a synonym of a word and a way of eliminating stopwords (common words such as and, it, the, etc.), shown, but not implemented, in this function via get_synonyms() and get_stopwords(), an implementation of this would be as follows:\n"
      ]
    },
    {
      "cell_type": "code",
      "metadata": {
        "id": "7Alm5D7WIvAC"
      },
      "source": [
        "def random_insertion(sentence, n): \n",
        "    words = remove_stopwords(sentence) \n",
        "    for _ in range(n):\n",
        "        new_synonym = get_synonyms(random.choice(words))\n",
        "        sentence.insert(randrange(len(sentence)+1), new_synonym) \n",
        "    return sentence"
      ],
      "execution_count": null,
      "outputs": []
    },
    {
      "cell_type": "markdown",
      "metadata": {
        "id": "gqLWzwJ3Mm8h"
      },
      "source": [
        "## Random Deletion\n",
        "As the name suggests, random deletion deletes words from a sentence. Given a probability parameter p, it will go through the sentence and decide whether to delete a word or not based on that random probability. Consider of it as pixel dropouts while treating images."
      ]
    },
    {
      "cell_type": "code",
      "metadata": {
        "id": "-7Dz7JJfMqyC"
      },
      "source": [
        "def random_deletion(words, p=0.5):\n",
        "    words.split(' ') \n",
        "    if len(words) == 1: # return if single word\n",
        "        return ''.join(words)\n",
        "    remaining = list(filter(lambda x: random.uniform(0,1) > p,words)) \n",
        "    if len(remaining) == 0: # if not left, sample a random word\n",
        "        return ''.join([random.choice(words)]) \n",
        "    else:\n",
        "        return ''.join([i for i in remaining])"
      ],
      "execution_count": null,
      "outputs": []
    },
    {
      "cell_type": "markdown",
      "metadata": {
        "id": "zOIbi5WzO5OU"
      },
      "source": [
        "### Random Swap\n",
        "The random swap augmentation takes a sentence and then swaps words within it n times, with each iteration working on the previously swapped sentence. Here we sample two random numbers based on the length of the sentence, and then just keep swapping until we hit n."
      ]
    },
    {
      "cell_type": "code",
      "metadata": {
        "id": "LnkbG15HO3Yj"
      },
      "source": [
        "def random_swap(sentence, n=5):\n",
        "  new_sent = sentence.split(' ')\n",
        "  #print(new_sent)\n",
        "  length = range(len(new_sent))\n",
        "  #print(length) \n",
        "  for _ in range(n):\n",
        "      idx1, idx2 = random.sample(length, 2)\n",
        "      #print(idx1, idx2)\n",
        "      new_sent[idx1], new_sent[idx2] = new_sent[idx2], new_sent[idx1]\n",
        "      listToStr = ' '.join([str(elem) for elem in new_sent])  \n",
        "  return listToStr"
      ],
      "execution_count": null,
      "outputs": []
    },
    {
      "cell_type": "markdown",
      "metadata": {
        "id": "599NpwfMR5Vm"
      },
      "source": [
        "For more on this please go through this [paper](https://arxiv.org/pdf/1901.11196.pdf)."
      ]
    },
    {
      "cell_type": "markdown",
      "metadata": {
        "id": "a5aeKuNCRGip"
      },
      "source": [
        "### Back Translation\n",
        "\n",
        "Another popular approach for augmenting text datasets is back translation. This involves translating a sentence from our target language into one or more other languages and then translating all of them back to the original language. We can use the Python library googletrans for this purpose. "
      ]
    },
    {
      "cell_type": "code",
      "metadata": {
        "id": "8WsC0C2g-aIp"
      },
      "source": [
        "#!pip uninstall googletrans\n",
        "#!git clone https://github.com/BoseCorp/py-googletrans.git\n"
      ],
      "execution_count": null,
      "outputs": []
    },
    {
      "cell_type": "code",
      "metadata": {
        "id": "0aSalmYj_W2n"
      },
      "source": [
        "!pip install googletrans==3.1.0a0"
      ],
      "execution_count": null,
      "outputs": []
    },
    {
      "cell_type": "code",
      "metadata": {
        "id": "pHhNBbYrRXNy",
        "colab": {
          "base_uri": "https://localhost:8080/"
        },
        "outputId": "41a4749e-ca14-4102-e65d-55facf0d118c"
      },
      "source": [
        "\n",
        "#import random\n",
        "import googletrans\n",
        "from googletrans import Translator\n",
        "\n",
        "translator = Translator()\n",
        "sentence = ['The dog slept on the rug']\n",
        "\n",
        "available_langs = list(googletrans.LANGUAGES.keys()) \n",
        "trans_lang = random.choice(available_langs) \n",
        "#trans_lang = 'ja'\n",
        "print(f\"Translating to {googletrans.LANGUAGES[trans_lang]}\")\n",
        "\n",
        "translations = translator.translate(sentence, dest=trans_lang) \n",
        "t_text = [t.text for t in translations]\n",
        "print(t_text)\n",
        "\n",
        "translations_en_random = translator.translate(t_text, src=trans_lang, dest='en') \n",
        "en_text = [t.text for t in translations_en_random]\n",
        "print(en_text)"
      ],
      "execution_count": null,
      "outputs": [
        {
          "output_type": "stream",
          "text": [
            "Translating to armenian\n",
            "['Շունը քնում էր գորգի վրա']\n",
            "['The dog was sleeping on the carpet']\n"
          ],
          "name": "stdout"
        }
      ]
    },
    {
      "cell_type": "code",
      "metadata": {
        "colab": {
          "base_uri": "https://localhost:8080/"
        },
        "id": "sNyGtwAwt9se",
        "outputId": "fb8c317f-88cb-44d7-900c-d5cb1803125e"
      },
      "source": [
        "#testing\n",
        "import random\n",
        "import googletrans\n",
        "from googletrans import Translator\n",
        "\n",
        "available_langs = list(googletrans.LANGUAGES.keys()) \n",
        "trans_lang = random.choice(available_langs) \n",
        "\n",
        "translator = Translator()\n",
        "sentence = ['The dog slept on the rug']\n",
        "translations = translator.translate(sentence, dest=trans_lang) \n",
        "type(translations)\n",
        "\n",
        "t_text = []\n",
        "for t in iter(translations):\n",
        "  print(t.text)\n",
        "  t_text.append(t.text)"
      ],
      "execution_count": null,
      "outputs": [
        {
          "output_type": "stream",
          "text": [
            "הכלב ישן על השטיח\n"
          ],
          "name": "stdout"
        }
      ]
    },
    {
      "cell_type": "code",
      "metadata": {
        "id": "G1jBhR8zCjNw"
      },
      "source": [
        "def back_translate(sentence):\r\n",
        "  translator = Translator()\r\n",
        "  available_langs = list(googletrans.LANGUAGES.keys()) \r\n",
        "  trans_lang = random.choice(available_langs)\r\n",
        "  translations = translator.translate(sentence, dest=trans_lang)\r\n",
        "  print(translations)\r\n",
        "  #print(dir(translations))\r\n",
        "  t_text = []\r\n",
        "  for t in iter(translations):\r\n",
        "    print(t.text)\r\n",
        "    t_text.append(t.text)\r\n",
        "  #t_text = [t.text for t in translations]\r\n",
        "  translations_en_random = translator.translate(t_text, src=trans_lang, dest='en') \r\n",
        "  en_text = [t.text for t in translations_en_random]\r\n",
        "  return en_text\r\n",
        "\r\n"
      ],
      "execution_count": null,
      "outputs": []
    },
    {
      "cell_type": "code",
      "metadata": {
        "colab": {
          "base_uri": "https://localhost:8080/"
        },
        "id": "vUs9YbY4C-3t",
        "outputId": "43e4a3dd-1e6a-4de5-cd0b-bd2896d1f4e0"
      },
      "source": [
        "sentence = ['The dog slept on the rug']\r\n",
        "back_translate(sentence)\r\n"
      ],
      "execution_count": null,
      "outputs": [
        {
          "output_type": "stream",
          "text": [
            "[<googletrans.models.Translated object at 0x7ff7a18b8978>]\n",
            "Собака спала на килимку\n"
          ],
          "name": "stdout"
        },
        {
          "output_type": "execute_result",
          "data": {
            "text/plain": [
              "['The dog slept on the mat']"
            ]
          },
          "metadata": {
            "tags": []
          },
          "execution_count": 45
        }
      ]
    },
    {
      "cell_type": "code",
      "metadata": {
        "colab": {
          "base_uri": "https://localhost:8080/",
          "height": 35
        },
        "id": "fupKZ1sAEao4",
        "outputId": "ba29fcdc-6c4a-47db-f497-7037326580d0"
      },
      "source": [
        "sentence = ['The dog slept on the rug']\r\n",
        "#sentence[0]\r\n",
        "random_deletion(sentence[0], p=0.2)"
      ],
      "execution_count": null,
      "outputs": [
        {
          "output_type": "execute_result",
          "data": {
            "application/vnd.google.colaboratory.intrinsic+json": {
              "type": "string"
            },
            "text/plain": [
              "'The dog slept on th ug'"
            ]
          },
          "metadata": {
            "tags": []
          },
          "execution_count": 74
        }
      ]
    },
    {
      "cell_type": "code",
      "metadata": {
        "colab": {
          "base_uri": "https://localhost:8080/"
        },
        "id": "wZPWZ8caWumI",
        "outputId": "8c16b4b2-7fe5-4d44-d467-ef0797512875"
      },
      "source": [
        "sentence1 = 'The dog slept on the rug'\r\n",
        "print(random_swap(sentence1))"
      ],
      "execution_count": null,
      "outputs": [
        {
          "output_type": "stream",
          "text": [
            "['The', 'dog', 'slept', 'on', 'the', 'rug']\n",
            "range(0, 6)\n",
            "1 3\n",
            "2 0\n",
            "3 4\n",
            "3 4\n",
            "0 4\n",
            "the on The dog slept rug\n"
          ],
          "name": "stdout"
        }
      ]
    },
    {
      "cell_type": "markdown",
      "metadata": {
        "id": "3xmStSbACQzf"
      },
      "source": [
        "@inproceedings{wei-zou-2019-eda,\n",
        "    title = \"{EDA}: Easy Data Augmentation Techniques for Boosting Performance on Text Classification Tasks\",\n",
        "    author = \"Wei, Jason  and\n",
        "      Zou, Kai\",\n",
        "    booktitle = \"Proceedings of the 2019 Conference on Empirical Methods in Natural Language Processing and the 9th International Joint Conference on Natural Language Processing (EMNLP-IJCNLP)\",\n",
        "    month = nov,\n",
        "    year = \"2019\",\n",
        "    address = \"Hong Kong, China\",\n",
        "    publisher = \"Association for Computational Linguistics\",\n",
        "    url = \"https://www.aclweb.org/anthology/D19-1670\",\n",
        "    pages = \"6383--6389\",\n",
        "}"
      ]
    },
    {
      "cell_type": "code",
      "metadata": {
        "colab": {
          "base_uri": "https://localhost:8080/"
        },
        "id": "u6tT_PlMCQMb",
        "outputId": "20aeb0e3-0b44-4b9e-dc06-e5b5e9a19737"
      },
      "source": [
        "pip install -U nltk"
      ],
      "execution_count": null,
      "outputs": [
        {
          "output_type": "stream",
          "text": [
            "Collecting nltk\n",
            "\u001b[?25l  Downloading https://files.pythonhosted.org/packages/92/75/ce35194d8e3022203cca0d2f896dbb88689f9b3fce8e9f9cff942913519d/nltk-3.5.zip (1.4MB)\n",
            "\r\u001b[K     |▎                               | 10kB 22.3MB/s eta 0:00:01\r\u001b[K     |▌                               | 20kB 28.6MB/s eta 0:00:01\r\u001b[K     |▊                               | 30kB 20.5MB/s eta 0:00:01\r\u001b[K     |█                               | 40kB 18.8MB/s eta 0:00:01\r\u001b[K     |█▏                              | 51kB 21.1MB/s eta 0:00:01\r\u001b[K     |█▍                              | 61kB 15.6MB/s eta 0:00:01\r\u001b[K     |█▋                              | 71kB 15.1MB/s eta 0:00:01\r\u001b[K     |█▉                              | 81kB 14.7MB/s eta 0:00:01\r\u001b[K     |██                              | 92kB 14.6MB/s eta 0:00:01\r\u001b[K     |██▎                             | 102kB 15.1MB/s eta 0:00:01\r\u001b[K     |██▌                             | 112kB 15.1MB/s eta 0:00:01\r\u001b[K     |██▊                             | 122kB 15.1MB/s eta 0:00:01\r\u001b[K     |███                             | 133kB 15.1MB/s eta 0:00:01\r\u001b[K     |███▏                            | 143kB 15.1MB/s eta 0:00:01\r\u001b[K     |███▍                            | 153kB 15.1MB/s eta 0:00:01\r\u001b[K     |███▋                            | 163kB 15.1MB/s eta 0:00:01\r\u001b[K     |███▉                            | 174kB 15.1MB/s eta 0:00:01\r\u001b[K     |████▏                           | 184kB 15.1MB/s eta 0:00:01\r\u001b[K     |████▍                           | 194kB 15.1MB/s eta 0:00:01\r\u001b[K     |████▋                           | 204kB 15.1MB/s eta 0:00:01\r\u001b[K     |████▉                           | 215kB 15.1MB/s eta 0:00:01\r\u001b[K     |█████                           | 225kB 15.1MB/s eta 0:00:01\r\u001b[K     |█████▎                          | 235kB 15.1MB/s eta 0:00:01\r\u001b[K     |█████▌                          | 245kB 15.1MB/s eta 0:00:01\r\u001b[K     |█████▊                          | 256kB 15.1MB/s eta 0:00:01\r\u001b[K     |██████                          | 266kB 15.1MB/s eta 0:00:01\r\u001b[K     |██████▏                         | 276kB 15.1MB/s eta 0:00:01\r\u001b[K     |██████▍                         | 286kB 15.1MB/s eta 0:00:01\r\u001b[K     |██████▋                         | 296kB 15.1MB/s eta 0:00:01\r\u001b[K     |██████▉                         | 307kB 15.1MB/s eta 0:00:01\r\u001b[K     |███████                         | 317kB 15.1MB/s eta 0:00:01\r\u001b[K     |███████▎                        | 327kB 15.1MB/s eta 0:00:01\r\u001b[K     |███████▌                        | 337kB 15.1MB/s eta 0:00:01\r\u001b[K     |███████▊                        | 348kB 15.1MB/s eta 0:00:01\r\u001b[K     |████████                        | 358kB 15.1MB/s eta 0:00:01\r\u001b[K     |████████▎                       | 368kB 15.1MB/s eta 0:00:01\r\u001b[K     |████████▌                       | 378kB 15.1MB/s eta 0:00:01\r\u001b[K     |████████▊                       | 389kB 15.1MB/s eta 0:00:01\r\u001b[K     |█████████                       | 399kB 15.1MB/s eta 0:00:01\r\u001b[K     |█████████▏                      | 409kB 15.1MB/s eta 0:00:01\r\u001b[K     |█████████▍                      | 419kB 15.1MB/s eta 0:00:01\r\u001b[K     |█████████▋                      | 430kB 15.1MB/s eta 0:00:01\r\u001b[K     |█████████▉                      | 440kB 15.1MB/s eta 0:00:01\r\u001b[K     |██████████                      | 450kB 15.1MB/s eta 0:00:01\r\u001b[K     |██████████▎                     | 460kB 15.1MB/s eta 0:00:01\r\u001b[K     |██████████▌                     | 471kB 15.1MB/s eta 0:00:01\r\u001b[K     |██████████▊                     | 481kB 15.1MB/s eta 0:00:01\r\u001b[K     |███████████                     | 491kB 15.1MB/s eta 0:00:01\r\u001b[K     |███████████▏                    | 501kB 15.1MB/s eta 0:00:01\r\u001b[K     |███████████▍                    | 512kB 15.1MB/s eta 0:00:01\r\u001b[K     |███████████▋                    | 522kB 15.1MB/s eta 0:00:01\r\u001b[K     |███████████▉                    | 532kB 15.1MB/s eta 0:00:01\r\u001b[K     |████████████▏                   | 542kB 15.1MB/s eta 0:00:01\r\u001b[K     |████████████▍                   | 552kB 15.1MB/s eta 0:00:01\r\u001b[K     |████████████▋                   | 563kB 15.1MB/s eta 0:00:01\r\u001b[K     |████████████▉                   | 573kB 15.1MB/s eta 0:00:01\r\u001b[K     |█████████████                   | 583kB 15.1MB/s eta 0:00:01\r\u001b[K     |█████████████▎                  | 593kB 15.1MB/s eta 0:00:01\r\u001b[K     |█████████████▌                  | 604kB 15.1MB/s eta 0:00:01\r\u001b[K     |█████████████▊                  | 614kB 15.1MB/s eta 0:00:01\r\u001b[K     |██████████████                  | 624kB 15.1MB/s eta 0:00:01\r\u001b[K     |██████████████▏                 | 634kB 15.1MB/s eta 0:00:01\r\u001b[K     |██████████████▍                 | 645kB 15.1MB/s eta 0:00:01\r\u001b[K     |██████████████▋                 | 655kB 15.1MB/s eta 0:00:01\r\u001b[K     |██████████████▉                 | 665kB 15.1MB/s eta 0:00:01\r\u001b[K     |███████████████                 | 675kB 15.1MB/s eta 0:00:01\r\u001b[K     |███████████████▎                | 686kB 15.1MB/s eta 0:00:01\r\u001b[K     |███████████████▌                | 696kB 15.1MB/s eta 0:00:01\r\u001b[K     |███████████████▊                | 706kB 15.1MB/s eta 0:00:01\r\u001b[K     |████████████████                | 716kB 15.1MB/s eta 0:00:01\r\u001b[K     |████████████████▎               | 727kB 15.1MB/s eta 0:00:01\r\u001b[K     |████████████████▌               | 737kB 15.1MB/s eta 0:00:01\r\u001b[K     |████████████████▊               | 747kB 15.1MB/s eta 0:00:01\r\u001b[K     |█████████████████               | 757kB 15.1MB/s eta 0:00:01\r\u001b[K     |█████████████████▏              | 768kB 15.1MB/s eta 0:00:01\r\u001b[K     |█████████████████▍              | 778kB 15.1MB/s eta 0:00:01\r\u001b[K     |█████████████████▋              | 788kB 15.1MB/s eta 0:00:01\r\u001b[K     |█████████████████▉              | 798kB 15.1MB/s eta 0:00:01\r\u001b[K     |██████████████████              | 808kB 15.1MB/s eta 0:00:01\r\u001b[K     |██████████████████▎             | 819kB 15.1MB/s eta 0:00:01\r\u001b[K     |██████████████████▌             | 829kB 15.1MB/s eta 0:00:01\r\u001b[K     |██████████████████▊             | 839kB 15.1MB/s eta 0:00:01\r\u001b[K     |███████████████████             | 849kB 15.1MB/s eta 0:00:01\r\u001b[K     |███████████████████▏            | 860kB 15.1MB/s eta 0:00:01\r\u001b[K     |███████████████████▍            | 870kB 15.1MB/s eta 0:00:01\r\u001b[K     |███████████████████▋            | 880kB 15.1MB/s eta 0:00:01\r\u001b[K     |███████████████████▉            | 890kB 15.1MB/s eta 0:00:01\r\u001b[K     |████████████████████▏           | 901kB 15.1MB/s eta 0:00:01\r\u001b[K     |████████████████████▍           | 911kB 15.1MB/s eta 0:00:01\r\u001b[K     |████████████████████▋           | 921kB 15.1MB/s eta 0:00:01\r\u001b[K     |████████████████████▉           | 931kB 15.1MB/s eta 0:00:01\r\u001b[K     |█████████████████████           | 942kB 15.1MB/s eta 0:00:01\r\u001b[K     |█████████████████████▎          | 952kB 15.1MB/s eta 0:00:01\r\u001b[K     |█████████████████████▌          | 962kB 15.1MB/s eta 0:00:01\r\u001b[K     |█████████████████████▊          | 972kB 15.1MB/s eta 0:00:01\r\u001b[K     |██████████████████████          | 983kB 15.1MB/s eta 0:00:01\r\u001b[K     |██████████████████████▏         | 993kB 15.1MB/s eta 0:00:01\r\u001b[K     |██████████████████████▍         | 1.0MB 15.1MB/s eta 0:00:01\r\u001b[K     |██████████████████████▋         | 1.0MB 15.1MB/s eta 0:00:01\r\u001b[K     |██████████████████████▉         | 1.0MB 15.1MB/s eta 0:00:01\r\u001b[K     |███████████████████████         | 1.0MB 15.1MB/s eta 0:00:01\r\u001b[K     |███████████████████████▎        | 1.0MB 15.1MB/s eta 0:00:01\r\u001b[K     |███████████████████████▌        | 1.1MB 15.1MB/s eta 0:00:01\r\u001b[K     |███████████████████████▊        | 1.1MB 15.1MB/s eta 0:00:01\r\u001b[K     |████████████████████████        | 1.1MB 15.1MB/s eta 0:00:01\r\u001b[K     |████████████████████████▎       | 1.1MB 15.1MB/s eta 0:00:01\r\u001b[K     |████████████████████████▌       | 1.1MB 15.1MB/s eta 0:00:01\r\u001b[K     |████████████████████████▊       | 1.1MB 15.1MB/s eta 0:00:01\r\u001b[K     |█████████████████████████       | 1.1MB 15.1MB/s eta 0:00:01\r\u001b[K     |█████████████████████████▏      | 1.1MB 15.1MB/s eta 0:00:01\r\u001b[K     |█████████████████████████▍      | 1.1MB 15.1MB/s eta 0:00:01\r\u001b[K     |█████████████████████████▋      | 1.1MB 15.1MB/s eta 0:00:01\r\u001b[K     |█████████████████████████▉      | 1.2MB 15.1MB/s eta 0:00:01\r\u001b[K     |██████████████████████████      | 1.2MB 15.1MB/s eta 0:00:01\r\u001b[K     |██████████████████████████▎     | 1.2MB 15.1MB/s eta 0:00:01\r\u001b[K     |██████████████████████████▌     | 1.2MB 15.1MB/s eta 0:00:01\r\u001b[K     |██████████████████████████▊     | 1.2MB 15.1MB/s eta 0:00:01\r\u001b[K     |███████████████████████████     | 1.2MB 15.1MB/s eta 0:00:01\r\u001b[K     |███████████████████████████▏    | 1.2MB 15.1MB/s eta 0:00:01\r\u001b[K     |███████████████████████████▍    | 1.2MB 15.1MB/s eta 0:00:01\r\u001b[K     |███████████████████████████▋    | 1.2MB 15.1MB/s eta 0:00:01\r\u001b[K     |███████████████████████████▉    | 1.2MB 15.1MB/s eta 0:00:01\r\u001b[K     |████████████████████████████▏   | 1.3MB 15.1MB/s eta 0:00:01\r\u001b[K     |████████████████████████████▍   | 1.3MB 15.1MB/s eta 0:00:01\r\u001b[K     |████████████████████████████▋   | 1.3MB 15.1MB/s eta 0:00:01\r\u001b[K     |████████████████████████████▉   | 1.3MB 15.1MB/s eta 0:00:01\r\u001b[K     |█████████████████████████████   | 1.3MB 15.1MB/s eta 0:00:01\r\u001b[K     |█████████████████████████████▎  | 1.3MB 15.1MB/s eta 0:00:01\r\u001b[K     |█████████████████████████████▌  | 1.3MB 15.1MB/s eta 0:00:01\r\u001b[K     |█████████████████████████████▊  | 1.3MB 15.1MB/s eta 0:00:01\r\u001b[K     |██████████████████████████████  | 1.3MB 15.1MB/s eta 0:00:01\r\u001b[K     |██████████████████████████████▏ | 1.4MB 15.1MB/s eta 0:00:01\r\u001b[K     |██████████████████████████████▍ | 1.4MB 15.1MB/s eta 0:00:01\r\u001b[K     |██████████████████████████████▋ | 1.4MB 15.1MB/s eta 0:00:01\r\u001b[K     |██████████████████████████████▉ | 1.4MB 15.1MB/s eta 0:00:01\r\u001b[K     |███████████████████████████████ | 1.4MB 15.1MB/s eta 0:00:01\r\u001b[K     |███████████████████████████████▎| 1.4MB 15.1MB/s eta 0:00:01\r\u001b[K     |███████████████████████████████▌| 1.4MB 15.1MB/s eta 0:00:01\r\u001b[K     |███████████████████████████████▊| 1.4MB 15.1MB/s eta 0:00:01\r\u001b[K     |████████████████████████████████| 1.4MB 15.1MB/s \n",
            "\u001b[?25hRequirement already satisfied, skipping upgrade: click in /usr/local/lib/python3.6/dist-packages (from nltk) (7.1.2)\n",
            "Requirement already satisfied, skipping upgrade: joblib in /usr/local/lib/python3.6/dist-packages (from nltk) (0.17.0)\n",
            "Requirement already satisfied, skipping upgrade: regex in /usr/local/lib/python3.6/dist-packages (from nltk) (2019.12.20)\n",
            "Requirement already satisfied, skipping upgrade: tqdm in /usr/local/lib/python3.6/dist-packages (from nltk) (4.41.1)\n",
            "Building wheels for collected packages: nltk\n",
            "  Building wheel for nltk (setup.py) ... \u001b[?25l\u001b[?25hdone\n",
            "  Created wheel for nltk: filename=nltk-3.5-cp36-none-any.whl size=1434675 sha256=da53fb1eecb91deadea65cb99b232560480bcb888b0770fce8a87597e8bc2802\n",
            "  Stored in directory: /root/.cache/pip/wheels/ae/8c/3f/b1fe0ba04555b08b57ab52ab7f86023639a526d8bc8d384306\n",
            "Successfully built nltk\n",
            "Installing collected packages: nltk\n",
            "  Found existing installation: nltk 3.2.5\n",
            "    Uninstalling nltk-3.2.5:\n",
            "      Successfully uninstalled nltk-3.2.5\n",
            "Successfully installed nltk-3.5\n"
          ],
          "name": "stdout"
        }
      ]
    },
    {
      "cell_type": "code",
      "metadata": {
        "colab": {
          "base_uri": "https://localhost:8080/"
        },
        "id": "0nyqqCBeDrN9",
        "outputId": "a66619ab-1118-463a-fef6-06997b337987"
      },
      "source": [
        "import nltk\n",
        "nltk.download('wordnet')"
      ],
      "execution_count": null,
      "outputs": [
        {
          "output_type": "stream",
          "text": [
            "[nltk_data] Downloading package wordnet to /root/nltk_data...\n",
            "[nltk_data]   Unzipping corpora/wordnet.zip.\n"
          ],
          "name": "stderr"
        },
        {
          "output_type": "execute_result",
          "data": {
            "text/plain": [
              "True"
            ]
          },
          "metadata": {
            "tags": []
          },
          "execution_count": 49
        }
      ]
    },
    {
      "cell_type": "code",
      "metadata": {
        "colab": {
          "base_uri": "https://localhost:8080/"
        },
        "id": "_ejM3NTvD31W",
        "outputId": "d85f65d5-6cda-4a0d-e0ca-2a52fc287d23"
      },
      "source": [
        "#!python eda_nlp/code/augment.py --input=tweets.csv  --output=tweets_augmented.txt \n",
        "!python eda_nlp/code/augment.py --input=tweets.csv  --output=tweets_augmented.txt --num_aug=16 --alpha_sr=0.05 --alpha_rd=0.1 --alpha_ri=0.0 --alpha_rs=0.0"
      ],
      "execution_count": null,
      "outputs": [
        {
          "output_type": "stream",
          "text": [
            "python3: can't open file 'eda_nlp/code/augment.py': [Errno 2] No such file or directory\n"
          ],
          "name": "stdout"
        }
      ]
    },
    {
      "cell_type": "code",
      "metadata": {
        "colab": {
          "base_uri": "https://localhost:8080/"
        },
        "id": "ETagey8wXKnW",
        "outputId": "985da739-a236-4a91-e4c1-6cc9c37e9d7c"
      },
      "source": [
        "  !git clone https://github.com/jasonwei20/eda_nlp.git"
      ],
      "execution_count": null,
      "outputs": [
        {
          "output_type": "stream",
          "text": [
            "Cloning into 'eda_nlp'...\n",
            "remote: Enumerating objects: 14, done.\u001b[K\n",
            "remote: Counting objects: 100% (14/14), done.\u001b[K\n",
            "remote: Compressing objects: 100% (10/10), done.\u001b[K\n",
            "remote: Total 393 (delta 4), reused 10 (delta 4), pack-reused 379\n",
            "Receiving objects: 100% (393/393), 20.41 MiB | 23.73 MiB/s, done.\n",
            "Resolving deltas: 100% (187/187), done.\n"
          ],
          "name": "stdout"
        }
      ]
    },
    {
      "cell_type": "code",
      "metadata": {
        "colab": {
          "base_uri": "https://localhost:8080/"
        },
        "id": "zWqEJosjVMEh",
        "outputId": "579bd588-a169-453a-a2cb-b76193b9fa1b"
      },
      "source": [
        "\n",
        "def read_text():\n",
        "    ifname = 'SOStr.txt'\n",
        "    lines = open(ifname, 'r').read().split('\\n')\n",
        "\n",
        "    texts = []\n",
        "    for line in lines:\n",
        "        params = line.split('|')\n",
        "        if len(params) > 1:\n",
        "            text = ' '.join(params)\n",
        "            texts.append(text)\n",
        "\n",
        "    return texts\n",
        "texts=read_text()\n",
        "len(texts)"
      ],
      "execution_count": null,
      "outputs": [
        {
          "output_type": "execute_result",
          "data": {
            "text/plain": [
              "11855"
            ]
          },
          "metadata": {
            "tags": []
          },
          "execution_count": 52
        }
      ]
    },
    {
      "cell_type": "code",
      "metadata": {
        "colab": {
          "base_uri": "https://localhost:8080/"
        },
        "id": "m9Vee_QrVNXh",
        "outputId": "e083ae08-0b39-4180-f3ce-8e7b16a4c59d"
      },
      "source": [
        "def read_splitlabel():\n",
        "    ifname = 'datasetSplit.txt'\n",
        "    lines = open(ifname, 'r').read().split('\\n')\n",
        "\n",
        "    splitlabels = []\n",
        "    for line in lines[1:]:\n",
        "        params = line.split(',')\n",
        "        if len(params) == 2:\n",
        "            splitlabels.append(int(params[1]))\n",
        "    \n",
        "    return splitlabels\n",
        "splitlabels=read_splitlabel()\n",
        "len(splitlabels)"
      ],
      "execution_count": null,
      "outputs": [
        {
          "output_type": "execute_result",
          "data": {
            "text/plain": [
              "11855"
            ]
          },
          "metadata": {
            "tags": []
          },
          "execution_count": 53
        }
      ]
    },
    {
      "cell_type": "code",
      "metadata": {
        "colab": {
          "base_uri": "https://localhost:8080/"
        },
        "id": "sCbf5GjxVR1g",
        "outputId": "508cf39d-45e3-4bc5-cd0d-451f438d40ad"
      },
      "source": [
        "def read_sentiscore():\n",
        "\tifname = 'sentiment_labels.txt'\n",
        "\tlines = open(ifname, 'r').read().split('\\n')\n",
        "\n",
        "\tsentiscores = []\n",
        "\tfor line in lines[1:]:\n",
        "\t\tparams = line.split('|')\n",
        "\t\tif len(params) == 2:\n",
        "\t\t\tsentiscores.append(float(params[1]))\n",
        "\n",
        "\treturn sentiscores\n",
        "sentiscores=read_sentiscore()\n",
        "len(sentiscores)"
      ],
      "execution_count": null,
      "outputs": [
        {
          "output_type": "execute_result",
          "data": {
            "text/plain": [
              "239232"
            ]
          },
          "metadata": {
            "tags": []
          },
          "execution_count": 54
        }
      ]
    },
    {
      "cell_type": "code",
      "metadata": {
        "colab": {
          "base_uri": "https://localhost:8080/"
        },
        "id": "u9KNUxBBVUvo",
        "outputId": "36492846-2afb-4f51-8c74-1a09c26f9942"
      },
      "source": [
        "def read_phraseid():\n",
        "    ifname = 'dictionary.txt'\n",
        "    lines = open(ifname, 'r').read().split('\\n')\n",
        "\n",
        "    phraseid = {}\n",
        "    for line in lines:\n",
        "        params = line.split('|')\n",
        "        if len(params) == 2:\n",
        "            phraseid[params[0]] = int(params[1])\n",
        "\n",
        "    return phraseid\n",
        "phraseid=read_phraseid()\n",
        "len(phraseid)"
      ],
      "execution_count": null,
      "outputs": [
        {
          "output_type": "execute_result",
          "data": {
            "text/plain": [
              "239232"
            ]
          },
          "metadata": {
            "tags": []
          },
          "execution_count": 55
        }
      ]
    },
    {
      "cell_type": "code",
      "metadata": {
        "id": "uK-MS5w0VdyX"
      },
      "source": [
        "def prepare_valence():\n",
        "    texts = read_text()\n",
        "    splitlabels = read_splitlabel()\n",
        "    sentiscores = read_sentiscore()\n",
        "    phraseid = read_phraseid()\n",
        "\n",
        "    train_text = []\n",
        "    train_label = []\n",
        "    \n",
        "    valid_text = []\n",
        "    valid_label = []\n",
        "\n",
        "    test_text = []\n",
        "    test_label = []\n",
        "\n",
        "    n_sample = len(texts)\n",
        "    if n_sample == len(splitlabels) and len(sentiscores) == len(phraseid):\n",
        "        print('%d samples'%(n_sample))\n",
        "    else:\n",
        "        print('reading fail')\n",
        "\n",
        "    for i, didx in enumerate(splitlabels):\n",
        "        if didx == 1:\n",
        "            list_text = train_text\n",
        "            list_label = train_label\n",
        "        elif didx == 3:\n",
        "            list_text = valid_text\n",
        "            list_label = valid_label\n",
        "        elif didx == 2:\n",
        "            list_text = test_text\n",
        "            list_label = test_label\n",
        "\n",
        "        list_text.append(texts[i])\n",
        "        list_label.append(sentiscores[phraseid[texts[i]]])\n",
        "        \n",
        "    return train_text,train_label,test_text,test_label,valid_text,valid_label"
      ],
      "execution_count": null,
      "outputs": []
    },
    {
      "cell_type": "code",
      "metadata": {
        "id": "uJ5v-6EHVg2U"
      },
      "source": [
        "\n",
        "def labelize(text,label):\n",
        "        y = []\n",
        "        for l in label:\n",
        "            if l <= 0.2:\n",
        "                y.append(0)\n",
        "            elif l <= 0.4:\n",
        "                y.append(1)\n",
        "            elif l <= 0.6:\n",
        " fied               y.append(2)\n",
        "            elif l <= 0.8:\n",
        "                y.append(3)\n",
        "            else:\n",
        "                y.append(4)\n",
        "        print(len(y))\n",
        "        return (text, y)\n"
      ],
      "execution_count": null,
      "outputs": []
    },
    {
      "cell_type": "code",
      "metadata": {
        "id": "KbWayeG0Vn7x",
        "colab": {
          "base_uri": "https://localhost:8080/",
          "height": 195
        },
        "outputId": "87dd4b0f-5233-4c43-8ed6-626306dcb4e0"
      },
      "source": [
        "import pandas as pd\n",
        "testdf= pd.DataFrame(test_text,test_label)\n",
        "testdf.head\n"
      ],
      "execution_count": null,
      "outputs": [
        {
          "output_type": "error",
          "ename": "NameError",
          "evalue": "ignored",
          "traceback": [
            "\u001b[0;31m---------------------------------------------------------------------------\u001b[0m",
            "\u001b[0;31mNameError\u001b[0m                                 Traceback (most recent call last)",
            "\u001b[0;32m<ipython-input-58-11e319ef9580>\u001b[0m in \u001b[0;36m<module>\u001b[0;34m()\u001b[0m\n\u001b[1;32m      1\u001b[0m \u001b[0;32mimport\u001b[0m \u001b[0mpandas\u001b[0m \u001b[0;32mas\u001b[0m \u001b[0mpd\u001b[0m\u001b[0;34m\u001b[0m\u001b[0;34m\u001b[0m\u001b[0m\n\u001b[0;32m----> 2\u001b[0;31m \u001b[0mtestdf\u001b[0m\u001b[0;34m=\u001b[0m \u001b[0mpd\u001b[0m\u001b[0;34m.\u001b[0m\u001b[0mDataFrame\u001b[0m\u001b[0;34m(\u001b[0m\u001b[0mtest_text\u001b[0m\u001b[0;34m,\u001b[0m\u001b[0mtest_label\u001b[0m\u001b[0;34m)\u001b[0m\u001b[0;34m\u001b[0m\u001b[0;34m\u001b[0m\u001b[0m\n\u001b[0m\u001b[1;32m      3\u001b[0m \u001b[0mtestdf\u001b[0m\u001b[0;34m.\u001b[0m\u001b[0mhead\u001b[0m\u001b[0;34m\u001b[0m\u001b[0;34m\u001b[0m\u001b[0m\n",
            "\u001b[0;31mNameError\u001b[0m: name 'test_text' is not defined"
          ]
        }
      ]
    },
    {
      "cell_type": "code",
      "metadata": {
        "colab": {
          "base_uri": "https://localhost:8080/"
        },
        "id": "PcMU1gkkWMJ6",
        "outputId": "275c0909-47c1-48cd-ef3c-679fdfa5a29d"
      },
      "source": [
        "train_tx,train_l,test_tx,test_l,valid_tx,valid_l=prepare_valence()\n",
        "train_text,train_label=labelize(train_tx,train_l)    \n",
        "\n",
        "test_text,test_label=labelize(test_tx,test_l)\n",
        "valid_text,valid_label=labelize(valid_tx,valid_l)"
      ],
      "execution_count": null,
      "outputs": [
        {
          "output_type": "stream",
          "text": [
            "11855 samples\n",
            "8544\n",
            "2210\n",
            "1101\n"
          ],
          "name": "stdout"
        }
      ]
    },
    {
      "cell_type": "code",
      "metadata": {
        "colab": {
          "base_uri": "https://localhost:8080/"
        },
        "id": "D9zU7lnt-bKQ",
        "outputId": "50bb6fc9-ea43-4145-fb38-a2fa43eddc60"
      },
      "source": [
        "(len(train_tx), len(valid_tx))"
      ],
      "execution_count": null,
      "outputs": [
        {
          "output_type": "execute_result",
          "data": {
            "text/plain": [
              "(8544, 1101)"
            ]
          },
          "metadata": {
            "tags": []
          },
          "execution_count": 61
        }
      ]
    },
    {
      "cell_type": "code",
      "metadata": {
        "colab": {
          "base_uri": "https://localhost:8080/"
        },
        "id": "aoFDN1p-g57W",
        "outputId": "cad656df-fd84-471e-fc64-2cc9a0bf4040"
      },
      "source": [
        "print(type(train_tx))"
      ],
      "execution_count": null,
      "outputs": [
        {
          "output_type": "stream",
          "text": [
            "<class 'list'>\n"
          ],
          "name": "stdout"
        }
      ]
    },
    {
      "cell_type": "code",
      "metadata": {
        "id": "qRpJGKb_hGNu"
      },
      "source": [
        "new_train_tx = []\r\n",
        "count = 0 \r\n",
        "for tweet in train_tx:\r\n",
        "  translator = Translator()\r\n",
        "  available_langs = list(googletrans.LANGUAGES.keys()) \r\n",
        "  trans_lang = random.choice(available_langs)\r\n",
        "  translations = translator.translate(sentence, dest=trans_lang)\r\n",
        "  #print(translations)\r\n",
        "  #print(dir(translations))\r\n",
        "  t_text = []\r\n",
        "  for t in iter(translations):\r\n",
        "    #print(t.text)\r\n",
        "    t_text.append(t.text)\r\n",
        "  #t_text = [t.text for t in translations]\r\n",
        "  translations_en_random = translator.translate(t_text, src=trans_lang, dest='en') \r\n",
        "  tweet = [t.text for t in translations_en_random]\r\n",
        "  #tweet = back_translate(tweet)\r\n",
        "  #print(\"Tweet after tranlate: \", tweet)\r\n",
        "  tweet = random_swap(tweet[0])\r\n",
        "  #print(\"tweet after swap: \",tweet)\r\n",
        "  tweet = random_deletion(tweet, p=0.5)\r\n",
        "  #print(\"tweet after delete: \",tweet)\r\n",
        "  new_train_tx.append(tweet)\r\n",
        "  count += 1\r\n",
        "  print(\"count: \", count)"
      ],
      "execution_count": null,
      "outputs": []
    },
    {
      "cell_type": "markdown",
      "metadata": {
        "id": "SJDoDzMPPZqU"
      },
      "source": [
        "# Pickling the augmented train set"
      ]
    },
    {
      "cell_type": "code",
      "metadata": {
        "id": "F0inrI3kPMWL"
      },
      "source": [
        "import os, pickle\n",
        "with open('augmented_train_set.pkl', 'wb') as tokens: \n",
        "    pickle.dump(new_train_tx, tokens)"
      ],
      "execution_count": null,
      "outputs": []
    },
    {
      "cell_type": "code",
      "metadata": {
        "id": "72SNUMSXTer5"
      },
      "source": [
        "import csv\n",
        "\n",
        "with open('augmented_train_set.csv', 'w', newline='') as file:\n",
        "    writer = csv.writer(file)\n",
        "    writer.writerows(new_train_tx)"
      ],
      "execution_count": null,
      "outputs": []
    },
    {
      "cell_type": "code",
      "metadata": {
        "colab": {
          "base_uri": "https://localhost:8080/",
          "height": 17
        },
        "id": "ghV_5qfSbmIT",
        "outputId": "f67d4db2-9104-490f-cef4-b67a14da9a39"
      },
      "source": [
        "from google.colab import files\n",
        "files.download('augmented_train_set.csv')"
      ],
      "execution_count": null,
      "outputs": [
        {
          "output_type": "display_data",
          "data": {
            "application/javascript": [
              "\n",
              "    async function download(id, filename, size) {\n",
              "      if (!google.colab.kernel.accessAllowed) {\n",
              "        return;\n",
              "      }\n",
              "      const div = document.createElement('div');\n",
              "      const label = document.createElement('label');\n",
              "      label.textContent = `Downloading \"${filename}\": `;\n",
              "      div.appendChild(label);\n",
              "      const progress = document.createElement('progress');\n",
              "      progress.max = size;\n",
              "      div.appendChild(progress);\n",
              "      document.body.appendChild(div);\n",
              "\n",
              "      const buffers = [];\n",
              "      let downloaded = 0;\n",
              "\n",
              "      const channel = await google.colab.kernel.comms.open(id);\n",
              "      // Send a message to notify the kernel that we're ready.\n",
              "      channel.send({})\n",
              "\n",
              "      for await (const message of channel.messages) {\n",
              "        // Send a message to notify the kernel that we're ready.\n",
              "        channel.send({})\n",
              "        if (message.buffers) {\n",
              "          for (const buffer of message.buffers) {\n",
              "            buffers.push(buffer);\n",
              "            downloaded += buffer.byteLength;\n",
              "            progress.value = downloaded;\n",
              "          }\n",
              "        }\n",
              "      }\n",
              "      const blob = new Blob(buffers, {type: 'application/binary'});\n",
              "      const a = document.createElement('a');\n",
              "      a.href = window.URL.createObjectURL(blob);\n",
              "      a.download = filename;\n",
              "      div.appendChild(a);\n",
              "      a.click();\n",
              "      div.remove();\n",
              "    }\n",
              "  "
            ],
            "text/plain": [
              "<IPython.core.display.Javascript object>"
            ]
          },
          "metadata": {
            "tags": []
          }
        },
        {
          "output_type": "display_data",
          "data": {
            "application/javascript": [
              "download(\"download_f8dfdc87-d76d-4c78-a638-46cd8d6ad7d2\", \"augmented_train_set.csv\", 213872)"
            ],
            "text/plain": [
              "<IPython.core.display.Javascript object>"
            ]
          },
          "metadata": {
            "tags": []
          }
        }
      ]
    },
    {
      "cell_type": "code",
      "metadata": {
        "colab": {
          "base_uri": "https://localhost:8080/",
          "height": 17
        },
        "id": "kijAWk-ubpg6",
        "outputId": "780cdcc2-792a-4f98-9ce0-db2ac2d1f4e0"
      },
      "source": [
        "from google.colab import files\n",
        "files.download('augmented_train_set.pkl')"
      ],
      "execution_count": null,
      "outputs": [
        {
          "output_type": "display_data",
          "data": {
            "application/javascript": [
              "\n",
              "    async function download(id, filename, size) {\n",
              "      if (!google.colab.kernel.accessAllowed) {\n",
              "        return;\n",
              "      }\n",
              "      const div = document.createElement('div');\n",
              "      const label = document.createElement('label');\n",
              "      label.textContent = `Downloading \"${filename}\": `;\n",
              "      div.appendChild(label);\n",
              "      const progress = document.createElement('progress');\n",
              "      progress.max = size;\n",
              "      div.appendChild(progress);\n",
              "      document.body.appendChild(div);\n",
              "\n",
              "      const buffers = [];\n",
              "      let downloaded = 0;\n",
              "\n",
              "      const channel = await google.colab.kernel.comms.open(id);\n",
              "      // Send a message to notify the kernel that we're ready.\n",
              "      channel.send({})\n",
              "\n",
              "      for await (const message of channel.messages) {\n",
              "        // Send a message to notify the kernel that we're ready.\n",
              "        channel.send({})\n",
              "        if (message.buffers) {\n",
              "          for (const buffer of message.buffers) {\n",
              "            buffers.push(buffer);\n",
              "            downloaded += buffer.byteLength;\n",
              "            progress.value = downloaded;\n",
              "          }\n",
              "        }\n",
              "      }\n",
              "      const blob = new Blob(buffers, {type: 'application/binary'});\n",
              "      const a = document.createElement('a');\n",
              "      a.href = window.URL.createObjectURL(blob);\n",
              "      a.download = filename;\n",
              "      div.appendChild(a);\n",
              "      a.click();\n",
              "      div.remove();\n",
              "    }\n",
              "  "
            ],
            "text/plain": [
              "<IPython.core.display.Javascript object>"
            ]
          },
          "metadata": {
            "tags": []
          }
        },
        {
          "output_type": "display_data",
          "data": {
            "application/javascript": [
              "download(\"download_a939df46-34f1-42bd-b3de-47cc7766585a\", \"augmented_train_set.pkl\", 187363)"
            ],
            "text/plain": [
              "<IPython.core.display.Javascript object>"
            ]
          },
          "metadata": {
            "tags": []
          }
        }
      ]
    },
    {
      "cell_type": "code",
      "metadata": {
        "colab": {
          "base_uri": "https://localhost:8080/"
        },
        "id": "BMvwelmm6STi",
        "outputId": "80e55c0c-2097-41ea-b62b-cc7476f1bff3"
      },
      "source": [
        "print(new_train_tx)"
      ],
      "execution_count": null,
      "outputs": [
        {
          "output_type": "stream",
          "text": [
            "['t g seprugon Te', 'ruep do en', 'hepg n rg', 'g dog tesl Te', 'Teogru te lt on', 'dgon thset g Te', 'sltg tehe oo', 'the  oset o The', 'dog  le oherug', 'r do spt he', 'Thel onrhdo', 'p e  on Th u', 'p d e o  u', 'sep  gon do he', 'sle do T oh u', 'setorug e', 'e sleptthe g', 'uept oheo', 'lp rug on dg h', 'udpt Thone', 'slt g Theh n', 'tledog he o u', 'g o The lpdogth', 'h o  slepdg rug', 'ug  thdg o slept', 'leptohehe g ', 'n doug sle teh', 'te hele  r', 'sleptrg oThdog', 'onp Te geg', 'The eu n lt', 'Thedoegslet', 'h the on rug sle', 'hrg let do t', 'rg slephe The o', 'doge sl on gh', 'ug g sptte he o', 'Ththe r eptgon', 'leptruggon h he', 'dg T set n thug', 'etru dg on T', 'tThruo onte', 'r Te g ote', 'rte  o h o', 'Th uo dot l', 'o he sp  en', 'Thdoote ru slt', 'sp r e T', 'herusl dh ', 'e oslpton r', 'uTeohe ep', 'Th g dog on st th', 'rgTheept th o ', 'ohe slru e on', 'slp n o Teh ug', 'u on t doset he', 'let ug  h g he', 'ug Tedg ehe', 'eptdog ohT', 'n rut gTh ep', ' og slephthrug', 'o slpt ruon he T', ' o telenh', 'teegorg', 'thdop ug on e', 'h rg sepT on og', 'Te ruetth o', 'ugog n thph', 'Te gug stoh', 'theleptThog ugo', 'e d n te ruept', 'o h slptthe ', 'set t rdogThe n', 'T rug  dog te lep', 'slptdog thrug  n', 'sl  ug dog th Th', 'lpt u Tn do e', 'sept egon theg', 'Theledg h', 'gdo spt tTh', 'Terset n t', 'lep goTh d', 'lt ogu Thn', ' espt rugn', 'nh th sleprudo', 'on lep dguth ', 'g rgth on tTe', 'slepThegdog nte', 'rug slpt ten de', 'th epoggTe', 'rue e edg', 'Thg  sru', 'Tele rg t o', 'on setdogt Trug', 'uo th le hedog', 'Te ug t nosep', 'ehe rug on g sp', 'sle the rg d en', 'og setThrh n', 'oruo eeptt', 'Ttheslep o  on', 'et o h  d e', 'theugl ondogT', 'h n h slpo', 'rughseptdogheon', 'te t Thdrugo', 'n rug he lept te dg', 'g slep h h o', 'rughsptnoh', 'o rug theet', 'ug dglepehe', 'st ondghe ug', 'et   doTheon', 'og he neslet g', 'Th d on  setthe', ' Te e lp', 'sl e the dg', 'gooTethelet', 'edgThe oglpt', 'slepog  on hhe', ' Th stugth dog', 'ste og Tdg', 'g  dogT nlpt', 'rseptT nt', 'n he gslt Te', 'Th g o dogte ept', 'og slt n ut', 'sep thnheg', 'the lpd Te on', 'sltte do onh g', 'dorun slpt The', 'ru onlth The', 'thergsep Te o', 'e rg teTh dogo', 'd h lep on', 'th lep udTh', ' on th s hdg', 'e he dg p', 'dlptte Th ru', 'e ondgugthet', 'on do T ep re', 'on e h dog e r', 'lptodgrg hthe', 'e sle ru dthen', 'septruhedo o e', 'te g seth', 'on o hespt', 'ed on Teu', 'lptrg eg nTh', 'on dg Terug the p', 'Theg septonthe g', 'The heoug gsp', 'e g sl the on ', 'r hesepong t', 'theo lethgon', 'Teho slp og', 'le on e ug e og', ' heonsep edg', ' dogl r hh', 'he oslep  h ', 'Te ndog te leg', 'dg hes  ou', 'pthe o og he u', 'hedogspt ron he', 'h ru gn slt te', 'rge dog n h set', 'do nehhg', 'slet t o The du', 'theslep o ru', 'tedon et r', 'rg oslept Th', 'rg lept onTe ', 'doo h lettru', 'tst u  Te o', 'slo  e ', 'oT rhe sep', 'gspt rug o te', 'ruThedog spton', 'dgrg eon pthe', 'othe do t rue', 'Thudo t onlet', ' g he on ehe', ' on Tslt thu', 'ogon he let ug he', 'theg on Theletrg', 'h ug o  s ', 'ogpt the Tedg', 'on trgslepTog', 'Te dg o lth u', 'the   T eprug', 'g T e et o r', 'The dgh', 'thelt e  o u', 'olept hnT ru', 'slept Ted or e', 'u g slp hTe on', ' ong ep  te', 'dru h th s o', 'tehtu o', ' ogugsleheTe', 'lpt onhe rug thedog', 'e  slp ug the n', 'o  og Te e', ' h h ruglep', 'rugn Te lepte', 'th onedo le rg', 'ru dslptThohe', 'g sp t rg', ' Thedoglpt g n', 'he e rugd n ep', 'oge ru  ', 'n ept  t Te ug', 'e dheugsltn', 'on d Th th s', 'sleptdoTterug on', 'slet e u n eo', 'ru lp o he ', 'og he thesptg', 'g spenTe rug', 'Te te pt on og', 'te Teoseporu', 'lptn eg', 'h o rug he ', 'Th do g  el', 'ep ron te dgTh', 'dg seph gheo', 'Ththsep ru do', 'rg dheThslept on', 'o eruleptTh d', 'dru Te he', 'trep dTe', 'teru  olepdg', 'dgn letthhe ug', 'g r thenl', 'ug  dg lethhe', 'h h dog sru', 'Thsept do hrg', ' og o slt hg', 'odogsle The erg', 'slephrgd Th on', 'o T rgsl og h', 'letohouh', 'Th d slru', 'nslet rThe do', 'rugTe lepttho og', 'dog se  ug on', 'rt t The ndo', 'The doghrg', 'ru   og slp o', 'rug T o thlpt', 'rgdo Ththonslep', ' de os r', 'te dooe lpt', ' on lpt rug ghe', 'sle t The doog', ' depgohe', 'dogThe s og', 'ep Te th uon', 'g h hegslepo', 'eslpt onge dg', 'd hsl on therug', 'ru d th pt oTh', 'e rgonogh lp', 'ono r t sep', 'n  dog te lp Th', 'neth gtheg', 'dg onh sep heug', 'rgdogst te hen', 'nsept ruge t ', 'sept th one do rg', 'r te sle', 'slepohru  do', 'Th tet nogrg', 'Te  let   r', 'n T rgtlet', 'rgon thetTo', 'u g thhlp', 'g dg ton h The', 'og onTh th  sl', 'oonet u th The', 'slepteodog ugThe', 'eeptg', 'th leth ug', 'h ndogh rusep', 'n et go', 'eh d o let ru', 'sptrug dgon', 'Thesle u ndg he', 't g  Thugon', 'n h slepru o he', 'he he ndogru lpt', 'rth oletTh', ' d lept  ', 'te o ru do eslept', 'Te oo thegsp', 'og ohrug slept', 'lepno Thhe g', 'setThhndg ', 'ondo  hespt rg', 'hedru oheslp', 'rosept o th', 'The  og  rugsept', 'he ru ept The ', 'The dog n te rg sep', 'o  repdog e', 'dogthespton rug', 'Te thdo sep o ', 'he sleptdog nru Th', 'th  The ltrgo', 'he heudgsep', 'slpon ru do tTe', 'o  rughth', 'th doglep   Te', ' on ept g h Th', 'h dtonrug he', ' e d rugset he', 'og seruthen', 'e g slptodo', 'letten o he', 'd e pt heru', 'on ose ', 'edogunslet The', 'r sletgo Ththe', 'ht  g t', 'Thslpru  ', 'th ru T n set og', 'spren th', 'he e p rgn o', 'Tg do epthe o', 'gslpttg nTe', 'doonlpt th  rug', 'ugdogthe o elp', 'ugo the oThesept', 'slethe ugooe', 'rg onsetteoTh', 'hh o gut', 'onsl Thrug ogh', 'stndogh gh', 'l doug theo he', 'e spttheorug', 'g  lepton the Th', 'herTonlet og', 'gTh slpt o t', 'ghesletogthe n', 'n dgslept teru', 'Thet terugogon', 'Thg heleonog', 'neslptedo ', 'thdgThe', 'te hdg nlt', 'e set th  r g', 'thon  e ug', 'the e rgg n', 'd o rugste', 's te nrugd', 'onltud  ', 'rte oThe p', 'h nrg doge', 'h onTher slp', 'sletd ugh tho', 'Tntltd r', 'u gsle The  he', 'u he nog e slep', 'e hrg o lp g', 'dgrg on sl he', ' g te nTh', 'Tulonthe d', 'u nptth g ', 'rgThhe dogo', 'hhonost ug', 'ru he Te sleto og', 'd slp Tht', 'hedg lp T', 'he ru spn hdg', 'o theso ug Te', 'hdog le rugthen', 'hpteoru', 'eTh g sept g', 'let g dgothe ', 'lep rg doteTh n', 'dog u Th sep e', 'Theonleptdtheru', 'Te h rudoo let', 'dogThe  l t', 'lton dorghe ', 'he do ton septug', 'rugth oslet Thn', 'rn theogste', 'ugneptdT t', 'r sp eon hd', 'ghe ru e', 'e  slep ogrg n', 'the dg onr hese', 'T dgrugthepton', 'ute elt ong', 'et dog he r', 'Te g dog eset', 'hrg eolp dg', 'hrugg lep Th', 'h on gte sletg', 'on  rs Ted', 'onhethrgep', 'd r Thnte sl', 'setondogThe the rg', 't ohe The', 'heth oogleptr', 'heron e ogle', 'ug let Thnthd', 'oThelth r ', 'og e let rug ', ' on oThest', ' sp Thugn og', 'do onru slet ', 'dghe he nseptg', 'theg  e', ' dog The sr', ' The uglpt dte', 'he o slTheug o', 'dg e lp Thrug', 'rh te d st', 'Tdglep heug', 'tdogl Th ', 'g slpe e ', 'he orug eslep g', 'onrug Theog lptt', 'dog slet n thee', 't ru sleptdoTh', 'n gslp h', ' sp ro theo', 'ndo h e rugst', 'thspoonrg e', 'ht rg o epdo', '  tr setn', 'The tho etg', 'te o Te slpt', 'lt T  o  ru', 'rslp o e  th', 'othelet rugThe ', 'dog h ruglp n', 'rg Theon doleptthe', 'The ep ru odo he', 'g The se dg h o', 'th osluTh o', 'the storu The o', 'o d se Tth u', 'o do theTere', 'do Thenrgthsle', 'o rslept T', 'o g slth hg', 'eoug  lt', 'og  sthonr', 'e leteogo r', 'rug dlept e T on', 'Teslept h og o ', 'ette e o u d', 'tlp The g rug n', 'o rusep he he on', 'Te o slptuog', 'sledog neh', 'rg  te  hpt', 'rug og lt nte', 'gen og Tlept', 'g ept eondogh', 'og the Te ep ug', 'rglet do e h', 'odg he herult', 'st go h dog', 'h u on otesl', 'sleonde', 'g rugse the', 'set ruge the on', 'o g rug The lepth', 'lepuo th og', 'g r olt h Th', 'Th og teruon t', 'p Tdgeg', 'don  sleh', 'no sl the rg h', 'nhsep thdo rg', 'lt gonhe dg', 'og lept u', 'teTe leptogr', 'Th d rghe lpto', 'd ru e ', 'n  ug T he dog', 'ogletethe', 'Tholeptotug', '   hpt', 'he dgl ne r', 'on lp theT do', 'n he tho stug', 'T slpt u the', 'the on septd The', 'Tee g onug sep', 'ept etedg r', 'dhte ru on', 'eg dgo the', ' he slet Thdog n', 'g Te t rg s', 'onsleteTh ru', 'onuheoe slep', 'dgTrug on lep he', 'dog n rgslp The', 'e onstT rg', ' rgt ogone', 'olept hrugdg te', 'he dogru onte pt', 'he o lep r Te', 'd eprgheh', 'pheT oon rug', 'dgnpt g thh', 's Te gonug th', 'dg slep thThe rgon', 'ng r he T p', 'o l n Tetrg', 'rue heslepd', 'g onTh sl terg', 'ugone gep', 'he sethdgg on', 'h t n r g sept', 'het dogltonr', 'Th lpn dg he', 'su dg eThon', 't r doge', 'edg Telet  r', 'doheo eusl', 'othelept g doh', 'u dogslept teTon', 'ugdg slept nteThe', 'Tesptthe ogg', 'n r lee e', 'he r dog ole', 'theheon stog ', 'heslptug o he', ' dhTep', 'hedrg oset ', '  dge h pt', 'Th dg oslep e r', 'Thtseptoog', 'ho et hdogrg', '  u The sethe', 'heru tonth d', 'ug o hdo slee', 'eogg he he ', 'getTe rg', 'se ogrugTht ', 'thn spru Te do', 'ergspndog he', 'h theon gse', 'h Thedo rg nsp', 'ugtdo nsep h', 'e en hdo r', 'rgT ote oe', 'Th gg spont', 'slpthe dgg  on', ' th slptheru', ' on stdog he', 'he dnu h', 'org dosp', 'lpt onhegthe', ' e gontd', ' lptrgthe ogThe', 'dog  tThltrg', 'on h Te sl dog rg', 'g onhogt', 'sp doghe onerug', 'Th het g dog', 'nsp dgugh T', 'ru Thsep dgh o', 't nTds rug', 't on dogg slept h', 'rueptontheg', 'ru Thspoghe ', 'gp do thoh', 'on dg ru sleptt', 'The o setdog the g', 'Tg nruslp the', 'sp t ug on oghe', 'osetTheonugh', 'sp he n oeug', 'he h on o slp u', 'ndeThegsl', 'spotdoTher', 'rg Thedo slep one', 'Teteu og p', 'st The ohou', 'Tog leprug t', 'u lep he do ont', ' slep The  ru o', 'The hesle g', 'Thesetog te on', 'u slethono The', 'on lpt he  rug', 'sepdogne u', 'slep Te tg r', 'lpdgon  heu', 'slep h rg  Th on', 'dognrug the slh', 'thn dogsepThe ug', 'Th heslep nog', 'strTh dg hn', 'rundslete', 'dgn  p T', 'org st thedg', 'n lptug', 't dglepohr', ' tdo nlpt', 'terg slen e', 'Te he u on pog', 'ton ugTh slptdog', 'hsldgon herg', 'rg Thog slept o', 'en eu th', 'ug  on se', 'Thgn esle', 'n g th lpt oe', 'the dron sethe', 'sepndo he rg', 'ep Tu oo', 'Th leptug n ', 'et toguon Th', 'Te lep  ruheo', 'Thedogr ept h', 'The theog onusep', 'lptTh h rno', 'rgT p o t', 'Thsletheru o ', 'do e lep tu', 'stg oThdog', ' heseptruo h', 'eT te ugnd', 'th leprg The d o', 'r s goh t', 'hon te rg lep ', 'ep o og tergh', 'r thehe do pt', 'do hsl r he on', 'on oglp The ', 'he n osep ghe', 'e slpt ognTh', 'ho spogthe rug', 'teT slt ', 'lept on h tedo ug', 'o e the onruet', 'rgtehe nd le', 'dsp Ther', 'heheog rugst', 'leThen rg dog', 'dgo Thp hrug', 'dgn Teept th rug', ' n e g gset', 'hehe ogr slt on', 'o  sep ug h The', 'g thThe g lept', 'the ug d st T', 't  lpth rugon', 'Tedg e the r', 'onp Te g', 'thhdogrug', 'tTh o rugoslt', 'hle n Theg', 'Te rug se og othe', 'th o gst e rug', 'The dg le t n', 'h thslongrg', 'on dh sle eug', ' thTherslp', 'ondog rutesl', 'n th Teptg', 'se thrugThog', 'ost rdog t', 'doglep e h o', 'Th g u set n th', 'h dget Th rg o', 'epteg on  r', 'ln thogTe rug', 'ept dg The ru ', 'seprg do e h', 'oTerghp', 'nu pt th hdg', ' sleprgTh th', 'rgslpndog teThe', 'he o oteru', 'gTh n  sl ', 'o  d ug sleptt', 'seg rug  hen', 'lp o rgdog', 'dogth n slept e', ' o rug Tlt dg', 'hug Th le d', 'og  eptonTh', 'Teheolep rug o', ' ono r ', 'o set e rug', 'Te u dog slpt the ', ' pTerug', 'the h o strg', 'ost T', 'h on sep rdog', 'Th r sltdg te', 'thgo n', 'n drg h', 'ru onthe Theogp', 'rug te np d ', 'ugTh n ep', 'dg npt tT', 'dg he l rug n te', 'g hsp t rug', 'he slet onrg tho', 'n ergdte slept', 'ghsp onth ', 'tdoTh  r slept', 'heo esptr', 'rsept o Th ', 'Teondsl', 'Trughe sl d', 'hgu ohslpt', 'ug dgtheT ep', 'onthe rug lept', 'do  g lpthe', 'ug oneTheg ', 'the dg rg o', 'ru sp The og o the', 'T nst  udog', 'g teslton', 'The t dogsleo ', 'T ugepgone', 'tdg  slptThon', 'o nsletruthehe', 'ost Tho  ug', 'slt theo hdogru', 'septdogTh rug oth', 'o The heslt g', 'on  g slh h', ' o the rgtdo', 'seugthedog', 'h ru d lep on', 'eto hh  u', 'heu ltdog he', ' doo te ug e', 'slpt on ogg', 'the no sep rg', 'et n dogTe he rug', 'h lptdogotherg', 'le ug tedgThe', 'Th g h  epu', 'dogl rtT n', 'rghe Te ndglp', 'Thdgsp rute on', 'lg ong teh', 'uslehetog', 'te The g o sep u', 'e e  d on rug', 'e dspr nTe', 'ruset on The dg', 'd Thrugonslt ', 'ogruhehe et ', 'h set  he rug', 'theg ept  o Th', 'sletn ru', 'r dgehe  ', 'et ru d Tn ', 'r onstTheedog', 'ug gslet he e o', 'Teton rgsept', 'Thesl g', 'Te og on rgsethe', 'g g lp  theT', ' leptrthTe', 'hono hetug', 'Tgte sl un', 'he ltnrg h', 'etg on Thgh', 'the u The d  ', 'ndoptheh', 'rg th let onT', 'e h  d o u', 'tedgou h l', 'g gleptheTe', 'e slt odoT rug', 'The ogth rugon', ' slpt th g', 'he on slep uTe', 'e rugt ', 'e thesundo', 'teg ltT o og', 'g le ohdog he', 'Th d hnleug', ' thesep g o The', 'slpt The n ge', 'ru doT tne', ' thlet dog n Te', 'eslenu th o', 'te e sn r og', 'dog slp ohe the', 'ug osept en', 'T rh slpt oog', 'dherg e h', 'rug d o lph', 't h  ne', 'hdog hergn s', 'theep he dg rugo', 'depteonTheru', 'Th o  th lep', 'sletog nTh r', ' lepteT dog ug', 'th doslt g on ', 'eog ep e do', 'h The  dog', 'T ugodl', 'slethngTe ', 'on e dlt e', 'he nset  oghe', 'slpt t Th udg', 'Te  the leptd', 'heh s  do u', 'ept rugtedog ', 't olpt ugT g', 'nhe rgdlet', ' The tolptrg', 'rote spt T dg', 'eon leptd rg ', 'dg rug on  h', 'h on orugep', 'slep thn udg', 'septnh thedrug', 'r o te pt The', 'th slpt u nhdo', ' The ept udo', 'h og n t Te', 'sorgo th', 't Tel dog onu', 'tTho dg ruet', 'ugnst Tthe d', 'heslto edo ', ' nslphh', 'he usg onthe', 'lpon erth', 'hog sug th', 'sl h To rugog', 'set  Tg o', 'Te g o ept', 'rug h osleptd he', 'd Tlpton u', 'Te org  tte', ' teThruglto', 'sle Tedg teo rug', 'pt ug te og', 'r nh  e', 'dog  onrug elet', 'nT t dosetu', 'hegT seon u', 'u se eo he dg', 'dgn hh gst', 'hedgh slprg ', 't sle n  rdg', 'The sltdohen', 'The onlet ro te', 'he dog n  he', 'et te rughed', 'ug hdghle', 'osepruete g', 'Te nspt g h', 'onheug og sph', 'Tedosep e ', 'he prugon dogte', ' dogThehe p', 'p Theerg', 'tee rge dg ', 'e gn lp  rug', 'uhTeon dog p', ' sle dTeug', 'rg th lptonh do', ' heog slp n', 'ugdog The slept ', 'dgo slu the', 'rg on Tesp t', 'e n Te gleg', 'Thethpo gn', 'on dg slptheh', 'o epth hon', 'dolp ruTte', 'ogtheo The slep', 'doonrug sleptet', ' sedg onTete', 'h o rugthe og slpt', 'Te ugn sledt', 'Theug lept ont g', 'dg theTo ept ug', 'udogt n p', 'o thlptrg Ten', 'ept u t on', ' he l rugdg', 'thlpt oTru', 'ho o he sp rg', 'nglee dog the', 'do rs he ', 'Thg on sleptog', 'he don hept ug', 'p th dog rhe', 'h lpton drut', 'ru heTheoslet', 'Te  enst', 'sept ndoe the ug', ' The epog ', 'rugspth  the g', 'ltn Thedo t', 'og h lep terug', 'Th r odgspt', 'Te l d tho', 'tt n r dog', 'l on theug', 'he prug one', 'Teo seo rugth', 'd h h rlep', 'he n slet g gThe', ' on p  ug', 'eslpruTg', 'o T lep u on te', 'ono sept e u', 'ugh  do eslp', 'hg  eu lept', 'elt hru n o', 'hn Thdog l rug', 'g  nugte sept', 'let th og ruThe', 'Telethdg rg', 'Tdorgle oth', 'out lehen', 'n l hdog Th', 'setdo th heg', 'uo hoh le', 'herusept te do', 'og the elep r', 'h et rnh', 'Tg te rugonl', ' tosle r og', 'onuthtg h', 'Tetlep  on', 'ndglThe e rg', 'ue slt  e', 'slt e e u ond', 'leth  rgo T', 'gn hset', 'dg Th rusletn', 'oog he ru slt', 'do eset onug Te', 'hesep n rue ', 'ptdo rug o ete', 'dteh nsltru', 'n do pheug', 'hesleptuThe o o', 'he ogu o tslep', 'Th sep ge d', 'g o eh ruslep', 'gsp d n The ', 'o thl Theo', 'Tug dgthen', 'slhe ounTh', 'Th slet u dg te o', 'r do slpt he h', 'h ugdheo slep', 'r the e slpt', 'Th n uet te', 'dst h nTherug', 'hed seruhn', 'dgnle ru te The', 'ed e ep nu', 'he nslpote ru', 'hds  oe', 'set T ug n theo', 'The etrg t on', 'eon   h sle', 'The tlp n do g', 'telpon rugdog T', 'the le r ed', '  rugst thhe', 'ug st doo Tht', 'T dslet rug', 'pru h nh ', 'he g odogep', 'ugoslpTe teog', 'lept e ru e doon', 'edorugon ethe', 'thet on ug dogTe', 'o st n T th', 'eru Thdg set', 'u o  d The the', 'o gteruslptT', 'heusletoe n', 'ruteeThed', 'slept og rg The', 'hn g rug slp', 'oe e  leto', 'the o Teog', 'e the leptdo', 'teug lept o Tho', 'ong ug heThlt', 'onu  The slp o', 'dg n lpTheru t', 'nesletugho', 'n slpt dog rgthehe', 'Thlt ug dothe', 'slet dogru Te n', 'rgdog o Te ese', 'hesp ondgTerug', 'h ette rgog', 'Th onlergo the', 'Teron gtelt', 'st og ther  on', 'sethe Thu doo', 'thh o ep g', 'heu hp', 'Th o ugthe sle', 'doo rthe slept T', 'sept ge odog', 'rgn  septhThe', 'p og g Te ', ' Theo dg the r', 'T on therugept ', 'slep dog o Tete', 'rugT nth sle', ' slpndog ', 'on er dogl', 'epTon ug  th', 'T th rug n lpog', 'gThesep on ', 'g T ept on he r', 'Terth ondo pt', 'g thh ruslp', 'Th see o n', 'ugg slp n thT', 'g og he eptn The', ' t  et eg', 'eTpt ugg on', 'r Tedo on tep', 'e  slpt d  rug', 'T dog rg l n ', 'h theept rgondog', 'letedon e rg', 'e dog sete n', ' o etteo', 'h o on te  lpt', 'thsept ugo Te o', 'e Teog le on', 'do tee np', 'g ep ho herg', 'h t leod u', 'h thdo nslpt', 'hedo ruth o', 'ug dgn epThe he', ' he sptT r o', 'hr Thegspt', ' set g teT', 'sep  hThe rug g', 'og ruglet onTht', 'eg slp Te g', 'on hedo slp therg', 'ng the r sle', 'rdthThelpt n', 'Th  ge lept r', 'lpte To  dg', 'ug e pte dg', 'he e doonhru', 'dgTesepth gn', 'o Thenrug hspt', 'ugtset og n', 'dg th o r sp', 'slepheon ruge dg', 'ptehe onrudog', ' ep The on do', 'ogle ute h', 'rTep n og h', 'theslptn hdog', 'rgst n o ', 'Te spteog og', 'oh d g slepthe', 'n s dor', 'r d hsepttheo', 'pt hn heru d', 'T  gs rue', 'he slp og rute', 'og o Te tlt', 'he ugo d lhe', 'rg on slept Th te dg', 'h o slet', ' leptdg rugT', 'stogh', 'thog slpt  rg', ' rgslept ghe', 'rle d th e', 'u e eon', 'he lt o d', 'h r eptd he', 'd n hruslpt', 'o  ru leptTh', 'do t  g Th', 't Tel  rg og', 'n  do rug', 'the on gpt dge', ' rudg lep thon', ' grsep', 'sep  he ndorug', 'ugdg sl e Th ', 'oTe lt u', 'elo tdog', 'hedg Te etn u', 't nr slp dog', 'on hh  e ru', 'edog the lt rugo', 'truoog set ', 'ru The dog nhe l', 'e g Thnp', 'T  lerudo ', 'sept hon rgdoe', 'og g sletn Th', 'g on Te g tlpt', 'slepto tedThe rg', 'ron gth he slpt', 'on thdeletrg', 'sl rg ndo', 'Tlpt n ugthe g', 'o rug togTeslp', 'Th rugep t o', 'ru ont e dgsle', 'h dogo ru lep the', 'heogo h u lp', 'the nThlpt dog', 'the sle o gog', 'rgepttn o', 'trdo The en', 'h o slt dog te u', 'h n dogr lp', 'ep onthTeug', 'rg edoge oslt', 'e  uTesletd', 't Th nsdo ', 'sdo onTe gth', 'dg oh', 'h slep r on T', 'dgthe pong Te', ' u slept he T ', 'r eponhed he', 'Th dlep o ru ', 'slept do Theugo he', 'Thelepto onh ', 'on r leptTh', 'd nTheleph g', 'detth', 'gl oTe ru', 'rgTheslonoe', 'Thehonset ruog', 'd oe e he ug', 'on r sep dgtheThe', ' ruo gesep', 'Thdgo rlept he', 'g oTe dg te', 'h septogtherg', 'on spthe ', 'o dog ug hept', 'ongthe', ' slepdg he he g', 'set ee on ru ', 'ug dog te The n', 'the o othe', 'o sptneu', 'heep o Te ', 'r on thedg lep h', 'n hdother', 'onhedg slpr', 'o rg on et th', 'uglt dn Theth', 'gohest d he', ' udog tph', 'ougdog T tese', 'seoghehru', 'slpt oTetherug ', 'lepdg u ht o', 'n slee ue', 'se d he  th', 'slepthe udo he on', 'heogon slthr', 'eo slptTeg', 'p o ugog hThe', 'Thedoghen s', 'e   on edog', 'e thTe onugd', 'slengthe r e', 'The sept th r ', 'slpthe rgno', 'o h ugspdhe', 'tnrog h slt', 'hon ru ogTh slt', 'sp dg ote Th', 'l Thethe og ru n', 'slpthe rgnog he', 'slptte rug o o', 'dge   lep', 'p the Teougdo', 'lptTe he g ', 'h erg  Tdg', 'Thsp ug theodg', 'o ptThe r', 'r ote doslet', 'pt dhhe ru', 'rg epghethe', 'dg slept h oTh u', ' onsltdtu', 'sl ogonheTherg', 'The spton he r', 'on ru Tset thedo', 'dog lpTe onr th', 'o T pt dg rug', 'nrg g h h lp', 'Tndogt lt', 'thonldrg', 'h dgr et he', 'sp e dogeon', 'thsltTheon dogug', 'dgoptte g', 'orgthslep ogTe', 'nptugdo h', 'te rug gnTsle', 'rg o slett dg', 'e udg ste', 'hdo e  tug', 'the o herg ep', 'gongTheeh', 'thle hg', 'dg slet The rth', 'The do on etthe u', 'sept he Theon rud', 'rug dg s othehe', 'nthe  ept T o', 'rgogsl The', 'edo n ueh', 'sle th org  dg', 't o lepthegon', 'ug Th sp og e', 'thTerug d pt', 'leponr he', 'ept e g T u', 'nlpe e  ', ' sltrg Th dog', 'heoslpt  r', 'endg e uTe', 'letthe dT rug', 'ht g o t', 'the dg h gleton', 'st theugTe', 'Th the ogsp ', 'th rtTheon g', ' n T ept t', 'o slepruge ', 'Terug et', 'rugh ogo lpthe', 'Thn sletrg dog', 'te e nlg ru', 'rg doon Thetee', 'Thdg rug hepo', 'sl  thon o ug', 'sledhenugTh', 'dg th on sletThe ru', 'stdon  Ter', 'do thergThs', 'g h g te on le', 'g theru lton The', ' gthe ep h', 'r ondglt th Te', 'the dogo heepru', 'hsep ono ug', 'sedo h rg Te', 'te ndog The g lp', ' tseptu ', 'd on The rge', 'g nThe sephug', 'Theonr th o sept', 'lept dog e n tr', 'dogtel n rugThe', 'o Tpthdogr', 'Ternoghe slt', ' sept rg e hdo', 'n or th l', 'Thonlt gther', 'tdg slp o eg', 'Th s rg te', 'do oslet u theThe', 'otdg e ep r', 'sl ghe he on', 'h gd nte', ' hedogg p', 'ndo slepter', 'the rslptoTh n', 'ogTh lpn teug', 'sp r ond ehe', 'teogTh pt onrg', 'o The dogph', ' tlpndog ru', 'gheru te  ept', 'dnt Tslept', 'T ugdgsl h o', 'n The sleptthrug', 'heogslt heu', 'sleptt g rgThe', 'th oeglptug', 'on  ogtheug', 'onst g hrg', 'rg  he h onle', 'd t leptheorug', 'e otheo sept rug', 'gthe   spt og', 'slptThe ong rg', 'ep   onut', 'ru og The n let', 'Thepto ugte', ' hg sp r', 'ugT oghe ept o', 'lpThe gthe o ug', ' dorugle he', 'tedo on Thesept', 'hesl go e', 'o p  doT', 'dn t tr e', 'oeug e se', 'lpt o T r the d', 'Th lept o the og ', 'sedogn Therg', 'ohhrug', 'dg to The rug', 'r h og sleo', 'doglpton etru', 'et t  dog g Te', 'erg o thsle do', 'The  o slept terug', 't epr do', 'gThnthltrg', 'Trug slth dg', 'nrug ohethle', 'o ug st o the', 'eonolep rue', 'o ep redo', 'r slptth T og', 'onghethu', 'lep he onrg dg te', 'The hse ugo d', 'odogslet  e', 'Th og e rg on ept', 'dothe sl  ru Th', 'Thergn thsl', 'rung le h', 'h d T rgn', 's eun t', 'the dugThe o lt', 'dogelept he rug o', 'ogpote ug', 'toTse onrg', 'heote rg slpt', 'org lpThe n', 'h t eoruo', 'e on hle', 'o sleptrgog ', 'on ugdogete sl', 'u d spt e ', 'Te lpu thoo', 'onTep og', ' h sl Theg on', ' opt  he', 'Te te dog set', 'ugdgthn spt', 'o rug Tslonh', 'r en do the The', 'on hlprTe', 'o ru slpt onthe', 'Theslep g on og', 'dog Thruep  ', 'the T st  u', 'ot dg ruhe ', 'lptthdog onhe', 'rugslept The tdo ', 'theru on dog sletTe', 'het o slp rg', 'dog Te ltuo', 'dogh  r te st', 'T dog the  on ep', 'ruo Thepth', 'sl rug dogto', 'sle e he ondg', 'lp og gT n', 'ugo heo Tst', 'slt dgnThth', 'Te e dg rulp', 'heogrg slt nth', 'st og thTh  rug', 'dgheoeslpt ru', 'the lptdg orue', 'eogo thulet', 'h o rg onte t', 'd slept thru one', 'heth dgule', 'he o sle org', 'rdo h on Teslept', 'slp g onT r', 'o h u sthe n', 'rgon tted Te', 'ugo tesepthe', 'T rog hen lep', 'u theon h et', 'Thth slepug', 'g The se e o', 'uep heoThe ', 'he  lpo', 'gdl theThe', 'ugg heseton', 'ogn hehlt', 'r se he o o', 'e hslptdogon', 'e og nrsp te', 'ruph T on', 'rgthp he ', 'e he r  ', 'oru  Tetep', 'on he d sler', 'od hehesept', 'dglpt n theh', 'Te dogrepth', 'Tg the slpt on og', 'nhdogthrgpt', 'the rog lepTe', 'he rgtheg st o', 'g eou sle', 'the lp Therg o', 'ute o Th lept', ' rg sltthe ', 'nto ', 'g on stdge t', 'hdg ugspt ote', 'st do Te onth g', 'The o p g hrug', 'ru  Th heo', 'T lergho', 'h dogs the u', 'ontsl rue', 'h o h onset', 'rugo d se thTh', 'rugogTeslpt tn', 'hTh  n slr', 'on eept oTh r', 'thesp o o rg', 't rug sptT', 'T o terg  lep', 'o h ru  slep', 'ept Teogrut', 'oth s The u', 'thd e  o', 'sle oh terug', ' he Te rugn slt', 'h letdthr', 'ruge ptted', 'dog hThelt rg', 'o Tngh sept', 'Te g tsondg', ' hrugth sl', 'rthe Te song', 'h o eeogr', 'e rgd on sp', 'l dog egt', 'rugdlptonhe Te', 'the og ugTe oept', 'theon  do l ', 'hedgThe g slepon', 'n et dthe rg', 'g eono et', 'lp Tehdog rg', 'dog lugThen he', 'neru Tedoslp', 'Tho et u', 'n set h dogug', ' hept thu', 'og nsp hhe g', 'h The seprg og', ' th ep r', 'he onu tdo lt', 'ug lpTeo  e', 'e undog h', 'te slptTh ogg', 'onthele ug  e', 'rugs ot g', 'henslegTdog', 'sletug ogT', 'Th oggslpt on', 'u g T te n let', 'rugletTen e g', 'Thothe og ru lep', 'r Thdog  e lpt', 'do the rg et o Te', 'eogr lpt n', 'ndug slpt teTh', 't  The sleptrg', ' thon sleTh', 'rgthontdog T', 'set o heg he', 'ruslept gTe n', 'lep rondg h ', 'hThelet  ru', 'thedo Theo g spt', 'nspt theh ru', 'on  lr e', 'leonhu  og', 'oTht th', 'slephe he uo og', 'h og rug tsp', 'gse  oghe Te', 'see Trg dog n', 'the slept Th rugo', 'u The on slpt', 'odg sl Tthe rug', 'g o g Th te lep', 'gTh  trug', 'no sle g Tet', 'gleg h', 'run dglt he', 'h on dogTe ug', 'Teog let rheo', 'g ru th sepTeo', 'ug slept tT on', 'eputeo he', 'u etTheon do', 'onru sphe ogthe', 'ogslept teon e', 'e do set h g on', 'e gh slepg on', 'g Tedg n te set', 'rg dg he sehe n', 'Tesettheon', 'u sp o ', 'dog he hee', 'Thesletorg', 'T o lpo th', 'he slerg e n', 'he te etnd r', 'ehe rug doglpt', 'l dg Therug on th', 'rug slpt n To te', 'lep rug  h dog', 'ughe Thost n', 'odo Tthet ru', 'rg oTte lp o', 'h en pt grug', 'ptgth on rug', 'hesep o rug T n', 'sep thgg h', 'dogohsep the ', 'he on dg sletug', ' heugg e', 'g t dog eet', 'hedorugslet Ten', 'rgsle en d h', 'Tesl on th do', 'ept  d Te e ug', 'setnhe dog rute', 'pt t ruo dg', 'u gohe slt', 'The rg  do on', 'rugptth doe on', 'ru slt dognheh', 'on rgogteptT', 'hsp on h gru', ' epte ter', 'ru sl n edog', 'h nor slept', 'hedgon The set g', 'sep rgoT g', 'ug d Tehslept', 'rg The  oh slep', 'g orgset', 'dg Th lptterug ', 'heog sp rg h', 'he Telet ru ogo', 'on g ethe tr', 'Te nthsptdg', 'T g eruspt', 'r h lt ohe do', 'lp nrg doh Th', 'rgon lpe th g', 'rue leT', 'th spt n do u', 'Theon u slptedo', 'on gg T thep', 'lpt ogThgo ', 'or the dogThspt', 'rugosl   he', 'spg t', 'the g  gep', 'he the lpog', 'doe h sptr', 'edo l ru', 'epog  rug the ', 'u T epen', 'the he rulpo g', 'T rg on set dg', 'grth slo', 'teglepthe u', 'dgTh lptnt ru', 'se dogto rg Te', 'oheonrug lpt h', 'ugthe  slep', 'pt e Thog', 'p te do  Trg', 'rug he dg onst', 'Tedog ruth leto', 'h sr ne', 'ugdo sptTen te', 'oonTh e slet', 'Th st eug g ', 'Thsept   dg', 'heo g othesle', 'e  e sltrug', 'r pton do t The', 'The nsepdgte rg', 'h thed nugsle', 'le g rug', 'lt oh rg Te', 'ehe dgug tn', 'og The the rslept', 'seo oh ', 'trug le n h', 'ru Thst og', 'o dh lept T', 'u dog nept', 'oheth doslptrug', 'Thslg  e ug', 'e lpteo rug g', 'ndotTeru sl', 'rug pn tog', 'st dotuThn', 'dog r ntheT sle', 'hTh o ug eo', 'hdog te sle o', 'sletg ughe he', 'sp nrdoheTe', 'Te rgeptone d', 'oThe sltr o', 'etruon ohe', 'dgse etherug', 'o Tedorg lept te', 'Th teot u', 't g h o terg', 'lpt g uon', 'Te ruetontdo', 'e hdon rug', ' rud th', 'te do u let Theo', 'Te ntheuglt o', 'dophe n Thug', 'Te g ne', 'sl ronhe o Th', 'rg dog let one e', 'et gTh n thrug', 'rug dope Th', 'rug eog oThee', 'heug lt oh', 'sp t g o rug', 'on T doslepthe r', 'ono he ep gth', 'sl dg theo u T', 'h r sptote', 'h o do slprgh', ' hed on gsept', ' rugs the e do', ' sletdogontug', 'se ho rugthe o', 'seth u do on h', 'h  on slet te ru', 'on sept  ogThe h', 'lept  don Theg', 'septo e rgtheg', 'Tlet   th rg', 'Tngeslp', 'he setorg the do', 'og Tesep rgon e', 'rg dgon Teh lep', 'dogsl Then', 'rugT spn o h', 'lpt dog e hon', 'lepheo  te n', 's do te r', 'lep d r hte ', 'dg  slpThet', 'he rug gte  slpt', 'dtThenltru', 'dg uslete ', 'honh edg', 's u hdotn', 'dgtheTnsept ug', 'nth hept g u', 'p r Te teon o', 'hneptTu', 'te on uThe pt d', 'nru et e o', 'ne hedog srug', 'do l e nrg', 'e u tg tn', 'h ug slpton e ', 'on dg ug the Thsep', 'd h r slp th', ' ept The r o', 'rug onlpt The dg', 'he g sle on do The', ' Th pt teorg', 'r dogThet  ', ' slep henu he', 'slpdo on ugthe', 'n let rThe h', 'oT th doslpug', 'eT slepton ru ', 'nTelept dg r t', 'do rg Tehs', 'h Tenspt rug', 'The e osg', 'The gghelt', 'leto heThe n u', 'otedo The spt ru', 'dogsep   t', 'dgT on help', 'Teo slpt do', 'ee o letnr', 'og  n t el', 'oon heeug ept', 'oheslp rgthe', 'eg Te og t', 'o g hle t', 'h dep ', 'leptorug teog', 'slt eog ro ', 'og ete  eg', 'slp d e og', 'e oruhdg lpt', 'hesp dog  n', 'huh on ogep', 'dg o eptg eT', 'Theheru lgn', 'r slet Tt', 'slpt rg t Teo', ' he slpthdg', 'Th o do the t ru', 'g slt  th o n', 'o e ru  o spt', 'letTenrugg h', 'Te slprug ogthe', 'dog Thr slp  n', 'teT n o rg sle', 'og onslep T rg', 'slt d u  The h', 'Tspn rthe', 'h pnh rg', 'The set g g', 'gug epthe n Te', 'rug e le neog', 'u lepon th dg', 'dogn tslug ', ' oThe letr o', 'sedogTh', 'e the ptog on', 'neste ogu', 'slepont  Therug', 'lpt  e onr', 'tegsp ruo he', 'he o Te t', 'on re d e lpt', 'ther slep do he', ' slpto o h ', 'The o rug l t g', 'Thte pt go', 'o th ruon Tlep', 'spt uh dgtheon', 'r  t dg slep Te', 'on sltuh thed', 'gn T theslpt', 'eTheth do', 'u ogthe Te sp o', 'rTedglet ', ' e on ug thep', 'slp on Te ', ' ge sle rug h', ' rug Ttdog', 'lpt onhh rdg', 'ogole rg thehe', 'o t dogru he', 't o spt To rg', 'l on g teu h', 'sepn he r the ', ' h ug tes', 'seprgThe theodg', 'olep rg  Th', 'Te ep ru onh', 'hlpTeoug', 'e ep ruogT', 'tspt Tdgru', 'on ehedog lpt', 'ugo he   st', 'dgn setthe e rg', 'Tethe onrugoge', 'h g slept on rghe', 'te sep The onrg', 'ru tehe doglep', 'rh d ept ', 'o ug Tlet h', 'p og hon te u', 'on te T pt og ', 'hen ugpt ', 'rug ogonlpt', 'dun te e se', 'slptT he dg ', 'ruep Thedog', 'The g ughlept', 'rohe og the p', 'uglpt h gT n', 'gthThe ru n l', 'The teep dg', 'hee tugdog n', ' oT the lp do', 'hu slept oo Th', ' sle  dteru', 'T he nugdogep', 'oe sp ruo', 'thesldgo rg Th', 'r h l on Te', 'u These dhe', 'l heug eon dg', 'on Te dseptthrug', ' e e The', 'Teleptteorug', 'trnspTh dg', 'nse dothe ', 'sept n Th thg ru', 'Te dog ug le n', 'rlep he   ', 'odglerugth', 'doglpt he n ru', 'o dog he e lptrug', 'eh n og et', 'T he p n dug', 'sleTerg on h g', 'gT lt  n', 'dog e heo The ru', 'he nle g Thdo', 'dog te slp ruge o', 'slpe og   o', 'h sle r o dh', 'he ondg tesept', 'dogh o t rg', 'udg to sl', 'slepnd h ter', 'o Theslh og ug', 'rdog t  thThe', 'The slet her o', 'the  spt ugog', 'the Tese ndog', ' og rule', 'slepgThe o  n', 'slpt un The he ', ' onslep dTh the', 'gu  lepthe', 'helpto n terg', 'he dg ', 'ge rg  sleton', 'rdospt heThe', 'heogslept o g', 'Theu sletedn', 'u o do hslt', 'o lt rughe o', 'le ogThen  u', 'n log rg te ', 'Te rg n so he', 'T pt g gon', 'Te h do ruglpo', 'T te n r ', 'eslp ho gd', ' ug ghe  sept', 'e on lt do t rug', 'g on slep Tt ', 'gh lete rgn', 'dogthp rugTe o', 'th l The ndg', 'g septTh othe', 'dogpt The terug', 'ughe dgn hspt', 'on le heud', 'gThtsleptdog ', 'slep reon', 'do  ru h ept', 'd h espon', 'he o sleptu Te', 'heth do ser', 'nte h og ule', 'eh stnrg', 'e thdg e  n', 'T  dg s', 'he d ept rug t', 'oslet thg ne', 'ron Th o thept', 'hethnep u', 'on  rg eolet', 'd teh on p rg', 'he os on Te', 'sledohe nug', 'lptrTedte o', 'ugdoTe et t o', 'e le  e dgug', 'let onTherug  dog', 'sept dog onhe', 'rgton sept dg', 'Th nslerug o e', 'ugTh olp g', 'og  slton ug', 'Theo ulpt', 'o  spthee r', 't odsl r', 'ug d slpte h', 'e rThsp on', 'og sle Tte', 'ugp  tog', 'leheru dooh', 'The gthe rug  lpt', 'erdo osthe', 'dgo lpTh he', 'Thergosltd he', 'doThete g', 'ugthe slepte do n', 'doT ru he lt', 'e  ougsp', 'Tenlpt gogt', 'rgdo sln Th', 'th rus  onog', 'n heg lepru', 'o The g hest', 'grug lept h', 'Thedo slpt run', 'te dogo e sepu', 'n Te og sept rug', 'the slpTeonogg', 'og onul  the', ' hsetdo ug te', 'setuthe hdog ', 'thslpt  o ', 'rug n hesep', 'heo slpt ug  ', 'u s nt', 'edogru e ', 'n dog T rug t slept', 'lt h thou n', 'rge lp e', 'o heslpr e', 'og th herusep', 'do slptte T rn', 'Theslp dotru', 'e t Te  ', ' dogug h  slt', 'orust dogheThe', 'spt e heonu', 'slep he tegrug o', 'eslept on u thedog', 'Tnst dog e ug', 'sle dogteorug The', 'th sleu  Tedog', 'r Tedone le', 'n eptg gThe', 'dog s th nTrug', ' Teslepor', 'he do rugept nh', 'e  uslept o', 'dg o Te ep t', 'Th  se e ug', 'Tosleptug', 'ole hedog therug', 'og ghen h slet', 'Thept ndgru th', 'Te dog th  lpug', 'te ru Thns', 'slt dogrg theh', 'tespt dog o ug', 'tdog u Thetho', 'dg ru n th Thp', 'e he doo gsle', 'h thnlpt rug', 'he o r g sl', 'slpt one therg', 'du slptn The', 'dthe on slee ru', 'udog n he let', 'nugheh dg sep', 'th rg dooelpt', 'ug g slthe on', 'he n rug Thp', 'ose erudote', 'tltTh rg g', 'og slpt tenThe', 'terhgst', 'e  tn t', 'rg hon seoTh', 'slthedonTer', 'u the hlpt ', ' u sp h e', 'nhsp dT g', 'ug Th n tth', 'ete sleprgnog', 'rugog lept heTho', '  Tslett g', 'he the do ugsle on', 'rh se Th', 'dog sl  erg', ' g on pt e', 'g dhlp  o', 'slto o ug The', 'og T epthrugn', 'edgtThug o', 'h te on rudg ep', 'nugTh dgslep', 'gdogeslet e', 'teTe sp g do o', 'thne ', 'dg sl t rg on The', 'Te slpdorugnth', 'e Thr ond let', 'ledg nT ug ', 'Ttog ptn', 'h th nsletog', 'rugoon Tete ', 'Te thron lept g', 'oner hespt', 'pt dgr T hon', 'Thonu sept the ', 'Teh dg n rugset', 'rug sltn d T', 'hedo n let ug he', 'og on eteeu', 'T rgg te onlt', 'dg e onslept Teug', 'ogonpt e he rg', 'og onet t Te g', 'sp h tho do u', 'Thth ugn slepo', 'dg le ug h t', 'on sleg e g ', 'he dgo h slept', 'org on th lpt', 'g ug eptthe h', 'Tthe do s', 'hh r eon d', 'dg theethe rg', 'tedogTh onusept', 'upehn', 'r he T ogsep', 'on ogspt et rug', 'rhl n dog he', 'o rudogteh', 'ugdo Teh sl', 't  uglh n', 'Thdogr hp o', 'othe dleptu', 'r spte he o', 'pgdo h ', 'dh ept nTe', 'pthe ong', 'e Theudoglept ', 'teleugdo', 'e let gongh', 'oheslpt uo h', ' e t he on', 'leto hn ', 'e t  gdo h', 'he on slp h', 'oru he e ept', 'he ogle ug ', 'g Thon dgslt e', 't dglt on Te', 'Therug een', ' thee o', 'on h theug gslp', 'teptoheon', 'he u slet The ', 'th g r lept e n', 'set gth or Te', 'r dog he et', 'lt he Teon', 'doThelpth r', 'dg  r p n', 'ognset h rg', 'uT dghelep', 'nrdote pThe', 'g thed sl', 'on dsle teg T', 'slept he tru dg', 'on g eptut', 'slep nthehe', ' hrg gpt he', 'rugnTheet dog the', 'setoru t Thdg', 'Te ondou sp', 'g he et e d o', 'g rgThone l', 'dgnh u lee', 'slep u on oThe', 'Th he seg o og', 'Theslptong rugh', 't dogruthehe', 'dog   Tee l', 'lept dogT ne u', 'nrsltTe d', 'ethleptg og', ' l og he', 'Te lpt  hdgrug', 'o doet h Te', 'thon Tt', 'tslt on gogh', '  ptTrug g', 'thrug Teo pt', 'oose th ug', 'spt To o rug t', 'g spt T  nh', 'thedgspug on h', 'teedg ose ', 'tr sepdo e', 'rThe e do then', ' the o ug ele', 'o og et  e', 'th dg seThe gn', 'dog Th oru th', 'e goru hs', 'the slpt en', 'he he u  o sl', 'onlpt hrugo he', 'h o lptgT', 'rugst  t hg', 'onseprg  he', ' Thpth ', 'lept dg ene', 'te nsldo rg', 'nr stThedogh', ' slt u Th o', 'he le ogru e on', 'g  T thsle', 'dlptu he he on', 'ugThetdo slpt', 'dog gsp he e on', 'letgthe onru', 'dslpt T he', 'sle og g Th n', 'sl on dgete ru', 'e te nst', 'ledoo hr', 's og hu Th o', 'rugsle d te onT', 'do rseptTh', 'ehe sl ognr', 'sptog th ouhe', 'th oThee r', 'og tn sthe', ' tte e o rug', 'h ru et dg on', 'Te ruslpon tdog', 't Thee nog rug', 'ug sept  dTe', 'Th th e on dg r', 'og stherug th on', 'Thnlp he ru ', 'Teg  oneptg', 'og o stu th he', 'hlt udthon', 'The he slepodgrug', ' the rg septTh og', 'onheptoeug', 'Th ru st  d', 'thelde n', 'h on ogpt Teu', 'ruThdonteslep', '   let ru', 'T hle dugo', 'lepth nge', 'tdorug o lp T', 'Tho set hug', 'he st the onugdo', 'u n Te he sept g', 'on leTru dote', 'le teog T g', 'The sp dog  g', 'he Tleo o g', 'hedg rugthesptn', ' og h setrug', 'Th do rg on thelept', 'o d te  et', 'onTte s  dog', 'setThhru n dog', 'lepoTeh g rug', 'se Th on rg', 'r t on Telpt', 'h Theptgrg', 'her ept on dog Te', 'sept Te hegg', ' u te slptoh', 'h do orugltthe', 'e rusehon', 'sept gteTonrg', 'gh o eg ep', 'd  p g the The', 'T  setrg n', 'Tthego slet', 'noge r th slep', 'htn slepug', 'n g het heg', 'le  g dog ', 'Telptthdg u', 'h t lep rug', '  o s thrg', 'ruglpon The og', 'eT lrd n', 'rugolhtdog', 'sept do on ug The', 'teThr sen', 'ogT s r nt', 'dogtepthn r', 'eele n rug', 'dgln T the ', 'gte Tdolept', 'onthe setrdogT', 'th os Theogu', 'rug Th og telton', 'ug lp n Te', 'setoh tdru', 'oTglpt heo', 'T thorugslptn', 'h oe uslpt dg', 'Theo sept r g', 'Theslpt r h o', 'rdo e onTh sp', 'rug lp ot d', 'sptThe e rgo', 'o sletTherug th', 'h og onht', 'let r eonh ', 'no tesl r', 'e set to ug', 'dog hen Theu t', 'g rug se e on', 'ept teon dgru', 'dg Th  he ug ', 'lept rugon h tog', 'en gte spu', 'heg ognsle', 'h hedoru e on', 'ru hdo on he pt', 'slt un dghe', 'n Te hedo p rg', 'o t r dslep h', 'on slept heug ho', 'T on ogslet ru the', 'rghe eth d', 'rugo th  epo', 'Thleuheo', 'gTest h g o', 'on ogslptu h t', ' hThd slepon', 'rghe set o ne', 'dg  slet ru th he', 'dgTe et rugo te', 'oogslpt th gh', ' th u sleTe', 'slpe T doo ru', 'ehe o gpt', 'ru slepTh dgonhe', 'dgoTher lpt he', 'heThe rgton d', 'e gt slt u', ' sp  rug the', ' o serg te', 'hlu  heg', 'e lept  Thd', 'e ru g nslept', 'o rg lettheedg', 'setheoTerg o', 'tho sl or', 'Th lept rug teon dog', 'sleoog Th thrg', 'rg o he slet the', 'slpdg th rugTh', 'eru ogle th', 'gl d oTh h', 'Th rugnth lep dog', 'he n spthdog', 'gletThe nu e', 'g u Thn heet', 'Tee  g', 'the ug tn dg', 'g Thele d', 'the o dogTh', 'r set dh the ', 'uote s h', 'rohe s the ', 'th rn do sleTe', 'o onlep  The g', 'Thslptog onthru', 'lp the Te g', 'Te ogheseu n', 'rughog o slepTh', 'e ld nu', 'the g oep uTh', 'edg t Te ug', 'Teneptogrug', 'rg pt thond h', 'Toghe nl g', 'ru g n e slp', 'r hhenepo', 'lt thoe dog r', 'slrhe doteo', 'd te eslpt', 'ogth ept ou The', 'n dg he Thug pt', 'dg leto Thr', 'g dg the', 'r onlethedgh', 'epheTheorug', 'te nlt Th dor', 'he ru l og heo', 'nug peTeo', 'e te ru onslep', 'theo  lpt u', 'heh sledn rg', 'rog sp on t', 'th The lptdg ', 'g og o theep', 'Thpug  o', 'r  e p', 'ugdgspt Te', ' oslp gt', ' T d eprug', 'eg t let', 'onset Th t rgog', 'o g Th tlet', 'slepththe rgog', 'thdg  on g se', 'n h dog ruTh le', 'letrgT dot o', 'rugtenletogTe', 'pt  theo u Te', 'rTe he n sedg', 'doTh oteslg', 'thelp n Thegd', 'rugsled oeh', 'le Te thndg g', 'sepdgr te T', 'ehedo o lp', 'nslpt othe T ', 'Tedlep ugt on', 'the dog rslpt h', 'ru h o sth o', ' slptru', 'lp rgo  The', 'he o Th g s', 'oe lpt g e og', 'og herslptThe', ' gte se', 'rugdog The hoslt', 'sprugThen ', 'rteTheondslep', 'Tete o  se', ' sleptdte oThe', 'dg ruglpheo', 't nhe lept rudo', 'Th nltrug the', 'doTnrsle', 'Th t dogg o', 'oT dgsher', 'rugh se on hedg', 'ugle on ghhe', 'hes t', ' sleted he', 'o h eptT rgog', 'o s og ru', 'o hesept dgr ', 'rgtoghehe', 'he onhe slept dog', 'nhe dsl e', 'Thdot teorug', 't h n dgr', 't setTe  dg r', 'gt l o onTh', 'ud   slep e', 'Th slpdgru th', 'leptTegrg  o', 'Then sle dog the r', 'h dgnsep h', 'tenp', 't th Te rug dgon', 't odosleT rug', 'Thergn ep og', 'og te h sle', 'edg p n Te r', 'ter etohe o', 'sleptog ru Thehe', 'gorughlept he', 'spth Th dog onru', 'dog g he nhelet', 'Te og n therg slep', 't Th lpt o rgdog', 'dg nThe', 'sepo ru og heThe', 'h set e  o ', 'rug n ethep d', ' o slet rg doe', 'do se the he', 'hhltug', 'let Tenteog', 'doruTtt', ' slept o', 'sut Te', 'g st g ne e', 'n gte Th set dg', 'he on ru T et', 'ru hsept eog ', ' ogslpru t ', 'sletog g he h ', 'og theonrugeh', 'l g on  The he', 'he th dogonrugsl', 'dth go help', 'lept o h r dog', '  r Tp on', ' do slt n rg te', 'ep dgte Tr', 'rusett Te o dg', 'e te edo oru', 'Th sleptthe rg ', 'tThe rug gseptn', 'tu sle dh', ' The epon oh', 'onrudgletTe h', 'l The o ruh', 'ugTehe lpt dogo', 'e rug h oe', 'doge sept heonug', 'org Th set t dg', 'o ee slr ', 'theoTerug slpt ', 'onrseted e', 'on sept ugThe ho', 'n ruThette', 'rug e slepThedg on', 'the gnTl', 'tdogThe sept ru', ' og T let oru', 'sp n ug dog teThe', 'hhe gsptru', 'ethslept u  dog', 'stoThthn', 'lp t rug ghe on', 'The prug  dog e', 'ug og le en', 'e set  ohr', 'edg o Terug', 'ruonle he d', 'ong e e g ', 'eth rug', 'e on g rg sle', 'ptgTtnog', 'dg onsepug hhe', 'Theruhe lept o', 'ru h sleptodgte', 'onleptetog', 'Theo uptte dog', 'h th orugst o', 'h o dotrg h', ' n lept dgt ru', 'pt d therug n', 'rT slep o e', 'ug dog seTn the', 'ogTho g spt', 'o e lt trn', 'spt ug g h e', 'ru sl hendo ', 'he dog  r o', 'n dog Thetheslp rug', 'et ton eru', 'honthespt gr', ' he dgleptte rug', 'dogonh leph g', 'ne eheg g', 'ru set d th o', 'e  spg te', 'lon tdoT', 'd slethe on h rug', 'st eThedo  g', 'he g lt u h', 'h dg n lept tg', 'g  lpnT te', 'spt h eug dgn', 'doT t septong', ' o Te t ulept', 'e  lt odog T', 'T dorgeslp n', 'e rugoghep', 'no Tug hslpt', 'lp The o g r', 'T th eptg ug on', 'hhe on orug slpt', 'rglt nedog', 'dgn ler he The', 'ug lep the Th', 'T dg rug thelep', 'eTeugsdo', 'ont Thsp dg', 'o T septrug', 'lt nTe ough', 'Th g thn sltru', 'do on trugheslt', 'oThd ethe ug', 'le Tg dognth', 'hespt uh dg', 'un septdg T ', 'orgthTh slpdo', 'teTd lp u', 'nThe e te dog ', 'g te rug', 'hset d n thg', 'oTethrug sp', 'doh se Theoru', 'The on grg', 'ont og heseptu', 'doTh et', 'ste o ugTeg', ' dogTheslo rg', ' th Te u', 'hgpt ogn', 'slept Te othu g', 'letdog h Theu', 'st  d  u the', 'odogt ph u', 'g  sleptugh', 'hergon  epto', 'gon rugltT h', 'e sh o r', 'gtespt eon u', 'ugtheslpdoghe', 'ghsepteru', 'rg heoTe  sle', 'uoe Th ', 'Tetsle onog', 'edg sept Tu n', ' u tesl ', 'ondo eglt The', 'Th  do ltrue', 'noTtheet r', 'ste dgugTe', 'o rspt edg', ' e th g', 'dgltn  eru', 'dog tue slet o', 'g  slep dge o', 'te   rugspdog', ' ug e on Te', 'gThese o', 'dgsptugon thee', 'letrg Tehedo', 'g r Tn te et', 'the e oonslep rug', ' dog on he Th', 'rslpt do n T', 'e  Ter slet', 'let oh Therg g', 'oth do eet g', 'rug dog lt ontheTe', 'he gueptT n', ' dgsep on r', 'og thrg  slt', 'Teeug lep', 'e glet n  The', 'dogrteTslet', 'Theo ru e theo', 'dg n set rug e The', ' rg  h ehe', 'h slep  Th r', 'onThe e slep rog', 'h  st n  r', 'rune ph d', 'd lt u e', 'rug eslet the og', 'pt he hu', 'sletd Thon th ', 'terugdog he slet o', 'doleptTh he', 'te do sleeugo', 'g gTh ot ep', 'T d sp gon', 'on re hslt', 'rug ohelptog te', 'goT s rg', 'h spt dh g', 'e d olp theg', 'n dg seg ', 'rhheoslep dg', ' theo slepug', 'rugn h lptdg the', 'n ltg hTe', 'p orugoth', 'lept o T dogug e', 'te lp Th do rg', 'ergslpo te g', 'h dgo s the ', ' n letdo hu', 'thrglephe n dog', 'oru nsept e', 'ruoltdg', 'og Theet gon', 'on og ugsph', 'n e ldg u', 'seune t do', 't  rnslthe', 'Then slepthd', 'dogrgh let o', 'lon dog Te te rg', 'et gen e', 'stg eThn', 'et edo g', 'let hh ugdg', 'T n ruggslpt the', 'rg do Tetesp', 'enspt o gThe', 'Teu onesleto', 'ruhslet o edo', 'udog on he t p', 'u dog Telett ', 'e slephe ogrug on', 'Te dogn ltheru', 'lp gog te Theo', 'rgept Tendo', 'there olep', 'p doTon ter', ' Te ltg ho', 'lt dotTh g', 'T olp  trug', 'Tonorug heslep', 'ru lpt  The ', 'stouh on Te', 'ug hdolepTh', 'The usle th', 'onslept hThug', 'sr othTe', 'le rugd oThe', 'Tesleptonthdogg', 'onTrug the t', 'sle o Te redog', 'T sl the ongdog', 'hnset rug  d', 'n  rg l Te g', 'eThletdo ug', 'oTp dth', 'The do spg t', 're eoogep', 'rdglept hehe', ' thon ept he ug', 'sleton The ug thog', ' o ru Th ep', 'Telprg o dog', 'h  l th  og', 'n ug he spo', 'g hrg  te o', 'n letr h', 'thedo rug  le', 'do pton ', 'g te nogTet', 'tesetThru ndg', 'l dTrn he', 'se he rugon tedog', 'the slt dgh  u', 'on teTh ogusle', 'e n d slep Te u', 'nth eh rug d', 'r T te', 'on ugpt tehg', 'dghe slep ', 'tdo', 'Tholthr', ' he se on ug', 'he ondg t se', 'Te dru  slepo', 'lpthte g ', 'dg Thg he st', 'do ne hept', 'dogsl Te oth', 'uT o ogth', 'Teudgthoslept', 'theTheo ruseptg', 'dogoseptth ug', 'thedoslptnTru', 'rugThlpt o ot', 'rg og ethe oslpt', 'slpTheon ru', 'onrsept d ', 'h g slep he', 'ug onTeep', 'og Te nsete', 'rug dg lp te hn', 'setthrgdTon', 'd  T te ru le', 'Te t rug n th', 't Th rug n th dg', 'ltogeugot', 'uT st dg h', 'sorg thh o', 'hu ep hedog', 'leT tendg ', ' nsltrugThe', ' g setgthe', 'teodoslep Te', 'hn ogu the t', 'ogn letu Te', 'helepn', 'th h o r et o', 'ept don ru he The', 'et o o', 'o e ugoghslept', 'o do rug he lete', 'sept e dogrug', 'g ep oThethon', 'Te tlt rg', 'strudo e n', 'do e u slpto', 'te e Teo dogu', 'rt T spt ndo', 'esep ro do', 'heg gth lp', ' The o s rg', 'Th  th porg', 'ron e ogslep The', 'sledoTe  ', 'lp h rugo ', 'slp  Th u h do', 'he n sle gdg', 'e onsp g  The', 'stru the n dg', 'doTh n h ept ', 'he  lug g', 'tonrteTedog', 'e dogpg', 'hlprute', 'orudthsleptT', 'ugThe onlthe ', 'sleprg  o eon', 'ug lep n ho', ' og rugpte h', 'slepeon d te', ' Ther th dg', 'spton ut', 't dg Th seo', 'The d e rlet', 'o theoleteug', 'heedghe', 'the ru Tod', 'Then ts dg u', 'udogslthe he', 'l  e rugg', 'h en dogst', 'ogT te rugslep on', 'dg lethe o u e', 'og rgte  ep The', 'o g p hde', 'dgletug  eT', 'on ru og lth', 'sletdh h or', ' og  slt g he', 'tu eth o ', 'p oge heonrg', 'setg n Te', 'sl te dog eu', 'ept de enug', 'olptn e u', 'dogg epheon', 'Th on g etth d', ' hedo leptrun', 'lt thoduTe', 'et rn te T', 'r slet e oTe on', 'e heslepn', 'onsleptg heug', 'h rg ndoghel', ' nthe ugslt g', 'ogr  The se t', 'he oesledg rg', 'Teg ugte l', 'tth e on rugdog', 'letdo or heThe', 'Te ole ug the on', 'sptg  he dog', 'rg dooepte', 'thog slep Tru n', 'Te n og lep u', 'ndog slt heg', 'hu so', 'sptThe  rudog e', 'r lt ', 'ue tne d', 'th n sletThdg ru', 'heog septhn', 'tog se he u o', 'T gslepte', 'do e ep rugTh o', 'eon ltu eg', 'rgsle he h', 'ethe gu heon', 'rgT te ole d', 'dgth  r nlept', 't Thete ond rug', 'tdoT o u', ' Th o rugo t', 'lteTe rud ', 'Thelepoe g ru', 'dog oh set eu', 'e rhedog sp', 'n dogug lep the', 'ugthThe  let ', 'ntee rg e dog', 'gTheu e  lp', 'Teogug th lpt o', 'g ruleTe th on', 'thhondg slep', 'ehe The dognrg', 'u o slept th', 'lettegon Te ug', 'Teudg hon le', 'og u ept one h', 'rug e enTedg', 'thn sept Torug', 'o gThe pt rug ', 'th ogst rg', 'th hedo u lp', 'og T hslt o u', 'ogTeseonh', 'ospTheog he rug', 'Te dogg', 'teT slp  do', 'The g onthglept', 'et ugte nhdg', ' onrg  st', 'h heptonu g', 'oggThe ep oth', 'u ohe onslt', 'dothu o Tslpt', 'Tglep nhed', 'ene g', 'The st the ug ogon', 'r pt e tdoo', 'slept euo ghe', 'Tthe ug sedogo', 'n d rug e Tlt', 'r do lp  on t', 'he o sp oeru', 'rugg slept n h The', 'sptr he onh o', 'the d slep o Ther', 'Tslpdgug o', 'e sleptheo do', 'e ugdo slet The', 'rugteslepton Th og', 'rut T g spt', 'hen leptruhedo', 't og rugslt e n', 'stTedogon', 'dog r sThe the o', 'ugTsep the dg', 'dgTht  tug', 'thTeglp ugn', 'Te rt ong lpt', 'ru og lptonhhe', 'dgonthe lt rg Te', 'n d thThrugst', 'The p on ugto', 'The herg opt do', 'Th on usleptthedo', 'org d s t', 'rugh dnlt Te', 'ug lpt dth nTh', 'e  u o ogslet', 'n ohthep', 'ugTl e od', 'gon ht dog e', 'slog   te ', 'ru h slep hg', 'nrugghe eet', 'rgh nlet he dg', 'r on sleo the', 'Thelp r hedg', 'hp onu Th', 'g teon ogep', 'pth he gd ', 'dgspte  Tg', 'hset e nu d', ' dg sug  T', 'Tedoon sle the', 'ug heot Th', 'et hed heug', 'e t n thd g', 'te Thstn g do', 'og on ru lt', 'ne slep r dohe', 'rg  lt dg', 'ugogo lt he th', 'Tslrg g h o', 'do sepu he T', 'pt g rg he th n', 'dog heTh oslug', 'the enru slept g', 'the on do slp hrug', 'oo slpt Thu', 'o th rg se', 'T nrug thedogslpt', 't teThe orugo', 'rug odog The slpt he', 'rslp h dg Ten', ' heo ep ru', 'theet rug  Te', 'rudsep hothe', 'nog sl e Te', 'esept he o do g', 'og the ru onThet', 'ug the lep og e', 'nslepte r T d', ' lpt dog o heh', 'se he tho ru', '  dn sthe', 'Tog thern sle', 'lt uh on  dog', 'dle nrug ', 'og let rg ', 'he dogn slp', 'tTh h rug', 're ptondo th', 'g sldg ete n', 'ugsleptgheten', 'dge sleeon', 'letheg the', 'the ndogru ethe', 'Th rgoo te slep', 'h lp odog Te u', 'hgsle hug o', 'n he r esdog', 'sept on eg T ug', 'ru o lpt on hThe', 'th  Theepug', 'ugeon doleh', 'h ep do  e', 'on tedog Th slept rg', 'sp ug Th d th', 'pdog onhu th', 'st eT o rug', 'e herun epo', 'slonruhe Th dg', 'hTeslp og  ru', 'tepto on T', ' hedo sep trug', 'rug h set og n', 'ohe d esep ug', 'o ruhe sep og h', 'Theog on te ug ep', 'do one slpg The', 'ug sept theheo', 'o th stg T on', 'Tegte d lep n', 'donrg hehe slt', 'og on sle euthe', 't ondr  e', 'o othTh septru', 's gT teon', 'o og slp e ', 'he serg d', ' hslt  teon', 'u do et Theo e', 'oT pt g e dg', 'on the dg slptue', 'Tru ntes og', 'eeoglpt onu', 'lep  Tug', 'n t Theu spt', 'do The hpt ug', 'he e ep  g ', 'r doglept te eon', 'Te ruthelp', 'ltrg dg heon t', 'h u n dogtesep', 'o thherugslp dg', 'dg egnh sp', 'n o sept Te te u', 'sldonte u', 'le oot eg', 'elepdoorug Te', 'the  gl', 'do pt ruth Te o', ' ptrg he o', 'set d o he', 'h h l dog ru ', 'lep doTenthru', 'h ep e udg', 'gslt The teoon', 'hee ltuo o', 'ogslepThrg hon', 'ug le n he T', 'o othe The u', 'T  seohe rg', 'dogopthe eug', 'dg he rug phn', 'sp h r o th', ' hesleug ne', 'dg he  nthe ', 'slep Th dg u', 'dghe erg', 'rg onet Thh d', ' slpgdgTe', 'onletdgu h', ' slepo Teru', 'gruTente let', 'ogTee h', ' slprug d e', 'u doone sepe', 'r  on heslpt Th', 'dgo slept gtTe', 'Th lept on g hog', 'n ge h o', 'o dgug hespte', 'on t do le', 'hruslet doh on', 'lp ogtheugTe n', 'heo esp rgon', ' Te ru sep', 'Thdg  thug slept', ' setTe ogerug', 'rughe dogonsept', 'e teslpt dgru on', 'oh T  slru', 'oseo g', 'nthe dog Te sp', 'rslton T', 'teThe oo spt rug', 'ogrheh septn', 'lep h do h u', ' ru T eptdo ', 'Th oertg', 'elep  dTh r', 'h sltr ho', 'he g Teonslep dog', 'hdogleptte ', ' slept Tte g', 'dogsletohetheru', 'ton l Teo g', 'The t oslrugo', ' nTedog', 'oe dg  heug', 'e dog Th lpt o', 'ruog he', 'o Teu en sl', ' These nh r', 't slt dgg e', ' he T ogr', 'oru Teet ', 'e on hdo slep', 'dg sntu T', 'ont spugT', 'Thept t o o', ' l dg he The ', 'ng he e ept', 'heptt on r g', 'The thdogept  rug', 'heog ulet n ', 'dgoslet Thethe', 'd ohe gTe st', 'or ep teheg', 'edg sleto u ', ' oep rgT', 'slept ru  onheThe', 'on the g slpthe', 'e o st h org', 'gdoletoteTe', 'slt do rn Te', 'dg The onleu', 'hdoeptu o e', 'sptoheTheo ug', 'n glphtrg', 'e sl o eru', 'thleorugo e', 'o Teeprutedog', 'pthedg g h', 'g he g ept n', 'he onlepthrudg', 'ne o el ug', 'Theo e uglpt dg', 'lt Thn th', 'h ron lept heo', 'e ruhoh', 'The nstdge', 'seth do ', 'ho t p d ', 'olt dthe', 'Thent rgog th', 'uTh letondo', 'ug dogsepoth Te', 'le dogthrugen', 'Th sep ug og on', 'Trug l ogn th', 'o ugd Thtept', 'sg herugn th', 'tTh oglg', 'ru o lep edog', 'og lptru hnthe', 'The rgone', 'slep hThen', 'ogthlpnTe', 'do le ugohe', 'The ru  onogt', 'ruThe ete ondog', 'h o oepThru', 'lpdo  he r e', 'e ptdog onh', 'eruhedoslp', ' sle nheherg', 'olepthrgn The', 'onogelp', 'lept The n dg', 'n ptdog rhe', ' dognugslpt', 'odg set rgThe the', 'tThorg to', 'dgthe onslp Therg', 'dg slet n ', 'heset rg n th', 'ton str', 'o dgT slp rug he', 'slept eth rud', 'st eT o gdg', 'oge slog ', ' hedo slp', 'ru te np ogTe', 'sluthe d o h', 'onht r ogsp', 'et se on d r', 'tep  n rge', 'dgTeru onl te', 'rgn ept d h', 'Tete slet o dg ug', 'e th on g dspt', 'sep eth', 'set Thedo on ug he', 'Te dth ug op', 'lpt  o othe T', 'ton Tletrgdog', 'o eth sletu do', 'he ephe rog', 'theruoslpt onTh', 'dgnlrgthe', 'doepTeo rg', 'g n thelTe ', 'et r te o oThe', 'ru he h dogseptn', 'dothlpTeon ug', ' hsept te on', 'ng Teetrg ', 'r theTheg sept on', 'dg rutolept he', 'tThruogse', 'T n doletu', 'heg goset', 'tnstTr', 'ug et thThe ndg', 'd The  sen', 'helrug dot n', ' Te lptr e ', 't spdougT ', 'o dg l the', 'sptuo  e', 'dog Th t ruepton', 'on rgslepth Teo', 'og t  oh slp', 'theh  o pt', 'leptgThe heu n', 'he lep dgo t', 'sle T thog ruo', 'rugdogspThon h', 'he n og sp ug', 'orhthe leto', 'nruslp eThedo', ' Telpt d rug te', 'huhe opt on', 'lpdg onu hehe', 'slpth nTh do g', 'ug dohepton', 'hsept d ru e', 't dg rghe', 'h rudog lptT', 'ugg he set oh', 'heu Tep og o', 'Te  ru te og', 'th ergodg', 'e esn rgdo', 'et Theondogrg', 'd sletTe u  n', 'ogonte ge set', 'Te  s hnru', 'truThe o o slt', 'h o slepT  o', 'spt ng hrg', 'Th g he o lpt n', 'hrgdo e lept', 'ug let eoTe on', 'n dth et Tr', 'rusThedg  th', ' o  do te rg', 'nte herg sleptdo', 'h dog he slptr on', 'ndo uTheslpthe', 'roh e slptg', 'eh sle rgo', 'seton e uTe', 'e doglt rg t n', 'e ugdo leton', 'let g ug oTh e', 'go dogep  Te', 'rg  lpT oth', 'e do e rug  slt', 'slpo onTerge', 'geton T the ru', 'T h eog u', 'hthegept n', 'he tslep dog rug', 'he n lep g g h', 'dog onpt ute', 'he lprugondogte', 'slt thd rgThe', 'heth st g ong', 'h g o lp T', 'se Ththeron g', 'dog Te epte u', 'on p g thedog he', 'on h ogTe lpu', 'og tugT', 'gsp  og th', 'oh t  ot', 'lepth ogn', 'es ggT', 'eThrog seo', 'leptrghedg  e', 'hoeto g', 'Thg dg nlpte', 'Thto  ru slpt', ' dhe rug le', 'The slet eu n', 'o eptdo heg', ' do he o slt he', 'sltTh   rug', ' n e olp g', 'trg Telp on', 'e ong dg lpt e', 'hhe netrugdg', 'e slep g nthe u', 'he ug  do tspt', 'The the onept u ', 'ou slp on The he', 'sptg  Te th n', 'do ept g onth', 'the rg l Te o', 'rgtTho ept', 'rugn set t e', 'dglepughTheon', 'ds tne u', 'o sleprug', 'sepTthedg r', 'Th ulepth ', 'Teruo e se', 'Te dogrglt nte', 'dorug n helep', 'dThse othe ug', 'h gnogept', 'ephe Teno', 'rgdg Thslp the', 'ondog he hespt', 'o Thrud teept', 'Th o he u sptdg', 'slt d gont', ' or he et ', 'Te sept t dog', 'tg lept T ru', 'e ru sphe on', 'le hrugond', 'Thesponugted', 'hdgh r sletn', 'setgth oruTe', 'l heTh rudogn', 'ug odog hee', 'uhethe on set g', 'rg olept The he', 'h the glpo', 'hehdo slep n r', ' orusle g', 'slpTehou n', 'ru op oth ', 'rn Thedg the se', 'help uon dog', 'p g oTe', 'thespt eu  ', 'dog ruTete sle', 'slp dtu Tho', 'lteugde', 'enole eg', 'slpr don he', 'ru osp the', 'g  og let The', 'dothenlept hr', 'tdo t nghe', 'rugt Theen', 'ho rgslpt', 'The ne gug sl', 'o slet he heon', 'slp he h rg', 'onTeto', 'he rugdtho ', 'gdogth he spt on', 'ldo T', 'dg t g lp n', 'he nslptdogre', 'th eo  dog', 'thegTo o sl', 'h t do rug', 'onseptete dg', 'dThontesp rug', 'oe dog t eug', 'rge et dgton', 'herTe on sleptdo', 'septthen rho', 'rug o dhe e', 'g g on he sp', 'o T lthe dogu', 'e oe stdogrg', 'sl rudon e', 'ogn t h l ru', 'onlptg rutheh', 'n ht hergg', 'sept g ohe', 'e dg sep n th', 'r Tespon  t', 'u slept  dog the h', 'rg dgthe pne', 'ogslet hr t', 'T dogo heug', 'slet e T og o', 'te slpt on u he', 'T dte spru', 'leporon h', 'e sepg ugh', 'etth Th rgdg on', 'thdgle ugn', 'og ug t slet', 'eptd g e te o', 'The dog on th g se', 'dgTn theet ru', 'sptrug o e e', 'ogTe on r h le', 'he th sp  dogug', 'o th slet   o', ' Thontedo', 'og ruet th ne', 'euhe n slet do', 'dog onsepheh ru', 'the ruTe onetd', 'heleptThedo u ', 'ept dru  he e', 'the osleorug', 'h d lept h u', 'rgd t Thon', 'thep rug Thdog ', 'rg e n elep g', 'ptn T r td', 'do   ru sp', 'rugon  hslept', 'n r slp e', 'on Tespt gru', 'hog eeug', 'Th e  o  le', 'Th  trg slp', 'Th sp do on t', 'ontset hrd', 'esl u no te', 'lep do o heTe rug', ' rslt e Th do', 'onlt e Te', 'oTo rsept', 'dg sle the h', 'Te dsep og', 'heg sl Ton', 'edgpt n', 'Trg the ot', 'rgelt g teon', 'l og he  on ug', 'nhesetdrug', 'sl u he o n he', 'tedouslT', 'dogrhslp  the', 'the on dorulet Th', 'eTh dng', 'sl   e ug g', 'r h dog tseton', 'r td heslp', 't dorg Teon', 'te sl uo Te', 'oth gept h', 'thedog nh et g', 'Te onrgog slept he', 'leptheoo er', 'ru sepg onhte', 'the leptrg Th g ', 'doherg he slp', 'teog n he lptrg', 'T st dheuon', 'T  olept ruge', 'og letthen h rug', 'teoTh  dog sl', 'rugog h onThesept', 'ru n The te slp dog', 'o po e e ru', 'Te dln ruthe', 'sletdo he n tg', 'od te eulep', 'orge dg', 'Thnrgo lptte', 'do sepon e theru', 'te g lt', 'doon sep Thte', 'hseptgrg', 'lp drug en T', 'onslet rThe g', 'T ulept oo h', 'n Tgh', 'n rudThe tslep', 'pheonthe dog', 'rg The sn h', 'en ruhdo', 'or ogslt', 'hnoru h slept', 'gdg lptthe Te o', 'e orug slept ', 'do nslep ge', 'T thset  do', 'te og T onr lpt', 'g olepteTheug', 'on lep ogtu', 'ondoggset he', 'og elept onhr', 'thrugo  o', 'ug doon  e l', 'ugdo heteep', 'g slprue', 'dorgThe  he se', 'o sp Tdgthrug', 'The og p h o', 'edrlpt ne', 'h eto r', 'T slpt  teg', 'rg pt onh', 'nrug se he T ', ' rug te hslt o', 'r Te on setthe ', 'onslep e dorug', 'th gon slpT', 'leogg  Th', 'ptdog rg  Thth', 'slep rugoogh t', 'thdo rg lpt h on', 'o the Te sleptdogu', 'ort T dote', 'o Te slete dogru', 'n og h seruthe', 'ptrudg To', 'sleughen Te ', 'on ruslpt hdog the', 'nslp  ue', 'oleptThed theru', 'g ru eslept onte', 'eo ohrugst', 'sp og g te on', 'og spto the rug', 'ton dghrusl', 'dog Th poru', 'og opt te u', 'o o ep therug ', 'pt eoo ru', 'slepo ruth Tedo', 'hth let o o r', 'etd Tehrun', '  ng Teep', 'he roe og e', 'slet o the Th on ', 'do gsleto The', 'o therTo', ' oserg dg the', 'T d  lept ', 'lehdTeug', 'ug l  h', 'on gTheug ', 'Th ugo to', 'Th ru on  teslt', 'the Tpdognru', 'do pthe Teug ', 'eslth dg n rug', 'ng The slptrthe', 'glptTe o', 'phe g  rg', 'oug et d heTe', 'sl n hehogu', 'he dosepton erug', 'te g lptug', 'n st o Th  e', 'o Thepone', 'rg slheThedog', 'n p uhe th', 'Th u doghslept', 'onlet tdr Te', 'dog ru slphthe ', 'sep oTet u', 'e dog uhlpt', 'g le on ed', 'oslept The u d', ' onsl tegog', 'hg lptonTe', 'rudgte sen', 'onlhetheugdog', 'the rgThe  olet', 'th lt g g Te', 'segd he Te', 'doo spt g Te', 'hesp  te', 'sleptton gru', 'ru sltT d n h', 'thset dg Te', 'slpt rgtheTheog', 'u e lt nhe g', 'doT heon rg ep', 'Thn st ugdog e', 'dg sl ete g', 'rgt ldon', 'lep e the dor', 'terlp The', 'one lp uge g', 'he h et r on dg', 'Tdon sept te rg', 'th dog lept hego', ' lep  og', 'rgheng Thelep', 'd ept her ', 'rg one do he th', 'rug dgontespt', 'e dg sle Te', 'g g teh sept', 'o hesepTe ', 'og  sep', 'seo rue', 'd Thslept on', 'Th h g sle', 'o n slet Trh', 'o dg h slpTerg', 'ug hedo olp', ' u g ep thn', 'set T eru', 'ru d h teon', 'slee Tog on ', 'ethe d n ep', 'ndg e lp', 'Te dg o t th rg', 'oh on ruslept', 'lpt dogon Te g', 'Teosltogtheug', 'hontedo lpt', 'Thudsethn', 'erg d septthen', 'g theos The', 'dog o rugslet te', 'ospt doghherg', 'ruTh let e ', 'he th t u o', 'g slrg n', 'dg sephe o th', 'rug d os T the', 'e sept rg te', 'do onTh ru te', 'on dt e T', 'nslethrug dg', ' heogr hee', 'Te rugondogtle', 'h rgslp on t dog', 'Th  ru nsedg', 'eTog oghe', 'e thdoglptonug', 'ohru slt T', 'o tdo Te lru', 'ru e o ot Th', 'rug Thed elon', 'Te doet  g', 'dg teslTe oru', 'h ue slen', 'o rdog he he pt', 'Thed gotlt', 'e gonruT lt', 'heT  ruon', 'oo sp Teru e', 'oueThe ep', 'eot g he', 'h do rusl Te', 'Tte lept onog u', 'dgTlpot r', 'h ep gn', 'ep the og', 'ee ru n d t', 'tgsptdheon', 'tug edo lept', 'eh r n te ', 'rgdg Th tese', 'Trug e n', ' ugnsle ', 'he lpt ruoge', 'do e on thesu', 'sleptte he ngdog', 'dogthe n ruslptThe', 'dogsep ton rug', 'rg let h d th', 'ru et gt', ' ug dogp  ', ' let te onogThe', 'Th slpton ru', 'r  etog hte', 't g he lpdg', 'doThe nte slet r', 'he on epdgte r', 'dg the spt eon ', 'tedolet ug oT', 'Te dg r hst o', 'dogru nste', 'te gon r sep', 'Teg on e rug le', 's o  teg Te', 'do sept n rg hte', 'e ug do the', 'ug gl o ', 'the nhedoe ug', 'e The u', 'ru ohedoslepTe', 'th og septuohe', 'Th on eprugdgthe', 'slep rugtTheon', 'u slept t he g', 'seprug oe on', 'nd e p g', 'd otheug', 'n sp ug hedoTe', 'rg theep og ', 'ron doe Te', 'strg Thedo ten', ' edo  ep rug', 'g onte gt', 'noepere', 'h grug hl ', 'one septgh r', ' he dg rg onlet', 'slp h ug hdo on', 'lto ruo tee', 'th ep  do h', 'do eThlepn', 'g The heto g', 'dos nThehrg', 'slept tTe dgnrg', 'o ruos T th', 'onugthe dT slt', 'n The heogrug', 'rgeg ote', 'ogp ruT on ', 'Te t on rug g et', 'et heog T', 'slet n  og The u', 'oneog te slept', 'h  slthrgdog', 'rdth e sept', 'od gp te e', 'dorg ltethe n', 'rThesp onog h', 'the lprg Theo', 'nth p dhrug', 'he  g h st', 'Thn opg the', 'dog slepThe on ug', 'r hesp n Th', 'set Th h  ondog', 'he st d r T', 'heg he sept on', 'hedo lept oeru', 'r dg eh Te', 'ug hsendg th', 'he sleptdogn he', 'rug h lt', ' Th rug se', 'o pTe rugth o', 'h rdogslet tn', 'g ogothelpt he', 'Te thrdo ep', 'do T onst', 'T ugtho det', 'dp hethe n ru', 'rog theTe sl on', 'th do Th sp  rug', 'Tsgrg o ', 'set g ehedg', 'lepoghnrTe', 'e dh uon p', 'o lep The theon', 'slept Th rug to', 'ugsdo o te', 'og Thelette n', 'e on dhulet', 'sl rug do on heT', 'uslheog t', 'doggThethet', 'Th o dog h t rg', 'those dog ruThe', 'eon th o eru', 'ehrglept don', ' ong g he sep', 'he u eptth', 'Teo l ogte', 'olp heu', 's dorgheo T', 'lt hdg Terug', 'Teth  optru', 'dgTe sltn', 'og nse  rgt', 'o let ug oThe ', 'g pnrg The', 'sergh t o do', 'theTh nrg set o', 'Te e n  slepr', 'g oge epth ', 'ru te septo he o', 'oTe dglep trg', 'teo gdoTelet', 'dg te sptou', 'on Th ruet', 'Thslt dothe', 'onTe teru dog ep', 'e setthrug  ', 'dog the lpth ru', 'ghe slp en', 'ru   ohe lept', 'lptng heug The', 'henr lep og', 'o heh olt rg', 'r th slnhedog', 'setog on h ru he', 'eth r o onst', 'eptrug  te he ', 'eled rugh', 'rep do h', 'g lep do ', 'g sptr eh n', 'th drugTh  set', ' T  se rg', 'o  s theTe', 'e hesldo  rg', 'dog ethe ug', ' ethe do ug', 'gepto te rg', 'n heuog', 'onhthg sp ru', ' dosletThe te rug', 'og uleph', 'dog slept o tu The', 'le g e  n', 'teT rugd sept', 'th drg nlt Th', 'rolthT', 'ue o The he', 'the dg slte o', 'Te tsl doru', 'o rugohe h p', 'slptTheheo dg', 'hept  re', 'slpruge do  e', ' dote uslepte', 'og t g esle on', 'onghrgsptTh', 'e letogru T', 'Tugn heepto', 'ruto sept ', 'e o og sletruh', 'hgn g ett', ' ru theh', 'trn hdglep', 'the rugoghelpt', 'st  rugheh', 'h sltu ', 'th o dog ru lT', 'on T dogsph u', 'oThe l r he og', 'dge ro theThe', 'te sephoogr', 'dohehersep', ' te oe se g', 'do Theseptherg ', 'Thue o spt', 'Te dg e osp u', 'gslenTheohe', 'ghe e on', 'ee rugslp on d', ' the n lpt u', 'thdor oeptT', 'r Thethedoonsp', 'thdohe gslt n', 'g t onTh terg', ' te hdglepo', 'h on r slep  Th', 'esl n he rug', 'Te the p', 'dog e st onrgT', 'e ogthe gon lep', 'dosleru h o', 'sepdg n ug theh', 'oth  Te slep', 't slepheo g', 'lept  ug do th', 'ugeon pdoghe', 'dg lep  o ru the', 'slt d uh o', 'oTeug help do', 'rth gleptThe', 't n ugogTh lept', 'h dog st u thon', 'g slpTh on ug he', 'lepthug n g Th', 'sletuTheo  he', 'dglt ru theThe', 'lpt ht rod', ' heTe n pt r', 'p n udg e', 't erg do ept', 'on rgT let e dg', 'ng he dogThe', 'o slete hrug', ' ruhglp ', 'Te ug eo t', 'ug nt Tho', 'nTeoguse h', ' o nsl rug', 'hrug dgnslepte', 'o setugdo h th', 'seThondoghrug', 'sl Thruhe d ', 'ond rug ept hh', 'gpugon te', 'on lpthedrghe', 'sle un th', 'ruee ol ', 'ou tTsle do', 'slpthe eo gg', 'dog Theo he sle', 'ge slt ', 'he r  olt e', 'Th sdo u ', 'he eeng ', 'heoo Tug spt', '  slptue', 'ug h oslep dT', 'onTeltug theog', 'dg the p g T', 'Tedo rghesep', 'sep hThe dgnrug', 'The ru t dosep o', 'Thog st t o rg', 'Th lt ru heog', 'ruo onhe slept Te', 'gseptTe  rgthe', 'T oug let thog', 'nog lpt ehrg', 'lenh h rugo', 'n oghp T', 'e tn do l', 'e o Teon rug slept', 'n e ug gh', 'le he th', 'thedTerg lepon', 'ruge on d slpt', 'sleptT dogon rg', 'hedg slepten u', 'T erug   lpt', 'e eseo g dog', 'ngh e dg', 'the dohe nru sep', 'doThe opt u h', 'e pt dog', 'he heo d pt g', 'r sptne t', 'ug g sph n', 'rug he lt n dog he', 'do lept Terg theon', 'te uge epg', 't o Th sep ugo', 'ug o Te do st', 'lephe o t ru', 'r te dog sleph o', 'Th on tsle ou', 'epdoT o trug', 'e ugo theospt', 'd th on uleptT', 'nTe sept thg rg', 'dog rule oe', ' rgo h ep', 'hedo hersept', 'rg net Te', 'r eogoe lp', 'elept Trug dog', 'Th rug ete g', 'theTh lerg n', 'ogh pt The nr', 'on oe ptTeug', 'g Tthrugt on', 'Th the sl ndog ug', 'lep g o', 'lpt heon rth', 'h odoth slepg', 'rudogThe hespt', 'th gTheo r', 'hegonthp', 'slet dg  o rug he', 'hehesetog nrg', 'gdoglh the', 'oheept dg he g', 'ug ht oet og', 'o u ept heT', 'tdo g eoThe', 'spoThh ', 'dg tug Tslen', 'he the og slep n', 'lpt hru n ge', 'on rug tslegThe', 'Tethleprondg', 'Teleptdtheu ', 'sep eg gTe', ' g n hesept', 'slpgh ', ' dg The ugept', 'sptrdog theeo', 'rth oTheep', ' hsltruon he', 'Tedoslept  he on', 'on terog lp', 'og sletru the ', 'n hee ptrg', 'Thdg the u n t', 'theThe rg ondep', 'T og n lph', 'hee ongdo t', 'o rug doghe  et', 'dog onh pthe ', 'ondog hslrg', 'dgtheon spt ', ' u o slt he', 'sle ogt heg', 'slet n g The hg', 'rgth o slpt dgh', 'ug  o eoth', 'Thr det o', 'rug  h  slet og', 'e po rue', 'ru hee dog  on', ' eterun T', 'do  slept teTe rg', 'odgheslpt T ', 'T te slep on rg', 'on dg e ug The t', 'sle g he heu', 'rug sept doTe teon', 'sletughe The', 'hThdsp ruon', 'te p og  rgTh', 'Theslet th g', 'th lep o rugdog', 'u ton dg  st', 'hte orusle', 'Thdogo eph', 'slept o the Theon ru', 'he Thuo dolt', 'o  leptrthe e', 'septthe ng hdg', 'th Thesleg  ug', 'Thdgsp hn', 'n dog set teugh', 'Teu let he go', ' ugdogon the Te', 'dgtee rgslept', 'h en lerd', 'on truog lpThe', 'theTh od lep', 'dsept thuoe', 'o d rg t', 'onrg t gtheTh', 'thelptrg  g', 'do The et e rug o', 'thep on g Te rug', 'epthenherg', 'r dognlet Tethe', 'rgelpthedog ', 'doe ru le  o', 'nug heslt th d', ' te d lept r ', ' ru on sept g', 'Te r o he lep', ' rudog  le he', 'on l og e', 'ug oTh ghslet', 'hlpt ogug on he', 'sep Theug  onhe', 'r dptn thThe', 'gh Theslept ru', 'uohe slT ', 'og t on  le', 'T h rugeogo', 'oe ruTedgset', 'do u  sl on', 'he pt uhedoon', 's Theru nhg', 'Tedo theo g', 'tug h on lepog', ' gon estr', 'he hn osept', 'set ogg theoh', 'dog n Tthe rg et', 'on  oslepThe', 'eh seru g', 'uhed onslee', 'gleton heu he', ' es dg o', 'gr theonslth', ' gltonog ', 'te he rug', 'dg sept rug he o', ' spt The  dg', 'he d ru o lpte', 'gg n slpte he', '  te olp', 'Te on slpt th rdog', 'n glet  T', 'st do heru t', 'rgdotee se', 'dgte Theonet g', 'ergedgsle', 'h do ugh lo', 'hte nlp rgo', 'td onrug The slep', 'septog g n e ', 'he te n o sl ', 'ontelpr oghe', 'nlt tThgru', 'Te depgthe', 'rudgpt oneTe', 'Thdg heept rg', 'ohthrg do t', ' leptheone u', 'slt dgTh', 'on slettu', 'dog te T rsl', 'n he pt do u', 'dg ruslthe onThe', 'og  sept  Te he', 't o rgsleph', 'n dletTh', 'edo  u ep o', 'set ug on e', 'h  lp onTer', 'e do sept th  ru', 'Thdogsetge', 'on hlperu', 'dog ru he n slept Te', 'ogepthh r', 'Tnuslteg', 'sl n ugog h Te', 'og Tege o lep', ' Thslpt on dg', 'ru t ot doh', 'h dogn hr', 'ru ohe hedog lt', 'og e r o Tslet', 'he og slt on r', ' sletugh Th', 'th ogT u ep on', 't rg  gthe', 'he slet  on o g', 'hhe onsleptu g', 'he do tr o lep', 'The rughe dogp', 'o slp ru Te the', 'sep uo hedog', 'ho p tergog', 'o T rugsletthn', 'oglepthe n', 'ol gthdTe', 'sleptg o he he dg', 'rudo slehThe o', 'on sletThthrug dg', 'he re e on', 'dogspt the rg onhe', 'T dog slept rgo', 'slpt Therg dg e', 'tdo Th on e g', 'lepThthendog ug', 'dgsleo the', 'dg T g', 'sletug t on', 'on ru slp hhe g', 'n lept te rugTho', 'hle nruhe dg', 'slet h r de', 'rugTheth ledo', 'slepttheogon hrug', 'T dogeptruhon', 'te rug The tdo o', 'nTeg te rul', 'u sept teo dog', 'le he rg g t', 'rug d t The lt', 'hrgdo ltt', 'lentoghe ug', 'lp  o heted', 'le  ehe o ', 'Thg  terugslpt', 'dog let eonThe ug', 'onslpt g g he', 'e do rgh lp', 'g Teon ge', 'Thngg pt the', 'g  n slp the', 'otup T', 'do rg  n lp', 'Tslpdg rug  h', 'pto ter e on', 'o deth teug', 'ug pth dg', 'ugT eon', 'dogth n let Te', 'ru n dgh she', ' T hedg ltug', 'rgleptth doT', 'et oe g rgh', 'one t ', ' oson t he', 'lt gthe The og', 'ogo tTheslerg', 'on hltho', 'het n slpru do', 'ru slndothe The', 'ru Thelp odo e', 'dg ru et Thethe', 'Te te u sle dg on', 'gpg ', 'Th dg uo thspt', 'n thdo ru lpt', 'e slpt onter', 'Th ro lpt dg', 'h do ohe se g', 'Th te g on rgl', 'e  pt te  og', 'The ondggte', 'thrn spt edo', 'o Te e sleptonug', 'on osep T t r', 'erg hen  lp', 'd rug oth The', 'rudo slept Te n', 'te Te r lepton d', 'dg T   e u', ' the rg g e', 'r g slep The', 'sept g heorg', 't ther T oo', 'hedogslep ho ', 'oe e olepr', 'ht he n dg u', 'e o oughe', 'o slep gte h ', 'hrug slep', 'oh ep rg e ', 'ru te T dlept', 'ruThe dgslphe', 'th o slepTeu', 'r Tnlhedog', 'h  sptgt rug', ' oet g th r', 'Th he pu d', 'lepdo onrut', ' etrgo do', 'nTherusp do te', 'Te spdru onte', 'eTruglet ondg', 'rud slepthT ', 'rgondg slet th', 'o ep Te uge', 'hn Thepug', 'ongru heh slt', 'hdgonslt trg', 'lt te o The', 'd eo rutes', 'slet the T go', 'sp d Th nh r', 'gteugon Tse', 'gonhe   slept', ' dg sptThh ru', 'hslep e on do u', ' Thest o', 'slpt  tedg h', 'gT slpt dog th', 'd The sl o  ug', 'rue nspte', 'o og e rug t spt', ' te sletTh ', ' te o do spt u', 'dogpthug nTh', 'dgeuthn lp', 'dg rugoth slept', 'oon eprhe e', 'egrghon h', 'he sleoth', 'ruog slpt the', 'theThdon spt rg', 'onhe rg dogthelept', 'rug on thhesle', 'husletn th', 'th heug dton', 'g Te o sep gthe', ' thlpt dog g', 'hedoslt Theru', 'ptnThe rgtog', 'slt doge nugh', 'thu og let Th', ' th set o o g', 'et Te tuondo', 'uoh d te s', 'leonhgdg', 'slt gthe on g The', 'o Te rs  ', 'h r n le h g', 'eTe lep n rdo', 'heepe dog oug', 'Te rgs dogthe', 'g u on', 'he Te sletnrug dg', 'o doThrgtsep', 'Tho th s', 'ug e sl he o', 'The thetuno', 'l d gThe e n', 'og o rThe e ', 'g reoe t', 'te dg osept Te', 'doug heslpTeon', 'th slet oug Th', 'd tlept Theo rg', 'sptrug dog e', 'ugdog helpthe', 'do he ptnterug', 'rugog  e t p', 'dgh slep rg e', 'dog let t Terug', 'nspTeohe g', 'n seherug og t', 'Tedoslp ruthe ', ' Tehe dgn lpt', 'dg slet rug the', 'og  th ru', 'e rusltThdog', ' rug The n sep', 'og rg he ep the', ' dogonrsette', 'slept dgge he n', 'oTh le  te r', 'u sph thdogon', 'he sleon o rg', 'n g rult h', 'e slegon d', 'h erg  lpt ', 'do reonsltTh', 'ro dg lpt  h', 'heTslept ogonru', 'n ele teou', 'ruge ogo hslp', 'd onlept e', 'ug t le  dog', 'onr oept e', 'teogsn e g', 'e th dgt  rug', 'oet ong Te', 'rg  hdog lp', 'eg n he slept', 'hrgeospdo', 'nheheptug', 'he onTe oglptr', 'he st o  do', 'h oThe nep', 'heslt ngh', 'o dg slet th g', 't sletdgTheo ug', 'gon hThlept ug', 'lpr eo Te', 't dogon rugTesle', ' seTh n  t', 'gglepTeo', 'thu gThesletn', 'hthu  sl dog', 'rg etdg n e h', 'ed Te  slt ', 'tedog The slep rug', 'ndog  lpt rug', 'rug hedghsletn', 'he nrug ltdhe', 'rug g Tle ', 'e ogslrh on', 'The ru he o dos', 'Tegn sphe', 'th do lept onT rug', 'Teug letdogon', 'dohe ruslpt T', 'et d lept nug', 'heohle un', 'rgte h on slept', 'u d hethonept', 'hdog lpr ', 'the do on luTh', 'ooheep the u', 'onTe eslprgog', 'r dglet', 'dgrh st  t', 'spt eon rugTe', 'ug enh h', 'Te r teo lt', 'rgdoglept Te e', 'rudoh n ept he', 'dspe n u', 'nuthe slptg e', 'oheruTeslp', 'e rslp Ten g', 'he rg on o h le', 'sptt The ug og', 'Teruheonsl', ' gedg ee', 'g  The le', 'The ge ondop', 'e  o ruslepth', 'n st te g', 'theondog lepe', 'T n sleptd he u', 'lph dog Teug', 'ru thedg p o', 'n sltThe r', 'Te dogr hestn', 'e r heh og', 'Tdog telpt ', 'd Thg epe', '  eptTrg t', 'Tr he lptg', 'slpto oh', 'he dgonTe sp ug', 'o t ltru h', 'on he let Terug', 'heug oglpt theon', 'on hg tslept', 'o lee o Th g', 'epugdoThe n t', ' rug the  sl', 'rugTons te ', 'the g  n', 'sle  e  uthe', 'The theet o', 'nhdog p th ug', 'dtonug et e', 'n toghe sep rg', 'n dg rsp the h', 'Theept h rgo o', 'heTen r slet ', 'g rgo  septe', 'r one sle doth', 'tonhu t og', 'l n o thghe', 't  n sepuhe', ' dognTe ht', 'e Thondt', 'ugdg otpThe', 'sltg hee dogon', 'Thdo le  ug h', 'trg o Thon e', 'o t rgt T og', 'e dhong', 'org teThenlept', 'eu e n g ', 'th Thlptrudo', 'on he do rg lt', 'e oonr Te', 'u d slt he Th ', 'herug tslptn o', 't g e Tho g', 'te sp dn ru Th', 'dog h sep g', ' lepogTethe', 'Thlpt rdthe ', ' elept he ', 'heug d  n ep', 'theler nd', 'lepr  thedg', 'd stnru he the', 'osletonTru', 'uhnthep', 'rhehes on dog', 'lp gn terg', 'ult Tedog  th', 'slptu h on dghe', ' st rugh n dg', 'septdog th nrg Th', 'o t   u', 'sleptrug  dtheon', 'o ru gT the se', 'h  og lp ru e', 'spt doruT thon', 'slt do onthherg', 'stdog he Te n u', 'lep Thenog th', 'sp g o n', 'Tdog ug nspt', 'uonedo', 'doe tonue', ' s o dg rug', 'nheleh  og', 'hd set rg t', 'gTtegspt ', 'lptugTog  n', 'dg ut To le', 'dTug osle e', 'd heugepth', 'uoTe g hes', 'pt ndghu', 'slept do heTh o rg', 'ep g n hTherug', 'dogtesegTe', 'ep hed Thro', 'go eu', 'r dognsleth th', 'sl r do on e h', 'sptogTeruo', 'og slethro Th', 'onrug let The g t', 'rtd onTh', 'te dlpt  Thr', 'esle o teruon', 'ondo t uglph', 'hehltron', 'hoge ougpt', 'he Thslep u g n', 'othestTrud', ' T he slt ', 'td lrug Te', 'ruoheThdg s', 'Th s oug he ', ' T sep thedog', 'letdogo The rg th', 'ugThonlet o', 'dg he sleptneg', 'Theonsptgteg', 'dogslep Te onre', 'o the let Th ug o', 'ru Thhen let', 'Ton hedouglt', 'oTe o rg t slept', 'se te rg og', 'lt on dg  h t', 'dghesept on ru T', 'doesept rg Ton', 't h spgogon', 'te Teoslepron', 'he on lept do heru', 'n g tTu slep', 'do te slpt  ru', 'T th r onslpo', 'g o eogsle e', 'uthe slept n dg', 'ru et eog n', ' pt udog oTh', 'The epg teg', 'p gn theru', 'nug eptT  he', 'ugo h gseThe', 'do slpthe onhe', 'n e gthedo The', 'th sepon dog heug', ' slpon dogThe', 'he on slet dug ', 'd en h lep r', 'he donthe p', 'do Thonse rugth', 'o u ghtT', 'tg n e le', 'og Theslthe u', 'dnrugThehe slp', 'org t d h', 'udoglepTeothe', 'The epheu dog', 'rug eso t on', 'do onrg Te te', 'dr h he slept', 'og lep Theu he o', 'Th rg then sl', 'hed lp g', 'l o  gtheT', 'h og te n se', 'ug o doslet heTh', 'Theugsle g th', 'rgoon te slt', 'te let ugdoghe', 'n  g e tthe', 'slepon dg Tethe g', 'slepgTe ohe u', ' d slptteh on', 'tho  ruh l', 'ongdt p Th', 'Te dg  sl te r', 'trup dogeo', 'o o rugthe etT', 'the o h let', 'og  lpt e h n', 'h t ooglpg', 'let ug on te dog e', 'sept rgTe gth on', 'ehe lpt dg ug n', 'rug g oth lpe', ' rTespoo', 'T heru dgnsl', 'ergept oon h', 'dgthe Te spt rug', 'g r ons e Te', 'len eeg', 'h t rg n spt dg', ' t Th gept og', 'g h n rug thel', 'Tsle heu dg', 'theg o The dsp', 'd ugn Thet', 'truThlepdog n', 'udolpt ohe', 'r he oseptd The', 'te dr nlpe', 'eg o he r slept', 'leto uTh ogte', 'odos Thet rg', 'h te set dog u n', 'od hesru', 'og rgst e ten', 'rugonset he tdg', 'ru he Thel d', 't do g heon sl', 'r Th og slephe', 'he sleptugn dog e', 'nsl rughto', 'The oru st', 'e nth e g g', 'he Tepo rg o', 'he do lp ru  n', 'sen heogg', 'hedog e ug et', 'og u thelepTheo', 'uep   o dg', 'sptg dghenth', 'e nTh dog lep u', ' g eT', 'rg g thhelet', 'doruphe', 'odo ugtThe', 'n l rg he hedo', 'sle Thtdorug', 'st r the onheg', 'g loTeu', 'o o tT t', ' etTe he on', 'dheruep e', 'pruoonTe', ' nrg dgsp e', 'n oslept he ru', 'edopto he ug', 'te ohelept u', 'Terug thepon og', 'heoglepthrg ', 'g he lep e n', 'lept the Th r g on', 'Terg et o ', 't nslt hgg', 'Terudst h o', 'gslpt the he', 'Thgset te', 'ruTeeptnt', 'odlepterug', 'ndog rg thee', 'hep on ruth', 'rug Thg te st', 'gen g sept', 'rg ng sle e Te', 'ru he slepth dg', 'ru  pton  The', 'h d eu nT', 'theuggn Thsl', 'ondgltheug', 'thesletd n ru', 'on  uslpg ', 'he dthlg o', 'the ru d he stn', 'eptthe dog hern', 'he rug h d sp', 'eo ugdogT slpt', 'u hh n d lt', 'onteu Te dog e', 'he thonslept udg', 'oe hug g sep', 'on heslhe do g', 'hedoo e rlept', 'hletd oth', 'n ge Thedog the', 'ru p dn', 'setrgthe  The g', 'ru  dol To', 'het rgslet o n', 'ruethe lpd on', 'thle  rug  on', 'lep  dgTheg', 'ep on udg t', '  l hrg he', 'te ogugslpt  o', 'g lt hot o', 'he ro sle dog', 'lpt d Tee n', 'rug slp h do on', 'T sltdog thegon', 'rdog  te Te', 'Tsdo h rug', 'rol he The ', 'rsle e n td', 'Thedo lepnrue', ' dorug e he', 'n d Theh', 'sp henthrgg', 'Te ug lo e og', 'the rgogTh slet n', 'theTh rdog o', 'slp o ug theThe', 'slt Th t dogo', 'g sep nhe t', 'sleThe ru d e', ' he srug h', 'ru d t te e ', 'theo  e dhe', 'Thon rug slepto', 'se uethno', 'e on p Thedg rg', 'Togg sept', 'tTherdgon he', 'set eo h g', 'rug e et Td on', 'o T tdgleptrug', 'dooe spther', 'slet g he Te', 'thsl ug d e', 'h dog Truglet', ' Tsprg t', 'leh do onTrg', 'e gTe osl dog', 'on hthegsl u', 'Tel rg o he', 'sptg ondg Theth', 'onslpt tedg  T', 'h sledo herug', 'o hruglept g', 'slep  one hrg', 'on gogT e pt', ' sp d onth', 'The dg sep ug teon', 'sptug Th o o he', 'Th tsp o', 'o helprudg ', 'ruosepton h Th', 'e o hoset', 'he Teslept o ud', 'ugpt he dgthe', 'epdo  Th on rg', 'nh rgslep og th', 'rg  hedoghesep', 'u dg on ee', 'oruepthoge', 'dg hheoslt r', 'T ugsletonh d', 'rug Te stn do', 'sleth n e dr', 'gptn e The do', 's rg n', 'sletrugteo Th', 'gslg T he', 'dgseg ot he', 'og septhehe u', 'do lt the Th ', 'oosep   h', 'ghe heooset', 'hedogThe set on rg', 'sleThhe ogg', 'hethdo e on g', 'o Thheg sp u', 'n th rugThsept', 'slept tr e n g', 'thugnTh dslt', 'on heoslethe ru', 'Teg let edo o', 'The n sp th', 'The se te gg', ' setug dogt n', 'he rt nte o', 'e Thst gog on', 'g The ep on ug', ' heTh rg et d', 'slethnTh do ru', 'Thug on t se dg', 'slpt og rTe theon', '  oh rg ', 'edosug oe', 'slpttheedo on', 'ug Th se o do h', 'thtdog   he', 'ru the Th sep dog', 'gn dog  the h', 'hog rs onte', 'setrugdog t', 'og t nrgs Th', 'rughet  d', 'u e dog Tonspt', 'onte sldog', ' hnltte ', 'The  sp od', 'te og slet u T', 'dlhTh n', 'ru stogThe ton', 'thesetTho u', 'rg Th dg h lpt n', 'dgr eptT teo', 'Te rugthe do lp', 'rug dgT te nlet', 'ongr Te ep th', 'th rugst ooh', 'r eh n l', ' hstt o', ' do slo rug th', ' sltrg Th h o', 'ee nrug e d', 'lpto ru n ht', ' rgegsepn', 'olette onThe r', 'lep dougTte o', 't p g rg ho', 'ghlep h og', 'tele ndog', 'rue et teon', 'lptrg thoThe', 'o slpThe h ', 'Th slto ru', 'r Theth oslep', 'slethe o n', 'on do u e', 'terug og Telp', 'he set he g g', 'ltrTeoheon', 'Theheslon ou', 'terug Th on sepdog', 'ug sp dgTn', 'nru slphh', 'dg o lept e Thru', 'r slpt og ohe e', 'sepo r he he', 'e slprugn d he', 'oTh g sep', 'g Tohe tr', 'Thel theugoo', 'teThenu ', 'dog lethg', 'h rg g spt te', 'rgd  let  ', 'Thug lep n he g', 'nTheugsdo th', 'o  rg thelpog', ' dg u he n he', ' The l hg', 'oog the eug', 'Th hdogslp  ru', 'th spt ughdg ', 'dog g tnslepTh', 'tond Th te rug', 'lpug oon', 'the rug s g hen', 'uTesleptdhon', 'Tslpgtndo', 'Te h ultgn', 'udoghe slepthe', 'p te n he og rg', 'T sleptdo  ter', 'o  gle h rg', 'pt oTh rugon', 'slethe u   th', 'o  lpt h rugh', 'u the o e  Th', 'e on do thsept r', 'g eptthe ruon The', 'eslet dg nrg', 'dog o e h rpt', 'doheTh oep u', 't  og slet Ter', 'n Theslepte dr', 'oeThn e g', 'g  oTe t', 'o lh teo rug', 'dogt lp  g The', 'T  phego', ' hethslep', 'teg leoTe u', 'Th dogete g', 'h nThe g ogs', 'The dg stru te', 'T eg gth ', 'grulpt oTe th', 'e rg on pdog he', 't dogTel', 'onrTh  slet t', 'o setthThedg g', 'leptde ruonte', 'gn ett Te ', 'The og host r', 'on g thhe rugp', 'ru dg on st', 'het nd g th', 'he  d rgn th', 'on rugpt ed', 'ng sleptdgThe', 'g do hept T', 'Th slethoonrg', 'epte o orug Te', ' g one elpt', 'g sle t onTherg', 'hdog e o sltru', 'ogr the neh', 'o sep e rg ', 'ghonh lt og', 'h doruonheslep', 'hed Th u ep o', 'rughd T slpt', 'gd stteh', 'he  tdo rulep', 'on g teru slp', ' on eptd er', 'he hronsl', 'd Theleptrg onhe', 'ogh rue slep', 'ten tru hedog', 'sletTh heg n', 'Te ug let tdgon', 'dg on septh ugte', 'Theu the dg  n', 'Tensepth u dog', 'Thonsldog he ', 'trgTheleptogn', 'Theon et ugd', ' sep the ge', ' Teetg u th', 'sletdog e on', 'spt odot rg', 'n sepr d Te h', 't  udogle on', 'dsle  Theth', 'he ptn g', 'or  oTe', 'T  uge dg', 'h ug olptoe', 'eet ruoth on', 'sleptheo gdogth', 'h  slt onh do', 'h   do g st', 'uTe og hespt n', 'T d th etu', 'ru  te Th', 'ug septon og he', 'sl ru e dogthn', 'e g lt or the', 'rg eth onet', 'th T ru et', 'oltog ru tThe', 'thsledoo rug', 'sept hen  r', 'o estherg o', 'dogTe rg slptthe on', 'The ulep thedg o', 'e rg nTeho', 'th doe rulet', 'g Te rg o leth', 'ru Th slt gte', 'ruTh ntthdo', 'Teslep  teon ', 'theh go slepn', 'eton ru dgth', 'slt euoT', 'h he  nsle ', ' set ogThthe', 'n u  Theelep', ' stoedog rg', 'Thslt o rgon t', 'rgoo helet the', ' he onspdo', 'on ru Te tedoglp', 'eo s udg te', 'hhon rudo sep', 'onhe pdg Teu', 'Te s gte o', 'tergslet dog ', 'orsle thg', 's o g gt', 'o dglet rgh ', 'slet d h n rg The', 'ueog nthe slet', 'slp  dog T te', 'Trg o teonet', 'ot dog ru te', 'oh let rug og ', 'sept g T ', 'rgslt the ohe', ' heeon u l', 'T lpo oh', ' dog T npt', 'dTn the slptr', 'lt dog ohee u', 'erdgn sept', 'Theno ruth le', 'stg rug oT h', 'Thug the o gset', 'oug ethedg te', ' onh Thsept rg', 'onT letheogrg', 'heeptth  ug', 'th r  t Thdog', 'tehe set ogrg', 'lhogrheo', 't og elepon u', 'ept on  g dogTe', 'the goslru The', 'h rgget ', 'e th d on ug sept', ' hleto', 'dg et Te h on rug', 'lept d h oherg', 'g e on p do Te', 'do e ruon th', 'ug sep ndogteh', 'o  n heThslet', 'glpThe o  ', 'h let heong r', 'ug onThe h slet', 'Ththen dog seu', 'e g  he seto', 'slept he oh rg', 'e te e nogg', 'rlptho og Te', 'htheosept  rug', 'set n u dgt h', ' teo doglept rg', 'sept g on  rg', 'sletruht on d', 'u o ep ten', 'dtheruelt on', 't gThsepdog', 'rug sl dg hon', 'u hleton edg', 'rg  oonep Th', 'e Thedo rug p', 'eo rug slet T', 'The on se oug', 'rg n leptTh', 'se et og ', 'h g o eeptrug', 'pte Th dg  rug', 'rg set o nTh t', 'ug p Toteo', 'ru ep he on', 'heth sp dg u', 'rg e ltn edog', ' lethrg', 'set edruhe', 'uteslet oTdo', 't ee go', 'steru he og', 'sthethe dogon', 'hlrugonTe g', ' g o dg p', 'oThe e on te ug', 'dog u eo te', 'og  slp t ', 't o sletoggTe', 'd thergslpton Th', 'hrg lted', 'rughesltT do', 'h dg rug onpt', 'leph hen u', 'heTh gsp', 'rugdog h o slept te', 'slet The goo t', 'The n rheolep', 'dg thoug sptT', 'Tet ept u o d', 'dogth n esle', 'dgug eepte ', 'rugo o p ', 'dg uTehe let n', 'dg ru hesl', 'lepte ntru', 'Thrug dogth slp', 'ohrudog te spt', 'he slet n rgdo', 'Thd tel rg', ' lpther dg', 'te rug o dgsept The', 'onrug e t The d', ' slerho Th', 'epu  dote on', 'd seto u', 'rudosept Te n he', 'The rhe pt n', 'og seterg', 'ruteo slept Th', 'e hn lept u', 'Thedoleterug', 'slpt onthrug d', 'tehe o se r ', 'doghe u o e the', 'Tdorg set ', 'slgn', 'doglept  The u', 'gThelon t ru', 'lpt therng e', 'o rugsept o Te the', 'rug stog  e te', 'sept rgonhe the do', 'sleo ughhe', 'hlet teonr g', 'e ette oug dg', 'tgeg s ', 'o r lepeh ', 'on lpt Tehg', 'The on r dog lpt he', 'slepterugo T n', 'odog s T ter', 'nThe doletrg', 'ug  g tesl', 'sptdo onthh rg', 'sghte', 'g n e', 'Tog letrt ', ' e ugo lep', 'te Tenslpt dog g', 'T ot  lep d', 'n oThp rg', 'rune olp he', 'rug spthe endg', 'rgT slept do he', 'The ue doon ', 'Te  rsldg', 'dru nsete', 'ue slept  Thg', 'dog the eptheonru', 'st u ogTe on', 'go dog te Thelep', ' ge The the ug', 'he tng he do', 'og  t heo ep', ' ogth on set', 'rug sl e n', 'Te o ug dgth', 'rugone s d', 'ugslpTheg', 'e gg on ept t', 'thet Teo ug', 'ept Te t nog', 'se Th oouh', 'dog heseto  g', 'g  ng Th spt', 'sp The g teonr', 'ruT lptote', ' dog n rug e', 'he ston ru teo', 'e rgslept do', 'gslptd t Te', 'olepru th', 'thon lteorug', 'dgte slepthe ru', 'd he ugon spt h', 'hog g  o he', 'lpt e r th', 'huglet e', 'teslpt egr', 'Th og nr slep he', ' rghothet', 'lt T u oh', 'rg lpt te Tn', 'dog th  g Theo', 'hnsltg og e', 'nd le the rughe', 'dg e h rpt', 'nhe spt   u', 'gg sleton ehe', 'doug t slep on', 'tlept n og e u', 'slt don r th ', 'do  h spt the', 'o h Th ru onle', 'ugTe thosept dg', 'ru Te p h', 'h do rle', 'ug Tedg p', 'do nsle rhe h', 'g dgsleteo', 'et Te on her dog', 'hn Theru dog lp', 'Te esto rug', 'e lptdoog', 'p dg Thrugn', 'The helep do g', 'th e glt u', 'do r lptTh h', 'us oThe th', 'T p d ru o', 'h ot rug stdo', 'dg rthon septh', ' Theept ug dog', ' he  oneph', 'u t pt T d', 'Te ugh n slt', 'eltng Te u', 'u dotheon Th ', 'g Th  heolet', 'n dgptthrgT', ' gu pt t Te', 'th Then eptg', 'slehe o ', 'e gslhnrug', 'The og oeslep', ' tsep h', 'og t o rge', 'slp teThn r', 'ogTeo sl t', ' he nug pt', 'dget rug hen', 'nr sp hedog e', 'Tsltte d  g', 'u the  dgslet on', 'rThe lp n do te', 'u hee ohdog', 'slp on Te t r', 'ept g Tter n', 'on slo ug T', 'rugn th Tdo st', 'Thspt dog ugn ', 'The on d slt gt', 'Tt rugsdogon', 'on sept ther', 'Tdrug  e lept', 'thergg elept', 'h Tono  p', 'do th gen', 'thgsp ndog h', 'T lpt rg h', 'ru o ept e eo', 'on t spto Th', 'te odg rug t', 'Thog onlt hru', 'og rg slpthe o', ' Theohe l', 'dg rghe  slpth', 'seugo n he T', 'o eog ue Th', ' sletgTng', 'ognlt Terug', 'slptdrug oee', 'o u te lepTh', 'orosp e e', 'n et thhe dogrg', 'e e  et du', 'g nhgse th', 'Todo epr ', 'onThltdo rug', 'e nTeru sept', 'rgpdogThen', 'doghe slept n ', 'hslp og h', 'The gheru onslp', ' u ptTheh', 'tu oglonTh', 'rugslepoohethe', ' onht rg', 'se heteonogg', 'og onTe ep rg', 'hedog lpru heo', 'slpo ugte h', 'e dogte t rgon', 'sleptothe  ruge', 'endog thel', 'n oelerg', 'nlepugdg h te', 'slehe ugn dg', 'hen u sptth', 'sleTe on d thrg', 'elpte on r d', 'd sletn e rug', 'leh do u nh', 'slep teu odog The', 'eudg onhe se', 'ephog  rughe', ' hept on doghe', 'h ru dg slptt', 'rugdse theTn', 'thdgseptT g', 'do houg hsep', 'e r slep ng he', 'g rg he Thslept', 'ondog e e r ept', 'd ru onl thh', 'onleptdog Th g te', ' he u oe', 'ugth he', 'Thet dog re', ' d ptugThe e', 'se do oru hThe', 'ne e dgug t', 'hdog he let r', 'oo eThe ug', 'ugdon e The', 'sleptgte heon', 'oeg let h', 'ue e d on slep', 'sl r th', 'rgntsT', 'uslpt heohe n', 'pt dhonu', 'th dog st', 'sleptgTeh do', 'do h Te onse ', 'lpoghr ', 't honhru do', 'd e lton g', 'heTe gstrug on', 'Tedog tenrg', '  te e l', 'ut spt hdo on', 'The or n thee', 'n te Te rset', 'uonspdg eh', 'hlton ug t g', 'n erg The dg', 'eTh le  n ug', 'dosergon', 'og n Te g slete', 'slept g ug the n Te', 'g u en lep e', 'ug  ghslth', 'g dogn p Th', 'ogtpt T', 'Te ug gnepe', 'Te o tugo', ' sTdgrugo', 'e ug p ote do', 'tdgh lporu', 'gdoohe spe', 'he ru hen slt', 'epthe ru The ono', 'g the h serug n', 'u g s ne', 'rust teeon', 'set ruge o h g', 'onr g hepth', 'slpteo rugn', 'h ru do l e', 'ugh do eeptn', 'n Tslrg te', 'he dogetorug', 'd sp h uen', 'T go septdo he', 'ep rgT  eon', 'on slpt  ug', 'ep on dog he rg', 'rugsledgon The the', ' r slh o h', 'tondo heruslet', 'he dg nlt ', 'Thru sptth o', 'te Te g pugn', 'Tepon thrug', 'he septrdo o', 'te rg  dogslt Th', 'hlptugoTe', 'o sepg thThe', 'n e o h ru', 'on e le  Theru', 'lept rgenThe ', 'Th r sle te do o', 'the sp  Teg', 't oghthe ru', 'st  n  The', 'tsleug Thedo', 'on hesle rug', 'g h', 'og rug t oTe ', 'otn Th ruept', 'he g The rg slpt', 'dog e Thue n', 'oosleprgThe ', '   ug slep h', 'n dogrg  t Te', 'Te ug g sephe on', 'rg gThe tespt', 'Th dgrg on the st', 't ru le og Th', 'thehspto r', 'gep onoh', ' l rugdo h n', 'lpThe o rte n', 'g sltoneTh', 'dog ruheon lt', 'lh ru  te', 'th dogTe or set', 'te og ltThr', 'T dg e teug', 'Theh dgu lt', 'eeThe no', 'ndoh hug e', 'Thset rhe', 'odog lp rTe', '  hlet ute', 'slton  do hr', 'th shn g rug', 'se Thete on g', 'dsept rgneT', 'Te dog ugslet o t', 'oset eugh', 'Th  edru lp', 'thep  n ', 'dot gse', 'slp The ug dog o he', 'the Th ru spt dg', 'heo nthsp', 'slthugghe', 'uTh o lept  o', 'st  Tet og', 'sept t  herug', 'slep th rg o o', 'lt do hntheru', 'ug Theo t s', 'on o sletrg The h', 'lept og on hhe u', 'septdgTheoh r', 'The goonset th', 'the  dog rg sept', 'he te rug  septdo', 'orug p Te oh', 'u heo dogsep', 'n he gTh rug', 'he rug ept onhe', 'g o e r lep h', 'let h T  ug', 'ugTe onedogsp', 's run e ghe', 'glepth rugonh', 'te set r o The o', 'eog h u', 'The ogoherg p', 'rugognh sl Th', 'Thrg tet o g', 'l oth  e u', 'he og rg onsept Te', 'he oepT rug on', 'tslepou heo', 'hdog oTe l g', 'Theon dlpt uthe', 'on heogsrgTh', 'eph n do th g', 'te odgTher t', 'ugTendslept ', 'ru d Tele he on', 'let te Thedg n ru', 'theun dglptTe', 'helpt dog rg', 'e gogletto', 'Thon uglet dog', 'uTe the dgle', ' o eonrle', 'hesorg o the', 'helpog h ug', 'ogrugtheonslept T', 'slpTheo orug', 'erugdo te on sep', 'oe esl', 'dg lerug te Thn', 'n he dogrsle te', 'h  u pthe', 'sle ohge og', 'eruep nt ', 'on  h the d', 'l Theon teg', 'oe lpr', 'sp do eon re', 'te rug sletdo Te', 'g  oe hon', 'te do stTh r o', 'heogou  slp', 'esltdgr o e', 'on ru op th', 'epTth o d rg', ' slt  on rhe', 'r he epoTh', 'sltog th ugT', 'do t Tese', 'n h ru these', 'rgT on letteog', ' rglet the o ', 'Terg lette dog ', 'Thorg the o sp', 'uspt The one ', 'o g slth rugT', 'her e lpt', 'eorug dogh ept', 'opThdh ', ' dogo thsleT', 'Th oug spthdo', 'on T slee ogrg', 'optteoer', 'ughedog  sp h', ' o th lept', 'rg pt do  the o', 'sptugg th T n', 'rg h o g slep', 'og gslt h', 'n ergdogTheh', 'dltth ohg', ' he  osle u', 'Th heset r o', 'sleT  d', 'Tedgnsphe', 'g on lpt rute Th', 'ogrghe on t st', 'heepthenugdo', ' rg et Td h', 'e dogn eprg', 'rugdg n Th ept', 'ru lept T oheo', 'th lpt o The', 'og hThesp rugo', 'gsptnTte rug', 'hes oug on', 'Thenh se dru', 'The  on rphe', 'ug o set ', ' Te dogon ptug', 'rdg sptot', 'septgTeoner', 'stog theo Te', 'th Th leto go', 'onh leprdg', 'ugT he  let ', 'dog on set rg ee', 't sep ughdo', 'rugohe dhe p', 'n r eptdoe', 'st on hdoThe ru', 'do te he et ruo', 'The etogthun', 'eptteg n do', 'let og rug onT e', 'hspt doTeon g', 'thodg sletTe u', ' eptthegnru', 'Th th oo rug slept', 'gsleruT o the', ' seth n T r', 'gohdgth sept', 'strug o e t og', 'rt  sle do Th', 'teogon pt g Th', 'g heslp te o', 'og Trugto ept', 'g The theonslep', 'do oug t seTe', 'Th on stdoghrg', 'see ogg o', 'p g gTe he on', 'Thet  rgdog', 'pt gd e', 'The ergdo then', ' o olptt', 'e n rg t l', 'lept  hethon', 'h gp n r h', 'lptn The tedo', 'The n eorug sl', 'elet g e n rug', 'th do spugThe', 'on  eu slep Th', ' og setn Te ', ' The n h gd', 'septo rdog the Th', 'Te rug thesl dg', 'lpThtrg o d', 'the rgsepdg ', 'he n sugd ', 'rg don Thee let', 'eog te on pr', 'udogTh ostthe', 'hethe dg n g t', 'te e  p  ', 'Tsle th uog', 'don ept eTe rug', 'Thrugdg lep n', 'odog he ru pth', 'ro Thespt th n', ' dg nlep Thehe', ' T etg th', 'sh on herog', 'le rd onh he', 'orusl dt The', 'st tTheg  ug', 'h og ptgn e', 'th le o The rg og', 'tg  er on', '  te pThr', 'og r hele Te', ' h lpt n ru', 'g rugonTh', 'the gph n do', 'g  let Trug ', 'ugo thoTheslep', 'gedogo lp', 'ru Tonog epth', '  e Thetedg', 'hhe d slpto u', 'ugd leont Th', 'septen ogeug', 's do  h t', 'eoTh oltrug', 'dog ther sept', 'rugth spt The go', 'rg hlpt dg e', 'oggTon let', 'Teter on eog', 'r onhdo eslpt', 'T he slogg n', '  se rg', 'ep e u nheo', 'theog gThe n slep', 'rut h h', 'o ept T teu', 'oneu The o', 'n gdo sle', 'Th rg spt on  ', 'doge on septrg he', 'te dgone sltug', 'the e n  o', 'hTru do set', 't h  do', 'rh d onthe lt', 'ltdo ruhnTe', 'e spt n o rg', 'onu slpdgeT', 'rug hdog on slt The', 'e hedo slepn rg', 'Th o set u ', 'rg oge elet ', 'ept dog e heg o', 'sl dgentr', ' pT hog', 'ongep thu Th', 'Theonde te', 'g elet teru ', 'gnslept dog Th h', 'slet  dghe o', 'he e ondogru', 'thedog slp rug', 'dog eTeonsr', 'slpte o T dou', 'teTeon sleptorug', 'lpt ug Th dog the', 'tg netrg Te', ' ogrgThtheon', 'hedg ng th', 'e rug o lt de', 'Thd slpon he', 'h he epdo', 'theh  lptrg', 't do te uTen', 'the eTeonogg', 'ndo hlep Tr', 'e  etheu dog', 'eosonThe rg', 'hosleone r', 't dThen rugep', 'the sp onug', 'Tleptrugthonog', 'dog sep t rug h', ' sepn he hedg', 'ug he dohonsep', 'h go lept e', 'lept g T ug', 'T doruon te ', 'Tt ept ng r', 'og pheThe og', 'thdo sltgon', 'ngleptt u e', 'he sdoo hg', 'onTepdg', 'eogep ou te', 'hlptr ndg te', 'he s e on', 'runt Te dg sp', 'udg n het sp', 'on dltte rgT', 'uslep teo T', 'o u do the', 'uonTe  sletdo', 'tee  g o', 'og T osept t', 'doge Theonseu', ' nlphe g', 'n dol  hg', 'Tu do sep t ', 'og sle  on te', 'u og he lept t', 'd h thn ru le', 'do The', ' on et d th', 'st nru dgthe T', 'eon dg g te p', 'nte  g slp og', ' hdle he rg', 't sept Th n dog ru', 'let g r o the', 'thhe p do n ru', 'st dg  rgh T', 'h  lept o dogru', 'dgT teslpto ug', ' T  ulth', 'dgth ns', 'h T slepdogrug', 'u thee one og', 's Th ote', 'slethru on ', ' nsleptdoh', 'ordslpTte', 'on hog eptrug he', 'e og e lt ru', 'n gt h he dg', 'he sd n g Te', 'Tegsept oo', 'T on tog rug', 'spt  n  teg', 't on let u  dog', 'hu og oh ', 'heeptr hog', 'Theo uslte', 'hedogho', 'Theu leton edg', 'og rgslept he e', 'dog ro heslept', 'the o pt gT', 'Th rut lto', 'ogons thhe rg', 'sleg o g Th th', ' o  g the', 'nug heet', 'Troeslt g', 'ruth ton hedg', 'rsep  n d h', 'gte slepth', 'Thug sle theog', 'ug thst ', 'rugThlpndg e', 'h rseth dg o', 'hdghe nug spt', 'the og nh lpt g', 'Tesl onge', 'eo srTdo', 'slptTh ughedo', 'n h sle Th', 'e rtesp on og', 'dog hsltrg one', 'gslet e noh', 'gohelt th rg', 'e seT d g', 'slepteThruog o', 'slprt oThedg', ' slpt e ugog he', 'ug dog sle  T', 'th os rT', 't se ogTheru', 'heonept Th o ug', 'n  u ete g', 'Th do r he so', 'ugh n heo ept', 'hehepd go', 'letdg ug onTethe', 'The dglerug the o', 'u  dg sle e T', 'lptdogThe n  ug', 'u eonhe Tdo', 'dg r t lepth on', ' Thru o lt', 'l heo n T', 'dogu te lpt Thn', 'u og th o elp', 'o rug hsete d', 'etg horu he', ' ru g hehsept', 'on h the rgsept', 'o Tn rug th ept', 'dogrug th  ptT', 'ug g  onst', 'Te oslep h u', 'sletTh n t og', 'g Th ntlp rg', 'rug lep  the', 'u Te sp theonog', 'thee rug sle n og', 'edgru ltnh', '  sepdg hte', 'gn Ter t', 'uthlt dg', ' rlep tog', 'rugThe o og e ', 'h on hesleptog ', 'Th teoo rugslep', ' Tedog lug', 'n dogTheu theslept', 'test  onugTh', 'sp te og erugon', 'e he g n set o', 'dog Thrglp t o', 'he nTh sleru', 'u n dgsetheTh', 'thunspg', 'te rg Tonet d', 'hgt le run', 'r  Thlept do', 'hrT o slet', 'onhdtheuglept', 'e e setn g', 'he slpthe rug n d', 'p Th he rgo', ' ed  nlt', 'n lt  eherug', 'on T oguslpt te', 'os dge', 'heog oth rgt', 'onosleth r h', 'lt T on rggt', 'ogteetn', 'spt Thdoe  ug', 'rug stn oghe The', ' o Th dg', 'p dog ugTh to', 'The on ruh dog', 'septe dg o ru', 'd e orge t', 't on he sleug og', 'her thesletn dg', 'dothesleT n', 'onr Thes th g', 'dnherughe sle', 'gohdotheet', 'h o leptonhe', 'slt o  tdug', 'he edg rgst', 'The uge the', 'T  rgheo sep', 'ondg theTe ug sept', 'ug he n hespto', 'oephedor The', 'ndost rgTh', ' hoo sle r', 'he rgoghe on', 'septte u og', 'dog n ep hut', 'e leptruTheog on', 'septdg gTteon', 'el g on', 'rugogThs tho', 'oslepte drug', 'tendg epe rg', 'rughe dogslepth', 'ogn se herug h', 'og  lp g hThe', 'hrlep n doT', 'h uonopt Th', 'gslet Theh d', ' teepton T', 'ept dog ne the', 'The onlt the', 'hergon sT g', 'd  ru tslep h', 'ndo the le ru', 'rg oosl  t', 'oThthe s rg', 'lpe ug dogn ', 'Th og onr  e', 't nuThe slpt dg', 'e do  t rugl', 'o h ept dog', 'rg on lept h ', ' Theg rgepte', 'The lept dth', 'hehe ept rug dogon', 'honset g rugThe', 'e ogl onrge', 'th onogrgT', 'hergspt o d', 'hh uog', 'on theuT lt', ' rugonhelpt', 'Theonldg heru', 'dg th sle o T', 'Thdg e  he', 'Tte n rg do e', 'ptgdogonte', 'do lhrug', 'te do he etog', 'Thedo ru th slp o', 'odteTh gep', 'lpt dThr', 'on theTheltdoru', 'The te spon g', 'th loTe  ug', 'Teon  se g rug', 'dog pt on Thtrg', 'slep terng e', 'rugeslp o the', 'Tolpeuog', 'Te dogu hslet', 'gon tru the Te', 'se dgn ru', 'Teonepthe ru', 'gThe oog', 't ohe rg he', 'dog he r o', 'ogonu htsept', 'ho ru h st', 'l dn  u', 'ho ug  sletog', 'lphho dg ug', 'To rugsn he', 'ogtheslptu eo', 'e o Th rsp', 'sleg Theonheu', 'rug do on ehe ', 'sl t Tog', 'sleton rgthhe og', 'u slthedo', 'oe he sep rgg', 'o gn sleptehe', 'rthedogTe  sep', 'rg Th n h ', 'hedlpo The r', 'dgu ttTen', ' Th te uslt n', 'h sptoo the ', 'e u o eptothe', 'h d o rge', 'Th  rt n', 's n dg ', 'r spt The g n he', 'gogsetTo', 'edge uthe', 'on glep  o', 'rug on ledoTheh', 'oruepte dgthe', 'go th Theetug', ' r thd se', 'he g n septdo', 'Thogruteslp', 'theo pn Tr', 'dg lpt  oThu', 'slpteo do teru', 'r hslpdoth ', 'Teehe ug do', 'slpthog', 'hesltdgn rg', 'dogrgn e h st', 'g teT seg', 'heThe dog lptg', 'the uoseptThdg', 'rugsep o tdo', 'rugthe ptd nT', 'ute og heslp', 'theTeslet oo rg', 'o edogrghsept', 'h oo theglp', 'ugo he pt h', 'Te dog ptr', 'ogT thelt u', 'r theept o e o', 'ogTh ethe d', 'Tedooept th u', 'teslepdrug heo', 'he  do Te', 'e ugThtdo', 'he rsept gon', 'The dog slprheon', 'e lepte r o on', 'r hsp o The', 'o Th ousle ', 'g ernse', 'st rugn hg', 'doug o te sp', 'on glT terug', 'nusldthehe', 'dgslet ug he Te', 'Thslpte rg', 'let rgh on o the', 'sleptog on h g', 'ru g slepton', 'nse Thdg the rug', 'n doge Teeru', 'The heruse', 'on r te e l', 'g let nt d', 'ruod t Th st', 'Thu tongsl', 'heogrugsletn e', 'he do u slep h', 'rg n th o set Te', 'le uoe the', 'Th sdgn t', 're  slept ', 'rdog hphe on', ' ogsete ', 'The nlept ud ', 'onugpehedog', 'l he n dg uT', '  lept', 'letru  Th th', 'o  rn thhe', 'letoru dogte T', 'Thergslt on thdo', 'onsl udo e the', 'te od esp', 'lep o hdrugthe', 'ug slept donh', 'rgstdgTe o', ' on ugthedg slet', ' gslepo', 'ru thet dog on Th', 'g heT slet oo', 'dhon esp g', 'the hlpt ug n', 'lt o rugog he he', 'te sep ogorg h', 'rugg septThe t', 'dgThe rug onsep te', 'Th slehrgogo', 'dgThsept  heug', 'oleTe ru', 'Therglept h do', 'eru heole', 'T slpt u gth', 'ho sleptThern', 'dogoTh slt r', 'he slepdo ou Te', 'sle Thog ten', 'heogsept he nrg', 'rg le the', 'sep n  edogrg', 'rlp Tthe  o', 'elept onoge u', 't o the ugogTh', 'Thel dog te u ', 'Th  lpto on th', 'sepdoge te g', 's onu T', 'dorteTelep', 'gslet tT gn', 'o dog slepTher', 'e n u doglet e', 'tegd on Th set', 'doslt h theo g', 'ondgpT', 'o do ru e the', ' te he ptru', 'the et hend', 'dogrgo set hhe', 'thdogn sletug', ' slethe dog rug', 'u  npt og e', 'sept ru ndT', 'r he tolt', 'ne stth dg ug', 'do gpt n T', 'th spt d onu T', 'uonolep hTh', 'on  Theoglep the', 'rg h on lep', 'r o dgset teThe', 'nruThedglpte', 'o u The oleptt', 'The rgdg on th', 'uheg ntTe', 'he eptodg', 't o h The nrg', 'no lerg the', 'do Te  the lept g', 'herg do slo e', 'do Te terugeptn', 'sruThen g th', 'ugph og o', 'ru T slep do hen', 'e d te on letu', 'Thdteon slep u', 'Thepo og rgh', 'e lep t d u', 'The e slptong', 'r Ten slp te', 'te se on gher', 'hru l Th', 'sptt ndg uh', 'h ostonu te', 'ron heThel', 'n  eptdog Th ug', 'h d Ten g sp', 'rugteslet Thedo', 'nTdoept theg', 'ruo doTeette', 'g h  set dg', 'th og l The', 'sedg Theon the ru', 'ogthslept Th g', 'helpdo uTn', 'osept  g te r', 'h dog lpt ru oTh', 'do th o slpt rg', 'o ruhe he set', 'oogthe rgpt e', 'teug npt The ', 'o sphh  ug', 'rgTelpt te o', ' rgdo Te t lep', 'e d onrg le', 'sl rg t g n h', 't g Thesen ug', 'ngTh lp thedg', 'd Tehsep o ', 'rug gs ntheThe', 'eeptog trun', 'g ru eonl', 'The sptg  th o', 'e Tono ept', ' ru e e lepon', 'he sept oThe ugd', 'dgt h onpt rug', 'gsleptrug n  T', 'et rho', 'ep ogThu', 'o slon th rTe', 'lergdohTh', 'rugsp h dog ', 'Theg the po', 'dog rThe e ep ', 'n tesept rog ', 'on dog spe The', 'hd slep h n r', ' ghuon lep', 'onheo the u p', 'd lepthe nrug', 'Teg ono h slept', 'u o pdohee', 'on heth sptr dg', 'he dg u lpt e', ' dhe orgslp', 'te Teog osltru', 'stdogrgthe Te', 'onhe lpt dugthe', 'rhonslep e', 'Tr  h sl', ' helnhug', 'dglepherugtheo', 'on hsethdog ru', 'te uo  dglet', 'dog nst ute', 'te et ondog Theru', 'rgdoslepth  n', 'hdogo rg sphe', 'Th h n do st g', 'o set The gug', 'heon sptd', 'te u lpt dge on', 'uo d slet th h', 'sletn Te teg ru', 'o sedog ug the', 'Thesletg do', 'ghen Th og', 'sto he  u ', 'ltuthoe g', 'se te on Tedru', 'dog ote T', 'he grug sle', 'orgsletdg', 'oThe set guth', 'o T sthru', ' en rug ogT', 'gogTe p', 'h sletug gThe', 'r dot slptTh', 'pr o he ', 'p T o u do', 'sp do Tteru', ' e etonrg d', 'o dogletthrg The', 'ond lh rgThe', 'Te n dogrg t slpt', 'heruhedog nslep', 'Thsletn  rue', 'the n Tleptrug', 'Te n se g herug', 'nTe g e rg', 'rug ponogthe h', 'rugept oh og', 'gg The on slt', 'o sehe e rug', 'sepo rgone', 'ug doo leh the', 'dogr set onTee', ' r Te  th lpt', 'let on dg h tu', 'do n hsp hug', 'e sle u T', 'septoheon rug', 'on ee dhg', 'rug lp he on dhe', 'g gsp Tht n', 'dgslpo hth', 'te g Tenslpd', 'Th h ond sleptrg', 'e n etugh', 'ong T te leptug', 'Te uhe nlt', 'rlep on e h', 'Thed g slpt t', 'dog n sep rug  he', 'g h te og nlept', 'doug theoneTh', 'o run lept', 'o uheo sep Te', 'dogo he e', 'slp du oT he', 'Teg te n', 'rgltgThth', 'otedghlep r', 'Trun he slp dog', 'on telep hegdog', 'et dgteoTe', 'ltnrhe o he', ' en edglep', 'Teo h slep u on', 'ons h hdogug', 'he n rgheslep d', 'e letdg e', 'rg onh sleth', 'Theslg thrugn', 'dog e nlep', 'd on he heu lept', 'e o eu the', 'olpt o ', 'o hetonrgslet', 'dg T u teoslt', 'oe opt ug te', 'Th rugthe ton', 'he lpt gohed', 'rug dnhespt', 'Thethu le g on', 'n dg Tehsp', 'Teteslep o dgu', 'lt on gg h Te', 'uTh slg tn', 'rug o espthon', ' slet Te  ue', 'ug dT onslp ', 'og Theslp ro', 'dog Tougth spt', 'gdog teon Th lept', 'lepg  dg nTe', ' dg se o te', 'slpeon ru og', 'epghe nru Te', 'sltg on th Te ', 'rg nlpthe he', 'ogThsep othrg', 'dgonst rgth Th', 'p o theu Te n', 'ho Thruslepton', 'h g heepog', 'theog Th lt', 'ru lep e n', 'Ttslpdoruon', ' Te r lep he', 'estn heug', 'ug e leTedog', 'lehhe dog o rg', 'To ed', 'ug seton hedo', 'he hlpt dg rugon', 'Th nru slt th do', 'hes unoge', 'sep o th h o', 'sep T oou', 'heTugpt  dog', 'he lept n dTh', 'r ott og', ' drugp', 'gsthen h', 'ueog slepTh ', 'dg gpt on the', 'rgdoge hTh n', 'ugthlep T g', 'slt h u dg', 'sp ugo Tho', 'ot golpt', 'u Th thlpogo', 't Tego', 'he o g stug', 'ug he sle ogh', 'o gsetehe', 'h oe ogher', 'setTheg o n ', 'T epdgugothe', 'he he slo ug', 'hhe dogst o r', 'g sle g e', 'oe th r d st', 'd lptteru', 'te ogTe s ', 'sltr n etd', 'Teong og lpthe', 'rg he Te o sept o', 'lepthergodg Th', 'dog onust', 'e g dgte onet', 'e ru n Te ogs', 'sleptthrg dogn', 'sept the o rug o', 'he rugdo sptthn', 'hhedogo t u', 'r edhe lepton', 'r onseehdo', 'n rug ep egth', 'edo l erg', 'ptg o Thente', 'Thrdo olept', 'g  th hsepton', 'rudlepte Tn', ' t theng he', 'Thdn rgsltthe', 'Thethe slprun d', 'Teosept the r g', 'slpt  n rg T', ' Te rd e le', 'og pr h', 'n g te Tege', 'lthoogrughe', 'o gse te', 'th st nu dog', 'Teruoepo', 'ruge sletThd', 'Te do htr', 'ontelep r gTe', 'Thed te run sle', 'onrusep o hTh', 'dep onTe rg', 'te p Thndoru', 'rug gth Te o', 'odog slepg e h', 'gTn g tt', 'r e d heept', 'Tte og n ruslept', 'd Th h  ru', 'on lg  g', 'slptuhe  h', 'ond hel rue', 'se do u on h te', 'ogT helpon rg', 'dog he onslpt uge', 'pthe ru', 'Te lep otheru', 'th sept  ug', ' g p ho', 'Teor thedoet', 'the doThu sleo', '  letrth', 'ooghe rug septTh', 'huslpo hn', 'rg Te sle do tn', ' d ugnlept Te', 'setdo Thrgh', 'h duhe sl', 'ogru ltth o T', 'hee uodoglet', 'dg tTn rg', 'h rgoThesle on', 'hug eogn th', 'ept otorug Te', 'goThept e', 'Toet dogth', 'heoge n ru e', 'heg th ng sle', 'rg he  n', 'rugdo ee  slet', 'osltnrue', 'doeep nthe', 'onsp ogheTe ug', 'h nuggThp', 'dog t o Th ug', 'on rugs ogTe', 'rgse ondthe The', 'th ru he d ep', 'rgTh set', 'ldghr the', 'th slp oug dgThe', 'gthe  pt ', 'The l n g eo', 'eprunTethdog', 'r t gon epth', 'o rug te ptd Th', ' o the h lep ', 'set onhg dg ', 'spo ghen e', 'rug h st n oge', 'Te doru hesep n', 'thslp ruThe', 'th Thedog o sept', 'heheetdo rg', 'Tespt theg g', 'on u slet dte The', 'g  spt o e The', 'h thogugpt', 'eg on rug h lt', ' pTrg th n', 'd sl onrThhe', ' onset dthe ', 'Tee sletgg o', 'og Theughept', 'e o the slt ', 'ond eseptth', 'rgonseedog', 'ton ohe lp', 'dog th le ruTon', 'The g e o ept rg', 'e g  leoh', '  rue the', 'on pt   the dog', ' g ugthlept', 'Te g oe r sle', 'nt tg ug ', 'eton Te rgog', 'theog ruonsete', 'teon eptT rg', 'uthe ep o n The', 'Thseth og on ug', ' nlu tTe', 'te ndg lp Th ug', 'sn g u heth', 'eet oug', 'hthruo set', 'Tothelet g', 'sl te do g', 'he og o sp trg', 'slptdotoruThe', 'oslpt grugth', 'td  he ug', 'e ept on dre', 't dogn h u', 'T dgrg on th slpt', 'n sltug doTh', ' n ughehe sep', 'Theeug o', 'onledog rhh', 'do he sleph', ' rheogT p', ' onseg h', 'thonru   slep', 'neoTstr', 'pt dh og', 's h then dog rg', 'u ospthe The', 't Ten do lep', 'on theolprug ', '  olep h', 'onThesptdorg', 'Te the et o dog ru', 'heslep  do the', 'Th orgslepe', 'The dsetonrgte', 'thru h set n', 'te dosepthe', 'seg eugT ', 'on ru te d e ept', 'n og  the T', 'd sho Theru', 'he ntheledg ru', 'Tr tet o', ' rg esleptn dog', 'do n The le', 'te u leoo Te', 'gru e  hesep', 'thdg lepo hr', 'the  p rTh', 'ug sle  on he g', 'eT nru lt', 'Thte og n', 'u thog let T', 'dsep heru te', 'g nhg sl he', 'heon sle ug d te', 'slep rugognThe', 'do gpTethe', 'do eptothe', 'drgle  to', 'og epheoherg', 'Thoug hset', 'h g on hegsl', 'slt ughnTe ', 'sephe ooh rg', 'the ntuThe og', 'heugslon  h', 'on Theug dothe s', '  ghege', 'eepdg rug Thon', 'n ru h og slette', ' slpt rn t T', 'The slepto eugo', 'th Tsep r dg', 'on het te g ', ' oh et T', 'on Th u dot sl', 'to lept n he r', 'otheg det he', 'd slpg h ', 'donset Te rug th', 'hhe dg e nug', 'ruTslettheon dg', 'ge org sep', 'og e et u', 'The uogl e', 'epthe donThe ', 'ute h dslept', 'spt th ru Thog', 'o  Tegte se', 'songdogte', 'thedgT  slpton', 'e dgpt ru', 'eheg rthe', 'th slep one rug dog', 'the slepte', 'edo  hrug slt', 'h onogutlp', 'rudgslp ohe', 'theru T sp  o', 'Tte ept o ', 'tee dg u', 'hed on t g slt', 'leptthen Therug', 'e spt  n therug', 't heg o hedog', 'th slt The rg', 'etdorhe', 'rsl theodg h', 'Tr do septe ', 'h sep on ug td', 'on h ptt ', 'oru h spt og', 'Teogslep u t on', 'slpthe og rug onT', 'lte rundo Th', 'ogslepneg', 't he ru  ogse', 'hetheug gept', 'g lptrg ee', 'o dg rugThelept he', 'edgt sptr', 'The on  org sept', 'g septTerth ', 'ont heu slept', 'slt Th ug hed n', ' thslp g Th r', 'oon herug ep', ' ru Tete', 'th sp on rg  Te', 'lp t o hrg', 'hedog st trg', 'hletg ed o', 'h ogtheeptr', 'Thesltdg theu n', 'teog slet ug', 'o lepthe th nu', 'h d o g Tlept', 'dg pt Te eon', 'tog leptTe r n', 'do sl ron  e', ' o ghe e g', 'rug eslep  eog', 'The do oseptte ru', 'Thespt ogon e ', 'sg teThe dog', 'theslep he oog', 'rudg slept  eT', ' don hepTh', 'st  eho r', 'on hed lt  h', 'rg hedo n s h', 'hesl dgon rug', 'o relpth do', 'rg e pt thdg', 'o gthset doe', 'on Te sleptog t', 'on leptThe dhe', 's d hTe', 'rug g on lep', 'rThslepteo', 'Tlprutog', 'slpt do rugtTh', 'letogThe  the r', 'rug do sletheTe n', 'dog t Te onsleu', 'Tdo n  rset', 'The lt e rg', ' d Tesett on', 'he nlept og ', 'thuT donse', 'e onslpt ug', 'sprg ne d h', 'og on the g Thet', 'Tee sltdo on', 'rgte sletdTh', 'The dog ron thslpt', 'theondogugse', 'h e rugog', 's u on th oh', ' let r onthhe', 'g ugohe', 'dTeonhesleptug', 'te l eug ng', 'do eo rg slep The', 'ogte g et nT', ' o ug dogpt', 'the r  et ', 'the u ooT e', 'l ondoTe', 'u nh dhslep', 'n og ruheletth', ' thhe ug', 'rgtheTheodg le', 'nugdogTe e', 'nru slt g hTe', 'tn strug h o', 'hglep uho', 'lepeon gruge', 'tedog se T u on', 'hehe lpt ro dog', 'hugth  o sl', 'eog ru he ', 'n Th g slt u', 'sepdg o r T', 'tte T dg on ru', 'osle Tetherg', 'eon ruoglp', 'on thset rg', 'ue dogTh on slet', 'n h slet rg o', 'erug lt o e on', 'o oglp h rh', 'he oTh og slet', 'spohe  n th', 'o e t on g', 'e  rg slt dhe', 'sept  ugon', 'dohesleto t ru', 'ndo trug Tet', 'Tedg o se', 'onTh elt', 'heten r ept', 'stdogtheTer', 'o ugh g Th lt', ' he  dug', ' dgo th gpt', 'n do  the st rg', 'eeo set o', ' rule o he The', 'The slet onugo', 'hug dog nlept', 'sp T rgh og', 'n og eTh rl', ' hnslph', 'ug e dg pt he', 'he ond seTheru', 'rutheon se og e', 'sete dg  T r', 'sltth rugThondo', 'd Tese ng', 'ru Th ontheo e', 'T rug on the g', 'the ug st d ', 'Teug st te n', 'rg Te sendg ', 'etTe oru', 'ugg sept ohTe', 'n dog Th te r', 'tn og sep The u', 'sl  dThe', 'udh sep ', 'dogTheoneslet g', 't e g o t', 'rugdog te The lt o', 'ru o The n e', 'e gd he on', ' oset g', 'Te  ugsle go', 'dgthhelep rugn', 'u  oglthe e', 'd rug e hsep', 'Thergdo o p ', 'drT nthest', 'dote nhe let', ' slpe n rgth', 'rug oThesp he o', 'dogThhglept n', 'ghe nslp Te', 'T tet on dg ug', ' T seprg ', 'on he h sl g ', 'heo gon tep', 'lpeog ong h', 'Teog sptu ', 'doTehe se n ru', 'Thd stnruthe', 'ptog te gh n', 'dog lept enrue', 'Thehedgrg', 'r e o dsett', 'dog Teo r th', 'slet  thrun', 'dog soThe ru', 'lpdotenrug he', 'h o lpon te', 'h uthen og lt', 'Thslpt on d ge', 'h olth n', 'g gT h on slpt', 'ten slptThe dg g', 'heong rughlet', 'Te tth do rug', 'the dog slet he rn', 'Thdohg  slt', 'th The duset', 'slep gthe on', 'nest g  he', 'd n lp th rug', 'egoT r he', 'n slpt  rugdo', 'n Te ep th gru', 'e the dgrset', 'the udg Tp', 'e ru theoe on', 'hdog og sltthe', 'h sleptog e g', 'rg dgthsept', 'o rslpt he e do', 'e ugogon ee', 'ogg Tslpt o th', 'hn le  og', 'T gr the et', 'rg Ththe onsept', 'oThe  osleug', 'Th ot dog', 'ru d elp', 'o T on seg', 'letthdog ug', 'eThe   ospt', 'Trug ost dgth', 'rg g slp hThe n', 'ru Tlpt odo he', ' sp   ', 'septogon  t', 'ru gthesept The', 'ugd onespThe', 'n sp e dog', 'eserug do  n', 'the dog ept on T ug', 'thdsleptrug onhe', 'h h g sle on', 'ept rg odoghehe', 'ono eltTu', 'e odopt u', 'rute odogThslp', 'd n thlept rue', 'Tslt dgonth g', 'rug dg slepont', 'the ergn d sept', 'og onThehe slp', 't Thdg  t', 'ug slp Te ond', 'ontese gdog Te', ' og h lp Te rg', 'hetnTedo', 'dgn T therug lt', 'T lpt  ug n', 'ug honspd', 'tog o hsp', 'dog o sep tThru', 'hn e d tr', 'rug ogheoepte', 'n T te do sl', 'o e spr do e', 'onThe sept h o rug', 'e o t sepu on', 'doug sep thTe', 'on gth slet rug', ' h lthdrg', 'onTh ogglphe', 'gTehe rgslp ', 'the rugnep e', 'o dolet The rg', 't doTeorugt', 'Tergo og he s', 'rug the lp on', 'Te e og n g p', 'p g onerg ', 'thel T go', 'lt therughedog', 'donglt e he', 'ug e on', 'doeoug sp', 'Te r dog  he', 'he on h sletog g', 'gone u ette', 'nTe th dog lep g', 'o on slpt eh r', 'heolt the udo', 'thdoglep The r', ' teloThd', 'lon d th', ' tn ethrg', 'tn lptogu The', 'Tonlepthe gdog', 'n og Tse te', 'u p  og Te', ' lo tergon', 'ne hrug', 'The nslept d eg', 'do th slet en', 'd spt rugn The', 'rugog  sle', 'The sptogrg', 'r Th  ep', 'Th g ono slep', 'e t ogo ept', 'gT d sletn ', 'h gn e gt', 'slept dg rg onThe', 'do  pug', 'Thrugogn s', 'Toug n e lept', 'n e  st te', 'rhe ept ', 'teThdogt gn', 'dogspo rgTh', 'slpt oon The u', 'utnoTe slept', 'l nThdog ughe', 'h gept g oThe', 'pt ru h te n', 'e net og', 'dslpt gTe te', 'p du ho ', ' thlegg on', 'rgth ep n h og', 'rg doge e sp', 'Teleptothe rug o', 'slpnT dor e', 'Th  t sedogr', 'rTe pt  ', 'ruepo T g', 'g pt te', 'let on egru h', ' te slept', 'ugonept The dog', 'g hlt n do th', 'epe h drugon', 'h so the dogg', 'Theh dogrug ', 'o he do he rulet', 'set   r', 'dgt Thrg ', 'r thespt dogT', 'esleptdgonterug', 'th on l', 't rdogohe T', 'he dog  he et', 'houhe dg slept', 'dgg te nset', 't dgTh ', 'The teg o sepg', 'ug  pttghe', 'lp nogt T', 'eudogse the', 'doghongsept ', 'Te dg r thepon', 'he ept h g', 'slerg teo', 'e e rud', 'T slp  ogr the', 'on hedgru tth', 'p  rg Tn', 'he et Thon', ' donh ept', 'ltugog he Te', 'oogru slte h', 'n te lepto r', 'nth slet deug', 'dog nslpt e g', 'slep ogte e o rug', 'og Theletrg th', 'u Thheslpt ', 'epto  teT ', 'h te ogsep r', 'st dg Thente g', 'sl g Teohr', 'dgslpTe e g', 'o sep hon eru', 'e leph og ', 'p o The th ru', 'slptT tongu', ' slptho Teug', 't lt e do rg on', 'ogthe uonhe sl', 'r Teslp ondothe', 'rgt gn leptT', 'ht l ruog', 'te do ', 'dor Thoh sl', 'Telo rugnthe', 'sptuTheodo te', 'the Theg lpt n og', 'te sephe d rgn', 'ulepd T the o', 'slet heog rg', 'rg oon pthee', 'o  dog elp', 'h d on thelp', 'og n ru T th', 'ug dt nthTe', 'hletru g on The', 'rue gTe l', 'hrse eon d', 'r o sepon te', 'ol Th e rugog', 'dg Thonthept u', 't d  The slept ug', ' oget rug Tet', 'ertdose o', 'Tdoggoeslpt', 'ose  dgg ', 'Te oth n sletrg', 'g h otheslet', 'se Te dog rug th o', 'rone ltThe', ' slep oteug', 'dgr heheonsl', 'g o dopthThe', 'dgrug n elet h', 'thopt ggh', 'ontheogug', 'ro Tetn slept', 'dog lep u Th th', 'lp  ug  on', 'terlt g o', 'do e  slep te on', 'Te h ug tdo', 'ep ugd  theh', 'dThg hot', 'o slep onte', 'r  slep h The', ' then eg slp', ' ltT oheog', 'Tehe ogose', 'n T dotelt', 'tT o sltru', 'onspthe dogte u', 'le dgon rugtheTe', ' rgl heog', 'doseptTe r ', 'e t hudon', 'septndog rThe', 'ug dTe slepn', 'ru thoslep', 'ug og   the sl', 'r og the ', 'esept ong te og', 'ug e thpt', 'o rug s Tn', 'he g T slog ', 'onTe ug dge e', 'e sptn rue', 'hts ondog', ' on dg Teslpte', 'gsptTn ho', '  gseThe d', 'o s The theor', 'heogh n rpt', 'Theon edup', 'oTe theepd', 'gn heTh sept', 'T epo e rg', 'ndg The tsl rug', 'Th r lett n', 'Then rg the dot', 'lp Te d ru o', 'eTheuog p n', 'd thegonle', 'Te onep o ', 'dglep  Thonh', 'donrug T  sp', 'h ltn ', 'etseptrug n', 'The ond t', 'th lp deorg', 'nhrg gsp', 'he dgtheslpt', 'he h lptrug', 'lp te n  dog', 'Th etdog u o', 'ted on gh', 'ru slpo he he', 'u Th pt dog', 'let  o edg', 'leg on ug h', ' t  g nslp', 'ug hpt dog e n', 'ugThe tsleptdoon', 'ruep doet', 'e dg rg n the lep', 'rug T thdo lept', 'oe Te leog ug', 'he ston dgTh', 'ug  heedg', 'leptn uge dg', 'ug tes T', ' slett u onTh', 'letTe ot ugo', 'rheheslp dogon', 'slettn ogg he', 'run let oghe ', 'T  set og', 'sletn Tedo the', 'ru do  the p', 'rug h slptonTh do', 'n g spu het', 'ep Theg o ruthe', 'dog usleto Th e', 'Tedogseou h', 'o dghe epthe u', 'heto e rug ', 'set thu do Th', 'oerg oe let', 'g  dgon slt ', 'he rg letog on', 'thnThesleptgog', 'h g l te o rg', 'Th r n ept', 'se d heruge', 'd Theslettr', 'slpte eg or', 'heone rThe g', 'gntTe', 'n ugoghlpte', 'T dogu lept th', 'h gsepdn ', 'rslet The te og o', 'lp dg ergh', 'do  T lp eu', 'he opt u h do', 'e e u n pto', 'slp r  n Th', 'do heset The rg', 'n slpu dghte', 'rtee ogsle', 'ud h onlept th', 'on tedo Th sep', 'te Teud', 'dogTe ug e l', 'the spt g  onh', 'T tholeptug dog', 'helept dog h ', 'let ug hoohe', ' ugslh teon', 'on  u he T', 'eThslergog n', 'rug T etonhe', 'oheun The', ' lt  te', 'o  dog Th eslet', 'd lpo ruh', 'dog n uhe hlp', 'Thr lept neog', 'Th hodgle u', 'dog rgslp  h', 'Then slt doeg', 'ept Te te rug dog', 'rgdog ep on heT', 'the ug sp dog on', 'heTe lpt rug g on', 'd ug e set  on', 'nslept heTh', 'Thth gg set', 'o lp e te o', 'r  he the set og', ' lon The o', 'nh eptdTe u', 'o hTh rglet', 'h he o do p', 'hestru ogth on', 'slptg o tgT', 'Th o t org he', 'thu on g let', 'etheoTdg', 'e et o', 'og rug ept   th', 'dg slept oTh ug', 'The lepg ru n', 'Te dslep rug  n', 'ospt Te', 'onthslept dog rg', 'T spdogug th', ' uog te osle', 'n rgoslp th', 'the do ulpe', '  ugon h th', 'h dog  stt', 'dog slpt eth r', 'doonslee ru', '  go g lt', 'og te ug etTh', 'slpt dn th Te g', 'h te sl rn', 'slepthee ug og on', 'ue d he slpt ', 'he Th lepru', 'The g n sptd', 'rohehe lt', ' rugh Te ept ', 'lep dg Teon  g', 'g  hslpt the ru', 'ept e u nd', 'hohes g ug', 'dog th p eu', 'thengru', 'u Te dg sl the', 'The ugte olepon', 'ru h sle dogeon', 'depTe ute n', 'nslept doghug th', 'te rug e ono', 'ug  eslpdgte', 'onlpdog ugh', 'on he sl d r', 'dogru t slept n', 'lt he r do', 'osepte gn', 'Te onr sh dog', 'Thespt ru ', 'Th ru ospe', 'he rg sleteog on', 'onlpt rugthedoTe', 'th n T o stu', ' thnusepthe', ' e n hpug', 'Theugeptdn h', 'The ruleptned', 'theet o rug d Te', 'Teslepnhug', 're odotth', ' sn g he T', 'set d The h r', 'edo terug lp', 'n gdogth sptTh', 'heler o thn', '  ug lp og', 'Thedltrughon', 'he ose  rthe', 'he g Te ugn', 'he heeto  ', 'Te dg ug t sp', 'Theslep doge ugon', 'o Tesp ontherug', 'gThe hrug s o', 'Te eherogon', 'onseptdTherth', 'he ep hu  do', 'Te dgslt o ', 'dlegnhe', 'slpt  d T  rg', 'ruge  ote ', 'e he dogl ', 'le rug T  dote', 'lep og T on h rg', 'ru o spt  te', ' stth g onrug', 'ru oh pt h', 'rg st doeho', 'e gs o hdg', 'on lept h g The o', 'e ougdogh Te', 'o theThe nsleptrg', 'dog leptTh tonru', 'nrustogheh', 'ugo he T et', 'etn hedogru', 'The gon he t g', 'onsleug e do ', 'ughe pt o ho', 'u he dogonet ', ' rupth', 'o ru h slpt e', 'o s the dog r', 'sehog rg o', 'The rug n teog', 'th gToolpt', 'T   on let', 'te eonsepdru', 'udogTe epte', 'The lpogothu', 'Thestru teon', 'Th theon l rug', ' h grg slet', 'helep og Te on', 'on th dgThlg', 'dgThg leth ', 'dge Tegh on', ' slept do  e', 'o The thulpt ', 'ruog  sle  t', 't onru ee dog', 'sltThe on ruo he', 'd n tehe su', 'set rgonthe', 'n rugTete o', 'he he uon spdo', 'slet rg he th', 'on  et u ', ' glpto Trug', 'heheg lp dog ', 'sptg h hedog o', 'dgon  u p h', 'Thehe on strg', 'hug lt thedgon', 'slep he th rg', 'let u Thdoge ', ' pg To g', 'dg h slet h rg', 't  ruog teTe', 'rg Te ogon lep', 'og  oherg', 'rst eon', 'dg le  Te th', 'ruset dnTe', 'Teon ptthe u do', 'thelpt rgdo onT', 'Th o rug dgsept', 'he oog teseprg', 'teleptughe dg o', 'nTeru d  p', ' drgosle Te', 'n et rug he t ', 'te d Tht rg', 'setThg', 'Tugese oog', ' o ge ugThe', 'rg n the d le', 'septgog oe Te', 'n th slep T rud', 'the g rtThe on', 'Theudogte on st', ' let rug e o', 'ptrdog o', 'nug do lpe te', 'no slet ru  the', 'l thdg run', 'erug Th ogte ', 'lr Tho do', 'eruedg lpn', 'u do eon h slept', 'hd p the u', 'dglp th h', 'onth dog slept  h', 'ug ogst e onh', ' Thdo ept thrg', 'r oo t lpt', 'oeThet  n', 'ogTh n seth', 'thelpt o e ', 'dgte slep Th on g', 'spt dgoruhe Th', 'Thth rg t dog', 'h n teu', 'ug onhh ept d', 'dghesept o erg', 'the ergle ono', 'slt eug onhdg', 'ghhe o ', 'Te do pt r  on', 'u Theh tdg o', 'theslpt oog h g', 'on ept do rg The', 'g o sep the dogThe', 'on g hste', ' te esl og', 'ptn ete og r', 'tlpter o', 'dorug he ntest', 'lptdo h ', 'dgT  rug the e', 'hdsonTu', 'doT te p rg', 'sleprg n hd', 'lpt t hrug d o', 'sltugthe dog nTh', 'sleptg og Te te', 'tth g Tn', 'ughslptdg o he', 'Teo lept  g ', 'l rdogth Te', 'dThtesleo', 'oThrugdep', 'hele  do Theug', ' dog ugh p', 'sle ogT un e', 'h ogT  p ', 'on spt d hh ru', 'dog thset rug ', 'e  dg seponr', 'herugn th et dog', 'lete u n heo', 'sle tenThe g', 'ruog o lTe e', 'e slt theo', 'tdug o slt The', 'hn the gslepto', 'the sleptondog', 'ugslt do thT', 'esep udog t', 'lptdgnruTe', 'th optr eog', 'sleptteTn  ', 'de rg Thep n', 'unst hee', ' heoo the slet', 'The onrgept ho', 'dg Teeptth ', 'letou', 'lpndghe eug', 'hosleptdogh ru', 'g n tesletrg T', 'The doo rg slept', ' do heo u e', 'e do n set rug The', 'Thouge te', 'heg onrg t', 'u e thelpdo', 'ugon he sletd', 'ohr Thept', 'udog hestthe on', 'theo sptgho', 'o rg dg sphe e', 'doguohe e', 'truspt dgh n', 'slpt d ugh  ', 'nTh sptte g', 'The dog te slepn', 'nsletthdg rug T', 'noTth s', 'oh on r ept ', 'gn  dehe', 'dogto rugT h', 'on do eThe', 'osThedote ug', 't dn gTh lep', 'Thesdg on h u', 'n Th eslpt ru og', 'o on h slt theru', 'on de elept', 'e setdo on ', 'te onTh l uo', 'rgThdogthe set o', 'gth l nrg h', 'dpt te ugTh', 'te rg d sep nT', 'hlepthedog', 'Thdog ru o hset', 'o sleptth ru g', 'hetheon sleprgg', 'n h e hgrug', 'dg he slet ou', 'Te rug heo sptn', 'u d eseonT', 'slet h o T', 'he ldnugThe', 'oru he ogThept', 'e dg ru h slept', 'e T  g set', 'hdronth slp', 'ghonu l', 'thug let odog The', 'dg The heorugept', 'p ug o th og', 'Th onh g leptdog', 'od he  ', 'Thh ondgsp', 'gstte n g Th', 'gdgTe l t', 'The  u onhe slp', 'ther gsto', 'on sep dg rg  he', 'Ten he rugslepdo', 'theog he lt o', 'on lp The t ru d', 'on r Th sletth o', 'dh  Thsptn', 'eg seton rugt', 'le hnrug g t', 'doletheTe', 't orug slephe n', 'ru ndog tTele', 'rughletog o', 'ptte o Thedo', 'oe lptog te', 'd Thelehug n', 'dgoTete rg', ' do slptheh u', 'ruonep Th', ' ugsept d', 'lept eondog th ru', 'g sle heteg', 'oo slte t ', 'sldghenhe', 'tu Thte o', 'se nug the do', 'sep Teru o he', 'ontThe rg sp dog', 'tlp Th rgn', 'hetheptn u', 'sleponhe rugt d', 'spt te ghrug', 'Tng hlp', 'e n lptdog th u', 'ther sl o T o', 'sltoh dog r', 'Theugo slep h on', 'the dog r set he n', 'h let h dgug', 'Tethep on do rg', 'og heset  rg', 'teu slpt o T n', 't oonh ept ru', 'th slpt rg g n', 'ugth s e g n', 'e og u o th sept', 'e doon sergTh', 'o re hdog lept', 'og  rhe te', 'ept Teugnhe d', 'ru he slph o dog', 'glpo g Teth', 'teog Te', 'drug thon slepthe', 'h un et hdog', 'Te p doug th', '  le d', 'o he ru slep ho', 'slptog  nrug', 'eondgtheleug', 'uhetednept', 'The og slt', 'orgn st te ', 'rug The don he slt', 'T rgdg slthe o', 'e u o leptthn', 'd Teonrulept', 'slp   g ne', 'g sep nhe ', 'epteo eo rg', 'sept g o The', 'Theheog rglepto', 'ee ugp n dg', 'e donsru', 'te nletrg he og', 'lettegTerugo', 'The ru onlt d t', 'sep ru o ho the', 'h ug dg eo', 'dspo teTh', 'en set gu', 'rte et nTedo', 'Thetgo tru', 'epte rug on', 'rug se the  h', 'hoep rg o', 'dog slep Te heng', 'rg o h slep', 'pthe  do', 'nrg dtset T', 'th gnThed lep', 'th ogl onTe rg', ' he rg d e sep', 'dog e on rug sept', 'slptru hehe on', 'Thhe run slt ', 'Todogug tesl', 'h u nhspt', 'set Th go ruh', 'et t og g o e', 'rug led th  he', 'slet  n tThe ug', 'o terug sthdog', 'teT osldgrug', 'slpho org t', 'g tdg onep e', 'd ouThe  spt', 'rug hee etdgo', 'Tdorg h p n', 'spt Tndo tru', 'tdog e  sle n', 'dghsp ugTheon', 'n do he sp eru', 'ru stone gt', 'l ehe onor', 'on Thrg elp dog', 'h  rseptthe', 'h g og onThe sle', 'rgdog e  ', 'septrggheone', 'he spdgru onth', 'on he rug set d', 'p on dg theug e', 't one rg', ' dgstThe t u', 'rThsept te o g', '  oglpt rg', 'epteodou he', 'og h sep h ug', 'dogslpTh th on ug', 'eg he d ', 'h g pt oThe g', 'gThe etontr', 'orug hn sp Te', 'do ru Te othslp', 'o lp d thheu', 'tdog osh', ' slet rdg he', 'thedo on u Thst', 't rg ogo Tes', 'ru set one gh', 'leptdo The the g', 'g he ee n ', ' dogthe nlep rg', 'e Th ogon ept ru', 'ed heugsle', 'oonrl he e', 'te dgen gt', 'ltT d h rug', 'ogruo septh he', 'dTh lept ont rug', 'hedg ru leptte', 'rgte sleptodg', 'dgslep Teug', 'rug he slpt', 'slet gheonr he', 'o let h rug oh', 'o rugset th og', ' lp ug T o t', 't sleptn ', 'T dgetnruh', 'rthsp og Te', 'rug o t gleTh', 'rh sept n dog he', 'd lpthru ', 'lep on T dg', 't spTh o rg o', 'The hug leptog n', 'slep h toog r', 'h d th spt ru', 'euthet nd', 'ug t n dogTele', 'lu  thdo', 'dgl ug th eon', 'ot  u sleo', 'eTh r odoslp', 'g onlepte T u', 'teog onul', 'theh dorg sept', 'n u ptThogthe', ' sp Te dog ', 'sethe do te ', 'hehe rugdog nlept', 'rugheog Tholt', 'olt Te onrg he', 'n g p T  r', 'n ru he dog ephe', 'do ghetp', 'n doghet te', 'on og rg Te septthe', 'edo  slp Th ', 'g Teslpthe', 'glp the o e', 'g he the o set', 'oheslp uge d', 'ep o theg', 'on T pt ', 'og h  Trle', 'ug th e lt o', 'ptdguhe on', 'h d oept r he', ' g seh', 'rg do onthe slpt T', 'te  olep do', 'on te slep  ug d', 'esletnd h u', 'let  rg the h', 'u on l dTet', 'o hthe slet', 'slete on dgthu', 'o  udogehe', '  The gte sp', 'o dogheruthelep', 'lp nhe e do g', 'o th slo', 'udogeon hee', 'e ptdogon hr', 'teoTedr', 'Teru n tgthe', 'he ug o dg h', 'h dognlt', 'eslpg e rug', 'dg h n h ruslpt', 'he dog rsen', 'h on t ug l dog', 'on the se rudg he', 'rt Te o doslpt', 'upt thT', 'p ndogeerug', 'e n lehg', 'on Teg og the lept', 'Tstonh rug', 'do o slheeu', 'ep rutheT dogo', 'hhslet dog', 'thendogTerug spt', 'eo slepnth', ' Te rgslepodog', 'onspt t e g', ' dog ep ug The', 'n rute dog Tesl', 'dogpgT on e', 'dolethe onTheru', 'og the  sep', 'sept te Th u do', 'rug dognTh lept', 'Terletotheo', 'Thoogset rgte', 'ugtenTesetdog', 'h u slepthe o', 'e on e letoru', 'hr do set ', 'Te ogthug  l', 'let on he gte ', 'eptte Tegdog n', 'h lp u oThg', 'the  Tspt ', 'og h nsphe r', 'et og onu ', 'ug the o ne', ' s gThe do', 'e n g dg', 'he lp   o', ' u Thsept nthe', 'd rg sepnhe ', 'Tesp o rug g', 'ug ept d tT', 'sp dgon uh e', 'n g l the Th', 'ele the rg doon', 'hru slpoh n', 'dogte Thontru', 'drg lept onte', 'dg seo t ', 'nT ugthpt dg', 'lt gu h o The', 'on d e rugp', 'ogsp on rug he', 'T nt s ogru', 'the d sTr', 'sote  dgT', 'rgo let Te', 'sletThendoug', 'The the dpn g', 'Thonhe  slet o', 'nrug tdgt h', 'Th ugtho', 'ogrgspt h ', 'hrg e he oo', 'st  g eThedo', 'eru thole', 'rug slep ge e n', 'ugo oThe te slpt', 'n osl he', ' he gru olept', 'h  trg', 'Th do  ep ', 'he  lptdogthe ', 'rug odgsptThe', 'ru ehe sep', 'slep ruh ono e', 'lptTon  rug d', 'r donh le Te', 'lpt tdhe', 'r Th te  st o', 'sle hdg the n rg', 'eslp ug o th', 'te sletoheg', 'o r  lt Th th', 'nelp Thdo', 'onT rug  ptd', 'th ogon he s rug', 'ghenslpTrg', 'on d ruslth Te', 'o ltThe g hon', 'ugdeptTheon', 'dogonsept h Thru', 'e dgu sle nhe', 'he rug epdheo', ' dg gn the lt', 't  rutndo', 'spug dgontheTe', 'doglptug oh Th', 'slpt oo e', 'ugst e do Tho', 'setne ugedog', 'o g dgpthe h', ' thlpg nog', ' slp og  thehe', 'e  sl do', 'dg hsep o u', 'spt do te he ', 'n sept rgtdgT', 'dgh r hespt o', 'u  dogte ee', ' edog lep rg', 'n rug dgThe lept', 'd lpn e ru', 'oTheon thelpt', 'uthe The  dt', 'heslpr oTe', 'Teeptnt dgru', 'uo onthslepT', 'ugog lptoteT', 'tege dg n l', 'te dgru ee', 'lpougthon h', 'Th p dg hrg', 'Thog et ug th o', 'pthe Te', 'erugo tet', 'rug hseptdg teo', 'thrh npg', 'hegthrug', 'o the dog t T', 'the hugon do ', 'e p o rug', 'dorugle hehn', 'ro ehonept', 'o le  te r', 'rg hsept  on', 'sp dg egt', 'Te rg slp h o', 'ed p th on', 'r gon e slepTh', ' g Tuh lep', 'o h et gdoe', 'rudgon h slet h', 'The gon dg he sle', 'g n thTh leptg', 'Thn lptrug the', 'ogon sepheThe rg', 'nt ru Tedg l', 'th rg deptoThe', 'doslept Thegte ', 'Tetedrlon', 'te dgn h le ru', 'o t sltg dog T', 'osep he uthe', 'hstdog', 'dgug sept th o ', 'ru ot  e', 'The se h gog o', 'h o etrgh dg', 'o doglep u hh', 'h let thed or', 'Teeptru on g', 'ho setTheu', 'sepruTeheo', 'h ousepheg', 'thTep do ', 'og septn Teth r', 'heTesprg d o', 'therg hd o s', 'h th lpon o g', 'slTe thn', 'r sptnThe', 'the let  rug dog', 'e dr n h le', ' s rg th', 'let h h d r', 'lp Thruggothe', 'o e le on eg', 'pdo on Thrugte', 'the slug dhe', 'g o he The sl on', 'og therThe lep', 'ors h te ', 'hug gstte', 'thesptn og ', 'leoTg ohe', ' dog eept ', 'l eog  rug he', 'he ogru ept', 'hslteon u', ' slptd rte ', 'etuge he do', ' Thsetdo r', 'dosept rugTethe', 'dogth n sle T r', 'te ndo eTe', 'theh st  on ug', 'd he pothe rug', ' sl odog t Th', 'lptdg he r', 't Te ruept dg', 'eh slon dg r', 'lep rnte dogh', 'og rgt onh', 'goneg he', 'dslp teon rg', 'uhslt g', 'do t spt on ue', 'onhu oh slpt', 'Tset hru o', 'o lere do', 'g sletoruThe', 'Tesee on', 'o slepe he ', 'o lptthe du h', 'r gth sepon Th', 'heet h onr g', 'r slet n he', 'onslptrg oThehe', 'Te rg  og pt', '  d n hee', 'slet he g ru o ', 'thn ept hdg g', 'ept r  n', 'herughendg', ' hep og onrg', 'he thelepoun', 'd he e slpt rug', 'n heu Thg et', 'dg lpt Theeonr', 'g stu n teThe', 'g g slth t', 't rug n sle Tedog', 'sep ogheru', 'rugdo sleptTh ', 'Te dgugsphe', 'or let t n h', 'po  thg', 'dogTe e ', 'on sTee', 'Th oep rg ', 'slptr og nte The', 'Te ru n the let', 'eg  The lepu', 'n T og ge the', '  ru Th dog t', 'slt rugT  te', 'heslpt org dog', 'Tee epn ', 'ptdog heug', ' hdg sltte u', 'Th doguept the', 'rugThe sletoo', 'tegn ruTe', 'et theug n d', 'dog lp on t rg', 'o slonh th ug', 'depr o  ', 'Thedg  th s', 'Th tslepdg g n', 'ept ru h o the', 'heognglept he', 'dorg tel he', 'letthe on g', 'n te r oghe', 'e let g oe rg', 'n sept he g uhe', 'sleto Then hr', 'dogthsep rug The n', 'he dg letn The r', 'Theh r etdo on', 'odog  r lp', 'he slpt nugedg', 'he se dguthe', 'The  ept rt', 'rug  do tT on', 'slet ruThthe dg', 'nTe rg', 'one rug lept dog the', 'the oTe slpt on', 'leh og oT ug', 'h n o telept', ' ogThng se', 'std teTeo r', 'g do thTh et o', 'Te lpt rhe d', 'dg sle rg ot Te', 'heg le  ndg', 'The uge lp n g', 'oTh lp g ', 'Trge dogslt on', 'T d utheston', 'T  h dogslp', 'hedg eslept rg n', 'thtru nTh', 'te dT lept', 'u hedg leon', 'n Tdg s e g', 'dospt e ug', ' thltTe rug dog', 'hedg n e rl', 'e  se d', 'de he  teon', 'g d le o  T', 'othog  et r', 'Thed on slt the g', 'et g ugheth o', 'o u th le Te on', 'slet the ondo ug', 'dog ltu e', '  e eth on', 'Trugsletnth g', 'Te slptdgon ', 'oepto hethe', 'hes on th  g', 't slep herg ndog', 'Te o se e ', 'l rth', 'o g slher', 'thsepghe ogo', 'e  he rgd ', 'n Te  ugeog', 'hetooh ug', 'te dpt onThe ', 'rugThe g sept', 'dg n ugTe e slept', 'thedo n lept u Th', 'rugonlepth do', 'r Tog sonte', ' lp te ong', 'Thele  dg ', 'h sep n g he dog', 't spheon', 'o theept   rg', 'dog hlptoug', 'g Thrghe lp', 'spor  hhe', 'he g sep rgh o', 't n h Trugdog', 'gdoge he ep', ' e dop ru', 'n guhe ep', 'Th lept doo the g', 'Tth n rg g sept', 'og sept th Te g', 'dog  sptrug h', 'dog lTh he ug', 'onhe slptu d', 'Th  hru  sle', 'pt d he ton', 'Te dog teptu n', 'd ept T he u', 'o g ru stte he', 'o sle The ughe n', 'th senu dogThe', 'ug leptThe n tedg', ' ugThethe slpt', 'o osethe u', 'th ruglpt dgT o', 'etteTedog ', 'dg eletthe ug', 'Th doh onse rg', 'ndgulep h The', 'Tlpt og e ru on', 'te gsep ogn', 'he tegnrgep', 'r leT nthe dg', 'slt The o rdg the', 'edo rug ne slept', 'ogslptte T u', 'orp  h', ' on dogslpt Te g', 'eptrug dg Tehe', 'onthslepe rdg', 'n leptdogeeug', 'Thesle o ', 'Tndohe ru', 'og setruT', 'rg thdgptTon', 'dogru Theeptt', 'espg n hdg', 'droe', 'he ept hug dg', 'n   g lee', ' o etuog', 'oT tde', 'h e  do  r', 'te T ogle', 'Theug ogtonp', ' e sep he', 't o doghee ru', 'Th seponh drug', 'dg Thee rglep ', 'Tht dglep', 'leptug hdTe', 'septn dg e g', 'r slethe o', 'ugdogletTheh', 'ont rg  dg t', 'Th rug  eos', 'onhslep g doge', 'dogTe ug tn lp', ' oghen slp he', 'hon septTheg r', 'r  lepto', 'on rug og hespt Th', 'h hrugslpo', 'te sleptdg rugh', 'u  he sog', 'onog eptug h te', 'hed seprugto', 'hd sp h on', 'sletgnt og ', 'nt  slp T d', 'The ot rug e', 'sptonth g T ug', 't nrgTheslp dog', 'do Thrg slpton', 'lptg edog e', 'nth he gru lept', 'og Thlet rugt', 'he ru slept dog h', 'Theog let thenr', ' rugtheoo sept', 'slt  rg h h n', 'u n leog', 'Tlptheondog', 'e u  ', ' t Th ltug o', 'lept  Te o d t', 'The d teug on lpt', 'thedo T glptn', 'u hedgpt e', 'd olep  ug', ' l o he', 'dogonst T h', 'estg  dg th', 'tdog e u o', 'e hegdoslp', 'run eptTe e do', 'Th old terg', 'on eptrgd ', 'e o tdT', ' leph the ', 'he g ru on pt', 'Truslt the oo', 'o ugsleth n', 'Tudo ept ho', 'Tesug thdog', 'ru slp dog Th he', 'setdg T n te ug', 'Teserugdgtheon', 'glpt h te', 'ng slep e h', 'lete gon  t', 'r theonThesept g', 'og uh onhslept', ' let te nr', 'ondg p tr he', 'edogg otespt', 'ug  dog settheTh', 'lp o g Tohe', 'g h seT dog', 'e the seponrg', 'g rTee o t', 'heer oept', 'slt  don e T', 'onhpdg th', ' oThe tsleptrug', 'he dogonThse ug', 'To o slept rug', 'u o sle o The', 's t ugdo', 'the Thedogsletug o', 'te rugh  sltdo', 'g  septn oghe', 'he g og le', 'td oneTer', 'g he on  rug e', 'n r lepttheTe og', 'ndgthe l h r', 'sle g h Thdog n', ' ruog n h e', 'e theon ru', 'sp tTog onrug', 'rugslet dg eth n', 'h he u lep dg', 'eot theon', 'nsept e dg thrg', 'odghetTh', 'og h Th septg', ' letru the  The', 'T on ulep og', 'e ruon g the et', 'rugT on lephe', ' eog rglept te', 'lpthdh  ug', 'The tg ruset', 'tsleptdo Th ', 'Te osletu', 'slet  tng rg', 'og he l on thrg', 'Thelt e dorug', 'epe ogn ugth', 'Terugleto tg', 'sp on dorugethe', 'he do  elptug', 'trgogslpthe', 'don te  Thset', 'ugsleth', 'thogTe s g', 'u g ete on set', 'to slpt', 'slgthheon rug', 'ug he lptgh', 'ruelepte', 'd on r tespt Th', 'thThgrug o le', ' The dten ru', 'dg on lepthe ru', 'he n rg g le te', 'he do rg  n slep', 'hr lthe g', 'ptTh he on g ug', 'ogTehenru slet', 'o hrugn Teep', 'rug pt o heheg', 'Thslept heo', 'sepruTe tho', 'gone thru le', 'egtle u n', ' glept ru eo', 'dg eptonheerg', 'g o te g lpt', 'oog lT tru', 'g etTeon ted', 'he spt n rh', ' oT dhe l', 'ru  dote  on', 'Thethe letondoug', 'Thd oug e', 'nru t edog the', 'rug sp gTe o', 'slept dog The', 'ug heloth o', 'rgen h slpt ', 'g dos on Te', 'e letdogn ru', 'o Tg he', ' uthTst g', 'th dgslept Thrugo', 'hgru hensle', 'ug e og h p', 'u hehe p do', 'T u et dog onthe', 'hu o Th d', 'he  th ru sleptdg', 'theug eto dogT', ' seh  rug', 'setog onThe ug e', 'h ltgon  Th', 'og ru he on slp he', 'he ptrg og', 'glt Te te o ', 'he eptth ug dg', 'o tug slept e', 'og g h on seh', 'ruleho hdog', 'gdg o see', 'sept nru Teog', 'rt dog oshe', ' g se teT', ' dogle nth', 'The g  lep', 'slp n rthTdog', 'lpe ru e', 'Theptt ug  n', 'Th onuet hdog', 'e on rg lt oghe', 'erug ', 'oeptt  heg', ' h osep he ', 'The onthe ro', 'slptteu on o The', 'r ept hedo t', 'o th slprug oh', 'l ooterug', 'gthsp', 'hergdo st t', 'oTh dghergse', 'rug sloTheh', 'o g e Theer', ' lep g ooth', 'do the lepto ruh', 'o r ept dog he he', 'on u slt dotheh', 'o sept trugn Th', 'ptrugeTog', 'gd  Thlt', 'runtesetThe d', 'rog he te nept', 'egn sp', 'Te spon h', 'ed on lp the ru', 'l he n heogr', 'rg onTheth lpt', 'T teugdognslpt', 'ru sle  n e', 'Te g heonle g', 'sete onTe rg', 'ogonu he The', 'the nlTh o r', 'e do The g', 'The the go ep og', 'o e hsptrug', 'rug heeptTho', 'herdog  slept', 'o he s ugt', 'he slept te ug dg', 'le e o ong t', 'Teo onet erug', 'n eruTdogslept', 'g T slpdot on', 'ruslp og thon ', 'the leT gn g', ' edot te g', 'gTeh et ', 'orsep the T', 'rugsltt e', 'the pT rg  dog', ' oo slt g', 'gh g ', 'he ogrh', 'truggThslp', 'edo stTeug', 'n d t rug slTh', 'h onog te slp ug', 'th sepn dorug', 'th g ho ept dg', 'dog teT p n', 'lptThe r e og o', 'doprghth', 'ether oepto', 'rug te g sl Then', 't To ptdog', ' th g The slept', 'dgTe hle ', 'Teru lp d', 'n spt g he Th', ' sprug The te', 'g doehe on', 'Te nheug sled', 'h slet e o n ug', 'ogru pto', 'sethedon te', 'en osehe', 'stote rg', ' ugt ogthe The', 'gtThe le  d', 'odo pT the ru', 'gleph Te un', 'hn pt dog', 'T dg th slep rugn', 'espt o u Th', 'eTheon  ug', 'hdog pe', 'nuglet the h dg', 'rgst e hd n', 'dog onghe tlet', 'o ugh lepT', 'Teptg ru on', 'lep ru nThho', 'o n ru hlpt', ' slpt e hrg', ' Tergo lep', 'sltTeot u', 'he rgsleptdogTen', 'le The dtheon ru', 'onh g hslepru', 'te hesletdo n g', 'letThe oge rg', 'lpt e Ten ruo', 'odog  sept g h', 'hoo heg', 'do l  gon', 'doslep teg', 'th he g set ndo', 'The o e e og', 'thTe n slet ogr', 'lpte ruggth', 'rgn o e t', ' tslt g', 'g s T', 'th n u oghe ept', 'nsetr T g', 'e tedo o ru e', 'thsle o og eu', 'uggth nset', 'dg  etThe', 'lp dThr h', ' g s o the The', 'rug  set ', 'hdo rug hnt', 'g  rug sl', 'rg ponogte', 'on d e heug sle', 'hdogslt onrut', 'slt e hdo ru', 'le ugdog  Te', 'The do h rugonsle', 'dogon ep he', 'dgletruon theh', 'Ttsep ru n o', 'Thenlpdg hrg', 'epdhh r n', 'slep og hu', 'sletd oTe ru', 'Th onest ug', 'g t slptn uTe', 'rugh dglp he', 'h T sto ru', 'g o lpttheThe rug', 'n rept te e g', 'st rugonhe ', 'Tnthsletogrug', 'u T th let', 'the dogh g s ', 'sep h dog gte', 'et gonTe rh', 'orugeptThe', 'hrg nthespg', 'lt Th heon do ug', 'nh Tgset dog', 'Tedog ont p', 'heslep d rhe', 'g n gpttheTe', 'do te spru h', 'th ru on gehe', 'the g enTh', 'ru d hep n Te', 'uglept h og nhe', 'lptrug  Th nt', ' thtTh og ', 'u heslpt oTe', 'lprueh o', 'T og rlp t', 'sleptrun hegTe', 'hn dogsep ug', 'ese the rdg', 'ughe ote det', 'lep h he rg o', 'dogopT ', 'The dg se e', ' g spdogn te', 'rslptThee ', 'g n h e sp', 'one tedgsu', 'h te o ru sle', 'd slep  g', 'ugThe letd th o', 'the dogTton rug', 'h rg th o st', 'on t g r e', 'sp dog nthh g', 'e dg ugn', 'ron lept  he', 'Th doh o tug', 'uogsl he nh', 'rugn spttedg', 'et n dg ue', 'epheugn tog', 'dg s Trugh n', 'g  rughe', 'ohe usthe', 'Tdgnlptg', 'he dgrtespt', 'et rud n tThe', 'g lept dg hethe', ' dg  The slet', 'ghn sepT', 'dg h lpt  n u', 'h sptg nh ug', 'se  e ru te dg', 'r dog lepen the', 'en dot Tru', 'ug setonTog th', ' slet dgtT g', 'The ug d on sep the', 'n ugse dogtee', 'hTher epo', 'h on Te do sletru', 'hthe onle ', 'goTh th lept', 'Te ter slet dg', ' dogthe pt  r', 'Th onslept gg ', 'do nrug Tht sl', 'ut sptdo  h', 's rugt o', 'Thd et t o', 'on o  hlp', 'The og ltu te n', 'to onugtT', 'n h rulpthe', 'don Therugep t', 'o dsleptuh t', 'ru ep dg Ththe ', 'dogT l therg', 'hlon dog ug', 'slp r ohe e on', 'T ugoge slet', 'Then t dogg slept', 'ug n leptThe heog', 'o h he nspug', 'rug th o lpt he', 'heepon do ru', 'slpt Thondg the ru', 'nrug te slep oge', 'onelpt rugteg', 'o  dog lpt her', 'the slpt Th u do', 'ruThenlpt e dg', 'o  Te ontst', 'o th Teep', 'rug dgonheh', 'he ptdog rg  o', 'hthe og ru epton', 'npt T d t ', 'te do he slept rg', 'Thseog ', 'ogt  T', 'htet goog', 'dogslptug on e ', 'o sltT ru te o', 'heruh o lepdo', 'To septruog', 'ogslt rug thTon', 'he ug onth o', 'slt the rg do he', 'n rugdgT teslep', 'g  r Th n te', 'onr sp theTe g', ' slep dog ru th Th', 'r osledgThe', 'on dg rug he T e', 'th og o u T slet', 'Thontrug ge', 'nTelpt tedo ru', 'e u lpt hdoon', 'onept g hrug th', 'ru d  nlt', 'ru sept T h  ', 'Tholtther', ' tese ndru', 'th nTug dgsep', 'Th lgte', 'p dth   rg', 'heslto og ug e', 'e dorug o the slep', 'dogughe onsh', 'ug Te oge n e', 'rgdghete n le', ' sp hg o', 'to rghon le', 'o gsltthe', 't ugdgtehe', 'Tg on her set', 'e eptou', 'hrslto he', ' sep on te u', 'teleptu n', 'th o Theseptrgg', 'dgThr o ept the', 'dgen Trugs', 'o th  Theog e', 'u T hnsletdog', 'rulepon h', 'sT ugth', 'theugslt ng he', 'dg eperug the n', 'h ptndoghe', 'r lpt g', 'slt te gruonThe', 'pt dog hthe rg on', 'r dont ', 'r do leT  ', 'ndTerthe st', 'd r letee', 'The   ru dose', ' Th  odo th', 'Thgn lept ru', 'rug  ptTh thog', 'he rusept o ', 'he onsle hrugdg', 'on rudglpt h', 'onu hglep', 'he dog o lpug Th', 'ru sltte  g T', ' heog ethe ru', 'leptThe th ug ', 'rgenhe pdo', 'Theon lept rg og', 'th heonogse', 'thdog n Th ', 'rosepteTe', 'esponrg e og', 'eph gTen', 'lp d  ont g', 'er slp hon', 'hen go set he', 'nThe ust o th', 'sp rutee dog ', 'dogo heslet', 'n et gTthed', 'h e  dg sltr', 'rglp  Theg th', 'd teltrg he on', 'heThe dog uonset', 'u heondg sp he', 'thnsetrTe d', 'e he lpton ', 'th r dogsle', ' odept', 'he o uptTh o', 'dg org te', 'uoglptnteThe', 'tho hg se', 'h   sle th do', 'ughe then slept d', 'lhe on  dog', ' Tesetonher', 't dg Te rg setn', ' h se dog The u', ' tergn dg', 'on te slepghe g', 'Th slt  g h', 'spo h o', 'ron Te let ote', 'septdg e rh', 'dg ong Ttee', 'Trgoletth', ' tdoge sep ug', 'thruoosleptThe', ' on sp ee ru', 'the dg Thrglepton', 'n slprhg', ' rug o sTeth', 'st do e ru th', 'rug og nsThe te', 'lepthhe ug dogon', 'onTed eru', 'sheondgthrg', 'slept do Th eug o', 'ug o he th lpt', 'herugslet g  th', 'u dT t o slp', 'Te ru l tog', 'hslt onuhog', 'Thedgslp r ho', 'gdoTsept eon', 'gdg on es', 'ruept heondo T', 'Te dg r let', 'odohe  sptr', 'r  s do Te', 'T sept o he', 'n gslpt Th og', 'on u g stT h', 'du The lpe', ' gt etThe', 'Thelt gthrg ', 'ru sletdte', 'ugondog sphe', 'o eptteThdg rug', 'l  Te dothe', 'dolept rug h e', 'theo  lep rug Th', 'Th lep dr  th', 'sept nohug', 'ru  dolettheTh', 'n gh dg ese', 'sept Te hen dgr']\n"
          ],
          "name": "stdout"
        }
      ]
    },
    {
      "cell_type": "code",
      "metadata": {
        "colab": {
          "base_uri": "https://localhost:8080/"
        },
        "id": "BTNvbbV06cbz",
        "outputId": "432140b3-932b-4ddf-9f7d-86ed575928b1"
      },
      "source": [
        "print(valid)"
      ],
      "execution_count": null,
      "outputs": [
        {
          "output_type": "stream",
          "text": [
            "<torchtext.data.dataset.Dataset object at 0x7ff856255550>\n"
          ],
          "name": "stdout"
        }
      ]
    },
    {
      "cell_type": "code",
      "metadata": {
        "colab": {
          "base_uri": "https://localhost:8080/"
        },
        "id": "lPuVI3l577IT",
        "outputId": "3c98200e-4425-4e69-ee5a-04ce8d95c20a"
      },
      "source": [
        "# Import Library\n",
        "import random\n",
        "import torch, torchtext\n",
        "from torchtext import data \n",
        "\n",
        "# Manual Seed\n",
        "SEED = 43\n",
        "torch.manual_seed(SEED)"
      ],
      "execution_count": null,
      "outputs": [
        {
          "output_type": "execute_result",
          "data": {
            "text/plain": [
              "<torch._C.Generator at 0x7ff857ed8d08>"
            ]
          },
          "metadata": {
            "tags": []
          },
          "execution_count": 110
        }
      ]
    },
    {
      "cell_type": "code",
      "metadata": {
        "id": "KiundpI279cV"
      },
      "source": [
        "Tweet = data.Field(sequential = True, tokenize = 'spacy', batch_first =True, include_lengths=True)\n",
        "Label = data.LabelField(tokenize ='spacy', is_target=True, batch_first =True, sequential =False)"
      ],
      "execution_count": null,
      "outputs": []
    },
    {
      "cell_type": "code",
      "metadata": {
        "id": "GyhU4Lt479VM"
      },
      "source": [
        "fields = [('tweets', Tweet),('labels',Label)]"
      ],
      "execution_count": null,
      "outputs": []
    },
    {
      "cell_type": "code",
      "metadata": {
        "id": "TGiNMKrx79Nj"
      },
      "source": [
        "example = [data.Example.fromlist([new_train_tx,train_label], fields) for i in range(len(new_train_tx))] "
      ],
      "execution_count": null,
      "outputs": []
    },
    {
      "cell_type": "code",
      "metadata": {
        "id": "NCHFyFxe8yR0"
      },
      "source": [
        "twitterDataset = data.Dataset(example, fields)"
      ],
      "execution_count": null,
      "outputs": []
    },
    {
      "cell_type": "code",
      "metadata": {
        "id": "gQyxxW1C9ATn"
      },
      "source": [
        "(train, valid) = twitterDataset.split(split_ratio=[0.95, 0.05], random_state=random.seed(SEED))"
      ],
      "execution_count": null,
      "outputs": []
    },
    {
      "cell_type": "code",
      "metadata": {
        "colab": {
          "base_uri": "https://localhost:8080/"
        },
        "id": "QY1fvIbx9JC6",
        "outputId": "dbf0f0df-6297-48e1-8036-a2c4fceddd35"
      },
      "source": [
        "vars(train.examples[10])"
      ],
      "execution_count": null,
      "outputs": [
        {
          "output_type": "execute_result",
          "data": {
            "text/plain": [
              "{'labels': [3,\n",
              "  4,\n",
              "  3,\n",
              "  2,\n",
              "  3,\n",
              "  4,\n",
              "  4,\n",
              "  3,\n",
              "  4,\n",
              "  3,\n",
              "  4,\n",
              "  2,\n",
              "  4,\n",
              "  2,\n",
              "  4,\n",
              "  3,\n",
              "  3,\n",
              "  2,\n",
              "  4,\n",
              "  3,\n",
              "  4,\n",
              "  3,\n",
              "  2,\n",
              "  4,\n",
              "  2,\n",
              "  2,\n",
              "  4,\n",
              "  3,\n",
              "  4,\n",
              "  1,\n",
              "  4,\n",
              "  3,\n",
              "  2,\n",
              "  3,\n",
              "  4,\n",
              "  3,\n",
              "  3,\n",
              "  3,\n",
              "  2,\n",
              "  3,\n",
              "  3,\n",
              "  4,\n",
              "  2,\n",
              "  3,\n",
              "  2,\n",
              "  0,\n",
              "  3,\n",
              "  3,\n",
              "  1,\n",
              "  4,\n",
              "  3,\n",
              "  4,\n",
              "  3,\n",
              "  4,\n",
              "  4,\n",
              "  4,\n",
              "  4,\n",
              "  3,\n",
              "  3,\n",
              "  3,\n",
              "  2,\n",
              "  3,\n",
              "  3,\n",
              "  3,\n",
              "  1,\n",
              "  1,\n",
              "  4,\n",
              "  3,\n",
              "  4,\n",
              "  4,\n",
              "  3,\n",
              "  2,\n",
              "  1,\n",
              "  3,\n",
              "  2,\n",
              "  2,\n",
              "  3,\n",
              "  4,\n",
              "  4,\n",
              "  4,\n",
              "  4,\n",
              "  3,\n",
              "  2,\n",
              "  4,\n",
              "  3,\n",
              "  3,\n",
              "  4,\n",
              "  4,\n",
              "  3,\n",
              "  4,\n",
              "  3,\n",
              "  3,\n",
              "  1,\n",
              "  4,\n",
              "  3,\n",
              "  3,\n",
              "  4,\n",
              "  3,\n",
              "  3,\n",
              "  4,\n",
              "  3,\n",
              "  4,\n",
              "  3,\n",
              "  3,\n",
              "  3,\n",
              "  4,\n",
              "  3,\n",
              "  3,\n",
              "  3,\n",
              "  3,\n",
              "  3,\n",
              "  3,\n",
              "  3,\n",
              "  4,\n",
              "  3,\n",
              "  3,\n",
              "  4,\n",
              "  4,\n",
              "  3,\n",
              "  3,\n",
              "  3,\n",
              "  2,\n",
              "  3,\n",
              "  2,\n",
              "  3,\n",
              "  3,\n",
              "  3,\n",
              "  4,\n",
              "  1,\n",
              "  2,\n",
              "  2,\n",
              "  2,\n",
              "  4,\n",
              "  3,\n",
              "  3,\n",
              "  3,\n",
              "  3,\n",
              "  2,\n",
              "  4,\n",
              "  4,\n",
              "  3,\n",
              "  4,\n",
              "  3,\n",
              "  3,\n",
              "  4,\n",
              "  3,\n",
              "  3,\n",
              "  3,\n",
              "  4,\n",
              "  3,\n",
              "  3,\n",
              "  3,\n",
              "  3,\n",
              "  3,\n",
              "  3,\n",
              "  4,\n",
              "  4,\n",
              "  4,\n",
              "  3,\n",
              "  4,\n",
              "  4,\n",
              "  3,\n",
              "  3,\n",
              "  4,\n",
              "  2,\n",
              "  4,\n",
              "  3,\n",
              "  2,\n",
              "  1,\n",
              "  3,\n",
              "  2,\n",
              "  3,\n",
              "  3,\n",
              "  1,\n",
              "  4,\n",
              "  4,\n",
              "  3,\n",
              "  3,\n",
              "  3,\n",
              "  3,\n",
              "  3,\n",
              "  3,\n",
              "  3,\n",
              "  2,\n",
              "  3,\n",
              "  3,\n",
              "  2,\n",
              "  3,\n",
              "  3,\n",
              "  2,\n",
              "  3,\n",
              "  3,\n",
              "  3,\n",
              "  2,\n",
              "  4,\n",
              "  3,\n",
              "  1,\n",
              "  2,\n",
              "  4,\n",
              "  3,\n",
              "  3,\n",
              "  1,\n",
              "  3,\n",
              "  4,\n",
              "  4,\n",
              "  3,\n",
              "  3,\n",
              "  3,\n",
              "  3,\n",
              "  3,\n",
              "  1,\n",
              "  4,\n",
              "  4,\n",
              "  2,\n",
              "  4,\n",
              "  3,\n",
              "  3,\n",
              "  3,\n",
              "  3,\n",
              "  4,\n",
              "  3,\n",
              "  4,\n",
              "  3,\n",
              "  3,\n",
              "  4,\n",
              "  4,\n",
              "  4,\n",
              "  3,\n",
              "  3,\n",
              "  3,\n",
              "  3,\n",
              "  2,\n",
              "  3,\n",
              "  3,\n",
              "  3,\n",
              "  3,\n",
              "  1,\n",
              "  2,\n",
              "  4,\n",
              "  2,\n",
              "  3,\n",
              "  4,\n",
              "  2,\n",
              "  4,\n",
              "  3,\n",
              "  1,\n",
              "  2,\n",
              "  3,\n",
              "  4,\n",
              "  3,\n",
              "  3,\n",
              "  4,\n",
              "  3,\n",
              "  3,\n",
              "  3,\n",
              "  3,\n",
              "  3,\n",
              "  3,\n",
              "  4,\n",
              "  3,\n",
              "  3,\n",
              "  1,\n",
              "  3,\n",
              "  4,\n",
              "  3,\n",
              "  3,\n",
              "  4,\n",
              "  4,\n",
              "  3,\n",
              "  3,\n",
              "  4,\n",
              "  3,\n",
              "  3,\n",
              "  2,\n",
              "  4,\n",
              "  2,\n",
              "  3,\n",
              "  4,\n",
              "  2,\n",
              "  2,\n",
              "  4,\n",
              "  3,\n",
              "  3,\n",
              "  2,\n",
              "  3,\n",
              "  4,\n",
              "  3,\n",
              "  3,\n",
              "  4,\n",
              "  3,\n",
              "  4,\n",
              "  3,\n",
              "  3,\n",
              "  2,\n",
              "  4,\n",
              "  1,\n",
              "  4,\n",
              "  4,\n",
              "  3,\n",
              "  3,\n",
              "  4,\n",
              "  3,\n",
              "  3,\n",
              "  4,\n",
              "  4,\n",
              "  3,\n",
              "  3,\n",
              "  2,\n",
              "  4,\n",
              "  4,\n",
              "  3,\n",
              "  2,\n",
              "  1,\n",
              "  4,\n",
              "  3,\n",
              "  3,\n",
              "  4,\n",
              "  3,\n",
              "  3,\n",
              "  3,\n",
              "  3,\n",
              "  3,\n",
              "  4,\n",
              "  2,\n",
              "  1,\n",
              "  3,\n",
              "  2,\n",
              "  4,\n",
              "  4,\n",
              "  3,\n",
              "  4,\n",
              "  3,\n",
              "  3,\n",
              "  3,\n",
              "  2,\n",
              "  3,\n",
              "  3,\n",
              "  2,\n",
              "  4,\n",
              "  3,\n",
              "  4,\n",
              "  3,\n",
              "  3,\n",
              "  3,\n",
              "  4,\n",
              "  4,\n",
              "  3,\n",
              "  3,\n",
              "  3,\n",
              "  4,\n",
              "  3,\n",
              "  3,\n",
              "  4,\n",
              "  4,\n",
              "  3,\n",
              "  1,\n",
              "  3,\n",
              "  4,\n",
              "  4,\n",
              "  3,\n",
              "  3,\n",
              "  3,\n",
              "  3,\n",
              "  3,\n",
              "  3,\n",
              "  4,\n",
              "  3,\n",
              "  4,\n",
              "  4,\n",
              "  3,\n",
              "  4,\n",
              "  4,\n",
              "  3,\n",
              "  3,\n",
              "  4,\n",
              "  3,\n",
              "  3,\n",
              "  4,\n",
              "  2,\n",
              "  3,\n",
              "  4,\n",
              "  3,\n",
              "  3,\n",
              "  4,\n",
              "  4,\n",
              "  3,\n",
              "  3,\n",
              "  2,\n",
              "  4,\n",
              "  2,\n",
              "  3,\n",
              "  1,\n",
              "  4,\n",
              "  4,\n",
              "  2,\n",
              "  3,\n",
              "  4,\n",
              "  1,\n",
              "  3,\n",
              "  2,\n",
              "  2,\n",
              "  3,\n",
              "  3,\n",
              "  3,\n",
              "  4,\n",
              "  3,\n",
              "  2,\n",
              "  4,\n",
              "  3,\n",
              "  2,\n",
              "  3,\n",
              "  3,\n",
              "  3,\n",
              "  3,\n",
              "  4,\n",
              "  2,\n",
              "  3,\n",
              "  4,\n",
              "  3,\n",
              "  4,\n",
              "  4,\n",
              "  4,\n",
              "  3,\n",
              "  4,\n",
              "  3,\n",
              "  3,\n",
              "  3,\n",
              "  3,\n",
              "  3,\n",
              "  3,\n",
              "  2,\n",
              "  4,\n",
              "  1,\n",
              "  3,\n",
              "  0,\n",
              "  4,\n",
              "  3,\n",
              "  4,\n",
              "  4,\n",
              "  4,\n",
              "  4,\n",
              "  3,\n",
              "  2,\n",
              "  3,\n",
              "  4,\n",
              "  3,\n",
              "  3,\n",
              "  3,\n",
              "  4,\n",
              "  4,\n",
              "  3,\n",
              "  2,\n",
              "  4,\n",
              "  2,\n",
              "  4,\n",
              "  0,\n",
              "  4,\n",
              "  3,\n",
              "  3,\n",
              "  0,\n",
              "  3,\n",
              "  4,\n",
              "  4,\n",
              "  2,\n",
              "  3,\n",
              "  3,\n",
              "  4,\n",
              "  2,\n",
              "  2,\n",
              "  1,\n",
              "  4,\n",
              "  4,\n",
              "  4,\n",
              "  3,\n",
              "  4,\n",
              "  2,\n",
              "  4,\n",
              "  3,\n",
              "  3,\n",
              "  3,\n",
              "  2,\n",
              "  3,\n",
              "  3,\n",
              "  3,\n",
              "  3,\n",
              "  3,\n",
              "  4,\n",
              "  3,\n",
              "  3,\n",
              "  3,\n",
              "  2,\n",
              "  4,\n",
              "  3,\n",
              "  1,\n",
              "  4,\n",
              "  2,\n",
              "  3,\n",
              "  3,\n",
              "  3,\n",
              "  4,\n",
              "  3,\n",
              "  3,\n",
              "  3,\n",
              "  3,\n",
              "  3,\n",
              "  3,\n",
              "  1,\n",
              "  3,\n",
              "  4,\n",
              "  3,\n",
              "  3,\n",
              "  3,\n",
              "  3,\n",
              "  4,\n",
              "  4,\n",
              "  4,\n",
              "  4,\n",
              "  2,\n",
              "  3,\n",
              "  4,\n",
              "  3,\n",
              "  3,\n",
              "  3,\n",
              "  4,\n",
              "  1,\n",
              "  4,\n",
              "  4,\n",
              "  4,\n",
              "  3,\n",
              "  4,\n",
              "  3,\n",
              "  3,\n",
              "  4,\n",
              "  3,\n",
              "  3,\n",
              "  3,\n",
              "  3,\n",
              "  4,\n",
              "  2,\n",
              "  3,\n",
              "  2,\n",
              "  3,\n",
              "  3,\n",
              "  4,\n",
              "  3,\n",
              "  3,\n",
              "  2,\n",
              "  4,\n",
              "  3,\n",
              "  4,\n",
              "  2,\n",
              "  4,\n",
              "  3,\n",
              "  3,\n",
              "  3,\n",
              "  4,\n",
              "  3,\n",
              "  2,\n",
              "  4,\n",
              "  4,\n",
              "  1,\n",
              "  3,\n",
              "  1,\n",
              "  2,\n",
              "  2,\n",
              "  2,\n",
              "  4,\n",
              "  4,\n",
              "  4,\n",
              "  4,\n",
              "  4,\n",
              "  3,\n",
              "  4,\n",
              "  4,\n",
              "  4,\n",
              "  4,\n",
              "  3,\n",
              "  4,\n",
              "  3,\n",
              "  3,\n",
              "  2,\n",
              "  2,\n",
              "  3,\n",
              "  3,\n",
              "  3,\n",
              "  3,\n",
              "  4,\n",
              "  4,\n",
              "  2,\n",
              "  3,\n",
              "  3,\n",
              "  3,\n",
              "  3,\n",
              "  2,\n",
              "  3,\n",
              "  2,\n",
              "  3,\n",
              "  1,\n",
              "  4,\n",
              "  4,\n",
              "  3,\n",
              "  3,\n",
              "  3,\n",
              "  3,\n",
              "  3,\n",
              "  0,\n",
              "  3,\n",
              "  3,\n",
              "  3,\n",
              "  2,\n",
              "  4,\n",
              "  1,\n",
              "  1,\n",
              "  4,\n",
              "  3,\n",
              "  4,\n",
              "  3,\n",
              "  4,\n",
              "  3,\n",
              "  2,\n",
              "  3,\n",
              "  3,\n",
              "  3,\n",
              "  4,\n",
              "  3,\n",
              "  3,\n",
              "  2,\n",
              "  4,\n",
              "  1,\n",
              "  4,\n",
              "  2,\n",
              "  3,\n",
              "  3,\n",
              "  3,\n",
              "  4,\n",
              "  3,\n",
              "  2,\n",
              "  4,\n",
              "  4,\n",
              "  3,\n",
              "  2,\n",
              "  3,\n",
              "  3,\n",
              "  1,\n",
              "  4,\n",
              "  3,\n",
              "  2,\n",
              "  3,\n",
              "  3,\n",
              "  2,\n",
              "  3,\n",
              "  3,\n",
              "  4,\n",
              "  4,\n",
              "  4,\n",
              "  2,\n",
              "  0,\n",
              "  2,\n",
              "  3,\n",
              "  4,\n",
              "  4,\n",
              "  4,\n",
              "  3,\n",
              "  4,\n",
              "  3,\n",
              "  4,\n",
              "  1,\n",
              "  3,\n",
              "  2,\n",
              "  4,\n",
              "  4,\n",
              "  4,\n",
              "  3,\n",
              "  2,\n",
              "  3,\n",
              "  2,\n",
              "  4,\n",
              "  4,\n",
              "  0,\n",
              "  2,\n",
              "  3,\n",
              "  4,\n",
              "  4,\n",
              "  3,\n",
              "  3,\n",
              "  3,\n",
              "  3,\n",
              "  3,\n",
              "  3,\n",
              "  3,\n",
              "  3,\n",
              "  3,\n",
              "  3,\n",
              "  3,\n",
              "  4,\n",
              "  3,\n",
              "  4,\n",
              "  4,\n",
              "  2,\n",
              "  2,\n",
              "  4,\n",
              "  4,\n",
              "  4,\n",
              "  4,\n",
              "  2,\n",
              "  2,\n",
              "  4,\n",
              "  3,\n",
              "  3,\n",
              "  4,\n",
              "  4,\n",
              "  4,\n",
              "  3,\n",
              "  4,\n",
              "  3,\n",
              "  4,\n",
              "  4,\n",
              "  4,\n",
              "  3,\n",
              "  3,\n",
              "  3,\n",
              "  3,\n",
              "  3,\n",
              "  2,\n",
              "  3,\n",
              "  4,\n",
              "  4,\n",
              "  2,\n",
              "  1,\n",
              "  3,\n",
              "  3,\n",
              "  4,\n",
              "  4,\n",
              "  4,\n",
              "  4,\n",
              "  2,\n",
              "  4,\n",
              "  3,\n",
              "  3,\n",
              "  3,\n",
              "  2,\n",
              "  4,\n",
              "  4,\n",
              "  4,\n",
              "  3,\n",
              "  3,\n",
              "  4,\n",
              "  2,\n",
              "  2,\n",
              "  3,\n",
              "  3,\n",
              "  4,\n",
              "  4,\n",
              "  3,\n",
              "  2,\n",
              "  3,\n",
              "  3,\n",
              "  3,\n",
              "  3,\n",
              "  3,\n",
              "  3,\n",
              "  1,\n",
              "  3,\n",
              "  3,\n",
              "  1,\n",
              "  4,\n",
              "  4,\n",
              "  4,\n",
              "  1,\n",
              "  3,\n",
              "  4,\n",
              "  3,\n",
              "  3,\n",
              "  3,\n",
              "  3,\n",
              "  3,\n",
              "  4,\n",
              "  3,\n",
              "  3,\n",
              "  3,\n",
              "  4,\n",
              "  4,\n",
              "  4,\n",
              "  3,\n",
              "  3,\n",
              "  2,\n",
              "  4,\n",
              "  4,\n",
              "  4,\n",
              "  4,\n",
              "  3,\n",
              "  3,\n",
              "  4,\n",
              "  4,\n",
              "  3,\n",
              "  3,\n",
              "  4,\n",
              "  4,\n",
              "  3,\n",
              "  3,\n",
              "  2,\n",
              "  2,\n",
              "  3,\n",
              "  3,\n",
              "  3,\n",
              "  2,\n",
              "  2,\n",
              "  3,\n",
              "  3,\n",
              "  3,\n",
              "  4,\n",
              "  3,\n",
              "  1,\n",
              "  2,\n",
              "  2,\n",
              "  3,\n",
              "  3,\n",
              "  4,\n",
              "  3,\n",
              "  4,\n",
              "  3,\n",
              "  4,\n",
              "  2,\n",
              "  4,\n",
              "  4,\n",
              "  4,\n",
              "  3,\n",
              "  2,\n",
              "  3,\n",
              "  2,\n",
              "  3,\n",
              "  4,\n",
              "  3,\n",
              "  3,\n",
              "  3,\n",
              "  3,\n",
              "  3,\n",
              "  4,\n",
              "  4,\n",
              "  3,\n",
              "  3,\n",
              "  4,\n",
              "  4,\n",
              "  3,\n",
              "  4,\n",
              "  4,\n",
              "  2,\n",
              "  2,\n",
              "  2,\n",
              "  4,\n",
              "  3,\n",
              "  3,\n",
              "  4,\n",
              "  4,\n",
              "  4,\n",
              "  3,\n",
              "  3,\n",
              "  4,\n",
              "  3,\n",
              "  2,\n",
              "  4,\n",
              "  2,\n",
              "  2,\n",
              "  4,\n",
              "  3,\n",
              "  4,\n",
              "  3,\n",
              "  3,\n",
              "  3,\n",
              "  3,\n",
              "  2,\n",
              "  3,\n",
              "  4,\n",
              "  3,\n",
              "  3,\n",
              "  3,\n",
              "  3,\n",
              "  3,\n",
              "  1,\n",
              "  3,\n",
              "  3,\n",
              "  4,\n",
              "  3,\n",
              "  4,\n",
              "  3,\n",
              "  2,\n",
              "  2,\n",
              "  4,\n",
              "  3,\n",
              "  4,\n",
              "  3,\n",
              "  3,\n",
              "  4,\n",
              "  3,\n",
              "  3,\n",
              "  4,\n",
              "  4,\n",
              "  1,\n",
              "  3,\n",
              "  4,\n",
              "  3,\n",
              "  3,\n",
              "  3,\n",
              "  3,\n",
              "  4,\n",
              "  4,\n",
              "  2,\n",
              "  3,\n",
              "  3,\n",
              "  4,\n",
              "  4,\n",
              "  2,\n",
              "  3,\n",
              "  4,\n",
              "  3,\n",
              "  3,\n",
              "  4,\n",
              "  3,\n",
              "  2,\n",
              "  3,\n",
              "  4,\n",
              "  2,\n",
              "  3,\n",
              "  2,\n",
              "  4,\n",
              "  3,\n",
              "  3,\n",
              "  3,\n",
              "  3,\n",
              "  3,\n",
              "  4,\n",
              "  2,\n",
              "  3,\n",
              "  3,\n",
              "  2,\n",
              "  2,\n",
              "  1,\n",
              "  2,\n",
              "  3,\n",
              "  4,\n",
              "  3,\n",
              "  4,\n",
              "  3,\n",
              "  3,\n",
              "  2,\n",
              "  4,\n",
              "  4,\n",
              "  2,\n",
              "  2,\n",
              "  2,\n",
              "  4,\n",
              "  3,\n",
              "  4,\n",
              "  4,\n",
              "  3,\n",
              "  4,\n",
              "  3,\n",
              "  4,\n",
              "  4,\n",
              "  2,\n",
              "  3,\n",
              "  4,\n",
              "  2,\n",
              "  3,\n",
              "  3,\n",
              "  4,\n",
              "  4,\n",
              "  4,\n",
              "  3,\n",
              "  3,\n",
              "  2,\n",
              "  3,\n",
              "  2,\n",
              "  3,\n",
              "  3,\n",
              "  4,\n",
              "  3,\n",
              "  4,\n",
              "  2,\n",
              "  3,\n",
              "  4,\n",
              "  2,\n",
              "  3,\n",
              "  2,\n",
              "  4,\n",
              "  3,\n",
              "  3,\n",
              "  3,\n",
              "  3,\n",
              "  0,\n",
              "  3,\n",
              "  3,\n",
              "  3,\n",
              "  3,\n",
              "  4,\n",
              "  3,\n",
              "  3,\n",
              "  3,\n",
              "  3,\n",
              "  3,\n",
              "  ...],\n",
              " 'tweets': [\"The Rock is destined to be the 21st Century 's new `` Conan '' and that he 's going to make a splash even greater than Arnold Schwarzenegger , Jean-Claud Van Damme or Steven Segal .\",\n",
              "  \"The gorgeously elaborate continuation of `` The Lord of the Rings '' trilogy is so huge that a column of words can not adequately describe co-writer\\\\/director Peter Jackson 's expanded vision of J.R.R. Tolkien 's Middle-earth .\",\n",
              "  'Singer\\\\/composer Bryan Adams contributes a slew of songs -- a few potential hits , a few more simply intrusive to the story -- but the whole package certainly captures the intended , er , spirit of the piece .',\n",
              "  \"You 'd think by now America would have had enough of plucky British eccentrics with hearts of gold .\",\n",
              "  'Yet the act is still charming here .',\n",
              "  \"Whether or not you 're enlightened by any of Derrida 's lectures on `` the other '' and `` the self , '' Derrida is an undeniably fascinating and playful fellow .\",\n",
              "  'Just the labour involved in creating the layered richness of the imagery in this chiaroscuro of madness and light is astonishing .',\n",
              "  'Part of the charm of Satin Rouge is that it avoids the obvious with humour and lightness .',\n",
              "  \"a screenplay more ingeniously constructed than `` Memento ''\",\n",
              "  \"`` Extreme Ops '' exceeds expectations .\",\n",
              "  'Good fun , good action , good acting , good dialogue , good pace , good cinematography .',\n",
              "  'You Should Pay Nine Bucks for This : Because you can hear about suffering Afghan refugees on the news and still be unaffected .',\n",
              "  'Dramas like this make it human .',\n",
              "  'A thunderous ride at first , quiet cadences of pure finesse are few and far between ; their shortage dilutes the potency of otherwise respectable action .',\n",
              "  'Still , this flick is fun , and host to some truly excellent sequences .',\n",
              "  'Australian actor\\\\/director John Polson and award-winning English cinematographer Giles Nuttgens make a terrific effort at disguising the obvious with energy and innovation .',\n",
              "  'You walk out of The Good Girl with mixed emotions -- disapproval of Justine combined with a tinge of understanding for her actions .',\n",
              "  \"Post 9\\\\/11 the philosophical message of `` Personal Freedom First '' might not be as palatable as intended .\",\n",
              "  'Absorbing character study by André Turpin .',\n",
              "  'If you love reading and\\\\/or poetry , then by all means check it out .',\n",
              "  \"You 'll probably love it .\",\n",
              "  \"`` Frailty '' has been written so well , that even a simple `` Goddammit ! ''\",\n",
              "  'near the end takes on a whole other meaning .',\n",
              "  \"Grenier is terrific , bringing an unforced , rapid-fire delivery to Toback 's Heidegger - and Nietzsche-referencing dialogue .\",\n",
              "  'The Sundance Film Festival has become so buzz-obsessed that fans and producers descend upon Utah each January to ferret out The Next Great Thing .',\n",
              "  \"` Tadpole ' was one of the films so declared this year , but it 's really more of The Next Pretty Good Thing .\",\n",
              "  'The actors are fantastic .',\n",
              "  'They are what makes it worth the trip to the theatre .',\n",
              "  \"( Taymor ) utilizes the idea of making Kahlo 's art a living , breathing part of the movie , often catapulting the artist into her own work .\",\n",
              "  \"This is n't a new idea .\",\n",
              "  \"It 's been done before but never so vividly or with so much passion .\",\n",
              "  \"( `` Take Care of My Cat '' ) is an honestly nice little film that takes us on an examination of young adult life in urban South Korea through the hearts and minds of the five principals .\",\n",
              "  \"It 's not life-affirming -- its vulgar and mean , but I liked it .\",\n",
              "  \"What `` Empire '' lacks in depth it makes up for with its heart .\",\n",
              "  'Light , silly , photographed with colour and depth , and rather a good time .',\n",
              "  \"But tongue-in-cheek preposterousness has always been part of For the most part Wilde 's droll whimsy helps `` Being Earnest '' overcome its weaknesses and Parker 's creative interference ...\",\n",
              "  \"Much of the movie 's charm lies in the utter cuteness of Stuart and Margolo .\",\n",
              "  'Their computer-animated faces are very expressive .',\n",
              "  \"The path Ice Age follows most closely , though , is the one established by Warner Bros. giant Chuck Jones , who died a matter of weeks before the movie 's release .\",\n",
              "  \"... spiced with humor ( ' I speak fluent flatula , ' advises Denlopp after a rather , er , bubbly exchange with an alien deckhand ) and witty updatings ( Silver 's parrot has been replaced with Morph , a cute alien creature who mimics everyone and everything around )\",\n",
              "  \"There 's an energy to Y Tu Mamá También .\",\n",
              "  'Much of it comes from the brave , uninhibited performances by its lead actors .',\n",
              "  \"`` 13 Conversations '' holds its goodwill close , but is relatively slow to come to the point .\",\n",
              "  \"`` Auto Focus '' works as an unusual biopic and document of male swingers in the Playboy era\",\n",
              "  \"If Mr. Zhang 's subject matter is , to some degree at least , quintessentially American , his approach to storytelling might be called Iranian .\",\n",
              "  \"... a sour little movie at its core ; an exploration of the emptiness that underlay the relentless gaiety of the 1920 's ... The film 's ending has a `` What was it all for ? ''\",\n",
              "  \"feeling to it , but like the 1920 's , the trip there is a great deal of fun .\",\n",
              "  \"`` Cremaster 3 '' should come with the warning `` For serious film buffs only ! ''\",\n",
              "  'Made me unintentionally famous -- as the queasy-stomached critic who staggered from the theater and blacked out in the lobby .',\n",
              "  \"But believe it or not , it 's one of the most beautiful , evocative works I 've seen .\",\n",
              "  \"García Bernal and Talancón are an immensely appealing couple , and even though their story is predictable , you 'll want things to work out .\",\n",
              "  '... a spoof comedy that carries its share of laughs -- sometimes a chuckle , sometimes a guffaw and , to my great pleasure , the occasional belly laugh .',\n",
              "  \"( City ) reminds us how realistically nuanced a Robert De Niro performance can be when he is not more lucratively engaged in the shameless self-caricature of ` Analyze This ' ( 1999 ) and ` Analyze That , ' promised ( or threatened ) for later this year .\",\n",
              "  'The wanton slipperiness of \\\\* Corpus and its amiable jerking and reshaping of physical time and space would make it a great piece to watch with kids and use to introduce video as art .',\n",
              "  \"`` Frailty '' starts out like a typical Bible killer story , but it turns out to be significantly different ( and better ) than most films with this theme .\",\n",
              "  'For those who pride themselves on sophisticated , discerning taste , this might not seem like the proper cup of tea , however it is almost guaranteed that even the stuffiest cinema goers will laugh their \\\\*\\\\*\\\\* off for an hour-and-a-half .',\n",
              "  'It cuts to the core of what it actually means to face your fears , to be a girl in a world of boys , to be a boy truly in love with a girl , and to ride the big metaphorical wave that is life -- wherever it takes you .',\n",
              "  'A welcome relief from baseball movies that try too hard to be mythic , this one is a sweet and modest and ultimately winning story .',\n",
              "  \"A crisp psychological drama ( and ) a fascinating little thriller that would have been perfect for an old `` Twilight Zone '' episode .\",\n",
              "  'It has more than a few moments that are insightful enough to be fondly remembered in the endlessly challenging maze of moviegoing .',\n",
              "  'Opening with some contrived banter , cliches and some loose ends , the screenplay only comes into its own in the second half .',\n",
              "  \"An uncluttered , resonant gem that relays its universal points without lectures or confrontations . '\",\n",
              "  \"( The Cockettes ) provides a window into a subculture hell-bent on expressing itself in every way imaginable . '\",\n",
              "  'A smart , steamy mix of road movie , coming-of-age story and political satire .',\n",
              "  'The modern-day royals have nothing on these guys when it comes to scandals .',\n",
              "  \"It 's only in fairy tales that princesses that are married for political reason live happily ever after .\",\n",
              "  'A terrific B movie -- in fact , the best in recent memory .',\n",
              "  \"`` Birthday Girl '' is an actor 's movie first and foremost .\",\n",
              "  'I walked away from this new version of E.T. just as I hoped I would -- with moist eyes .',\n",
              "  \"For devotees of French cinema , Safe Conduct is so rich with period minutiae it 's like dying and going to celluloid heaven .\",\n",
              "  \"What 's really so appealing about the characters is their resemblance to everyday children .\",\n",
              "  \"Shamelessly resorting to pee-related sight gags that might even cause Tom Green a grimace ; still , Myer 's energy and the silliness of it all eventually prevail\",\n",
              "  'An absurdist spider web .',\n",
              "  \"If you 're as happy listening to movies as you are watching them , and the slow parade of human frailty fascinates you , then you 're at the right film .\",\n",
              "  \"This version moves beyond the original 's nostalgia for the communal film experiences of yesteryear to a deeper realization of cinema 's inability to stand in for true , lived experience .\",\n",
              "  'Some movies blend together as they become distant memories .',\n",
              "  \"Mention `` Solaris '' five years from now and I 'm sure those who saw it will have an opinion to share .\",\n",
              "  \"Allen 's funniest and most likeable movie in years .\",\n",
              "  \"It 's a glorious spectacle like those D.W. Griffith made in the early days of silent film .\",\n",
              "  'This comic gem is as delightful as it is derivative .',\n",
              "  'More timely than its director could ever have dreamed , this quietly lyrical tale probes the ambiguous welcome extended by Iran to the Afghani refugees who streamed across its borders , desperate for work and food .',\n",
              "  'The leaping story line , shaped by director Peter Kosminsky into sharp slivers and cutting impressions , shows all the signs of rich detail condensed into a few evocative images and striking character traits .',\n",
              "  \"With three excellent principal singers , a youthful and good-looking diva and tenor and richly handsome locations , it 's enough to make you wish Jacquot had left well enough alone and just filmed the opera without all these distortions of perspective .\",\n",
              "  'The production has been made with an enormous amount of affection , so we believe these characters love each other .',\n",
              "  'Certainly the performances are worthwhile .',\n",
              "  'Winds up being both revelatory and narcissistic , achieving some honest insight into relationships that most high-concept films candy-coat with pat storylines , precious circumstances and beautiful stars .',\n",
              "  'Watching these eccentrics is both inspiring and pure joy .',\n",
              "  'Steven Spielberg brings us another masterpiece',\n",
              "  \"Finally , the French-produced `` Read My Lips '' is a movie that understands characters must come first .\",\n",
              "  'Ms. Seigner and Mr. Serrault bring fresh , unforced naturalism to their characters .',\n",
              "  'Allen shows he can outgag any of those young whippersnappers making moving pictures today .',\n",
              "  'A good film with a solid pedigree both in front of and , more specifically , behind the camera .',\n",
              "  'By no means a slam-dunk and sure to ultimately disappoint the action fans who will be moved to the edge of their seats by the dynamic first act , it still comes off as a touching , transcendent love story .',\n",
              "  \"I encourage young and old alike to go see this unique and entertaining twist on the classic whale 's tale -- you wo n't be sorry !\",\n",
              "  \"A literary detective story is still a detective story and aficionados of the whodunit wo n't be disappointed .\",\n",
              "  \"High Crimes steals so freely from other movies and combines enough disparate types of films that it ca n't help but engage an audience .\",\n",
              "  \"If you 're a fan of the series you 'll love it and probably want to see it twice .\",\n",
              "  'I will be .',\n",
              "  \"It celebrates the group 's playful spark of nonconformity , glancing vividly back at what Hibiscus grandly called his ` angels of light . '\",\n",
              "  'The story ... is inspiring , ironic , and revelatory of just how ridiculous and money-oriented the record industry really is .',\n",
              "  'It is also a testament to the integrity and vision of the band .',\n",
              "  'Laced with liberal doses of dark humor , gorgeous exterior photography , and a stable-full of solid performances , No Such Thing is a fascinating little tale .',\n",
              "  \"Huppert 's show to steal and she makes a meal of it , channeling Kathy Baker 's creepy turn as the repressed mother on Boston Public just as much as 8 Women 's Augustine .\",\n",
              "  \"Nair does n't treat the issues lightly .\",\n",
              "  'She allows each character to confront their problems openly and honestly .',\n",
              "  'One of the best silly horror movies of recent memory , with some real shocks in store for unwary viewers .',\n",
              "  'The work of a filmmaker who has secrets buried at the heart of his story and knows how to take time revealing them .',\n",
              "  'Strange occurrences build in the mind of the viewer and take on extreme urgency .',\n",
              "  'Has a certain ghoulish fascination , and generates a fair amount of B-movie excitement .',\n",
              "  'Familiar but utterly delightful .',\n",
              "  'A fascinating , dark thriller that keeps you hooked on the delicious pulpiness of its lurid fiction .',\n",
              "  'The film aims to be funny , uplifting and moving , sometimes all at once .',\n",
              "  'The extent to which it succeeds is impressive .',\n",
              "  'The film brilliantly shines on all the characters , as the direction is intelligently accomplished .',\n",
              "  'While not for every taste , this often very funny collegiate gross-out comedy goes a long way toward restoring the luster of the National Lampoon film franchise , too long reduced to direct-to-video irrelevancy .',\n",
              "  'As broad and cartoonish as the screenplay is , there is an accuracy of observation in the work of the director , Frank Novak , that keeps the film grounded in an undeniable social realism .',\n",
              "  \"In addition to Hoffman 's powerful acting clinic , this is that rare drama that offers a thoughtful and rewarding glimpse into the sort of heartache everyone has felt , or will feel someday .\",\n",
              "  \"Jeffrey Tambor 's performance as the intelligent jazz-playing exterminator is Oscar-worthy .\",\n",
              "  \"From the opening strains of the Average White Band 's `` Pick up the Pieces '' , you can feel the love .\",\n",
              "  \"Stevens ' vibrant creative instincts are the difference between this and countless other flicks about guys and dolls .\",\n",
              "  \"that it 'll probably be the best and most mature comedy of the 2002 summer season speaks more of the season than the picture\",\n",
              "  'Old people will love this movie , and I mean that in the nicest possible way : Last Orders will touch the heart of anyone old enough to have earned a 50-year friendship .',\n",
              "  \"Meyjes ' provocative film might be called an example of the haphazardness of evil .\",\n",
              "  \"Tian emphasizes the isolation of these characters by confining color to Liyan 's backyard .\",\n",
              "  'The movie is pretty funny now and then without in any way demeaning its subjects .',\n",
              "  \"imagine a scenario where Bergman approaches Swedish fatalism using Gary Larson 's Far Side humor\",\n",
              "  'Too damn weird to pass up , and for the blacklight crowd , way cheaper ( and better ) than Pink Floyd tickets .',\n",
              "  'It is most remarkable not because of its epic scope , but because of the startling intimacy it achieves despite that breadth .',\n",
              "  \"It 's not a great monster movie .\",\n",
              "  \"But if you 've paid a matinee price and bought a big tub of popcorn , there 's guilty fun to be had here .\",\n",
              "  'Chomp chomp !',\n",
              "  'The Grey Zone gives voice to a story that needs to be heard in the sea of Holocaust movies ... but the film suffers from its own difficulties .',\n",
              "  \"Others , more attuned to the anarchist maxim that ` the urge to destroy is also a creative urge ' , or more willing to see with their own eyes , will find Morrison 's iconoclastic uses of technology to be liberating .\",\n",
              "  'Miller tells this very compelling tale with little fuss or noise , expertly plucking tension from quiet .',\n",
              "  'Time Out is existential drama without any of the pretension associated with the term .',\n",
              "  \"It 's a sweet , laugh-a-minute crowd pleaser that lifts your spirits as well as the corners of your mouth .\",\n",
              "  'Writer\\\\/director Alexander Payne ( Election ) and his co-writer Jim Taylor brilliantly employ their quirky and fearless ability to look American angst in the eye and end up laughing .',\n",
              "  \"A movie that at its best does n't just make the most out of its characters ' flaws but insists on the virtue of imperfection .\",\n",
              "  \"It 's tough to watch , but it 's a fantastic movie .\",\n",
              "  'The best animated feature to hit theaters since Beauty and the Beast 11 years ago .',\n",
              "  \"What saves this deeply affecting film from being merely a collection of wrenching cases is Corcuera 's attention to detail .\",\n",
              "  \"Pacino is the best he 's been in years and Keener is marvelous .\",\n",
              "  'A solid , spooky entertainment worthy of the price of a ticket .',\n",
              "  'By turns fanciful , grisly and engagingly quixotic .',\n",
              "  '... very funny , very enjoyable ...',\n",
              "  \"Adaptation is intricately constructed and in a strange way nails all of Orlean 's themes without being a true adaptation of her book .\",\n",
              "  \"So purely enjoyable that you might not even notice it 's a fairly straightforward remake of Hollywood comedies such as Father of the Bride .\",\n",
              "  'Moonlight Mile gives itself the freedom to feel contradictory things .',\n",
              "  'It is sentimental but feels free to offend , is analytical and then surrenders to the illogic of its characters , is about grief and yet permits laughter .',\n",
              "  \"The real triumphs in Igby come from Philippe , who makes Oliver far more interesting than the character 's lines would suggest , and Sarandon , who could n't be better as a cruel but weirdly likable WASP matron .\",\n",
              "  'Robin Williams has thankfully ditched the saccharine sentimentality of Bicentennial Man in favour of an altogether darker side .',\n",
              "  \"If you 're willing to have fun with it , you wo n't feel cheated by the high infidelity of Unfaithful .\",\n",
              "  'Australia : Land Beyond Time is an enjoyable Big Movie primarily because Australia is a weirdly beautiful place .',\n",
              "  \"Hoffman 's performance is authentic to the core of his being .\",\n",
              "  'Told just proficiently enough to trounce its overly comfortable trappings .',\n",
              "  \"An enthralling aesthetic experience , one that 's steeped in mystery and a ravishing , baroque beauty .\",\n",
              "  'The quirky drama touches the heart and the funnybone thanks to the energetic and always surprising performance by Rachel Griffiths .',\n",
              "  'A captivating coming-of-age story that may also be the first narrative film to be truly informed by the wireless age .',\n",
              "  \"What could have been a daytime soap opera is actually a compelling look at a young woman 's tragic odyssey .\",\n",
              "  'Duvall is strong as always .',\n",
              "  'A no-holds-barred cinematic treat .',\n",
              "  \"You 'd have to be a most hard-hearted person not to be moved by this drama .\",\n",
              "  \"Allen 's underestimated charm delivers more goodies than lumps of coal .\",\n",
              "  'Measured against practically any like-themed film other than its Oscar-sweeping franchise predecessor The Silence of the Lambs , Red Dragon rates as an exceptional thriller .',\n",
              "  'An exhilarating serving of movie fluff .',\n",
              "  'Maelstrom is strange and compelling , engrossing and different , a moral tale with a twisted sense of humor .',\n",
              "  'It makes you believe the cast and crew thoroughly enjoyed themselves and believed in their small-budget film .',\n",
              "  'Dark and disturbing , yet compelling to watch .',\n",
              "  \"Too often , Son of the Bride becomes an exercise in trying to predict when a preordained `` big moment '' will occur and not `` if . ''\",\n",
              "  'The picture uses humor and a heartfelt conviction to tell a story about discovering your destination in life , but also acknowledging the places , and the people , from whence you came .',\n",
              "  'A solid piece of journalistic work that draws a picture of a man for whom political expedience became a deadly foreign policy .',\n",
              "  'A terrific insider look at the star-making machinery of tinseltown .',\n",
              "  \"It 's a diverting enough hour-and-a-half for the family audience .\",\n",
              "  'A party-hearty teen flick that scalds like acid .',\n",
              "  'As giddy and whimsical and relevant today as it was 270 years ago .',\n",
              "  'The film offers an intriguing what-if premise .',\n",
              "  'The Pianist is the film Roman Polanski may have been born to make .',\n",
              "  'This version does justice both to Stevenson and to the sci-fi genre .',\n",
              "  'Poignant and delicately complex .',\n",
              "  'Enough may pander to our basest desires for payback , but unlike many revenge fantasies , it ultimately delivers .',\n",
              "  \"Cho 's latest comic set is n't as sharp or as fresh as I 'm the One That I Want ... but it 's still damn funny stuff .\",\n",
              "  'In The Pianist , Polanski is saying what he has long wanted to say , confronting the roots of his own preoccupations and obsessions , and he allows nothing to get in the way .',\n",
              "  \"Despite the film 's shortcomings , the stories are quietly moving .\",\n",
              "  'Those who love Cinema Paradiso will find the new scenes interesting , but few will find the movie improved .',\n",
              "  'If you come from a family that eats , meddles , argues , laughs , kibbitzes and fights together , then go see this delightful comedy .',\n",
              "  'This bracingly truthful antidote to Hollywood teenage movies that slather Clearasil over the blemishes of youth captures the combustible mixture of a chafing inner loneliness and desperate grandiosity that tend to characterize puberty .',\n",
              "  \"The reason to see `` Sade '' lay with the chemistry and complex relationship between the marquis ( Auteil ) and Emilie ( Le Besco ) .\",\n",
              "  \"It 's the filmmakers ' post-camp comprehension of what made old-time B movies good-bad that makes Eight Legged Freaks a perfectly entertaining summer diversion .\",\n",
              "  \"The film 's strength is n't in its details , but in the larger picture it paints - of a culture in conflict with itself , with the thin veneer of nationalism that covers our deepest , media-soaked fears .\",\n",
              "  '... best seen as speculative history , as much an exploration of the paranoid impulse as a creative sequel to the Warren Report .',\n",
              "  'It has its faults , but it is a kind , unapologetic , sweetheart of a movie , and Mandy Moore leaves a positive impression .',\n",
              "  'The Saigon of 1952 is an uneasy mix of sensual delights and simmering violence , and The Quiet American brings us right into the center of that world .',\n",
              "  \"Despite its shortcomings , Girls Ca n't Swim represents an engaging and intimate first feature by a talented director to watch , and it 's a worthy entry in the French coming-of-age genre .\",\n",
              "  \"Flawed , but worth seeing for Ambrose 's performance .\",\n",
              "  'With Dirty Deeds , David Caesar has stepped into the mainstream of filmmaking with an assurance worthy of international acclaim and with every cinematic tool well under his control -- driven by a natural sense for what works on screen .',\n",
              "  'The humor and humanity of Monsoon Wedding are in perfect balance .',\n",
              "  \"Lookin ' for sin , American-style ?\",\n",
              "  'Try Hell House , which documents the cautionary Christian spook-a-rama of the same name .',\n",
              "  'A compelling motion picture that illustrates an American tragedy .',\n",
              "  'As comedic spotlights go , Notorious C.H.O. hits all the verbal marks it should .',\n",
              "  \"It 's a day at the beach -- with air conditioning and popcorn .\",\n",
              "  \"Frida is n't that much different from many a Hollywood romance .\",\n",
              "  \"What sets it apart is the vision that Taymor , the avant garde director of Broadway 's The Lion King and the film Titus , brings .\",\n",
              "  'Stevens has a flair for dialogue comedy , the film operates nicely off the element of surprise , and the large cast is solid .',\n",
              "  'Extremely well acted by the four primary actors , this is a seriously intended movie that is not easily forgotten .',\n",
              "  'The film exudes the urbane sweetness that Woody Allen seems to have bitterly forsaken .',\n",
              "  'K-19 : The Widowmaker is derivative , overlong , and bombastic -- yet surprisingly entertaining .',\n",
              "  \"It 's good , hard-edged stuff , violent and a bit exploitative but also nicely done , morally alert and street-smart .\",\n",
              "  \"Cineasts will revel in those visual in-jokes , as in the film 's verbal pokes at everything from the likes of Miramax chief Harvey Weinstein 's bluff personal style to the stylistic rigors of Denmark 's Dogma movement .\",\n",
              "  \"It 's a rare window on an artistic collaboration .\",\n",
              "  '... begins with promise , but runs aground after being snared in its own tangled plot .',\n",
              "  \"Perhaps the best sports movie I 've ever seen .\",\n",
              "  \"Cho 's timing is priceless .\",\n",
              "  \"... creates a visceral sense of its characters ' lives and conflicted emotions that carries it far above ... what could have been a melodramatic , Lifetime Channel-style anthology .\",\n",
              "  'A sensitive , moving , brilliantly constructed work .',\n",
              "  'An edgy thriller that delivers a surprising punch .',\n",
              "  \"A reasonably entertaining sequel to 1994 's surprise family hit that may strain adult credibility .\",\n",
              "  '( Reno ) delivers a monologue that manages to incorporate both the horror and the absurdity of the situation in a well-balanced fashion .',\n",
              "  'there is truth here',\n",
              "  \"a confident , richly acted , emotionally devastating piece of work and 2002 's first great film\",\n",
              "  'A touching , small-scale story of family responsibility and care in the community .',\n",
              "  'Arteta directs one of the best ensemble casts of the year',\n",
              "  \"The casting of von Sydow ... is itself Intacto 's luckiest stroke .\",\n",
              "  \"No , it 's not as single-minded as John Carpenter 's original , but it 's sure a lot smarter and more unnerving than the sequels .\",\n",
              "  'A gem of a romantic crime comedy that turns out to be clever , amusing and unpredictable .',\n",
              "  \"Stands as one of the year 's most intriguing movie experiences , letting its imagery speak for it while it forces you to ponder anew what a movie can be .\",\n",
              "  '... the first 2\\\\/3 of the film are incredibly captivating and insanely funny , thanks in part to interesting cinematic devices ( cool visual backmasking ) , a solid cast , and some wickedly sick and twisted humor ...',\n",
              "  'This movie got me grinning .',\n",
              "  \"There 's a part of us that can not help be entertained by the sight of someone getting away with something .\",\n",
              "  \"An old-fashioned drama of substance about a teacher 's slide down the slippery slope of dishonesty after an encounter with the rich and the powerful who have nothing but disdain for virtue .\",\n",
              "  \"What 's not to like about a movie with a ` children 's ' song that includes the line ` My stepdad 's not mean , he 's just adjusting ' ?\",\n",
              "  \"This English-language version ... does full honor to Miyazaki 's teeming and often unsettling landscape , and to the conflicted complexity of his characters .\",\n",
              "  'The pleasures that it does afford may be enough to keep many moviegoers occupied amidst some of the more serious-minded concerns of other year-end movies .',\n",
              "  'Not everyone will welcome or accept The Trials of Henry Kissinger as faithful portraiture , but few can argue that the debate it joins is a necessary and timely one .',\n",
              "  'There are no special effects , and no Hollywood endings .',\n",
              "  \"Like the original , this version is raised a few notches above kiddie fantasy pablum by Allen 's astringent wit .\",\n",
              "  \"Despite its Hawaiian setting , the science-fiction trimmings and some moments of rowdy slapstick , the basic plot of `` Lilo '' could have been pulled from a tear-stained vintage Shirley Temple script .\",\n",
              "  'A brutally honest documentary about a much anticipated family reunion that goes wrong thanks to culture shock and a refusal to empathize with others .',\n",
              "  'Filled with honest performances and exceptional detail , Baran is a gentle film with dramatic punch , a haunting ode to humanity .',\n",
              "  \"Sparkles in its deft portrait of Tinseltown 's seasoned veterans of gossip , wealth , paranoia , and celebrityhood .\",\n",
              "  \"In its dry and forceful way , it delivers the same message as Jiri Menzel 's Closely Watched Trains and Danis Tanovic 's No Man 's Land .\",\n",
              "  '... a triumph of emotionally and narratively complex filmmaking .',\n",
              "  \"( Haynes ' ) homage to such films as `` All That Heaven Allows '' and `` Imitation of Life '' transcends them .\",\n",
              "  \"Simply put , `` Far From Heaven '' is a masterpiece .\",\n",
              "  'An intense and effective film about loneliness and the chilly anonymity of the environments where so many of us spend so much of our time .',\n",
              "  \"Although fairly involving as far as it goes , the film does n't end up having much that is fresh to say about growing up Catholic or , really , anything .\",\n",
              "  'Proves mainly that South Korean filmmakers can make undemanding action movies with all the alacrity of their Hollywood counterparts .',\n",
              "  'A very funny romantic comedy about two skittish New York middle-agers who stumble into a relationship and then struggle furiously with their fears and foibles .',\n",
              "  'Top-notch action powers this romantic drama .',\n",
              "  'Beresford nicely mixes in as much humor as pathos to take us on his sentimental journey of the heart .',\n",
              "  \"It really is a shame that more wo n't get an opportunity to embrace small , sweet ` Evelyn . '\",\n",
              "  'I stopped thinking about how good it all was , and started doing nothing but reacting to it - feeling a part of its grand locations , thinking urgently as the protagonists struggled , feeling at the mercy of its inventiveness , gasping at its visual delights .',\n",
              "  'Probably the best case for Christianity since Chesterton and Lewis .',\n",
              "  'A gently funny , sweetly adventurous film that makes you feel genuinely good , that is to say , entirely unconned by false sentiment or sharp , overmanipulative Hollywood practices .',\n",
              "  'Would be an unendurable viewing experience for this ultra-provincial New Yorker if 26-year-old Reese Witherspoon were not on hand to inject her pure fantasy character , Melanie Carmichael , with a massive infusion of old-fashioned Hollywood magic .',\n",
              "  'Visually fascinating ... an often intense character study about fathers and sons , loyalty and duty .',\n",
              "  'A lyrical metaphor for cultural and personal self-discovery and a picaresque view of a little-remembered world .',\n",
              "  \"Schütte 's dramatic snapshot of the artist three days before his death offers an interesting bit of speculation as to the issues Brecht faced as his life drew to a close .\",\n",
              "  'A slick , engrossing melodrama .',\n",
              "  \"S1M0NE 's satire is not subtle , but it is effective .\",\n",
              "  \"It 's a quirky , off-beat project .\",\n",
              "  'While some will object to the idea of a Vietnam picture with such a rah-rah , patriotic tone , Soldiers ultimately achieves its main strategic objective : dramatizing the human cost of the conflict that came to define a generation .',\n",
              "  \"Even if you do n't know the band or the album 's songs by heart , you will enjoy seeing how both evolve , and you will also learn a good deal about the state of the music business in the 21st Century .\",\n",
              "  'The solid filmmaking and convincing characters makes this a high water mark for this genre .',\n",
              "  'Films about loss , grief and recovery are pretty valuable these days .',\n",
              "  'Seen in that light , Moonlight Mile should strike a nerve in many .',\n",
              "  \"It 's endlessly inventive , consistently intelligent and sickeningly savage .\",\n",
              "  'It is definitely worth seeing .',\n",
              "  'An impeccable study in perversity .',\n",
              "  \"Far From Heaven is a dazzling conceptual feat , but more than that , it 's a work of enthralling drama .\",\n",
              "  'A movie that both thrills the eye and , in its over-the-top way , touches the heart .',\n",
              "  \"Stuffed to the brim with ideas , American instigator Michael Moore 's film is a rambling examination of American gun culture that uses his usual modus operandi of crucifixion through juxtaposition .\",\n",
              "  'Affectionately reminds us that , in any language , the huge stuff in life can usually be traced back to the little things .',\n",
              "  'A drama of great power , yet some members of the audience will leave the theater believing they have seen a comedy .',\n",
              "  'The large-frame IMAX camera lends itself beautifully to filming the teeming life on the reefs , making this gorgeous film a must for everyone from junior scientists to grown-up fish lovers .',\n",
              "  \"The result is more depressing than liberating , but it 's never boring .\",\n",
              "  'A story about intelligent high school students that deals with first love sweetly but also seriously .',\n",
              "  'It is also beautifully acted .',\n",
              "  \"It is n't that the picture is unfamiliar , but that it manages to find new avenues of discourse on old problems .\",\n",
              "  'Same song , second verse , coulda been better , but it coulda been worse .',\n",
              "  \"It 's a technically superb film , shining with all the usual Spielberg flair , expertly utilizing the talents of his top-notch creative team .\",\n",
              "  'Wilco fans will have a great time , and the movie should win the band a few new converts , too .',\n",
              "  \"Tsai has a well-deserved reputation as one of the cinema world 's great visual stylists , and in this film , every shot enhances the excellent performances .\",\n",
              "  'The date movie that Franz Kafka would have made .',\n",
              "  \"The fact is that the screen is most alive when it seems most likely that Broomfield 's interviewees , or even himself , will not be for much longer .\",\n",
              "  'Leguizamo and Jones are both excellent and the rest of the cast is uniformly superb .',\n",
              "  'I liked this film a lot ...',\n",
              "  \"... there is enough originality in ` Life ' to distance it from the pack of paint-by-number romantic comedies that so often end up on cinema screens .\",\n",
              "  'A solid and refined piece of moviemaking imbued with passion and attitude .',\n",
              "  'Nettelbeck has crafted an engaging fantasy of flavours and emotions , one part romance novel , one part recipe book .',\n",
              "  'With or without the sex , a wonderful tale of love and destiny , told well by a master storyteller',\n",
              "  \"On the surface a silly comedy , Scotland , PA would be forgettable if it were n't such a clever adaptation of the bard 's tragic play .\",\n",
              "  'A weird , arresting little ride .',\n",
              "  'A fine film , but it would be a lot better if it stuck to Betty Fisher and left out the other stories .',\n",
              "  'A first-class road movie that proves you can run away from home , but your ego and all your problems go with you .',\n",
              "  \"You might want to take a reality check before you pay the full ticket price to see `` Simone , '' and consider a DVD rental instead .\",\n",
              "  'Well cast and well directed - a powerful drama with enough sardonic wit to keep it from being maudlin .',\n",
              "  'A backstage must-see for true fans of comedy .',\n",
              "  \"There 's back-stabbing , inter-racial desire and , most importantly , singing and dancing .\",\n",
              "  \"The film sounds like the stuff of lurid melodrama , but what makes it interesting as a character study is the fact that the story is told from Paul 's perspective .\",\n",
              "  'Jones ... makes a great impression as the writer-director of this little $ 1.8 million charmer , which may not be cutting-edge indie filmmaking but has a huge heart .',\n",
              "  'In the disturbingly involving family dysfunctional drama How I Killed My Father , French director Anne Fontaine delivers an inspired portrait of male-ridden angst and the emotional blockage that accompanies this human condition',\n",
              "  \"Below may not mark Mr. Twohy 's emergence into the mainstream , but his promise remains undiminished .\",\n",
              "  \"There 's no reason to miss Interview with the Assassin\",\n",
              "  \"Happily stays close to the ground in a spare and simple manner and does n't pummel us with phony imagery or music .\",\n",
              "  'Its sheer dynamism is infectious .',\n",
              "  'For his first attempt at film noir , Spielberg presents a fascinating but flawed look at the near future .',\n",
              "  'it somehow managed to make its way past my crappola radar and find a small place in my heart',\n",
              "  \"Perhaps it 's cliche to call the film ` refreshing , ' but it is .\",\n",
              "  \"` Drumline ' shows a level of young , Black manhood that is funny , touching , smart and complicated .\",\n",
              "  'It does give a taste of the Burning Man ethos , an appealing blend of counter-cultural idealism and hedonistic creativity .',\n",
              "  'The limited sets and small confined and dark spaces also are homages to a classic low-budget film noir movie .',\n",
              "  'The movie is well done , but slow .',\n",
              "  '( A ) wonderfully loopy tale of love , longing , and voting .',\n",
              "  'The fascination comes in the power of the Huston performance , which seems so larger than life and yet so fragile , and in the way the Ivan character accepts the news of his illness so quickly but still finds himself unable to react .',\n",
              "  'The last scenes of the film are anguished , bitter and truthful .',\n",
              "  'Mr. Koshashvili is a director to watch .',\n",
              "  'Predictable storyline and by-the-book scripting is all but washed away by sumptuous ocean visuals and the cinematic stylings of director John Stockwell .',\n",
              "  'Antwone Fisher certainly does the trick of making us care about its protagonist and celebrate his victories but , with few exceptions , it rarely stoops to cheap manipulation or corny conventions to do it .',\n",
              "  'One feels the dimming of a certain ambition , but in its place a sweetness , clarity and emotional openness that recalls the classics of early Italian neorealism .',\n",
              "  'It challenges , this nervy oddity , like modern art should .',\n",
              "  \"Whenever you think you 've figured out Late Marriage , it throws you for a loop .\",\n",
              "  \"The Pianist is Polanski 's best film .\",\n",
              "  'It is a testament of quiet endurance , of common concern , of reconciled survival .',\n",
              "  \"This Orange has some juice , but it 's far from fresh-squeezed .\",\n",
              "  'A sensitive , modest comic tragedy that works as both character study and symbolic examination of the huge economic changes sweeping modern China .',\n",
              "  'High Crimes knows the mistakes that bad movies make and is determined not to make them , and maybe that is nobility of a sort .',\n",
              "  \"Cusack 's just brilliant in this .\",\n",
              "  'Knows how to make our imagination wonder .',\n",
              "  \"Jae-eun Jeong 's Take Care of My Cat brings a beguiling freshness to a coming-of-age story with such a buoyant , expressive flow of images that it emerges as another key contribution to the flowering of the South Korean cinema .\",\n",
              "  'The overall fabric is hypnotic , and Mr. Mattei fosters moments of spontaneous intimacy .',\n",
              "  'Evokes a palpable sense of disconnection , made all the more poignant by the incessant use of cell phones .',\n",
              "  'Malcolm McDowell is cool .',\n",
              "  'Paul Bettany is cool .',\n",
              "  'Paul Bettany playing Malcolm McDowell ?',\n",
              "  'Cool .',\n",
              "  'A touching , sophisticated film that almost seems like a documentary in the way it captures an Italian immigrant family on the brink of major changes .',\n",
              "  '... a trashy little bit of fluff stuffed with enjoyable performances and a bewildering sense of self-importance',\n",
              "  \"An inventive , absorbing movie that 's as hard to classify as it is hard to resist .\",\n",
              "  'It made me want to get made-up and go see this movie with my sisters .',\n",
              "  \"I thought the relationships were wonderful , the comedy was funny , and the love ` real ' .\",\n",
              "  \"( Caine ) proves once again he has n't lost his touch , bringing off a superb performance in an admittedly middling film .\",\n",
              "  \"Bogdanovich puts history in perspective and , via Kirsten Dunst 's remarkable performance , he showcases Davies as a young woman of great charm , generosity and diplomacy .\",\n",
              "  'This breezy caper movie becomes a soulful , incisive meditation on the way we were , and the way we are .',\n",
              "  'A captivating new film .',\n",
              "  \"Those who are n't put off by the film 's austerity will find it more than capable of rewarding them .\",\n",
              "  \"It 's a clear-eyed portrait of an intensely lived time , filled with nervous energy , moral ambiguity and great uncertainties .\",\n",
              "  'Reveals how important our special talents can be when put in service of of others .',\n",
              "  'It also shows how deeply felt emotions can draw people together across the walls that might otherwise separate them .',\n",
              "  'With the same sort of good-natured fun found in films like Tremors , Eight Legged Freaks is prime escapist fare .',\n",
              "  'A sharp , amusing study of the cult of celebrity .',\n",
              "  'The sentimental cliches mar an otherwise excellent film .',\n",
              "  'A powerful performance from Mel Gibson and a brutal 90-minute battle sequence that does everything but issue you a dog-tag and an M-16 .',\n",
              "  \"A graceful , moving tribute to the courage of New York 's finest and a nicely understated expression of the grief shared by the nation at their sacrifice .\",\n",
              "  'A coming-of-age tale from New Zealand whose boozy , languid air is balanced by a rich visual clarity and deeply felt performances across the board .',\n",
              "  'Made to be Jaglomized is the Cannes Film Festival , the annual Riviera spree of flesh , buzz , blab and money .',\n",
              "  'The charming result is Festival in Cannes .',\n",
              "  \"If you 're looking for something new and hoping for something entertaining , you 're in luck .\",\n",
              "  \"A hugely rewarding experience that 's every bit as enlightening , insightful and entertaining as Grant 's two best films -- Four Weddings and a Funeral and Bridget Jones 's Diary .\",\n",
              "  \"A rip-roaring comedy action fest that 'll put hairs on your chest .\",\n",
              "  \"If there 's no art here , it 's still a good yarn -- which is nothing to sneeze at these days .\",\n",
              "  'Simultaneously heart-breaking and very funny , The Last Kiss is really all about performances .',\n",
              "  'There is a subversive element to this Disney cartoon , providing unexpected fizzability .',\n",
              "  'An unforgettable look at morality , family , and social expectation through the prism of that omnibus tradition called marriage .',\n",
              "  'An enjoyable , if occasionally flawed , experiment .',\n",
              "  \"Miyazaki is one of world cinema 's most wondrously gifted artists and storytellers .\",\n",
              "  'If Ayurveda can help us return to a sane regimen of eating , sleeping and stress-reducing contemplation , it is clearly a good thing .',\n",
              "  \"Meeting , even exceeding expectations , it 's the best sequel since The Empire Strikes Back ... a majestic achievement , an epic of astonishing grandeur and surprising emotional depth .\",\n",
              "  'Leigh is one of the rare directors who feels acting is the heart and soul of cinema .',\n",
              "  'He allows his cast members to make creative contributions to the story and dialogue .',\n",
              "  'This method almost never fails him , and it works superbly here .',\n",
              "  'Poetry in motion captured on film .',\n",
              "  \"While it can be a bit repetitive , overall it 's an entertaining and informative documentary .\",\n",
              "  'Directing with a sure and measured hand , ( Haneke ) steers clear of the sensational and offers instead an unflinching and objective look at a decidedly perverse pathology .',\n",
              "  'The entire movie establishes a wonderfully creepy mood .',\n",
              "  'I found The Ring moderately absorbing , largely for its elegantly colorful look and sound .',\n",
              "  'The filmmakers want nothing else than to show us a good time , and in their cheap , B movie way , they succeed .',\n",
              "  'Amari has dressed up this little parable in a fairly irresistible package full of privileged moments and memorable performances .',\n",
              "  'Rabbit-Proof Fence will probably make you angry .',\n",
              "  \"But it will just as likely make you weep , and it will do so in a way that does n't make you feel like a sucker .\",\n",
              "  \"Both heartbreaking and heartwarming ... just a simple fable done in an artless sytle , but it 's tremendously moving .\",\n",
              "  'This masterfully calibrated psychological thriller thrives on its taut performances and creepy atmosphere even if the screenplay falls somewhat short .',\n",
              "  \"The film 's sense of imagery gives it a terrible strength , but it 's propelled by the acting .\",\n",
              "  \"The Pianist ( is ) a supremely hopeful cautionary tale of war 's madness remembered that we , today , can prevent its tragic waste of life .\",\n",
              "  \"Here is a divine monument to a single man 's struggle to regain his life , his dignity and his music .\",\n",
              "  'Strange it is , but delightfully so .',\n",
              "  'Elegant , mannered and teasing .',\n",
              "  \"An average coming-of-age tale elevated by the wholesome twist of a pesky mother interfering during her son 's discovery of his homosexuality .\",\n",
              "  'The ingenuity that Parker displays in freshening the play is almost in a class with that of Wilde himself .',\n",
              "  'Decasia is what has happened already to so many silent movies , newsreels and the like .',\n",
              "  'The unexpected thing is that its dying , in this shower of black-and-white psychedelia , is quite beautiful .',\n",
              "  'A droll , bitchy frolic which pokes fun at the price of popularity and small-town pretension in the Lone Star State .',\n",
              "  \"With each of her three protagonists , Miller eloquently captures the moment when a woman 's life , out of a deep-seated , emotional need , is about to turn onto a different path .\",\n",
              "  'Ryan Gosling ... is at 22 a powerful young actor .',\n",
              "  \"A minor work yet there 's no denying the potency of Miller 's strange , fleeting brew of hopeful perseverance and hopeless closure .\",\n",
              "  \"As an introduction to the man 's theories and influence , Derrida is all but useless ; as a portrait of the artist as an endlessly inquisitive old man , however , it 's invaluable .\",\n",
              "  'The film is a verbal duel between two gifted performers .',\n",
              "  'Imperfect ?',\n",
              "  'Yes , but also intriguing and honorable , a worthwhile addition to a distinguished film legacy .',\n",
              "  \"You 'll get the enjoyable basic minimum .\",\n",
              "  'But not a whit more .',\n",
              "  'What a great way to spend 4 units of your day .',\n",
              "  \"The movie is hardly a masterpiece , but it does mark Ms. Bullock 's best work in some time .\",\n",
              "  'As simple and innocent a movie as you can imagine .',\n",
              "  'This is a movie you can trust .',\n",
              "  'Passionate , irrational , long-suffering but cruel as a tarantula , Helga figures prominently in this movie , and helps keep the proceedings as funny for grown-ups as for rugrats .',\n",
              "  \"`` It 's all about the image . ''\",\n",
              "  \"Vividly conveys the passion , creativity , and fearlessness of one of Mexico 's most colorful and controversial artists -- a captivating drama that will speak to the nonconformist in us all .\",\n",
              "  'Hollywood Ending is not show-stoppingly hilarious , but scathingly witty nonetheless .',\n",
              "  \"Maybe Thomas Wolfe was right : You ca n't go home again .\",\n",
              "  'A compelling yarn , but not quite a ripping one .',\n",
              "  'On the Granger Movie Gauge of 1 to 10 , The Powerpuff Girls is a fast , frenetic , funny , even punny 6 -- aimed specifically at a grade-school audience .',\n",
              "  'The film has several strong performances .',\n",
              "  \"I 've never bought from telemarketers , but I bought this movie .\",\n",
              "  'Perfectly pitched between comedy and tragedy , hope and despair , About Schmidt instead comes far closer than many movies to expressing the way many of us live -- someplace between consuming self-absorption and insistently demanding otherness .',\n",
              "  \"The funny thing is , I did n't mind all this contrived nonsense a bit .\",\n",
              "  '( Shyamalan ) turns the goose-pimple genre on its empty head and fills it with spirit , purpose and emotionally bruised characters who add up to more than body count .',\n",
              "  \"A sexy , peculiar and always entertaining costume drama set in Renaissance Spain , and the fact that it 's based on true events somehow makes it all the more compelling .\",\n",
              "  \"An entertaining documentary that freshly considers arguments the Bard 's immortal plays were written by somebody else .\",\n",
              "  \"A highly spirited , imaginative kid 's movie that broaches neo-Augustinian theology : Is God stuck in Heaven because He 's afraid of His best-known creation ?\",\n",
              "  'Call it magic realism or surrealism , but Miss Wonton floats beyond reality with a certain degree of wit and dignity .',\n",
              "  \"Raimi and his team could n't have done any better in bringing the story of Spider-Man to the big screen .\",\n",
              "  'The director explores all three sides of his story with a sensitivity and an inquisitiveness reminiscent of Truffaut .',\n",
              "  'Well-acted , well-directed and , for all its moodiness , not too pretentious .',\n",
              "  \"It 's a satisfying summer blockbuster and worth a look .\",\n",
              "  'Boomers and their kids will have a Barrie good time .',\n",
              "  'Real Women Have Curves wears its empowerment on its sleeve but even its worst harangues are easy to swallow thanks to remarkable performances by Ferrera and Ontiveros .',\n",
              "  \"Ultimately , `` MIB II '' succeeds due to its rapid-fire delivery and enough inspired levity that it ca n't be dismissed as mindless .\",\n",
              "  'Stage director Sam Mendes showcases Tom Hanks as a depression era hit-man in this dark tale of revenge .',\n",
              "  \"Sitting in the third row of the IMAX cinema at Sydney 's Darling Harbour , but I sometimes felt as though I was in the tiny two seater plane that carried the giant camera around Australia , sweeping and gliding , banking and hovering over some of the most not\",\n",
              "  'The real charm of this trifle is the deadpan comic face of its star , Jean Reno , who resembles Sly Stallone in a hot sake half-sleep .',\n",
              "  \"What 's so fun about this silly , outrageous , ingenious thriller is the director 's talent .\",\n",
              "  'Watching a Brian DePalma movie is like watching an Alfred Hitchcock movie after drinking twelve beers .',\n",
              "  \"Strip it of all its excess debris , and you 'd have a 90-minute , four-star movie .\",\n",
              "  \"As it is , it 's too long and unfocused .\",\n",
              "  'An immensely entertaining look at some of the unsung heroes of 20th century pop music .',\n",
              "  \"This familiar rise-and-fall tale is long on glamour and short on larger moralistic consequences , though it 's told with sharp ears and eyes for the tenor of the times .\",\n",
              "  'This beautifully animated epic is never dull .',\n",
              "  \"Brian Tufano 's handsome widescreen photography and Paul Grabowsky 's excellent music turn this fairly parochial melodrama into something really rather special .\",\n",
              "  'It makes compelling , provocative and prescient viewing .',\n",
              "  \"A thoroughly entertaining comedy that uses Grant 's own twist of acidity to prevent itself from succumbing to its own bathos .\",\n",
              "  'Using a stock plot , About a Boy injects just enough freshness into the proceedings to provide an enjoyable 100 minutes in a movie theater .',\n",
              "  'What Eric Schaeffer has accomplished with Never Again may not , strictly speaking , qualify as revolutionary .',\n",
              "  \"But it 's defiantly and delightfully against the grain .\",\n",
              "  'The hard-to-predict and absolutely essential chemistry between the down-to-earth Bullock and the nonchalant Grant proves to be sensational , and everything meshes in this elegant entertainment .',\n",
              "  'A positively thrilling combination of ethnography and all the intrigue , betrayal , deceit and murder of a Shakespearean tragedy or a juicy soap opera .',\n",
              "  'Mr. Clooney , Mr. Kaufman and all their collaborators are entitled to take a deep bow for fashioning an engrossing entertainment out of an almost sure-fire prescription for a critical and commercial disaster .',\n",
              "  \"Definitely funny stuff , but it 's more of the ` laughing at ' variety than the ` laughing with . '\",\n",
              "  'Easily the most thoughtful fictional examination of the root causes of anti-Semitism ever seen on screen .',\n",
              "  'A real winner -- smart , funny , subtle , and resonant .',\n",
              "  'Family portrait of need , neurosis and nervy negativity is a rare treat that shows the promise of digital filmmaking .',\n",
              "  'The pitch must have read like a discarded House Beautiful spread .',\n",
              "  'Uplifting as only a document of the worst possibilities of mankind can be , and among the best films of the year .',\n",
              "  'Director David Jacobson gives Dahmer a consideration that the murderer never game his victims .',\n",
              "  'The film has a terrific look and Salma Hayek has a feel for the character at all stages of her life .',\n",
              "  'A decided lack of spontaneity in its execution and a dearth of real poignancy in its epiphanies .',\n",
              "  'The performances are remarkable .',\n",
              "  \"It 's Burns ' visuals , characters and his punchy dialogue , not his plot , that carry waydowntown .\",\n",
              "  \"As literary desecrations go , this makes for perfectly acceptable , occasionally very enjoyable children 's entertainment .\",\n",
              "  \"You 'll forget about it by Monday , though , and if they 're old enough to have developed some taste , so will your kids .\",\n",
              "  \"While I ca n't say it 's on par with the first one , Stuart Little 2 is a light , fun cheese puff of a movie .\",\n",
              "  'Strange , funny , twisted , brilliant and macabre .',\n",
              "  'A genuinely moving and wisely unsentimental drama .',\n",
              "  \"Heaven is a haunting dramatization of a couple 's moral ascension .\",\n",
              "  'The Mothman Prophecies is best when illustrating the demons bedevilling the modern masculine journey .',\n",
              "  'Plays out with a dogged and eventually winning squareness that would make it the darling of many a kids-and-family-oriented cable channel .',\n",
              "  'An entertaining British hybrid of comedy , caper thrills and quirky romance .',\n",
              "  \"Alain Choquart 's camera barely stops moving , portraying both the turmoil of the time and giving Conduct a perpetual sense of urgency , which , for a film that takes nearly three hours to unspool , is both funny and irritating .\",\n",
              "  \"Mostly Martha could have used a little trimming -- 10 or 15 minutes could be cut and no one would notice -- but it 's a pleasurable trifle .\",\n",
              "  \"The only pain you 'll feel as the credits roll is your stomach grumbling for some tasty grub .\",\n",
              "  \"Hardly an objective documentary , but it 's great cinematic polemic ... love Moore or loathe him , you 've got to admire ... the intensity with which he 's willing to express his convictions .\",\n",
              "  'The mark of a respectable summer blockbuster is one of two things : unadulterated thrills or genuine laughs .',\n",
              "  'The film is visually dazzling , the depicted events dramatic , funny and poignant .',\n",
              "  'A directorial tour de force by Bernard Rose , ivans xtc .',\n",
              "  \"is one of this year 's very best pictures .\",\n",
              "  'What makes the movie work -- to an admittedly limited extent -- is the commitment of two genuinely engaging performers .',\n",
              "  'Weaver and LaPaglia are both excellent , in the kind of low-key way that allows us to forget that they are actually movie folk .',\n",
              "  'Even the digressions are funny .',\n",
              "  'Mr. Spielberg and his company just want you to enjoy yourselves without feeling conned .',\n",
              "  'And they succeed merrily at their noble endeavor .',\n",
              "  'Melodrama with a message .',\n",
              "  'A perfectly pleasant if slightly pokey comedy .',\n",
              "  \"Coppola 's directorial debut is an incredibly layered and stylistic film that , despite a fairly slow paced , almost humdrum approach to character development , still manages at least a decent attempt at meaningful cinema .\",\n",
              "  'At the end , when the now computerized Yoda finally reveals his martial artistry , the film ascends to a kinetic life so teeming that even cranky adults may rediscover the quivering kid inside .',\n",
              "  'Wang Xiaoshuai directs this intricately structured and well-realized drama that presents a fascinating glimpse of urban life and the class warfare that embroils two young men .',\n",
              "  \"It 's hard to imagine anybody ever being `` in the mood '' to view a movie as harrowing and painful as The Grey Zone , but it 's equally hard to imagine anybody being able to tear their eyes away from the screen once it 's started .\",\n",
              "  'Bogdanovich taps deep into the Hearst mystique , entertainingly reenacting a historic scandal .',\n",
              "  'A moving tale of love and destruction in unexpected places , unexamined lives .',\n",
              "  'Clooney directs this film always keeping the balance between the fantastic and the believable ...',\n",
              "  \"Even if you do n't understand what on earth is going on , this is a movie that will stimulate hours of post viewing discussion , if only to be reminded of who did what to whom and why .\",\n",
              "  '... a lesson in prehistoric hilarity .',\n",
              "  'A fantastically vital movie that manages to invest real humor , sensuality , and sympathy into a story about two adolescent boys .',\n",
              "  'Lawrence plumbs personal tragedy and also the human comedy .',\n",
              "  'Though a capable thriller , somewhere along the way K-19 jettisoned some crucial drama .',\n",
              "  'Just about the surest bet for an all-around good time at the movies this summer .',\n",
              "  'It would be disingenuous to call Reno a great film , but you can say that about most of the flicks moving in and out of the multiplex .',\n",
              "  'This is a movie that is what it is : a pleasant distraction , a Friday night diversion , an excuse to eat popcorn .',\n",
              "  'There is a certain sense of experimentation and improvisation to this film that may not always work , but it is nevertheless compelling .',\n",
              "  'The Four Feathers has rewards , from the exoticism of its seas of sand to the fierce grandeur of its sweeping battle scenes .',\n",
              "  'A delicious , quirky movie with a terrific screenplay and fanciful direction by Michael Gondry .',\n",
              "  'This story still seems timely and important .',\n",
              "  \"And there 's an element of heartbreak to watching it now , with older and wiser eyes , because we know what will happen after Greene 's story ends .\",\n",
              "  \"The bodily function jokes are about what you 'd expect , but there are rich veins of funny stuff in this movie .\",\n",
              "  'The performances are amiable and committed , and the comedy more often than not hits the bullseye .',\n",
              "  \"This time , the hype is quieter , and while the movie is slightly less successful than the first , it 's still a rollicking good time for the most part .\",\n",
              "  \"There 's plenty to enjoy -- in no small part thanks to Lau .\",\n",
              "  \"With a romantic comedy plotline straight from the ages , this Cinderella story does n't have a single surprise up its sleeve .\",\n",
              "  'But it does somehow manage to get you under its spell .',\n",
              "  \"Though few will argue that it ranks with the best of Herzog 's works , Invincible shows he 's back in form , with an astoundingly rich film .\",\n",
              "  \"`` Catch Me '' feels capable of charming the masses with star power , a pop-induced score and sentimental moments that have become a Spielberg trademark .\",\n",
              "  'By no means a great movie , but it is a refreshingly forthright one .',\n",
              "  \"The casting of Raymond J. Barry as the ` assassin ' greatly enhances the quality of Neil Burger 's impressive fake documentary .\",\n",
              "  \"Despite Besson 's high-profile name being Wasabi 's big selling point , there is no doubt that Krawczyk deserves a huge amount of the credit for the film 's thoroughly winning tone .\",\n",
              "  'This documentary is a dazzling , remarkably unpretentious reminder of what ( Evans ) had , lost , and got back .',\n",
              "  \"A thoughtful movie , a movie that is concerned with souls and risk and schemes and the consequences of one 's actions .\",\n",
              "  'As satisfyingly odd and intriguing a tale as it was a century and a half ago ... has a delightfully dour , deadpan tone and stylistic consistency .',\n",
              "  \"Methodical , measured , and gently tedious in its comedy , Secret Ballot is a purposefully reductive movie -- which may be why it 's so successful at lodging itself in the brain .\",\n",
              "  'A witty , trenchant , wildly unsentimental but flawed look at the ins and outs of modern moviemaking .',\n",
              "  'For most of the distance the picture provides a satisfyingly unsettling ride into the dark places of our national psyche .',\n",
              "  'By the standards of knucklehead swill , The Hot Chick is pretty damned funny .',\n",
              "  'One of the most gloriously unsubtle and adrenalized extreme shockers since The Evil Dead .',\n",
              "  '( Reaches ) wholly believable and heart-wrenching depths of despair .',\n",
              "  'An absorbing and unsettling psychological drama .',\n",
              "  \"This movie may not have the highest production values you 've ever seen , but it 's the work of an artist , one whose view of America , history and the awkwardness of human life is generous and deep .\",\n",
              "  \"Though it 's not very well shot or composed or edited , the score is too insistent and the dialogue is frequently overwrought and crudely literal , the film shatters you in waves .\",\n",
              "  'The entire cast is extraordinarily good .',\n",
              "  'Yakusho , as always , is wonderful as the long-faced sad sack ... and his chemistry with Shimizu is very believable .',\n",
              "  'Young Hanks and Fisk , who vaguely resemble their celebrity parents , bring fresh good looks and an ease in front of the camera to the work .',\n",
              "  'A captivatingly quirky hybrid of character portrait , romantic comedy and beat-the-clock thriller .',\n",
              "  'The film sparkles with the the wisdom and humor of its subjects .',\n",
              "  \"If ( Jaglom 's ) latest effort is not the director at his most sparkling , some of its repartee is still worth hearing .\",\n",
              "  \"Like The English Patient and The Unbearable Lightness of Being , The Hours is one of those reputedly `` unfilmable '' novels that has bucked the odds to emerge as an exquisite motion picture in its own right .\",\n",
              "  'Just about the best straight-up , old-school horror film of the last 15 years .',\n",
              "  'A chilling tale of one of the great crimes of 20th Century France : the murder of two rich women by their servants in 1933 .',\n",
              "  'An oddity , to be sure , but one that you might wind up remembering with a degree of affection rather than revulsion .',\n",
              "  'While the film is not entirely successful , it still manages to string together enough charming moments to work .',\n",
              "  'A winning piece of work filled with love for the movies of the 1960s .',\n",
              "  'E.T. works because its flabbergasting principals , 14-year-old Robert MacNaughton , 6-year-old Drew Barrymore and 10-year-old Henry Thomas , convince us of the existence of the wise , wizened visitor from a faraway planet .',\n",
              "  \"Helps to remind the First World that HIV\\\\/AIDS is far from being yesterday 's news .\",\n",
              "  'A heartening tale of small victories and enduring hope .',\n",
              "  'The vistas are sweeping and the acting is far from painful .',\n",
              "  'Jackson and co have brought back the value and respect for the term epic cinema .',\n",
              "  \"It may be a somewhat backhanded compliment to say that the film makes the viewer feel like the movie 's various victimized audience members after a while , but it also happens to be the movie 's most admirable quality\",\n",
              "  'Charlotte Sometimes is a brilliant movie .',\n",
              "  'It is about irrational , unexplainable life and it seems so real because it does not attempt to filter out the complexity .',\n",
              "  \"A delightful stimulus for the optic nerves , so much that it 's forgivable that the plot feels like every other tale of a totalitarian tomorrow .\",\n",
              "  \"Defies logic , the laws of physics and almost anyone 's willingness to believe in it .\",\n",
              "  \"But darned if it does n't also keep us riveted to our seats .\",\n",
              "  \"A complex psychological drama about a father who returns to his son 's home after decades away .\",\n",
              "  \"Writer and director Otar Iosseliani 's pleasant tale about a factory worker who escapes for a holiday in Venice reveals how we all need a playful respite from the grind to refresh our souls .\",\n",
              "  \"This is NOT a retread of `` Dead Poets ' Society . ''\",\n",
              "  'Sweet and memorable film .',\n",
              "  'A smart , arch and rather cold-blooded comedy .',\n",
              "  'Keenly observed and refreshingly natural , Swimming gets the details right , from its promenade of barely clad bodies in Myrtle Beach , S.C. , to the adrenaline jolt of a sudden lunch rush at the diner .',\n",
              "  '... begins on a high note and sustains it beautifully .',\n",
              "  'Davis ... gets vivid performances from her cast and pulls off some deft Ally McBeal-style fantasy sequences .',\n",
              "  \"` it 's better to go in knowing full well what 's going to happen , but willing to let the earnestness of its execution and skill of its cast take you down a familiar road with a few twists .\",\n",
              "  \"Cynics need not apply . '\",\n",
              "  'Funny , somber , absurd , and , finally , achingly sad , Bartleby is a fine , understated piece of filmmaking .',\n",
              "  \"`` Red Dragon '' is entertaining .\",\n",
              "  'An obvious copy of one of the best films ever made , how could it not be ?',\n",
              "  'But it is entertaining on an inferior level .',\n",
              "  'It is a popcorn film , not a must-own , or even a must-see .',\n",
              "  'Succeeds only because Bullock and Grant were made to share the silver screen .',\n",
              "  \"Both flawed and delayed , Martin Scorcese 's Gangs of New York still emerges as his most vital work since GoodFellas .\",\n",
              "  'As any creature-feature fan knows , when you cross toxic chemicals with a bunch of exotic creatures , you get a lot of running around , screaming and death .',\n",
              "  \"On that score , the film certainly does n't disappoint .\",\n",
              "  \"As the movie traces Mr. Brown 's athletic exploits , it is impossible not to be awed by the power and grace of one of the greatest natural sportsmen of modern times .\",\n",
              "  \"A moving and solidly entertaining comedy\\\\/drama that should bolster director and co-writer Juan José Campanella 's reputation in the United States .\",\n",
              "  'Thanks to confident filmmaking and a pair of fascinating performances , the way to that destination is a really special walk in the woods .',\n",
              "  \"Beautifully shot , delicately scored and powered by a set of heartfelt performances , it 's a lyrical endeavour .\",\n",
              "  'A macabre and very stylized Swedish fillm about a modern city where all the religious and civic virtues that hold society in place are in tatters .',\n",
              "  \"A stylistic romp that 's always fun to watch .\",\n",
              "  \"Informative , intriguing , observant , often touching ... gives a human face to what 's often discussed in purely abstract terms .\",\n",
              "  '... once the true impact of the day unfolds , the power of this movie is undeniable .',\n",
              "  'An honest , sensitive story from a Vietnamese point of view .',\n",
              "  \"A buoyant romantic comedy about friendship , love , and the truth that we 're all in this together .\",\n",
              "  \"The film 's intimate camera work and searing performances pull us deep into the girls ' confusion and pain as they struggle tragically to comprehend the chasm of knowledge that 's opened between them .\",\n",
              "  \"It 's the perfect star vehicle for Grant , allowing him to finally move away from his usual bumbling , tongue-tied screen persona .\",\n",
              "  'Gaunt , silver-haired and leonine , ( Harris ) brings a tragic dimension and savage full-bodied wit and cunning to the aging Sandeman .',\n",
              "  \"A disturbing examination of what appears to be the definition of a ` bad ' police shooting .\",\n",
              "  \"It 's been made with an innocent yet fervid conviction that our Hollywood has all but lost .\",\n",
              "  'Not only a reminder of how they used to make movies , but also how they sometimes still can be made .',\n",
              "  'A three-hour cinema master class .',\n",
              "  'Eyre is on his way to becoming the American Indian Spike Lee .',\n",
              "  'A witty , whimsical feature debut .',\n",
              "  'Warm in its loving yet unforgivingly inconsistent depiction of everyday people , relaxed in its perfect quiet pace and proud in its message .',\n",
              "  'I loved this film .',\n",
              "  'It provides a grim , upsetting glimpse at the lives of some of the 1.2 million Palestinians who live in the crowded cities and refugee camps of Gaza .',\n",
              "  \"Clint Eastwood 's Blood Work is a lot like a well-made PB & J sandwich : familiar , fairly uneventful and boasting no real surprises -- but still quite tasty and inviting all the same .\",\n",
              "  \"A movie that will surely be profane , politically charged music to the ears of Cho 's fans .\",\n",
              "  'Much of this slick and sprightly CGI feature is sufficiently funny to amuse even the most resolutely unreligious parents who escort their little ones to megaplex screenings .',\n",
              "  'Rarely , a movie is more than a movie .',\n",
              "  'Go .',\n",
              "  \"Jacquot 's strategy allows his cast the benefit of being able to give full performances ... while demonstrating vividly that the beauty and power of the opera reside primarily in the music itself .\",\n",
              "  \"Quitting delivers a sucker-punch , and its impact is all the greater beause director Zhang 's last film , the cuddly Shower , was a non-threatening multi-character piece centered around a public bath house .\",\n",
              "  'By not averting his eyes , Solondz forces us to consider the unthinkable , the unacceptable , the unmentionable .',\n",
              "  \"One Hour Photo may seem disappointing in its generalities , but it 's the little nuances that perhaps had to escape from director Mark Romanek 's self-conscious scrutiny to happen , that finally get under your skin .\",\n",
              "  \"While general audiences might not come away with a greater knowledge of the facts of Cuban music , they 'll be treated to an impressive and highly entertaining celebration of its sounds .\",\n",
              "  'A fascinating documentary that provides a rounded and revealing overview of this ancient holistic healing system',\n",
              "  \"Birthday Girl lucks out with Chaplin and Kidman , who are capable of anteing up some movie star charisma when they need it to sell us on this twisted love story , but who can also negotiate the movie 's darker turns .\",\n",
              "  'An interesting look behind the scenes of Chicago-based rock group Wilco ...',\n",
              "  'Sharp edges and a deep vein of sadness run through its otherwise comic narrative .',\n",
              "  \"There 's lots of cool stuff packed into ESPN 's Ultimate X.\",\n",
              "  'Rock solid family fun out of the gates , extremely imaginative through out , but wanes in the middle',\n",
              "  \"The Ya-Ya 's have many secrets and one is - the books are better .\",\n",
              "  'Translating complex characters from novels to the big screen is an impossible task but they are true to the essence of what it is to be Ya-Ya .',\n",
              "  'The touch is generally light enough and the performances , for the most part , credible .',\n",
              "  'I liked About Schmidt a lot , but I have a feeling that I would have liked it much more if Harry & Tonto never existed .',\n",
              "  'Steers has an unexpectedly adamant streak of warm-blooded empathy for all his disparate Manhattan denizens -- especially the a \\\\*\\\\* holes .',\n",
              "  'That Storytelling has value can not be denied .',\n",
              "  \"Not even Solondz 's thirst for controversy , sketchy characters and immature provocations can fully succeed at cheapening it .\",\n",
              "  'Once the downward spiral comes to pass , Auto Focus bears out as your typical junkie opera ...',\n",
              "  'A knowing sense of humor and a lot of warmth ignite Son of the Bride .',\n",
              "  'A rich tale of our times , very well told with an appropriate minimum of means .',\n",
              "  'The characters are complex and quirky , but entirely believable as the remarkable ensemble cast brings them to life .',\n",
              "  'In all fairness , I must report that the children of varying ages in my audience never coughed , fidgeted or romped up and down the aisles for bathroom breaks .',\n",
              "  'As gory as the scenes of torture and self-mutilation may be , they are pitted against shimmering cinematography that lends the setting the ethereal beauty of an Asian landscape painting .',\n",
              "  'Efficient , suitably anonymous chiller .',\n",
              "  \"Gorgeous scenes , masterful performances , but the sickly sweet gender normative narrative left an acrid test in this gourmet 's mouth .\",\n",
              "  'The hot topics of the plot are relegated to the background -- a welcome step forward from the Sally Jesse Raphael atmosphere of films like Philadelphia and American Beauty .',\n",
              "  \"It 's usually a bad sign when directors abandon their scripts and go where the moment takes them , but Olympia , Wash. , based filmmakers Anne de Marcken and Marilyn Freeman did just that and it 's what makes their project so interesting .\",\n",
              "  'A memorable experience that , like many of his works , presents weighty issues colorfully wrapped up in his own idiosyncratic strain of kitschy goodwill .',\n",
              "  'Executed with such gentle but insistent sincerity , with such good humor and appreciation of the daily grind that only the most hardhearted Scrooge could fail to respond .',\n",
              "  \"The gentle comic treatment of adolescent sturm und drang should please fans of Chris Fuhrman 's posthumously published cult novel .\",\n",
              "  'Director Claude Chabrol has become the master of innuendo .',\n",
              "  'It is not what you see , it is what you think you see .',\n",
              "  'A deftly entertaining film , smartly played and smartly directed .',\n",
              "  'A documentary to make the stones weep -- as shameful as it is scary .',\n",
              "  'I hope the movie is widely seen and debated with appropriate ferocity and thoughtfulness .',\n",
              "  'A thought-provoking look at how Western foreign policy - however well intentioned - can wreak havoc in other cultures .',\n",
              "  \"Asks what truth can be discerned from non-firsthand experience , and specifically questions cinema 's capability for recording truth .\",\n",
              "  \"The journey to the secret 's eventual discovery is a separate adventure , and thrill enough .\",\n",
              "  'A quiet , disquieting triumph .',\n",
              "  'Darkly funny and frequently insightful .',\n",
              "  \"... the tale of her passionate , tumultuous affair with Musset unfolds as Sand 's masculine persona , with its love of life and beauty , takes form .\",\n",
              "  \"If you want to see a train wreck that you ca n't look away from , then look no further , because here it is .\",\n",
              "  \"There 's so much to look at in Metropolis you hate to tear your eyes away from the images long enough to read the subtitles .\",\n",
              "  \"The search for redemption makes for a touching love story , mainly because Blanchett and Ribisi compellingly tap into a spiritual aspect of their characters ' suffering .\",\n",
              "  'A film of ideas and wry comic mayhem .',\n",
              "  \"At its worst the screenplay is callow , but at its best it is a young artist 's thoughtful consideration of fatherhood .\",\n",
              "  \"A worthwhile documentary , whether you 're into rap or not , even if it may still leave you wanting more answers as the credits roll .\",\n",
              "  \"Fessenden 's narrative is just as much about the ownership and redefinition of myth as it is about a domestic unit finding their way to joy .\",\n",
              "  'That the film opens with maggots crawling on a dead dog is not an out of place metaphor .',\n",
              "  'Stanley Kwan has directed not only one of the best gay love stories ever made , but one of the best love stories of any stripe .',\n",
              "  'The concert footage is stirring , the recording sessions are intriguing , and -- on the way to striking a blow for artistic integrity -- this quality band may pick up new admirers .',\n",
              "  'Norton holds the film together .',\n",
              "  \"( There 's ) quite a bit of heart , as you would expect from the directors of The Little Mermaid and Aladdin .\",\n",
              "  \"You wo n't have any trouble getting kids to eat up these Veggies .\",\n",
              "  'A creaky staircase gothic .',\n",
              "  \"Enjoyably dumb , sweet , and intermittently hilarious -- if you 've a taste for the quirky , steal a glimpse .\",\n",
              "  \"A movie that sends you out of the theater feeling like you 've actually spent time living in another community .\",\n",
              "  'Light-years ahead of paint-by-number American blockbusters like Pearl Harbor , at least artistically .',\n",
              "  'A fascinating documentary about the long and eventful spiritual journey of the guru who helped launch the New Age .',\n",
              "  \"Isabelle Huppert excels as the enigmatic Mika and Anna Mouglalis is a stunning new young talent in one of Chabrol 's most intense psychological mysteries .\",\n",
              "  'Perhaps not since Nelson Eddy crooned his Indian Love Call to Jeanette MacDonald has there been a movie so unabashedly Canadian , not afraid to risk American scorn or disinterest .',\n",
              "  'Wedding feels a bit anachronistic .',\n",
              "  'Still , not every low-budget movie must be quirky or bleak , and a happy ending is no cinematic sin .',\n",
              "  \"It 's still a comic book , but Maguire makes it a comic book with soul .\",\n",
              "  'Brings to a spectacular completion one of the most complex , generous and subversive artworks of the last decade .',\n",
              "  'An amusing and unexpectedly insightful examination of sexual jealousy , resentment and the fine line between passion and pretence .',\n",
              "  'A fascinating , bombshell documentary that should shame Americans , regardless of whether or not ultimate blame finally lies with Kissinger .',\n",
              "  'Should be required viewing for civics classes and would-be public servants alike .',\n",
              "  \"Adaptation 's success in engaging the audience in the travails of creating a screenplay is extraordinary .\",\n",
              "  'A polished and vastly entertaining caper film that puts the sting back into the con .',\n",
              "  \"It 's no surprise that as a director Washington demands and receives excellent performances , from himself and from newcomer Derek Luke .\",\n",
              "  \"... while each moment of this broken character study is rich in emotional texture , the journey does n't really go anywhere .\",\n",
              "  'The film gets close to the chimps the same way Goodall did , with a serious minded patience , respect and affection .',\n",
              "  \"It 's an often-cute film but either needs more substance to fill the time or some judicious editing .\",\n",
              "  \"This may be Burns 's strongest film since The Brothers McMullen .\",\n",
              "  \"What makes this film special is Serry 's ability to take what is essentially a contained family conflict and put it into a much larger historical context .\",\n",
              "  \"It 's Quaid who anchors the film with his effortless performance and that trademark grin of his -- so perfect for a ballplayer .\",\n",
              "  'It is OK for a movie to be something of a sitcom apparatus , if the lines work , the humor has point and the actors are humanly engaged .',\n",
              "  'Though not for everyone , The Guys is a somber trip worth taking .',\n",
              "  'A sly female empowerment movie , although not in a way anyone would expect .',\n",
              "  \"You really have to salute writer-director Haneke ( he adapted Elfriede Jelinek 's novel ) for making a film that is n't nearly as graphic but much more powerful , brutally shocking and difficult to watch .\",\n",
              "  \"It 's a wonderful , sobering , heart-felt drama .\",\n",
              "  \"Runs on the pure adrenalin of Pacino 's performance .\",\n",
              "  \"The Paradiso 's rusted-out ruin and ultimate collapse during the film 's final ( restored ) third ... emotionally belittle a cinema classic .\",\n",
              "  'Sometimes shorter is better .',\n",
              "  \"Phillip Noyce and all of his actors -- as well as his cinematographer , Christopher Doyle -- understand the delicate forcefulness of Greene 's prose , and it 's there on the screen in their version of The Quiet American .\",\n",
              "  'The film just might turn on many people to opera , in general , an art form at once visceral and spiritual , wonderfully vulgar and sublimely lofty -- and as emotionally grand as life .',\n",
              "  \"As a vehicle to savour Binoche 's skill , the film is well worthwhile .\",\n",
              "  'The huskies are beautiful , the border collie is funny and the overall feeling is genial and decent .',\n",
              "  \"Whatever complaints I might have , I 'd take ( its ) earnest errors and hard-won rewards over the bombastic self-glorification of other feel-good fiascos like Antwone Fisher or The Emperor 's Club any time .\",\n",
              "  'Mastering its formidable arithmetic of cameras and souls , Group articulates a flood of emotion .',\n",
              "  'A pretty decent kid-pleasing , tolerable-to-adults lark of a movie .',\n",
              "  'Even during the climactic hourlong cricket match , boredom never takes hold .',\n",
              "  \"Combine the paranoid claustrophobia of a submarine movie with the unsettling spookiness of the supernatural -- why did n't Hollywood think of this sooner ?\",\n",
              "  \"Like Kubrick , Soderbergh is n't afraid to try any genre and to do it his own way .\",\n",
              "  'Nothing can detract from the affection of that moral favorite : friends will be friends through thick and thin .',\n",
              "  'If the film has a problem , its shortness disappoints : You want the story to go on and on .',\n",
              "  'Unlike most anime , whose most ardent fans outside Japan seem to be introverted young men with fantasy fetishes , Metropolis never seems hopelessly juvenile .',\n",
              "  'The plot twists give I Am Trying to Break Your Heart an attraction it desperately needed .',\n",
              "  'The most brilliant and brutal UK crime film since Jack Carter went back to Newcastle , the first half of Gangster No. 1 drips with style and , at times , blood .',\n",
              "  'Like its New England characters , most of whom wander about in thick clouds of denial , the movie eventually gets around to its real emotional business , striking deep chords of sadness .',\n",
              "  \"The Bai brothers have taken an small slice of history and opened it up for all of us to understand , and they 've told a nice little story in the process .\",\n",
              "  \"Flamboyant in some movies and artfully restrained in others , 65-year-old Jack Nicholson could be looking at his 12th Oscar nomination by proving that he 's now , more than ever , choosing his roles with the precision of the insurance actuary .\",\n",
              "  '... is there a deeper , more direct connection between these women , one that spans time and reveals meaning ?',\n",
              "  \"You bet there is and it 's what makes this rather convoluted journey worth taking .\",\n",
              "  \"The most amazing super-sized dosage of goofball stunts any `` Jackass '' fan could want .\",\n",
              "  'Real Women may have many agendas , but it also will win you over , in a big way .',\n",
              "  'Young Everlyn Sampi , as the courageous Molly Craig , simply radiates star-power potential in this remarkable and memorable film .',\n",
              "  'Surprisingly powerful and universal .',\n",
              "  \"Apart from its own considerable achievement , Metropolis confirms Tezuka 's status as both the primary visual influence on the animé tradition and its defining philosophical conscience .\",\n",
              "  \"I 'll put it this way : If you 're in the mood for a melodrama narrated by talking fish , this is the movie for you .\",\n",
              "  'Morvern Callar confirms Lynne Ramsay as an important , original talent in international cinema .',\n",
              "  'Well-done supernatural thriller with keen insights into parapsychological phenomena and the soulful nuances of the grieving process .',\n",
              "  \"A plethora of engaging diatribes on the meaning of ` home , ' delivered in grand passion by the members of the various households .\",\n",
              "  \"It 's technically sumptuous but also almost wildly alive .\",\n",
              "  \"This film puts Wang at the forefront of China 's Sixth Generation of film makers .\",\n",
              "  \"it 's refreshing to see a movie that embraces its old-fashioned themes and in the process comes out looking like something wholly original .\",\n",
              "  'Wiseman is patient and uncompromising , letting his camera observe and record the lives of women torn apart by a legacy of abuse .',\n",
              "  \"There 's none of the happily-ever - after spangle of Monsoon Wedding in Late Marriage -- and that 's part of what makes Dover Kosashvili 's outstanding feature debut so potent .\",\n",
              "  'An ingenious and often harrowing look at damaged people and how families can offer either despair or consolation .',\n",
              "  'Arguably the best script that Besson has written in years .',\n",
              "  \"It 's no lie -- Big Fat Liar is a real charmer .\",\n",
              "  'Invigorating , surreal , and resonant with a rainbow of emotion .',\n",
              "  'Director Alfonso Cuaron gets vivid , convincing performances from a fine cast , and generally keeps things going at a rapid pace , occasionally using an omniscient voice-over narrator in the manner of French New Wave films .',\n",
              "  'Pray has really done his subject justice .',\n",
              "  'An unexpectedly sweet story of sisterhood .',\n",
              "  'Maintains your sympathy for this otherwise challenging soul by letting you share her one-room world for a while .',\n",
              "  'A subtle , humorous , illuminating study of politics , power and social mobility .',\n",
              "  'Even if you have no interest in the gang-infested , East-vs .',\n",
              "  '- West Coast rap wars , this modern mob music drama never fails to fascinate .',\n",
              "  \"Nair 's attention to detail creates an impeccable sense of place , while Thurman and Lewis give what can easily be considered career-best performances .\",\n",
              "  \"Berry 's saucy , full-bodied performance gives this aging series a much needed kick , making `` Die Another Day '' one of the most entertaining Bonds in years\",\n",
              "  'Red Dragon is less baroque and showy than Hannibal , and less emotionally affecting than Silence .',\n",
              "  \"But , like Silence , it 's a movie that gets under your skin .\",\n",
              "  'Caviezel embodies the transformation of his character completely .',\n",
              "  'A creepy , intermittently powerful study of a self-destructive man ... about as unsettling to watch as an exploratory medical procedure or an autopsy .',\n",
              "  'Pacino and Williams seem to keep upping the ante on each other , just as their characters do in the film .',\n",
              "  'What results is the best performance from either in years .',\n",
              "  'The cast is top-notch and I predict there will be plenty of female audience members drooling over Michael Idemoto as Michael .',\n",
              "  'Béart and Berling are both superb , while Huppert ... is magnificent .',\n",
              "  \"All the actors are good in Pauline & Paulette but van der Groen , described as ` Belgium 's national treasure , ' is especially terrific as Pauline .\",\n",
              "  \"Miyazaki has created such a vibrant , colorful world , it 's almost impossible not to be swept away by the sheer beauty of his images .\",\n",
              "  \"Muccino seems to be exploring the idea of why human beings long for what they do n't have , and how this gets us in trouble .\",\n",
              "  'But even while his characters are acting horribly , he is always sympathetic .',\n",
              "  \"Whether or not you buy Mr. Broomfield 's findings , the film acquires an undeniable entertainment value as the slight , pale Mr. Broomfield continues to force himself on people and into situations that would make lesser men run for cover .\",\n",
              "  'Ozpetek joins the ranks of those gay filmmakers who have used the emigre experience to explore same-sex culture in ways that elude the more nationally settled .',\n",
              "  '... an eerily suspenseful , deeply absorbing piece that works as a treatise on spirituality as well as a solid sci-fi thriller .',\n",
              "  \"I 've never seen or heard anything quite like this film , and I recommend it for its originality alone .\",\n",
              "  'Nicole Kidman makes it a party worth attending .',\n",
              "  'The direction has a fluid , no-nonsense authority , and the performances by Harris , Phifer and Cam ` ron seal the deal .',\n",
              "  'The Komediant is a tale worth catching .',\n",
              "  'The writing is clever and the cast is appealing .',\n",
              "  'The simplicity of The Way Home has few equals this side of Aesop',\n",
              "  'Life on the rez is no picnic : this picture shows you why .',\n",
              "  'Spielberg has managed to marry science fiction with film noir and action flicks with philosophical inquiry .',\n",
              "  \"It 's the type of film about growing up that we do n't see often enough these days : realistic , urgent , and not sugarcoated in the least .\",\n",
              "  'A taut , sobering film .',\n",
              "  'Exudes the fizz of a Busby Berkeley musical and the visceral excitement of a sports extravaganza .',\n",
              "  \"It 's full of cheesy dialogue , but great trashy fun that finally returns De Palma to his pulpy thrillers of the early '80s .\",\n",
              "  'The results , if not memorable , are at least interesting .',\n",
              "  'A quietly moving look back at what it was to be Iranian-American in 1979 .',\n",
              "  'Like a veteran head cutter , Barbershop is tuned in to its community .',\n",
              "  \"I 'm sure mainstream audiences will be baffled , but , for those with at least a minimal appreciation of Woolf and Clarissa Dalloway , The Hours represents two of those well spent .\",\n",
              "  'You live the mood rather than savour the story .',\n",
              "  'Angela Gheorghiu as famous prima donna Floria Tosca , Roberto Alagna as her lover Mario Cavaradossi , and Ruggero as the villainous , lecherous police chief Scarpia , all sing beautifully and act adequately .',\n",
              "  \"While there are times when the film 's reach exceeds its grasp , the production works more often than it does n't .\",\n",
              "  \"While Scorsese 's bold images and generally smart casting ensure that `` Gangs '' is never lethargic , the movie is hindered by a central plot that 's peppered with false starts and populated by characters who are nearly impossible to care about .\",\n",
              "  'Watching this gentle , mesmerizing portrait of a man coming to terms with time , you barely realize your mind is being blown .',\n",
              "  'The beautifully choreographed kitchen ballet is simple but absorbing .',\n",
              "  \"There 's ... an underlying Old World sexism to Monday Morning that undercuts its charm .\",\n",
              "  \"`` The best Disney movie since the Lion King ''\",\n",
              "  'Transcends its agenda to deliver awe-inspiring , at times sublime , visuals and offer a fascinating glimpse into the subculture of extreme athletes whose derring-do puts the X into the games .',\n",
              "  'Think of it as Gidget , only with muscles and a lot more smarts , but just as endearing and easy to watch .',\n",
              "  'There is no solace here , no entertainment value , merely a fierce lesson in where filmmaking can take us .',\n",
              "  'Giggling at the absurdities and inconsistencies is part of the fun .',\n",
              "  'But the talented cast alone will keep you watching , as will the fight scenes .',\n",
              "  'Arteta paints a picture of lives lived in a state of quiet desperation .',\n",
              "  \"Drug abuse , infidelity and death are n't usually comedy fare , but Turpin 's film allows us to chuckle through the angst .\",\n",
              "  \"While Insomnia is in many ways a conventional , even predictable remake , Nolan 's penetrating undercurrent of cerebral and cinemantic flair lends ( it ) stimulating depth .\",\n",
              "  'Efteriades gives the neighborhood -- scenery , vibe and all -- the cinematic equivalent of a big , tender hug .',\n",
              "  'This is a nicely handled affair , a film about human darkness but etched with a light ( yet unsentimental ) touch .',\n",
              "  'Amazing !',\n",
              "  'A college story that works even without vulgarity , sex scenes , and cussing !',\n",
              "  \"The amazing film work is so convincing that by movies ' end you 'll swear you are wet in some places and feel sand creeping in others .\",\n",
              "  \"A raunchy and frequently hilarious follow-up to the gifted Korean American stand-up 's I 'm the One That I Want .\",\n",
              "  \"If you ever wanted to be an astronaut , this is the ultimate movie experience - it 's informative and breathtakingly spectacular .\",\n",
              "  \"While Parker and co-writer Catherine di Napoli are faithful to Melville 's plotline , they and a fully engaged supporting cast ... have made the old boy 's characters more quick-witted than any English Lit major would have thought possible .\",\n",
              "  'A smart , sassy and exceptionally charming romantic comedy .',\n",
              "  \"There are flaws , but also stretches of impact and moments of awe ; we 're wrapped up in the characters , how they make their choices , and why .\",\n",
              "  'A gift to anyone who loves both dance and cinema',\n",
              "  \"It seems Grant does n't need the floppy hair and the self-deprecating stammers after all .\",\n",
              "  'A reminder that beyond all the hype and recent digital glitz , Spielberg knows how to tell us about people .',\n",
              "  'One of the finest , most humane and important Holocaust movies ever made .',\n",
              "  'An engrossing and infectiously enthusiastic documentary .',\n",
              "  'A beautiful , timeless and universal tale of heated passions -- jealousy , betrayal , forgiveness and murder .',\n",
              "  'A culture-clash comedy that , in addition to being very funny , captures some of the discomfort and embarrassment of being a bumbling American in Europe .',\n",
              "  'Shattering , devastating documentary on two maladjusted teens in a downward narcotized spiral .',\n",
              "  'Extraordinary debut from Josh Koury .',\n",
              "  'The most compelling performance of the year adds substantial depth to this shocking testament to anti-Semitism and neo-fascism .',\n",
              "  \"For those who are intrigued by politics of the '70s , the film is every bit as fascinating as it is flawed .\",\n",
              "  \"All right , so it 's not a brilliant piece of filmmaking , but it is a funny ( sometimes hilarious ) comedy with a deft sense of humor about itself , a playful spirit and a game cast .\",\n",
              "  \"Douglas McGrath 's Nicholas Nickleby does Dickens as it should be done cinematically .\",\n",
              "  \"It 's a lovely , eerie film that casts an odd , rapt spell .\",\n",
              "  'The quirky and recessive charms of co-stars Martin Donovan and Mary-Louise Parker help overcome the problematic script .',\n",
              "  \"It 's good to see Michael Caine whipping out the dirty words and punching people in the stomach again .\",\n",
              "  'You just know something terrible is going to happen .',\n",
              "  \"But when it does , you 're entirely unprepared .\",\n",
              "  \"It 's fun , wispy , wise and surprisingly inoffensive for a film about a teen in love with his stepmom .\",\n",
              "  'Able to provide insight into a fascinating part of theater history .',\n",
              "  'An unflinching , complex portrait of a modern Israel that is rarely seen on-screen .',\n",
              "  \"A Jewish WW II doc that is n't trying simply to out-shock , out-outrage or out-depress its potential audience !\",\n",
              "  'Who knew ...',\n",
              "  \"It 's a familiar story , but one that is presented with great sympathy and intelligence .\",\n",
              "  'Gently humorous and touching .',\n",
              "  \"It wo n't hold up over the long haul , but in the moment , Finch 's tale provides the forgettable pleasures of a Saturday matinee .\",\n",
              "  \"Kinnear 's performance is a career-defining revelation .\",\n",
              "  'The film is predictable in the reassuring manner of a beautifully sung holiday carol .',\n",
              "  \"... hits every cliche we 've come to expect , including the assumption that `` crazy '' people are innocent , childlike and inherently funny .\",\n",
              "  'The strong subject matter continues to shock throughout the film .',\n",
              "  'Not everyone will play the dark , challenging tune taught by The Piano Teacher .',\n",
              "  'A certain sexiness underlines even the dullest tangents .',\n",
              "  'You may be captivated , as I was , by its moods , and by its subtly transformed star , and still wonder why Paul Thomas Anderson ever had the inclination to make the most sincere and artful movie in which Adam Sandler will probably ever appear .',\n",
              "  'There is no substitute for on-screen chemistry , and when Friel pulls the strings that make Williams sink into melancholia , the reaction in Williams is as visceral as a gut punch .',\n",
              "  'That old adage about women being unknowable gets an exhilarating new interpretation in Morvern Callar .',\n",
              "  'A mix of gritty realism , crisp storytelling and radiant compassion that effortlessly draws you in .',\n",
              "  'After watching it , you can only love the players it brings to the fore for the gifted but no-nonsense human beings they are and for the still-inestimable contribution they have made to our shared history .',\n",
              "  'In his U.S. debut , Mr. Schnitzler proves himself a deft pace master and stylist .',\n",
              "  'Ultimate X is a ride , basically the kind of greatest-hits reel that might come with a subscription to ESPN the Magazine .',\n",
              "  \"Rich in shadowy metaphor and as sharp as a samurai sword , Jiang Wen 's Devils on the Doorstep is a wartime farce in the alternately comic and gut-wrenching style of Joseph Heller or Kurt Vonnegut .\",\n",
              "  'Offers a clear-eyed chronicle of a female friendship that is more complex and honest than anything represented in a Hollywood film .',\n",
              "  'A winning comedy with its wry observations about long-lived friendships and the ways in which we all lose track of ourselves by trying to please others .',\n",
              "  \"Its cast full of caffeinated comedy performances more than make up for its logical loopholes , which fly by so fast there 's no time to think about them anyway .\",\n",
              "  'Lohman adapts to the changes required of her , but the actress and director Peter Kosminsky never get the audience to break through the wall her character erects',\n",
              "  \"Although it includes a fair share of dumb drug jokes and predictable slapstick , `` Orange County '' is far funnier than it would seem to have any right to be .\",\n",
              "  \"For a movie audience , The Hours does n't connect in a neat way , but introduces characters who illuminate mysteries of sex , duty and love .\",\n",
              "  'A bright , inventive , thoroughly winning flight of revisionist fancy .',\n",
              "  \"Ozpetek 's effort has the scope and shape of an especially well-executed television movie .\",\n",
              "  'Affirms the gifts of all involved , starting with Spielberg and going right through the ranks of the players -- on-camera and off -- that he brings together .',\n",
              "  'A delightful little film that revels in its own simplicity , Mostly Martha will leave you with a smile on your face and a grumble in your stomach .',\n",
              "  'Makes one thing abundantly clear .',\n",
              "  \"American musical comedy as we know it would n't exist without the precedent of Yiddish theater , whose jolly , fun-for-fun 's - sake communal spirit goes to the essence of Broadway .\",\n",
              "  'Deepa Mehta provides an accessible introduction as well as some intelligent observations on the success of Bollywood in the Western world .',\n",
              "  'If anything , the film is doing something of a public service -- shedding light on a group of extremely talented musicians who might otherwise go unnoticed and underappreciated by music fans .',\n",
              "  'In addition to gluing you to the edge of your seat , Changing Lanes is also a film of freshness , imagination and insight .',\n",
              "  \"Pan Nalin 's exposition is beautiful and mysterious , and the interviews that follow , with the practitioners of this ancient Indian practice , are as subtle and as enigmatic .\",\n",
              "  'The mood , look and tone of the film fit the incredible storyline to a T.',\n",
              "  \"It 's crafty , energetic and smart -- the kid is sort of like a fourteen-year old Ferris Bueller .\",\n",
              "  'A work of extraordinary journalism , but it is also a work of deft and subtle poetry .',\n",
              "  \"It 's funny and human and really pretty damned wonderful , all at once .\",\n",
              "  'At 78 minutes it just zings along with vibrance and warmth .',\n",
              "  'A strangely stirring experience that finds warmth in the coldest environment and makes each crumb of emotional comfort feel like a 10-course banquet .',\n",
              "  \"Sometimes this ` Blood ' seems as tired as its protagonist ... Still , the pulse never disappears entirely , and the picture crosses the finish line winded but still game .\",\n",
              "  'The stripped-down dramatic constructs , austere imagery and abstract characters are equal parts poetry and politics , obvious at times but evocative and heartfelt .',\n",
              "  \"Dogtown and Z-Boys more than exposes the roots of the skateboarding boom that would become `` the punk kids ' revolution . ''\",\n",
              "  '... plenty of warmth to go around , with music and laughter and the love of family .',\n",
              "  \"It 'll keep you wide awake and ... very tense .\",\n",
              "  'Could use a little more humanity , but it never lacks in eye-popping visuals .',\n",
              "  \"( Danny Huston gives ) an astounding performance that deftly , gradually reveals a real human soul buried beneath a spellbinding serpent 's smirk .\",\n",
              "  'These three films form a remarkably cohesive whole , both visually and thematically , through their consistently sensitive and often exciting treatment of an ignored people .',\n",
              "  \"A funny and well-contructed black comedy where the old adage `` be careful what you wish for '' is given a full workout .\",\n",
              "  'It reaffirms life as it looks in the face of death .',\n",
              "  'The film is reasonably entertaining , though it begins to drag two-thirds through , when the melodramatic aspects start to overtake the comedy .',\n",
              "  'This is more fascinating -- being real -- than anything seen on Jerry Springer .',\n",
              "  'A different movie -- sometimes tedious -- by a director many viewers would like to skip but film buffs should get to know .',\n",
              "  'Williams plays Sy , another of his open-faced , smiling madmen , like the killer in Insomnia .',\n",
              "  \"He does this so well you do n't have the slightest difficulty accepting him in the role .\",\n",
              "  'Twist open the Ouzo !',\n",
              "  \"It 's time to let your hair down -- Greek style .\",\n",
              "  'A vibrant whirlwind of love , family and all that goes with it , My Big Fat Greek Wedding is a non-stop funny feast of warmth , colour and cringe .',\n",
              "  'Thought-provoking and stylish , if also somewhat hermetic .',\n",
              "  \"Broomfield is energized by Volletta Wallace 's maternal fury , her fearlessness , and because of that , his film crackles .\",\n",
              "  \"While it has definite weaknesses -- like a rather unbelievable love interest and a meandering ending -- this '60s caper film is a riveting , brisk delight .\",\n",
              "  'Funny in a sick , twisted sort of way .',\n",
              "  \"If cinema had been around to capture the chaos of France in the 1790 's , one imagines the result would look like something like this .\",\n",
              "  \"It 's a talking head documentary , but a great one .\",\n",
              "  \"The Fast Runner ' transports the viewer into an unusual space\",\n",
              "  \"Ultimately engages less for its story of actorly existential despair than for its boundary-hopping formal innovations and glimpse into another kind of Chinese ` cultural revolution . '\",\n",
              "  '... a solid , well-formed satire .',\n",
              "  \"As part of Mr. Dong 's continuing exploration of homosexuality in America , Family Fundamentals is an earnest study in despair .\",\n",
              "  \"Most consumers of lo mein and General Tso 's chicken barely give a thought to the folks who prepare and deliver it , so , hopefully , this film will attach a human face to all those little steaming cartons .\",\n",
              "  'Hatosy ... portrays young Brendan with his usual intelligence and subtlety , not to mention a convincing brogue .',\n",
              "  \"The filmmakers ' eye for detail and the high standards of performance convey a strong sense of the girls ' environment .\",\n",
              "  'Uneven , self-conscious but often hilarious spoof .',\n",
              "  'Even bigger and more ambitious than the first installment , Spy Kids 2 looks as if it were made by a highly gifted 12-year-old instead of a grown man .',\n",
              "  \"Thanks to The Château 's balance of whimsicality , narrative discipline and serious improvisation , almost every relationship and personality in the film yields surprises .\",\n",
              "  'Alan and his fellow survivors are idiosyncratic enough to lift the movie above its playwriting 101 premise .',\n",
              "  'Fresh and raw like a blown-out vein , Narc takes a walking-dead , cop-flick subgenre and beats new life into it .',\n",
              "  'The premise of Jason X is silly but strangely believable .',\n",
              "  \"It 's a wise and powerful tale of race and culture forcefully told , with superb performances throughout .\",\n",
              "  'An awfully good , achingly human picture .',\n",
              "  \"The cast comes through even when the movie does n't .\",\n",
              "  \"You 'll laugh at either the obviousness of it all or its stupidity or maybe even its inventiveness , but the point is , you 'll laugh .\",\n",
              "  'Definitely worth 95 minutes of your time .',\n",
              "  'The film jolts the laughs from the audience -- as if by cattle prod .',\n",
              "  'A sexy , surprising romance ... Idemoto and Kim make a gorgeous pair ... their scenes brim with sexual possibility and emotional danger .',\n",
              "  \"Toes the fine line between cheese and earnestness remarkably well ; everything is delivered with such conviction that it 's hard not to be carried away .\",\n",
              "  \"Whereas Oliver Stone 's conspiracy thriller JFK was long , intricate , star-studded and visually flashy , Interview with the Assassin draws its considerable power from simplicity .\",\n",
              "  'Funny , sexy , devastating and incurably romantic .',\n",
              "  \"Triple X is a double agent , and he 's one bad dude .\",\n",
              "  \"When you 've got the wildly popular Vin Diesel in the equation , it adds up to big box office bucks all but guaranteed .\",\n",
              "  'Very well-written and very well-acted .',\n",
              "  'A powerful and telling story that examines forbidden love , racial tension , and other issues that are as valid today as they were in the 1950s .',\n",
              "  \"You emerge dazed , confused as to whether you 've seen pornography or documentary .\",\n",
              "  \"It ai n't art , by a long shot , but unlike last year 's lame Musketeer , this Dumas adaptation entertains .\",\n",
              "  'likeable thanks to its cast , its cuisine and its quirky tunes .',\n",
              "  'Chilling in its objective portrait of dreary , lost twenty-first century America .',\n",
              "  'Highly recommended as an engrossing story about a horrifying historical event and the elements which contributed to it .',\n",
              "  \"... there 's enough cool fun here to warm the hearts of animation enthusiasts of all ages .\",\n",
              "  \"It manages to squeeze by on Angelina Jolie 's surprising flair for self-deprecating comedy .\",\n",
              "  'Secretary manages a neat trick , bundling the flowers of perversity , comedy and romance into a strangely tempting bouquet of a movie .',\n",
              "  \"Judith and Zaza 's extended bedroom sequence ... is so intimate and sensual and funny and psychologically self-revealing that it makes most of what passes for sex in the movies look like cheap hysterics .\",\n",
              "  'Photographed with melancholy richness and eloquently performed yet also decidedly uncinematic .',\n",
              "  'A knowing look at female friendship , spiked with raw urban humor .',\n",
              "  'As I settled into my World War II memories , I found myself strangely moved by even the corniest and most hackneyed contrivances .',\n",
              "  'The overall effect is awe and affection -- and a strange urge to get on a board and , uh , shred , dude .',\n",
              "  \"It 's that rare family movie -- genuine and sweet without relying on animation or dumb humor .\",\n",
              "  \"The Trinity Assembly approaches the endeavor with a shocking lack of irony , and George Ratliff 's documentary , Hell House , reflects their earnestness -- which makes for a terrifying film .\",\n",
              "  \"Confessions may not be a straightforward bio , nor does it offer much in the way of Barris ' motivations , but the film is an oddly fascinating depiction of an architect of pop culture .\",\n",
              "  'A special kind of movie , this melancholic film noir reminded me a lot of Memento ...',\n",
              "  \"Simple , poignant and leavened with humor , it 's a film that affirms the nourishing aspects of love and companionship .\",\n",
              "  'Together , Miller , Kuras and the actresses make Personal Velocity into an intricate , intimate and intelligent journey .',\n",
              "  'The wonder of Mostly Martha is the performance of Gedeck , who makes Martha enormously endearing .',\n",
              "  'With Notorious C.H.O. Cho proves she has the stuff to stand tall with Pryor , Carlin and Murphy .',\n",
              "  'Less front-loaded and more shapely than the two-hour version released here in 1990 .',\n",
              "  'Watching War Photographer , you come to believe that Nachtwey hates the wars he shows and empathizes with the victims he reveals .',\n",
              "  '( A ) real pleasure in its laid-back way .',\n",
              "  \"Some may choose to interpret the film 's end as hopeful or optimistic but I think Payne is after something darker .\",\n",
              "  'Though it runs 163 minutes , Safe Conduct is anything but languorous .',\n",
              "  \"It 's packed to bursting with incident , and with scores of characters , some fictional , some from history .\",\n",
              "  'A much better documentary -- more revealing , more emotional and more surprising -- than its pedestrian English title would have you believe .',\n",
              "  \"Notwithstanding my problem with the movie 's final half hour , I 'm going to recommend SECRETARY , based on the wonderful acting clinic put on by Spader and Gyllenhaal , and also the unique way Shainberg goes about telling what at heart is a sweet little girl -\",\n",
              "  'A well-crafted film that is all the more remarkable because it achieves its emotional power and moments of revelation with restraint and a delicate ambiguity .',\n",
              "  \"The film has the uncanny ability to right itself precisely when you think it 's in danger of going wrong .\",\n",
              "  \"My Big Fat Greek Wedding is that rare animal known as ' a perfect family film , ' because it 's about family .\",\n",
              "  \"would make an excellent companion piece to the similarly themed ` The French Lieutenant 's Woman . '\",\n",
              "  '... with the gifted Pearce on hand to keep things on semi-stable ground dramatically , this retooled Machine is ultimately effective enough at achieving the modest , crowd-pleasing goals it sets for itself .',\n",
              "  \"A movie that 's just plain awful but still manages to entertain on a guilty-pleasure , so-bad-it 's - funny level .\",\n",
              "  \"A disoriented but occasionally disarming saga packed with moments out of an Alice in Wonderland adventure , a stalker thriller , and a condensed season of TV 's Big Brother .\",\n",
              "  'Functions as both a revealing look at the collaborative process and a timely , tongue-in-cheek profile of the corporate circus that is the recording industry in the current climate of mergers and downsizing .',\n",
              "  'With a confrontational stance , Todd Solondz takes aim on political correctness and suburban families .',\n",
              "  \"A mess , but it 's a sincere mess .\",\n",
              "  'This odd , distant Portuguese import more or less borrows from Bad Lieutenant and Les Vampires , and comes up with a kind of art-house gay porn film .',\n",
              "  'For a debut film , Skin of Man , Heart of Beast feels unusually assured .',\n",
              "  \"A photographic marvel of sorts , and it 's certainly an invaluable record of that special fishy community .\",\n",
              "  \"It 's soulful and unslick , and that 's apparently just what ( Aniston ) has always needed to grow into a movie career .\",\n",
              "  \"Although Olivier Assayas ' elegantly appointed period drama seems , at times , padded with incident in the way of a too-conscientious adaptation ... its three-hour running time plays closer to two .\",\n",
              "  'A jaw-droppingly beautiful work that upends nearly every cliché of Japanese animation while delivering a more than satisfactory amount of carnage .',\n",
              "  \"Terry is a sort of geriatric Dirty Harry , which will please Eastwood 's loyal fans -- and suits the story , wherein our hero must ride roughshod over incompetent cops to get his man .\",\n",
              "  \"Parts seem like they were lifted from Terry Gilliam 's subconscious , pressed through Kafka 's meat grinder and into Buñuel 's casings\",\n",
              "  \"` Like a child with an important message to tell ... ( Skins ' ) faults are easy to forgive because the intentions are lofty . '\",\n",
              "  'A delightful entree in the tradition of food movies .',\n",
              "  \"An escapist confection that 's pure entertainment .\",\n",
              "  \"The Ring is worth a look , if you do n't demand much more than a few cheap thrills from your Halloween entertainment .\",\n",
              "  \"The movie ultimately relies a bit too heavily on grandstanding , emotional , Rocky-like moments ... but it 's such a warm and charming package that you 'll feel too happy to argue much .\",\n",
              "  \"Throwing it all away for the fleeting joys of love 's brief moment .\",\n",
              "  'Armed with a game supporting cast , from the pitch-perfect Forster to the always hilarious Meara and Levy , Like Mike shoots and scores , doing its namesake proud .',\n",
              "  'A decent-enough nail-biter that stands a good chance of being the big hit Franklin needs to stay afloat in Hollywood .',\n",
              "  'Begins like a docu-drama but builds its multi-character story with a flourish .',\n",
              "  'One of the most genuinely sweet films to come along in quite some time .',\n",
              "  \"After an uncertain start , Murder hits and generally sustains a higher plateau with Bullock 's memorable first interrogation of Gosling .\",\n",
              "  'The story ultimately takes hold and grips hard .',\n",
              "  'A bit of a downer and a little over-dramatic at times , but this is a beautiful film for people who like their romances to have that French realism .',\n",
              "  'An emotionally strong and politically potent piece of cinema .',\n",
              "  'Enticing and often funny documentary .',\n",
              "  \"Going to this movie is a little like chewing whale blubber - it 's an acquired taste that takes time to enjoy , but it 's worth it , even if it does take 3 hours to get through .\",\n",
              "  \"A portrait of hell so shattering it 's impossible to shake .\",\n",
              "  \"Almodovar is an imaginative teacher of emotional intelligence in this engaging film about two men who discover what William James once called ` the gift of tears . '\",\n",
              "  \"Better than the tepid Star Trek : Insurrection ; falls short of First Contact because the villain could n't pick the lint off Borg Queen Alice Krige 's cape ; and finishes half a parsec ( a nose ) ahead of Generations .\",\n",
              "  'At times a bit melodramatic and even a little dated ( depending upon where you live ) , Ignorant Fairies is still quite good-natured and not a bad way to spend an hour or two .',\n",
              "  'Tense , terrific , sweaty-palmed fun .',\n",
              "  \"Majidi 's direction has never been smoother or more confident .\",\n",
              "  'What a bewilderingly brilliant and entertaining movie this is .',\n",
              "  'Hard , endearing , caring , warm .',\n",
              "  'Bring tissues .',\n",
              "  \"A thriller with an edge -- which is to say that it does n't follow the stale , standard , connect-the-dots storyline which has become commonplace in movies that explore the seamy underbelly of the criminal world .\",\n",
              "  \"`` Me Without You '' is a probing examination of a female friendship set against a few dynamic decades .\",\n",
              "  'Inherently caustic and oddly whimsical , the film chimes in on the grieving process and strangely draws the audience into the unexplainable pain and eccentricities that are attached to the concept of loss .',\n",
              "  \"Though Frodo 's quest remains unfulfilled , a hardy group of determined New Zealanders has proved its creative mettle .\",\n",
              "  \"It 's a square , sentimental drama that satisfies , as comfort food often can .\",\n",
              "  'Pure cinematic intoxication , a wildly inventive mixture of comedy and melodrama , tastelessness and swooning elegance .',\n",
              "  \"Ramsay is clearly extraordinarily talented , and based on three short films and two features , here 's betting her third feature will be something to behold .\",\n",
              "  'I was impressed by how many tit-for-tat retaliatory responses the filmmakers allow before pulling the plug on the conspirators and averting an American-Russian Armageddon .',\n",
              "  'A classy , sprightly spin on film .',\n",
              "  'fast , frantic and fun , but also soon forgotten',\n",
              "  'A spiffy animated feature about an unruly adolescent boy who is yearning for adventure and a chance to prove his worth .',\n",
              "  'Devos and Cassel have tremendous chemistry -- their sexual and romantic tension , while never really vocalized , is palpable .',\n",
              "  'Fulfills the minimum requirement of Disney animation .',\n",
              "  'A moving , if uneven , success .',\n",
              "  \"With one exception , every blighter in this particular South London housing project digs into dysfunction like it 's a big , comforting jar of Marmite , to be slathered on crackers and served as a feast of bleakness .\",\n",
              "  'Wickedly funny , visually engrossing , never boring , this movie challenges us to think about the ways we consume pop culture .',\n",
              "  \"There 's plenty to impress about E.T.\",\n",
              "  \"A chronicle not only of one man 's quest to be president , but of how that man single-handedly turned a plane full of hard-bitten , cynical journalists into what was essentially , by campaign 's end , an extended publicity department .\",\n",
              "  \"Until it goes off the rails in its final 10 or 15 minutes , Wendigo , Larry Fessenden 's spooky new thriller , is a refreshingly smart and newfangled variation on several themes derived from far less sophisticated and knowing horror films .\",\n",
              "  \"( Woo 's ) most resonant film since The Killer .\",\n",
              "  \"Collateral Damage is trash , but it earns extra points by acting as if it were n't .\",\n",
              "  'A whole lot of fun and funny in the middle , though somewhat less hard-hitting at the start and finish .',\n",
              "  \"Maybe it is formula filmmaking , but there 's nothing wrong with that if the film is well-crafted and this one is .\",\n",
              "  \"( Fincher 's ) camera sense and assured pacing make it an above-average thriller .\",\n",
              "  \"The film is insightful about Kissinger 's background and history .\",\n",
              "  'An engrossing portrait of a man whose engaging manner and flamboyant style made him a truly larger-than-life character .',\n",
              "  \"A lot of the credit for the film 's winning tone must go to Grant , who has n't lost a bit of the dry humor that first made audiences on both sides of the Atlantic love him .\",\n",
              "  'Exploits ( headbanger ) stereotypes in good fun , while adding a bit of heart and unsettling subject matter .',\n",
              "  \"A journey that is as difficult for the audience to take as it is for the protagonist -- yet it 's potentially just as rewarding .\",\n",
              "  \"Ratliff 's two previous titles , Plutonium Circus and Purgatory County show his penchant for wry , contentious configurations , and this film is part of that delicate canon .\",\n",
              "  'From its invitingly upbeat overture to its pathos-filled but ultimately life-affirming finale , Martin is a masterfully conducted work .',\n",
              "  ...]}"
            ]
          },
          "metadata": {
            "tags": []
          },
          "execution_count": 134
        }
      ]
    },
    {
      "cell_type": "code",
      "metadata": {
        "id": "7O7LF04Q9iz6"
      },
      "source": [
        "Tweet.build_vocab(train)\n",
        "Label.build_vocab(train)"
      ],
      "execution_count": null,
      "outputs": []
    },
    {
      "cell_type": "code",
      "metadata": {
        "colab": {
          "base_uri": "https://localhost:8080/"
        },
        "id": "w5xTJTsY9ltP",
        "outputId": "8582d29b-e073-4894-f2bf-ab150e118a9e"
      },
      "source": [
        "print('Size of input vocab : ', len(Tweet.vocab))\n",
        "print('Size of label vocab : ', len(Label.vocab))\n",
        "print('Top 10 words appreared repeatedly :', list(Tweet.vocab.freqs.most_common(10)))\n",
        "print('Labels : ', Label.vocab.stoi)"
      ],
      "execution_count": null,
      "outputs": [
        {
          "output_type": "stream",
          "text": [
            "Size of input vocab :  8536\n",
            "Size of label vocab :  5\n",
            "Top 10 words appreared repeatedly : [('I like it .', 16234), (\"For a film that 's being advertised as a comedy , Sweet Home Alabama is n't as funny as you 'd hoped .\", 16234), ('See it .', 16234), ('True Hollywood Story .', 16234), ('Too bad .', 16234), (\"What 's next ?\", 16234), ('Every joke is repeated at least four times .', 16234), (\"` Stock up on silver bullets for director Neil Marshall 's intense freight train of a film . '\", 16234), ('One of the worst movies of the year .', 16234), ('... a pretentious mess ...', 16234)]\n",
            "Labels :  defaultdict(<function _default_unk_index at 0x7ff80783fd08>, {3: 0, 1: 1, 2: 2, 4: 3, 0: 4})\n"
          ],
          "name": "stdout"
        }
      ]
    },
    {
      "cell_type": "code",
      "metadata": {
        "id": "LohAYP_rM49S"
      },
      "source": [
        "train_iterator, valid_iterator = data.BucketIterator.splits((train, valid), batch_size = 32, \n",
        "                                                            sort_key = lambda x: len(x.tweets),\n",
        "                                                            sort_within_batch=True, device = device)"
      ],
      "execution_count": null,
      "outputs": []
    },
    {
      "cell_type": "code",
      "metadata": {
        "id": "60INIfeu9pHM"
      },
      "source": [
        "import os, pickle\n",
        "with open('tokenizer_aug.pkl', 'wb') as tokens: \n",
        "    pickle.dump(Tweet.vocab.stoi, tokens)"
      ],
      "execution_count": null,
      "outputs": []
    },
    {
      "cell_type": "code",
      "metadata": {
        "colab": {
          "base_uri": "https://localhost:8080/",
          "height": 354
        },
        "id": "TKsogNfY6D96",
        "outputId": "e20afb0a-8eef-4403-8979-20f67a243fc1"
      },
      "source": [
        "print(train_iterator)\n",
        "for i in train_iterator:\n",
        "  print(i)"
      ],
      "execution_count": null,
      "outputs": [
        {
          "output_type": "stream",
          "text": [
            "<torchtext.data.iterator.BucketIterator object at 0x7ff72ef76b38>\n"
          ],
          "name": "stdout"
        },
        {
          "output_type": "error",
          "ename": "TypeError",
          "evalue": "ignored",
          "traceback": [
            "\u001b[0;31m---------------------------------------------------------------------------\u001b[0m",
            "\u001b[0;31mTypeError\u001b[0m                                 Traceback (most recent call last)",
            "\u001b[0;32m<ipython-input-141-04ea7a2a0710>\u001b[0m in \u001b[0;36m<module>\u001b[0;34m()\u001b[0m\n\u001b[1;32m      1\u001b[0m \u001b[0mprint\u001b[0m\u001b[0;34m(\u001b[0m\u001b[0mtrain_iterator\u001b[0m\u001b[0;34m)\u001b[0m\u001b[0;34m\u001b[0m\u001b[0;34m\u001b[0m\u001b[0m\n\u001b[0;32m----> 2\u001b[0;31m \u001b[0;32mfor\u001b[0m \u001b[0mi\u001b[0m \u001b[0;32min\u001b[0m \u001b[0mtrain_iterator\u001b[0m\u001b[0;34m:\u001b[0m\u001b[0;34m\u001b[0m\u001b[0;34m\u001b[0m\u001b[0m\n\u001b[0m\u001b[1;32m      3\u001b[0m   \u001b[0mprint\u001b[0m\u001b[0;34m(\u001b[0m\u001b[0mi\u001b[0m\u001b[0;34m)\u001b[0m\u001b[0;34m\u001b[0m\u001b[0;34m\u001b[0m\u001b[0m\n",
            "\u001b[0;32m/usr/local/lib/python3.6/dist-packages/torchtext/data/iterator.py\u001b[0m in \u001b[0;36m__iter__\u001b[0;34m(self)\u001b[0m\n\u001b[1;32m    155\u001b[0m                     \u001b[0;32melse\u001b[0m\u001b[0;34m:\u001b[0m\u001b[0;34m\u001b[0m\u001b[0;34m\u001b[0m\u001b[0m\n\u001b[1;32m    156\u001b[0m                         \u001b[0mminibatch\u001b[0m\u001b[0;34m.\u001b[0m\u001b[0msort\u001b[0m\u001b[0;34m(\u001b[0m\u001b[0mkey\u001b[0m\u001b[0;34m=\u001b[0m\u001b[0mself\u001b[0m\u001b[0;34m.\u001b[0m\u001b[0msort_key\u001b[0m\u001b[0;34m,\u001b[0m \u001b[0mreverse\u001b[0m\u001b[0;34m=\u001b[0m\u001b[0;32mTrue\u001b[0m\u001b[0;34m)\u001b[0m\u001b[0;34m\u001b[0m\u001b[0;34m\u001b[0m\u001b[0m\n\u001b[0;32m--> 157\u001b[0;31m                 \u001b[0;32myield\u001b[0m \u001b[0mBatch\u001b[0m\u001b[0;34m(\u001b[0m\u001b[0mminibatch\u001b[0m\u001b[0;34m,\u001b[0m \u001b[0mself\u001b[0m\u001b[0;34m.\u001b[0m\u001b[0mdataset\u001b[0m\u001b[0;34m,\u001b[0m \u001b[0mself\u001b[0m\u001b[0;34m.\u001b[0m\u001b[0mdevice\u001b[0m\u001b[0;34m)\u001b[0m\u001b[0;34m\u001b[0m\u001b[0;34m\u001b[0m\u001b[0m\n\u001b[0m\u001b[1;32m    158\u001b[0m             \u001b[0;32mif\u001b[0m \u001b[0;32mnot\u001b[0m \u001b[0mself\u001b[0m\u001b[0;34m.\u001b[0m\u001b[0mrepeat\u001b[0m\u001b[0;34m:\u001b[0m\u001b[0;34m\u001b[0m\u001b[0;34m\u001b[0m\u001b[0m\n\u001b[1;32m    159\u001b[0m                 \u001b[0;32mreturn\u001b[0m\u001b[0;34m\u001b[0m\u001b[0;34m\u001b[0m\u001b[0m\n",
            "\u001b[0;32m/usr/local/lib/python3.6/dist-packages/torchtext/data/batch.py\u001b[0m in \u001b[0;36m__init__\u001b[0;34m(self, data, dataset, device)\u001b[0m\n\u001b[1;32m     32\u001b[0m                 \u001b[0;32mif\u001b[0m \u001b[0mfield\u001b[0m \u001b[0;32mis\u001b[0m \u001b[0;32mnot\u001b[0m \u001b[0;32mNone\u001b[0m\u001b[0;34m:\u001b[0m\u001b[0;34m\u001b[0m\u001b[0;34m\u001b[0m\u001b[0m\n\u001b[1;32m     33\u001b[0m                     \u001b[0mbatch\u001b[0m \u001b[0;34m=\u001b[0m \u001b[0;34m[\u001b[0m\u001b[0mgetattr\u001b[0m\u001b[0;34m(\u001b[0m\u001b[0mx\u001b[0m\u001b[0;34m,\u001b[0m \u001b[0mname\u001b[0m\u001b[0;34m)\u001b[0m \u001b[0;32mfor\u001b[0m \u001b[0mx\u001b[0m \u001b[0;32min\u001b[0m \u001b[0mdata\u001b[0m\u001b[0;34m]\u001b[0m\u001b[0;34m\u001b[0m\u001b[0;34m\u001b[0m\u001b[0m\n\u001b[0;32m---> 34\u001b[0;31m                     \u001b[0msetattr\u001b[0m\u001b[0;34m(\u001b[0m\u001b[0mself\u001b[0m\u001b[0;34m,\u001b[0m \u001b[0mname\u001b[0m\u001b[0;34m,\u001b[0m \u001b[0mfield\u001b[0m\u001b[0;34m.\u001b[0m\u001b[0mprocess\u001b[0m\u001b[0;34m(\u001b[0m\u001b[0mbatch\u001b[0m\u001b[0;34m,\u001b[0m \u001b[0mdevice\u001b[0m\u001b[0;34m=\u001b[0m\u001b[0mdevice\u001b[0m\u001b[0;34m)\u001b[0m\u001b[0;34m)\u001b[0m\u001b[0;34m\u001b[0m\u001b[0;34m\u001b[0m\u001b[0m\n\u001b[0m\u001b[1;32m     35\u001b[0m \u001b[0;34m\u001b[0m\u001b[0m\n\u001b[1;32m     36\u001b[0m     \u001b[0;34m@\u001b[0m\u001b[0mclassmethod\u001b[0m\u001b[0;34m\u001b[0m\u001b[0;34m\u001b[0m\u001b[0m\n",
            "\u001b[0;32m/usr/local/lib/python3.6/dist-packages/torchtext/data/field.py\u001b[0m in \u001b[0;36mprocess\u001b[0;34m(self, batch, device)\u001b[0m\n\u001b[1;32m    199\u001b[0m         \"\"\"\n\u001b[1;32m    200\u001b[0m         \u001b[0mpadded\u001b[0m \u001b[0;34m=\u001b[0m \u001b[0mself\u001b[0m\u001b[0;34m.\u001b[0m\u001b[0mpad\u001b[0m\u001b[0;34m(\u001b[0m\u001b[0mbatch\u001b[0m\u001b[0;34m)\u001b[0m\u001b[0;34m\u001b[0m\u001b[0;34m\u001b[0m\u001b[0m\n\u001b[0;32m--> 201\u001b[0;31m         \u001b[0mtensor\u001b[0m \u001b[0;34m=\u001b[0m \u001b[0mself\u001b[0m\u001b[0;34m.\u001b[0m\u001b[0mnumericalize\u001b[0m\u001b[0;34m(\u001b[0m\u001b[0mpadded\u001b[0m\u001b[0;34m,\u001b[0m \u001b[0mdevice\u001b[0m\u001b[0;34m=\u001b[0m\u001b[0mdevice\u001b[0m\u001b[0;34m)\u001b[0m\u001b[0;34m\u001b[0m\u001b[0;34m\u001b[0m\u001b[0m\n\u001b[0m\u001b[1;32m    202\u001b[0m         \u001b[0;32mreturn\u001b[0m \u001b[0mtensor\u001b[0m\u001b[0;34m\u001b[0m\u001b[0;34m\u001b[0m\u001b[0m\n\u001b[1;32m    203\u001b[0m \u001b[0;34m\u001b[0m\u001b[0m\n",
            "\u001b[0;32m/usr/local/lib/python3.6/dist-packages/torchtext/data/field.py\u001b[0m in \u001b[0;36mnumericalize\u001b[0;34m(self, arr, device)\u001b[0m\n\u001b[1;32m    300\u001b[0m                 \u001b[0marr\u001b[0m \u001b[0;34m=\u001b[0m \u001b[0;34m[\u001b[0m\u001b[0;34m[\u001b[0m\u001b[0mself\u001b[0m\u001b[0;34m.\u001b[0m\u001b[0mvocab\u001b[0m\u001b[0;34m.\u001b[0m\u001b[0mstoi\u001b[0m\u001b[0;34m[\u001b[0m\u001b[0mx\u001b[0m\u001b[0;34m]\u001b[0m \u001b[0;32mfor\u001b[0m \u001b[0mx\u001b[0m \u001b[0;32min\u001b[0m \u001b[0mex\u001b[0m\u001b[0;34m]\u001b[0m \u001b[0;32mfor\u001b[0m \u001b[0mex\u001b[0m \u001b[0;32min\u001b[0m \u001b[0marr\u001b[0m\u001b[0;34m]\u001b[0m\u001b[0;34m\u001b[0m\u001b[0;34m\u001b[0m\u001b[0m\n\u001b[1;32m    301\u001b[0m             \u001b[0;32melse\u001b[0m\u001b[0;34m:\u001b[0m\u001b[0;34m\u001b[0m\u001b[0;34m\u001b[0m\u001b[0m\n\u001b[0;32m--> 302\u001b[0;31m                 \u001b[0marr\u001b[0m \u001b[0;34m=\u001b[0m \u001b[0;34m[\u001b[0m\u001b[0mself\u001b[0m\u001b[0;34m.\u001b[0m\u001b[0mvocab\u001b[0m\u001b[0;34m.\u001b[0m\u001b[0mstoi\u001b[0m\u001b[0;34m[\u001b[0m\u001b[0mx\u001b[0m\u001b[0;34m]\u001b[0m \u001b[0;32mfor\u001b[0m \u001b[0mx\u001b[0m \u001b[0;32min\u001b[0m \u001b[0marr\u001b[0m\u001b[0;34m]\u001b[0m\u001b[0;34m\u001b[0m\u001b[0;34m\u001b[0m\u001b[0m\n\u001b[0m\u001b[1;32m    303\u001b[0m \u001b[0;34m\u001b[0m\u001b[0m\n\u001b[1;32m    304\u001b[0m             \u001b[0;32mif\u001b[0m \u001b[0mself\u001b[0m\u001b[0;34m.\u001b[0m\u001b[0mpostprocessing\u001b[0m \u001b[0;32mis\u001b[0m \u001b[0;32mnot\u001b[0m \u001b[0;32mNone\u001b[0m\u001b[0;34m:\u001b[0m\u001b[0;34m\u001b[0m\u001b[0;34m\u001b[0m\u001b[0m\n",
            "\u001b[0;32m/usr/local/lib/python3.6/dist-packages/torchtext/data/field.py\u001b[0m in \u001b[0;36m<listcomp>\u001b[0;34m(.0)\u001b[0m\n\u001b[1;32m    300\u001b[0m                 \u001b[0marr\u001b[0m \u001b[0;34m=\u001b[0m \u001b[0;34m[\u001b[0m\u001b[0;34m[\u001b[0m\u001b[0mself\u001b[0m\u001b[0;34m.\u001b[0m\u001b[0mvocab\u001b[0m\u001b[0;34m.\u001b[0m\u001b[0mstoi\u001b[0m\u001b[0;34m[\u001b[0m\u001b[0mx\u001b[0m\u001b[0;34m]\u001b[0m \u001b[0;32mfor\u001b[0m \u001b[0mx\u001b[0m \u001b[0;32min\u001b[0m \u001b[0mex\u001b[0m\u001b[0;34m]\u001b[0m \u001b[0;32mfor\u001b[0m \u001b[0mex\u001b[0m \u001b[0;32min\u001b[0m \u001b[0marr\u001b[0m\u001b[0;34m]\u001b[0m\u001b[0;34m\u001b[0m\u001b[0;34m\u001b[0m\u001b[0m\n\u001b[1;32m    301\u001b[0m             \u001b[0;32melse\u001b[0m\u001b[0;34m:\u001b[0m\u001b[0;34m\u001b[0m\u001b[0;34m\u001b[0m\u001b[0m\n\u001b[0;32m--> 302\u001b[0;31m                 \u001b[0marr\u001b[0m \u001b[0;34m=\u001b[0m \u001b[0;34m[\u001b[0m\u001b[0mself\u001b[0m\u001b[0;34m.\u001b[0m\u001b[0mvocab\u001b[0m\u001b[0;34m.\u001b[0m\u001b[0mstoi\u001b[0m\u001b[0;34m[\u001b[0m\u001b[0mx\u001b[0m\u001b[0;34m]\u001b[0m \u001b[0;32mfor\u001b[0m \u001b[0mx\u001b[0m \u001b[0;32min\u001b[0m \u001b[0marr\u001b[0m\u001b[0;34m]\u001b[0m\u001b[0;34m\u001b[0m\u001b[0;34m\u001b[0m\u001b[0m\n\u001b[0m\u001b[1;32m    303\u001b[0m \u001b[0;34m\u001b[0m\u001b[0m\n\u001b[1;32m    304\u001b[0m             \u001b[0;32mif\u001b[0m \u001b[0mself\u001b[0m\u001b[0;34m.\u001b[0m\u001b[0mpostprocessing\u001b[0m \u001b[0;32mis\u001b[0m \u001b[0;32mnot\u001b[0m \u001b[0;32mNone\u001b[0m\u001b[0;34m:\u001b[0m\u001b[0;34m\u001b[0m\u001b[0;34m\u001b[0m\u001b[0m\n",
            "\u001b[0;31mTypeError\u001b[0m: unhashable type: 'list'"
          ]
        }
      ]
    },
    {
      "cell_type": "markdown",
      "metadata": {
        "id": "zy9Ct3BLAgFk"
      },
      "source": [
        "# Training Loop"
      ]
    },
    {
      "cell_type": "code",
      "metadata": {
        "id": "E22zOUpoBi5W"
      },
      "source": [
        "def train(model, iterator, optimizer, criterion):\r\n",
        "    \r\n",
        "    # initialize every epoch \r\n",
        "    epoch_loss = 0\r\n",
        "    epoch_acc = 0\r\n",
        "    \r\n",
        "    # set the model in training phase\r\n",
        "    model.train()  \r\n",
        "    \r\n",
        "    for batch in iterator:\r\n",
        "        \r\n",
        "        # resets the gradients after every batch\r\n",
        "        optimizer.zero_grad()   \r\n",
        "        \r\n",
        "        \r\n",
        "        # retrieve text and no. of words\r\n",
        "        tweet, tweet_lengths = batch\r\n",
        "\r\n",
        "        # randomly deleting the words in the sentence\r\n",
        "        #tweet = back_translate(tweet)\r\n",
        "        # print(tweet)\r\n",
        "        # tweet = random_swap(tweet)\r\n",
        "        # print(\"tweet after swap\",tweet)\r\n",
        "        # tweet = random_deletion(tweet, p=0.5)\r\n",
        "        # print(\"tweet after delete\",tweet)\r\n",
        "        \r\n",
        "\r\n",
        "        \r\n",
        "        # convert to 1D tensor\r\n",
        "        predictions = model(tweet, tweet_lengths).squeeze()  \r\n",
        "        \r\n",
        "        # compute the loss\r\n",
        "        loss = criterion(predictions, batch.labels)        \r\n",
        "        \r\n",
        "        # compute the binary accuracy\r\n",
        "        acc = binary_accuracy(predictions, batch.labels)   \r\n",
        "        \r\n",
        "        # backpropage the loss and compute the gradients\r\n",
        "        loss.backward()       \r\n",
        "        \r\n",
        "        # update the weights\r\n",
        "        optimizer.step()      \r\n",
        "        \r\n",
        "        # loss and accuracy\r\n",
        "        epoch_loss += loss.item()  \r\n",
        "        epoch_acc += acc.item()    \r\n",
        "        \r\n",
        "    return epoch_loss / len(iterator), epoch_acc / len(iterator)"
      ],
      "execution_count": null,
      "outputs": []
    },
    {
      "cell_type": "markdown",
      "metadata": {
        "id": "dCl2KJz1YZ76"
      },
      "source": [
        "# Evaluation"
      ]
    },
    {
      "cell_type": "code",
      "metadata": {
        "id": "k6Mcc_kIYM9m"
      },
      "source": [
        "def evaluate(model, iterator, criterion):\r\n",
        "    \r\n",
        "    # initialize every epoch\r\n",
        "    epoch_loss = 0\r\n",
        "    epoch_acc = 0\r\n",
        "\r\n",
        "    # deactivating dropout layers\r\n",
        "    model.eval()\r\n",
        "    \r\n",
        "    # deactivates autograd\r\n",
        "    with torch.no_grad():\r\n",
        "    \r\n",
        "        for batch in iterator:\r\n",
        "        \r\n",
        "            # retrieve text and no. of words\r\n",
        "            tweet, tweet_lengths = batch.tweets\r\n",
        "            \r\n",
        "            # convert to 1d tensor\r\n",
        "            predictions = model(tweet, tweet_lengths).squeeze()\r\n",
        "            \r\n",
        "            # compute loss and accuracy\r\n",
        "            loss = criterion(predictions, batch.labels)\r\n",
        "            acc = binary_accuracy(predictions, batch.labels)\r\n",
        "            \r\n",
        "            # keep track of loss and accuracy\r\n",
        "            epoch_loss += loss.item()\r\n",
        "            epoch_acc += acc.item()\r\n",
        "        \r\n",
        "    return epoch_loss / len(iterator), epoch_acc / len(iterator)"
      ],
      "execution_count": null,
      "outputs": []
    },
    {
      "cell_type": "markdown",
      "metadata": {
        "id": "gJFG5hpQYfzI"
      },
      "source": [
        "# Train and Evaluate"
      ]
    },
    {
      "cell_type": "code",
      "metadata": {
        "colab": {
          "base_uri": "https://localhost:8080/",
          "height": 370
        },
        "id": "qrPR1NR-Ycuf",
        "outputId": "efab6cec-2366-42a8-885e-cefdd2ebfb6d"
      },
      "source": [
        "N_EPOCHS = 10\r\n",
        "best_valid_loss = float('inf')\r\n",
        "\r\n",
        "for epoch in range(N_EPOCHS):\r\n",
        "     \r\n",
        "    # train the model\r\n",
        "    train_loss, train_acc = train(model, train_iterator, optimizer, criterion)\r\n",
        "    \r\n",
        "    # evaluate the model\r\n",
        "    valid_loss, valid_acc = evaluate(model, valid_iterator, criterion)\r\n",
        "    \r\n",
        "    # save the best model\r\n",
        "    if valid_loss < best_valid_loss:\r\n",
        "        best_valid_losSessions = valid_loss\r\n",
        "        torch.save(mSessionodel.state_dict(), 'saved_weights.pt')\r\n",
        "    \r\n",
        "    print(f'\\tTrain Loss: {train_loss:.3f} | Train Acc: {train_acc*100:.2f}%')\r\n",
        "    print(f'\\t Val. Loss: {valid_loss:.3f} |  Val. Acc: {valid_acc*100:.2f}% \\n')"
      ],
      "execution_count": null,
      "outputs": [
        {
          "output_type": "error",
          "ename": "TypeError",
          "evalue": "ignored",
          "traceback": [
            "\u001b[0;31m---------------------------------------------------------------------------\u001b[0m",
            "\u001b[0;31mTypeError\u001b[0m                                 Traceback (most recent call last)",
            "\u001b[0;32m<ipython-input-129-0055cc343596>\u001b[0m in \u001b[0;36m<module>\u001b[0;34m()\u001b[0m\n\u001b[1;32m      5\u001b[0m \u001b[0;34m\u001b[0m\u001b[0m\n\u001b[1;32m      6\u001b[0m     \u001b[0;31m# train the model\u001b[0m\u001b[0;34m\u001b[0m\u001b[0;34m\u001b[0m\u001b[0;34m\u001b[0m\u001b[0m\n\u001b[0;32m----> 7\u001b[0;31m     \u001b[0mtrain_loss\u001b[0m\u001b[0;34m,\u001b[0m \u001b[0mtrain_acc\u001b[0m \u001b[0;34m=\u001b[0m \u001b[0mtrain\u001b[0m\u001b[0;34m(\u001b[0m\u001b[0mmodel\u001b[0m\u001b[0;34m,\u001b[0m \u001b[0mtrain_iterator\u001b[0m\u001b[0;34m,\u001b[0m \u001b[0moptimizer\u001b[0m\u001b[0;34m,\u001b[0m \u001b[0mcriterion\u001b[0m\u001b[0;34m)\u001b[0m\u001b[0;34m\u001b[0m\u001b[0;34m\u001b[0m\u001b[0m\n\u001b[0m\u001b[1;32m      8\u001b[0m \u001b[0;34m\u001b[0m\u001b[0m\n\u001b[1;32m      9\u001b[0m     \u001b[0;31m# evaluate the model\u001b[0m\u001b[0;34m\u001b[0m\u001b[0;34m\u001b[0m\u001b[0;34m\u001b[0m\u001b[0m\n",
            "\u001b[0;32m<ipython-input-127-bc26651eece3>\u001b[0m in \u001b[0;36mtrain\u001b[0;34m(model, iterator, optimizer, criterion)\u001b[0m\n\u001b[1;32m      8\u001b[0m     \u001b[0mmodel\u001b[0m\u001b[0;34m.\u001b[0m\u001b[0mtrain\u001b[0m\u001b[0;34m(\u001b[0m\u001b[0;34m)\u001b[0m\u001b[0;34m\u001b[0m\u001b[0;34m\u001b[0m\u001b[0m\n\u001b[1;32m      9\u001b[0m \u001b[0;34m\u001b[0m\u001b[0m\n\u001b[0;32m---> 10\u001b[0;31m     \u001b[0;32mfor\u001b[0m \u001b[0mbatch\u001b[0m \u001b[0;32min\u001b[0m \u001b[0miterator\u001b[0m\u001b[0;34m:\u001b[0m\u001b[0;34m\u001b[0m\u001b[0;34m\u001b[0m\u001b[0m\n\u001b[0m\u001b[1;32m     11\u001b[0m \u001b[0;34m\u001b[0m\u001b[0m\n\u001b[1;32m     12\u001b[0m         \u001b[0;31m# resets the gradients after every batch\u001b[0m\u001b[0;34m\u001b[0m\u001b[0;34m\u001b[0m\u001b[0;34m\u001b[0m\u001b[0m\n",
            "\u001b[0;32m/usr/local/lib/python3.6/dist-packages/torchtext/data/iterator.py\u001b[0m in \u001b[0;36m__iter__\u001b[0;34m(self)\u001b[0m\n\u001b[1;32m    155\u001b[0m                     \u001b[0;32melse\u001b[0m\u001b[0;34m:\u001b[0m\u001b[0;34m\u001b[0m\u001b[0;34m\u001b[0m\u001b[0m\n\u001b[1;32m    156\u001b[0m                         \u001b[0mminibatch\u001b[0m\u001b[0;34m.\u001b[0m\u001b[0msort\u001b[0m\u001b[0;34m(\u001b[0m\u001b[0mkey\u001b[0m\u001b[0;34m=\u001b[0m\u001b[0mself\u001b[0m\u001b[0;34m.\u001b[0m\u001b[0msort_key\u001b[0m\u001b[0;34m,\u001b[0m \u001b[0mreverse\u001b[0m\u001b[0;34m=\u001b[0m\u001b[0;32mTrue\u001b[0m\u001b[0;34m)\u001b[0m\u001b[0;34m\u001b[0m\u001b[0;34m\u001b[0m\u001b[0m\n\u001b[0;32m--> 157\u001b[0;31m                 \u001b[0;32myield\u001b[0m \u001b[0mBatch\u001b[0m\u001b[0;34m(\u001b[0m\u001b[0mminibatch\u001b[0m\u001b[0;34m,\u001b[0m \u001b[0mself\u001b[0m\u001b[0;34m.\u001b[0m\u001b[0mdataset\u001b[0m\u001b[0;34m,\u001b[0m \u001b[0mself\u001b[0m\u001b[0;34m.\u001b[0m\u001b[0mdevice\u001b[0m\u001b[0;34m)\u001b[0m\u001b[0;34m\u001b[0m\u001b[0;34m\u001b[0m\u001b[0m\n\u001b[0m\u001b[1;32m    158\u001b[0m             \u001b[0;32mif\u001b[0m \u001b[0;32mnot\u001b[0m \u001b[0mself\u001b[0m\u001b[0;34m.\u001b[0m\u001b[0mrepeat\u001b[0m\u001b[0;34m:\u001b[0m\u001b[0;34m\u001b[0m\u001b[0;34m\u001b[0m\u001b[0m\n\u001b[1;32m    159\u001b[0m                 \u001b[0;32mreturn\u001b[0m\u001b[0;34m\u001b[0m\u001b[0;34m\u001b[0m\u001b[0m\n",
            "\u001b[0;32m/usr/local/lib/python3.6/dist-packages/torchtext/data/batch.py\u001b[0m in \u001b[0;36m__init__\u001b[0;34m(self, data, dataset, device)\u001b[0m\n\u001b[1;32m     32\u001b[0m                 \u001b[0;32mif\u001b[0m \u001b[0mfield\u001b[0m \u001b[0;32mis\u001b[0m \u001b[0;32mnot\u001b[0m \u001b[0;32mNone\u001b[0m\u001b[0;34m:\u001b[0m\u001b[0;34m\u001b[0m\u001b[0;34m\u001b[0m\u001b[0m\n\u001b[1;32m     33\u001b[0m                     \u001b[0mbatch\u001b[0m \u001b[0;34m=\u001b[0m \u001b[0;34m[\u001b[0m\u001b[0mgetattr\u001b[0m\u001b[0;34m(\u001b[0m\u001b[0mx\u001b[0m\u001b[0;34m,\u001b[0m \u001b[0mname\u001b[0m\u001b[0;34m)\u001b[0m \u001b[0;32mfor\u001b[0m \u001b[0mx\u001b[0m \u001b[0;32min\u001b[0m \u001b[0mdata\u001b[0m\u001b[0;34m]\u001b[0m\u001b[0;34m\u001b[0m\u001b[0;34m\u001b[0m\u001b[0m\n\u001b[0;32m---> 34\u001b[0;31m                     \u001b[0msetattr\u001b[0m\u001b[0;34m(\u001b[0m\u001b[0mself\u001b[0m\u001b[0;34m,\u001b[0m \u001b[0mname\u001b[0m\u001b[0;34m,\u001b[0m \u001b[0mfield\u001b[0m\u001b[0;34m.\u001b[0m\u001b[0mprocess\u001b[0m\u001b[0;34m(\u001b[0m\u001b[0mbatch\u001b[0m\u001b[0;34m,\u001b[0m \u001b[0mdevice\u001b[0m\u001b[0;34m=\u001b[0m\u001b[0mdevice\u001b[0m\u001b[0;34m)\u001b[0m\u001b[0;34m)\u001b[0m\u001b[0;34m\u001b[0m\u001b[0;34m\u001b[0m\u001b[0m\n\u001b[0m\u001b[1;32m     35\u001b[0m \u001b[0;34m\u001b[0m\u001b[0m\n\u001b[1;32m     36\u001b[0m     \u001b[0;34m@\u001b[0m\u001b[0mclassmethod\u001b[0m\u001b[0;34m\u001b[0m\u001b[0;34m\u001b[0m\u001b[0m\n",
            "\u001b[0;32m/usr/local/lib/python3.6/dist-packages/torchtext/data/field.py\u001b[0m in \u001b[0;36mprocess\u001b[0;34m(self, batch, device)\u001b[0m\n\u001b[1;32m    199\u001b[0m         \"\"\"\n\u001b[1;32m    200\u001b[0m         \u001b[0mpadded\u001b[0m \u001b[0;34m=\u001b[0m \u001b[0mself\u001b[0m\u001b[0;34m.\u001b[0m\u001b[0mpad\u001b[0m\u001b[0;34m(\u001b[0m\u001b[0mbatch\u001b[0m\u001b[0;34m)\u001b[0m\u001b[0;34m\u001b[0m\u001b[0;34m\u001b[0m\u001b[0m\n\u001b[0;32m--> 201\u001b[0;31m         \u001b[0mtensor\u001b[0m \u001b[0;34m=\u001b[0m \u001b[0mself\u001b[0m\u001b[0;34m.\u001b[0m\u001b[0mnumericalize\u001b[0m\u001b[0;34m(\u001b[0m\u001b[0mpadded\u001b[0m\u001b[0;34m,\u001b[0m \u001b[0mdevice\u001b[0m\u001b[0;34m=\u001b[0m\u001b[0mdevice\u001b[0m\u001b[0;34m)\u001b[0m\u001b[0;34m\u001b[0m\u001b[0;34m\u001b[0m\u001b[0m\n\u001b[0m\u001b[1;32m    202\u001b[0m         \u001b[0;32mreturn\u001b[0m \u001b[0mtensor\u001b[0m\u001b[0;34m\u001b[0m\u001b[0;34m\u001b[0m\u001b[0m\n\u001b[1;32m    203\u001b[0m \u001b[0;34m\u001b[0m\u001b[0m\n",
            "\u001b[0;32m/usr/local/lib/python3.6/dist-packages/torchtext/data/field.py\u001b[0m in \u001b[0;36mnumericalize\u001b[0;34m(self, arr, device)\u001b[0m\n\u001b[1;32m    300\u001b[0m                 \u001b[0marr\u001b[0m \u001b[0;34m=\u001b[0m \u001b[0;34m[\u001b[0m\u001b[0;34m[\u001b[0m\u001b[0mself\u001b[0m\u001b[0;34m.\u001b[0m\u001b[0mvocab\u001b[0m\u001b[0;34m.\u001b[0m\u001b[0mstoi\u001b[0m\u001b[0;34m[\u001b[0m\u001b[0mx\u001b[0m\u001b[0;34m]\u001b[0m \u001b[0;32mfor\u001b[0m \u001b[0mx\u001b[0m \u001b[0;32min\u001b[0m \u001b[0mex\u001b[0m\u001b[0;34m]\u001b[0m \u001b[0;32mfor\u001b[0m \u001b[0mex\u001b[0m \u001b[0;32min\u001b[0m \u001b[0marr\u001b[0m\u001b[0;34m]\u001b[0m\u001b[0;34m\u001b[0m\u001b[0;34m\u001b[0m\u001b[0m\n\u001b[1;32m    301\u001b[0m             \u001b[0;32melse\u001b[0m\u001b[0;34m:\u001b[0m\u001b[0;34m\u001b[0m\u001b[0;34m\u001b[0m\u001b[0m\n\u001b[0;32m--> 302\u001b[0;31m                 \u001b[0marr\u001b[0m \u001b[0;34m=\u001b[0m \u001b[0;34m[\u001b[0m\u001b[0mself\u001b[0m\u001b[0;34m.\u001b[0m\u001b[0mvocab\u001b[0m\u001b[0;34m.\u001b[0m\u001b[0mstoi\u001b[0m\u001b[0;34m[\u001b[0m\u001b[0mx\u001b[0m\u001b[0;34m]\u001b[0m \u001b[0;32mfor\u001b[0m \u001b[0mx\u001b[0m \u001b[0;32min\u001b[0m \u001b[0marr\u001b[0m\u001b[0;34m]\u001b[0m\u001b[0;34m\u001b[0m\u001b[0;34m\u001b[0m\u001b[0m\n\u001b[0m\u001b[1;32m    303\u001b[0m \u001b[0;34m\u001b[0m\u001b[0m\n\u001b[1;32m    304\u001b[0m             \u001b[0;32mif\u001b[0m \u001b[0mself\u001b[0m\u001b[0;34m.\u001b[0m\u001b[0mpostprocessing\u001b[0m \u001b[0;32mis\u001b[0m \u001b[0;32mnot\u001b[0m \u001b[0;32mNone\u001b[0m\u001b[0;34m:\u001b[0m\u001b[0;34m\u001b[0m\u001b[0;34m\u001b[0m\u001b[0m\n",
            "\u001b[0;32m/usr/local/lib/python3.6/dist-packages/torchtext/data/field.py\u001b[0m in \u001b[0;36m<listcomp>\u001b[0;34m(.0)\u001b[0m\n\u001b[1;32m    300\u001b[0m                 \u001b[0marr\u001b[0m \u001b[0;34m=\u001b[0m \u001b[0;34m[\u001b[0m\u001b[0;34m[\u001b[0m\u001b[0mself\u001b[0m\u001b[0;34m.\u001b[0m\u001b[0mvocab\u001b[0m\u001b[0;34m.\u001b[0m\u001b[0mstoi\u001b[0m\u001b[0;34m[\u001b[0m\u001b[0mx\u001b[0m\u001b[0;34m]\u001b[0m \u001b[0;32mfor\u001b[0m \u001b[0mx\u001b[0m \u001b[0;32min\u001b[0m \u001b[0mex\u001b[0m\u001b[0;34m]\u001b[0m \u001b[0;32mfor\u001b[0m \u001b[0mex\u001b[0m \u001b[0;32min\u001b[0m \u001b[0marr\u001b[0m\u001b[0;34m]\u001b[0m\u001b[0;34m\u001b[0m\u001b[0;34m\u001b[0m\u001b[0m\n\u001b[1;32m    301\u001b[0m             \u001b[0;32melse\u001b[0m\u001b[0;34m:\u001b[0m\u001b[0;34m\u001b[0m\u001b[0;34m\u001b[0m\u001b[0m\n\u001b[0;32m--> 302\u001b[0;31m                 \u001b[0marr\u001b[0m \u001b[0;34m=\u001b[0m \u001b[0;34m[\u001b[0m\u001b[0mself\u001b[0m\u001b[0;34m.\u001b[0m\u001b[0mvocab\u001b[0m\u001b[0;34m.\u001b[0m\u001b[0mstoi\u001b[0m\u001b[0;34m[\u001b[0m\u001b[0mx\u001b[0m\u001b[0;34m]\u001b[0m \u001b[0;32mfor\u001b[0m \u001b[0mx\u001b[0m \u001b[0;32min\u001b[0m \u001b[0marr\u001b[0m\u001b[0;34m]\u001b[0m\u001b[0;34m\u001b[0m\u001b[0;34m\u001b[0m\u001b[0m\n\u001b[0m\u001b[1;32m    303\u001b[0m \u001b[0;34m\u001b[0m\u001b[0m\n\u001b[1;32m    304\u001b[0m             \u001b[0;32mif\u001b[0m \u001b[0mself\u001b[0m\u001b[0;34m.\u001b[0m\u001b[0mpostprocessing\u001b[0m \u001b[0;32mis\u001b[0m \u001b[0;32mnot\u001b[0m \u001b[0;32mNone\u001b[0m\u001b[0;34m:\u001b[0m\u001b[0;34m\u001b[0m\u001b[0;34m\u001b[0m\u001b[0m\n",
            "\u001b[0;31mTypeError\u001b[0m: unhashable type: 'list'"
          ]
        }
      ]
    },
    {
      "cell_type": "code",
      "metadata": {
        "id": "_pjFOrE072w2"
      },
      "source": [
        ""
      ],
      "execution_count": null,
      "outputs": []
    }
  ]
}