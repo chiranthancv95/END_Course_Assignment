{
  "nbformat": 4,
  "nbformat_minor": 0,
  "metadata": {
    "colab": {
      "name": "Final Updated sentiment analysis MV END4.ipynb",
      "provenance": [],
      "collapsed_sections": []
    },
    "kernelspec": {
      "name": "python3",
      "display_name": "Python 3"
    },
    "accelerator": "GPU"
  },
  "cells": [
    {
      "cell_type": "code",
      "metadata": {
        "id": "DvipK_z7vD5T",
        "colab": {
          "base_uri": "https://localhost:8080/"
        },
        "outputId": "48aec3fc-b4aa-4883-9768-bf3a2fcab770"
      },
      "source": [
        "!nvidia-smi"
      ],
      "execution_count": null,
      "outputs": [
        {
          "output_type": "stream",
          "text": [
            "Thu Nov 19 18:24:49 2020       \n",
            "+-----------------------------------------------------------------------------+\n",
            "| NVIDIA-SMI 455.38       Driver Version: 418.67       CUDA Version: 10.1     |\n",
            "|-------------------------------+----------------------+----------------------+\n",
            "| GPU  Name        Persistence-M| Bus-Id        Disp.A | Volatile Uncorr. ECC |\n",
            "| Fan  Temp  Perf  Pwr:Usage/Cap|         Memory-Usage | GPU-Util  Compute M. |\n",
            "|                               |                      |               MIG M. |\n",
            "|===============================+======================+======================|\n",
            "|   0  Tesla P4            Off  | 00000000:00:04.0 Off |                    0 |\n",
            "| N/A   38C    P8     7W /  75W |      0MiB /  7611MiB |      0%      Default |\n",
            "|                               |                      |                 ERR! |\n",
            "+-------------------------------+----------------------+----------------------+\n",
            "                                                                               \n",
            "+-----------------------------------------------------------------------------+\n",
            "| Processes:                                                                  |\n",
            "|  GPU   GI   CI        PID   Type   Process name                  GPU Memory |\n",
            "|        ID   ID                                                   Usage      |\n",
            "|=============================================================================|\n",
            "|  No running processes found                                                 |\n",
            "+-----------------------------------------------------------------------------+\n"
          ],
          "name": "stdout"
        }
      ]
    },
    {
      "cell_type": "markdown",
      "metadata": {
        "id": "DN2fyxgZsaNp"
      },
      "source": [
        "2 - Updated Sentiment Analysis\n",
        "In the previous notebook, we got the fundamentals down for sentiment analysis. In this notebook, we'll actually get decent results.\n",
        "\n",
        "We will use:\n",
        "\n",
        "packed padded sequences\n",
        "pre-trained word embeddings\n",
        "different RNN architecture\n",
        "bidirectional RNN\n",
        "multi-layer RNN\n",
        "regularization\n",
        "a different optimizer\n",
        "This will allow us to achieve ~84% test accuracy.\n",
        "\n",
        "Preparing Data\n",
        "As before, we'll set the seed, define the Fields and get the train/valid/test splits.\n",
        "\n",
        "We'll be using packed padded sequences, which will make our RNN only process the non-padded elements of our sequence, and for any padded element the output will be a zero tensor. To use packed padded sequences, we have to tell the RNN how long the actual sequences are. We do this by setting include_lengths = True for our TEXT field. This will cause batch.text to now be a tuple with the first element being our sentence (a numericalized tensor that has been padded) and the second element being the actual lengths of our sentences."
      ]
    },
    {
      "cell_type": "code",
      "metadata": {
        "id": "FjDE4Z9nsXFK"
      },
      "source": [
        "import torch\n",
        "from torchtext import data\n",
        "from torchtext import datasets\n",
        "\n",
        "SEED = 1234\n",
        "\n",
        "torch.manual_seed(SEED)\n",
        "torch.backends.cudnn.deterministic = True\n",
        "\n",
        "TEXT = data.Field(tokenize = 'spacy', include_lengths = True)\n",
        "LABEL = data.LabelField(dtype = torch.float)"
      ],
      "execution_count": null,
      "outputs": []
    },
    {
      "cell_type": "markdown",
      "metadata": {
        "id": "WMBCur44shC8"
      },
      "source": [
        "Load IMDB dataset"
      ]
    },
    {
      "cell_type": "code",
      "metadata": {
        "id": "pPR0X3APsjnd",
        "colab": {
          "base_uri": "https://localhost:8080/"
        },
        "outputId": "8d764f0f-9d31-4b09-df0f-362a36c02c95"
      },
      "source": [
        "from torchtext import datasets\n",
        "\n",
        "train_data, test_data = datasets.IMDB.splits(TEXT, LABEL)"
      ],
      "execution_count": null,
      "outputs": [
        {
          "output_type": "stream",
          "text": [
            "downloading aclImdb_v1.tar.gz\n"
          ],
          "name": "stdout"
        },
        {
          "output_type": "stream",
          "text": [
            "aclImdb_v1.tar.gz: 100%|██████████| 84.1M/84.1M [00:08<00:00, 9.91MB/s]\n"
          ],
          "name": "stderr"
        }
      ]
    },
    {
      "cell_type": "markdown",
      "metadata": {
        "id": "hQ3G1jO6sjMy"
      },
      "source": [
        "\n",
        "Then create the validation set from our training set."
      ]
    },
    {
      "cell_type": "code",
      "metadata": {
        "id": "QscwyGyIsppE"
      },
      "source": [
        "import random\n",
        "\n",
        "train_data, valid_data = train_data.split(random_state = random.seed(SEED))"
      ],
      "execution_count": null,
      "outputs": []
    },
    {
      "cell_type": "markdown",
      "metadata": {
        "id": "qYyi7JVDssHx"
      },
      "source": [
        "Next is the use of pre-trained word embeddings. Now, instead of having our word embeddings initialized randomly, they are initialized with these pre-trained vectors. We get these vectors simply by specifying which vectors we want and passing it as an argument to build_vocab. TorchText handles downloading the vectors and associating them with the correct words in our vocabulary.\n",
        "\n",
        "Here, we'll be using the \"glove.6B.100d\" vectors\". glove is the algorithm used to calculate the vectors, go here for more. 6B indicates these vectors were trained on 6 billion tokens and 100d indicates these vectors are 100-dimensional.\n",
        "\n",
        "You can see the other available vectors here.\n",
        "\n",
        "The theory is that these pre-trained vectors already have words with similar semantic meaning close together in vector space, e.g. \"terrible\", \"awful\", \"dreadful\" are nearby. This gives our embedding layer a good initialization as it does not have to learn these relations from scratch.\n",
        "\n",
        "Note: these vectors are about 862MB, so watch out if you have a limited internet connection.\n",
        "\n",
        "By default, TorchText will initialize words in your vocabulary but not in your pre-trained embeddings to zero. We don't want this, and instead initialize them randomly by setting unk_init to torch.Tensor.normal_. This will now initialize those words via a Gaussian distribution."
      ]
    },
    {
      "cell_type": "code",
      "metadata": {
        "id": "Dqw2kva9suki",
        "colab": {
          "base_uri": "https://localhost:8080/"
        },
        "outputId": "5fd0e097-c45f-4f19-b119-110aa6cc6d7b"
      },
      "source": [
        "MAX_VOCAB_SIZE = 25_000\n",
        "\n",
        "TEXT.build_vocab(train_data, \n",
        "                 max_size = MAX_VOCAB_SIZE, \n",
        "                 vectors = \"glove.6B.200d\", \n",
        "                 unk_init = torch.Tensor.normal_)\n",
        "\n",
        "LABEL.build_vocab(train_data)"
      ],
      "execution_count": null,
      "outputs": [
        {
          "output_type": "stream",
          "text": [
            ".vector_cache/glove.6B.zip: 862MB [06:53, 2.08MB/s]                           \n",
            "100%|█████████▉| 399445/400000 [00:26<00:00, 14412.27it/s]"
          ],
          "name": "stderr"
        }
      ]
    },
    {
      "cell_type": "markdown",
      "metadata": {
        "id": "FVDtxGw1swgU"
      },
      "source": [
        "As before, we create the iterators, placing the tensors on the GPU if one is available.\n",
        "\n",
        "Another thing for packed padded sequences all of the tensors within a batch need to be sorted by their lengths. This is handled in the iterator by setting sort_within_batch = True."
      ]
    },
    {
      "cell_type": "code",
      "metadata": {
        "id": "v6zZcWNPsyoh"
      },
      "source": [
        "BATCH_SIZE = 64\n",
        "\n",
        "device = torch.device('cuda' if torch.cuda.is_available() else 'cpu')\n",
        "\n",
        "train_iterator, valid_iterator, test_iterator = data.BucketIterator.splits(\n",
        "    (train_data, valid_data, test_data), \n",
        "    batch_size = BATCH_SIZE,\n",
        "    sort_within_batch = False,\n",
        "    device = device)"
      ],
      "execution_count": null,
      "outputs": []
    },
    {
      "cell_type": "markdown",
      "metadata": {
        "id": "Q25DTHyFs187"
      },
      "source": [
        "Build the Model\n",
        "The model features the most drastic changes.\n",
        "\n",
        "Different RNN Architecture\n",
        "We'll be using a different RNN architecture called a Long Short-Term Memory (LSTM). Why is an LSTM better than a standard RNN? Standard RNNs suffer from the vanishing gradient problem. LSTMs overcome this by having an extra recurrent state called a cell, $c$ - which can be thought of as the \"memory\" of the LSTM - and the use use multiple gates which control the flow of information into and out of the memory. For more information, go here. We can simply think of the LSTM as a function of $x_t$, $h_t$ and $c_t$, instead of just $x_t$ and $h_t$.\n",
        "\n",
        "$$(h_t, c_t) = \\text{LSTM}(x_t, h_t, c_t)$$\n",
        "Thus, the model using an LSTM looks something like (with the embedding layers omitted):\n",
        "\n",
        "\n",
        "\n",
        "The initial cell state, $c_0$, like the initial hidden state is initialized to a tensor of all zeros. The sentiment prediction is still, however, only made using the final hidden state, not the final cell state, i.e. $\\hat{y}=f(h_T)$.\n",
        "\n",
        "Bidirectional RNN¶\n",
        "The concept behind a bidirectional RNN is simple. As well as having an RNN processing the words in the sentence from the first to the last (a forward RNN), we have a second RNN processing the words in the sentence from the last to the first (a backward RNN). At time step $t$, the forward RNN is processing word $x_t$, and the backward RNN is processing word $x_{T-t+1}$.\n",
        "\n",
        "In PyTorch, the hidden state (and cell state) tensors returned by the forward and backward RNNs are stacked on top of each other in a single tensor.\n",
        "\n",
        "We make our sentiment prediction using a concatenation of the last hidden state from the forward RNN (obtained from final word of the sentence), $h_T^\\rightarrow$, and the last hidden state from the backward RNN (obtained from the first word of the sentence), $h_T^\\leftarrow$, i.e. $\\hat{y}=f(h_T^\\rightarrow, h_T^\\leftarrow)$\n",
        "\n",
        "The image below shows a bi-directional RNN, with the forward RNN in orange, the backward RNN in green and the linear layer in silver.\n",
        "\n",
        "\n",
        "\n",
        "Multi-layer RNN\n",
        "Multi-layer RNNs (also called deep RNNs) are another simple concept. The idea is that we add additional RNNs on top of the initial standard RNN, where each RNN added is another layer. The hidden state output by the first (bottom) RNN at time-step $t$ will be the input to the RNN above it at time step $t$. The prediction is then made from the final hidden state of the final (highest) layer.\n",
        "\n",
        "The image below shows a multi-layer unidirectional RNN, where the layer number is given as a superscript. Also note that each layer needs their own initial hidden state, $h_0^L$.\n",
        "\n",
        "\n",
        "\n",
        "Regularization\n",
        "Although we've added improvements to our model, each one adds additional parameters. Without going into overfitting into too much detail, the more parameters you have in in your model, the higher the probability that your model will overfit (memorize the training data, causing a low training error but high validation/testing error, i.e. poor generalization to new, unseen examples). To combat this, we use regularization. More specifically, we use a method of regularization called dropout. Dropout works by randomly dropping out (setting to 0) neurons in a layer during a forward pass. The probability that each neuron is dropped out is set by a hyperparameter and each neuron with dropout applied is considered indepenently. One theory about why dropout works is that a model with parameters dropped out can be seen as a \"weaker\" (less parameters) model. The predictions from all these \"weaker\" models (one for each forward pass) get averaged together withinin the parameters of the model. Thus, your one model can be thought of as an ensemble of weaker models, none of which are over-parameterized and thus should not overfit.\n",
        "\n",
        "Implementation Details\n",
        "Another addition to this model is that we are not going to learn the embedding for the <pad> token. This is because we want to explitictly tell our model that padding tokens are irrelevant to determining the sentiment of a sentence. This means the embedding for the pad token will remain at what it is initialized to (we initialize it to all zeros later). We do this by passing the index of our pad token as the padding_idx argument to the nn.Embedding layer.\n",
        "\n",
        "To use an LSTM instead of the standard RNN, we use nn.LSTM instead of nn.RNN. Also, note that the LSTM returns the output and a tuple of the final hidden state and the final cell state, whereas the standard RNN only returned the output and final hidden state.\n",
        "\n",
        "As the final hidden state of our LSTM has both a forward and a backward component, which will be concatenated together, the size of the input to the nn.Linear layer is twice that of the hidden dimension size.\n",
        "\n",
        "Implementing bidirectionality and adding additional layers are done by passing values for the num_layers and bidirectional arguments for the RNN/LSTM.\n",
        "\n",
        "Dropout is implemented by initializing an nn.Dropout layer (the argument is the probability of dropping out each neuron) and using it within the forward method after each layer we want to apply dropout to. Note: never use dropout on the input or output layers (text or fc in this case), you only ever want to use dropout on intermediate layers. The LSTM has a dropout argument which adds dropout on the connections between hidden states in one layer to hidden states in the next layer.\n",
        "\n",
        "As we are passing the lengths of our sentences to be able to use packed padded sequences, we have to add a second argument, text_lengths, to forward.\n",
        "\n",
        "Before we pass our embeddings to the RNN, we need to pack them, which we do with nn.utils.rnn.packed_padded_sequence. This will cause our RNN to only process the non-padded elements of our sequence. The RNN will then return packed_output (a packed sequence) as well as the hidden and cell states (both of which are tensors). Without packed padded sequences, hidden and cell are tensors from the last element in the sequence, which will most probably be a pad token, however when using packed padded sequences they are both from the last non-padded element in the sequence.\n",
        "\n",
        "We then unpack the output sequence, with nn.utils.rnn.pad_packed_sequence, to transform it from a packed sequence to a tensor. The elements of output from padding tokens will be zero tensors (tensors where every element is zero). Usually, we only have to unpack output if we are going to use it later on in the model. Although we aren't in this case, we still unpack the sequence just to show how it is done.\n",
        "\n",
        "The final hidden state, hidden, has a shape of [num layers * num directions, batch size, hid dim]. These are ordered: [forward_layer_0, backward_layer_0, forward_layer_1, backward_layer 1, ..., forward_layer_n, backward_layer n]. As we want the final (top) layer forward and backward hidden states, we get the top two hidden layers from the first dimension, hidden[-2,:,:] and hidden[-1,:,:], and concatenate them together before passing them to the linear layer (after applying dropout)."
      ]
    },
    {
      "cell_type": "code",
      "metadata": {
        "id": "9XYLQ0z4s1eG"
      },
      "source": [
        "import torch.nn as nn\n",
        "\n",
        "class RNN(nn.Module):\n",
        "    def __init__(self, vocab_size, embedding_dim, hidden_dim, output_dim, \n",
        "                 bidirectional, dropout, pad_idx):\n",
        "        \n",
        "        super().__init__()\n",
        "        \n",
        "        self.embedding = nn.Embedding(vocab_size, embedding_dim, padding_idx = pad_idx)\n",
        "        #changed this code to represent three  LSTM \n",
        "        self.rnns = nn.ModuleList([\n",
        "                      nn.LSTM(embedding_dim, \n",
        "                           hidden_dim,\n",
        "                           bidirectional=bidirectional),\n",
        "\n",
        "                      nn.LSTM(hidden_dim, \n",
        "                           hidden_dim,\n",
        "                           bidirectional=bidirectional),\n",
        "\n",
        "                      nn.LSTM(hidden_dim, \n",
        "                           hidden_dim,\n",
        "                           bidirectional=bidirectional)\n",
        "        ])\n",
        "        \n",
        "        self.fc = nn.Linear(hidden_dim, output_dim)\n",
        "        \n",
        "        self.dropout = nn.Dropout(dropout)\n",
        "        \n",
        "    def forward(self, text, text_lengths):\n",
        "        \n",
        "        \n",
        "        #text = [sent len, batch size]\n",
        "        \n",
        "        embedded = self.dropout(self.embedding(text))\n",
        "        \n",
        "        #embedded = [sent len, batch size, emb dim]\n",
        "        \n",
        "        #pack sequence\n",
        "        packed_embedded = nn.utils.rnn.pack_padded_sequence(embedded, text_lengths)\n",
        "        \n",
        "        #packed_output, (hidden, cell) = self.rnn(packed_embedded)\n",
        "        \n",
        "\n",
        "        #packed_embedded = nn.utils.rnn.pack_padded_sequence(embedded, text_lengths, enforce_sorted=False)\n",
        "        \n",
        "        # packed_output, (hidden, cell) = self.rnn(packed_embedded)\n",
        "        \n",
        "        for i, rnn in enumerate(self.rnns):\n",
        "          packed_embedded, (hidden, cell) = rnn(packed_embedded)\n",
        "          self.dropout(packed_embedded.data)\n",
        "        \n",
        "        # hidden = self.dropout(torch.cat((hidden[-2,:,:], hidden[-1,:,:]), dim = 1))\n",
        "        hidden = self.dropout(hidden)\n",
        "        \n",
        "        #unpack sequence\n",
        "        #output, output_lengths = nn.utils.rnn.pad_packed_sequence(packed_output)\n",
        "\n",
        "        #output = [sent len, batch size, hid dim * num directions]\n",
        "        #output over padding tokens are zero tensors\n",
        "        \n",
        "        #hidden = [num layers * num directions, batch size, hid dim]\n",
        "        #cell = [num layers * num directions, batch size, hid dim]\n",
        "        \n",
        "        #concat the final forward (hidden[-2,:,:]) and backward (hidden[-1,:,:]) hidden layers\n",
        "        #and apply dropout\n",
        "        \n",
        "        #hidden = self.dropout(torch.cat((hidden[-2,:,:], hidden[-1,:,:]), dim = 1))\n",
        "                \n",
        "        #hidden = [batch size, hid dim * num directions]\n",
        "            \n",
        "        return self.fc(hidden)"
      ],
      "execution_count": null,
      "outputs": []
    },
    {
      "cell_type": "markdown",
      "metadata": {
        "id": "PKcOGxQ4tAPb"
      },
      "source": [
        "Like before, we'll create an instance of our RNN class, with the new parameters and arguments for the number of layers, bidirectionality and dropout probability.\n",
        "\n",
        "To ensure the pre-trained vectors can be loaded into the model, the EMBEDDING_DIM must be equal to that of the pre-trained GloVe vectors loaded earlier.\n",
        "\n",
        "We get our pad token index from the vocabulary, getting the actual string representing the pad token from the field's pad_token attribute, which is <pad> by default."
      ]
    },
    {
      "cell_type": "code",
      "metadata": {
        "id": "LFPCV9Hqs_2H"
      },
      "source": [
        "INPUT_DIM = len(TEXT.vocab)\n",
        "EMBEDDING_DIM = 200\n",
        "HIDDEN_DIM = 256\n",
        "OUTPUT_DIM = 1\n",
        "BIDIRECTIONAL = False\n",
        "DROPOUT = 0.2\n",
        "PAD_IDX = TEXT.vocab.stoi[TEXT.pad_token]\n",
        "\n",
        "model = RNN(INPUT_DIM, \n",
        "            EMBEDDING_DIM, \n",
        "            HIDDEN_DIM, \n",
        "            OUTPUT_DIM,  \n",
        "            BIDIRECTIONAL, \n",
        "            DROPOUT, \n",
        "            PAD_IDX)"
      ],
      "execution_count": null,
      "outputs": []
    },
    {
      "cell_type": "markdown",
      "metadata": {
        "id": "42XLZPO0tDGv"
      },
      "source": [
        "We'll print out the number of parameters in our model.\n",
        "\n",
        "Notice how we have almost twice as many parameters as before!"
      ]
    },
    {
      "cell_type": "code",
      "metadata": {
        "id": "2fB274OUtC7U",
        "colab": {
          "base_uri": "https://localhost:8080/"
        },
        "outputId": "800fcfc0-aaf5-481c-98cc-20f25cf36e21"
      },
      "source": [
        "def count_parameters(model):\n",
        "    return sum(p.numel() for p in model.parameters() if p.requires_grad)\n",
        "\n",
        "print(f'The model has {count_parameters(model):,} trainable parameters')"
      ],
      "execution_count": null,
      "outputs": [
        {
          "output_type": "stream",
          "text": [
            "The model has 6,522,321 trainable parameters\n"
          ],
          "name": "stdout"
        }
      ]
    },
    {
      "cell_type": "markdown",
      "metadata": {
        "id": "mmU9W2oztHbO"
      },
      "source": [
        "The final addition is copying the pre-trained word embeddings we loaded earlier into the embedding layer of our model.\n",
        "\n",
        "We retrieve the embeddings from the field's vocab, and check they're the correct size, [vocab size, embedding dim]"
      ]
    },
    {
      "cell_type": "code",
      "metadata": {
        "id": "gT32q6hitJmg",
        "colab": {
          "base_uri": "https://localhost:8080/"
        },
        "outputId": "63801d0f-4409-4ed4-b66d-2922c53594e9"
      },
      "source": [
        "pretrained_embeddings = TEXT.vocab.vectors\n",
        "\n",
        "print(pretrained_embeddings.shape)"
      ],
      "execution_count": null,
      "outputs": [
        {
          "output_type": "stream",
          "text": [
            "torch.Size([25002, 200])\n"
          ],
          "name": "stdout"
        }
      ]
    },
    {
      "cell_type": "markdown",
      "metadata": {
        "id": "zHDqPJoGtNAt"
      },
      "source": [
        "We then replace the initial weights of the embedding layer with the pre-trained embeddings.\n",
        "\n",
        "Note: this should always be done on the weight.data and not the weight!"
      ]
    },
    {
      "cell_type": "code",
      "metadata": {
        "id": "lPr0-KSgtLjC",
        "colab": {
          "base_uri": "https://localhost:8080/"
        },
        "outputId": "977f494e-357f-4b8b-a1f4-46570023bd7c"
      },
      "source": [
        "model.embedding.weight.data.copy_(pretrained_embeddings)"
      ],
      "execution_count": null,
      "outputs": [
        {
          "output_type": "execute_result",
          "data": {
            "text/plain": [
              "tensor([[-0.1117, -0.4966,  0.1631,  ..., -1.8542,  0.4022,  0.4238],\n",
              "        [ 0.2078,  1.1879, -0.7320,  ...,  1.3663, -0.4598,  0.6668],\n",
              "        [-0.0715,  0.0935,  0.0237,  ...,  0.3362,  0.0306,  0.2558],\n",
              "        ...,\n",
              "        [-0.9363,  0.2201,  0.3153,  ..., -0.0540, -0.1170, -1.5108],\n",
              "        [ 0.1048, -0.0267,  1.5091,  ..., -1.1321,  0.6641, -0.1227],\n",
              "        [ 0.3709, -0.1226,  1.4689,  ..., -0.3774,  0.5086, -0.8629]])"
            ]
          },
          "metadata": {
            "tags": []
          },
          "execution_count": 17
        }
      ]
    },
    {
      "cell_type": "markdown",
      "metadata": {
        "id": "L_qqr4j2tRc1"
      },
      "source": [
        "As our <unk> and <pad> token aren't in the pre-trained vocabulary they have been initialized using unk_init (an $\\mathcal{N}(0,1)$ distribution) when building our vocab. It is preferable to initialize them both to all zeros to explicitly tell our model that, initially, they are irrelevant for determining sentiment.\n",
        "\n",
        "We do this by manually setting their row in the embedding weights matrix to zeros. We get their row by finding the index of the tokens, which we have already done for the padding index.\n",
        "\n",
        "Note: like initializing the embeddings, this should be done on the weight.data and not the weight"
      ]
    },
    {
      "cell_type": "code",
      "metadata": {
        "id": "dqG1nWoStSFq",
        "colab": {
          "base_uri": "https://localhost:8080/"
        },
        "outputId": "9e2b7388-9b7e-4ec9-ccd4-3e689b97e7ab"
      },
      "source": [
        "UNK_IDX = TEXT.vocab.stoi[TEXT.unk_token]\n",
        "\n",
        "model.embedding.weight.data[UNK_IDX] = torch.zeros(EMBEDDING_DIM)\n",
        "model.embedding.weight.data[PAD_IDX] = torch.zeros(EMBEDDING_DIM)\n",
        "\n",
        "print(model.embedding.weight.data)"
      ],
      "execution_count": null,
      "outputs": [
        {
          "output_type": "stream",
          "text": [
            "tensor([[ 0.0000,  0.0000,  0.0000,  ...,  0.0000,  0.0000,  0.0000],\n",
            "        [ 0.0000,  0.0000,  0.0000,  ...,  0.0000,  0.0000,  0.0000],\n",
            "        [-0.0715,  0.0935,  0.0237,  ...,  0.3362,  0.0306,  0.2558],\n",
            "        ...,\n",
            "        [-0.9363,  0.2201,  0.3153,  ..., -0.0540, -0.1170, -1.5108],\n",
            "        [ 0.1048, -0.0267,  1.5091,  ..., -1.1321,  0.6641, -0.1227],\n",
            "        [ 0.3709, -0.1226,  1.4689,  ..., -0.3774,  0.5086, -0.8629]])\n"
          ],
          "name": "stdout"
        }
      ]
    },
    {
      "cell_type": "markdown",
      "metadata": {
        "id": "K34Z46qBtUeu"
      },
      "source": [
        "We can now see the first two rows of the embedding weights matrix have been set to zeros. As we passed the index of the pad token to the padding_idx of the embedding layer it will remain zeros throughout training, however the <unk> token embedding will be learned.\n",
        "\n",
        "Train the Model\n",
        "Now to training the model.\n",
        "\n",
        "The only change we'll make here is changing the optimizer from SGD to Adam. SGD updates all parameters with the same learning rate and choosing this learning rate can be tricky. Adam adapts the learning rate for each parameter, giving parameters that are updated more frequently lower learning rates and parameters that are updated infrequently higher learning rates. More information about Adam (and other optimizers) can be found here.\n",
        "\n",
        "To change SGD to Adam, we simply change optim.SGD to optim.Adam, also note how we do not have to provide an initial learning rate for Adam as PyTorch specifies a sensibile default initial learning rate."
      ]
    },
    {
      "cell_type": "code",
      "metadata": {
        "id": "tQ-H4L1FtWjH"
      },
      "source": [
        "import torch.optim as optim\n",
        "\n",
        "optimizer = optim.Adam(model.parameters())"
      ],
      "execution_count": null,
      "outputs": []
    },
    {
      "cell_type": "markdown",
      "metadata": {
        "id": "JeZB9W_KtZK2"
      },
      "source": [
        "The rest of the steps for training the model are unchanged.\n",
        "\n",
        "We define the criterion and place the model and criterion on the GPU (if available)..."
      ]
    },
    {
      "cell_type": "code",
      "metadata": {
        "id": "MSz-guPmtb2N"
      },
      "source": [
        "criterion = nn.BCEWithLogitsLoss()\n",
        "\n",
        "model = model.to(device)\n",
        "criterion = criterion.to(device)"
      ],
      "execution_count": null,
      "outputs": []
    },
    {
      "cell_type": "code",
      "metadata": {
        "id": "GFaTJuaLtfSw"
      },
      "source": [
        "def binary_accuracy(preds, y):\n",
        "    \"\"\"\n",
        "    Returns accuracy per batch, i.e. if you get 8/10 right, this returns 0.8, NOT 8\n",
        "    \"\"\"\n",
        "\n",
        "    #round predictions to the closest integer\n",
        "    rounded_preds = torch.round(torch.sigmoid(preds))\n",
        "    correct = (rounded_preds == y).float() #convert into float for division \n",
        "    acc = correct.sum() / len(correct)\n",
        "    return acc"
      ],
      "execution_count": null,
      "outputs": []
    },
    {
      "cell_type": "markdown",
      "metadata": {
        "id": "sAUFFfpkth7j"
      },
      "source": [
        "We define a function for training our model.\n",
        "\n",
        "As we have set include_lengths = True, our batch.text is now a tuple with the first element being the numericalized tensor and the second element being the actual lengths of each sequence. We separate these into their own variables, text and text_lengths, before passing them to the model.\n",
        "\n",
        "Note: as we are now using dropout, we must remember to use model.train() to ensure the dropout is \"turned on\" while training."
      ]
    },
    {
      "cell_type": "code",
      "metadata": {
        "id": "Im3zxurstfK4"
      },
      "source": [
        "def train(model, iterator, optimizer, criterion):\n",
        "    \n",
        "    epoch_loss = 0\n",
        "    epoch_acc = 0\n",
        "    \n",
        "    model.train()\n",
        "    \n",
        "    for batch in iterator:\n",
        "        \n",
        "        optimizer.zero_grad()\n",
        "        \n",
        "        text, text_lengths = batch.text\n",
        "        \n",
        "        #changed here to accomodate reversed text\n",
        "\n",
        "        reverse_text = torch.flip(text, [0])\n",
        "        #print(reverse_text)\n",
        "        # concatenate the text and the labels for the original and the reversed texts\n",
        "        #concat_text = torch.cat([text, reverse_text])\n",
        "\n",
        "        concat_text = torch.cat([text, reverse_text], axis=1)\n",
        "        \n",
        "        concat_labels = torch.cat([batch.label, batch.label])\n",
        "       \n",
        "\n",
        "        #concat_labels = torch.cat([batch.label])\n",
        "        concat_lengths = torch.cat([text_lengths, text_lengths])\n",
        "        predictions = model(concat_text, concat_lengths.cpu()).squeeze()\n",
        "        \n",
        "        #loss = criterion(predictions, batch.label)\n",
        "        loss = criterion(predictions, concat_labels)\n",
        "        #acc = binary_accuracy(predictions, batch.label)\n",
        "        acc = binary_accuracy(predictions, concat_labels)\n",
        "        loss.backward()\n",
        "        \n",
        "        optimizer.step()\n",
        "        \n",
        "        epoch_loss += loss.item()\n",
        "        epoch_acc += acc.item()\n",
        "        \n",
        "    return epoch_loss / len(iterator), epoch_acc / len(iterator)"
      ],
      "execution_count": null,
      "outputs": []
    },
    {
      "cell_type": "markdown",
      "metadata": {
        "id": "8IdnU_pqtmfK"
      },
      "source": [
        "Then we define a function for testing our model, again remembering to separate batch.text.\n",
        "\n",
        "Note: as we are now using dropout, we must remember to use model.eval() to ensure the dropout is \"turned off\" while evaluating."
      ]
    },
    {
      "cell_type": "code",
      "metadata": {
        "id": "0KmdODyZtm42"
      },
      "source": [
        "def evaluate(model, iterator, criterion):\n",
        "    \n",
        "    epoch_loss = 0\n",
        "    epoch_acc = 0\n",
        "    \n",
        "    model.eval()\n",
        "    \n",
        "    with torch.no_grad():\n",
        "    \n",
        "        for batch in iterator:\n",
        "\n",
        "            text, text_lengths = batch.text\n",
        "            \n",
        "            predictions = model(text, text_lengths.cpu()).squeeze()\n",
        "            \n",
        "            loss = criterion(predictions, batch.label)\n",
        "            \n",
        "            acc = binary_accuracy(predictions, batch.label)\n",
        "\n",
        "\n",
        "            \n",
        "            epoch_loss += loss.item()\n",
        "            epoch_acc += acc.item()\n",
        "        \n",
        "    return epoch_loss / len(iterator), epoch_acc / len(iterator)"
      ],
      "execution_count": null,
      "outputs": []
    },
    {
      "cell_type": "markdown",
      "metadata": {
        "id": "tKS9dO1NtozW"
      },
      "source": [
        "And also create a nice function to tell us how long our epochs are taking."
      ]
    },
    {
      "cell_type": "code",
      "metadata": {
        "id": "mKH9VyrbtqiM"
      },
      "source": [
        "\n",
        "import time\n",
        "\n",
        "def epoch_time(start_time, end_time):\n",
        "    elapsed_time = end_time - start_time\n",
        "    elapsed_mins = int(elapsed_time / 60)\n",
        "    elapsed_secs = int(elapsed_time - (elapsed_mins * 60))\n",
        "    return elapsed_mins, elapsed_secs"
      ],
      "execution_count": null,
      "outputs": []
    },
    {
      "cell_type": "markdown",
      "metadata": {
        "id": "BUHegt3ets7C"
      },
      "source": [
        "train model"
      ]
    },
    {
      "cell_type": "code",
      "metadata": {
        "id": "31s9pdoqtwFX",
        "colab": {
          "base_uri": "https://localhost:8080/"
        },
        "outputId": "dd3642c4-0354-4b2a-faf9-a2928853b198"
      },
      "source": [
        "N_EPOCHS = 25\n",
        "\n",
        "best_valid_loss = float('inf')\n",
        "\n",
        "for epoch in range(N_EPOCHS):\n",
        "\n",
        "    start_time = time.time()\n",
        "    \n",
        "    train_loss, train_acc = train(model, train_iterator, optimizer, criterion)\n",
        "    valid_loss, valid_acc = evaluate(model, valid_iterator, criterion)\n",
        "    \n",
        "    end_time = time.time()\n",
        "\n",
        "    epoch_mins, epoch_secs = epoch_time(start_time, end_time)\n",
        "    \n",
        "    if valid_loss < best_valid_loss:\n",
        "        best_valid_loss = valid_loss\n",
        "        torch.save(model.state_dict(), 'tut2-model.pt')\n",
        "    \n",
        "    print(f'Epoch: {epoch+1:02} | Epoch Time: {epoch_mins}m {epoch_secs}s')\n",
        "    print(f'\\tTrain Loss: {train_loss:.3f} | Train Acc: {train_acc*100:.2f}%')\n",
        "    print(f'\\t Val. Loss: {valid_loss:.3f} |  Val. Acc: {valid_acc*100:.2f}%')"
      ],
      "execution_count": null,
      "outputs": [
        {
          "output_type": "stream",
          "text": [
            "Epoch: 01 | Epoch Time: 0m 41s\n",
            "\tTrain Loss: 0.387 | Train Acc: 84.45%\n",
            "\t Val. Loss: 0.356 |  Val. Acc: 83.60%\n",
            "Epoch: 02 | Epoch Time: 0m 41s\n",
            "\tTrain Loss: 0.225 | Train Acc: 92.26%\n",
            "\t Val. Loss: 0.303 |  Val. Acc: 88.03%\n",
            "Epoch: 03 | Epoch Time: 0m 40s\n",
            "\tTrain Loss: 0.152 | Train Acc: 95.24%\n",
            "\t Val. Loss: 0.347 |  Val. Acc: 87.90%\n",
            "Epoch: 04 | Epoch Time: 0m 40s\n",
            "\tTrain Loss: 0.100 | Train Acc: 97.14%\n",
            "\t Val. Loss: 0.347 |  Val. Acc: 88.10%\n",
            "Epoch: 05 | Epoch Time: 0m 41s\n",
            "\tTrain Loss: 0.076 | Train Acc: 98.15%\n",
            "\t Val. Loss: 0.417 |  Val. Acc: 88.25%\n",
            "Epoch: 06 | Epoch Time: 0m 41s\n",
            "\tTrain Loss: 0.064 | Train Acc: 98.43%\n",
            "\t Val. Loss: 0.417 |  Val. Acc: 88.20%\n",
            "Epoch: 07 | Epoch Time: 0m 41s\n",
            "\tTrain Loss: 0.056 | Train Acc: 98.63%\n",
            "\t Val. Loss: 0.456 |  Val. Acc: 87.86%\n",
            "Epoch: 08 | Epoch Time: 0m 41s\n",
            "\tTrain Loss: 0.043 | Train Acc: 98.95%\n",
            "\t Val. Loss: 0.501 |  Val. Acc: 87.93%\n",
            "Epoch: 09 | Epoch Time: 0m 41s\n",
            "\tTrain Loss: 0.041 | Train Acc: 99.01%\n",
            "\t Val. Loss: 0.513 |  Val. Acc: 87.80%\n",
            "Epoch: 10 | Epoch Time: 0m 40s\n",
            "\tTrain Loss: 0.038 | Train Acc: 99.27%\n",
            "\t Val. Loss: 0.526 |  Val. Acc: 86.71%\n",
            "Epoch: 11 | Epoch Time: 0m 40s\n",
            "\tTrain Loss: 0.036 | Train Acc: 99.19%\n",
            "\t Val. Loss: 0.522 |  Val. Acc: 87.73%\n",
            "Epoch: 12 | Epoch Time: 0m 41s\n",
            "\tTrain Loss: 0.032 | Train Acc: 99.32%\n",
            "\t Val. Loss: 0.573 |  Val. Acc: 87.76%\n",
            "Epoch: 13 | Epoch Time: 0m 41s\n",
            "\tTrain Loss: 0.037 | Train Acc: 99.19%\n",
            "\t Val. Loss: 0.579 |  Val. Acc: 87.46%\n",
            "Epoch: 14 | Epoch Time: 0m 41s\n",
            "\tTrain Loss: 0.027 | Train Acc: 99.38%\n",
            "\t Val. Loss: 0.605 |  Val. Acc: 87.29%\n",
            "Epoch: 15 | Epoch Time: 0m 41s\n",
            "\tTrain Loss: 0.024 | Train Acc: 99.46%\n",
            "\t Val. Loss: 0.588 |  Val. Acc: 87.39%\n",
            "Epoch: 16 | Epoch Time: 0m 41s\n",
            "\tTrain Loss: 0.022 | Train Acc: 99.48%\n",
            "\t Val. Loss: 0.610 |  Val. Acc: 87.16%\n",
            "Epoch: 17 | Epoch Time: 0m 41s\n",
            "\tTrain Loss: 0.023 | Train Acc: 99.42%\n",
            "\t Val. Loss: 0.529 |  Val. Acc: 87.12%\n",
            "Epoch: 18 | Epoch Time: 0m 41s\n",
            "\tTrain Loss: 0.022 | Train Acc: 99.54%\n",
            "\t Val. Loss: 0.547 |  Val. Acc: 87.39%\n",
            "Epoch: 19 | Epoch Time: 0m 41s\n",
            "\tTrain Loss: 0.018 | Train Acc: 99.60%\n",
            "\t Val. Loss: 0.641 |  Val. Acc: 87.48%\n",
            "Epoch: 20 | Epoch Time: 0m 41s\n",
            "\tTrain Loss: 0.018 | Train Acc: 99.57%\n",
            "\t Val. Loss: 0.583 |  Val. Acc: 87.50%\n",
            "Epoch: 21 | Epoch Time: 0m 41s\n",
            "\tTrain Loss: 0.014 | Train Acc: 99.69%\n",
            "\t Val. Loss: 0.545 |  Val. Acc: 87.50%\n",
            "Epoch: 22 | Epoch Time: 0m 41s\n",
            "\tTrain Loss: 0.014 | Train Acc: 99.68%\n",
            "\t Val. Loss: 0.668 |  Val. Acc: 86.75%\n",
            "Epoch: 23 | Epoch Time: 0m 41s\n",
            "\tTrain Loss: 0.013 | Train Acc: 99.68%\n",
            "\t Val. Loss: 0.677 |  Val. Acc: 87.39%\n",
            "Epoch: 24 | Epoch Time: 0m 41s\n",
            "\tTrain Loss: 0.012 | Train Acc: 99.73%\n",
            "\t Val. Loss: 0.674 |  Val. Acc: 87.65%\n",
            "Epoch: 25 | Epoch Time: 0m 41s\n",
            "\tTrain Loss: 0.014 | Train Acc: 99.67%\n",
            "\t Val. Loss: 0.662 |  Val. Acc: 87.16%\n"
          ],
          "name": "stdout"
        }
      ]
    },
    {
      "cell_type": "code",
      "metadata": {
        "id": "40Me1uZDt1ss"
      },
      "source": [
        "\n"
      ],
      "execution_count": null,
      "outputs": []
    },
    {
      "cell_type": "markdown",
      "metadata": {
        "id": "t2UZpF12ty8X"
      },
      "source": [
        "accuracy "
      ]
    },
    {
      "cell_type": "code",
      "metadata": {
        "id": "3ivfmxbWtzMD",
        "colab": {
          "base_uri": "https://localhost:8080/"
        },
        "outputId": "d5a4709f-9968-46c4-d94e-5aac0fbfbed1"
      },
      "source": [
        "import matplotlib.pyplot as plt\n",
        "\n",
        "model.load_state_dict(torch.load('tut2-model.pt'))\n",
        "\n",
        "test_loss, test_acc = evaluate(model, test_iterator, criterion)\n",
        "\n",
        "print(f'Test Loss: {test_loss:.3f} | Test Acc: {test_acc*100:.2f}%')\n",
        "\n",
        "\n",
        "\n",
        "#plt.axes(xlabel= 'epochs', ylabel= 'Accuracy')\n",
        "#plt.plot(train.train_acc)\n",
        "#plt.plot(test.test_acc)\n",
        "#plt.title('Test vs Train Accuracy')\n",
        "#plt.legend(['Train', 'Test'])\n",
        "\n"
      ],
      "execution_count": null,
      "outputs": [
        {
          "output_type": "stream",
          "text": [
            "Test Loss: 0.315 | Test Acc: 87.05%\n"
          ],
          "name": "stdout"
        }
      ]
    },
    {
      "cell_type": "code",
      "metadata": {
        "id": "nH6xUi788CZJ"
      },
      "source": [
        ""
      ],
      "execution_count": null,
      "outputs": []
    },
    {
      "cell_type": "code",
      "metadata": {
        "id": "zYS_Zo858Dvu"
      },
      "source": [
        ""
      ],
      "execution_count": null,
      "outputs": []
    }
  ]
}