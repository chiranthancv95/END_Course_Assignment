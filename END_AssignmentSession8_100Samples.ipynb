{
  "nbformat": 4,
  "nbformat_minor": 0,
  "metadata": {
    "colab": {
      "name": "Sample.ipynb",
      "provenance": [],
      "collapsed_sections": []
    },
    "kernelspec": {
      "name": "python3",
      "display_name": "Python 3"
    }
  },
  "cells": [
    {
      "cell_type": "code",
      "metadata": {
        "colab": {
          "base_uri": "https://localhost:8080/"
        },
        "id": "8lSpEys9FTz2",
        "outputId": "1329c54a-6e17-4b92-d878-3f271bbf695e"
      },
      "source": [
        "#Q1. Python Program to find the area of triangle\r\n",
        "\r\n",
        "a = 5\r\n",
        "b = 6\r\n",
        "c = 7\r\n",
        "\r\n",
        "# calculate the semi-perimeter\r\n",
        "s = (a + b + c) / 2\r\n",
        "\r\n",
        "# calculate the area\r\n",
        "area = (s*(s-a)*(s-b)*(s-c)) ** 0.5\r\n",
        "print('The area of the triangle is %0.2f' %area)"
      ],
      "execution_count": 1,
      "outputs": [
        {
          "output_type": "stream",
          "text": [
            "The area of the triangle is 14.70\n"
          ],
          "name": "stdout"
        }
      ]
    },
    {
      "cell_type": "code",
      "metadata": {
        "colab": {
          "base_uri": "https://localhost:8080/"
        },
        "id": "P7ufiyDQUv4c",
        "outputId": "20e715a5-fad3-4e90-b224-a5d544dcca9e"
      },
      "source": [
        "#Q2. Solve the quadratic equation ax**2 + bx + c = 0\r\n",
        "\r\n",
        "# import complex math module\r\n",
        "import cmath\r\n",
        "\r\n",
        "a = 1\r\n",
        "b = 5\r\n",
        "c = 6\r\n",
        "\r\n",
        "# calculate the discrimiprefix to the beginning of selected lines in textnant\r\n",
        "d = (b**2) - (4*a*c)\r\n",
        "\r\n",
        "# find two solutions\r\n",
        "sol1 = (-b-cmath.sqrt(d))/(2*a)\r\n",
        "sol2 = (-b+cmath.sqrt(d))/(2*a)\r\n",
        "\r\n",
        "print('The solution are {0} and {1}'.format(sol1,sol2))"
      ],
      "execution_count": 2,
      "outputs": [
        {
          "output_type": "stream",
          "text": [
            "The solution are (-3+0j) and (-2+0j)\n"
          ],
          "name": "stdout"
        }
      ]
    },
    {
      "cell_type": "code",
      "metadata": {
        "colab": {
          "base_uri": "https://localhost:8080/"
        },
        "id": "REsZdhLcVT17",
        "outputId": "d533d8db-153e-4103-b6b7-90e5928f73ee"
      },
      "source": [
        "#Q3. Python program to swap two variables using temporary variable\r\n",
        "\r\n",
        "x = 5\r\n",
        "y = 10\r\n",
        "\r\n",
        "# create a temporary variable and swap the values\r\n",
        "temp = x\r\n",
        "x = y\r\n",
        "y = temp\r\n",
        "\r\n",
        "print('The value of x after swapping: {}'.format(x))\r\n",
        "print('The value of y after swapping: {}'.format(y))"
      ],
      "execution_count": 3,
      "outputs": [
        {
          "output_type": "stream",
          "text": [
            "The value of x after swapping: 10\n",
            "The value of y after swapping: 5\n"
          ],
          "name": "stdout"
        }
      ]
    },
    {
      "cell_type": "code",
      "metadata": {
        "colab": {
          "base_uri": "https://localhost:8080/"
        },
        "id": "lfFtQaXDVwj3",
        "outputId": "e857ea1e-2883-4b36-a6e9-152101992e48"
      },
      "source": [
        "#Q4. Python program to swap two variables without using temporary variable\r\n",
        "x = 5\r\n",
        "y = 10\r\n",
        "\r\n",
        "x, y = y, x\r\n",
        "print(\"x =\", x)\r\n",
        "print(\"y =\", y)"
      ],
      "execution_count": 4,
      "outputs": [
        {
          "output_type": "stream",
          "text": [
            "x = 10\n",
            "y = 5\n"
          ],
          "name": "stdout"
        }
      ]
    },
    {
      "cell_type": "code",
      "metadata": {
        "colab": {
          "base_uri": "https://localhost:8080/"
        },
        "id": "xjcjAR3kVwhJ",
        "outputId": "f57cdfbf-d6a3-4179-81f5-52d87abefce5"
      },
      "source": [
        "#Q5. Python program to return the number of bits necessary to represent an integer in binary, excluding the sign and leading zero\r\n",
        "def bit_length(self):\r\n",
        "    s = bin(self)       # binary representation:  bin(-37) --> '-0b100101'\r\n",
        "    s = s.lstrip('-0b') # remove leading zeros and minus sign\r\n",
        "    return len(s)\r\n",
        "print(f'bit_length is : {bit_length(-37)}')"
      ],
      "execution_count": 5,
      "outputs": [
        {
          "output_type": "stream",
          "text": [
            "bit_length is : 6\n"
          ],
          "name": "stdout"
        }
      ]
    },
    {
      "cell_type": "code",
      "metadata": {
        "colab": {
          "base_uri": "https://localhost:8080/"
        },
        "id": "KouHLCfmVwef",
        "outputId": "197e311f-53e9-4ce9-be64-05af06e6fd57"
      },
      "source": [
        "#Q6. Python program to return an array of bytes representing an integer\r\n",
        "i = 2\r\n",
        "print((1024).to_bytes(i, byteorder='big'))"
      ],
      "execution_count": 6,
      "outputs": [
        {
          "output_type": "stream",
          "text": [
            "b'\\x04\\x00'\n"
          ],
          "name": "stdout"
        }
      ]
    },
    {
      "cell_type": "code",
      "metadata": {
        "colab": {
          "base_uri": "https://localhost:8080/"
        },
        "id": "mpcRcBWeVwcG",
        "outputId": "fde1face-740b-46cb-cf2c-5b7a6e3048e9"
      },
      "source": [
        "#Q7. Python Program to return the integer represented by the given array of bytes\r\n",
        "i = b'\\x00\\x10'\r\n",
        "print(\"Integer represented of bytes is: \", int.from_bytes(i, byteorder=\"big\"))"
      ],
      "execution_count": 7,
      "outputs": [
        {
          "output_type": "stream",
          "text": [
            "Integer represented of bytes is:  16\n"
          ],
          "name": "stdout"
        }
      ]
    },
    {
      "cell_type": "code",
      "metadata": {
        "colab": {
          "base_uri": "https://localhost:8080/"
        },
        "id": "gJcJxbx3VwZx",
        "outputId": "34140849-76e6-4c8a-a100-0ed1f2d64d7b"
      },
      "source": [
        "#Q8. Python Program to return the float represented by a hexadecimal string s\r\n",
        "s = '0x3.a7p10'\r\n",
        "print(\"Float Number in hex format is: \",float.fromhex(s))"
      ],
      "execution_count": 8,
      "outputs": [
        {
          "output_type": "stream",
          "text": [
            "Float Number in hex format is:  3740.0\n"
          ],
          "name": "stdout"
        }
      ]
    },
    {
      "cell_type": "code",
      "metadata": {
        "colab": {
          "base_uri": "https://localhost:8080/"
        },
        "id": "LMLoCHxOVwW9",
        "outputId": "be73f1fb-38b7-4326-d9fe-24c0bea20866"
      },
      "source": [
        "#Q9. Python program which returns whic converts hex to bytes form\r\n",
        "hex = '2Ef0 F1f2 '\r\n",
        "print(\"Hex in bytes form: \", bytes.fromhex(hex))"
      ],
      "execution_count": 9,
      "outputs": [
        {
          "output_type": "stream",
          "text": [
            "Hex in bytes form:  b'.\\xf0\\xf1\\xf2'\n"
          ],
          "name": "stdout"
        }
      ]
    },
    {
      "cell_type": "code",
      "metadata": {
        "colab": {
          "base_uri": "https://localhost:8080/"
        },
        "id": "T4AyA9QvVwUE",
        "outputId": "fdaafbbe-a3e3-4489-bfda-0d33e973c408"
      },
      "source": [
        "#Q10. Python program to return a copy of the sequence where all ASCII tab characters are replaced by one or more ASCII spaces, depending on the current column and the given tab size\r\n",
        "ascii_tab_chars = b'01\\t012\\t0123\\t01234'\r\n",
        "print(ascii_tab_chars.expandtabs())"
      ],
      "execution_count": 10,
      "outputs": [
        {
          "output_type": "stream",
          "text": [
            "b'01      012     0123    01234'\n"
          ],
          "name": "stdout"
        }
      ]
    },
    {
      "cell_type": "code",
      "metadata": {
        "colab": {
          "base_uri": "https://localhost:8080/"
        },
        "id": "-0LRMhFrVwRi",
        "outputId": "721caab7-de9b-4627-eb41-f574b7cc60a1"
      },
      "source": [
        "#Q11. Python program to return a copy of the sequence with all the lowercase ASCII characters converted to their corresponding uppercase counterpart and vice-versa\r\n",
        "str1 = 'Hello World'\r\n",
        "print(str1.swapcase())"
      ],
      "execution_count": 11,
      "outputs": [
        {
          "output_type": "stream",
          "text": [
            "hELLO wORLD\n"
          ],
          "name": "stdout"
        }
      ]
    },
    {
      "cell_type": "code",
      "metadata": {
        "colab": {
          "base_uri": "https://localhost:8080/"
        },
        "id": "xE1am2RXVwO4",
        "outputId": "af88dcc2-cb05-47ff-a8d1-48f9e7b705dd"
      },
      "source": [
        "#Q12. Python code to access the internal data of an object that supports the buffer protocol without copying\r\n",
        "str1 = b'abcefg'\r\n",
        "v = memoryview(str1)\r\n",
        "for i in v:\r\n",
        "  print(\"Internal data of the string object is: \", i)"
      ],
      "execution_count": 12,
      "outputs": [
        {
          "output_type": "stream",
          "text": [
            "Internal data of the string object is:  97\n",
            "Internal data of the string object is:  98\n",
            "Internal data of the string object is:  99\n",
            "Internal data of the string object is:  101\n",
            "Internal data of the string object is:  102\n",
            "Internal data of the string object is:  103\n"
          ],
          "name": "stdout"
        }
      ]
    },
    {
      "cell_type": "code",
      "metadata": {
        "colab": {
          "base_uri": "https://localhost:8080/"
        },
        "id": "V0tDBH1yasTo",
        "outputId": "06dfe248-c642-451c-c33a-3767f96854ba"
      },
      "source": [
        "#Q13. Python program to convert data to floats and compute the harmonic mean\r\n",
        "import statistics\r\n",
        "lst = [3.5, 4.0, 5.25]\r\n",
        "print(\"Harmonic Mean: \", statistics.harmonic_mean(lst))"
      ],
      "execution_count": 13,
      "outputs": [
        {
          "output_type": "stream",
          "text": [
            "Harmonic Mean:  4.131147540983607\n"
          ],
          "name": "stdout"
        }
      ]
    },
    {
      "cell_type": "code",
      "metadata": {
        "colab": {
          "base_uri": "https://localhost:8080/"
        },
        "id": "9t9TvrHwdESU",
        "outputId": "7dc76238-0538-472e-879d-d76750c2727a"
      },
      "source": [
        "#Q14. Python program to convert data to floats and compute the median\r\n",
        "import statistics\r\n",
        "lst = [3.5, 4.0, 5.25]\r\n",
        "print(\"Median: \", statistics.median(lst))"
      ],
      "execution_count": 14,
      "outputs": [
        {
          "output_type": "stream",
          "text": [
            "Median:  4.0\n"
          ],
          "name": "stdout"
        }
      ]
    },
    {
      "cell_type": "code",
      "metadata": {
        "colab": {
          "base_uri": "https://localhost:8080/"
        },
        "id": "nHp9eWOfasRO",
        "outputId": "bc35ec0c-8dd7-457b-ad76-b15e86afea80"
      },
      "source": [
        "#Q15. Python program to return the population variance of data, a non-empty sequence or iterable of real-valued numbers\r\n",
        "import statistics\r\n",
        "data = [0.0, 0.25, 0.25, 1.25, 1.5, 1.75, 2.75, 3.25]\r\n",
        "print(\"The population variance of data is: \", statistics.pvariance(data))"
      ],
      "execution_count": 15,
      "outputs": [
        {
          "output_type": "stream",
          "text": [
            "The population variance of data is:  1.25\n"
          ],
          "name": "stdout"
        }
      ]
    },
    {
      "cell_type": "code",
      "metadata": {
        "colab": {
          "base_uri": "https://localhost:8080/"
        },
        "id": "MGzrGmxRgWR3",
        "outputId": "8a268db0-5509-4e13-cafb-a151173760fc"
      },
      "source": [
        "#Q16. Implement Quicksort algorithm in Python\r\n",
        "def quicksort(arr):\r\n",
        "    if len(arr) <= 1:\r\n",
        "        return arr\r\n",
        "    pivot = arr[len(arr) // 2]\r\n",
        "    left = [x for x in arr if x < pivot]\r\n",
        "    middle = [x for x in arr if x == pivot]\r\n",
        "    right = [x for x in arr if x > pivot]\r\n",
        "    return quicksort(left) + middle + quicksort(right)\r\n",
        "\r\n",
        "print(\"Quicksort values: \", quicksort([3,6,8,10,1,2,1]))"
      ],
      "execution_count": 16,
      "outputs": [
        {
          "output_type": "stream",
          "text": [
            "Quicksort values:  [1, 1, 2, 3, 6, 8, 10]\n"
          ],
          "name": "stdout"
        }
      ]
    },
    {
      "cell_type": "code",
      "metadata": {
        "colab": {
          "base_uri": "https://localhost:8080/"
        },
        "id": "b0cBbL8whL5M",
        "outputId": "34afd186-d7c6-4fd6-9e23-e3bb0d912c93"
      },
      "source": [
        "#Q17. Python program to prefix to the beginning of selected lines in text to return a list of the best “good enough” matches to a string\r\n",
        "import difflib\r\n",
        "similar_key_str = 'appel'\r\n",
        "print(\"Good matches : \", difflib.get_close_matches(similar_key_str, ['ape', 'apple', 'peach', 'puppy']))"
      ],
      "execution_count": 17,
      "outputs": [
        {
          "output_type": "stream",
          "text": [
            "Good matches :  ['apple', 'ape']\n"
          ],
          "name": "stdout"
        }
      ]
    },
    {
      "cell_type": "code",
      "metadata": {
        "colab": {
          "base_uri": "https://localhost:8080/"
        },
        "id": "xNWHoKRGliLy",
        "outputId": "6b902dee-4d93-4a17-e944-cee9ec27ba04"
      },
      "source": [
        "#Q18. Python program to compare two sequences of lines, and generate the delta\r\n",
        "import difflib\r\n",
        "text1 = '''  1. Beautiful is better than ugly.\r\n",
        "  2. Explicit is better than implicit.\r\n",
        "  3. Simple is better than complex.\r\n",
        "  4. Complex is better than complicated.\r\n",
        "'''.splitlines(keepends=True)\r\n",
        "len(text1)\r\n",
        "4\r\n",
        "text1[0][-1]\r\n",
        "'\\n'\r\n",
        "text2 = '''  1. Beautiful is better than ugly.\r\n",
        "  3.   Simple is better than complex.\r\n",
        "  4. Complicated is better than complex.\r\n",
        "  5. Flat is better than nested.\r\n",
        "'''.splitlines(keepends=True)\r\n",
        "\r\n",
        "d = difflib.Differ()\r\n",
        "result = list(d.compare(text1, text2))\r\n",
        "from pprint import pprint\r\n",
        "pprint(result)"
      ],
      "execution_count": 18,
      "outputs": [
        {
          "output_type": "stream",
          "text": [
            "['    1. Beautiful is better than ugly.\\n',\n",
            " '-   2. Explicit is better than implicit.\\n',\n",
            " '-   3. Simple is better than complex.\\n',\n",
            " '+   3.   Simple is better than complex.\\n',\n",
            " '?     ++\\n',\n",
            " '-   4. Complex is better than complicated.\\n',\n",
            " '?            ^                     ---- ^\\n',\n",
            " '+   4. Complicated is better than complex.\\n',\n",
            " '?           ++++ ^                      ^\\n',\n",
            " '+   5. Flat is better than nested.\\n']\n"
          ],
          "name": "stdout"
        }
      ]
    },
    {
      "cell_type": "code",
      "metadata": {
        "colab": {
          "base_uri": "https://localhost:8080/"
        },
        "id": "ZIA5YFMZmn1I",
        "outputId": "e234791b-87d4-4956-b8eb-45b78e2a4c5f"
      },
      "source": [
        "#Q19. Python Program to return a shell-escaped version of the string s. The returned value is\r\n",
        "# a string that can safely be used as one token in a shell command line, for cases where you cannot use a list\r\n",
        "filename = 'somefile; rm -rf ~'\r\n",
        "command = 'ls -l {}'.format(filename)\r\n",
        "print(\"Command : \", command)"
      ],
      "execution_count": 19,
      "outputs": [
        {
          "output_type": "stream",
          "text": [
            "Command :  ls -l somefile; rm -rf ~\n"
          ],
          "name": "stdout"
        }
      ]
    },
    {
      "cell_type": "code",
      "metadata": {
        "colab": {
          "base_uri": "https://localhost:8080/"
        },
        "id": "Z34DpT2Tnjsd",
        "outputId": "cb28e3f1-5e48-4d63-eb3c-acab0730a471"
      },
      "source": [
        "#Q20. Python program to collapse and truncate the given text to fit in the given width\r\n",
        "import textwrap\r\n",
        "str1 = \"Hello  world!\"\r\n",
        "print(\"Collapsed and truncated version of string: \", textwrap.shorten(str1, width=11))"
      ],
      "execution_count": 20,
      "outputs": [
        {
          "output_type": "stream",
          "text": [
            "Collapsed and truncated version of string:  Hello [...]\n"
          ],
          "name": "stdout"
        }
      ]
    },
    {
      "cell_type": "code",
      "metadata": {
        "colab": {
          "base_uri": "https://localhost:8080/"
        },
        "id": "MQlxvJYPn6kA",
        "outputId": "9d42b13f-557c-42c2-ff9b-d4d3d5aa1a39"
      },
      "source": [
        "#Q21. Python program to remove any common leading whitespace from every line in text\r\n",
        "import textwrap\r\n",
        "def test():\r\n",
        "    # end first line with \\ to avoid the empty line!\r\n",
        "    s = '''\\\r\n",
        "    hello\r\n",
        "      world\r\n",
        "    '''\r\n",
        "    print(repr(s))          # prints '    hello\\n      world\\n    '\r\n",
        "    print(repr(textwrap.dedent(s)))  # prints 'hello\\n  world\\n'\r\n",
        "print(test())"
      ],
      "execution_count": 21,
      "outputs": [
        {
          "output_type": "stream",
          "text": [
            "'    hello\\n      world\\n    '\n",
            "'hello\\n  world\\n'\n",
            "None\n"
          ],
          "name": "stdout"
        }
      ]
    },
    {
      "cell_type": "code",
      "metadata": {
        "colab": {
          "base_uri": "https://localhost:8080/"
        },
        "id": "G3IYcOQGoP1J",
        "outputId": "f178f268-d203-4a0d-e8f0-f072e3e4978e"
      },
      "source": [
        "#Q22. Python program to add prefix to the beginning of selected lines in text\r\n",
        "import textwrap\r\n",
        "s = \"hello\\n\\n \\nworld\"\r\n",
        "print(\"prefix added to the beginning of selected lines in text\")\r\n",
        "print(textwrap.indent(s, '+ ', lambda line: True))"
      ],
      "execution_count": 22,
      "outputs": [
        {
          "output_type": "stream",
          "text": [
            "prefix added to the beginning of selected lines in text\n",
            "+ hello\n",
            "+ \n",
            "+  \n",
            "+ world\n"
          ],
          "name": "stdout"
        }
      ]
    },
    {
      "cell_type": "code",
      "metadata": {
        "colab": {
          "base_uri": "https://localhost:8080/"
        },
        "id": "vJQS5XleoPzf",
        "outputId": "eca1fd56-6f83-4d2f-cef9-76d416be5e4f"
      },
      "source": [
        "#Q23. Python program to implement heapsort by pushing all values onto a heap and \r\n",
        "# then popping off the smallest values one at a time\r\n",
        "import heapq\r\n",
        "def heapsort(iterable):\r\n",
        "     h = []\r\n",
        "     for value in iterable:\r\n",
        "         heapq.heappush(h, value)\r\n",
        "     return [heapq.heappop(h) for i in range(len(h))]\r\n",
        "\r\n",
        "print(\"Final Heapsort values : \", heapsort([1, 3, 5, 7, 9, 2, 4, 6, 8, 0]))\r\n"
      ],
      "execution_count": 23,
      "outputs": [
        {
          "output_type": "stream",
          "text": [
            "Final Heapsort values :  [0, 1, 2, 3, 4, 5, 6, 7, 8, 9]\n"
          ],
          "name": "stdout"
        }
      ]
    },
    {
      "cell_type": "code",
      "metadata": {
        "colab": {
          "base_uri": "https://localhost:8080/"
        },
        "id": "WTBUAgdKoPt9",
        "outputId": "3aa4e5a0-b01e-4b82-d695-5ce04b02bf01"
      },
      "source": [
        "#Q24. Python program to look up a letter grade for an exam score (say) based on \r\n",
        "# a set of ordered numeric breakpoints: 90 and up is an ‘A’, 80 to 89 is a ‘B’, and so on\r\n",
        "import bisect\r\n",
        "def grade(score, breakpoints=[60, 70, 80, 90], grades='FDCBA'):\r\n",
        "     i = bisect.bisect(breakpoints, score)\r\n",
        "     return grades[i]\r\n",
        "\r\n",
        "print(\"grade for an exam score based on  a set of ordered numeric breakpoints : \", [grade(score) for score in [33, 99, 77, 70, 89, 90, 100]])"
      ],
      "execution_count": 24,
      "outputs": [
        {
          "output_type": "stream",
          "text": [
            "grade for an exam score based on  a set of ordered numeric breakpoints :  ['F', 'A', 'C', 'C', 'B', 'A', 'A']\n"
          ],
          "name": "stdout"
        }
      ]
    },
    {
      "cell_type": "code",
      "metadata": {
        "colab": {
          "base_uri": "https://localhost:8080/"
        },
        "id": "hKQqFucAoPly",
        "outputId": "eaf37689-6999-4be0-e75b-54bc7a4200a5"
      },
      "source": [
        "#Q25. Python program to write a decorator for __repr__() methods to detect recursive calls within the same thread\r\n",
        "from reprlib import recursive_repr\r\n",
        "class MyList(list):\r\n",
        "    @recursive_repr()\r\n",
        "    def __repr__(self):\r\n",
        "        return '<' + '|'.join(map(repr, self)) + '>'\r\n",
        "\r\n",
        "m = MyList('abc')\r\n",
        "m.append(m)\r\n",
        "m.append('x')\r\n",
        "print(\"Multiple recursive calls: \", m)"
      ],
      "execution_count": 25,
      "outputs": [
        {
          "output_type": "stream",
          "text": [
            "Multiple recursive calls:  <'a'|'b'|'c'|...|'x'>\n"
          ],
          "name": "stdout"
        }
      ]
    },
    {
      "cell_type": "code",
      "metadata": {
        "colab": {
          "base_uri": "https://localhost:8080/"
        },
        "id": "NABw-jdhrhAh",
        "outputId": "c5c4e75d-25b9-46de-c861-0be29ae7d22c"
      },
      "source": [
        "#Q26. Python program to Look up character by name. If a character with the given\r\n",
        "# name is found, return the corresponding character\r\n",
        "import unicodedata\r\n",
        "print(\" Look up character by name : \", unicodedata.lookup('LEFT CURLY BRACKET'))"
      ],
      "execution_count": 26,
      "outputs": [
        {
          "output_type": "stream",
          "text": [
            " Look up character by name :  {\n"
          ],
          "name": "stdout"
        }
      ]
    },
    {
      "cell_type": "code",
      "metadata": {
        "colab": {
          "base_uri": "https://localhost:8080/"
        },
        "id": "pLioADEer7Zr",
        "outputId": "de2380b9-257f-4c66-8c6a-76a8ed53ebe5"
      },
      "source": [
        "#Q27. Python program to return the name assigned to the character chr as a string\r\n",
        "import unicodedata\r\n",
        "\r\n",
        "print(\"name assigned to the character chr as a string : \", unicodedata.name('/'))"
      ],
      "execution_count": 27,
      "outputs": [
        {
          "output_type": "stream",
          "text": [
            "name assigned to the character chr as a string :  SOLIDUS\n"
          ],
          "name": "stdout"
        }
      ]
    },
    {
      "cell_type": "code",
      "metadata": {
        "colab": {
          "base_uri": "https://localhost:8080/"
        },
        "id": "kW-W5PhTsImF",
        "outputId": "009af80c-15fd-4313-a65f-f66a3378ca11"
      },
      "source": [
        "#Q28. Python program to return the bidirectional class assigned to the character\r\n",
        "# chr as string. If no such value is defined, an empty string is returned\r\n",
        "import unicodedata\r\n",
        "print(\"bidirectional class assigned to the character chr as string : \" ,unicodedata.bidirectional('\\u0660'))"
      ],
      "execution_count": 28,
      "outputs": [
        {
          "output_type": "stream",
          "text": [
            "bidirectional class assigned to the character chr as string :  AN\n"
          ],
          "name": "stdout"
        }
      ]
    },
    {
      "cell_type": "code",
      "metadata": {
        "colab": {
          "base_uri": "https://localhost:8080/"
        },
        "id": "IKnZGLswsz33",
        "outputId": "85b664a1-b275-4148-c284-b169e0bbaccb"
      },
      "source": [
        "# Q29.Python program to return True if both the real and imaginary parts of x are finite, and False otherwise\r\n",
        "import cmath\r\n",
        "x = 5\r\n",
        "y = 3\r\n",
        "  \r\n",
        "# converting x and y into complex number \r\n",
        "z = complex(x,y)\r\n",
        "print(\"Complex Number is True if both the real and imaginary parts of x are finite, and False otherwise : \", cmath.isfinite(z))"
      ],
      "execution_count": 29,
      "outputs": [
        {
          "output_type": "stream",
          "text": [
            "Complex Number is True if both the real and imaginary parts of x are finite, and False otherwise :  True\n"
          ],
          "name": "stdout"
        }
      ]
    },
    {
      "cell_type": "code",
      "metadata": {
        "colab": {
          "base_uri": "https://localhost:8080/"
        },
        "id": "0Yr2G_hbtfp0",
        "outputId": "fd170fc3-740c-40cf-ffd6-8b16371b5c0f"
      },
      "source": [
        "#Q30. Python program to return True if either the real or the imaginary part of x is a NaN, and False otherwise\r\n",
        "import cmath\r\n",
        "x = 5\r\n",
        "y = 3\r\n",
        "  \r\n",
        "# converting x and y into complex number \r\n",
        "z = complex(x,y)\r\n",
        "print(\"Complex number is True if either the real or the imaginary part of x is a NaN, and False otherwise : \", cmath.isnan(z))"
      ],
      "execution_count": 30,
      "outputs": [
        {
          "output_type": "stream",
          "text": [
            "Complex number is True if either the real or the imaginary part of x is a NaN, and False otherwise :  False\n"
          ],
          "name": "stdout"
        }
      ]
    },
    {
      "cell_type": "code",
      "metadata": {
        "colab": {
          "base_uri": "https://localhost:8080/"
        },
        "id": "N2w94dKMtuVn",
        "outputId": "1bffa216-7eba-4f80-ca1d-4c03e4748972"
      },
      "source": [
        "#Q31. Python program to return True if the values a and b are close to each other and False otherwise.\r\n",
        "# Provided a and b are complex numbers\r\n",
        "import cmath\r\n",
        "x = 5\r\n",
        "y = 3\r\n",
        "  \r\n",
        "# converting x and y into complex number \r\n",
        "z = complex(x,y)\r\n",
        "print(\"Complex number is True if the values a and b are close to each other and False otherwise number is True if the values a and b are close to each other and False otherwise : \", cmath.isclose(x,y))"
      ],
      "execution_count": 31,
      "outputs": [
        {
          "output_type": "stream",
          "text": [
            "Complex number is True if the values a and b are close to each other and False otherwise number is True if the values a and b are close to each other and False otherwise :  False\n"
          ],
          "name": "stdout"
        }
      ]
    },
    {
      "cell_type": "code",
      "metadata": {
        "colab": {
          "base_uri": "https://localhost:8080/"
        },
        "id": "lZZ1L-LQuVNq",
        "outputId": "262f388e-6975-4fbe-ac36-f0ce9f4b3064"
      },
      "source": [
        "#Q32. Python program to return the arc tangent of complex number x\r\n",
        "import cmath\r\n",
        "x = 5\r\n",
        "y = 3\r\n",
        "  \r\n",
        "# converting x and y into complex number \r\n",
        "z = complex(x,y)\r\n",
        "print(\"arc tangent of complex number x : \", cmath.atan(z))"
      ],
      "execution_count": 32,
      "outputs": [
        {
          "output_type": "stream",
          "text": [
            "arc tangent of complex number x :  (1.4236790442393028+0.08656905917945845j)\n"
          ],
          "name": "stdout"
        }
      ]
    },
    {
      "cell_type": "code",
      "metadata": {
        "colab": {
          "base_uri": "https://localhost:8080/"
        },
        "id": "V_lySb4hut33",
        "outputId": "dffc3c32-09ed-4e0a-ff72-55e226314f10"
      },
      "source": [
        "#Q33. Python program to return the arc cosine of complex number x\r\n",
        "import cmath\r\n",
        "x = 5\r\n",
        "y = 3\r\n",
        "  \r\n",
        "# converting x and y into complex number \r\n",
        "z = complex(x,y)\r\n",
        "print(\"arc cosine of complex number x : \", cmath.acos(z))"
      ],
      "execution_count": 33,
      "outputs": [
        {
          "output_type": "stream",
          "text": [
            "arc cosine of complex number x :  (0.5469745802831137-2.452913742502812j)\n"
          ],
          "name": "stdout"
        }
      ]
    },
    {
      "cell_type": "code",
      "metadata": {
        "colab": {
          "base_uri": "https://localhost:8080/"
        },
        "id": "EVCQePJPu2Rp",
        "outputId": "9c4a37fc-7193-4ded-c84e-8d9b8d80a5f8"
      },
      "source": [
        "#Q34. Python program to return the arc sine of complex number x\r\n",
        "import cmath\r\n",
        "x = 5\r\n",
        "y = 3\r\n",
        "  \r\n",
        "# converting x and y into complex number \r\n",
        "z = complex(x,y)\r\n",
        "print(\"arc sine of complex number x : \", cmath.asin(z))"
      ],
      "execution_count": 34,
      "outputs": [
        {
          "output_type": "stream",
          "text": [
            "arc sine of complex number x :  (1.023821746511783+2.452913742502812j)\n"
          ],
          "name": "stdout"
        }
      ]
    },
    {
      "cell_type": "code",
      "metadata": {
        "colab": {
          "base_uri": "https://localhost:8080/"
        },
        "id": "Hpcxws1Eu8N4",
        "outputId": "7f2806bc-d6f6-4b22-8edf-13565127ea3e"
      },
      "source": [
        "#Q35. Python program to return the representation of complex number x in polar coordinates\r\n",
        "import cmath\r\n",
        "x = 5\r\n",
        "y = 3\r\n",
        "  \r\n",
        "# converting x and y into complex number \r\n",
        "z = complex(x,y)\r\n",
        "print(\"representation of complex number x in polar coordinates : \", cmath.polar(z))"
      ],
      "execution_count": 35,
      "outputs": [
        {
          "output_type": "stream",
          "text": [
            "representation of complex number x in polar coordinates :  (5.830951894845301, 0.5404195002705842)\n"
          ],
          "name": "stdout"
        }
      ]
    },
    {
      "cell_type": "code",
      "metadata": {
        "colab": {
          "base_uri": "https://localhost:8080/"
        },
        "id": "83wvQoGVvGqV",
        "outputId": "afc1704e-4591-4dd8-89a5-c747a8c67824"
      },
      "source": [
        "#Q36. Python program to return the logarithm of complex number x to the given base\r\n",
        "import cmath\r\n",
        "x = 5\r\n",
        "y = 3\r\n",
        "  \r\n",
        "# converting x and y into complex number \r\n",
        "z = complex(x,y)\r\n",
        "base = 5\r\n",
        "print(\"logarithm of complex number x to the given base : \",cmath.log(z,base))"
      ],
      "execution_count": 36,
      "outputs": [
        {
          "output_type": "stream",
          "text": [
            "logarithm of complex number x to the given base :  (1.0955254928979907+0.33578151483536156j)\n"
          ],
          "name": "stdout"
        }
      ]
    },
    {
      "cell_type": "code",
      "metadata": {
        "colab": {
          "base_uri": "https://localhost:8080/"
        },
        "id": "GcaTFB4MvSFt",
        "outputId": "14a6cf94-32c1-4dfd-a7a0-2647d4c0ab17"
      },
      "source": [
        "#Q37. Python program to return the base-10 logarithm of complex number x\r\n",
        "import cmath\r\n",
        "x = 5\r\n",
        "y = 3\r\n",
        "  \r\n",
        "# converting x and y into complex number \r\n",
        "z = complex(x,y)\r\n",
        "print(\" base-10 logarithm of complex number x : \", cmath.log10(z))"
      ],
      "execution_count": 37,
      "outputs": [
        {
          "output_type": "stream",
          "text": [
            " base-10 logarithm of complex number x :  (0.7657394585211276+0.2347012068804276j)\n"
          ],
          "name": "stdout"
        }
      ]
    },
    {
      "cell_type": "code",
      "metadata": {
        "colab": {
          "base_uri": "https://localhost:8080/"
        },
        "id": "AvFZFKJOvxOQ",
        "outputId": "ca04c273-8976-4bbe-aeb5-c67db6f4c45c"
      },
      "source": [
        "#Q38. Python program to return the square root of complex number x\r\n",
        "import cmath\r\n",
        "x = 5\r\n",
        "y = 3\r\n",
        "  \r\n",
        "# converting x and y into complex number \r\n",
        "z = complex(x,y)\r\n",
        "print(\"square root of complex number x : \", cmath.sqrt(z))"
      ],
      "execution_count": 38,
      "outputs": [
        {
          "output_type": "stream",
          "text": [
            "square root of complex number x :  (2.3271175190399496+0.6445742373246469j)\n"
          ],
          "name": "stdout"
        }
      ]
    },
    {
      "cell_type": "code",
      "metadata": {
        "colab": {
          "base_uri": "https://localhost:8080/"
        },
        "id": "hPALIElbvxLs",
        "outputId": "b77bbf6a-4fe6-4326-a2b2-077a0874c37d"
      },
      "source": [
        "#Q39. Python program that finds and returns the closest Fraction to self that has denominator at most max_denominator\r\n",
        "from fractions import Fraction\r\n",
        "print(\"closest Fraction to self that has denominator at most max_denominator : \", Fraction('3.1415926535897932').limit_denominator(1000))"
      ],
      "execution_count": 39,
      "outputs": [
        {
          "output_type": "stream",
          "text": [
            "closest Fraction to self that has denominator at most max_denominator :  355/113\n"
          ],
          "name": "stdout"
        }
      ]
    },
    {
      "cell_type": "code",
      "metadata": {
        "colab": {
          "base_uri": "https://localhost:8080/"
        },
        "id": "UKZtuLw8vxJR",
        "outputId": "67f9c580-b681-4921-c750-c1ac73983a4d"
      },
      "source": [
        "#Q40. Python program that recovers a rational number that’s represented as a float\r\n",
        "from math import pi, cos\r\n",
        "print(\"rational number that’s represented as a float : \", Fraction(cos(pi/3)))"
      ],
      "execution_count": 40,
      "outputs": [
        {
          "output_type": "stream",
          "text": [
            "rational number that’s represented as a float :  4503599627370497/9007199254740992\n"
          ],
          "name": "stdout"
        }
      ]
    },
    {
      "cell_type": "code",
      "metadata": {
        "colab": {
          "base_uri": "https://localhost:8080/"
        },
        "id": "ws3uuk26w0Ir",
        "outputId": "915f487e-e763-4b40-ce24-c5cfa814ec1d"
      },
      "source": [
        "#Q41. Python program that recovers a rational number that’s represented as a float \r\n",
        "# finds and returns the closest Fraction to self that has denominator at most max_denominator\r\n",
        "\r\n",
        "from fractions import Fraction\r\n",
        "from math import pi, cos\r\n",
        "print(\"closest Fraction to self that has denominator at most max_denominator : \", Fraction(cos(pi/3)).limit_denominator())"
      ],
      "execution_count": 41,
      "outputs": [
        {
          "output_type": "stream",
          "text": [
            "closest Fraction to self that has denominator at most max_denominator :  1/2\n"
          ],
          "name": "stdout"
        }
      ]
    },
    {
      "cell_type": "code",
      "metadata": {
        "colab": {
          "base_uri": "https://localhost:8080/"
        },
        "id": "36aJYHjCxDti",
        "outputId": "55d7582e-bb64-4d33-8732-686019caf4b8"
      },
      "source": [
        "#Q42. Python program to return the greatest int <= self from a fraction\r\n",
        "from math import floor\r\n",
        "from fractions import Fraction\r\n",
        "print(\"greatest fraction : \", floor(Fraction(355, 113)))"
      ],
      "execution_count": 42,
      "outputs": [
        {
          "output_type": "stream",
          "text": [
            "greatest fraction :  3\n"
          ],
          "name": "stdout"
        }
      ]
    },
    {
      "cell_type": "code",
      "metadata": {
        "colab": {
          "base_uri": "https://localhost:8080/"
        },
        "id": "YjszG-otxQAK",
        "outputId": "27f35a32-ee9f-41fe-b57f-67f2980ec407"
      },
      "source": [
        "#Q43. Python program to return the least int <= self from a fraction\r\n",
        "from math import ceil\r\n",
        "from fractions import Fraction\r\n",
        "print(\"Least fraction : \", ceil(Fraction(355, 113)))"
      ],
      "execution_count": 43,
      "outputs": [
        {
          "output_type": "stream",
          "text": [
            "Least fraction :  4\n"
          ],
          "name": "stdout"
        }
      ]
    },
    {
      "cell_type": "code",
      "metadata": {
        "colab": {
          "base_uri": "https://localhost:8080/"
        },
        "id": "3zPcwgsLx2P1",
        "outputId": "3c7bfc69-196f-4ce7-8e28-620faed3d00a"
      },
      "source": [
        "#Q44. Python program that adds two counters\r\n",
        "from collections import Counter\r\n",
        "c = Counter(a=3, b=1)\r\n",
        "d = Counter(a=1, b=2)\r\n",
        "print(\"addition of two counters : \", c + d)      "
      ],
      "execution_count": 44,
      "outputs": [
        {
          "output_type": "stream",
          "text": [
            "addition of two counters :  Counter({'a': 4, 'b': 3})\n"
          ],
          "name": "stdout"
        }
      ]
    },
    {
      "cell_type": "code",
      "metadata": {
        "colab": {
          "base_uri": "https://localhost:8080/"
        },
        "id": "3S8aw1gQyOzy",
        "outputId": "e99c4d85-0a10-4d0e-e7a8-91e2de53ba1a"
      },
      "source": [
        "#Q45. Python program that returns an iterator over elements repeating each as many times as its count\r\n",
        "# The variables have to be Counter objects\r\n",
        "from collections import Counter\r\n",
        "c = Counter(a=4, b=2, c=0, d=-2)\r\n",
        "print(\"sorted Counter object : \", sorted(c.elements()))"
      ],
      "execution_count": 45,
      "outputs": [
        {
          "output_type": "stream",
          "text": [
            "sorted Counter object :  ['a', 'a', 'a', 'a', 'b', 'b']\n"
          ],
          "name": "stdout"
        }
      ]
    },
    {
      "cell_type": "code",
      "metadata": {
        "colab": {
          "base_uri": "https://localhost:8080/"
        },
        "id": "YFn9XVJQyOyF",
        "outputId": "0b434641-db72-4016-89f2-6a5b45933b7f"
      },
      "source": [
        "#Q46. Python program that returns a list of the n most common elements and their counts from the most common to the least\r\n",
        "# The variables have to be Counter objects\r\n",
        "from collections import Counter\r\n",
        "print(\"list of the n most common elements : \", Counter('abracadabra').most_common(3))"
      ],
      "execution_count": 46,
      "outputs": [
        {
          "output_type": "stream",
          "text": [
            "list of the n most common elements :  [('a', 5), ('b', 2), ('r', 2)]\n"
          ],
          "name": "stdout"
        }
      ]
    },
    {
      "cell_type": "code",
      "metadata": {
        "colab": {
          "base_uri": "https://localhost:8080/"
        },
        "id": "B1ehgpfpyOv1",
        "outputId": "3f133be9-f8e3-41f1-a2f3-594c3ce45bc8"
      },
      "source": [
        "#Q47. Python program where elements are subtracted from an iterable or from another\r\n",
        "# mapping (or counter). Like dict.update() but subtracts counts instead of \r\n",
        "# replacing them. Both inputs and outputs may be zero or negative.\r\n",
        "# The variables have to be Counter objects\r\n",
        "from collections import Counter\r\n",
        "c = Counter(a=4, b=2, c=0, d=-2)\r\n",
        "d = Counter(a=1, b=2, c=3, d=4)\r\n",
        "c.subtract(d)\r\n",
        "print(\"subtracted counter object : \", c)"
      ],
      "execution_count": 47,
      "outputs": [
        {
          "output_type": "stream",
          "text": [
            "subtracted counter object :  Counter({'a': 3, 'b': 0, 'c': -3, 'd': -6})\n"
          ],
          "name": "stdout"
        }
      ]
    },
    {
      "cell_type": "code",
      "metadata": {
        "colab": {
          "base_uri": "https://localhost:8080/"
        },
        "id": "D7ccdjSxyOsd",
        "outputId": "0171d6f7-2e60-4dbe-80b9-3e64824652db"
      },
      "source": [
        "#Q48. Python program that returns the intersection of two counter objects\r\n",
        "from collections import Counter\r\n",
        "c = Counter(a=3, b=1)\r\n",
        "d = Counter(a=1, b=2)\r\n",
        "print(\"intersection of two counter objects : \", c&d)"
      ],
      "execution_count": 48,
      "outputs": [
        {
          "output_type": "stream",
          "text": [
            "intersection of two counter objects :  Counter({'a': 1, 'b': 1})\n"
          ],
          "name": "stdout"
        }
      ]
    },
    {
      "cell_type": "code",
      "metadata": {
        "colab": {
          "base_uri": "https://localhost:8080/"
        },
        "id": "JKufwvAxyOqk",
        "outputId": "fad2a725-1626-4c91-8471-c0eff7602e49"
      },
      "source": [
        "#Q49. Python program that returns the union of two counter objects\r\n",
        "from collections import Counter\r\n",
        "c = Counter(a=3, b=1)\r\n",
        "d = Counter(a=1, b=2)\r\n",
        "print(\"union of two counter objects : \", c | d)"
      ],
      "execution_count": 49,
      "outputs": [
        {
          "output_type": "stream",
          "text": [
            "union of two counter objects :  Counter({'a': 3, 'b': 2})\n"
          ],
          "name": "stdout"
        }
      ]
    },
    {
      "cell_type": "code",
      "metadata": {
        "colab": {
          "base_uri": "https://localhost:8080/"
        },
        "id": "X0F0LeW9yOob",
        "outputId": "10f30855-351f-4642-b0da-588ac638bef7"
      },
      "source": [
        "#Q50. Python program that performs Unary addition on adding an empty counter or subtracting from an empty counter.\r\n",
        "from collections import Counter\r\n",
        "c = Counter(a=2, b=-4)\r\n",
        "print(\"Unary addition on Counter object : \", +c)"
      ],
      "execution_count": 50,
      "outputs": [
        {
          "output_type": "stream",
          "text": [
            "Unary addition on Counter object :  Counter({'a': 2})\n"
          ],
          "name": "stdout"
        }
      ]
    },
    {
      "cell_type": "code",
      "metadata": {
        "colab": {
          "base_uri": "https://localhost:8080/"
        },
        "id": "8vZcoDt2yOlr",
        "outputId": "174e91fb-2498-4b8e-d667-1463f8e95d9d"
      },
      "source": [
        "#Q51. Python program that performs Unary subtraction  on adding an empty counter or subtracting from an empty counter.\r\n",
        "from collections import Counter\r\n",
        "c = Counter(a=2, b=-4)\r\n",
        "print(\"Unary subtracted Counter object : \", -c)"
      ],
      "execution_count": 51,
      "outputs": [
        {
          "output_type": "stream",
          "text": [
            "Unary subtracted Counter object :  Counter({'b': 4})\n"
          ],
          "name": "stdout"
        }
      ]
    },
    {
      "cell_type": "code",
      "metadata": {
        "colab": {
          "base_uri": "https://localhost:8080/"
        },
        "id": "mSsqouepyOi0",
        "outputId": "93b92b6e-2388-45cb-b825-4171507b9fcd"
      },
      "source": [
        "#52. Python program that returns a new deque object initialized left-to-right with\r\n",
        "# data from iterable. If iterable is not specified, the new deque is empty.\r\n",
        "# Also, print each elements in uppercase after dequeing the given string.\r\n",
        "from collections import deque\r\n",
        "d = deque('ghi')                 # make a new deque with three items\r\n",
        "print(\"Printing elements inside of deque object\")\r\n",
        "for elem in d:                   # iterate over the deque's elements\r\n",
        "     print(elem.upper())"
      ],
      "execution_count": 52,
      "outputs": [
        {
          "output_type": "stream",
          "text": [
            "Printing elements inside of deque object\n",
            "G\n",
            "H\n",
            "I\n"
          ],
          "name": "stdout"
        }
      ]
    },
    {
      "cell_type": "code",
      "metadata": {
        "colab": {
          "base_uri": "https://localhost:8080/"
        },
        "id": "Vz2-ACU6yOga",
        "outputId": "0b5b843d-40d9-4db6-d85e-b2e232fbf621"
      },
      "source": [
        "#53. Python program that returns a new deque object initialized left-to-right with\r\n",
        "# data from iterable. If iterable is not specified, the new deque is empty.\r\n",
        "# Also, add a new entry to the right side to the provided string\r\n",
        "from collections import deque\r\n",
        "d = deque('ghi')\r\n",
        "print(\"before appending: \", d)\r\n",
        "d.append('j')\r\n",
        "print(\"after appending: \", d)"
      ],
      "execution_count": 53,
      "outputs": [
        {
          "output_type": "stream",
          "text": [
            "before appending:  deque(['g', 'h', 'i'])\n",
            "after appending:  deque(['g', 'h', 'i', 'j'])\n"
          ],
          "name": "stdout"
        }
      ]
    },
    {
      "cell_type": "code",
      "metadata": {
        "colab": {
          "base_uri": "https://localhost:8080/"
        },
        "id": "x1I65kA144Z9",
        "outputId": "dc5a0485-2a33-4a6a-87ae-bae6b5232eeb"
      },
      "source": [
        "#54. Python program that returns a new deque object initialized left-to-right with\r\n",
        "# data from iterable. If iterable is not specified, the new deque is empty.\r\n",
        "# Also, add a new entry to the left side to the provided string\r\n",
        "from collections import deque\r\n",
        "d = deque('ghi')\r\n",
        "print(\"before appending: \", d)\r\n",
        "d.appendleft('j')\r\n",
        "print(\"after appending: \", d)"
      ],
      "execution_count": 54,
      "outputs": [
        {
          "output_type": "stream",
          "text": [
            "before appending:  deque(['g', 'h', 'i'])\n",
            "after appending:  deque(['j', 'g', 'h', 'i'])\n"
          ],
          "name": "stdout"
        }
      ]
    },
    {
      "cell_type": "code",
      "metadata": {
        "colab": {
          "base_uri": "https://localhost:8080/"
        },
        "id": "h8Xk8PE244XT",
        "outputId": "0afbeed7-dc76-40fb-a9d5-200d94c69d12"
      },
      "source": [
        "#55. Python program that returns a new deque object initialized left-to-right with\r\n",
        "# data from iterable. If iterable is not specified, the new deque is empty.\r\n",
        "# Also, return and remove the rightmost item from the object\r\n",
        "from collections import deque\r\n",
        "d = deque('ghi')\r\n",
        "print(\"before popping: \", d)\r\n",
        "d.pop()\r\n",
        "print(\"after popping: \", d)"
      ],
      "execution_count": 55,
      "outputs": [
        {
          "output_type": "stream",
          "text": [
            "before popping:  deque(['g', 'h', 'i'])\n",
            "after popping:  deque(['g', 'h'])\n"
          ],
          "name": "stdout"
        }
      ]
    },
    {
      "cell_type": "code",
      "metadata": {
        "colab": {
          "base_uri": "https://localhost:8080/"
        },
        "id": "K3xXYVbk44Vl",
        "outputId": "a96d229f-dbc6-4b62-f440-7c2feb703202"
      },
      "source": [
        "#56. Python program that returns a new deque object initialized left-to-right with\r\n",
        "# data from iterable. If iterable is not specified, the new deque is empty.\r\n",
        "# Also, return and remove the leftmost item from the object\r\n",
        "from collections import deque\r\n",
        "d = deque('ghi')\r\n",
        "print(\"before popping: \", d)\r\n",
        "d.popleft()\r\n",
        "print(\"after popping: \", d)"
      ],
      "execution_count": 56,
      "outputs": [
        {
          "output_type": "stream",
          "text": [
            "before popping:  deque(['g', 'h', 'i'])\n",
            "after popping:  deque(['h', 'i'])\n"
          ],
          "name": "stdout"
        }
      ]
    },
    {
      "cell_type": "code",
      "metadata": {
        "colab": {
          "base_uri": "https://localhost:8080/"
        },
        "id": "bdL021CP44TX",
        "outputId": "332f170f-a83b-4e39-e0c8-ca4555101df2"
      },
      "source": [
        "#57. Python program that returns a new deque object initialized left-to-right with\r\n",
        "# data from iterable. If iterable is not specified, the new deque is empty.\r\n",
        "# Also, peek at leftmost item of the deque object\r\n",
        "from collections import deque\r\n",
        "d = deque('ghi')\r\n",
        "print(\"peeking at leftmost value of deque object: \", d[0])"
      ],
      "execution_count": 57,
      "outputs": [
        {
          "output_type": "stream",
          "text": [
            "peeking at leftmost value of deque object:  g\n"
          ],
          "name": "stdout"
        }
      ]
    },
    {
      "cell_type": "code",
      "metadata": {
        "colab": {
          "base_uri": "https://localhost:8080/"
        },
        "id": "V7MhkVFV44QD",
        "outputId": "e91b0dfb-a531-4c96-88a3-8e1923acc387"
      },
      "source": [
        "#58. Python program that returns a new deque object initialized left-to-right with\r\n",
        "# data from iterable. If iterable is not specified, the new deque is empty.\r\n",
        "# Also, peek at rightmost item of the deque object\r\n",
        "from collections import deque\r\n",
        "d = deque('ghi')\r\n",
        "print(\"peeking at rightmost value of deque object: \", d[-1])"
      ],
      "execution_count": 58,
      "outputs": [
        {
          "output_type": "stream",
          "text": [
            "peeking at rightmost value of deque object:  i\n"
          ],
          "name": "stdout"
        }
      ]
    },
    {
      "cell_type": "code",
      "metadata": {
        "colab": {
          "base_uri": "https://localhost:8080/"
        },
        "id": "RV5QtDQR6Szf",
        "outputId": "94952dc3-fa55-427e-dc47-fbf8b348c2d2"
      },
      "source": [
        "#59. Python program that returns a new deque object initialized left-to-right with\r\n",
        "# data from iterable. If iterable is not specified, the new deque is empty.\r\n",
        "# Also, list the contents of a deque in reverse\r\n",
        "from collections import deque\r\n",
        "d = deque('ghi')\r\n",
        "print(\"reversed deque object elements : \", list(reversed(d)))"
      ],
      "execution_count": 59,
      "outputs": [
        {
          "output_type": "stream",
          "text": [
            "reversed deque object elements :  ['i', 'h', 'g']\n"
          ],
          "name": "stdout"
        }
      ]
    },
    {
      "cell_type": "code",
      "metadata": {
        "colab": {
          "base_uri": "https://localhost:8080/"
        },
        "id": "R9c2U96e6Swd",
        "outputId": "3b35a94c-fa5b-40f8-ec70-80361c9b120d"
      },
      "source": [
        "#60. Python program that returns a new deque object initialized left-to-right with\r\n",
        "# data from iterable. If iterable is not specified, the new deque is empty.\r\n",
        "# Also, search the deque object for a specified keyword\r\n",
        "from collections import deque\r\n",
        "keyword = 'h'\r\n",
        "d = deque('ghi')\r\n",
        "print(\"Found keyword : \", keyword in d)"
      ],
      "execution_count": 60,
      "outputs": [
        {
          "output_type": "stream",
          "text": [
            "Found keyword :  True\n"
          ],
          "name": "stdout"
        }
      ]
    },
    {
      "cell_type": "code",
      "metadata": {
        "colab": {
          "base_uri": "https://localhost:8080/"
        },
        "id": "LT_slYYn437V",
        "outputId": "b25f25cb-56f9-4a4e-b7b2-2c42d87fabb6"
      },
      "source": [
        "#Q61. Python program that creates a single random binary file\n",
        "import os\n",
        "\n",
        "\n",
        "with open('output_file', 'wb') as fout:\n",
        "    fout.write(os.urandom(1024)) # replace 1024 with size_kb if not unreasonably large\n",
        "    print(\"created output_file\")"
      ],
      "execution_count": 61,
      "outputs": [
        {
          "output_type": "stream",
          "text": [
            "created output_file\n"
          ],
          "name": "stdout"
        }
      ]
    },
    {
      "cell_type": "code",
      "metadata": {
        "id": "Uuk7f5tA44Ns",
        "colab": {
          "base_uri": "https://localhost:8080/"
        },
        "outputId": "e141bf81-57ce-438f-e795-a4aa7932e1aa"
      },
      "source": [
        "#Q62. Python program that creates 10 random binary files\n",
        "import os\n",
        "\n",
        "for i in range(10):\n",
        "  with open('output_file'+str(i), 'wb') as fout:\n",
        "      fout.write(os.urandom(1024)) # replace 1024 with size_kb if not unreasonably large\n",
        "      print(\"Created output_file\"+str(i))\n"
      ],
      "execution_count": 62,
      "outputs": [
        {
          "output_type": "stream",
          "text": [
            "Created output_file0\n",
            "Created output_file1\n",
            "Created output_file2\n",
            "Created output_file3\n",
            "Created output_file4\n",
            "Created output_file5\n",
            "Created output_file6\n",
            "Created output_file7\n",
            "Created output_file8\n",
            "Created output_file9\n"
          ],
          "name": "stdout"
        }
      ]
    },
    {
      "cell_type": "code",
      "metadata": {
        "id": "e0MzUk4x44K1",
        "colab": {
          "base_uri": "https://localhost:8080/"
        },
        "outputId": "95d96a65-59df-4dcc-99a2-10a32e37d9f3"
      },
      "source": [
        "#Q63. Python program to set a path using pathlib\n",
        "from pathlib import Path\n",
        "p = Path('/content/sample_data')\n",
        "print(\"setting a path using pathlib : \", p)"
      ],
      "execution_count": 63,
      "outputs": [
        {
          "output_type": "stream",
          "text": [
            "setting a path using pathlib :  /content/sample_data\n"
          ],
          "name": "stdout"
        }
      ]
    },
    {
      "cell_type": "code",
      "metadata": {
        "id": "aicpfV_L44IH",
        "colab": {
          "base_uri": "https://localhost:8080/"
        },
        "outputId": "cfe08630-a35c-4d21-d3bc-203ffa5269ac"
      },
      "source": [
        "#Q63. Python program to set a pure path in any os using pathlib\n",
        "from pathlib import PurePath\n",
        "p = PurePath('/content/output_file')\n",
        "print(\" pure path in any os using pathlib : \", p)"
      ],
      "execution_count": 64,
      "outputs": [
        {
          "output_type": "stream",
          "text": [
            " pure path in any os using pathlib :  /content/output_file\n"
          ],
          "name": "stdout"
        }
      ]
    },
    {
      "cell_type": "code",
      "metadata": {
        "colab": {
          "base_uri": "https://localhost:8080/"
        },
        "id": "2EraBGu76pJQ",
        "outputId": "6d25c5bc-90b9-4800-8ddc-329c3d1d4c00"
      },
      "source": [
        "#Q64. Python program to check whether the paths are immutable and hashable\n",
        "from pathlib import PurePosixPath\n",
        "print(\"check whether the paths are immutable and hashable : \", PurePosixPath('foo') == PurePosixPath('FOO'))"
      ],
      "execution_count": 65,
      "outputs": [
        {
          "output_type": "stream",
          "text": [
            "check whether the paths are immutable and hashable :  False\n"
          ],
          "name": "stdout"
        }
      ]
    },
    {
      "cell_type": "code",
      "metadata": {
        "colab": {
          "base_uri": "https://localhost:8080/"
        },
        "id": "c9QY0y0v7DL_",
        "outputId": "fd1443e9-b199-4717-e403-f0039bbea18b"
      },
      "source": [
        "#Q65. Python program which accepts pathlib object and returns the path through os library\n",
        "import os\n",
        "p = PurePath('/etc')\n",
        "print(\"path through os library : \",  os.fspath(p))"
      ],
      "execution_count": 66,
      "outputs": [
        {
          "output_type": "stream",
          "text": [
            "path through os library :  /etc\n"
          ],
          "name": "stdout"
        }
      ]
    },
    {
      "cell_type": "code",
      "metadata": {
        "colab": {
          "base_uri": "https://localhost:8080/"
        },
        "id": "5azDbVc47UWu",
        "outputId": "ec9193a1-8c6f-4a57-8e12-89dfbf97978d"
      },
      "source": [
        "#Q66. Python program which sets in a pure windows path\n",
        "from pathlib import PureWindowsPath\n",
        "p = PureWindowsPath('C:/Program Files')\n",
        "print(\"a pure windows path : \", str(p))"
      ],
      "execution_count": 67,
      "outputs": [
        {
          "output_type": "stream",
          "text": [
            "a pure windows path :  C:\\Program Files\n"
          ],
          "name": "stdout"
        }
      ]
    },
    {
      "cell_type": "code",
      "metadata": {
        "colab": {
          "base_uri": "https://localhost:8080/"
        },
        "id": "bB-Fidfq7h8y",
        "outputId": "86d2e970-7f4d-443f-d35b-6a63005e6140"
      },
      "source": [
        "#Q67. Python program whcih returns a byte object from pathlib object\n",
        "import os\n",
        "p = PurePath('/etc')\n",
        "print(\"a byte object from pathlib object : \", bytes(p),type(bytes(p)))"
      ],
      "execution_count": 68,
      "outputs": [
        {
          "output_type": "stream",
          "text": [
            "a byte object from pathlib object :  b'/etc' <class 'bytes'>\n"
          ],
          "name": "stdout"
        }
      ]
    },
    {
      "cell_type": "code",
      "metadata": {
        "colab": {
          "base_uri": "https://localhost:8080/"
        },
        "id": "8CyhRrZN70ZK",
        "outputId": "d1c8e978-b3a7-46fb-d325-f723efe87c2f"
      },
      "source": [
        "#Q68. Python program which gives a tuple giving access to the path’s various components\n",
        "from pathlib import PurePath\n",
        "p = PurePath('/usr/bin/python3')\n",
        "print(\"tuple giving access to the path’s various components : \", p.parts)"
      ],
      "execution_count": 69,
      "outputs": [
        {
          "output_type": "stream",
          "text": [
            "tuple giving access to the path’s various components :  ('/', 'usr', 'bin', 'python3')\n"
          ],
          "name": "stdout"
        }
      ]
    },
    {
      "cell_type": "code",
      "metadata": {
        "colab": {
          "base_uri": "https://localhost:8080/"
        },
        "id": "uBveUU7t8KqB",
        "outputId": "004b0367-bffd-4772-c58a-61b0450f40db"
      },
      "source": [
        "#Q69.Python program which gives a string representing the drive letter or name, if any\n",
        "from pathlib import PurePath\n",
        "print(\"string representing the drive letter or nam : \", PureWindowsPath('C:/Program Files/').drive, \"Drive\")"
      ],
      "execution_count": 70,
      "outputs": [
        {
          "output_type": "stream",
          "text": [
            "string representing the drive letter or nam :  C: Drive\n"
          ],
          "name": "stdout"
        }
      ]
    },
    {
      "cell_type": "code",
      "metadata": {
        "colab": {
          "base_uri": "https://localhost:8080/"
        },
        "id": "Umzf24IG8c0Q",
        "outputId": "79c98fd0-092d-4132-9b03-4b62f49c3ae0"
      },
      "source": [
        "#Q70. Python program which gives a string representing the (local or global) root, if any\n",
        "print(\"string representing the (local or global) root : \", PureWindowsPath('C:/Program Files/').root,\" is the root\")"
      ],
      "execution_count": 71,
      "outputs": [
        {
          "output_type": "stream",
          "text": [
            "string representing the (local or global) root :  \\  is the root\n"
          ],
          "name": "stdout"
        }
      ]
    },
    {
      "cell_type": "code",
      "metadata": {
        "colab": {
          "base_uri": "https://localhost:8080/"
        },
        "id": "E2w87NDR8yIW",
        "outputId": "c9a2d406-eb9b-4e7c-9038-78b252bc5d34"
      },
      "source": [
        "#Q71. Python program which concatenates both drive and root\n",
        "print(\"concatenation of both drive and root : \", PureWindowsPath('C:/Program Files/').anchor)"
      ],
      "execution_count": 72,
      "outputs": [
        {
          "output_type": "stream",
          "text": [
            "concatenation of both drive and root :  C:\\\n"
          ],
          "name": "stdout"
        }
      ]
    },
    {
      "cell_type": "code",
      "metadata": {
        "colab": {
          "base_uri": "https://localhost:8080/"
        },
        "id": "HgUyRI2a8yFz",
        "outputId": "247859d7-a444-4b03-f8cd-e007c027d799"
      },
      "source": [
        "#Q72. Python program which gives an immutable sequence providing access to the logical ancestor of the path\n",
        "p = PureWindowsPath('c:/foo/bar/setup.py')\n",
        "print(\"logical ancestor of the path : \", p.parents[0])"
      ],
      "execution_count": 73,
      "outputs": [
        {
          "output_type": "stream",
          "text": [
            "logical ancestor of the path :  c:\\foo\\bar\n"
          ],
          "name": "stdout"
        }
      ]
    },
    {
      "cell_type": "code",
      "metadata": {
        "colab": {
          "base_uri": "https://localhost:8080/"
        },
        "id": "F6EFXDbZ8yDV",
        "outputId": "537c83ba-dd9a-481e-82d4-cf56a70ba645"
      },
      "source": [
        "#Q73. Python program which gives the logical parent of the path\n",
        "p = PurePosixPath('/a/b/c/d')\n",
        "print(\"logical parent of the path : \", p.parent)"
      ],
      "execution_count": 74,
      "outputs": [
        {
          "output_type": "stream",
          "text": [
            "logical parent of the path :  /a/b/c\n"
          ],
          "name": "stdout"
        }
      ]
    },
    {
      "cell_type": "code",
      "metadata": {
        "colab": {
          "base_uri": "https://localhost:8080/"
        },
        "id": "_CgNDTf39bbp",
        "outputId": "e9564813-b7bc-4d0f-c211-059650b455cd"
      },
      "source": [
        "#Q74. Python program which gives a string representing the final path component, excluding the drive and root, if any\n",
        "print(\"final path component, excluding the drive and root : \", PurePosixPath('my/library/setup.py').name)"
      ],
      "execution_count": 75,
      "outputs": [
        {
          "output_type": "stream",
          "text": [
            "final path component, excluding the drive and root :  setup.py\n"
          ],
          "name": "stdout"
        }
      ]
    },
    {
      "cell_type": "code",
      "metadata": {
        "colab": {
          "base_uri": "https://localhost:8080/"
        },
        "id": "t21Bzkg09kBk",
        "outputId": "d5d686b1-ba35-433b-ce41-6eb312aef040"
      },
      "source": [
        "#Q75. Python program which gives the file extension of the final component, if any\n",
        "print(\" file extension of the final component : \", PurePosixPath('my/library/setup.py').suffix)"
      ],
      "execution_count": 76,
      "outputs": [
        {
          "output_type": "stream",
          "text": [
            " file extension of the final component :  .py\n"
          ],
          "name": "stdout"
        }
      ]
    },
    {
      "cell_type": "code",
      "metadata": {
        "colab": {
          "base_uri": "https://localhost:8080/"
        },
        "id": "xs1X7wlP9tnD",
        "outputId": "1c495acd-cbbb-46a5-b8e9-75a669960c84"
      },
      "source": [
        "#76. Python program which gives the list of the path’s file extensions\n",
        "print(\"list of the path’s file extensions : \", PurePosixPath('my/library.tar.gar').suffixes)"
      ],
      "execution_count": 77,
      "outputs": [
        {
          "output_type": "stream",
          "text": [
            "list of the path’s file extensions :  ['.tar', '.gar']\n"
          ],
          "name": "stdout"
        }
      ]
    },
    {
      "cell_type": "code",
      "metadata": {
        "colab": {
          "base_uri": "https://localhost:8080/"
        },
        "id": "Y9EsvgpF93rm",
        "outputId": "17f7c2c6-94fd-4ef6-91f5-7f61516fa53f"
      },
      "source": [
        "#Q77. Python program which gives the final path component, without its suffix\n",
        "print(\"final path component, without its suffix : \", PurePosixPath('my/library.tar.gz').stem)"
      ],
      "execution_count": 78,
      "outputs": [
        {
          "output_type": "stream",
          "text": [
            "final path component, without its suffix :  library.tar\n"
          ],
          "name": "stdout"
        }
      ]
    },
    {
      "cell_type": "code",
      "metadata": {
        "colab": {
          "base_uri": "https://localhost:8080/"
        },
        "id": "KhzJkW0C-Au9",
        "outputId": "cf3eb4ef-d701-46ac-9be1-45a2166d7f38"
      },
      "source": [
        "#Q78. Python program which returns a string representation of the path with forward slashes (/)\n",
        "p = PureWindowsPath('c:\\\\windows')\n",
        "print(\"string representation of the path with forward slashes : \", str(p))"
      ],
      "execution_count": 79,
      "outputs": [
        {
          "output_type": "stream",
          "text": [
            "string representation of the path with forward slashes :  c:\\windows\n"
          ],
          "name": "stdout"
        }
      ]
    },
    {
      "cell_type": "code",
      "metadata": {
        "colab": {
          "base_uri": "https://localhost:8080/"
        },
        "id": "eGNWqhQK-Or5",
        "outputId": "58da79ca-3074-4ac8-e167-071285699fea"
      },
      "source": [
        "#Q79. Python program that represents the path as a file URI\n",
        "p = PurePosixPath('/etc/passwd')\n",
        "print(\"path as a file URI : \", p.as_uri())"
      ],
      "execution_count": 80,
      "outputs": [
        {
          "output_type": "stream",
          "text": [
            "path as a file URI :  file:///etc/passwd\n"
          ],
          "name": "stdout"
        }
      ]
    },
    {
      "cell_type": "code",
      "metadata": {
        "colab": {
          "base_uri": "https://localhost:8080/"
        },
        "id": "RI9kLSCV-YAX",
        "outputId": "a0a0092a-34b6-4e48-9102-a798ec1c6c4e"
      },
      "source": [
        "#Q80. Python program that returns whether the path is absolute or not\n",
        "print(\"Path is absolute if True else False : \", PurePosixPath('/a/b').is_absolute())"
      ],
      "execution_count": 81,
      "outputs": [
        {
          "output_type": "stream",
          "text": [
            "Path is absolute if True else False :  True\n"
          ],
          "name": "stdout"
        }
      ]
    },
    {
      "cell_type": "code",
      "metadata": {
        "colab": {
          "base_uri": "https://localhost:8080/"
        },
        "id": "NvM7-6S9-gW0",
        "outputId": "f5f8971f-1982-4ee0-c23b-d5aa0f8ef722"
      },
      "source": [
        "#Q81. Python program combines the path with each of the other arguments in turn\n",
        "print(\"Combined path is: \", PurePosixPath('/etc').joinpath('passwd'))"
      ],
      "execution_count": 82,
      "outputs": [
        {
          "output_type": "stream",
          "text": [
            "Combined path is:  /etc/passwd\n"
          ],
          "name": "stdout"
        }
      ]
    },
    {
      "cell_type": "code",
      "metadata": {
        "colab": {
          "base_uri": "https://localhost:8080/"
        },
        "id": "jDFy2rwp-utw",
        "outputId": "fc7a257a-ecf4-42e8-94c0-b7c40a6b6bd4"
      },
      "source": [
        "#Q82. Python program matches the path against the provided glob-style pattern. \n",
        "# Return True if matching is successful, False otherwise\n",
        "print(\"true if matched else False : \" ,PurePath('a/b.py').match('*.py'))"
      ],
      "execution_count": 83,
      "outputs": [
        {
          "output_type": "stream",
          "text": [
            "true if matched else False :  True\n"
          ],
          "name": "stdout"
        }
      ]
    },
    {
      "cell_type": "code",
      "metadata": {
        "colab": {
          "base_uri": "https://localhost:8080/"
        },
        "id": "BIK4OuML-7fh",
        "outputId": "4a4b8f49-6ccc-4693-9269-ce40dc9a8540"
      },
      "source": [
        "#Q83. Python program which returns a new path with the name changed. \n",
        "# If the original path doesn’t have a name, ValueError is raised\n",
        "p = PureWindowsPath('c:/Downloads/pathlib.tar.gz')\n",
        "print(\"Found at: \", p.with_name('setup.py'))"
      ],
      "execution_count": 84,
      "outputs": [
        {
          "output_type": "stream",
          "text": [
            "Found at:  c:\\Downloads\\setup.py\n"
          ],
          "name": "stdout"
        }
      ]
    },
    {
      "cell_type": "code",
      "metadata": {
        "colab": {
          "base_uri": "https://localhost:8080/"
        },
        "id": "ENYSw1Lj_HYQ",
        "outputId": "0089a05c-cdc8-42b5-f333-706ea2922d0d"
      },
      "source": [
        "#Q84. Python program which returns a new path with the suffix changed. \n",
        "# If the original path doesn’t have a suffix, the new suffix is appended instead. \n",
        "# If the suffix is an empty string, the original suffix is removed\n",
        "p = PureWindowsPath('c:/Downloads/pathlib.tar.gz')\n",
        "print(\"new path with the suffix changed : \", p.with_suffix('.bz2'))"
      ],
      "execution_count": 85,
      "outputs": [
        {
          "output_type": "stream",
          "text": [
            "new path with the suffix changed :  c:\\Downloads\\pathlib.tar.bz2\n"
          ],
          "name": "stdout"
        }
      ]
    },
    {
      "cell_type": "code",
      "metadata": {
        "colab": {
          "base_uri": "https://localhost:8080/"
        },
        "id": "Kg09cypC_ZxT",
        "outputId": "26d0497b-dfa7-49de-eeb1-9a7cbfecb481"
      },
      "source": [
        "#Q85. Python program which gets the current working directory using path object\n",
        "from pathlib import Path\n",
        "print(\"Path of current working directory : \", Path.cwd())"
      ],
      "execution_count": 86,
      "outputs": [
        {
          "output_type": "stream",
          "text": [
            "Path of current working directory :  /content\n"
          ],
          "name": "stdout"
        }
      ]
    },
    {
      "cell_type": "code",
      "metadata": {
        "colab": {
          "base_uri": "https://localhost:8080/"
        },
        "id": "gCf5DQfk_kkn",
        "outputId": "378dea1e-f75d-47e0-b5d7-b26fe15f0d76"
      },
      "source": [
        "#Q86. Python program which creates a hash object for secure hashes and message digests\n",
        "import hashlib\n",
        "m = hashlib.sha256()\n",
        "print(\"Hash Object : \", m)"
      ],
      "execution_count": 87,
      "outputs": [
        {
          "output_type": "stream",
          "text": [
            "Hash Object :  <sha256 HASH object @ 0x7f5e3b4946e8>\n"
          ],
          "name": "stdout"
        }
      ]
    },
    {
      "cell_type": "code",
      "metadata": {
        "colab": {
          "base_uri": "https://localhost:8080/"
        },
        "id": "6-T8kQgcACbX",
        "outputId": "d3493270-eb28-498f-89da-bb6bb16f009c"
      },
      "source": [
        "#Q87. Python program which creates a hash object for secure hashes and message digests\n",
        "# and updates with custom messages\n",
        "import hashlib\n",
        "m = hashlib.sha256()\n",
        "m.update(b\"Nobody inspects\")\n",
        "m.update(b\" the spammish repetition\")\n",
        "print(\"Hexdigest: \", m.hexdigest())"
      ],
      "execution_count": 88,
      "outputs": [
        {
          "output_type": "stream",
          "text": [
            "Hexdigest:  031edd7d41651593c5fe5c006fa5752b37fddff7bc4e843aa6af0c950f4b9406\n"
          ],
          "name": "stdout"
        }
      ]
    },
    {
      "cell_type": "code",
      "metadata": {
        "colab": {
          "base_uri": "https://localhost:8080/"
        },
        "id": "ViAJWEfnAdQ5",
        "outputId": "29456193-37c8-4bff-d86b-b96973c421cf"
      },
      "source": [
        "#Q88. Python program which uses a C-style parser for command line options\n",
        "import getopt\n",
        "args = '-a -b -cfoo -d bar a1 a2'.split()\n",
        "print(args)\n",
        "['-a', '-b', '-cfoo', '-d', 'bar', 'a1', 'a2']\n",
        "optlist, args = getopt.getopt(args, 'abc:d:')\n",
        "print('C-style parser for command line options are: ', optlist)\n",
        "[('-a', ''), ('-b', ''), ('-c', 'foo'), ('-d', 'bar')]\n",
        "print(\"Just the arguments: \", args)"
      ],
      "execution_count": 89,
      "outputs": [
        {
          "output_type": "stream",
          "text": [
            "['-a', '-b', '-cfoo', '-d', 'bar', 'a1', 'a2']\n",
            "C-style parser for command line options are:  [('-a', ''), ('-b', ''), ('-c', 'foo'), ('-d', 'bar')]\n",
            "Just the arguments:  ['a1', 'a2']\n"
          ],
          "name": "stdout"
        }
      ]
    },
    {
      "cell_type": "code",
      "metadata": {
        "colab": {
          "base_uri": "https://localhost:8080/"
        },
        "id": "_NsrPY-bBJJX",
        "outputId": "c455642d-81f5-4e38-c077-cd92160014d8"
      },
      "source": [
        "#Q89. Python program that gets random access to text lines\n",
        "import linecache\n",
        "print(\"Randomly accessed text lines : \", linecache.getline(linecache.__file__, 8))"
      ],
      "execution_count": 90,
      "outputs": [
        {
          "output_type": "stream",
          "text": [
            "Randomly accessed text lines :  import functools\n",
            "\n"
          ],
          "name": "stdout"
        }
      ]
    },
    {
      "cell_type": "code",
      "metadata": {
        "colab": {
          "base_uri": "https://localhost:8080/"
        },
        "id": "yvICckciBn7i",
        "outputId": "73e153dc-1898-4e5e-f3c5-293f9254469e"
      },
      "source": [
        "#Q90. Python program that prints all the files inside a directory\n",
        "import glob\n",
        "print(\"All files of the directory : \", glob.glob('*'))"
      ],
      "execution_count": 91,
      "outputs": [
        {
          "output_type": "stream",
          "text": [
            "All files of the directory :  ['output_file5', 'output_file', 'output_file7', 'output_file4', 'output_file3', 'output_file8', 'output_file6', 'example.db', 'output_file1', 'output_file9', 'output_file2', 'output_file0', 'sample_data']\n"
          ],
          "name": "stdout"
        }
      ]
    },
    {
      "cell_type": "code",
      "metadata": {
        "colab": {
          "base_uri": "https://localhost:8080/"
        },
        "id": "Tjas123eB9Sq",
        "outputId": "0c9450e0-443b-437f-d490-bf64485eb376"
      },
      "source": [
        "#Q91. Python program that returns a random byte string containing nbytes number of bytes using secrets library. \n",
        "# If nbytes is None or not supplied, a reasonable default is used.\n",
        "import secrets\n",
        "print(\"random byte string : \", secrets.token_bytes(16))"
      ],
      "execution_count": 92,
      "outputs": [
        {
          "output_type": "stream",
          "text": [
            "random byte string :  b'\\x10\\x01\\xbc\\x90v\\x84\\xd8W\\xea\\xbb!\\xa8\\x07\\x8a\\x84\\xd2'\n"
          ],
          "name": "stdout"
        }
      ]
    },
    {
      "cell_type": "code",
      "metadata": {
        "colab": {
          "base_uri": "https://localhost:8080/"
        },
        "id": "f-4cnu9kCSEx",
        "outputId": "0e9e77cd-7734-4b71-bf78-99ce8336d7c4"
      },
      "source": [
        "#Q92. Python program that returns a random text string, in hexadecimal using secrets library.\n",
        "# The string has nbytes random bytes, each byte converted to two hex digits. \n",
        "# If nbytes is None or not supplied, a reasonable default is used\n",
        "import secrets\n",
        "print(\"random text string : \", secrets.token_hex(16))\n"
      ],
      "execution_count": 93,
      "outputs": [
        {
          "output_type": "stream",
          "text": [
            "random text string :  cc6c1e5d8ac4a79c17240db18e873f81\n"
          ],
          "name": "stdout"
        }
      ]
    },
    {
      "cell_type": "code",
      "metadata": {
        "colab": {
          "base_uri": "https://localhost:8080/"
        },
        "id": "VH8Ofn8gCqBz",
        "outputId": "3900448e-8bf5-4cd8-eb22-fa2441256c6f"
      },
      "source": [
        "#Q93. Python program that opens a connection to the SQLite database file database\n",
        "import sqlite3\n",
        "conn = sqlite3.connect('example.db')\n",
        "print(\"Connection established to db: \", conn)"
      ],
      "execution_count": 94,
      "outputs": [
        {
          "output_type": "stream",
          "text": [
            "Connection established to db:  <sqlite3.Connection object at 0x7f5e3abe8490>\n"
          ],
          "name": "stdout"
        }
      ]
    },
    {
      "cell_type": "code",
      "metadata": {
        "colab": {
          "base_uri": "https://localhost:8080/"
        },
        "id": "J3KLR8_3C_BP",
        "outputId": "ac51125b-f81f-4379-9e12-d339b78b6375"
      },
      "source": [
        "#Q94. Python program that behaves like a script rewriter that transforms float literals into Decimal objects\n",
        "from tokenize import tokenize, untokenize, NUMBER, STRING, NAME, OP\n",
        "from io import BytesIO\n",
        "\n",
        "def decistmt(s):\n",
        "    \"\"\"Substitute Decimals for floats in a string of statements.\n",
        "    \"\"\"\n",
        "    result = []\n",
        "    g = tokenize(BytesIO(s.encode('utf-8')).readline)  # tokenize the string\n",
        "    for toknum, tokval, _, _, _ in g:\n",
        "        if toknum == NUMBER and '.' in tokval:  # replace NUMBER tokens\n",
        "            result.extend([\n",
        "                (NAME, 'Decimal'),\n",
        "                (OP, '('),\n",
        "                (STRING, repr(tokval)),\n",
        "                (OP, ')')\n",
        "            ])\n",
        "        else:\n",
        "            result.append((toknum, tokval))\n",
        "    return untokenize(result).decode('utf-8')\n",
        "from decimal import Decimal\n",
        "s = 'print(+21.3e-5*-.1234/81.7)'\n",
        "print(\"Output from decistmt function after tokenizing the statement : \", decistmt(s))\n"
      ],
      "execution_count": 95,
      "outputs": [
        {
          "output_type": "stream",
          "text": [
            "Output from decistmt function after tokenizing the statement :  print (+Decimal ('21.3e-5')*-Decimal ('.1234')/Decimal ('81.7'))\n"
          ],
          "name": "stdout"
        }
      ]
    },
    {
      "cell_type": "code",
      "metadata": {
        "colab": {
          "base_uri": "https://localhost:8080/"
        },
        "id": "oqqeTT8LEzhW",
        "outputId": "0cc8677c-4375-4af9-b358-eb830c827232"
      },
      "source": [
        "#Q95. Python program to generate a hash of a password using the strongest \n",
        "# available method and check it against the original\n",
        "import crypt\n",
        "from hmac import compare_digest as compare_hash\n",
        "\n",
        "hashed = crypt.crypt(\"plaintext\")\n",
        "if not compare_hash(hashed, crypt.crypt(\"plaintext\", hashed)):\n",
        "    raise ValueError(\"hashed version doesn't validate against original\")\n",
        "print(\"Hash: \", hashed)"
      ],
      "execution_count": 96,
      "outputs": [
        {
          "output_type": "stream",
          "text": [
            "Hash:  $6$o5BV9fHn3C7yYSjm$WeGn/RHT3yOrdadMhTa4jldwGkPIEETqd495/567qmkchE6IzibOT7RksSM1jTmLYGHeSLSRBPlOs9sHyKXXC/\n"
          ],
          "name": "stdout"
        }
      ]
    },
    {
      "cell_type": "code",
      "metadata": {
        "colab": {
          "base_uri": "https://localhost:8080/"
        },
        "id": "fOxEIAndE1i-",
        "outputId": "fabb7dc3-de25-40db-b8a2-1777c0d87b79"
      },
      "source": [
        "#Q96. Python program which accesses to the compiler’s symbol tables and returns \n",
        "# True if name binding introduces new namespace\n",
        "import symtable\n",
        "table = symtable.symtable(\"def some_func(): pass\", \"string\", \"exec\")\n",
        "print(\"Binding introduced new namespace in compliler's symbol tables : \", table.lookup(\"some_func\").is_namespace())"
      ],
      "execution_count": 97,
      "outputs": [
        {
          "output_type": "stream",
          "text": [
            "Binding introduced new namespace in compliler's symbol tables :  True\n"
          ],
          "name": "stdout"
        }
      ]
    },
    {
      "cell_type": "code",
      "metadata": {
        "colab": {
          "base_uri": "https://localhost:8080/"
        },
        "id": "gdgrfCx_F6e_",
        "outputId": "2e9297f9-ebba-4aa8-8e07-e26a0e7ef97b"
      },
      "source": [
        "#Q97. Python program to register subclass as a “virtual subclass” of this metaclass for defining Abstract Base Classes\n",
        "from abc import ABC\n",
        "\n",
        "class MyABC(ABC):\n",
        "    pass\n",
        "\n",
        "MyABC.register(tuple)\n",
        "\n",
        "assert issubclass(tuple, MyABC)\n",
        "assert isinstance((), MyABC)\n",
        "print(\"If no error or warning occurs, then MyABC is registered as a virtual subclass\")"
      ],
      "execution_count": 98,
      "outputs": [
        {
          "output_type": "stream",
          "text": [
            "If no error or warning occurs, then MyABC is registered as a virtual subclass\n"
          ],
          "name": "stdout"
        }
      ]
    },
    {
      "cell_type": "code",
      "metadata": {
        "colab": {
          "base_uri": "https://localhost:8080/"
        },
        "id": "neVL6RivHFeu",
        "outputId": "7e718e04-a8cf-47ad-9e1c-54d32306a4d6"
      },
      "source": [
        "#Q98. Python program that returns True if the object is currently tracked by the garbage collector, False otherwise\n",
        "import gc\n",
        "print(\"Track status of object --> 0: \", gc.is_tracked(0))"
      ],
      "execution_count": 99,
      "outputs": [
        {
          "output_type": "stream",
          "text": [
            "Track status of object --> 0:  False\n"
          ],
          "name": "stdout"
        }
      ]
    },
    {
      "cell_type": "code",
      "metadata": {
        "colab": {
          "base_uri": "https://localhost:8080/"
        },
        "id": "TFSHYbvyHzPI",
        "outputId": "ed9fd6ff-8925-41ec-e892-eba26d9e7707"
      },
      "source": [
        "#Q99. Python program that returns a shell-escaped version of the string s. \n",
        "# The returned value is a string that can safely be used as one token in a shell \n",
        "# command line, for cases where you cannot use a list.\n",
        "filename = 'somefile; rm -rf ~'\n",
        "command = 'ls -l {}'.format(filename)\n",
        "print(\"Command: \", command)"
      ],
      "execution_count": 100,
      "outputs": [
        {
          "output_type": "stream",
          "text": [
            "Command:  ls -l somefile; rm -rf ~\n"
          ],
          "name": "stdout"
        }
      ]
    },
    {
      "cell_type": "code",
      "metadata": {
        "colab": {
          "base_uri": "https://localhost:8080/"
        },
        "id": "VqEDaaNLIlxU",
        "outputId": "a420f0d2-e938-4fd7-feab-a5829c32719c"
      },
      "source": [
        "#Q100. Python program that uses bz2 library to compress text data and check its \n",
        "# compression ratio and also check for equality to original object after round-trip\n",
        "import bz2\n",
        "data = b\"\"\"\\\n",
        "Donec rhoncus quis sapien sit amet molestie. Fusce scelerisque vel augue\n",
        "nec ullamcorper. Nam rutrum pretium placerat. Aliquam vel tristique lorem,\n",
        "sit amet cursus ante. In interdum laoreet mi, sit amet ultrices purus\n",
        "pulvinar a. Nam gravida euismod magna, non varius justo tincidunt feugiat.\n",
        "Aliquam pharetra lacus non risus vehicula rutrum. Maecenas aliquam leo\n",
        "felis. Pellentesque semper nunc sit amet nibh ullamcorper, ac elementum\n",
        "dolor luctus. Curabitur lacinia mi ornare consectetur vestibulum.\"\"\"\n",
        "c = bz2.compress(data)\n",
        "print(\"Data Compression Ratio : \", len(data) / len(c))  # Data compression ratio\n",
        "1.513595166163142\n",
        "d = bz2.decompress(c)\n",
        "print(\"Checking for equality: \", data == d)  # Check equality to original object after round-trip]"
      ],
      "execution_count": 101,
      "outputs": [
        {
          "output_type": "stream",
          "text": [
            "Data Compression Ratio :  1.513595166163142\n",
            "Checking for equality:  True\n"
          ],
          "name": "stdout"
        }
      ]
    },
    {
      "cell_type": "code",
      "metadata": {
        "id": "g0OQp_Y0KN0C"
      },
      "source": [
        ""
      ],
      "execution_count": 101,
      "outputs": []
    }
  ]
}