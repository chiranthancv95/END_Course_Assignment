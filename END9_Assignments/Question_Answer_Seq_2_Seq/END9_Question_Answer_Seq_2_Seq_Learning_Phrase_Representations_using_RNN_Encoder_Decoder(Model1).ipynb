{
  "nbformat": 4,
  "nbformat_minor": 0,
  "metadata": {
    "kernelspec": {
      "display_name": "Python 3",
      "language": "python",
      "name": "python3"
    },
    "language_info": {
      "codemirror_mode": {
        "name": "ipython",
        "version": 3
      },
      "file_extension": ".py",
      "mimetype": "text/x-python",
      "name": "python",
      "nbconvert_exporter": "python",
      "pygments_lexer": "ipython3",
      "version": "3.8.2"
    },
    "colab": {
      "name": "END9_Question_Answer_Seq_2_Seq - Learning Phrase Representations using RNN Encoder-Decoder(Model1).ipynb",
      "provenance": [],
      "collapsed_sections": [],
      "toc_visible": true
    },
    "accelerator": "GPU"
  },
  "cells": [
    {
      "cell_type": "code",
      "metadata": {
        "colab": {
          "base_uri": "https://localhost:8080/"
        },
        "id": "7TxULa5pJc99",
        "outputId": "09ed7038-271b-4ead-9bc4-0e95fe21a88a"
      },
      "source": [
        "%%bash\n",
        "python -m spacy download en\n",
        "python -m spacy download de"
      ],
      "execution_count": 1,
      "outputs": [
        {
          "output_type": "stream",
          "text": [
            "Requirement already satisfied: en_core_web_sm==2.2.5 from https://github.com/explosion/spacy-models/releases/download/en_core_web_sm-2.2.5/en_core_web_sm-2.2.5.tar.gz#egg=en_core_web_sm==2.2.5 in /usr/local/lib/python3.6/dist-packages (2.2.5)\n",
            "Requirement already satisfied: spacy>=2.2.2 in /usr/local/lib/python3.6/dist-packages (from en_core_web_sm==2.2.5) (2.2.4)\n",
            "Requirement already satisfied: numpy>=1.15.0 in /usr/local/lib/python3.6/dist-packages (from spacy>=2.2.2->en_core_web_sm==2.2.5) (1.19.4)\n",
            "Requirement already satisfied: preshed<3.1.0,>=3.0.2 in /usr/local/lib/python3.6/dist-packages (from spacy>=2.2.2->en_core_web_sm==2.2.5) (3.0.5)\n",
            "Requirement already satisfied: tqdm<5.0.0,>=4.38.0 in /usr/local/lib/python3.6/dist-packages (from spacy>=2.2.2->en_core_web_sm==2.2.5) (4.41.1)\n",
            "Requirement already satisfied: murmurhash<1.1.0,>=0.28.0 in /usr/local/lib/python3.6/dist-packages (from spacy>=2.2.2->en_core_web_sm==2.2.5) (1.0.5)\n",
            "Requirement already satisfied: wasabi<1.1.0,>=0.4.0 in /usr/local/lib/python3.6/dist-packages (from spacy>=2.2.2->en_core_web_sm==2.2.5) (0.8.0)\n",
            "Requirement already satisfied: cymem<2.1.0,>=2.0.2 in /usr/local/lib/python3.6/dist-packages (from spacy>=2.2.2->en_core_web_sm==2.2.5) (2.0.5)\n",
            "Requirement already satisfied: plac<1.2.0,>=0.9.6 in /usr/local/lib/python3.6/dist-packages (from spacy>=2.2.2->en_core_web_sm==2.2.5) (1.1.3)\n",
            "Requirement already satisfied: setuptools in /usr/local/lib/python3.6/dist-packages (from spacy>=2.2.2->en_core_web_sm==2.2.5) (51.0.0)\n",
            "Requirement already satisfied: catalogue<1.1.0,>=0.0.7 in /usr/local/lib/python3.6/dist-packages (from spacy>=2.2.2->en_core_web_sm==2.2.5) (1.0.0)\n",
            "Requirement already satisfied: requests<3.0.0,>=2.13.0 in /usr/local/lib/python3.6/dist-packages (from spacy>=2.2.2->en_core_web_sm==2.2.5) (2.23.0)\n",
            "Requirement already satisfied: srsly<1.1.0,>=1.0.2 in /usr/local/lib/python3.6/dist-packages (from spacy>=2.2.2->en_core_web_sm==2.2.5) (1.0.5)\n",
            "Requirement already satisfied: thinc==7.4.0 in /usr/local/lib/python3.6/dist-packages (from spacy>=2.2.2->en_core_web_sm==2.2.5) (7.4.0)\n",
            "Requirement already satisfied: blis<0.5.0,>=0.4.0 in /usr/local/lib/python3.6/dist-packages (from spacy>=2.2.2->en_core_web_sm==2.2.5) (0.4.1)\n",
            "Requirement already satisfied: importlib-metadata>=0.20; python_version < \"3.8\" in /usr/local/lib/python3.6/dist-packages (from catalogue<1.1.0,>=0.0.7->spacy>=2.2.2->en_core_web_sm==2.2.5) (3.3.0)\n",
            "Requirement already satisfied: certifi>=2017.4.17 in /usr/local/lib/python3.6/dist-packages (from requests<3.0.0,>=2.13.0->spacy>=2.2.2->en_core_web_sm==2.2.5) (2020.12.5)\n",
            "Requirement already satisfied: chardet<4,>=3.0.2 in /usr/local/lib/python3.6/dist-packages (from requests<3.0.0,>=2.13.0->spacy>=2.2.2->en_core_web_sm==2.2.5) (3.0.4)\n",
            "Requirement already satisfied: urllib3!=1.25.0,!=1.25.1,<1.26,>=1.21.1 in /usr/local/lib/python3.6/dist-packages (from requests<3.0.0,>=2.13.0->spacy>=2.2.2->en_core_web_sm==2.2.5) (1.24.3)\n",
            "Requirement already satisfied: idna<3,>=2.5 in /usr/local/lib/python3.6/dist-packages (from requests<3.0.0,>=2.13.0->spacy>=2.2.2->en_core_web_sm==2.2.5) (2.10)\n",
            "Requirement already satisfied: typing-extensions>=3.6.4; python_version < \"3.8\" in /usr/local/lib/python3.6/dist-packages (from importlib-metadata>=0.20; python_version < \"3.8\"->catalogue<1.1.0,>=0.0.7->spacy>=2.2.2->en_core_web_sm==2.2.5) (3.7.4.3)\n",
            "Requirement already satisfied: zipp>=0.5 in /usr/local/lib/python3.6/dist-packages (from importlib-metadata>=0.20; python_version < \"3.8\"->catalogue<1.1.0,>=0.0.7->spacy>=2.2.2->en_core_web_sm==2.2.5) (3.4.0)\n",
            "\u001b[38;5;2m✔ Download and installation successful\u001b[0m\n",
            "You can now load the model via spacy.load('en_core_web_sm')\n",
            "\u001b[38;5;2m✔ Linking successful\u001b[0m\n",
            "/usr/local/lib/python3.6/dist-packages/en_core_web_sm -->\n",
            "/usr/local/lib/python3.6/dist-packages/spacy/data/en\n",
            "You can now load the model via spacy.load('en')\n",
            "Collecting de_core_news_sm==2.2.5\n",
            "  Downloading https://github.com/explosion/spacy-models/releases/download/de_core_news_sm-2.2.5/de_core_news_sm-2.2.5.tar.gz (14.9MB)\n",
            "Requirement already satisfied: spacy>=2.2.2 in /usr/local/lib/python3.6/dist-packages (from de_core_news_sm==2.2.5) (2.2.4)\n",
            "Requirement already satisfied: srsly<1.1.0,>=1.0.2 in /usr/local/lib/python3.6/dist-packages (from spacy>=2.2.2->de_core_news_sm==2.2.5) (1.0.5)\n",
            "Requirement already satisfied: tqdm<5.0.0,>=4.38.0 in /usr/local/lib/python3.6/dist-packages (from spacy>=2.2.2->de_core_news_sm==2.2.5) (4.41.1)\n",
            "Requirement already satisfied: numpy>=1.15.0 in /usr/local/lib/python3.6/dist-packages (from spacy>=2.2.2->de_core_news_sm==2.2.5) (1.19.4)\n",
            "Requirement already satisfied: preshed<3.1.0,>=3.0.2 in /usr/local/lib/python3.6/dist-packages (from spacy>=2.2.2->de_core_news_sm==2.2.5) (3.0.5)\n",
            "Requirement already satisfied: thinc==7.4.0 in /usr/local/lib/python3.6/dist-packages (from spacy>=2.2.2->de_core_news_sm==2.2.5) (7.4.0)\n",
            "Requirement already satisfied: catalogue<1.1.0,>=0.0.7 in /usr/local/lib/python3.6/dist-packages (from spacy>=2.2.2->de_core_news_sm==2.2.5) (1.0.0)\n",
            "Requirement already satisfied: murmurhash<1.1.0,>=0.28.0 in /usr/local/lib/python3.6/dist-packages (from spacy>=2.2.2->de_core_news_sm==2.2.5) (1.0.5)\n",
            "Requirement already satisfied: wasabi<1.1.0,>=0.4.0 in /usr/local/lib/python3.6/dist-packages (from spacy>=2.2.2->de_core_news_sm==2.2.5) (0.8.0)\n",
            "Requirement already satisfied: plac<1.2.0,>=0.9.6 in /usr/local/lib/python3.6/dist-packages (from spacy>=2.2.2->de_core_news_sm==2.2.5) (1.1.3)\n",
            "Requirement already satisfied: setuptools in /usr/local/lib/python3.6/dist-packages (from spacy>=2.2.2->de_core_news_sm==2.2.5) (51.0.0)\n",
            "Requirement already satisfied: requests<3.0.0,>=2.13.0 in /usr/local/lib/python3.6/dist-packages (from spacy>=2.2.2->de_core_news_sm==2.2.5) (2.23.0)\n",
            "Requirement already satisfied: blis<0.5.0,>=0.4.0 in /usr/local/lib/python3.6/dist-packages (from spacy>=2.2.2->de_core_news_sm==2.2.5) (0.4.1)\n",
            "Requirement already satisfied: cymem<2.1.0,>=2.0.2 in /usr/local/lib/python3.6/dist-packages (from spacy>=2.2.2->de_core_news_sm==2.2.5) (2.0.5)\n",
            "Requirement already satisfied: importlib-metadata>=0.20; python_version < \"3.8\" in /usr/local/lib/python3.6/dist-packages (from catalogue<1.1.0,>=0.0.7->spacy>=2.2.2->de_core_news_sm==2.2.5) (3.3.0)\n",
            "Requirement already satisfied: urllib3!=1.25.0,!=1.25.1,<1.26,>=1.21.1 in /usr/local/lib/python3.6/dist-packages (from requests<3.0.0,>=2.13.0->spacy>=2.2.2->de_core_news_sm==2.2.5) (1.24.3)\n",
            "Requirement already satisfied: certifi>=2017.4.17 in /usr/local/lib/python3.6/dist-packages (from requests<3.0.0,>=2.13.0->spacy>=2.2.2->de_core_news_sm==2.2.5) (2020.12.5)\n",
            "Requirement already satisfied: chardet<4,>=3.0.2 in /usr/local/lib/python3.6/dist-packages (from requests<3.0.0,>=2.13.0->spacy>=2.2.2->de_core_news_sm==2.2.5) (3.0.4)\n",
            "Requirement already satisfied: idna<3,>=2.5 in /usr/local/lib/python3.6/dist-packages (from requests<3.0.0,>=2.13.0->spacy>=2.2.2->de_core_news_sm==2.2.5) (2.10)\n",
            "Requirement already satisfied: typing-extensions>=3.6.4; python_version < \"3.8\" in /usr/local/lib/python3.6/dist-packages (from importlib-metadata>=0.20; python_version < \"3.8\"->catalogue<1.1.0,>=0.0.7->spacy>=2.2.2->de_core_news_sm==2.2.5) (3.7.4.3)\n",
            "Requirement already satisfied: zipp>=0.5 in /usr/local/lib/python3.6/dist-packages (from importlib-metadata>=0.20; python_version < \"3.8\"->catalogue<1.1.0,>=0.0.7->spacy>=2.2.2->de_core_news_sm==2.2.5) (3.4.0)\n",
            "Building wheels for collected packages: de-core-news-sm\n",
            "  Building wheel for de-core-news-sm (setup.py): started\n",
            "  Building wheel for de-core-news-sm (setup.py): finished with status 'done'\n",
            "  Created wheel for de-core-news-sm: filename=de_core_news_sm-2.2.5-cp36-none-any.whl size=14907057 sha256=3104bea00d00a3dd92426708b81839780c6063a66538214f5e0b4ca83dcc37e7\n",
            "  Stored in directory: /tmp/pip-ephem-wheel-cache-a46gg_yk/wheels/ba/3f/ed/d4aa8e45e7191b7f32db4bfad565e7da1edbf05c916ca7a1ca\n",
            "Successfully built de-core-news-sm\n",
            "Installing collected packages: de-core-news-sm\n",
            "Successfully installed de-core-news-sm-2.2.5\n",
            "\u001b[38;5;2m✔ Download and installation successful\u001b[0m\n",
            "You can now load the model via spacy.load('de_core_news_sm')\n",
            "\u001b[38;5;2m✔ Linking successful\u001b[0m\n",
            "/usr/local/lib/python3.6/dist-packages/de_core_news_sm -->\n",
            "/usr/local/lib/python3.6/dist-packages/spacy/data/de\n",
            "You can now load the model via spacy.load('de')\n"
          ],
          "name": "stdout"
        }
      ]
    },
    {
      "cell_type": "code",
      "metadata": {
        "id": "H81BIfUzJc7R"
      },
      "source": [
        "# Import Library\n",
        "import random\n",
        "import torch, torchtext\n",
        "from torchtext import data \n",
        "\n",
        "import torch\n",
        "import torch.nn as nn\n",
        "import torch.optim as optim\n",
        "\n",
        "from torchtext.data import Field, BucketIterator\n",
        "\n",
        "import spacy\n",
        "import numpy as np\n",
        "import pandas as pd\n",
        "import random\n",
        "import math\n",
        "import time\n",
        "\n",
        "SEED = 1234\n",
        "import torch.nn.functional as F\n",
        "random.seed(SEED)\n",
        "np.random.seed(SEED)\n",
        "torch.manual_seed(SEED)\n",
        "torch.cuda.manual_seed(SEED)\n",
        "torch.backends.cudnn.deterministic = True"
      ],
      "execution_count": 3,
      "outputs": []
    },
    {
      "cell_type": "markdown",
      "metadata": {
        "id": "c5KjUXEYy8lB"
      },
      "source": [
        "### Preparing Data"
      ]
    },
    {
      "cell_type": "code",
      "metadata": {
        "colab": {
          "base_uri": "https://localhost:8080/"
        },
        "id": "dNnQTvdtJczg",
        "outputId": "6fdbd38f-ea04-45e3-8121-c07650261564"
      },
      "source": [
        "#After uploading the tar file run the below command\n",
        "!tar -xvf /content/Question_Answer_Dataset_v1.2.tar.gz"
      ],
      "execution_count": 5,
      "outputs": [
        {
          "output_type": "stream",
          "text": [
            "Question_Answer_Dataset_v1.2/\n",
            "Question_Answer_Dataset_v1.2/S08/\n",
            "Question_Answer_Dataset_v1.2/S08/question_answer_pairs.txt\n",
            "Question_Answer_Dataset_v1.2/S08/data/\n",
            "Question_Answer_Dataset_v1.2/S08/data/set4/\n",
            "Question_Answer_Dataset_v1.2/S08/data/set4/a6.txt.clean\n",
            "Question_Answer_Dataset_v1.2/S08/data/set4/a3.txt.clean\n",
            "Question_Answer_Dataset_v1.2/S08/data/set4/a3.txt\n",
            "Question_Answer_Dataset_v1.2/S08/data/set4/a5.txt\n",
            "Question_Answer_Dataset_v1.2/S08/data/set4/a4o.htm\n",
            "Question_Answer_Dataset_v1.2/S08/data/set4/a3.htm\n",
            "Question_Answer_Dataset_v1.2/S08/data/set4/a9.htm\n",
            "Question_Answer_Dataset_v1.2/S08/data/set4/a2.txt\n",
            "Question_Answer_Dataset_v1.2/S08/data/set4/a9.txt.clean\n",
            "Question_Answer_Dataset_v1.2/S08/data/set4/a4.htm\n",
            "Question_Answer_Dataset_v1.2/S08/data/set4/a4.txt\n",
            "Question_Answer_Dataset_v1.2/S08/data/set4/a4.txt.clean\n",
            "Question_Answer_Dataset_v1.2/S08/data/set4/a2.htm\n",
            "Question_Answer_Dataset_v1.2/S08/data/set4/a7o.htm\n",
            "Question_Answer_Dataset_v1.2/S08/data/set4/a6.txt\n",
            "Question_Answer_Dataset_v1.2/S08/data/set4/a5o.htm\n",
            "Question_Answer_Dataset_v1.2/S08/data/set4/a1o.htm\n",
            "Question_Answer_Dataset_v1.2/S08/data/set4/a9o.htm\n",
            "Question_Answer_Dataset_v1.2/S08/data/set4/a8.txt\n",
            "Question_Answer_Dataset_v1.2/S08/data/set4/a10.htm\n",
            "Question_Answer_Dataset_v1.2/S08/data/set4/a10.txt\n",
            "Question_Answer_Dataset_v1.2/S08/data/set4/a8.txt.clean\n",
            "Question_Answer_Dataset_v1.2/S08/data/set4/topics.txt\n",
            "Question_Answer_Dataset_v1.2/S08/data/set4/a2o.htm\n",
            "Question_Answer_Dataset_v1.2/S08/data/set4/a8.htm\n",
            "Question_Answer_Dataset_v1.2/S08/data/set4/a7.htm\n",
            "Question_Answer_Dataset_v1.2/S08/data/set4/a1.txt.clean\n",
            "Question_Answer_Dataset_v1.2/S08/data/set4/a2.txt.clean\n",
            "Question_Answer_Dataset_v1.2/S08/data/set4/a10.txt.clean\n",
            "Question_Answer_Dataset_v1.2/S08/data/set4/a10o.htm\n",
            "Question_Answer_Dataset_v1.2/S08/data/set4/a6.htm\n",
            "Question_Answer_Dataset_v1.2/S08/data/set4/a7.txt\n",
            "Question_Answer_Dataset_v1.2/S08/data/set4/a9.txt\n",
            "Question_Answer_Dataset_v1.2/S08/data/set4/a6o.htm\n",
            "Question_Answer_Dataset_v1.2/S08/data/set4/a8o.htm\n",
            "Question_Answer_Dataset_v1.2/S08/data/set4/a1.htm\n",
            "Question_Answer_Dataset_v1.2/S08/data/set4/a1.txt\n",
            "Question_Answer_Dataset_v1.2/S08/data/set4/a7.txt.clean\n",
            "Question_Answer_Dataset_v1.2/S08/data/set4/a5.txt.clean\n",
            "Question_Answer_Dataset_v1.2/S08/data/set4/a5.htm\n",
            "Question_Answer_Dataset_v1.2/S08/data/set4/a3o.htm\n",
            "Question_Answer_Dataset_v1.2/S08/data/set3/\n",
            "Question_Answer_Dataset_v1.2/S08/data/set3/a6.txt.clean\n",
            "Question_Answer_Dataset_v1.2/S08/data/set3/a3.txt.clean\n",
            "Question_Answer_Dataset_v1.2/S08/data/set3/a3.txt\n",
            "Question_Answer_Dataset_v1.2/S08/data/set3/a5.txt\n",
            "Question_Answer_Dataset_v1.2/S08/data/set3/a4o.htm\n",
            "Question_Answer_Dataset_v1.2/S08/data/set3/a3.htm\n",
            "Question_Answer_Dataset_v1.2/S08/data/set3/a9.htm\n",
            "Question_Answer_Dataset_v1.2/S08/data/set3/a2.txt\n",
            "Question_Answer_Dataset_v1.2/S08/data/set3/a9.txt.clean\n",
            "Question_Answer_Dataset_v1.2/S08/data/set3/a4.htm\n",
            "Question_Answer_Dataset_v1.2/S08/data/set3/a4.txt\n",
            "Question_Answer_Dataset_v1.2/S08/data/set3/a4.txt.clean\n",
            "Question_Answer_Dataset_v1.2/S08/data/set3/a2.htm\n",
            "Question_Answer_Dataset_v1.2/S08/data/set3/a7o.htm\n",
            "Question_Answer_Dataset_v1.2/S08/data/set3/a6.txt\n",
            "Question_Answer_Dataset_v1.2/S08/data/set3/a5o.htm\n",
            "Question_Answer_Dataset_v1.2/S08/data/set3/a1o.htm\n",
            "Question_Answer_Dataset_v1.2/S08/data/set3/a9o.htm\n",
            "Question_Answer_Dataset_v1.2/S08/data/set3/a8.txt\n",
            "Question_Answer_Dataset_v1.2/S08/data/set3/a10.htm\n",
            "Question_Answer_Dataset_v1.2/S08/data/set3/a10.txt\n",
            "Question_Answer_Dataset_v1.2/S08/data/set3/a8.txt.clean\n",
            "Question_Answer_Dataset_v1.2/S08/data/set3/topics.txt\n",
            "Question_Answer_Dataset_v1.2/S08/data/set3/a2o.htm\n",
            "Question_Answer_Dataset_v1.2/S08/data/set3/a8.htm\n",
            "Question_Answer_Dataset_v1.2/S08/data/set3/a7.htm\n",
            "Question_Answer_Dataset_v1.2/S08/data/set3/a1.txt.clean\n",
            "Question_Answer_Dataset_v1.2/S08/data/set3/a2.txt.clean\n",
            "Question_Answer_Dataset_v1.2/S08/data/set3/a10.txt.clean\n",
            "Question_Answer_Dataset_v1.2/S08/data/set3/a10o.htm\n",
            "Question_Answer_Dataset_v1.2/S08/data/set3/a6.htm\n",
            "Question_Answer_Dataset_v1.2/S08/data/set3/a7.txt\n",
            "Question_Answer_Dataset_v1.2/S08/data/set3/a9.txt\n",
            "Question_Answer_Dataset_v1.2/S08/data/set3/a6o.htm\n",
            "Question_Answer_Dataset_v1.2/S08/data/set3/a8o.htm\n",
            "Question_Answer_Dataset_v1.2/S08/data/set3/a1.htm\n",
            "Question_Answer_Dataset_v1.2/S08/data/set3/a1.txt\n",
            "Question_Answer_Dataset_v1.2/S08/data/set3/a7.txt.clean\n",
            "Question_Answer_Dataset_v1.2/S08/data/set3/a5.txt.clean\n",
            "Question_Answer_Dataset_v1.2/S08/data/set3/a5.htm\n",
            "Question_Answer_Dataset_v1.2/S08/data/set3/a3o.htm\n",
            "Question_Answer_Dataset_v1.2/S08/data/set2/\n",
            "Question_Answer_Dataset_v1.2/S08/data/set2/a6.txt.clean\n",
            "Question_Answer_Dataset_v1.2/S08/data/set2/a3.txt.clean\n",
            "Question_Answer_Dataset_v1.2/S08/data/set2/a3.txt\n",
            "Question_Answer_Dataset_v1.2/S08/data/set2/a5.txt\n",
            "Question_Answer_Dataset_v1.2/S08/data/set2/a4o.htm\n",
            "Question_Answer_Dataset_v1.2/S08/data/set2/a3.htm\n",
            "Question_Answer_Dataset_v1.2/S08/data/set2/a9.htm\n",
            "Question_Answer_Dataset_v1.2/S08/data/set2/a2.txt\n",
            "Question_Answer_Dataset_v1.2/S08/data/set2/a9.txt.clean\n",
            "Question_Answer_Dataset_v1.2/S08/data/set2/a4.htm\n",
            "Question_Answer_Dataset_v1.2/S08/data/set2/a4.txt\n",
            "Question_Answer_Dataset_v1.2/S08/data/set2/a4.txt.clean\n",
            "Question_Answer_Dataset_v1.2/S08/data/set2/a2.htm\n",
            "Question_Answer_Dataset_v1.2/S08/data/set2/a7o.htm\n",
            "Question_Answer_Dataset_v1.2/S08/data/set2/a6.txt\n",
            "Question_Answer_Dataset_v1.2/S08/data/set2/a5o.htm\n",
            "Question_Answer_Dataset_v1.2/S08/data/set2/a1o.htm\n",
            "Question_Answer_Dataset_v1.2/S08/data/set2/a9o.htm\n",
            "Question_Answer_Dataset_v1.2/S08/data/set2/a8.txt\n",
            "Question_Answer_Dataset_v1.2/S08/data/set2/a10.htm\n",
            "Question_Answer_Dataset_v1.2/S08/data/set2/a10.txt\n",
            "Question_Answer_Dataset_v1.2/S08/data/set2/a8.txt.clean\n",
            "Question_Answer_Dataset_v1.2/S08/data/set2/topics.txt\n",
            "Question_Answer_Dataset_v1.2/S08/data/set2/a2o.htm\n",
            "Question_Answer_Dataset_v1.2/S08/data/set2/a8.htm\n",
            "Question_Answer_Dataset_v1.2/S08/data/set2/a7.htm\n",
            "Question_Answer_Dataset_v1.2/S08/data/set2/a1.txt.clean\n",
            "Question_Answer_Dataset_v1.2/S08/data/set2/a2.txt.clean\n",
            "Question_Answer_Dataset_v1.2/S08/data/set2/a10.txt.clean\n",
            "Question_Answer_Dataset_v1.2/S08/data/set2/a10o.htm\n",
            "Question_Answer_Dataset_v1.2/S08/data/set2/a6.htm\n",
            "Question_Answer_Dataset_v1.2/S08/data/set2/a7.txt\n",
            "Question_Answer_Dataset_v1.2/S08/data/set2/a9.txt\n",
            "Question_Answer_Dataset_v1.2/S08/data/set2/a6o.htm\n",
            "Question_Answer_Dataset_v1.2/S08/data/set2/a8o.htm\n",
            "Question_Answer_Dataset_v1.2/S08/data/set2/a1.htm\n",
            "Question_Answer_Dataset_v1.2/S08/data/set2/a1.txt\n",
            "Question_Answer_Dataset_v1.2/S08/data/set2/a7.txt.clean\n",
            "Question_Answer_Dataset_v1.2/S08/data/set2/a5.txt.clean\n",
            "Question_Answer_Dataset_v1.2/S08/data/set2/a5.htm\n",
            "Question_Answer_Dataset_v1.2/S08/data/set2/a3o.htm\n",
            "Question_Answer_Dataset_v1.2/S08/data/set1/\n",
            "Question_Answer_Dataset_v1.2/S08/data/set1/a6.txt.clean\n",
            "Question_Answer_Dataset_v1.2/S08/data/set1/a3.txt.clean\n",
            "Question_Answer_Dataset_v1.2/S08/data/set1/a3.txt\n",
            "Question_Answer_Dataset_v1.2/S08/data/set1/a5.txt\n",
            "Question_Answer_Dataset_v1.2/S08/data/set1/a4o.htm\n",
            "Question_Answer_Dataset_v1.2/S08/data/set1/a3.htm\n",
            "Question_Answer_Dataset_v1.2/S08/data/set1/a9.htm\n",
            "Question_Answer_Dataset_v1.2/S08/data/set1/a2.txt\n",
            "Question_Answer_Dataset_v1.2/S08/data/set1/a9.txt.clean\n",
            "Question_Answer_Dataset_v1.2/S08/data/set1/a4.htm\n",
            "Question_Answer_Dataset_v1.2/S08/data/set1/a4.txt\n",
            "Question_Answer_Dataset_v1.2/S08/data/set1/a4.txt.clean\n",
            "Question_Answer_Dataset_v1.2/S08/data/set1/a2.htm\n",
            "Question_Answer_Dataset_v1.2/S08/data/set1/a7o.htm\n",
            "Question_Answer_Dataset_v1.2/S08/data/set1/a6.txt\n",
            "Question_Answer_Dataset_v1.2/S08/data/set1/a5o.htm\n",
            "Question_Answer_Dataset_v1.2/S08/data/set1/a1o.htm\n",
            "Question_Answer_Dataset_v1.2/S08/data/set1/a9o.htm\n",
            "Question_Answer_Dataset_v1.2/S08/data/set1/a8.txt\n",
            "Question_Answer_Dataset_v1.2/S08/data/set1/a10.htm\n",
            "Question_Answer_Dataset_v1.2/S08/data/set1/a10.txt\n",
            "Question_Answer_Dataset_v1.2/S08/data/set1/a8.txt.clean\n",
            "Question_Answer_Dataset_v1.2/S08/data/set1/topics.txt\n",
            "Question_Answer_Dataset_v1.2/S08/data/set1/a2o.htm\n",
            "Question_Answer_Dataset_v1.2/S08/data/set1/a8.htm\n",
            "Question_Answer_Dataset_v1.2/S08/data/set1/a7.htm\n",
            "Question_Answer_Dataset_v1.2/S08/data/set1/a1.txt.clean\n",
            "Question_Answer_Dataset_v1.2/S08/data/set1/a2.txt.clean\n",
            "Question_Answer_Dataset_v1.2/S08/data/set1/a10.txt.clean\n",
            "Question_Answer_Dataset_v1.2/S08/data/set1/a10o.htm\n",
            "Question_Answer_Dataset_v1.2/S08/data/set1/a6.htm\n",
            "Question_Answer_Dataset_v1.2/S08/data/set1/a7.txt\n",
            "Question_Answer_Dataset_v1.2/S08/data/set1/a9.txt\n",
            "Question_Answer_Dataset_v1.2/S08/data/set1/a6o.htm\n",
            "Question_Answer_Dataset_v1.2/S08/data/set1/a8o.htm\n",
            "Question_Answer_Dataset_v1.2/S08/data/set1/a1.htm\n",
            "Question_Answer_Dataset_v1.2/S08/data/set1/a1.txt\n",
            "Question_Answer_Dataset_v1.2/S08/data/set1/a7.txt.clean\n",
            "Question_Answer_Dataset_v1.2/S08/data/set1/a5.txt.clean\n",
            "Question_Answer_Dataset_v1.2/S08/data/set1/a5.htm\n",
            "Question_Answer_Dataset_v1.2/S08/data/set1/a3o.htm\n",
            "Question_Answer_Dataset_v1.2/S10/\n",
            "Question_Answer_Dataset_v1.2/S10/question_answer_pairs.txt\n",
            "Question_Answer_Dataset_v1.2/S10/data/\n",
            "Question_Answer_Dataset_v1.2/S10/data/set6/\n",
            "Question_Answer_Dataset_v1.2/S10/data/set6/a6.txt.clean\n",
            "Question_Answer_Dataset_v1.2/S10/data/set6/a3.txt.clean\n",
            "Question_Answer_Dataset_v1.2/S10/data/set6/a3.txt\n",
            "Question_Answer_Dataset_v1.2/S10/data/set6/a5.txt\n",
            "Question_Answer_Dataset_v1.2/S10/data/set6/a4o.htm\n",
            "Question_Answer_Dataset_v1.2/S10/data/set6/a3.htm\n",
            "Question_Answer_Dataset_v1.2/S10/data/set6/a9.htm\n",
            "Question_Answer_Dataset_v1.2/S10/data/set6/a2.txt\n",
            "Question_Answer_Dataset_v1.2/S10/data/set6/a9.txt.clean\n",
            "Question_Answer_Dataset_v1.2/S10/data/set6/a4.htm\n",
            "Question_Answer_Dataset_v1.2/S10/data/set6/a4.txt\n",
            "Question_Answer_Dataset_v1.2/S10/data/set6/a4.txt.clean\n",
            "Question_Answer_Dataset_v1.2/S10/data/set6/a2.htm\n",
            "Question_Answer_Dataset_v1.2/S10/data/set6/a7o.htm\n",
            "Question_Answer_Dataset_v1.2/S10/data/set6/a6.txt\n",
            "Question_Answer_Dataset_v1.2/S10/data/set6/a5o.htm\n",
            "Question_Answer_Dataset_v1.2/S10/data/set6/a1o.htm\n",
            "Question_Answer_Dataset_v1.2/S10/data/set6/a9o.htm\n",
            "Question_Answer_Dataset_v1.2/S10/data/set6/a8.txt\n",
            "Question_Answer_Dataset_v1.2/S10/data/set6/a10.htm\n",
            "Question_Answer_Dataset_v1.2/S10/data/set6/a10.txt\n",
            "Question_Answer_Dataset_v1.2/S10/data/set6/a8.txt.clean\n",
            "Question_Answer_Dataset_v1.2/S10/data/set6/topics.txt\n",
            "Question_Answer_Dataset_v1.2/S10/data/set6/a2o.htm\n",
            "Question_Answer_Dataset_v1.2/S10/data/set6/a8.htm\n",
            "Question_Answer_Dataset_v1.2/S10/data/set6/a7.htm\n",
            "Question_Answer_Dataset_v1.2/S10/data/set6/a1.txt.clean\n",
            "Question_Answer_Dataset_v1.2/S10/data/set6/a2.txt.clean\n",
            "Question_Answer_Dataset_v1.2/S10/data/set6/a10.txt.clean\n",
            "Question_Answer_Dataset_v1.2/S10/data/set6/a10o.htm\n",
            "Question_Answer_Dataset_v1.2/S10/data/set6/a6.htm\n",
            "Question_Answer_Dataset_v1.2/S10/data/set6/a7.txt\n",
            "Question_Answer_Dataset_v1.2/S10/data/set6/a9.txt\n",
            "Question_Answer_Dataset_v1.2/S10/data/set6/a6o.htm\n",
            "Question_Answer_Dataset_v1.2/S10/data/set6/a8o.htm\n",
            "Question_Answer_Dataset_v1.2/S10/data/set6/a1.htm\n",
            "Question_Answer_Dataset_v1.2/S10/data/set6/a1.txt\n",
            "Question_Answer_Dataset_v1.2/S10/data/set6/a7.txt.clean\n",
            "Question_Answer_Dataset_v1.2/S10/data/set6/a5.txt.clean\n",
            "Question_Answer_Dataset_v1.2/S10/data/set6/a5.htm\n",
            "Question_Answer_Dataset_v1.2/S10/data/set6/a3o.htm\n",
            "Question_Answer_Dataset_v1.2/S10/data/set4/\n",
            "Question_Answer_Dataset_v1.2/S10/data/set4/a6.txt.clean\n",
            "Question_Answer_Dataset_v1.2/S10/data/set4/a3.txt.clean\n",
            "Question_Answer_Dataset_v1.2/S10/data/set4/a3.txt\n",
            "Question_Answer_Dataset_v1.2/S10/data/set4/a5.txt\n",
            "Question_Answer_Dataset_v1.2/S10/data/set4/a4o.htm\n",
            "Question_Answer_Dataset_v1.2/S10/data/set4/a3.htm\n",
            "Question_Answer_Dataset_v1.2/S10/data/set4/a9.htm\n",
            "Question_Answer_Dataset_v1.2/S10/data/set4/a2.txt\n",
            "Question_Answer_Dataset_v1.2/S10/data/set4/a9.txt.clean\n",
            "Question_Answer_Dataset_v1.2/S10/data/set4/a4.htm\n",
            "Question_Answer_Dataset_v1.2/S10/data/set4/a4.txt\n",
            "Question_Answer_Dataset_v1.2/S10/data/set4/a4.txt.clean\n",
            "Question_Answer_Dataset_v1.2/S10/data/set4/a2.htm\n",
            "Question_Answer_Dataset_v1.2/S10/data/set4/a7o.htm\n",
            "Question_Answer_Dataset_v1.2/S10/data/set4/a6.txt\n",
            "Question_Answer_Dataset_v1.2/S10/data/set4/a5o.htm\n",
            "Question_Answer_Dataset_v1.2/S10/data/set4/a1o.htm\n",
            "Question_Answer_Dataset_v1.2/S10/data/set4/a9o.htm\n",
            "Question_Answer_Dataset_v1.2/S10/data/set4/a8.txt\n",
            "Question_Answer_Dataset_v1.2/S10/data/set4/a10.htm\n",
            "Question_Answer_Dataset_v1.2/S10/data/set4/a10.txt\n",
            "Question_Answer_Dataset_v1.2/S10/data/set4/a8.txt.clean\n",
            "Question_Answer_Dataset_v1.2/S10/data/set4/topics.txt\n",
            "Question_Answer_Dataset_v1.2/S10/data/set4/a2o.htm\n",
            "Question_Answer_Dataset_v1.2/S10/data/set4/a8.htm\n",
            "Question_Answer_Dataset_v1.2/S10/data/set4/a7.htm\n",
            "Question_Answer_Dataset_v1.2/S10/data/set4/a1.txt.clean\n",
            "Question_Answer_Dataset_v1.2/S10/data/set4/a2.txt.clean\n",
            "Question_Answer_Dataset_v1.2/S10/data/set4/a10.txt.clean\n",
            "Question_Answer_Dataset_v1.2/S10/data/set4/a10o.htm\n",
            "Question_Answer_Dataset_v1.2/S10/data/set4/a6.htm\n",
            "Question_Answer_Dataset_v1.2/S10/data/set4/a7.txt\n",
            "Question_Answer_Dataset_v1.2/S10/data/set4/a9.txt\n",
            "Question_Answer_Dataset_v1.2/S10/data/set4/a6o.htm\n",
            "Question_Answer_Dataset_v1.2/S10/data/set4/a8o.htm\n",
            "Question_Answer_Dataset_v1.2/S10/data/set4/a1.htm\n",
            "Question_Answer_Dataset_v1.2/S10/data/set4/a1.txt\n",
            "Question_Answer_Dataset_v1.2/S10/data/set4/a7.txt.clean\n",
            "Question_Answer_Dataset_v1.2/S10/data/set4/a5.txt.clean\n",
            "Question_Answer_Dataset_v1.2/S10/data/set4/a5.htm\n",
            "Question_Answer_Dataset_v1.2/S10/data/set4/a3o.htm\n",
            "Question_Answer_Dataset_v1.2/S10/data/set3/\n",
            "Question_Answer_Dataset_v1.2/S10/data/set3/a6.txt.clean\n",
            "Question_Answer_Dataset_v1.2/S10/data/set3/a3.txt.clean\n",
            "Question_Answer_Dataset_v1.2/S10/data/set3/a3.txt\n",
            "Question_Answer_Dataset_v1.2/S10/data/set3/a5.txt\n",
            "Question_Answer_Dataset_v1.2/S10/data/set3/a4o.htm\n",
            "Question_Answer_Dataset_v1.2/S10/data/set3/a3.htm\n",
            "Question_Answer_Dataset_v1.2/S10/data/set3/a9.htm\n",
            "Question_Answer_Dataset_v1.2/S10/data/set3/a2.txt\n",
            "Question_Answer_Dataset_v1.2/S10/data/set3/a9.txt.clean\n",
            "Question_Answer_Dataset_v1.2/S10/data/set3/a4.htm\n",
            "Question_Answer_Dataset_v1.2/S10/data/set3/a4.txt\n",
            "Question_Answer_Dataset_v1.2/S10/data/set3/a4.txt.clean\n",
            "Question_Answer_Dataset_v1.2/S10/data/set3/a2.htm\n",
            "Question_Answer_Dataset_v1.2/S10/data/set3/a7o.htm\n",
            "Question_Answer_Dataset_v1.2/S10/data/set3/a6.txt\n",
            "Question_Answer_Dataset_v1.2/S10/data/set3/a5o.htm\n",
            "Question_Answer_Dataset_v1.2/S10/data/set3/a1o.htm\n",
            "Question_Answer_Dataset_v1.2/S10/data/set3/a9o.htm\n",
            "Question_Answer_Dataset_v1.2/S10/data/set3/a8.txt\n",
            "Question_Answer_Dataset_v1.2/S10/data/set3/a10.htm\n",
            "Question_Answer_Dataset_v1.2/S10/data/set3/a10.txt\n",
            "Question_Answer_Dataset_v1.2/S10/data/set3/a8.txt.clean\n",
            "Question_Answer_Dataset_v1.2/S10/data/set3/topics.txt\n",
            "Question_Answer_Dataset_v1.2/S10/data/set3/a2o.htm\n",
            "Question_Answer_Dataset_v1.2/S10/data/set3/a8.htm\n",
            "Question_Answer_Dataset_v1.2/S10/data/set3/a7.htm\n",
            "Question_Answer_Dataset_v1.2/S10/data/set3/a1.txt.clean\n",
            "Question_Answer_Dataset_v1.2/S10/data/set3/a2.txt.clean\n",
            "Question_Answer_Dataset_v1.2/S10/data/set3/a10.txt.clean\n",
            "Question_Answer_Dataset_v1.2/S10/data/set3/a10o.htm\n",
            "Question_Answer_Dataset_v1.2/S10/data/set3/a6.htm\n",
            "Question_Answer_Dataset_v1.2/S10/data/set3/a7.txt\n",
            "Question_Answer_Dataset_v1.2/S10/data/set3/a9.txt\n",
            "Question_Answer_Dataset_v1.2/S10/data/set3/a6o.htm\n",
            "Question_Answer_Dataset_v1.2/S10/data/set3/a8o.htm\n",
            "Question_Answer_Dataset_v1.2/S10/data/set3/a1.htm\n",
            "Question_Answer_Dataset_v1.2/S10/data/set3/a1.txt\n",
            "Question_Answer_Dataset_v1.2/S10/data/set3/a7.txt.clean\n",
            "Question_Answer_Dataset_v1.2/S10/data/set3/a5.txt.clean\n",
            "Question_Answer_Dataset_v1.2/S10/data/set3/a5.htm\n",
            "Question_Answer_Dataset_v1.2/S10/data/set3/a3o.htm\n",
            "Question_Answer_Dataset_v1.2/S10/data/set2/\n",
            "Question_Answer_Dataset_v1.2/S10/data/set2/a6.txt.clean\n",
            "Question_Answer_Dataset_v1.2/S10/data/set2/a3.txt.clean\n",
            "Question_Answer_Dataset_v1.2/S10/data/set2/a3.txt\n",
            "Question_Answer_Dataset_v1.2/S10/data/set2/a5.txt\n",
            "Question_Answer_Dataset_v1.2/S10/data/set2/a4o.htm\n",
            "Question_Answer_Dataset_v1.2/S10/data/set2/a3.htm\n",
            "Question_Answer_Dataset_v1.2/S10/data/set2/a9.htm\n",
            "Question_Answer_Dataset_v1.2/S10/data/set2/a2.txt\n",
            "Question_Answer_Dataset_v1.2/S10/data/set2/a9.txt.clean\n",
            "Question_Answer_Dataset_v1.2/S10/data/set2/a4.htm\n",
            "Question_Answer_Dataset_v1.2/S10/data/set2/a4.txt\n",
            "Question_Answer_Dataset_v1.2/S10/data/set2/a4.txt.clean\n",
            "Question_Answer_Dataset_v1.2/S10/data/set2/a2.htm\n",
            "Question_Answer_Dataset_v1.2/S10/data/set2/a7o.htm\n",
            "Question_Answer_Dataset_v1.2/S10/data/set2/a6.txt\n",
            "Question_Answer_Dataset_v1.2/S10/data/set2/a5o.htm\n",
            "Question_Answer_Dataset_v1.2/S10/data/set2/a1o.htm\n",
            "Question_Answer_Dataset_v1.2/S10/data/set2/a9o.htm\n",
            "Question_Answer_Dataset_v1.2/S10/data/set2/a8.txt\n",
            "Question_Answer_Dataset_v1.2/S10/data/set2/a10.htm\n",
            "Question_Answer_Dataset_v1.2/S10/data/set2/a10.txt\n",
            "Question_Answer_Dataset_v1.2/S10/data/set2/a8.txt.clean\n",
            "Question_Answer_Dataset_v1.2/S10/data/set2/topics.txt\n",
            "Question_Answer_Dataset_v1.2/S10/data/set2/a2o.htm\n",
            "Question_Answer_Dataset_v1.2/S10/data/set2/a8.htm\n",
            "Question_Answer_Dataset_v1.2/S10/data/set2/a7.htm\n",
            "Question_Answer_Dataset_v1.2/S10/data/set2/a1.txt.clean\n",
            "Question_Answer_Dataset_v1.2/S10/data/set2/a2.txt.clean\n",
            "Question_Answer_Dataset_v1.2/S10/data/set2/a10.txt.clean\n",
            "Question_Answer_Dataset_v1.2/S10/data/set2/a10o.htm\n",
            "Question_Answer_Dataset_v1.2/S10/data/set2/a6.htm\n",
            "Question_Answer_Dataset_v1.2/S10/data/set2/a7.txt\n",
            "Question_Answer_Dataset_v1.2/S10/data/set2/a9.txt\n",
            "Question_Answer_Dataset_v1.2/S10/data/set2/a6o.htm\n",
            "Question_Answer_Dataset_v1.2/S10/data/set2/a8o.htm\n",
            "Question_Answer_Dataset_v1.2/S10/data/set2/a1.htm\n",
            "Question_Answer_Dataset_v1.2/S10/data/set2/a1.txt\n",
            "Question_Answer_Dataset_v1.2/S10/data/set2/a7.txt.clean\n",
            "Question_Answer_Dataset_v1.2/S10/data/set2/a5.txt.clean\n",
            "Question_Answer_Dataset_v1.2/S10/data/set2/a5.htm\n",
            "Question_Answer_Dataset_v1.2/S10/data/set2/a3o.htm\n",
            "Question_Answer_Dataset_v1.2/S10/data/set5/\n",
            "Question_Answer_Dataset_v1.2/S10/data/set5/a6.txt.clean\n",
            "Question_Answer_Dataset_v1.2/S10/data/set5/a3.txt.clean\n",
            "Question_Answer_Dataset_v1.2/S10/data/set5/a3.txt\n",
            "Question_Answer_Dataset_v1.2/S10/data/set5/a5.txt\n",
            "Question_Answer_Dataset_v1.2/S10/data/set5/a4o.htm\n",
            "Question_Answer_Dataset_v1.2/S10/data/set5/a3.htm\n",
            "Question_Answer_Dataset_v1.2/S10/data/set5/a9.htm\n",
            "Question_Answer_Dataset_v1.2/S10/data/set5/a2.txt\n",
            "Question_Answer_Dataset_v1.2/S10/data/set5/a9.txt.clean\n",
            "Question_Answer_Dataset_v1.2/S10/data/set5/a4.htm\n",
            "Question_Answer_Dataset_v1.2/S10/data/set5/a4.txt\n",
            "Question_Answer_Dataset_v1.2/S10/data/set5/a4.txt.clean\n",
            "Question_Answer_Dataset_v1.2/S10/data/set5/a2.htm\n",
            "Question_Answer_Dataset_v1.2/S10/data/set5/a7o.htm\n",
            "Question_Answer_Dataset_v1.2/S10/data/set5/a6.txt\n",
            "Question_Answer_Dataset_v1.2/S10/data/set5/a5o.htm\n",
            "Question_Answer_Dataset_v1.2/S10/data/set5/a1o.htm\n",
            "Question_Answer_Dataset_v1.2/S10/data/set5/a9o.htm\n",
            "Question_Answer_Dataset_v1.2/S10/data/set5/a8.txt\n",
            "Question_Answer_Dataset_v1.2/S10/data/set5/a10.htm\n",
            "Question_Answer_Dataset_v1.2/S10/data/set5/a10.txt\n",
            "Question_Answer_Dataset_v1.2/S10/data/set5/a8.txt.clean\n",
            "Question_Answer_Dataset_v1.2/S10/data/set5/topics.txt\n",
            "Question_Answer_Dataset_v1.2/S10/data/set5/a2o.htm\n",
            "Question_Answer_Dataset_v1.2/S10/data/set5/a8.htm\n",
            "Question_Answer_Dataset_v1.2/S10/data/set5/a7.htm\n",
            "Question_Answer_Dataset_v1.2/S10/data/set5/a1.txt.clean\n",
            "Question_Answer_Dataset_v1.2/S10/data/set5/a2.txt.clean\n",
            "Question_Answer_Dataset_v1.2/S10/data/set5/a10.txt.clean\n",
            "Question_Answer_Dataset_v1.2/S10/data/set5/a10o.htm\n",
            "Question_Answer_Dataset_v1.2/S10/data/set5/a6.htm\n",
            "Question_Answer_Dataset_v1.2/S10/data/set5/a7.txt\n",
            "Question_Answer_Dataset_v1.2/S10/data/set5/a9.txt\n",
            "Question_Answer_Dataset_v1.2/S10/data/set5/a6o.htm\n",
            "Question_Answer_Dataset_v1.2/S10/data/set5/a8o.htm\n",
            "Question_Answer_Dataset_v1.2/S10/data/set5/a1.htm\n",
            "Question_Answer_Dataset_v1.2/S10/data/set5/a1.txt\n",
            "Question_Answer_Dataset_v1.2/S10/data/set5/a7.txt.clean\n",
            "Question_Answer_Dataset_v1.2/S10/data/set5/a5.txt.clean\n",
            "Question_Answer_Dataset_v1.2/S10/data/set5/a5.htm\n",
            "Question_Answer_Dataset_v1.2/S10/data/set5/a3o.htm\n",
            "Question_Answer_Dataset_v1.2/S10/data/set1/\n",
            "Question_Answer_Dataset_v1.2/S10/data/set1/a6.txt.clean\n",
            "Question_Answer_Dataset_v1.2/S10/data/set1/a3.txt.clean\n",
            "Question_Answer_Dataset_v1.2/S10/data/set1/a3.txt\n",
            "Question_Answer_Dataset_v1.2/S10/data/set1/a5.txt\n",
            "Question_Answer_Dataset_v1.2/S10/data/set1/a4o.htm\n",
            "Question_Answer_Dataset_v1.2/S10/data/set1/a3.htm\n",
            "Question_Answer_Dataset_v1.2/S10/data/set1/a9.htm\n",
            "Question_Answer_Dataset_v1.2/S10/data/set1/a2.txt\n",
            "Question_Answer_Dataset_v1.2/S10/data/set1/a9.txt.clean\n",
            "Question_Answer_Dataset_v1.2/S10/data/set1/a4.htm\n",
            "Question_Answer_Dataset_v1.2/S10/data/set1/a4.txt\n",
            "Question_Answer_Dataset_v1.2/S10/data/set1/a4.txt.clean\n",
            "Question_Answer_Dataset_v1.2/S10/data/set1/a2.htm\n",
            "Question_Answer_Dataset_v1.2/S10/data/set1/a7o.htm\n",
            "Question_Answer_Dataset_v1.2/S10/data/set1/a6.txt\n",
            "Question_Answer_Dataset_v1.2/S10/data/set1/a5o.htm\n",
            "Question_Answer_Dataset_v1.2/S10/data/set1/a1o.htm\n",
            "Question_Answer_Dataset_v1.2/S10/data/set1/a9o.htm\n",
            "Question_Answer_Dataset_v1.2/S10/data/set1/a8.txt\n",
            "Question_Answer_Dataset_v1.2/S10/data/set1/a10.htm\n",
            "Question_Answer_Dataset_v1.2/S10/data/set1/a10.txt\n",
            "Question_Answer_Dataset_v1.2/S10/data/set1/a8.txt.clean\n",
            "Question_Answer_Dataset_v1.2/S10/data/set1/topics.txt\n",
            "Question_Answer_Dataset_v1.2/S10/data/set1/a2o.htm\n",
            "Question_Answer_Dataset_v1.2/S10/data/set1/a8.htm\n",
            "Question_Answer_Dataset_v1.2/S10/data/set1/a7.htm\n",
            "Question_Answer_Dataset_v1.2/S10/data/set1/a1.txt.clean\n",
            "Question_Answer_Dataset_v1.2/S10/data/set1/a2.txt.clean\n",
            "Question_Answer_Dataset_v1.2/S10/data/set1/a10.txt.clean\n",
            "Question_Answer_Dataset_v1.2/S10/data/set1/a10o.htm\n",
            "Question_Answer_Dataset_v1.2/S10/data/set1/a6.htm\n",
            "Question_Answer_Dataset_v1.2/S10/data/set1/a7.txt\n",
            "Question_Answer_Dataset_v1.2/S10/data/set1/a9.txt\n",
            "Question_Answer_Dataset_v1.2/S10/data/set1/a6o.htm\n",
            "Question_Answer_Dataset_v1.2/S10/data/set1/a8o.htm\n",
            "Question_Answer_Dataset_v1.2/S10/data/set1/a1.htm\n",
            "Question_Answer_Dataset_v1.2/S10/data/set1/a1.txt\n",
            "Question_Answer_Dataset_v1.2/S10/data/set1/a7.txt.clean\n",
            "Question_Answer_Dataset_v1.2/S10/data/set1/a5.txt.clean\n",
            "Question_Answer_Dataset_v1.2/S10/data/set1/a5.htm\n",
            "Question_Answer_Dataset_v1.2/S10/data/set1/a3o.htm\n",
            "Question_Answer_Dataset_v1.2/LICENSE-S08,S09\n",
            "Question_Answer_Dataset_v1.2/README.v1.2\n",
            "Question_Answer_Dataset_v1.2/S09/\n",
            "Question_Answer_Dataset_v1.2/S09/question_answer_pairs.txt\n",
            "Question_Answer_Dataset_v1.2/S09/data/\n",
            "Question_Answer_Dataset_v1.2/S09/data/set4/\n",
            "Question_Answer_Dataset_v1.2/S09/data/set4/a6.txt.clean\n",
            "Question_Answer_Dataset_v1.2/S09/data/set4/a3.txt.clean\n",
            "Question_Answer_Dataset_v1.2/S09/data/set4/a3.txt\n",
            "Question_Answer_Dataset_v1.2/S09/data/set4/a5.txt\n",
            "Question_Answer_Dataset_v1.2/S09/data/set4/a4o.htm\n",
            "Question_Answer_Dataset_v1.2/S09/data/set4/a3.htm\n",
            "Question_Answer_Dataset_v1.2/S09/data/set4/a9.htm\n",
            "Question_Answer_Dataset_v1.2/S09/data/set4/a2.txt\n",
            "Question_Answer_Dataset_v1.2/S09/data/set4/a9.txt.clean\n",
            "Question_Answer_Dataset_v1.2/S09/data/set4/a4.htm\n",
            "Question_Answer_Dataset_v1.2/S09/data/set4/a4.txt\n",
            "Question_Answer_Dataset_v1.2/S09/data/set4/a4.txt.clean\n",
            "Question_Answer_Dataset_v1.2/S09/data/set4/a2.htm\n",
            "Question_Answer_Dataset_v1.2/S09/data/set4/a7o.htm\n",
            "Question_Answer_Dataset_v1.2/S09/data/set4/a6.txt\n",
            "Question_Answer_Dataset_v1.2/S09/data/set4/a5o.htm\n",
            "Question_Answer_Dataset_v1.2/S09/data/set4/a1o.htm\n",
            "Question_Answer_Dataset_v1.2/S09/data/set4/a9o.htm\n",
            "Question_Answer_Dataset_v1.2/S09/data/set4/a8.txt\n",
            "Question_Answer_Dataset_v1.2/S09/data/set4/a10.htm\n",
            "Question_Answer_Dataset_v1.2/S09/data/set4/a10.txt\n",
            "Question_Answer_Dataset_v1.2/S09/data/set4/a8.txt.clean\n",
            "Question_Answer_Dataset_v1.2/S09/data/set4/topics.txt\n",
            "Question_Answer_Dataset_v1.2/S09/data/set4/a2o.htm\n",
            "Question_Answer_Dataset_v1.2/S09/data/set4/a8.htm\n",
            "Question_Answer_Dataset_v1.2/S09/data/set4/a7.htm\n",
            "Question_Answer_Dataset_v1.2/S09/data/set4/a1.txt.clean\n",
            "Question_Answer_Dataset_v1.2/S09/data/set4/a2.txt.clean\n",
            "Question_Answer_Dataset_v1.2/S09/data/set4/a10.txt.clean\n",
            "Question_Answer_Dataset_v1.2/S09/data/set4/a10o.htm\n",
            "Question_Answer_Dataset_v1.2/S09/data/set4/a6.htm\n",
            "Question_Answer_Dataset_v1.2/S09/data/set4/a7.txt\n",
            "Question_Answer_Dataset_v1.2/S09/data/set4/a9.txt\n",
            "Question_Answer_Dataset_v1.2/S09/data/set4/a6o.htm\n",
            "Question_Answer_Dataset_v1.2/S09/data/set4/a8o.htm\n",
            "Question_Answer_Dataset_v1.2/S09/data/set4/a1.htm\n",
            "Question_Answer_Dataset_v1.2/S09/data/set4/a1.txt\n",
            "Question_Answer_Dataset_v1.2/S09/data/set4/a7.txt.clean\n",
            "Question_Answer_Dataset_v1.2/S09/data/set4/a5.txt.clean\n",
            "Question_Answer_Dataset_v1.2/S09/data/set4/a5.htm\n",
            "Question_Answer_Dataset_v1.2/S09/data/set4/a3o.htm\n",
            "Question_Answer_Dataset_v1.2/S09/data/set3/\n",
            "Question_Answer_Dataset_v1.2/S09/data/set3/a6.txt.clean\n",
            "Question_Answer_Dataset_v1.2/S09/data/set3/a3.txt.clean\n",
            "Question_Answer_Dataset_v1.2/S09/data/set3/a3.txt\n",
            "Question_Answer_Dataset_v1.2/S09/data/set3/a5.txt\n",
            "Question_Answer_Dataset_v1.2/S09/data/set3/a4o.htm\n",
            "Question_Answer_Dataset_v1.2/S09/data/set3/a3.htm\n",
            "Question_Answer_Dataset_v1.2/S09/data/set3/a9.htm\n",
            "Question_Answer_Dataset_v1.2/S09/data/set3/a2.txt\n",
            "Question_Answer_Dataset_v1.2/S09/data/set3/a9.txt.clean\n",
            "Question_Answer_Dataset_v1.2/S09/data/set3/a4.htm\n",
            "Question_Answer_Dataset_v1.2/S09/data/set3/a4.txt\n",
            "Question_Answer_Dataset_v1.2/S09/data/set3/a4.txt.clean\n",
            "Question_Answer_Dataset_v1.2/S09/data/set3/a2.htm\n",
            "Question_Answer_Dataset_v1.2/S09/data/set3/a7o.htm\n",
            "Question_Answer_Dataset_v1.2/S09/data/set3/a6.txt\n",
            "Question_Answer_Dataset_v1.2/S09/data/set3/a5o.htm\n",
            "Question_Answer_Dataset_v1.2/S09/data/set3/a1o.htm\n",
            "Question_Answer_Dataset_v1.2/S09/data/set3/a9o.htm\n",
            "Question_Answer_Dataset_v1.2/S09/data/set3/a8.txt\n",
            "Question_Answer_Dataset_v1.2/S09/data/set3/a10.htm\n",
            "Question_Answer_Dataset_v1.2/S09/data/set3/a10.txt\n",
            "Question_Answer_Dataset_v1.2/S09/data/set3/a8.txt.clean\n",
            "Question_Answer_Dataset_v1.2/S09/data/set3/topics.txt\n",
            "Question_Answer_Dataset_v1.2/S09/data/set3/a2o.htm\n",
            "Question_Answer_Dataset_v1.2/S09/data/set3/a8.htm\n",
            "Question_Answer_Dataset_v1.2/S09/data/set3/a7.htm\n",
            "Question_Answer_Dataset_v1.2/S09/data/set3/a1.txt.clean\n",
            "Question_Answer_Dataset_v1.2/S09/data/set3/a2.txt.clean\n",
            "Question_Answer_Dataset_v1.2/S09/data/set3/a10.txt.clean\n",
            "Question_Answer_Dataset_v1.2/S09/data/set3/a10o.htm\n",
            "Question_Answer_Dataset_v1.2/S09/data/set3/a6.htm\n",
            "Question_Answer_Dataset_v1.2/S09/data/set3/a7.txt\n",
            "Question_Answer_Dataset_v1.2/S09/data/set3/a9.txt\n",
            "Question_Answer_Dataset_v1.2/S09/data/set3/a6o.htm\n",
            "Question_Answer_Dataset_v1.2/S09/data/set3/a8o.htm\n",
            "Question_Answer_Dataset_v1.2/S09/data/set3/a1.htm\n",
            "Question_Answer_Dataset_v1.2/S09/data/set3/a1.txt\n",
            "Question_Answer_Dataset_v1.2/S09/data/set3/a7.txt.clean\n",
            "Question_Answer_Dataset_v1.2/S09/data/set3/a5.txt.clean\n",
            "Question_Answer_Dataset_v1.2/S09/data/set3/a5.htm\n",
            "Question_Answer_Dataset_v1.2/S09/data/set3/a3o.htm\n",
            "Question_Answer_Dataset_v1.2/S09/data/set2/\n",
            "Question_Answer_Dataset_v1.2/S09/data/set2/a6.txt.clean\n",
            "Question_Answer_Dataset_v1.2/S09/data/set2/a3.txt.clean\n",
            "Question_Answer_Dataset_v1.2/S09/data/set2/a3.txt\n",
            "Question_Answer_Dataset_v1.2/S09/data/set2/a5.txt\n",
            "Question_Answer_Dataset_v1.2/S09/data/set2/a4o.htm\n",
            "Question_Answer_Dataset_v1.2/S09/data/set2/a3.htm\n",
            "Question_Answer_Dataset_v1.2/S09/data/set2/a9.htm\n",
            "Question_Answer_Dataset_v1.2/S09/data/set2/a2.txt\n",
            "Question_Answer_Dataset_v1.2/S09/data/set2/a9.txt.clean\n",
            "Question_Answer_Dataset_v1.2/S09/data/set2/a4.htm\n",
            "Question_Answer_Dataset_v1.2/S09/data/set2/a4.txt\n",
            "Question_Answer_Dataset_v1.2/S09/data/set2/a4.txt.clean\n",
            "Question_Answer_Dataset_v1.2/S09/data/set2/a2.htm\n",
            "Question_Answer_Dataset_v1.2/S09/data/set2/a7o.htm\n",
            "Question_Answer_Dataset_v1.2/S09/data/set2/a6.txt\n",
            "Question_Answer_Dataset_v1.2/S09/data/set2/a5o.htm\n",
            "Question_Answer_Dataset_v1.2/S09/data/set2/a1o.htm\n",
            "Question_Answer_Dataset_v1.2/S09/data/set2/a9o.htm\n",
            "Question_Answer_Dataset_v1.2/S09/data/set2/a8.txt\n",
            "Question_Answer_Dataset_v1.2/S09/data/set2/a10.htm\n",
            "Question_Answer_Dataset_v1.2/S09/data/set2/a10.txt\n",
            "Question_Answer_Dataset_v1.2/S09/data/set2/a8.txt.clean\n",
            "Question_Answer_Dataset_v1.2/S09/data/set2/topics.txt\n",
            "Question_Answer_Dataset_v1.2/S09/data/set2/a2o.htm\n",
            "Question_Answer_Dataset_v1.2/S09/data/set2/a8.htm\n",
            "Question_Answer_Dataset_v1.2/S09/data/set2/a7.htm\n",
            "Question_Answer_Dataset_v1.2/S09/data/set2/a1.txt.clean\n",
            "Question_Answer_Dataset_v1.2/S09/data/set2/a2.txt.clean\n",
            "Question_Answer_Dataset_v1.2/S09/data/set2/a10.txt.clean\n",
            "Question_Answer_Dataset_v1.2/S09/data/set2/a10o.htm\n",
            "Question_Answer_Dataset_v1.2/S09/data/set2/a6.htm\n",
            "Question_Answer_Dataset_v1.2/S09/data/set2/a7.txt\n",
            "Question_Answer_Dataset_v1.2/S09/data/set2/a9.txt\n",
            "Question_Answer_Dataset_v1.2/S09/data/set2/a6o.htm\n",
            "Question_Answer_Dataset_v1.2/S09/data/set2/a8o.htm\n",
            "Question_Answer_Dataset_v1.2/S09/data/set2/a1.htm\n",
            "Question_Answer_Dataset_v1.2/S09/data/set2/a1.txt\n",
            "Question_Answer_Dataset_v1.2/S09/data/set2/a7.txt.clean\n",
            "Question_Answer_Dataset_v1.2/S09/data/set2/a5.txt.clean\n",
            "Question_Answer_Dataset_v1.2/S09/data/set2/a5.htm\n",
            "Question_Answer_Dataset_v1.2/S09/data/set2/a3o.htm\n",
            "Question_Answer_Dataset_v1.2/S09/data/set5/\n",
            "Question_Answer_Dataset_v1.2/S09/data/set5/a6.txt.clean\n",
            "Question_Answer_Dataset_v1.2/S09/data/set5/a3.txt.clean\n",
            "Question_Answer_Dataset_v1.2/S09/data/set5/a3.txt\n",
            "Question_Answer_Dataset_v1.2/S09/data/set5/a5.txt\n",
            "Question_Answer_Dataset_v1.2/S09/data/set5/a4o.htm\n",
            "Question_Answer_Dataset_v1.2/S09/data/set5/a3.htm\n",
            "Question_Answer_Dataset_v1.2/S09/data/set5/a9.htm\n",
            "Question_Answer_Dataset_v1.2/S09/data/set5/a2.txt\n",
            "Question_Answer_Dataset_v1.2/S09/data/set5/a9.txt.clean\n",
            "Question_Answer_Dataset_v1.2/S09/data/set5/a4.htm\n",
            "Question_Answer_Dataset_v1.2/S09/data/set5/a4.txt\n",
            "Question_Answer_Dataset_v1.2/S09/data/set5/a4.txt.clean\n",
            "Question_Answer_Dataset_v1.2/S09/data/set5/a2.htm\n",
            "Question_Answer_Dataset_v1.2/S09/data/set5/a7o.htm\n",
            "Question_Answer_Dataset_v1.2/S09/data/set5/a6.txt\n",
            "Question_Answer_Dataset_v1.2/S09/data/set5/a5o.htm\n",
            "Question_Answer_Dataset_v1.2/S09/data/set5/a1o.htm\n",
            "Question_Answer_Dataset_v1.2/S09/data/set5/a9o.htm\n",
            "Question_Answer_Dataset_v1.2/S09/data/set5/a8.txt\n",
            "Question_Answer_Dataset_v1.2/S09/data/set5/a10.htm\n",
            "Question_Answer_Dataset_v1.2/S09/data/set5/a10.txt\n",
            "Question_Answer_Dataset_v1.2/S09/data/set5/a8.txt.clean\n",
            "Question_Answer_Dataset_v1.2/S09/data/set5/topics.txt\n",
            "Question_Answer_Dataset_v1.2/S09/data/set5/a2o.htm\n",
            "Question_Answer_Dataset_v1.2/S09/data/set5/a8.htm\n",
            "Question_Answer_Dataset_v1.2/S09/data/set5/a7.htm\n",
            "Question_Answer_Dataset_v1.2/S09/data/set5/a1.txt.clean\n",
            "Question_Answer_Dataset_v1.2/S09/data/set5/a2.txt.clean\n",
            "Question_Answer_Dataset_v1.2/S09/data/set5/a10.txt.clean\n",
            "Question_Answer_Dataset_v1.2/S09/data/set5/a10o.htm\n",
            "Question_Answer_Dataset_v1.2/S09/data/set5/a6.htm\n",
            "Question_Answer_Dataset_v1.2/S09/data/set5/a7.txt\n",
            "Question_Answer_Dataset_v1.2/S09/data/set5/a9.txt\n",
            "Question_Answer_Dataset_v1.2/S09/data/set5/a6o.htm\n",
            "Question_Answer_Dataset_v1.2/S09/data/set5/a8o.htm\n",
            "Question_Answer_Dataset_v1.2/S09/data/set5/a1.htm\n",
            "Question_Answer_Dataset_v1.2/S09/data/set5/a1.txt\n",
            "Question_Answer_Dataset_v1.2/S09/data/set5/a7.txt.clean\n",
            "Question_Answer_Dataset_v1.2/S09/data/set5/a5.txt.clean\n",
            "Question_Answer_Dataset_v1.2/S09/data/set5/a5.htm\n",
            "Question_Answer_Dataset_v1.2/S09/data/set5/a3o.htm\n",
            "Question_Answer_Dataset_v1.2/S09/data/set1/\n",
            "Question_Answer_Dataset_v1.2/S09/data/set1/a6.txt.clean\n",
            "Question_Answer_Dataset_v1.2/S09/data/set1/a3.txt.clean\n",
            "Question_Answer_Dataset_v1.2/S09/data/set1/a3.txt\n",
            "Question_Answer_Dataset_v1.2/S09/data/set1/a5.txt\n",
            "Question_Answer_Dataset_v1.2/S09/data/set1/a4o.htm\n",
            "Question_Answer_Dataset_v1.2/S09/data/set1/a3.htm\n",
            "Question_Answer_Dataset_v1.2/S09/data/set1/a9.htm\n",
            "Question_Answer_Dataset_v1.2/S09/data/set1/a2.txt\n",
            "Question_Answer_Dataset_v1.2/S09/data/set1/a9.txt.clean\n",
            "Question_Answer_Dataset_v1.2/S09/data/set1/a4.htm\n",
            "Question_Answer_Dataset_v1.2/S09/data/set1/a4.txt\n",
            "Question_Answer_Dataset_v1.2/S09/data/set1/a4.txt.clean\n",
            "Question_Answer_Dataset_v1.2/S09/data/set1/a2.htm\n",
            "Question_Answer_Dataset_v1.2/S09/data/set1/a7o.htm\n",
            "Question_Answer_Dataset_v1.2/S09/data/set1/a6.txt\n",
            "Question_Answer_Dataset_v1.2/S09/data/set1/a5o.htm\n",
            "Question_Answer_Dataset_v1.2/S09/data/set1/a1o.htm\n",
            "Question_Answer_Dataset_v1.2/S09/data/set1/a9o.htm\n",
            "Question_Answer_Dataset_v1.2/S09/data/set1/a8.txt\n",
            "Question_Answer_Dataset_v1.2/S09/data/set1/a10.htm\n",
            "Question_Answer_Dataset_v1.2/S09/data/set1/a10.txt\n",
            "Question_Answer_Dataset_v1.2/S09/data/set1/a8.txt.clean\n",
            "Question_Answer_Dataset_v1.2/S09/data/set1/topics.txt\n",
            "Question_Answer_Dataset_v1.2/S09/data/set1/a2o.htm\n",
            "Question_Answer_Dataset_v1.2/S09/data/set1/a8.htm\n",
            "Question_Answer_Dataset_v1.2/S09/data/set1/a7.htm\n",
            "Question_Answer_Dataset_v1.2/S09/data/set1/a1.txt.clean\n",
            "Question_Answer_Dataset_v1.2/S09/data/set1/a2.txt.clean\n",
            "Question_Answer_Dataset_v1.2/S09/data/set1/a10.txt.clean\n",
            "Question_Answer_Dataset_v1.2/S09/data/set1/a10o.htm\n",
            "Question_Answer_Dataset_v1.2/S09/data/set1/a6.htm\n",
            "Question_Answer_Dataset_v1.2/S09/data/set1/a7.txt\n",
            "Question_Answer_Dataset_v1.2/S09/data/set1/a9.txt\n",
            "Question_Answer_Dataset_v1.2/S09/data/set1/a6o.htm\n",
            "Question_Answer_Dataset_v1.2/S09/data/set1/a8o.htm\n",
            "Question_Answer_Dataset_v1.2/S09/data/set1/a1.htm\n",
            "Question_Answer_Dataset_v1.2/S09/data/set1/a1.txt\n",
            "Question_Answer_Dataset_v1.2/S09/data/set1/a7.txt.clean\n",
            "Question_Answer_Dataset_v1.2/S09/data/set1/a5.txt.clean\n",
            "Question_Answer_Dataset_v1.2/S09/data/set1/a5.htm\n",
            "Question_Answer_Dataset_v1.2/S09/data/set1/a3o.htm\n"
          ],
          "name": "stdout"
        }
      ]
    },
    {
      "cell_type": "markdown",
      "metadata": {
        "id": "6f76QRPPLcA0"
      },
      "source": [
        "There are three subdirectories containing three different year students.The file \"question_answer_pairs.txt\" contains the questions and answers. All the fields are tab-separated fields.\n",
        "\n",
        "So, here we extract all the three txt files and concatenate all the three into one dataframe"
      ]
    },
    {
      "cell_type": "code",
      "metadata": {
        "colab": {
          "base_uri": "https://localhost:8080/"
        },
        "id": "Am5p34mnJcwx",
        "outputId": "96727bcf-b093-4038-8067-eb682050ffb4"
      },
      "source": [
        "df1 = pd.read_csv(\"./Question_Answer_Dataset_v1.2/S08/question_answer_pairs.txt\",sep=\"\\t\",engine='python')\n",
        "df2 = pd.read_csv(\"./Question_Answer_Dataset_v1.2/S09/question_answer_pairs.txt\",sep=\"\\t\",engine='python')\n",
        "df3 = pd.read_csv(\"./Question_Answer_Dataset_v1.2/S10/question_answer_pairs.txt\",sep=\"\\t\",engine='python',quotechar='\"', error_bad_lines=False)"
      ],
      "execution_count": 6,
      "outputs": [
        {
          "output_type": "stream",
          "text": [
            "Skipping line 765: '\t' expected after '\"'\n",
            "Skipping line 876: '\t' expected after '\"'\n",
            "Skipping line 1219: '\t' expected after '\"'\n"
          ],
          "name": "stderr"
        }
      ]
    },
    {
      "cell_type": "code",
      "metadata": {
        "id": "KvlatJSeJcue"
      },
      "source": [
        "df = pd.concat([df1, df2, df3], axis=0, ignore_index=True)"
      ],
      "execution_count": 7,
      "outputs": []
    },
    {
      "cell_type": "code",
      "metadata": {
        "colab": {
          "base_uri": "https://localhost:8080/",
          "height": 197
        },
        "id": "3upDOGW6Jcrx",
        "outputId": "b4665409-cb71-4f2d-e262-456fc0d22d8b"
      },
      "source": [
        "df.head()"
      ],
      "execution_count": 8,
      "outputs": [
        {
          "output_type": "execute_result",
          "data": {
            "text/html": [
              "<div>\n",
              "<style scoped>\n",
              "    .dataframe tbody tr th:only-of-type {\n",
              "        vertical-align: middle;\n",
              "    }\n",
              "\n",
              "    .dataframe tbody tr th {\n",
              "        vertical-align: top;\n",
              "    }\n",
              "\n",
              "    .dataframe thead th {\n",
              "        text-align: right;\n",
              "    }\n",
              "</style>\n",
              "<table border=\"1\" class=\"dataframe\">\n",
              "  <thead>\n",
              "    <tr style=\"text-align: right;\">\n",
              "      <th></th>\n",
              "      <th>ArticleTitle</th>\n",
              "      <th>Question</th>\n",
              "      <th>Answer</th>\n",
              "      <th>DifficultyFromQuestioner</th>\n",
              "      <th>DifficultyFromAnswerer</th>\n",
              "      <th>ArticleFile</th>\n",
              "    </tr>\n",
              "  </thead>\n",
              "  <tbody>\n",
              "    <tr>\n",
              "      <th>0</th>\n",
              "      <td>Abraham_Lincoln</td>\n",
              "      <td>Was Abraham Lincoln the sixteenth President of...</td>\n",
              "      <td>yes</td>\n",
              "      <td>easy</td>\n",
              "      <td>easy</td>\n",
              "      <td>data/set3/a4</td>\n",
              "    </tr>\n",
              "    <tr>\n",
              "      <th>1</th>\n",
              "      <td>Abraham_Lincoln</td>\n",
              "      <td>Was Abraham Lincoln the sixteenth President of...</td>\n",
              "      <td>Yes.</td>\n",
              "      <td>easy</td>\n",
              "      <td>easy</td>\n",
              "      <td>data/set3/a4</td>\n",
              "    </tr>\n",
              "    <tr>\n",
              "      <th>2</th>\n",
              "      <td>Abraham_Lincoln</td>\n",
              "      <td>Did Lincoln sign the National Banking Act of 1...</td>\n",
              "      <td>yes</td>\n",
              "      <td>easy</td>\n",
              "      <td>medium</td>\n",
              "      <td>data/set3/a4</td>\n",
              "    </tr>\n",
              "    <tr>\n",
              "      <th>3</th>\n",
              "      <td>Abraham_Lincoln</td>\n",
              "      <td>Did Lincoln sign the National Banking Act of 1...</td>\n",
              "      <td>Yes.</td>\n",
              "      <td>easy</td>\n",
              "      <td>easy</td>\n",
              "      <td>data/set3/a4</td>\n",
              "    </tr>\n",
              "    <tr>\n",
              "      <th>4</th>\n",
              "      <td>Abraham_Lincoln</td>\n",
              "      <td>Did his mother die of pneumonia?</td>\n",
              "      <td>no</td>\n",
              "      <td>easy</td>\n",
              "      <td>medium</td>\n",
              "      <td>data/set3/a4</td>\n",
              "    </tr>\n",
              "  </tbody>\n",
              "</table>\n",
              "</div>"
            ],
            "text/plain": [
              "      ArticleTitle  ...   ArticleFile\n",
              "0  Abraham_Lincoln  ...  data/set3/a4\n",
              "1  Abraham_Lincoln  ...  data/set3/a4\n",
              "2  Abraham_Lincoln  ...  data/set3/a4\n",
              "3  Abraham_Lincoln  ...  data/set3/a4\n",
              "4  Abraham_Lincoln  ...  data/set3/a4\n",
              "\n",
              "[5 rows x 6 columns]"
            ]
          },
          "metadata": {
            "tags": []
          },
          "execution_count": 8
        }
      ]
    },
    {
      "cell_type": "markdown",
      "metadata": {
        "id": "veGsSHj7MFnX"
      },
      "source": [
        "Dropping all null values in required fields"
      ]
    },
    {
      "cell_type": "code",
      "metadata": {
        "colab": {
          "base_uri": "https://localhost:8080/",
          "height": 406
        },
        "id": "EFSJwoQeJcpW",
        "outputId": "ce5bf917-34b0-40d1-cb12-52768abb620f"
      },
      "source": [
        "df.dropna(subset=['Question','Answer'], inplace=True)\n",
        "df.reset_index(drop=True)"
      ],
      "execution_count": 9,
      "outputs": [
        {
          "output_type": "execute_result",
          "data": {
            "text/html": [
              "<div>\n",
              "<style scoped>\n",
              "    .dataframe tbody tr th:only-of-type {\n",
              "        vertical-align: middle;\n",
              "    }\n",
              "\n",
              "    .dataframe tbody tr th {\n",
              "        vertical-align: top;\n",
              "    }\n",
              "\n",
              "    .dataframe thead th {\n",
              "        text-align: right;\n",
              "    }\n",
              "</style>\n",
              "<table border=\"1\" class=\"dataframe\">\n",
              "  <thead>\n",
              "    <tr style=\"text-align: right;\">\n",
              "      <th></th>\n",
              "      <th>ArticleTitle</th>\n",
              "      <th>Question</th>\n",
              "      <th>Answer</th>\n",
              "      <th>DifficultyFromQuestioner</th>\n",
              "      <th>DifficultyFromAnswerer</th>\n",
              "      <th>ArticleFile</th>\n",
              "    </tr>\n",
              "  </thead>\n",
              "  <tbody>\n",
              "    <tr>\n",
              "      <th>0</th>\n",
              "      <td>Abraham_Lincoln</td>\n",
              "      <td>Was Abraham Lincoln the sixteenth President of...</td>\n",
              "      <td>yes</td>\n",
              "      <td>easy</td>\n",
              "      <td>easy</td>\n",
              "      <td>data/set3/a4</td>\n",
              "    </tr>\n",
              "    <tr>\n",
              "      <th>1</th>\n",
              "      <td>Abraham_Lincoln</td>\n",
              "      <td>Was Abraham Lincoln the sixteenth President of...</td>\n",
              "      <td>Yes.</td>\n",
              "      <td>easy</td>\n",
              "      <td>easy</td>\n",
              "      <td>data/set3/a4</td>\n",
              "    </tr>\n",
              "    <tr>\n",
              "      <th>2</th>\n",
              "      <td>Abraham_Lincoln</td>\n",
              "      <td>Did Lincoln sign the National Banking Act of 1...</td>\n",
              "      <td>yes</td>\n",
              "      <td>easy</td>\n",
              "      <td>medium</td>\n",
              "      <td>data/set3/a4</td>\n",
              "    </tr>\n",
              "    <tr>\n",
              "      <th>3</th>\n",
              "      <td>Abraham_Lincoln</td>\n",
              "      <td>Did Lincoln sign the National Banking Act of 1...</td>\n",
              "      <td>Yes.</td>\n",
              "      <td>easy</td>\n",
              "      <td>easy</td>\n",
              "      <td>data/set3/a4</td>\n",
              "    </tr>\n",
              "    <tr>\n",
              "      <th>4</th>\n",
              "      <td>Abraham_Lincoln</td>\n",
              "      <td>Did his mother die of pneumonia?</td>\n",
              "      <td>no</td>\n",
              "      <td>easy</td>\n",
              "      <td>medium</td>\n",
              "      <td>data/set3/a4</td>\n",
              "    </tr>\n",
              "    <tr>\n",
              "      <th>...</th>\n",
              "      <td>...</td>\n",
              "      <td>...</td>\n",
              "      <td>...</td>\n",
              "      <td>...</td>\n",
              "      <td>...</td>\n",
              "      <td>...</td>\n",
              "    </tr>\n",
              "    <tr>\n",
              "      <th>3414</th>\n",
              "      <td>Zebra</td>\n",
              "      <td>What areas do the Grevy's Zebras inhabit?</td>\n",
              "      <td>semi-arid grasslands of Ethiopia and northern ...</td>\n",
              "      <td>hard</td>\n",
              "      <td>hard</td>\n",
              "      <td>data/set1/a9</td>\n",
              "    </tr>\n",
              "    <tr>\n",
              "      <th>3415</th>\n",
              "      <td>Zebra</td>\n",
              "      <td>Which species of zebra is known as the common ...</td>\n",
              "      <td>Plains Zebra (Equus quagga, formerly Equus bur...</td>\n",
              "      <td>hard</td>\n",
              "      <td>medium</td>\n",
              "      <td>data/set1/a9</td>\n",
              "    </tr>\n",
              "    <tr>\n",
              "      <th>3416</th>\n",
              "      <td>Zebra</td>\n",
              "      <td>Which species of zebra is known as the common ...</td>\n",
              "      <td>Plains Zebra</td>\n",
              "      <td>hard</td>\n",
              "      <td>medium</td>\n",
              "      <td>data/set1/a9</td>\n",
              "    </tr>\n",
              "    <tr>\n",
              "      <th>3417</th>\n",
              "      <td>Zebra</td>\n",
              "      <td>At what age can a zebra breed?</td>\n",
              "      <td>five or six</td>\n",
              "      <td>hard</td>\n",
              "      <td>medium</td>\n",
              "      <td>data/set1/a9</td>\n",
              "    </tr>\n",
              "    <tr>\n",
              "      <th>3418</th>\n",
              "      <td>Zebra</td>\n",
              "      <td>At what age can a zebra breed?</td>\n",
              "      <td>5 or 6</td>\n",
              "      <td>hard</td>\n",
              "      <td>hard</td>\n",
              "      <td>data/set1/a9</td>\n",
              "    </tr>\n",
              "  </tbody>\n",
              "</table>\n",
              "<p>3419 rows × 6 columns</p>\n",
              "</div>"
            ],
            "text/plain": [
              "         ArticleTitle  ...   ArticleFile\n",
              "0     Abraham_Lincoln  ...  data/set3/a4\n",
              "1     Abraham_Lincoln  ...  data/set3/a4\n",
              "2     Abraham_Lincoln  ...  data/set3/a4\n",
              "3     Abraham_Lincoln  ...  data/set3/a4\n",
              "4     Abraham_Lincoln  ...  data/set3/a4\n",
              "...               ...  ...           ...\n",
              "3414            Zebra  ...  data/set1/a9\n",
              "3415            Zebra  ...  data/set1/a9\n",
              "3416            Zebra  ...  data/set1/a9\n",
              "3417            Zebra  ...  data/set1/a9\n",
              "3418            Zebra  ...  data/set1/a9\n",
              "\n",
              "[3419 rows x 6 columns]"
            ]
          },
          "metadata": {
            "tags": []
          },
          "execution_count": 9
        }
      ]
    },
    {
      "cell_type": "code",
      "metadata": {
        "id": "J61lyjmIMzah"
      },
      "source": [
        "# Import Library\r\n",
        "import random\r\n",
        "import torch, torchtext\r\n",
        "from torchtext import data \r\n",
        "import torch.nn as nn\r\n",
        "import torch.optim as optim\r\n",
        "from torchtext.data import Field, BucketIterator\r\n",
        "import spacy\r\n",
        "import numpy as np\r\n",
        "import math\r\n",
        "import time\r\n",
        "\r\n",
        "\r\n",
        "#Then set a random seed for deterministic results/reproducability.\r\n",
        "SEED = 1234\r\n",
        "random.seed(SEED)\r\n",
        "np.random.seed(SEED)\r\n",
        "torch.manual_seed(SEED)\r\n",
        "torch.cuda.manual_seed(SEED)\r\n",
        "torch.backends.cudnn.deterministic = True"
      ],
      "execution_count": 11,
      "outputs": []
    },
    {
      "cell_type": "markdown",
      "metadata": {
        "id": "5op2p8ANzxOR"
      },
      "source": [
        "#### Initializing src and trg with Field datatypes with sos and eos"
      ]
    },
    {
      "cell_type": "code",
      "metadata": {
        "id": "evFABOTpMzaj"
      },
      "source": [
        "SRC= data.Field(sequential = True, tokenize = 'spacy',init_token='<sos>', \r\n",
        "            eos_token='<eos>', \r\n",
        "            lower=True)\r\n",
        "TRG = data.Field(sequential = True, tokenize = 'spacy',init_token='<sos>', \r\n",
        "            eos_token='<eos>', \r\n",
        "            lower=True)"
      ],
      "execution_count": 12,
      "outputs": []
    },
    {
      "cell_type": "markdown",
      "metadata": {
        "id": "BUqUfqbj0JMa"
      },
      "source": [
        "#### Setting up the Fields"
      ]
    },
    {
      "cell_type": "code",
      "metadata": {
        "id": "pV7knu0_Mzak"
      },
      "source": [
        "fields = [('Question', SRC),('Answer',TRG)]"
      ],
      "execution_count": 13,
      "outputs": []
    },
    {
      "cell_type": "markdown",
      "metadata": {
        "id": "GvWeoXE10QZM"
      },
      "source": [
        "#### Converting pandas to list and to torchtext"
      ]
    },
    {
      "cell_type": "code",
      "metadata": {
        "id": "cj_HyBPGMzak"
      },
      "source": [
        "example = [data.Example.fromlist([df.Question.iloc[i],df.Answer.iloc[i]], fields) for i in range(df.shape[0])] "
      ],
      "execution_count": 14,
      "outputs": []
    },
    {
      "cell_type": "markdown",
      "metadata": {
        "id": "f3gDJyhLMzal"
      },
      "source": [
        "#### Creating dataset"
      ]
    },
    {
      "cell_type": "code",
      "metadata": {
        "id": "Pq0iDzMVMzal"
      },
      "source": [
        "QADataset = data.Dataset(example, fields)"
      ],
      "execution_count": 15,
      "outputs": []
    },
    {
      "cell_type": "markdown",
      "metadata": {
        "id": "ng3wtUtw0cYQ"
      },
      "source": [
        "#### Using split method to split  Dataset into train, valid and test Datasets"
      ]
    },
    {
      "cell_type": "code",
      "metadata": {
        "id": "weSiDO_gMzam"
      },
      "source": [
        "(train_data, valid_data,test_data) = QADataset.split(split_ratio=[0.80, 0.10,0.10], random_state=random.seed(SEED))"
      ],
      "execution_count": 16,
      "outputs": []
    },
    {
      "cell_type": "code",
      "metadata": {
        "colab": {
          "base_uri": "https://localhost:8080/"
        },
        "id": "0cDqeKmEMzam",
        "outputId": "c8b4db8d-3314-4cb2-c6b6-b11f92b8b88a"
      },
      "source": [
        "(len(train_data), len(valid_data),len(test_data))"
      ],
      "execution_count": 17,
      "outputs": [
        {
          "output_type": "execute_result",
          "data": {
            "text/plain": [
              "(2735, 342, 342)"
            ]
          },
          "metadata": {
            "tags": []
          },
          "execution_count": 17
        }
      ]
    },
    {
      "cell_type": "code",
      "metadata": {
        "colab": {
          "base_uri": "https://localhost:8080/"
        },
        "id": "pi1OZWxeMzan",
        "outputId": "18ef735f-0759-4067-9fed-63d6867af02c"
      },
      "source": [
        "print(vars(train_data.examples[0]))"
      ],
      "execution_count": 18,
      "outputs": [
        {
          "output_type": "stream",
          "text": [
            "{'Question': ['was', 'mission', 'bay', 'campus', 'opened', 'in', '2003'], 'Answer': ['yes']}\n"
          ],
          "name": "stdout"
        }
      ]
    },
    {
      "cell_type": "markdown",
      "metadata": {
        "id": "dVk43PmrNOqh"
      },
      "source": [
        "#### Building Vocabulary"
      ]
    },
    {
      "cell_type": "code",
      "metadata": {
        "id": "WLJlKbbUMzao"
      },
      "source": [
        "SRC.build_vocab(train_data, min_freq = 2)\r\n",
        "TRG.build_vocab(train_data, min_freq = 2)"
      ],
      "execution_count": 19,
      "outputs": []
    },
    {
      "cell_type": "markdown",
      "metadata": {
        "id": "ZXuy7xtEMzao"
      },
      "source": [
        "Finally, define the device and create our iterators."
      ]
    },
    {
      "cell_type": "code",
      "metadata": {
        "id": "oiX0syVeMzao"
      },
      "source": [
        "device = torch.device('cuda' if torch.cuda.is_available() else 'cpu')"
      ],
      "execution_count": 20,
      "outputs": []
    },
    {
      "cell_type": "code",
      "metadata": {
        "id": "31tBEuSrMzaq"
      },
      "source": [
        "BATCH_SIZE = 32\r\n",
        "\r\n",
        "train_iterator, valid_iterator, test_iterator = BucketIterator.splits(\r\n",
        "    (train_data, valid_data, test_data), \r\n",
        "    batch_size = BATCH_SIZE,\r\n",
        "    sort_key=lambda x : len(x.Question),\r\n",
        "    sort_within_batch=False, \r\n",
        "    device = device)"
      ],
      "execution_count": 21,
      "outputs": []
    },
    {
      "cell_type": "markdown",
      "metadata": {
        "id": "EzxOJwN7EzFO"
      },
      "source": [
        "# 2 - Learning Phrase Representations using RNN Encoder-Decoder for Statistical Machine Translation\n",
        "\n",
        "In this second notebook on sequence-to-sequence models using PyTorch and TorchText, we'll be implementing the model from [Learning Phrase Representations using RNN Encoder-Decoder for Statistical Machine Translation](https://arxiv.org/abs/1406.1078). This model will achieve improved test perplexity whilst only using a single layer RNN in both the encoder and the decoder.\n",
        "\n",
        "## Introduction\n",
        "\n",
        "Let's remind ourselves of the general encoder-decoder model.\n",
        "\n",
        "![](https://github.com/bentrevett/pytorch-seq2seq/blob/master/assets/seq2seq1.png?raw=1)\n",
        "\n",
        "We use our encoder (green) over the embedded source sequence (yellow) to create a context vector (red). We then use that context vector with the decoder (blue) and a linear layer (purple) to generate the target sentence.\n",
        "\n",
        "In the previous model, we used an multi-layered LSTM as the encoder and decoder.\n",
        "\n",
        "![](https://github.com/bentrevett/pytorch-seq2seq/blob/master/assets/seq2seq4.png?raw=1)\n",
        "\n",
        "One downside of the previous model is that the decoder is trying to cram lots of information into the hidden states. Whilst decoding, the hidden state will need to contain information about the whole of the source sequence, as well as all of the tokens have been decoded so far. By alleviating some of this information compression, we can create a better model!\n",
        "\n",
        "We'll also be using a GRU (Gated Recurrent Unit) instead of an LSTM (Long Short-Term Memory). Why? Mainly because that's what they did in the paper (this paper also introduced GRUs) and also because we used LSTMs last time. To understand how GRUs (and LSTMs) differ from standard RNNS, check out [this](https://colah.github.io/posts/2015-08-Understanding-LSTMs/) link. Is a GRU better than an LSTM? [Research](https://arxiv.org/abs/1412.3555) has shown they're pretty much the same, and both are better than standard RNNs. "
      ]
    },
    {
      "cell_type": "markdown",
      "metadata": {
        "id": "Jq7BwOO4EzFd"
      },
      "source": [
        "## Building the Seq2Seq Model\n",
        "\n",
        "### Encoder\n",
        "\n",
        "The encoder is similar to the previous one, with the multi-layer LSTM swapped for a single-layer GRU. We also don't pass the dropout as an argument to the GRU as that dropout is used between each layer of a multi-layered RNN. As we only have a single layer, PyTorch will display a warning if we try and use pass a dropout value to it.\n",
        "\n",
        "Another thing to note about the GRU is that it only requires and returns a hidden state, there is no cell state like in the LSTM.\n",
        "\n",
        "$$\\begin{align*}\n",
        "h_t &= \\text{GRU}(e(x_t), h_{t-1})\\\\\n",
        "(h_t, c_t) &= \\text{LSTM}(e(x_t), h_{t-1}, c_{t-1})\\\\\n",
        "h_t &= \\text{RNN}(e(x_t), h_{t-1})\n",
        "\\end{align*}$$\n",
        "\n",
        "From the equations above, it looks like the RNN and the GRU are identical. Inside the GRU, however, is a number of *gating mechanisms* that control the information flow in to and out of the hidden state (similar to an LSTM). Again, for more info, check out [this](https://colah.github.io/posts/2015-08-Understanding-LSTMs/) excellent post. \n",
        "\n",
        "The rest of the encoder should be very familar from the last session, it takes in a sequence, $X = \\{x_1, x_2, ... , x_T\\}$, passes it through the embedding layer, recurrently calculates hidden states, $H = \\{h_1, h_2, ..., h_T\\}$, and returns a context vector (the final hidden state), $z=h_T$.\n",
        "\n",
        "$$h_t = \\text{EncoderGRU}(e(x_t), h_{t-1})$$\n",
        "\n",
        "This is identical to the encoder of the general seq2seq model, with all the \"magic\" happening inside the GRU (green).\n",
        "\n",
        "![](https://github.com/bentrevett/pytorch-seq2seq/blob/master/assets/seq2seq5.png?raw=1)"
      ]
    },
    {
      "cell_type": "code",
      "metadata": {
        "id": "11CnDhTkEzFd"
      },
      "source": [
        "class Encoder(nn.Module):\n",
        "    def __init__(self, input_dim, emb_dim, hid_dim, dropout):\n",
        "        super().__init__()\n",
        "\n",
        "        self.hid_dim = hid_dim\n",
        "        \n",
        "        self.embedding = nn.Embedding(input_dim, emb_dim) #no dropout as only one layer!\n",
        "        \n",
        "        self.rnn = nn.GRU(emb_dim, hid_dim)\n",
        "        \n",
        "        self.dropout = nn.Dropout(dropout)\n",
        "        \n",
        "    def forward(self, src):\n",
        "        \n",
        "        #src = [src len, batch size]\n",
        "        \n",
        "        embedded = self.dropout(self.embedding(src))\n",
        "        \n",
        "        #embedded = [src len, batch size, emb dim]\n",
        "        \n",
        "        outputs, hidden = self.rnn(embedded) #no cell state!\n",
        "        \n",
        "        #outputs = [src len, batch size, hid dim * n directions]\n",
        "        #hidden = [n layers * n directions, batch size, hid dim]\n",
        "        \n",
        "        #outputs are always from the top hidden layer\n",
        "        \n",
        "        return hidden"
      ],
      "execution_count": 23,
      "outputs": []
    },
    {
      "cell_type": "markdown",
      "metadata": {
        "id": "FhBViJ4-EzFe"
      },
      "source": [
        "## Decoder\n",
        "\n",
        "The decoder is where the implementation differs significantly from the previous model and we alleviate some of the information compression.\n",
        "\n",
        "Instead of the GRU in the decoder taking just the embedded target token, $d(y_t)$ and the previous hidden state $s_{t-1}$ as inputs, it also takes the context vector $z$. \n",
        "\n",
        "$$s_t = \\text{DecoderGRU}(d(y_t), s_{t-1}, z)$$\n",
        "\n",
        "Note how this context vector, $z$, does not have a $t$ subscript, meaning we re-use the same context vector returned by the encoder for every time-step in the decoder. \n",
        "\n",
        "Before, we predicted the next token, $\\hat{y}_{t+1}$, with the linear layer, $f$, only using the top-layer decoder hidden state at that time-step, $s_t$, as $\\hat{y}_{t+1}=f(s_t^L)$. Now, we also pass the embedding of current token, $d(y_t)$ and the context vector, $z$ to the linear layer.\n",
        "\n",
        "$$\\hat{y}_{t+1} = f(d(y_t), s_t, z)$$\n",
        "\n",
        "Thus, our decoder now looks something like this:\n",
        "\n",
        "![](https://github.com/bentrevett/pytorch-seq2seq/blob/master/assets/seq2seq6.png?raw=1)\n",
        "\n",
        "Note, the initial hidden state, $s_0$, is still the context vector, $z$, so when generating the first token we are actually inputting two identical context vectors into the GRU.\n",
        "\n",
        "How do these two changes reduce the information compression? Well, hypothetically the decoder hidden states, $s_t$, no longer need to contain information about the source sequence as it is always available as an input. Thus, it only needs to contain information about what tokens it has generated so far. The addition of $y_t$ to the linear layer also means this layer can directly see what the token is, without having to get this information from the hidden state. \n",
        "\n",
        "However, this hypothesis is just a hypothesis, it is impossible to determine how the model actually uses the information provided to it (don't listen to anyone that says differently). Nevertheless, it is a solid intuition and the results seem to indicate that this modifications are a good idea!\n",
        "\n",
        "Within the implementation, we will pass $d(y_t)$ and $z$ to the GRU by concatenating them together, so the input dimensions to the GRU are now `emb_dim + hid_dim` (as context vector will be of size `hid_dim`). The linear layer will take $d(y_t), s_t$ and $z$ also by concatenating them together, hence the input dimensions are now `emb_dim + hid_dim*2`. We also don't pass a value of dropout to the GRU as it only uses a single layer.\n",
        "\n",
        "`forward` now takes a `context` argument. Inside of `forward`, we concatenate $y_t$ and $z$ as `emb_con` before feeding to the GRU, and we concatenate $d(y_t)$, $s_t$ and $z$ together as `output` before feeding it through the linear layer to receive our predictions, $\\hat{y}_{t+1}$."
      ]
    },
    {
      "cell_type": "code",
      "metadata": {
        "id": "wRA8hkiLEzFh"
      },
      "source": [
        "class Decoder(nn.Module):\n",
        "    def __init__(self, output_dim, emb_dim, hid_dim, dropout):\n",
        "        super().__init__()\n",
        "\n",
        "        self.hid_dim = hid_dim\n",
        "        self.output_dim = output_dim\n",
        "        \n",
        "        self.embedding = nn.Embedding(output_dim, emb_dim)\n",
        "        \n",
        "        self.rnn = nn.GRU(emb_dim + hid_dim, hid_dim)\n",
        "        \n",
        "        self.fc_out = nn.Linear(emb_dim + hid_dim * 2, output_dim)\n",
        "        \n",
        "        self.dropout = nn.Dropout(dropout)\n",
        "        \n",
        "    def forward(self, input, hidden, context):\n",
        "        \n",
        "        #input = [batch size]\n",
        "        #hidden = [n layers * n directions, batch size, hid dim]\n",
        "        #context = [n layers * n directions, batch size, hid dim]\n",
        "        \n",
        "        #n layers and n directions in the decoder will both always be 1, therefore:\n",
        "        #hidden = [1, batch size, hid dim]\n",
        "        #context = [1, batch size, hid dim]\n",
        "        \n",
        "        input = input.unsqueeze(0)\n",
        "        \n",
        "        #input = [1, batch size]\n",
        "        \n",
        "        embedded = self.dropout(self.embedding(input))\n",
        "        \n",
        "        #embedded = [1, batch size, emb dim]\n",
        "                \n",
        "        emb_con = torch.cat((embedded, context), dim = 2)\n",
        "            \n",
        "        #emb_con = [1, batch size, emb dim + hid dim]\n",
        "            \n",
        "        output, hidden = self.rnn(emb_con, hidden)\n",
        "        \n",
        "        #output = [seq len, batch size, hid dim * n directions]\n",
        "        #hidden = [n layers * n directions, batch size, hid dim]\n",
        "        \n",
        "        #seq len, n layers and n directions will always be 1 in the decoder, therefore:\n",
        "        #output = [1, batch size, hid dim]\n",
        "        #hidden = [1, batch size, hid dim]\n",
        "        \n",
        "        output = torch.cat((embedded.squeeze(0), hidden.squeeze(0), context.squeeze(0)), \n",
        "                           dim = 1)\n",
        "        \n",
        "        #output = [batch size, emb dim + hid dim * 2]\n",
        "        \n",
        "        prediction = self.fc_out(output)\n",
        "        \n",
        "        #prediction = [batch size, output dim]\n",
        "        \n",
        "        return prediction, hidden"
      ],
      "execution_count": 24,
      "outputs": []
    },
    {
      "cell_type": "markdown",
      "metadata": {
        "id": "wqR66FM2EzFj"
      },
      "source": [
        "## Seq2Seq Model\n",
        "\n",
        "Putting the encoder and decoder together, we get:\n",
        "\n",
        "![](https://github.com/bentrevett/pytorch-seq2seq/blob/master/assets/seq2seq7.png?raw=1)\n",
        "\n",
        "Again, in this implementation we need to ensure the hidden dimensions in both the encoder and the decoder are the same.\n",
        "\n",
        "Briefly going over all of the steps:\n",
        "- the `outputs` tensor is created to hold all predictions, $\\hat{Y}$\n",
        "- the source sequence, $X$, is fed into the encoder to receive a `context` vector\n",
        "- the initial decoder hidden state is set to be the `context` vector, $s_0 = z = h_T$\n",
        "- we use a batch of `<sos>` tokens as the first `input`, $y_1$\n",
        "- we then decode within a loop:\n",
        "  - inserting the input token $y_t$, previous hidden state, $s_{t-1}$, and the context vector, $z$, into the decoder\n",
        "  - receiving a prediction, $\\hat{y}_{t+1}$, and a new hidden state, $s_t$\n",
        "  - we then decide if we are going to teacher force or not, setting the next input as appropriate (either the ground truth next token in the target sequence or the highest predicted next token)"
      ]
    },
    {
      "cell_type": "code",
      "metadata": {
        "id": "FDyNrQ8VEzFk"
      },
      "source": [
        "class Seq2Seq(nn.Module):\n",
        "    def __init__(self, encoder, decoder, device):\n",
        "        super().__init__()\n",
        "        \n",
        "        self.encoder = encoder\n",
        "        self.decoder = decoder\n",
        "        self.device = device\n",
        "        \n",
        "        assert encoder.hid_dim == decoder.hid_dim, \\\n",
        "            \"Hidden dimensions of encoder and decoder must be equal!\"\n",
        "        \n",
        "    def forward(self, src, trg, teacher_forcing_ratio = 0.5):\n",
        "        \n",
        "        #src = [src len, batch size]\n",
        "        #trg = [trg len, batch size]\n",
        "        #teacher_forcing_ratio is probability to use teacher forcing\n",
        "        #e.g. if teacher_forcing_ratio is 0.75 we use ground-truth inputs 75% of the time\n",
        "        \n",
        "        batch_size = trg.shape[1]\n",
        "        trg_len = trg.shape[0]\n",
        "        trg_vocab_size = self.decoder.output_dim\n",
        "        \n",
        "        #tensor to store decoder outputs\n",
        "        outputs = torch.zeros(trg_len, batch_size, trg_vocab_size).to(self.device)\n",
        "        \n",
        "        #last hidden state of the encoder is the context\n",
        "        context = self.encoder(src)\n",
        "        \n",
        "        #context also used as the initial hidden state of the decoder\n",
        "        hidden = context\n",
        "        \n",
        "        #first input to the decoder is the <sos> tokens\n",
        "        input = trg[0,:]\n",
        "        \n",
        "        for t in range(1, trg_len):\n",
        "            \n",
        "            #insert input token embedding, previous hidden state and the context state\n",
        "            #receive output tensor (predictions) and new hidden state\n",
        "            output, hidden = self.decoder(input, hidden, context)\n",
        "            \n",
        "            #place predictions in a tensor holding predictions for each token\n",
        "            outputs[t] = output\n",
        "            \n",
        "            #decide if we are going to use teacher forcing or not\n",
        "            teacher_force = random.random() < teacher_forcing_ratio\n",
        "            \n",
        "            #get the highest predicted token from our predictions\n",
        "            top1 = output.argmax(1) \n",
        "            \n",
        "            #if teacher forcing, use actual next token as next input\n",
        "            #if not, use predicted token\n",
        "            input = trg[t] if teacher_force else top1\n",
        "\n",
        "        return outputs"
      ],
      "execution_count": 25,
      "outputs": []
    },
    {
      "cell_type": "markdown",
      "metadata": {
        "id": "uxVMMPUyEzFk"
      },
      "source": [
        "# Training the Seq2Seq Model\n",
        "\n",
        "The rest of this session is very similar to the previous one. \n",
        "\n",
        "We initialise our encoder, decoder and seq2seq model (placing it on the GPU if we have one). As before, the embedding dimensions and the amount of dropout used can be different between the encoder and the decoder, but the hidden dimensions must remain the same."
      ]
    },
    {
      "cell_type": "code",
      "metadata": {
        "id": "WDG6jOSuEzFk"
      },
      "source": [
        "INPUT_DIM = len(SRC.vocab)\n",
        "OUTPUT_DIM = len(TRG.vocab)\n",
        "ENC_EMB_DIM = 256\n",
        "DEC_EMB_DIM = 256\n",
        "HID_DIM = 512\n",
        "ENC_DROPOUT = 0.5\n",
        "DEC_DROPOUT = 0.5\n",
        "\n",
        "enc = Encoder(INPUT_DIM, ENC_EMB_DIM, HID_DIM, ENC_DROPOUT)\n",
        "dec = Decoder(OUTPUT_DIM, DEC_EMB_DIM, HID_DIM, DEC_DROPOUT)\n",
        "\n",
        "device = torch.device('cuda' if torch.cuda.is_available() else 'cpu')\n",
        "\n",
        "model = Seq2Seq(enc, dec, device).to(device)"
      ],
      "execution_count": 26,
      "outputs": []
    },
    {
      "cell_type": "markdown",
      "metadata": {
        "id": "RLIc1l6CEzFk"
      },
      "source": [
        "Next, we initialize our parameters. The paper states the parameters are initialized from a normal distribution with a mean of 0 and a standard deviation of 0.01, i.e. $\\mathcal{N}(0, 0.01)$. \n",
        "\n",
        "It also states we should initialize the recurrent parameters to a special initialization, however to keep things simple we'll also initialize them to $\\mathcal{N}(0, 0.01)$."
      ]
    },
    {
      "cell_type": "code",
      "metadata": {
        "id": "HgqMqq-oEzFk",
        "colab": {
          "base_uri": "https://localhost:8080/"
        },
        "outputId": "cc33b0ee-a0dd-4a67-bcf0-108f7483ddb9"
      },
      "source": [
        "def init_weights(m):\n",
        "    for name, param in m.named_parameters():\n",
        "        nn.init.normal_(param.data, mean=0, std=0.01)\n",
        "        \n",
        "model.apply(init_weights)"
      ],
      "execution_count": 27,
      "outputs": [
        {
          "output_type": "execute_result",
          "data": {
            "text/plain": [
              "Seq2Seq(\n",
              "  (encoder): Encoder(\n",
              "    (embedding): Embedding(2197, 256)\n",
              "    (rnn): GRU(256, 512)\n",
              "    (dropout): Dropout(p=0.5, inplace=False)\n",
              "  )\n",
              "  (decoder): Decoder(\n",
              "    (embedding): Embedding(1504, 256)\n",
              "    (rnn): GRU(768, 512)\n",
              "    (fc_out): Linear(in_features=1280, out_features=1504, bias=True)\n",
              "    (dropout): Dropout(p=0.5, inplace=False)\n",
              "  )\n",
              ")"
            ]
          },
          "metadata": {
            "tags": []
          },
          "execution_count": 27
        }
      ]
    },
    {
      "cell_type": "markdown",
      "metadata": {
        "id": "hd1QoOsUEzFl"
      },
      "source": [
        "We print out the number of parameters.\n",
        "\n",
        "Even though we only have a single layer RNN for our encoder and decoder we actually have **more** parameters  than the last model. This is due to the increased size of the inputs to the GRU and the linear layer. However, it is not a significant amount of parameters and causes a minimal amount of increase in training time (~3 seconds per epoch extra)."
      ]
    },
    {
      "cell_type": "code",
      "metadata": {
        "id": "IggCwIBgEzFl",
        "colab": {
          "base_uri": "https://localhost:8080/"
        },
        "outputId": "ba1e9996-1ff8-43f0-b397-31abe11f823b"
      },
      "source": [
        "def count_parameters(model):\n",
        "    return sum(p.numel() for p in model.parameters() if p.requires_grad)\n",
        "\n",
        "print(f'The model has {count_parameters(model):,} trainable parameters')"
      ],
      "execution_count": 28,
      "outputs": [
        {
          "output_type": "stream",
          "text": [
            "The model has 6,025,952 trainable parameters\n"
          ],
          "name": "stdout"
        }
      ]
    },
    {
      "cell_type": "markdown",
      "metadata": {
        "id": "YiH54qzHEzFl"
      },
      "source": [
        "We initiaize our optimizer."
      ]
    },
    {
      "cell_type": "code",
      "metadata": {
        "id": "eO1_eoG7EzFl"
      },
      "source": [
        "optimizer = optim.Adam(model.parameters())"
      ],
      "execution_count": 29,
      "outputs": []
    },
    {
      "cell_type": "markdown",
      "metadata": {
        "id": "BwkV3FKlEzFl"
      },
      "source": [
        "We also initialize the loss function, making sure to ignore the loss on `<pad>` tokens."
      ]
    },
    {
      "cell_type": "code",
      "metadata": {
        "id": "H0DAbGbcEzFl"
      },
      "source": [
        "TRG_PAD_IDX = TRG.vocab.stoi[TRG.pad_token]\n",
        "\n",
        "criterion = nn.CrossEntropyLoss(ignore_index = TRG_PAD_IDX)"
      ],
      "execution_count": 30,
      "outputs": []
    },
    {
      "cell_type": "markdown",
      "metadata": {
        "id": "FTay7E9rEzFm"
      },
      "source": [
        "We then create the training loop..."
      ]
    },
    {
      "cell_type": "code",
      "metadata": {
        "id": "A5OYuoFdEzFm"
      },
      "source": [
        "def train(model, iterator, optimizer, criterion, clip):\n",
        "    \n",
        "    model.train()\n",
        "    \n",
        "    epoch_loss = 0\n",
        "    \n",
        "    for i, batch in enumerate(iterator):\n",
        "        \n",
        "        src = batch.Question\n",
        "        trg = batch.Answer\n",
        "        \n",
        "        optimizer.zero_grad()\n",
        "        \n",
        "        output = model(src, trg)\n",
        "        \n",
        "        #trg = [trg len, batch size]\n",
        "        #output = [trg len, batch size, output dim]\n",
        "        \n",
        "        output_dim = output.shape[-1]\n",
        "        \n",
        "        output = output[1:].view(-1, output_dim)\n",
        "        trg = trg[1:].view(-1)\n",
        "        \n",
        "        #trg = [(trg len - 1) * batch size]\n",
        "        #output = [(trg len - 1) * batch size, output dim]\n",
        "        \n",
        "        loss = criterion(output, trg)\n",
        "        \n",
        "        loss.backward()\n",
        "        \n",
        "        torch.nn.utils.clip_grad_norm_(model.parameters(), clip)\n",
        "        \n",
        "        optimizer.step()\n",
        "        \n",
        "        epoch_loss += loss.item()\n",
        "        \n",
        "    return epoch_loss / len(iterator)"
      ],
      "execution_count": 32,
      "outputs": []
    },
    {
      "cell_type": "markdown",
      "metadata": {
        "id": "6rfUx5lhEzFm"
      },
      "source": [
        "...and the evaluation loop, remembering to set the model to `eval` mode and turn off teaching forcing."
      ]
    },
    {
      "cell_type": "code",
      "metadata": {
        "id": "Jw022pw0EzFm"
      },
      "source": [
        "def evaluate(model, iterator, criterion):\n",
        "    \n",
        "    model.eval()\n",
        "    \n",
        "    epoch_loss = 0\n",
        "    \n",
        "    with torch.no_grad():\n",
        "    \n",
        "        for i, batch in enumerate(iterator):\n",
        "\n",
        "            src = batch.Question\n",
        "            trg = batch.Answer\n",
        "\n",
        "            output = model(src, trg, 0) #turn off teacher forcing\n",
        "\n",
        "            #trg = [trg len, batch size]\n",
        "            #output = [trg len, batch size, output dim]\n",
        "\n",
        "            output_dim = output.shape[-1]\n",
        "            \n",
        "            output = output[1:].view(-1, output_dim)\n",
        "            trg = trg[1:].view(-1)\n",
        "\n",
        "            #trg = [(trg len - 1) * batch size]\n",
        "            #output = [(trg len - 1) * batch size, output dim]\n",
        "\n",
        "            loss = criterion(output, trg)\n",
        "\n",
        "            epoch_loss += loss.item()\n",
        "        \n",
        "    return epoch_loss / len(iterator)"
      ],
      "execution_count": 33,
      "outputs": []
    },
    {
      "cell_type": "markdown",
      "metadata": {
        "id": "E43h8dnQEzFm"
      },
      "source": [
        "We'll also define the function that calculates how long an epoch takes."
      ]
    },
    {
      "cell_type": "code",
      "metadata": {
        "id": "zTAmu3-EEzFm"
      },
      "source": [
        "def epoch_time(start_time, end_time):\n",
        "    elapsed_time = end_time - start_time\n",
        "    elapsed_mins = int(elapsed_time / 60)\n",
        "    elapsed_secs = int(elapsed_time - (elapsed_mins * 60))\n",
        "    return elapsed_mins, elapsed_secs"
      ],
      "execution_count": 34,
      "outputs": []
    },
    {
      "cell_type": "markdown",
      "metadata": {
        "id": "kbCGyO4ZEzFm"
      },
      "source": [
        "Then, we train our model, saving the parameters that give us the best validation loss."
      ]
    },
    {
      "cell_type": "code",
      "metadata": {
        "id": "jjFyRUK9EzFm",
        "colab": {
          "base_uri": "https://localhost:8080/"
        },
        "outputId": "49408f73-22fc-4f52-9d74-34ac88b7c497"
      },
      "source": [
        "N_EPOCHS = 10\n",
        "CLIP = 1\n",
        "\n",
        "best_valid_loss = float('inf')\n",
        "\n",
        "for epoch in range(N_EPOCHS):\n",
        "    \n",
        "    start_time = time.time()\n",
        "    \n",
        "    train_loss = train(model, train_iterator, optimizer, criterion, CLIP)\n",
        "    valid_loss = evaluate(model, valid_iterator, criterion)\n",
        "    \n",
        "    end_time = time.time()\n",
        "    \n",
        "    epoch_mins, epoch_secs = epoch_time(start_time, end_time)\n",
        "    \n",
        "    if valid_loss < best_valid_loss:\n",
        "        best_valid_loss = valid_loss\n",
        "        torch.save(model.state_dict(), 'tut2-model.pt')\n",
        "    \n",
        "    print(f'Epoch: {epoch+1:02} | Time: {epoch_mins}m {epoch_secs}s')\n",
        "    print(f'\\tTrain Loss: {train_loss:.3f} | Train PPL: {math.exp(train_loss):7.3f}')\n",
        "    print(f'\\t Val. Loss: {valid_loss:.3f} |  Val. PPL: {math.exp(valid_loss):7.3f}')"
      ],
      "execution_count": 35,
      "outputs": [
        {
          "output_type": "stream",
          "text": [
            "Epoch: 01 | Time: 0m 4s\n",
            "\tTrain Loss: 5.185 | Train PPL: 178.506\n",
            "\t Val. Loss: 3.947 |  Val. PPL:  51.773\n",
            "Epoch: 02 | Time: 0m 4s\n",
            "\tTrain Loss: 4.433 | Train PPL:  84.210\n",
            "\t Val. Loss: 3.851 |  Val. PPL:  47.055\n",
            "Epoch: 03 | Time: 0m 4s\n",
            "\tTrain Loss: 4.311 | Train PPL:  74.530\n",
            "\t Val. Loss: 3.891 |  Val. PPL:  48.950\n",
            "Epoch: 04 | Time: 0m 4s\n",
            "\tTrain Loss: 4.208 | Train PPL:  67.226\n",
            "\t Val. Loss: 3.845 |  Val. PPL:  46.747\n",
            "Epoch: 05 | Time: 0m 4s\n",
            "\tTrain Loss: 4.011 | Train PPL:  55.228\n",
            "\t Val. Loss: 3.757 |  Val. PPL:  42.821\n",
            "Epoch: 06 | Time: 0m 4s\n",
            "\tTrain Loss: 3.896 | Train PPL:  49.208\n",
            "\t Val. Loss: 3.723 |  Val. PPL:  41.389\n",
            "Epoch: 07 | Time: 0m 4s\n",
            "\tTrain Loss: 3.809 | Train PPL:  45.121\n",
            "\t Val. Loss: 3.712 |  Val. PPL:  40.943\n",
            "Epoch: 08 | Time: 0m 4s\n",
            "\tTrain Loss: 3.696 | Train PPL:  40.277\n",
            "\t Val. Loss: 3.727 |  Val. PPL:  41.544\n",
            "Epoch: 09 | Time: 0m 4s\n",
            "\tTrain Loss: 3.574 | Train PPL:  35.648\n",
            "\t Val. Loss: 3.807 |  Val. PPL:  45.033\n",
            "Epoch: 10 | Time: 0m 4s\n",
            "\tTrain Loss: 3.503 | Train PPL:  33.224\n",
            "\t Val. Loss: 3.894 |  Val. PPL:  49.101\n"
          ],
          "name": "stdout"
        }
      ]
    },
    {
      "cell_type": "markdown",
      "metadata": {
        "id": "ztR5mNm8EzFn"
      },
      "source": [
        "Finally, we test the model on the test set using these \"best\" parameters."
      ]
    },
    {
      "cell_type": "code",
      "metadata": {
        "id": "xaJo3X9aEzFn",
        "colab": {
          "base_uri": "https://localhost:8080/"
        },
        "outputId": "2f136907-1f2c-4975-97ca-ac419b94a546"
      },
      "source": [
        "model.load_state_dict(torch.load('tut2-model.pt'))\n",
        "\n",
        "test_loss = evaluate(model, test_iterator, criterion)\n",
        "\n",
        "print(f'| Test Loss: {test_loss:.3f} | Test PPL: {math.exp(test_loss):7.3f} |')"
      ],
      "execution_count": 36,
      "outputs": [
        {
          "output_type": "stream",
          "text": [
            "| Test Loss: 3.558 | Test PPL:  35.110 |\n"
          ],
          "name": "stdout"
        }
      ]
    },
    {
      "cell_type": "markdown",
      "metadata": {
        "id": "QY7SsC8TEzFn"
      },
      "source": [
        "Just looking at the test loss, we get better performance. This is a pretty good sign that this model architecture is doing something right! Relieving the information compression seems like the way forard, and in the next tutorial we'll expand on this even further with *attention*."
      ]
    },
    {
      "cell_type": "code",
      "metadata": {
        "id": "rnE1iXqNOEMh"
      },
      "source": [
        ""
      ],
      "execution_count": null,
      "outputs": []
    }
  ]
}