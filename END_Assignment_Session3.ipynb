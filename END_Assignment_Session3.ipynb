{
  "nbformat": 4,
  "nbformat_minor": 0,
  "metadata": {
    "colab": {
      "name": "END_Assignment - Session3.ipynb",
      "provenance": [],
      "collapsed_sections": []
    },
    "kernelspec": {
      "name": "python3",
      "display_name": "Python 3"
    }
  },
  "cells": [
    {
      "cell_type": "code",
      "metadata": {
        "id": "UjNuvAstT7qz"
      },
      "source": [
        "# Importing required libraries\n",
        "from functools import reduce, partial\n",
        "import math\n",
        "import operator\n",
        "import random\n",
        "import re\n",
        "from urllib.request import urlopen\n"
      ],
      "execution_count": 47,
      "outputs": []
    },
    {
      "cell_type": "code",
      "metadata": {
        "id": "hAfYDXybUEwU"
      },
      "source": [
        "# Q.1: Write a function using only list filter lambda that can tell whether a number is a Fibonacci \n",
        "#      number or not. You can use a pre-calculated list/dict to store fab numbers till 10000\n",
        "def fib_checker(num=int)->bool:\n",
        "    '''\n",
        "    This function checks if the number provided is a number in Fibonacci series\n",
        "    The input should be a positive integer less than 10,000. The function returns True or\n",
        "    False indicationg whether a the number provided is a number in Fibonacci series\n",
        "    '''\n",
        "    if num>10000:\n",
        "        raise ValueError(\"The function doesn't check for numbers above 10,000\")\n",
        "\n",
        "    fib = [0, 1, 1, 2, 3, 5, 8, 13, 21, 34, 55, 89, 144, 233, 377, 610, 987, 1597, 2584, 4181, 6765]\n",
        "    num_list=[num]\n",
        "    return bool((list(filter(lambda x: True if x in fib else False,num_list))))"
      ],
      "execution_count": 48,
      "outputs": []
    },
    {
      "cell_type": "code",
      "metadata": {
        "id": "OTXsTn95ULFn",
        "outputId": "13346e45-7e91-40d3-a95f-dcc50a8f4c2a",
        "colab": {
          "base_uri": "https://localhost:8080/"
        }
      },
      "source": [
        "fib_checker(21)"
      ],
      "execution_count": 50,
      "outputs": [
        {
          "output_type": "execute_result",
          "data": {
            "text/plain": [
              "True"
            ]
          },
          "metadata": {
            "tags": []
          },
          "execution_count": 50
        }
      ]
    },
    {
      "cell_type": "code",
      "metadata": {
        "id": "DdsIENELUPCF"
      },
      "source": [
        "# Q2.1. Using list comprehension (and zip/lambda/etc if required) write an expression that\n",
        "#       add 2 iterables a and b such that a is even and b is odd\n",
        "def add_iter_even_odd(in_list1 = list, in_list2 = list)->list:\n",
        "    '''\n",
        "    This function adds 2 iterables a and b such that a is even and b is odd\n",
        "    The input should be a list of numbers.\n",
        "    The function returns list with addition as per the above mentioned rule\n",
        "    '''\n",
        "    final_list = list(filter(None,[a+b if a%2==0 and b%2!=0 else 0 for a,b in zip(in_list1,in_list2)]))\n",
        "    return final_list"
      ],
      "execution_count": 51,
      "outputs": []
    },
    {
      "cell_type": "code",
      "metadata": {
        "id": "WUFY68AuUS0E",
        "outputId": "064fc174-efa1-4d3d-9f08-7b303b65282b",
        "colab": {
          "base_uri": "https://localhost:8080/"
        }
      },
      "source": [
        "a = [1,2,3]\n",
        "b = [4,5,6]\n",
        "add_iter_even_odd(a,b)"
      ],
      "execution_count": 52,
      "outputs": [
        {
          "output_type": "execute_result",
          "data": {
            "text/plain": [
              "[7]"
            ]
          },
          "metadata": {
            "tags": []
          },
          "execution_count": 52
        }
      ]
    },
    {
      "cell_type": "code",
      "metadata": {
        "id": "XCBG3_eAUeBD"
      },
      "source": [
        "# Q2.2. Using list comprehension (and zip/lambda/etc if required) write an expression that\n",
        "#       strips every vowel from a string provided (tsai>>t s)\n",
        "def vowel_remover(in_str = str)->str:\n",
        "    '''\n",
        "    This function strips every vowel from a string provided\n",
        "    The input should be any string.\n",
        "    The function returns string without any vowels\n",
        "    '''\n",
        "    if not isinstance(in_str,str):\n",
        "        raise TypeError(\"Only strings allowed as input\")\n",
        "\n",
        "    vowels_list = [x for x in in_str if x not in ('a','e','i','o','u')]\n",
        "    return \" \".join(vowels_list)"
      ],
      "execution_count": 54,
      "outputs": []
    },
    {
      "cell_type": "code",
      "metadata": {
        "id": "n37xSEitUgqo",
        "outputId": "59a26af0-d57a-4767-e279-a91eb45a8450",
        "colab": {
          "base_uri": "https://localhost:8080/",
          "height": 35
        }
      },
      "source": [
        "vowel_remover('python is simple language')"
      ],
      "execution_count": 55,
      "outputs": [
        {
          "output_type": "execute_result",
          "data": {
            "application/vnd.google.colaboratory.intrinsic+json": {
              "type": "string"
            },
            "text/plain": [
              "'p y t h n   s   s m p l   l n g g'"
            ]
          },
          "metadata": {
            "tags": []
          },
          "execution_count": 55
        }
      ]
    },
    {
      "cell_type": "code",
      "metadata": {
        "id": "4b0saUFzUkrh"
      },
      "source": [
        "# Q2.3. Using list comprehension (and zip/lambda/etc if required) write an expression that\n",
        "#       acts like a ReLU function for a 1D array\n",
        "def relu(in_list = list)->list:\n",
        "    '''\n",
        "    This function that applies ReLU function to each elements of the provided list\n",
        "    The input should be a list of numbers.\n",
        "    The function returns list with ReLU output for each of the elements of the list\n",
        "    '''\n",
        "    final_list = [0 if x < 0 else x for x in in_list]\n",
        "    return final_list"
      ],
      "execution_count": 56,
      "outputs": []
    },
    {
      "cell_type": "code",
      "metadata": {
        "id": "Rf7Bnc-_Un1_",
        "outputId": "55b1d296-7ff7-4d9e-f3eb-1aadf3dbbda6",
        "colab": {
          "base_uri": "https://localhost:8080/"
        }
      },
      "source": [
        "relu([1,2,-3,4,-5.5])"
      ],
      "execution_count": 57,
      "outputs": [
        {
          "output_type": "execute_result",
          "data": {
            "text/plain": [
              "[1, 2, 0, 4, 0]"
            ]
          },
          "metadata": {
            "tags": []
          },
          "execution_count": 57
        }
      ]
    },
    {
      "cell_type": "code",
      "metadata": {
        "id": "j1CNldePUpRQ"
      },
      "source": [
        "# Q2.4. Using list comprehension (and zip/lambda/etc if required) write an expression that\n",
        "#       acts like a Sigmoid function for a 1D array\n",
        "def sigmoid(in_list = list)->list:\n",
        "    '''\n",
        "    This function that applies Sigmoid function to each elements of the provided list\n",
        "    The input should be a list of numbers.\n",
        "    The function returns list with Sigmoid output for each of the elements of the list\n",
        "    '''\n",
        "    final_list = [round(1/(1+math.exp(-x)),2) for x in in_list]\n",
        "    return final_list"
      ],
      "execution_count": 58,
      "outputs": []
    },
    {
      "cell_type": "code",
      "metadata": {
        "id": "b6n0KAhtUv3p",
        "outputId": "948e5210-edce-4543-cd08-53f840e0b24e",
        "colab": {
          "base_uri": "https://localhost:8080/"
        }
      },
      "source": [
        "sigmoid([1,2,-3,4,-5.5])"
      ],
      "execution_count": 59,
      "outputs": [
        {
          "output_type": "execute_result",
          "data": {
            "text/plain": [
              "[0.73, 0.88, 0.05, 0.98, 0.0]"
            ]
          },
          "metadata": {
            "tags": []
          },
          "execution_count": 59
        }
      ]
    },
    {
      "cell_type": "code",
      "metadata": {
        "id": "6jkxPQKEU2Du"
      },
      "source": [
        "# Q2.5. Using list comprehension (and zip/lambda/etc if required) write an expression that\n",
        "#       takes a small character string and shifts all characters by 5 (handle boundary conditions)\n",
        "def char_shifter(in_str = str)->str:\n",
        "    '''\n",
        "    This function shifts all characters by 5 for a string provided\n",
        "    The input should be any string.\n",
        "    The function returns string with all characters shifted by 5\n",
        "    '''\n",
        "    if not isinstance(in_str,str):\n",
        "        raise TypeError(\"Only strings allowed as input\")\n",
        "\n",
        "    str_list = [chr(ord(x)+5) if ord(x)<117 else chr(ord(x)-21) for x in in_str]\n",
        "    return \"\".join(str_list)"
      ],
      "execution_count": 60,
      "outputs": []
    },
    {
      "cell_type": "code",
      "metadata": {
        "id": "Q4z9uOMsVOKD",
        "outputId": "6d31660b-24a9-41f1-e86d-9afecf2dafb3",
        "colab": {
          "base_uri": "https://localhost:8080/",
          "height": 35
        }
      },
      "source": [
        "char_shifter(\"tsai\")"
      ],
      "execution_count": 62,
      "outputs": [
        {
          "output_type": "execute_result",
          "data": {
            "application/vnd.google.colaboratory.intrinsic+json": {
              "type": "string"
            },
            "text/plain": [
              "'yxfn'"
            ]
          },
          "metadata": {
            "tags": []
          },
          "execution_count": 62
        }
      ]
    },
    {
      "cell_type": "code",
      "metadata": {
        "id": "oNGOdUn3Dp-j",
        "outputId": "02ee09ee-3f65-42b4-dc8a-dbdcf466b840",
        "colab": {
          "base_uri": "https://localhost:8080/"
        }
      },
      "source": [
        "!curl https://raw.githubusercontent.com/RobertJGabriel/Google-profanity-words/master/list.txt > list.txt"
      ],
      "execution_count": 68,
      "outputs": [
        {
          "output_type": "stream",
          "text": [
            "  % Total    % Received % Xferd  Average Speed   Time    Time     Time  Current\n",
            "                                 Dload  Upload   Total   Spent    Left  Speed\n",
            "\r  0     0    0     0    0     0      0      0 --:--:-- --:--:-- --:--:--     0\r  0     0    0     0    0     0      0      0 --:--:-- --:--:-- --:--:--     0\r100  3622  100  3622    0     0  39369      0 --:--:-- --:--:-- --:--:-- 38946\n"
          ],
          "name": "stdout"
        }
      ]
    },
    {
      "cell_type": "code",
      "metadata": {
        "id": "7QYbrZDWDr-t",
        "outputId": "f5c3e81f-45d9-4c50-8062-6da54cb47119",
        "colab": {
          "base_uri": "https://localhost:8080/"
        }
      },
      "source": [
        "!ls"
      ],
      "execution_count": 69,
      "outputs": [
        {
          "output_type": "stream",
          "text": [
            "filename  list.txt  sample_data\n"
          ],
          "name": "stdout"
        }
      ]
    },
    {
      "cell_type": "code",
      "metadata": {
        "id": "Hqucd1_sDutd",
        "outputId": "a5a8c7af-1a50-4809-eb12-98b190660cdc",
        "colab": {
          "base_uri": "https://localhost:8080/"
        }
      },
      "source": [
        "!cat list.txt"
      ],
      "execution_count": 70,
      "outputs": [
        {
          "output_type": "stream",
          "text": [
            "4r5e\n",
            "5h1t\n",
            "5hit\n",
            "a55\n",
            "anal\n",
            "anus\n",
            "ar5e\n",
            "arrse\n",
            "arse\n",
            "ass\n",
            "ass-fucker\n",
            "asses\n",
            "assfucker\n",
            "assfukka\n",
            "asshole\n",
            "assholes\n",
            "asswhole\n",
            "a_s_s\n",
            "b!tch\n",
            "b00bs\n",
            "b17ch\n",
            "b1tch\n",
            "ballbag\n",
            "balls\n",
            "ballsack\n",
            "bastard\n",
            "beastial\n",
            "beastiality\n",
            "bellend\n",
            "bestial\n",
            "bestiality\n",
            "bi+ch\n",
            "biatch\n",
            "bitch\n",
            "bitcher\n",
            "bitchers\n",
            "bitches\n",
            "bitchin\n",
            "bitching\n",
            "bloody\n",
            "blow job\n",
            "blowjob\n",
            "blowjobs\n",
            "boiolas\n",
            "bollock\n",
            "bollok\n",
            "boner\n",
            "boob\n",
            "boobs\n",
            "booobs\n",
            "boooobs\n",
            "booooobs\n",
            "booooooobs\n",
            "breasts\n",
            "buceta\n",
            "bugger\n",
            "bum\n",
            "bunny fucker\n",
            "butt\n",
            "butthole\n",
            "buttmunch\n",
            "buttplug\n",
            "c0ck\n",
            "c0cksucker\n",
            "carpet muncher\n",
            "cawk\n",
            "chink\n",
            "cipa\n",
            "cl1t\n",
            "clit\n",
            "clitoris\n",
            "clits\n",
            "cnut\n",
            "cock\n",
            "cock-sucker\n",
            "cockface\n",
            "cockhead\n",
            "cockmunch\n",
            "cockmuncher\n",
            "cocks\n",
            "cocksuck \n",
            "cocksucked \n",
            "cocksucker\n",
            "cocksucking\n",
            "cocksucks \n",
            "cocksuka\n",
            "cocksukka\n",
            "cok\n",
            "cokmuncher\n",
            "coksucka\n",
            "coon\n",
            "cox\n",
            "crap\n",
            "cum\n",
            "cummer\n",
            "cumming\n",
            "cums\n",
            "cumshot\n",
            "cunilingus\n",
            "cunillingus\n",
            "cunnilingus\n",
            "cunt\n",
            "cuntlick \n",
            "cuntlicker \n",
            "cuntlicking \n",
            "cunts\n",
            "cyalis\n",
            "cyberfuc\n",
            "cyberfuck \n",
            "cyberfucked \n",
            "cyberfucker\n",
            "cyberfuckers\n",
            "cyberfucking \n",
            "d1ck\n",
            "damn\n",
            "dick\n",
            "dickhead\n",
            "dildo\n",
            "dildos\n",
            "dink\n",
            "dinks\n",
            "dirsa\n",
            "dlck\n",
            "dog-fucker\n",
            "doggin\n",
            "dogging\n",
            "donkeyribber\n",
            "doosh\n",
            "duche\n",
            "dyke\n",
            "ejaculate\n",
            "ejaculated\n",
            "ejaculates \n",
            "ejaculating \n",
            "ejaculatings\n",
            "ejaculation\n",
            "ejakulate\n",
            "f u c k\n",
            "f u c k e r\n",
            "f4nny\n",
            "fag\n",
            "fagging\n",
            "faggitt\n",
            "faggot\n",
            "faggs\n",
            "fagot\n",
            "fagots\n",
            "fags\n",
            "fanny\n",
            "fannyflaps\n",
            "fannyfucker\n",
            "fanyy\n",
            "fatass\n",
            "fcuk\n",
            "fcuker\n",
            "fcuking\n",
            "feck\n",
            "fecker\n",
            "felching\n",
            "fellate\n",
            "fellatio\n",
            "fingerfuck \n",
            "fingerfucked \n",
            "fingerfucker \n",
            "fingerfuckers\n",
            "fingerfucking \n",
            "fingerfucks \n",
            "fistfuck\n",
            "fistfucked \n",
            "fistfucker \n",
            "fistfuckers \n",
            "fistfucking \n",
            "fistfuckings \n",
            "fistfucks \n",
            "flange\n",
            "fook\n",
            "fooker\n",
            "fuck\n",
            "fucka\n",
            "fucked\n",
            "fucker\n",
            "fuckers\n",
            "fuckhead\n",
            "fuckheads\n",
            "fuckin\n",
            "fucking\n",
            "fuckings\n",
            "fuckingshitmotherfucker\n",
            "fuckme \n",
            "fucks\n",
            "fuckwhit\n",
            "fuckwit\n",
            "fudge packer\n",
            "fudgepacker\n",
            "fuk\n",
            "fuker\n",
            "fukker\n",
            "fukkin\n",
            "fuks\n",
            "fukwhit\n",
            "fukwit\n",
            "fux\n",
            "fux0r\n",
            "f_u_c_k\n",
            "gangbang\n",
            "gangbanged \n",
            "gangbangs \n",
            "gaylord\n",
            "gaysex\n",
            "goatse\n",
            "God\n",
            "god-dam\n",
            "god-damned\n",
            "goddamn\n",
            "goddamned\n",
            "hardcoresex \n",
            "hell\n",
            "heshe\n",
            "hoar\n",
            "hoare\n",
            "hoer\n",
            "homo\n",
            "hore\n",
            "horniest\n",
            "horny\n",
            "hotsex\n",
            "jack-off \n",
            "jackoff\n",
            "jap\n",
            "jerk-off \n",
            "jism\n",
            "jiz \n",
            "jizm \n",
            "jizz\n",
            "kawk\n",
            "knob\n",
            "knobead\n",
            "knobed\n",
            "knobend\n",
            "knobhead\n",
            "knobjocky\n",
            "knobjokey\n",
            "kock\n",
            "kondum\n",
            "kondums\n",
            "kum\n",
            "kummer\n",
            "kumming\n",
            "kums\n",
            "kunilingus\n",
            "l3i+ch\n",
            "l3itch\n",
            "labia\n",
            "lmfao\n",
            "lust\n",
            "lusting\n",
            "m0f0\n",
            "m0fo\n",
            "m45terbate\n",
            "ma5terb8\n",
            "ma5terbate\n",
            "masochist\n",
            "master-bate\n",
            "masterb8\n",
            "masterbat*\n",
            "masterbat3\n",
            "masterbate\n",
            "masterbation\n",
            "masterbations\n",
            "masturbate\n",
            "mo-fo\n",
            "mof0\n",
            "mofo\n",
            "mothafuck\n",
            "mothafucka\n",
            "mothafuckas\n",
            "mothafuckaz\n",
            "mothafucked \n",
            "mothafucker\n",
            "mothafuckers\n",
            "mothafuckin\n",
            "mothafucking \n",
            "mothafuckings\n",
            "mothafucks\n",
            "mother fucker\n",
            "motherfuck\n",
            "motherfucked\n",
            "motherfucker\n",
            "motherfuckers\n",
            "motherfuckin\n",
            "motherfucking\n",
            "motherfuckings\n",
            "motherfuckka\n",
            "motherfucks\n",
            "muff\n",
            "mutha\n",
            "muthafecker\n",
            "muthafuckker\n",
            "muther\n",
            "mutherfucker\n",
            "n1gga\n",
            "n1gger\n",
            "nazi\n",
            "nigg3r\n",
            "nigg4h\n",
            "nigga\n",
            "niggah\n",
            "niggas\n",
            "niggaz\n",
            "nigger\n",
            "niggers \n",
            "nob\n",
            "nob jokey\n",
            "nobhead\n",
            "nobjocky\n",
            "nobjokey\n",
            "numbnuts\n",
            "nutsack\n",
            "orgasim \n",
            "orgasims \n",
            "orgasm\n",
            "orgasms \n",
            "p0rn\n",
            "pawn\n",
            "pecker\n",
            "penis\n",
            "penisfucker\n",
            "phonesex\n",
            "phuck\n",
            "phuk\n",
            "phuked\n",
            "phuking\n",
            "phukked\n",
            "phukking\n",
            "phuks\n",
            "phuq\n",
            "pigfucker\n",
            "pimpis\n",
            "piss\n",
            "pissed\n",
            "pisser\n",
            "pissers\n",
            "pisses \n",
            "pissflaps\n",
            "pissin \n",
            "pissing\n",
            "pissoff \n",
            "poop\n",
            "porn\n",
            "porno\n",
            "pornography\n",
            "pornos\n",
            "prick\n",
            "pricks \n",
            "pron\n",
            "pube\n",
            "pusse\n",
            "pussi\n",
            "pussies\n",
            "pussy\n",
            "pussys \n",
            "rectum\n",
            "retard\n",
            "rimjaw\n",
            "rimming\n",
            "s hit\n",
            "s.o.b.\n",
            "sadist\n",
            "schlong\n",
            "screwing\n",
            "scroat\n",
            "scrote\n",
            "scrotum\n",
            "semen\n",
            "sex\n",
            "sh!+\n",
            "sh!t\n",
            "sh1t\n",
            "shag\n",
            "shagger\n",
            "shaggin\n",
            "shagging\n",
            "shemale\n",
            "shi+\n",
            "shit\n",
            "shitdick\n",
            "shite\n",
            "shited\n",
            "shitey\n",
            "shitfuck\n",
            "shitfull\n",
            "shithead\n",
            "shiting\n",
            "shitings\n",
            "shits\n",
            "shitted\n",
            "shitter\n",
            "shitters \n",
            "shitting\n",
            "shittings\n",
            "shitty \n",
            "skank\n",
            "slut\n",
            "sluts\n",
            "smegma\n",
            "smut\n",
            "snatch\n",
            "son-of-a-bitch\n",
            "spac\n",
            "spunk\n",
            "s_h_i_t\n",
            "t1tt1e5\n",
            "t1tties\n",
            "teets\n",
            "teez\n",
            "testical\n",
            "testicle\n",
            "tit\n",
            "titfuck\n",
            "tits\n",
            "titt\n",
            "tittie5\n",
            "tittiefucker\n",
            "titties\n",
            "tittyfuck\n",
            "tittywank\n",
            "titwank\n",
            "tosser\n",
            "turd\n",
            "tw4t\n",
            "twat\n",
            "twathead\n",
            "twatty\n",
            "twunt\n",
            "twunter\n",
            "v14gra\n",
            "v1gra\n",
            "vagina\n",
            "viagra\n",
            "vulva\n",
            "w00se\n",
            "wang\n",
            "wank\n",
            "wanker\n",
            "wanky\n",
            "whoar\n",
            "whore\n",
            "willies\n",
            "willy\n",
            "xrated\n",
            "xxx\n"
          ],
          "name": "stdout"
        }
      ]
    },
    {
      "cell_type": "code",
      "metadata": {
        "id": "JRVrsywRVXrZ"
      },
      "source": [
        "# Q3 - A list comprehension expression that takes a ~200 word paragraph, and checks whether it has\n",
        "#      any of the swear words mentioned in 'resources/profane_words.txt'\n",
        "def profanity_checker(in_str = str)->str:\n",
        "    '''\n",
        "    This function checks checks whether it has any of the swear words mentioned\n",
        "    in 'resources/profane_words.txt'\n",
        "    The input should be any paragraph as a single string.\n",
        "    The function returns True or False indicationg whether there is profanity in the paragraph \n",
        "    '''\n",
        "    if not isinstance(in_str,str):\n",
        "        raise TypeError(\"Only strings allowed as in re.split(r'[\\s,.!;]+', in_str)ut\")\n",
        "\n",
        "    str_list = re.split(r'[\\s,.!;]+', in_str)\n",
        "    url = \"https://raw.githubusercontent.com/RobertJGabriel/Google-profanity-words/master/list.txt\"\n",
        "    file = urlopen(url)\n",
        "    profaned_data = [line.decode(\"utf-8\").strip(' ').split('\\n')[0] for line in file.readlines()]\n",
        "    return reduce(lambda a,b: bool(a) or bool(b),[True if x.lower() in profaned_data else False for x in str_list])"
      ],
      "execution_count": 66,
      "outputs": []
    },
    {
      "cell_type": "code",
      "metadata": {
        "id": "0pbLkBZMWEq6",
        "outputId": "f65a3422-2f3c-46e2-b571-46f79ea72277",
        "colab": {
          "base_uri": "https://localhost:8080/"
        }
      },
      "source": [
        "test_string = '''\n",
        "Oh 5hit, there is something wrong with this paragraph.\n",
        "There are many methodologies that deal with the portion of CLV associated with direct purchases, but the two most broad classes are generally defined as historical and predictive CLV. Historical methods look at past data and make a judgment on the value of customers solely based on past transactions, without any attempt to predict what those customers will do next.\n",
        "In principle, this is a valid approach if the customers behave similarly and have been interacting with the company for roughly the same amount of time. However, there’s generally a fair amount of heterogeneity among customers. Typical historical approaches will apply a recency of last purchase criterion to distinguish between active and inactive users. Average past purchase behavior is employed to measure the relative (or in some cases, absolute) value of customers.\n",
        "However, there are several problems with such methodologies. For example, the first customer in the chart above has made more purchases than the second customer, but in fact, the first customer is more likely to be inactive than the second one. Value based on past averages would claim that the first customer is more valuable — yet the second customer is still active and could make many more purchases in the future. Methods that account for variation in the behavior of customers will allow us to arrive at more accurate conclusions about customer lifetime and purchase behavior.\n",
        "'''\n",
        "profanity_checker(test_string)"
      ],
      "execution_count": 67,
      "outputs": [
        {
          "output_type": "execute_result",
          "data": {
            "text/plain": [
              "True"
            ]
          },
          "metadata": {
            "tags": []
          },
          "execution_count": 67
        }
      ]
    },
    {
      "cell_type": "code",
      "metadata": {
        "id": "Vw_JHWRWVh3V"
      },
      "source": [
        "# Q4.1. Using reduce function - add only even numbers in a list\n",
        "def even_adder(in_list = list)->list:\n",
        "    '''\n",
        "    This function that adds only even numbers in the provided list\n",
        "    The input should be a list of numbers.\n",
        "    The function returns sum of even numbers in the provided list\n",
        "    '''\n",
        "    final_list = reduce(lambda a,b: a+b if a%2==0 and b%2==0 else (b if a%2!=0 and b%2==0 else (a if a%2==0 and b%2!=0 else 0)),in_list)\n",
        "    return final_list"
      ],
      "execution_count": 71,
      "outputs": []
    },
    {
      "cell_type": "code",
      "metadata": {
        "id": "NCVDgDi5YL72",
        "outputId": "c9b908d2-672b-4d09-ac43-d95d175d2d16",
        "colab": {
          "base_uri": "https://localhost:8080/"
        }
      },
      "source": [
        "even_adder([1,2,3,4,5,6])"
      ],
      "execution_count": 72,
      "outputs": [
        {
          "output_type": "execute_result",
          "data": {
            "text/plain": [
              "12"
            ]
          },
          "metadata": {
            "tags": []
          },
          "execution_count": 72
        }
      ]
    },
    {
      "cell_type": "code",
      "metadata": {
        "id": "Ek8sQcsGYNQg"
      },
      "source": [
        "# Q4.2. Using reduce function - find the biggest character in a string (printable ascii characters)\n",
        "def biggest_character_func(in_str = str)->str:\n",
        "    '''\n",
        "    This function finds the biggest character in a string (printable ascii characters)\n",
        "    The input should be a string containing printable ascii characters.\n",
        "    The function returns the biggest character in the provided string\n",
        "    '''\n",
        "    if not isinstance(in_str,str):\n",
        "        raise TypeError(\"Only strings allowed as input\")\n",
        "\n",
        "    biggest_char = reduce(lambda a,b: a if ord(a)>ord(b) else b,in_str)\n",
        "    return biggest_char"
      ],
      "execution_count": 73,
      "outputs": []
    },
    {
      "cell_type": "code",
      "metadata": {
        "id": "GE5kkPAwYQd5",
        "outputId": "f540b31e-b8cb-437a-c1b1-faafde09c46e",
        "colab": {
          "base_uri": "https://localhost:8080/",
          "height": 35
        }
      },
      "source": [
        "biggest_character_func(\"abcd!ABCD|\")"
      ],
      "execution_count": 76,
      "outputs": [
        {
          "output_type": "execute_result",
          "data": {
            "application/vnd.google.colaboratory.intrinsic+json": {
              "type": "string"
            },
            "text/plain": [
              "'|'"
            ]
          },
          "metadata": {
            "tags": []
          },
          "execution_count": 76
        }
      ]
    },
    {
      "cell_type": "code",
      "metadata": {
        "id": "66bOPCStYUnv"
      },
      "source": [
        "# Q4.3. Using reduce function - adds every 3rd number in a list\n",
        "def alternate_adder(in_list = list)->list:\n",
        "    '''\n",
        "    This function that adds every 3rd number in the provided list\n",
        "    The input should be a list of numbers.\n",
        "    The function returns sum of every 3rd number in the provided list\n",
        "    '''\n",
        "    final_num = reduce(lambda a,b: a if in_list.index(b)%2!=0 else a+b,in_list)\n",
        "    return final_num"
      ],
      "execution_count": 77,
      "outputs": []
    },
    {
      "cell_type": "code",
      "metadata": {
        "id": "r_PpaoZ1YXge",
        "outputId": "cfda0cc0-efae-4e58-f355-8538f9ab750a",
        "colab": {
          "base_uri": "https://localhost:8080/"
        }
      },
      "source": [
        "alternate_adder([1,2,3,4,5,6])"
      ],
      "execution_count": 78,
      "outputs": [
        {
          "output_type": "execute_result",
          "data": {
            "text/plain": [
              "9"
            ]
          },
          "metadata": {
            "tags": []
          },
          "execution_count": 78
        }
      ]
    },
    {
      "cell_type": "code",
      "metadata": {
        "id": "5IbAhIlfYYCs"
      },
      "source": [
        "# Q5. Using randint, random.choice and list comprehensions, write an expression that \n",
        "#     generates 15 random KADDAADDDD number plates, where KA is fixed, D stands for a digit\n",
        "#     and A stands for Capital alphabets. 10<<DD<<99 & 1000<<DDDD<<9999\n",
        "def num_plate_generator()->list:\n",
        "    '''\n",
        "    This function that generates 15 random number plates starting with KA (for Karnataka)\n",
        "    The function doesn't take any input\n",
        "    The function returns list of 15 random number plates starting with KA\n",
        "    '''\n",
        "    num = ['KA' + str(a) + str(b1) + str(b2) + str(c) for a,b1,b2,c in zip(random.sample(list(range(10,100)),15),\n",
        "                                                                random.sample(list(map(chr,(range(65,91)))),15),\n",
        "                                                                random.sample(list(map(chr,(range(65,91)))),15),\n",
        "                                                                random.sample(list(range(1000,10000)),15))]\n",
        "    return num"
      ],
      "execution_count": 80,
      "outputs": []
    },
    {
      "cell_type": "code",
      "metadata": {
        "id": "-Rmwjl8hYgeG",
        "outputId": "aa61ce3c-1e8f-4225-9f84-0ae5daa12cfa",
        "colab": {
          "base_uri": "https://localhost:8080/"
        }
      },
      "source": [
        "num_plate_generator()"
      ],
      "execution_count": 81,
      "outputs": [
        {
          "output_type": "execute_result",
          "data": {
            "text/plain": [
              "['KA83OY9593',\n",
              " 'KA72DR3617',\n",
              " 'KA88TX7316',\n",
              " 'KA11FK3039',\n",
              " 'KA13XT2092',\n",
              " 'KA69BH9483',\n",
              " 'KA86RW1980',\n",
              " 'KA14YD3886',\n",
              " 'KA25WO8045',\n",
              " 'KA92EV6823',\n",
              " 'KA20ZU1417',\n",
              " 'KA31UF3152',\n",
              " 'KA93SJ1228',\n",
              " 'KA62HQ7143',\n",
              " 'KA67JN6263']"
            ]
          },
          "metadata": {
            "tags": []
          },
          "execution_count": 81
        }
      ]
    },
    {
      "cell_type": "code",
      "metadata": {
        "id": "YmL_agEdYimk"
      },
      "source": [
        "# Q6.a. Write the above again from scratch where KA can be changed to DL\n",
        "#       and 1000/9999 ranges can be provided.\n",
        "def num_plate_generator_2(num_start=int,num_end=int,state_code=str)->list:\n",
        "    '''\n",
        "    This function that generates 15 random number plates for the state code provided\n",
        "    and the vehicle number between the range provided\n",
        "    The function takes 3 inputs:\n",
        "        num_start: The least number allowed as vehicle number\n",
        "        num_end: The highest number allowed as vehicle number\n",
        "        state_code: Code of the state for which the number plate is to be generated\n",
        "    The function returns list of 15 random number plates based on the inputs\n",
        "    '''\n",
        "    if not isinstance(num_start,int):\n",
        "        raise TypeError(\"Only integeres allowed as minimum number\")\n",
        "\n",
        "    if not isinstance(num_end,int):\n",
        "        raise TypeError(\"Only integeres allowed as maximum number\")\n",
        "\n",
        "    if not isinstance(state_code,str):\n",
        "        raise TypeError(\"Only strings allowed as input\")\n",
        "\n",
        "    if state_code not in ['AN','AP','AR','AS','BR','CG','CH','DD','DL','GA','GJ','HP','HR','JH','JK','KA','KL','LA','LD','MH','ML','MN','MP','MZ','NL','OD','PB','PY','RJ','SK','TN','TR','TS','UK','UP','WB']:\n",
        "        raise ValueError(\"Only following State codes are allowed: AN, AP, AR, AS, BR, CG, CH, DD, DL, GA, GJ, HP, HR, JH, JK, KA, KL, LA, LD, MH, ML, MN, MP, MZ, NL, OD, PB, PY, RJ, SK, TN, TR, TS, UK, UP, WB\")\n",
        "\n",
        "    if len(state_code)!=2:\n",
        "        raise ValueError(\"State code must have only 2 characters\")\n",
        "\n",
        "    num = [state_code + str(a) + str(b1) + str(b2) + str(c) for a,b1,b2,c in zip(random.sample(list(range(10,100)),15),\n",
        "                                                                random.sample(list(map(chr,(range(65,91)))),15),\n",
        "                                                                random.sample(list(map(chr,(range(65,91)))),15),\n",
        "                                                                random.sample(list(range(num_start,num_end+1)),15))]\n",
        "    return num"
      ],
      "execution_count": 82,
      "outputs": []
    },
    {
      "cell_type": "code",
      "metadata": {
        "id": "P-NEhTEkYqAl",
        "outputId": "d1e04097-c38b-4c93-80b2-f2991ec00050",
        "colab": {
          "base_uri": "https://localhost:8080/"
        }
      },
      "source": [
        "num_plate_generator_2(2500,3500,'DL')"
      ],
      "execution_count": 83,
      "outputs": [
        {
          "output_type": "execute_result",
          "data": {
            "text/plain": [
              "['DL30MX2880',\n",
              " 'DL74IR3230',\n",
              " 'DL22DN2891',\n",
              " 'DL96RV3452',\n",
              " 'DL42QF3402',\n",
              " 'DL39EW2755',\n",
              " 'DL83CU2822',\n",
              " 'DL41JH3237',\n",
              " 'DL65TS3095',\n",
              " 'DL82PB2690',\n",
              " 'DL97UM2588',\n",
              " 'DL25YZ2539',\n",
              " 'DL63VL3398',\n",
              " 'DL77HC3113',\n",
              " 'DL90SE3350']"
            ]
          },
          "metadata": {
            "tags": []
          },
          "execution_count": 83
        }
      ]
    },
    {
      "cell_type": "code",
      "metadata": {
        "id": "ZUGB7bxfB1Q2"
      },
      "source": [
        ""
      ],
      "execution_count": null,
      "outputs": []
    }
  ]
}