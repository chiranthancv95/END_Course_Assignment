{
  "nbformat": 4,
  "nbformat_minor": 0,
  "metadata": {
    "colab": {
      "name": "Session13 - Cornell_Movie_Chatbot_using_Transformers.ipynb",
      "provenance": [],
      "collapsed_sections": [],
      "toc_visible": true
    },
    "kernelspec": {
      "display_name": "Python 3",
      "language": "python",
      "name": "python3"
    },
    "language_info": {
      "codemirror_mode": {
        "name": "ipython",
        "version": 3
      },
      "file_extension": ".py",
      "mimetype": "text/x-python",
      "name": "python",
      "nbconvert_exporter": "python",
      "pygments_lexer": "ipython3",
      "version": "3.6.8"
    },
    "accelerator": "GPU"
  },
  "cells": [
    {
      "cell_type": "markdown",
      "metadata": {
        "id": "J3lvKcMitde8"
      },
      "source": [
        "# Chatbot Using Transformers"
      ]
    },
    {
      "cell_type": "markdown",
      "metadata": {
        "id": "zZWOzpGV5T21"
      },
      "source": [
        "In this notebook, we will train a simple chatbot using movie\n",
        "scripts from the [Cornell Movie-Dialogs\n",
        "Corpus](https://www.cs.cornell.edu/~cristian/Cornell_Movie-Dialogs_Corpus.html).\n",
        "\n",
        "Conversational models are a hot topic in artificial intelligence\n",
        "research. Chatbots can be found in a variety of settings, including\n",
        "customer service applications and online helpdesks. These bots are often\n",
        "powered by retrieval-based models, which output predefined responses to\n",
        "questions of certain forms. In a highly restricted domain like a\n",
        "company’s IT helpdesk, these models may be sufficient, however, they are\n",
        "not robust enough for more general use-cases. Teaching a machine to\n",
        "carry out a meaningful conversation with a human in multiple domains is\n",
        "a research question that is far from solved. Recently, the deep learning\n",
        "boom has allowed for powerful generative models like Google’s [Neural\n",
        "Conversational Model](https://arxiv.org/abs/1506.05869), which marks\n",
        "a large step towards multi-domain generative conversational models. In\n",
        "this notebook, we will implement this kind of model in PyTorch.\n",
        "\n",
        "\n",
        "\n",
        "-  Handle loading and preprocessing of [Cornell Movie-Dialogs Corpus](https://www.cs.cornell.edu/~cristian/Cornell_Movie-Dialogs_Corpus.html) dataset\n",
        "\n",
        "- Refer the code from this [Pytorch tutorial](https://pytorch.org/tutorials/beginner/chatbot_tutorial.html) for integrating the dataset. \n",
        "- GRU based encoder-decoder architecture mentioned in the PyTorch code. However, we will be reimplementing above code using transformers to make it into a chatbot\n",
        "- Achieve a loss of less than 2.4 in any epoch.  \n",
        "- the same loss function/methodology as used in the PyTorch sample code will be used, else your evaluation would not be comparable and 2.4 doesn't make sense \n",
        "\n",
        "\n",
        "\n"
      ]
    },
    {
      "cell_type": "markdown",
      "metadata": {
        "id": "lJ1Z26Qu5T22"
      },
      "source": [
        "Preparations\n",
        "------------\n",
        "\n",
        "To start, Download the data ZIP file\n",
        "[here](https://www.cs.cornell.edu/~cristian/Cornell_Movie-Dialogs_Corpus.html)\n",
        "and upload to google drive.\n",
        "\n",
        "After that, let’s import some necessities.\n",
        "\n",
        "\n"
      ]
    },
    {
      "cell_type": "code",
      "metadata": {
        "id": "ukI3Q5l15T23"
      },
      "source": [
        "from __future__ import absolute_import\n",
        "from __future__ import division\n",
        "from __future__ import print_function\n",
        "from __future__ import unicode_literals\n",
        "\n",
        "import torch\n",
        "from torch.jit import script, trace\n",
        "import torch.nn as nn\n",
        "from torch import optim\n",
        "import torch.nn.functional as F\n",
        "import csv\n",
        "import random\n",
        "import re\n",
        "import os\n",
        "import unicodedata\n",
        "import codecs\n",
        "from io import open\n",
        "import itertools\n",
        "import math\n",
        "import time\n",
        "\n",
        "import numpy as np\n",
        "\n",
        "import spacy\n",
        "spacy_en = spacy.load('en')\n",
        "\n",
        "import random\n",
        "SEED = 1234\n",
        "\n",
        "random.seed(SEED)\n",
        "torch.cuda.manual_seed(SEED)\n",
        "torch.backends.cudnn.deterministic = True"
      ],
      "execution_count": null,
      "outputs": []
    },
    {
      "cell_type": "code",
      "metadata": {
        "colab": {
          "base_uri": "https://localhost:8080/"
        },
        "id": "L04i07vN4pTX",
        "outputId": "5e0747e9-8cf6-4630-a1be-362e824ce2ec"
      },
      "source": [
        "!unzip '/content/cornell_movie_dialogs_corpus.zip'"
      ],
      "execution_count": null,
      "outputs": [
        {
          "output_type": "stream",
          "text": [
            "Archive:  /content/cornell_movie_dialogs_corpus.zip\n",
            "replace cornell movie-dialogs corpus/.DS_Store? [y]es, [n]o, [A]ll, [N]one, [r]ename: A\n",
            "  inflating: cornell movie-dialogs corpus/.DS_Store  \n",
            "  inflating: __MACOSX/cornell movie-dialogs corpus/._.DS_Store  \n",
            "  inflating: cornell movie-dialogs corpus/chameleons.pdf  \n",
            "  inflating: __MACOSX/cornell movie-dialogs corpus/._chameleons.pdf  \n",
            "  inflating: cornell movie-dialogs corpus/movie_characters_metadata.txt  \n",
            "  inflating: cornell movie-dialogs corpus/movie_conversations.txt  \n",
            "  inflating: cornell movie-dialogs corpus/movie_lines.txt  \n",
            "  inflating: cornell movie-dialogs corpus/movie_titles_metadata.txt  \n",
            "  inflating: cornell movie-dialogs corpus/raw_script_urls.txt  \n",
            "  inflating: cornell movie-dialogs corpus/README.txt  \n",
            "  inflating: __MACOSX/cornell movie-dialogs corpus/._README.txt  \n"
          ],
          "name": "stdout"
        }
      ]
    },
    {
      "cell_type": "markdown",
      "metadata": {
        "id": "h8Cnqj1B5T24"
      },
      "source": [
        "Load & Preprocess Data\n",
        "----------------------\n",
        "\n",
        "The next step is to reformat our data file and load the data into\n",
        "structures that we can work with.\n",
        "\n",
        "The [Cornell Movie-Dialogs\n",
        "Corpus](https://www.cs.cornell.edu/~cristian/Cornell_Movie-Dialogs_Corpus.html)\n",
        "is a rich dataset of movie character dialog:\n",
        "\n",
        "-  220,579 conversational exchanges between 10,292 pairs of movie\n",
        "   characters\n",
        "-  9,035 characters from 617 movies\n",
        "-  304,713 total utterances\n",
        "\n",
        "This dataset is large and diverse, and there is a great variation of\n",
        "language formality, time periods, sentiment, etc. Our hope is that this\n",
        "diversity makes our model robust to many forms of inputs and queries.\n",
        "\n",
        "First, we’ll take a look at some lines of our datafile to see the\n",
        "original format.\n",
        "\n",
        "\n"
      ]
    },
    {
      "cell_type": "code",
      "metadata": {
        "colab": {
          "base_uri": "https://localhost:8080/"
        },
        "id": "wgaVjDvz5T24",
        "outputId": "e5ab6a1f-30c6-4ffd-9231-c708e4075691"
      },
      "source": [
        "corpus_name = \"cornell movie-dialogs corpus\"\n",
        "corpus = os.path.join(\"/content/\", corpus_name)\n",
        "\n",
        "def printLines(file, n=10):\n",
        "    with open(file, 'rb') as datafile:\n",
        "        lines = datafile.readlines()\n",
        "    for line in lines[:n]:\n",
        "        print(line)\n",
        "\n",
        "printLines(os.path.join(corpus, \"movie_lines.txt\"))\n",
        "#printLines('/content/cornell movie-dialogs corpus/movie_lines.txt')"
      ],
      "execution_count": null,
      "outputs": [
        {
          "output_type": "stream",
          "text": [
            "b'L1045 +++$+++ u0 +++$+++ m0 +++$+++ BIANCA +++$+++ They do not!\\n'\n",
            "b'L1044 +++$+++ u2 +++$+++ m0 +++$+++ CAMERON +++$+++ They do to!\\n'\n",
            "b'L985 +++$+++ u0 +++$+++ m0 +++$+++ BIANCA +++$+++ I hope so.\\n'\n",
            "b'L984 +++$+++ u2 +++$+++ m0 +++$+++ CAMERON +++$+++ She okay?\\n'\n",
            "b\"L925 +++$+++ u0 +++$+++ m0 +++$+++ BIANCA +++$+++ Let's go.\\n\"\n",
            "b'L924 +++$+++ u2 +++$+++ m0 +++$+++ CAMERON +++$+++ Wow\\n'\n",
            "b\"L872 +++$+++ u0 +++$+++ m0 +++$+++ BIANCA +++$+++ Okay -- you're gonna need to learn how to lie.\\n\"\n",
            "b'L871 +++$+++ u2 +++$+++ m0 +++$+++ CAMERON +++$+++ No\\n'\n",
            "b'L870 +++$+++ u0 +++$+++ m0 +++$+++ BIANCA +++$+++ I\\'m kidding.  You know how sometimes you just become this \"persona\"?  And you don\\'t know how to quit?\\n'\n",
            "b'L869 +++$+++ u0 +++$+++ m0 +++$+++ BIANCA +++$+++ Like my fear of wearing pastels?\\n'\n"
          ],
          "name": "stdout"
        }
      ]
    },
    {
      "cell_type": "code",
      "metadata": {
        "colab": {
          "base_uri": "https://localhost:8080/"
        },
        "id": "xz1Iw82UwES2",
        "outputId": "dde95425-e6ac-40e3-dd0f-cf26171ec997"
      },
      "source": [
        "!ls '/content/cornell movie-dialogs corpus'"
      ],
      "execution_count": null,
      "outputs": [
        {
          "output_type": "stream",
          "text": [
            "chameleons.pdf\t\t       movie_conversations.txt\t  raw_script_urls.txt\n",
            "formatted_movie_lines.txt      movie_lines.txt\t\t  README.txt\n",
            "movie_characters_metadata.txt  movie_titles_metadata.txt\n"
          ],
          "name": "stdout"
        }
      ]
    },
    {
      "cell_type": "code",
      "metadata": {
        "colab": {
          "base_uri": "https://localhost:8080/"
        },
        "id": "vsS1KDkAVMs8",
        "outputId": "e57fbccf-8051-46a6-a7df-000b49b7e40a"
      },
      "source": [
        "!head  \"/content/cornell movie-dialogs corpus/movie_conversations.txt\""
      ],
      "execution_count": null,
      "outputs": [
        {
          "output_type": "stream",
          "text": [
            "u0 +++$+++ u2 +++$+++ m0 +++$+++ ['L194', 'L195', 'L196', 'L197']\n",
            "u0 +++$+++ u2 +++$+++ m0 +++$+++ ['L198', 'L199']\n",
            "u0 +++$+++ u2 +++$+++ m0 +++$+++ ['L200', 'L201', 'L202', 'L203']\n",
            "u0 +++$+++ u2 +++$+++ m0 +++$+++ ['L204', 'L205', 'L206']\n",
            "u0 +++$+++ u2 +++$+++ m0 +++$+++ ['L207', 'L208']\n",
            "u0 +++$+++ u2 +++$+++ m0 +++$+++ ['L271', 'L272', 'L273', 'L274', 'L275']\n",
            "u0 +++$+++ u2 +++$+++ m0 +++$+++ ['L276', 'L277']\n",
            "u0 +++$+++ u2 +++$+++ m0 +++$+++ ['L280', 'L281']\n",
            "u0 +++$+++ u2 +++$+++ m0 +++$+++ ['L363', 'L364']\n",
            "u0 +++$+++ u2 +++$+++ m0 +++$+++ ['L365', 'L366']\n"
          ],
          "name": "stdout"
        }
      ]
    },
    {
      "cell_type": "markdown",
      "metadata": {
        "id": "BlXliXJB5T25"
      },
      "source": [
        "## Create formatted data file\n",
        "\n",
        "For convenience, we'll create a nicely formatted data file in which each line\n",
        "contains a tab-separated *query sentence* and a *response sentence* pair.\n",
        "\n",
        "The following functions facilitate the parsing of the raw\n",
        "*movie_lines.txt* data file.\n",
        "\n",
        "-  ``loadLines`` splits each line of the file into a dictionary of\n",
        "   fields (lineID, characterID, movieID, character, text)\n",
        "-  ``loadConversations`` groups fields of lines from ``loadLines`` into\n",
        "   conversations based on *movie_conversations.txt*\n",
        "-  ``extractSentencePairs`` extracts pairs of sentences from\n",
        "   conversations\n",
        "\n",
        "\n"
      ]
    },
    {
      "cell_type": "code",
      "metadata": {
        "id": "0Tij_9hr5T26"
      },
      "source": [
        "# Splits each line of the file into a dictionary of fields\n",
        "def loadLines(fileName, fields):\n",
        "    lines = {}\n",
        "    with open(fileName, 'r', encoding='iso-8859-1') as f:\n",
        "        for line in f:\n",
        "            values = line.split(\" +++$+++ \")\n",
        "            # Extract fields\n",
        "            lineObj = {}\n",
        "            for i, field in enumerate(fields):\n",
        "                lineObj[field] = values[i]\n",
        "            lines[lineObj['lineID']] = lineObj\n",
        "    return lines\n",
        "\n",
        "\n",
        "# Groups fields of lines from `loadLines` into conversations based on *movie_conversations.txt*\n",
        "def loadConversations(fileName, lines, fields):\n",
        "    conversations = []\n",
        "    with open(fileName, 'r', encoding='iso-8859-1') as f:\n",
        "        for line in f:\n",
        "            values = line.split(\" +++$+++ \")\n",
        "            # Extract fields\n",
        "            convObj = {}\n",
        "            for i, field in enumerate(fields):\n",
        "                convObj[field] = values[i]\n",
        "            # Convert string to list (convObj[\"utteranceIDs\"] == \"['L598485', 'L598486', ...]\")\n",
        "            utterance_id_pattern = re.compile('L[0-9]+')\n",
        "            lineIds = utterance_id_pattern.findall(convObj[\"utteranceIDs\"])\n",
        "            # Reassemble lines\n",
        "            convObj[\"lines\"] = []\n",
        "            for lineId in lineIds:\n",
        "                convObj[\"lines\"].append(lines[lineId])\n",
        "            conversations.append(convObj)\n",
        "    return conversations\n",
        "\n",
        "\n",
        "# Extracts pairs of sentences from conversations\n",
        "def extractSentencePairs(conversations):\n",
        "    qa_pairs = []\n",
        "    for conversation in conversations:\n",
        "        # Iterate over all the lines of the conversation\n",
        "        for i in range(len(conversation[\"lines\"]) - 1):  # We ignore the last line (no answer for it)\n",
        "            inputLine = conversation[\"lines\"][i][\"text\"].strip()\n",
        "            targetLine = conversation[\"lines\"][i+1][\"text\"].strip()\n",
        "            # Filter wrong samples (if one of the lists is empty)\n",
        "            if inputLine and targetLine:\n",
        "                qa_pairs.append([inputLine, targetLine])\n",
        "    return qa_pairs"
      ],
      "execution_count": null,
      "outputs": []
    },
    {
      "cell_type": "markdown",
      "metadata": {
        "id": "o9eDPpU_5T27"
      },
      "source": [
        "Now we’ll call these functions and create the file. We’ll call it\n",
        "*formatted_movie_lines.txt*.\n",
        "\n",
        "\n"
      ]
    },
    {
      "cell_type": "code",
      "metadata": {
        "colab": {
          "base_uri": "https://localhost:8080/"
        },
        "id": "JR8CeRk75T28",
        "outputId": "28fb0b3c-0b7c-4d95-b05e-b161f8ac4262"
      },
      "source": [
        "# Define path to new file\n",
        "datafile = os.path.join(corpus, \"formatted_movie_lines.txt\")\n",
        "\n",
        "delimiter = '\\t'\n",
        "# Unescape the delimiter\n",
        "delimiter = str(codecs.decode(delimiter, \"unicode_escape\"))\n",
        "\n",
        "# Initialize lines dict, conversations list, and field ids\n",
        "lines = {}\n",
        "conversations = []\n",
        "MOVIE_LINES_FIELDS = [\"lineID\", \"characterID\", \"movieID\", \"character\", \"text\"]\n",
        "MOVIE_CONVERSATIONS_FIELDS = [\"character1ID\", \"character2ID\", \"movieID\", \"utteranceIDs\"]\n",
        "\n",
        "# Load lines and process conversations\n",
        "print(\"\\nProcessing corpus...\")\n",
        "lines = loadLines(os.path.join(corpus, \"movie_lines.txt\"), MOVIE_LINES_FIELDS)\n",
        "\n",
        "# Ouput of the above is a dictionary with details of each lineid captured from movie_lines.txt file  in below format:\n",
        "# lines['L1045']\n",
        "# {'character': 'BIANCA',\n",
        "#  'characterID': 'u0',\n",
        "#  'lineID': 'L1045',\n",
        "#  'movieID': 'm0',\n",
        "#  'text': 'They do not!\\n'}\n",
        "\n",
        "print(\"\\nLoading conversations...\")\n",
        "conversations = loadConversations(os.path.join(corpus, \"movie_conversations.txt\"),\n",
        "                                  lines, MOVIE_CONVERSATIONS_FIELDS)\n",
        "\n",
        "\"\"\"Conversations is a list of lists, where each sublist will have contain the details of the utterances ['L194', 'L195', 'L196', 'L197'] \n",
        "for conversation in conversations:\n",
        "  print(conversation[\"lines\"])\n",
        "  break\n",
        "\n",
        "[{'lineID': 'L194', 'characterID': 'u0', 'movieID': 'm0', 'character': 'BIANCA', 'text': 'Can we make this quick?  Roxanne Korrine and Andrew Barrett are having an incredibly horrendous public break- up on the quad.  Again.\\n'}, \n",
        "{'lineID': 'L195', 'characterID': 'u2', 'movieID': 'm0', 'character': 'CAMERON', 'text': \"Well, I thought we'd start with pronunciation, if that's okay with you.\\n\"}, \n",
        "{'lineID': 'L196', 'characterID': 'u0', 'movieID': 'm0', 'character': 'BIANCA', 'text': 'Not the hacking and gagging and spitting part.  Please.\\n'}, \n",
        "{'lineID': 'L197', 'characterID': 'u2', 'movieID': 'm0', 'character': 'CAMERON', 'text': \"Okay... then how 'bout we try out some French cuisine.  Saturday?  Night?\\n\"}]\"\"\"\n",
        "\n",
        "# Write new csv file\n",
        "print(\"\\nWriting newly formatted file...\")\n",
        "with open(datafile, 'w', encoding='utf-8') as outputfile:\n",
        "    writer = csv.writer(outputfile, delimiter=delimiter, lineterminator='\\n')\n",
        "    for pair in extractSentencePairs(conversations):\n",
        "        writer.writerow(pair)\n",
        "\n",
        "# Print a sample of lines\n",
        "print(\"\\nSample lines from file:\")\n",
        "printLines(datafile)"
      ],
      "execution_count": null,
      "outputs": [
        {
          "output_type": "stream",
          "text": [
            "\n",
            "Processing corpus...\n",
            "\n",
            "Loading conversations...\n",
            "\n",
            "Writing newly formatted file...\n",
            "\n",
            "Sample lines from file:\n",
            "b\"Can we make this quick?  Roxanne Korrine and Andrew Barrett are having an incredibly horrendous public break- up on the quad.  Again.\\tWell, I thought we'd start with pronunciation, if that's okay with you.\\n\"\n",
            "b\"Well, I thought we'd start with pronunciation, if that's okay with you.\\tNot the hacking and gagging and spitting part.  Please.\\n\"\n",
            "b\"Not the hacking and gagging and spitting part.  Please.\\tOkay... then how 'bout we try out some French cuisine.  Saturday?  Night?\\n\"\n",
            "b\"You're asking me out.  That's so cute. What's your name again?\\tForget it.\\n\"\n",
            "b\"No, no, it's my fault -- we didn't have a proper introduction ---\\tCameron.\\n\"\n",
            "b\"Cameron.\\tThe thing is, Cameron -- I'm at the mercy of a particularly hideous breed of loser.  My sister.  I can't date until she does.\\n\"\n",
            "b\"The thing is, Cameron -- I'm at the mercy of a particularly hideous breed of loser.  My sister.  I can't date until she does.\\tSeems like she could get a date easy enough...\\n\"\n",
            "b'Why?\\tUnsolved mystery.  She used to be really popular when she started high school, then it was just like she got sick of it or something.\\n'\n",
            "b\"Unsolved mystery.  She used to be really popular when she started high school, then it was just like she got sick of it or something.\\tThat's a shame.\\n\"\n",
            "b'Gosh, if only we could find Kat a boyfriend...\\tLet me see what I can do.\\n'\n"
          ],
          "name": "stdout"
        }
      ]
    },
    {
      "cell_type": "code",
      "metadata": {
        "colab": {
          "base_uri": "https://localhost:8080/"
        },
        "id": "XKKv2R4uWWyG",
        "outputId": "8e448342-0133-4fca-a102-691b017b3b64"
      },
      "source": [
        "lines['L1045']"
      ],
      "execution_count": null,
      "outputs": [
        {
          "output_type": "execute_result",
          "data": {
            "text/plain": [
              "{'character': 'BIANCA',\n",
              " 'characterID': 'u0',\n",
              " 'lineID': 'L1045',\n",
              " 'movieID': 'm0',\n",
              " 'text': 'They do not!\\n'}"
            ]
          },
          "metadata": {
            "tags": []
          },
          "execution_count": 8
        }
      ]
    },
    {
      "cell_type": "code",
      "metadata": {
        "colab": {
          "base_uri": "https://localhost:8080/"
        },
        "id": "hBzdQt1saYhj",
        "outputId": "25edc21b-2fbe-43e3-f6d6-9909aaa70b19"
      },
      "source": [
        "for conversation in conversations:\r\n",
        "  print(conversation[\"lines\"])\r\n",
        "  break"
      ],
      "execution_count": null,
      "outputs": [
        {
          "output_type": "stream",
          "text": [
            "[{'lineID': 'L194', 'characterID': 'u0', 'movieID': 'm0', 'character': 'BIANCA', 'text': 'Can we make this quick?  Roxanne Korrine and Andrew Barrett are having an incredibly horrendous public break- up on the quad.  Again.\\n'}, {'lineID': 'L195', 'characterID': 'u2', 'movieID': 'm0', 'character': 'CAMERON', 'text': \"Well, I thought we'd start with pronunciation, if that's okay with you.\\n\"}, {'lineID': 'L196', 'characterID': 'u0', 'movieID': 'm0', 'character': 'BIANCA', 'text': 'Not the hacking and gagging and spitting part.  Please.\\n'}, {'lineID': 'L197', 'characterID': 'u2', 'movieID': 'm0', 'character': 'CAMERON', 'text': \"Okay... then how 'bout we try out some French cuisine.  Saturday?  Night?\\n\"}]\n"
          ],
          "name": "stdout"
        }
      ]
    },
    {
      "cell_type": "code",
      "metadata": {
        "colab": {
          "base_uri": "https://localhost:8080/"
        },
        "id": "81ZjucrYd9Qu",
        "outputId": "6d97903f-9212-42ee-c7b3-5d8e9baa12a2"
      },
      "source": [
        "qa_pairs = extractSentencePairs(conversations)\r\n",
        "for pair in qa_pairs:\r\n",
        "  print(\"one qa pair from the extract sentence pairs\")\r\n",
        "  print(pair)\r\n",
        "\r\n",
        "  print(\"\\nIndividual Quesntion and Response\")\r\n",
        "  print(\"Question:\",pair[0])\r\n",
        "  print(\"Response:\", pair[1])\r\n",
        "\r\n",
        "  break"
      ],
      "execution_count": null,
      "outputs": [
        {
          "output_type": "stream",
          "text": [
            "one qa pair from the extract sentence pairs\n",
            "['Can we make this quick?  Roxanne Korrine and Andrew Barrett are having an incredibly horrendous public break- up on the quad.  Again.', \"Well, I thought we'd start with pronunciation, if that's okay with you.\"]\n",
            "\n",
            "Individual Quesntion and Response\n",
            "Question: Can we make this quick?  Roxanne Korrine and Andrew Barrett are having an incredibly horrendous public break- up on the quad.  Again.\n",
            "Response: Well, I thought we'd start with pronunciation, if that's okay with you.\n"
          ],
          "name": "stdout"
        }
      ]
    },
    {
      "cell_type": "code",
      "metadata": {
        "colab": {
          "base_uri": "https://localhost:8080/"
        },
        "id": "6ToNTzY1wzfW",
        "outputId": "3a61d923-d74a-40d9-ac5d-e935cad9a936"
      },
      "source": [
        "!head  '/content/cornell movie-dialogs corpus/formatted_movie_lines.txt'"
      ],
      "execution_count": null,
      "outputs": [
        {
          "output_type": "stream",
          "text": [
            "Can we make this quick?  Roxanne Korrine and Andrew Barrett are having an incredibly horrendous public break- up on the quad.  Again.\tWell, I thought we'd start with pronunciation, if that's okay with you.\n",
            "Well, I thought we'd start with pronunciation, if that's okay with you.\tNot the hacking and gagging and spitting part.  Please.\n",
            "Not the hacking and gagging and spitting part.  Please.\tOkay... then how 'bout we try out some French cuisine.  Saturday?  Night?\n",
            "You're asking me out.  That's so cute. What's your name again?\tForget it.\n",
            "No, no, it's my fault -- we didn't have a proper introduction ---\tCameron.\n",
            "Cameron.\tThe thing is, Cameron -- I'm at the mercy of a particularly hideous breed of loser.  My sister.  I can't date until she does.\n",
            "The thing is, Cameron -- I'm at the mercy of a particularly hideous breed of loser.  My sister.  I can't date until she does.\tSeems like she could get a date easy enough...\n",
            "Why?\tUnsolved mystery.  She used to be really popular when she started high school, then it was just like she got sick of it or something.\n",
            "Unsolved mystery.  She used to be really popular when she started high school, then it was just like she got sick of it or something.\tThat's a shame.\n",
            "Gosh, if only we could find Kat a boyfriend...\tLet me see what I can do.\n"
          ],
          "name": "stdout"
        }
      ]
    },
    {
      "cell_type": "markdown",
      "metadata": {
        "id": "SlfYSA5Nd1Uw"
      },
      "source": [
        "### Load Data"
      ]
    },
    {
      "cell_type": "markdown",
      "metadata": {
        "id": "9zypuMFUe8vu"
      },
      "source": [
        "First, we must convert the Unicode strings to ASCII using unicodeToAscii. Next, we should convert all letters to lowercase and trim all non-letter characters except for basic punctuation (normalizeString). Finally, to aid in training convergence, we will filter out sentences with length greater than the MAX_LENGTH threshold (filterPairs)."
      ]
    },
    {
      "cell_type": "code",
      "metadata": {
        "colab": {
          "base_uri": "https://localhost:8080/"
        },
        "id": "-dFHvEkqWXRI",
        "outputId": "17f3d6a6-884f-4004-d504-08dd83977d96"
      },
      "source": [
        "MAX_LENGTH = 10  # Maximum sentence length to consider\r\n",
        "\r\n",
        "# Turn a Unicode string to plain ASCII, thanks to\r\n",
        "# https://stackoverflow.com/a/518232/2809427\r\n",
        "def unicodeToAscii(s):\r\n",
        "    return ''.join(\r\n",
        "        c for c in unicodedata.normalize('NFD', s)\r\n",
        "        if unicodedata.category(c) != 'Mn'\r\n",
        "    )\r\n",
        "\r\n",
        "# Lowercase, trim, and remove non-letter characters\r\n",
        "def normalizeString(s):\r\n",
        "    s = unicodeToAscii(s.lower().strip())\r\n",
        "    s = re.sub(r\"([.!?])\", r\" \\1\", s)\r\n",
        "    s = re.sub(r\"[^a-zA-Z.!?]+\", r\" \", s)\r\n",
        "    s = re.sub(r\"\\s+\", r\" \", s).strip()\r\n",
        "    return s\r\n",
        "\r\n",
        "# Read query/response pairs and return a voc object\r\n",
        "def readVocs(datafile, corpus_name):\r\n",
        "    print(\"Reading lines...\")\r\n",
        "    # Read the file and split into lines\r\n",
        "    lines = open(datafile, encoding='utf-8').\\\r\n",
        "        read().strip().split('\\n')\r\n",
        "    # Split every line into pairs and normalize\r\n",
        "    pairs = [[normalizeString(s) for s in l.split('\\t')] for l in lines]\r\n",
        "    return  pairs\r\n",
        "\r\n",
        "# Returns True iff both sentences in a pair 'p' are under the MAX_LENGTH threshold\r\n",
        "def filterPair(p):\r\n",
        "    # Input sequences need to preserve the last word for EOS token\r\n",
        "    return len(p[0].split(' ')) < MAX_LENGTH and len(p[1].split(' ')) < MAX_LENGTH\r\n",
        "\r\n",
        "# Filter pairs using filterPair condition\r\n",
        "def filterPairs(pairs):\r\n",
        "    return [pair for pair in pairs if filterPair(pair)]\r\n",
        "\r\n",
        "# Using the functions defined above, return a populated voc object and pairs list\r\n",
        "def loadPrepareData(corpus, corpus_name, datafile, save_dir):\r\n",
        "    print(\"Start preparing training data ...\")\r\n",
        "    pairs = readVocs(datafile, corpus_name)\r\n",
        "    print(\"Read {!s} sentence pairs\".format(len(pairs)))\r\n",
        "    pairs = filterPairs(pairs)\r\n",
        "    print(\"Trimmed to {!s} sentence pairs\".format(len(pairs)))\r\n",
        "    return  pairs\r\n",
        "\r\n",
        "\r\n",
        "# Load/Assemble voc and pairs\r\n",
        "save_dir = os.path.join(\"data\", \"save\")\r\n",
        "pairs = loadPrepareData(corpus, corpus_name, datafile, save_dir)\r\n",
        "# Print some pairs to validate\r\n",
        "print(\"\\npairs:\")\r\n",
        "for pair in pairs[:10]:\r\n",
        "    print(pair)"
      ],
      "execution_count": null,
      "outputs": [
        {
          "output_type": "stream",
          "text": [
            "Start preparing training data ...\n",
            "Reading lines...\n",
            "Read 221282 sentence pairs\n",
            "Trimmed to 64271 sentence pairs\n",
            "\n",
            "pairs:\n",
            "['there .', 'where ?']\n",
            "['you have my word . as a gentleman', 'you re sweet .']\n",
            "['hi .', 'looks like things worked out tonight huh ?']\n",
            "['you know chastity ?', 'i believe we share an art instructor']\n",
            "['have fun tonight ?', 'tons']\n",
            "['well no . . .', 'then that s all you had to say .']\n",
            "['then that s all you had to say .', 'but']\n",
            "['but', 'you always been this selfish ?']\n",
            "['do you listen to this crap ?', 'what crap ?']\n",
            "['what good stuff ?', 'the real you .']\n"
          ],
          "name": "stdout"
        }
      ]
    },
    {
      "cell_type": "code",
      "metadata": {
        "colab": {
          "base_uri": "https://localhost:8080/"
        },
        "id": "eV891OdXuoZY",
        "outputId": "8e5795bd-4494-4164-c855-e22833a7513a"
      },
      "source": [
        "len(pairs)"
      ],
      "execution_count": null,
      "outputs": [
        {
          "output_type": "execute_result",
          "data": {
            "text/plain": [
              "64271"
            ]
          },
          "metadata": {
            "tags": []
          },
          "execution_count": 15
        }
      ]
    },
    {
      "cell_type": "code",
      "metadata": {
        "id": "Bluy1d74fPaT"
      },
      "source": [
        "def tokenize_en(text):\r\n",
        "    \"\"\"\r\n",
        "    Tokenizes English text from a string into a list of strings\r\n",
        "    \"\"\"\r\n",
        "    return [tok.text for tok in spacy_en.tokenizer(text)]"
      ],
      "execution_count": null,
      "outputs": []
    },
    {
      "cell_type": "code",
      "metadata": {
        "id": "AxuSPbs5DrLl"
      },
      "source": [
        "import torch, torchtext\r\n",
        "from torchtext import data\r\n",
        "from torchtext.data import Field, BucketIterator\r\n",
        "\r\n",
        "sentence=Field(tokenize = tokenize_en, \r\n",
        "            init_token = '<sos>', \r\n",
        "            eos_token = '<eos>', \r\n",
        "            lower = True, \r\n",
        "            batch_first = True)"
      ],
      "execution_count": null,
      "outputs": []
    },
    {
      "cell_type": "code",
      "metadata": {
        "id": "g8i6mzb9EZvO"
      },
      "source": [
        "fields = [('input_sentence', sentence),('output_sentence',sentence)]"
      ],
      "execution_count": null,
      "outputs": []
    },
    {
      "cell_type": "markdown",
      "metadata": {
        "id": "a-KSX1KHeC5W"
      },
      "source": [
        "### Generating the dataset from the input sentence and output sentence pairs and then feeding it to the fields to obtain the chatbot dataset"
      ]
    },
    {
      "cell_type": "code",
      "metadata": {
        "id": "nijbszjqEy6Y"
      },
      "source": [
        "chatbot_pairs = [data.Example.fromlist([p[0],p[1]], fields) for p in pairs] \r\n",
        "chatbot_pairs_dataset = data.Dataset(chatbot_pairs, fields)"
      ],
      "execution_count": null,
      "outputs": []
    },
    {
      "cell_type": "code",
      "metadata": {
        "colab": {
          "base_uri": "https://localhost:8080/"
        },
        "id": "k_dZmoZ5FrVS",
        "outputId": "b28db44f-a7dd-4c5a-d3dc-72bbe3f4e1fb"
      },
      "source": [
        "len(chatbot_pairs_dataset)"
      ],
      "execution_count": null,
      "outputs": [
        {
          "output_type": "execute_result",
          "data": {
            "text/plain": [
              "64271"
            ]
          },
          "metadata": {
            "tags": []
          },
          "execution_count": 20
        }
      ]
    },
    {
      "cell_type": "markdown",
      "metadata": {
        "id": "u-RsY9zeegHX"
      },
      "source": [
        "### Splitting the dataset to train and valid"
      ]
    },
    {
      "cell_type": "code",
      "metadata": {
        "id": "zXeDfuv_JfUS"
      },
      "source": [
        "train_data, valid_data = chatbot_pairs_dataset.split(split_ratio=[0.90,0.10])"
      ],
      "execution_count": null,
      "outputs": []
    },
    {
      "cell_type": "markdown",
      "metadata": {
        "id": "1SKROXepel6c"
      },
      "source": [
        "### Checking for the input and output sentences from the dataset"
      ]
    },
    {
      "cell_type": "code",
      "metadata": {
        "colab": {
          "base_uri": "https://localhost:8080/"
        },
        "id": "zO4v9AKKFvny",
        "outputId": "6a0a7469-fc77-42bf-9564-5d0cfe51896a"
      },
      "source": [
        "vars(train_data.examples[10])"
      ],
      "execution_count": null,
      "outputs": [
        {
          "output_type": "execute_result",
          "data": {
            "text/plain": [
              "{'input_sentence': ['you',\n",
              "  'look',\n",
              "  'like',\n",
              "  'an',\n",
              "  'eighties',\n",
              "  'rock',\n",
              "  'band',\n",
              "  '.'],\n",
              " 'output_sentence': ['the',\n",
              "  'suit',\n",
              "  'will',\n",
              "  'stretch',\n",
              "  '.',\n",
              "  'you',\n",
              "  'should',\n",
              "  'try',\n",
              "  'it']}"
            ]
          },
          "metadata": {
            "tags": []
          },
          "execution_count": 52
        }
      ]
    },
    {
      "cell_type": "code",
      "metadata": {
        "id": "VFF-Ssb_KMaK",
        "colab": {
          "base_uri": "https://localhost:8080/"
        },
        "outputId": "707976ad-ffd4-4ede-945c-63eee51c5506"
      },
      "source": [
        "vars(valid_data.examples[10])"
      ],
      "execution_count": null,
      "outputs": [
        {
          "output_type": "execute_result",
          "data": {
            "text/plain": [
              "{'input_sentence': ['what', 'are', 'you', 'doing', 'here', '?'],\n",
              " 'output_sentence': ['i', 'i', 'guess', 'i', 'fell', 'asleep', '.']}"
            ]
          },
          "metadata": {
            "tags": []
          },
          "execution_count": 53
        }
      ]
    },
    {
      "cell_type": "markdown",
      "metadata": {
        "id": "qf5KqmrKexRV"
      },
      "source": [
        "### Building the Vocabulary based on the condition that the word is atleast used 3 times in the entire dataset"
      ]
    },
    {
      "cell_type": "code",
      "metadata": {
        "id": "qCkwg8cfG8Fv"
      },
      "source": [
        "sentence.build_vocab(chatbot_pairs_dataset, min_freq = 3)"
      ],
      "execution_count": null,
      "outputs": []
    },
    {
      "cell_type": "markdown",
      "metadata": {
        "id": "wf98JgqWe_Eu"
      },
      "source": [
        "### Number of unique tokens in Vocabulary"
      ]
    },
    {
      "cell_type": "code",
      "metadata": {
        "colab": {
          "base_uri": "https://localhost:8080/"
        },
        "id": "P7j6dtpmKWY_",
        "outputId": "9908ad6d-a228-454c-a7f2-33e6ec1de03e"
      },
      "source": [
        "len(sentence.vocab)"
      ],
      "execution_count": null,
      "outputs": [
        {
          "output_type": "execute_result",
          "data": {
            "text/plain": [
              "7823"
            ]
          },
          "metadata": {
            "tags": []
          },
          "execution_count": 54
        }
      ]
    },
    {
      "cell_type": "markdown",
      "metadata": {
        "id": "jdxOvEAwfH1x"
      },
      "source": [
        "### Setting up the device and creating a bucketiterator"
      ]
    },
    {
      "cell_type": "code",
      "metadata": {
        "id": "WFFJSfkwKunj"
      },
      "source": [
        "device = torch.device('cuda' if torch.cuda.is_available() else 'cpu')\r\n",
        "\r\n",
        "\r\n",
        "BATCH_SIZE = 64\r\n",
        "\r\n",
        "train_iterator, valid_iterator = BucketIterator.splits(\r\n",
        "    (train_data, valid_data), \r\n",
        "    batch_size = BATCH_SIZE,\r\n",
        "    sort_key = lambda x: len(x.input_sentence), \r\n",
        "    device = device)"
      ],
      "execution_count": null,
      "outputs": []
    },
    {
      "cell_type": "markdown",
      "metadata": {
        "id": "9Kh9g5VPfOFR"
      },
      "source": [
        "### Model Architecture"
      ]
    },
    {
      "cell_type": "code",
      "metadata": {
        "id": "MIruzMZrMZnA"
      },
      "source": [
        "class Seq2Seq(nn.Module):\r\n",
        "    def __init__(self, \r\n",
        "                 encoder, \r\n",
        "                 decoder, \r\n",
        "                 src_pad_idx, \r\n",
        "                 trg_pad_idx, \r\n",
        "                 device):\r\n",
        "        super().__init__()\r\n",
        "        \r\n",
        "        self.encoder = encoder\r\n",
        "        self.decoder = decoder\r\n",
        "        self.src_pad_idx = src_pad_idx\r\n",
        "        self.trg_pad_idx = trg_pad_idx\r\n",
        "        self.device = device\r\n",
        "        \r\n",
        "    def make_src_mask(self, src):\r\n",
        "        \r\n",
        "        #src = [batch size, src len]\r\n",
        "        \r\n",
        "        src_mask = (src != self.src_pad_idx).unsqueeze(1).unsqueeze(2)\r\n",
        "\r\n",
        "        #src_mask = [batch size, 1, 1, src len]\r\n",
        "\r\n",
        "        return src_mask\r\n",
        "    \r\n",
        "    def make_trg_mask(self, trg):\r\n",
        "        \r\n",
        "        #trg = [batch size, trg len]\r\n",
        "        \r\n",
        "        trg_pad_mask = (trg != self.trg_pad_idx).unsqueeze(1).unsqueeze(2)\r\n",
        "        \r\n",
        "        #trg_pad_mask = [batch size, 1, 1, trg len]\r\n",
        "        \r\n",
        "        trg_len = trg.shape[1]\r\n",
        "        \r\n",
        "        trg_sub_mask = torch.tril(torch.ones((trg_len, trg_len), device = self.device)).bool()\r\n",
        "        \r\n",
        "        #trg_sub_mask = [trg len, trg len]\r\n",
        "            \r\n",
        "        trg_mask = trg_pad_mask & trg_sub_mask\r\n",
        "        \r\n",
        "        #trg_mask = [batch size, 1, trg len, trg len]\r\n",
        "        \r\n",
        "        return trg_mask\r\n",
        "\r\n",
        "    def forward(self, src, trg):\r\n",
        "        \r\n",
        "        #src = [batch size, src len]\r\n",
        "        #trg = [batch size, trg len]\r\n",
        "                \r\n",
        "        src_mask = self.make_src_mask(src)\r\n",
        "        trg_mask = self.make_trg_mask(trg)\r\n",
        "        \r\n",
        "        #src_mask = [batch size, 1, 1, src len]\r\n",
        "        #trg_mask = [batch size, 1, trg len, trg len]\r\n",
        "\r\n",
        "\r\n",
        "        enc_src = self.encoder(src, src_mask)\r\n",
        "        \r\n",
        "        #enc_src = [batch size, src len, hid dim]\r\n",
        "                \r\n",
        "        output, attention = self.decoder(trg, enc_src, trg_mask, src_mask)\r\n",
        "        \r\n",
        "        #output = [batch size, trg len, output dim]\r\n",
        "        #attention = [batch size, n heads, trg len, src len]        \r\n",
        "        return output, attention"
      ],
      "execution_count": null,
      "outputs": []
    },
    {
      "cell_type": "code",
      "metadata": {
        "id": "SjxZLa-Y5T3I"
      },
      "source": [
        "class Encoder(nn.Module):\n",
        "    def __init__(self, \n",
        "                 input_dim, \n",
        "                 hid_dim, \n",
        "                 n_layers, \n",
        "                 n_heads, \n",
        "                 pf_dim,\n",
        "                 dropout, \n",
        "                 device,\n",
        "                 max_length = 100):\n",
        "        super().__init__()\n",
        "\n",
        "        self.device = device\n",
        "        \n",
        "        self.tok_embedding = nn.Embedding(input_dim, hid_dim)\n",
        "        self.pos_embedding = nn.Embedding(max_length, hid_dim)\n",
        "        \n",
        "        self.layers = nn.ModuleList([EncoderLayer(hid_dim, \n",
        "                                                  n_heads, \n",
        "                                                  pf_dim,\n",
        "                                                  dropout, \n",
        "                                                  device) \n",
        "                                     for _ in range(n_layers)])\n",
        "        \n",
        "        self.dropout = nn.Dropout(dropout)\n",
        "        \n",
        "        self.scale = torch.sqrt(torch.FloatTensor([hid_dim])).to(device)\n",
        "        \n",
        "    def forward(self, src, src_mask):\n",
        "        \n",
        "        #src = [batch size, src len]\n",
        "        #src_mask = [batch size, 1, 1, src len]\n",
        "        \n",
        "        batch_size = src.shape[0]\n",
        "        src_len = src.shape[1]\n",
        "        \n",
        "        pos = torch.arange(0, src_len).unsqueeze(0).repeat(batch_size, 1).to(self.device)\n",
        "        \n",
        "        #pos = [batch size, src len]\n",
        "\n",
        "        src = self.dropout((self.tok_embedding(src) * self.scale) + self.pos_embedding(pos))\n",
        "\n",
        "        \n",
        "        #src = [batch size, src len, hid dim]\n",
        "        \n",
        "        for layer in self.layers:\n",
        "            src = layer(src, src_mask)\n",
        "            \n",
        "        #src = [batch size, src len, hid dim]\n",
        " \n",
        "            \n",
        "        return src"
      ],
      "execution_count": null,
      "outputs": []
    },
    {
      "cell_type": "code",
      "metadata": {
        "id": "x5wl1r5nCFTr"
      },
      "source": [
        "class EncoderLayer(nn.Module):\r\n",
        "    def __init__(self, \r\n",
        "                 hid_dim, \r\n",
        "                 n_heads, \r\n",
        "                 pf_dim,  \r\n",
        "                 dropout, \r\n",
        "                 device):\r\n",
        "        super().__init__()\r\n",
        "        \r\n",
        "        self.self_attn_layer_norm = nn.LayerNorm(hid_dim)\r\n",
        "        self.ff_layer_norm = nn.LayerNorm(hid_dim)\r\n",
        "        self.self_attention = MultiHeadAttentionLayer(hid_dim, n_heads, dropout, device)\r\n",
        "        self.positionwise_feedforward = PositionwiseFeedforwardLayer(hid_dim, \r\n",
        "                                                                     pf_dim, \r\n",
        "                                                                     dropout)\r\n",
        "        self.dropout = nn.Dropout(dropout)\r\n",
        "        \r\n",
        "    def forward(self, src, src_mask):\r\n",
        "        \r\n",
        "        #src = [batch size, src len, hid dim]\r\n",
        "        #src_mask = [batch size, 1, 1, src len] \r\n",
        "                \r\n",
        "        #self attention\r\n",
        "        _src, _ = self.self_attention(src, src, src, src_mask)\r\n",
        "        \r\n",
        "        #dropout, residual connection and layer norm\r\n",
        "        src = self.self_attn_layer_norm(src + self.dropout(_src))\r\n",
        "        \r\n",
        "        #src = [batch size, src len, hid dim]\r\n",
        "        \r\n",
        "        #positionwise feedforward\r\n",
        "        _src = self.positionwise_feedforward(src)\r\n",
        "        \r\n",
        "        #dropout, residual and layer norm\r\n",
        "        src = self.ff_layer_norm(src + self.dropout(_src))\r\n",
        "        \r\n",
        "        #src = [batch size, src len, hid dim]\r\n",
        "        \r\n",
        "        return src"
      ],
      "execution_count": null,
      "outputs": []
    },
    {
      "cell_type": "code",
      "metadata": {
        "id": "nUatdybrCY2N"
      },
      "source": [
        "class MultiHeadAttentionLayer(nn.Module):\r\n",
        "    def __init__(self, hid_dim, n_heads, dropout, device):\r\n",
        "        super().__init__()\r\n",
        "        \r\n",
        "        assert hid_dim % n_heads == 0\r\n",
        "        \r\n",
        "        self.hid_dim = hid_dim\r\n",
        "        self.n_heads = n_heads\r\n",
        "        self.head_dim = hid_dim // n_heads\r\n",
        "        \r\n",
        "        self.fc_q = nn.Linear(hid_dim, hid_dim)\r\n",
        "        self.fc_k = nn.Linear(hid_dim, hid_dim)\r\n",
        "        self.fc_v = nn.Linear(hid_dim, hid_dim)\r\n",
        "        \r\n",
        "        self.fc_o = nn.Linear(hid_dim, hid_dim)\r\n",
        "        \r\n",
        "        self.dropout = nn.Dropout(dropout)\r\n",
        "        \r\n",
        "        self.scale = torch.sqrt(torch.FloatTensor([self.head_dim])).to(device)\r\n",
        "        \r\n",
        "    def forward(self, query, key, value, mask = None):\r\n",
        "        \r\n",
        "        batch_size = query.shape[0]\r\n",
        "        \r\n",
        "        #query = [batch size, query len, hid dim]\r\n",
        "        #key = [batch size, key len, hid dim]\r\n",
        "        #value = [batch size, value len, hid dim]\r\n",
        "                \r\n",
        "        Q = self.fc_q(query)\r\n",
        "        K = self.fc_k(key)\r\n",
        "        V = self.fc_v(value)\r\n",
        "        \r\n",
        "        #Q = [batch size, query len, hid dim]\r\n",
        "        #K = [batch size, key len, hid dim]\r\n",
        "        #V = [batch size, value len, hid dim]\r\n",
        "                \r\n",
        "        Q = Q.view(batch_size, -1, self.n_heads, self.head_dim).permute(0, 2, 1, 3)\r\n",
        "        K = K.view(batch_size, -1, self.n_heads, self.head_dim).permute(0, 2, 1, 3)\r\n",
        "        V = V.view(batch_size, -1, self.n_heads, self.head_dim).permute(0, 2, 1, 3)\r\n",
        "        \r\n",
        "        #Q = [batch size, n heads, query len, head dim]\r\n",
        "        #K = [batch size, n heads, key len, head dim]\r\n",
        "        #V = [batch size, n heads, value len, head dim]\r\n",
        "                \r\n",
        "        energy = torch.matmul(Q, K.permute(0, 1, 3, 2)) / self.scale\r\n",
        "        \r\n",
        "        #energy = [batch size, n heads, query len, key len]\r\n",
        "        \r\n",
        "        if mask is not None:\r\n",
        "            energy = energy.masked_fill(mask == 0, -1e10)\r\n",
        "        \r\n",
        "        attention = torch.softmax(energy, dim = -1)\r\n",
        "                \r\n",
        "        #attention = [batch size, n heads, query len, key len]\r\n",
        "                \r\n",
        "        x = torch.matmul(self.dropout(attention), V)\r\n",
        "        \r\n",
        "        #x = [batch size, n heads, query len, head dim]\r\n",
        "        \r\n",
        "        x = x.permute(0, 2, 1, 3).contiguous()\r\n",
        "        \r\n",
        "        #x = [batch size, query len, n heads, head dim]\r\n",
        "        \r\n",
        "        x = x.view(batch_size, -1, self.hid_dim)\r\n",
        "        \r\n",
        "        #x = [batch size, query len, hid dim]\r\n",
        "        \r\n",
        "        x = self.fc_o(x)\r\n",
        "        \r\n",
        "        #x = [batch size, query len, hid dim]\r\n",
        "        \r\n",
        "        return x, attention"
      ],
      "execution_count": null,
      "outputs": []
    },
    {
      "cell_type": "code",
      "metadata": {
        "id": "tx_yc6_rCfPK"
      },
      "source": [
        "class PositionwiseFeedforwardLayer(nn.Module):\r\n",
        "    def __init__(self, hid_dim, pf_dim, dropout):\r\n",
        "        super().__init__()\r\n",
        "        \r\n",
        "        self.fc_1 = nn.Linear(hid_dim, pf_dim)\r\n",
        "        self.fc_2 = nn.Linear(pf_dim, hid_dim)\r\n",
        "        \r\n",
        "        self.dropout = nn.Dropout(dropout)\r\n",
        "        \r\n",
        "    def forward(self, x):\r\n",
        "        \r\n",
        "        #x = [batch size, seq len, hid dim]\r\n",
        "        \r\n",
        "        x = self.dropout(torch.relu(self.fc_1(x)))\r\n",
        "        \r\n",
        "        #x = [batch size, seq len, pf dim]\r\n",
        "        \r\n",
        "        x = self.fc_2(x)\r\n",
        "        \r\n",
        "        #x = [batch size, seq len, hid dim]\r\n",
        "        \r\n",
        "        return x"
      ],
      "execution_count": null,
      "outputs": []
    },
    {
      "cell_type": "code",
      "metadata": {
        "id": "lMZI0yA2Civ4"
      },
      "source": [
        "class Decoder(nn.Module):\r\n",
        "    def __init__(self, \r\n",
        "                 output_dim, \r\n",
        "                 hid_dim, \r\n",
        "                 n_layers, \r\n",
        "                 n_heads, \r\n",
        "                 pf_dim, \r\n",
        "                 dropout, \r\n",
        "                 device,\r\n",
        "                 max_length = 100):\r\n",
        "        super().__init__()\r\n",
        "        \r\n",
        "        self.device = device\r\n",
        "        \r\n",
        "        self.tok_embedding = nn.Embedding(output_dim, hid_dim)\r\n",
        "        self.pos_embedding = nn.Embedding(max_length, hid_dim)\r\n",
        "        \r\n",
        "        self.layers = nn.ModuleList([DecoderLayer(hid_dim, \r\n",
        "                                                  n_heads, \r\n",
        "                                                  pf_dim, \r\n",
        "                                                  dropout, \r\n",
        "                                                  device)\r\n",
        "                                     for _ in range(n_layers)])\r\n",
        "        \r\n",
        "        self.fc_out = nn.Linear(hid_dim, output_dim)\r\n",
        "        \r\n",
        "        self.dropout = nn.Dropout(dropout)\r\n",
        "        \r\n",
        "        self.scale = torch.sqrt(torch.FloatTensor([hid_dim])).to(device)\r\n",
        "        \r\n",
        "    def forward(self, trg, enc_src, trg_mask, src_mask):\r\n",
        "        \r\n",
        "        #trg = [batch size, trg len]\r\n",
        "        #enc_src = [batch size, src len, hid dim]\r\n",
        "        #trg_mask = [batch size, 1, trg len, trg len]\r\n",
        "        #src_mask = [batch size, 1, 1, src len]\r\n",
        "                \r\n",
        "        batch_size = trg.shape[0]\r\n",
        "        trg_len = trg.shape[1]\r\n",
        "        \r\n",
        "        pos = torch.arange(0, trg_len).unsqueeze(0).repeat(batch_size, 1).to(self.device)\r\n",
        "                            \r\n",
        "        #pos = [batch size, trg len]\r\n",
        "            \r\n",
        "        trg = self.dropout((self.tok_embedding(trg) * self.scale) + self.pos_embedding(pos))\r\n",
        "                \r\n",
        "        #trg = [batch size, trg len, hid dim]\r\n",
        "        \r\n",
        "        for layer in self.layers:\r\n",
        "            trg, attention = layer(trg, enc_src, trg_mask, src_mask)\r\n",
        "        \r\n",
        "        #trg = [batch size, trg len, hid dim]\r\n",
        "        #attention = [batch size, n heads, trg len, src len]\r\n",
        "        \r\n",
        "        output = self.fc_out(trg)\r\n",
        "        \r\n",
        "        #output = [batch size, trg len, output dim]\r\n",
        "            \r\n",
        "        return output, attention"
      ],
      "execution_count": null,
      "outputs": []
    },
    {
      "cell_type": "code",
      "metadata": {
        "id": "WAZ2zMiaCoad"
      },
      "source": [
        "class DecoderLayer(nn.Module):\r\n",
        "    def __init__(self, \r\n",
        "                 hid_dim, \r\n",
        "                 n_heads, \r\n",
        "                 pf_dim, \r\n",
        "                 dropout, \r\n",
        "                 device):\r\n",
        "        super().__init__()\r\n",
        "        \r\n",
        "        self.self_attn_layer_norm = nn.LayerNorm(hid_dim)\r\n",
        "        self.enc_attn_layer_norm = nn.LayerNorm(hid_dim)\r\n",
        "        self.ff_layer_norm = nn.LayerNorm(hid_dim)\r\n",
        "        self.self_attention = MultiHeadAttentionLayer(hid_dim, n_heads, dropout, device)\r\n",
        "        self.encoder_attention = MultiHeadAttentionLayer(hid_dim, n_heads, dropout, device)\r\n",
        "        self.positionwise_feedforward = PositionwiseFeedforwardLayer(hid_dim, \r\n",
        "                                                                     pf_dim, \r\n",
        "                                                                     dropout)\r\n",
        "        self.dropout = nn.Dropout(dropout)\r\n",
        "        \r\n",
        "    def forward(self, trg, enc_src, trg_mask, src_mask):\r\n",
        "        \r\n",
        "        #trg = [batch size, trg len, hid dim]\r\n",
        "        #enc_src = [batch size, src len, hid dim]\r\n",
        "        #trg_mask = [batch size, 1, trg len, trg len]\r\n",
        "        #src_mask = [batch size, 1, 1, src len]\r\n",
        "        \r\n",
        "        #self attention\r\n",
        "        _trg, _ = self.self_attention(trg, trg, trg, trg_mask)\r\n",
        "        \r\n",
        "        #dropout, residual connection and layer norm\r\n",
        "        trg = self.self_attn_layer_norm(trg + self.dropout(_trg))\r\n",
        "            \r\n",
        "        #trg = [batch size, trg len, hid dim]\r\n",
        "            \r\n",
        "        #encoder attention\r\n",
        "        _trg, attention = self.encoder_attention(trg, enc_src, enc_src, src_mask)\r\n",
        "        # query, key, value\r\n",
        "        \r\n",
        "        #dropout, residual connection and layer norm\r\n",
        "        trg = self.enc_attn_layer_norm(trg + self.dropout(_trg))\r\n",
        "                    \r\n",
        "        #trg = [batch size, trg len, hid dim]\r\n",
        "        \r\n",
        "        #positionwise feedforward\r\n",
        "        _trg = self.positionwise_feedforward(trg)\r\n",
        "        \r\n",
        "        #dropout, residual and layer norm\r\n",
        "        trg = self.ff_layer_norm(trg + self.dropout(_trg))\r\n",
        "        \r\n",
        "        #trg = [batch size, trg len, hid dim]\r\n",
        "        #attention = [batch size, n heads, trg len, src len]\r\n",
        "        \r\n",
        "        return trg, attention"
      ],
      "execution_count": null,
      "outputs": []
    },
    {
      "cell_type": "code",
      "metadata": {
        "id": "HYA17djusROs"
      },
      "source": [
        "INPUT_DIM = len(sentence.vocab)\r\n",
        "OUTPUT_DIM = len(sentence.vocab)\r\n",
        "HID_DIM = 256\r\n",
        "ENC_LAYERS = 2\r\n",
        "DEC_LAYERS = 2\r\n",
        "ENC_HEADS = 8\r\n",
        "DEC_HEADS = 8\r\n",
        "ENC_PF_DIM = 512\r\n",
        "DEC_PF_DIM = 512\r\n",
        "ENC_DROPOUT = 0.2\r\n",
        "DEC_DROPOUT = 0.2\r\n",
        "\r\n",
        "enc = Encoder(INPUT_DIM, \r\n",
        "              HID_DIM, \r\n",
        "              ENC_LAYERS, \r\n",
        "              ENC_HEADS, \r\n",
        "              ENC_PF_DIM, \r\n",
        "              ENC_DROPOUT, \r\n",
        "              device)\r\n",
        "\r\n",
        "dec = Decoder(OUTPUT_DIM, \r\n",
        "              HID_DIM, \r\n",
        "              DEC_LAYERS, \r\n",
        "              DEC_HEADS, \r\n",
        "              DEC_PF_DIM, \r\n",
        "              DEC_DROPOUT, \r\n",
        "              device)"
      ],
      "execution_count": null,
      "outputs": []
    },
    {
      "cell_type": "code",
      "metadata": {
        "id": "wdIREQh_MHQv"
      },
      "source": [
        "SRC_PAD_IDX = sentence.vocab.stoi[sentence.pad_token]\r\n",
        "TRG_PAD_IDX = sentence.vocab.stoi[sentence.pad_token]\r\n",
        "\r\n",
        "model = Seq2Seq(enc, dec, SRC_PAD_IDX, TRG_PAD_IDX, device).to(device)"
      ],
      "execution_count": null,
      "outputs": []
    },
    {
      "cell_type": "code",
      "metadata": {
        "colab": {
          "base_uri": "https://localhost:8080/"
        },
        "id": "jmD5L5tlMhhc",
        "outputId": "51cee30d-f9a9-4785-f826-cb0dfd4d2310"
      },
      "source": [
        "def count_parameters(model):\r\n",
        "    return sum(p.numel() for p in model.parameters() if p.requires_grad)\r\n",
        "\r\n",
        "print(f'The model has {count_parameters(model):,} trainable parameters')"
      ],
      "execution_count": null,
      "outputs": [
        {
          "output_type": "stream",
          "text": [
            "The model has 8,702,863 trainable parameters\n"
          ],
          "name": "stdout"
        }
      ]
    },
    {
      "cell_type": "code",
      "metadata": {
        "id": "USSPftTqMlh3"
      },
      "source": [
        "def initialize_weights(m):\r\n",
        "    if hasattr(m, 'weight') and m.weight.dim() > 1:\r\n",
        "        nn.init.xavier_uniform_(m.weight.data)"
      ],
      "execution_count": null,
      "outputs": []
    },
    {
      "cell_type": "code",
      "metadata": {
        "id": "mWzHeXbiMool"
      },
      "source": [
        "model.apply(initialize_weights);"
      ],
      "execution_count": null,
      "outputs": []
    },
    {
      "cell_type": "code",
      "metadata": {
        "id": "eS11jkViMsCD"
      },
      "source": [
        "LEARNING_RATE = 0.0005\r\n",
        "\r\n",
        "optimizer = torch.optim.Adam(model.parameters(), lr = LEARNING_RATE)"
      ],
      "execution_count": null,
      "outputs": []
    },
    {
      "cell_type": "markdown",
      "metadata": {
        "id": "cTeCYdmT6wdn"
      },
      "source": [
        "Since we are dealing with batches of padded sequences, we cannot simply consider all elements of the tensor when calculating loss, so we use ignore index to ignore the padded elements, also this loss function calculates the average negative log likelihood of the elements , so have used the option reduction = 'mean', may be we could used size_average = True as well, since it gave a warning that this option is being deprecated used reduction"
      ]
    },
    {
      "cell_type": "code",
      "metadata": {
        "id": "9mZfOgJB1mfE"
      },
      "source": [
        "def maskNLLLoss(inp, target,mask):\r\n",
        "    criterion = nn.CrossEntropyLoss(ignore_index = mask,reduction='mean')\r\n",
        "    loss = criterion(inp, target)\r\n",
        "    return loss"
      ],
      "execution_count": null,
      "outputs": []
    },
    {
      "cell_type": "code",
      "metadata": {
        "id": "dSp9qesz5T3L"
      },
      "source": [
        "def train(model, iterator, optimizer, criterion, clip):\n",
        "    \n",
        "    model.train()\n",
        "    \n",
        "    epoch_loss = 0\n",
        "    \n",
        "    for i, batch in enumerate(iterator):\n",
        "        \n",
        "        src = batch.input_sentence\n",
        "        trg = batch.output_sentence\n",
        "        \n",
        "        optimizer.zero_grad()\n",
        "        \n",
        "        output, _ = model(src, trg[:,:-1])\n",
        "\n",
        "                \n",
        "        #output = [batch size, trg len - 1, output dim]\n",
        "        #trg = [batch size, trg len]\n",
        "            \n",
        "        output_dim = output.shape[-1]\n",
        "\n",
        "            \n",
        "        output = output.contiguous().view(-1, output_dim)\n",
        "        trg = trg[:,1:].contiguous().view(-1)\n",
        "                \n",
        "        #output = [batch size * trg len - 1, output dim]\n",
        "        #trg = [batch size * trg len - 1]\n",
        "            \n",
        "        # loss = criterion(output, trg)\n",
        "        loss = maskNLLLoss(output, trg,model.trg_pad_idx)\n",
        "        \n",
        "        loss.backward()\n",
        "        \n",
        "        torch.nn.utils.clip_grad_norm_(model.parameters(), clip)\n",
        "        \n",
        "        optimizer.step()\n",
        "        \n",
        "        epoch_loss += loss.item()\n",
        "        \n",
        "    return epoch_loss / len(iterator)"
      ],
      "execution_count": null,
      "outputs": []
    },
    {
      "cell_type": "code",
      "metadata": {
        "id": "AVRNqdr15T3M"
      },
      "source": [
        "def evaluate(model, iterator, criterion):\n",
        "    \n",
        "    model.eval()\n",
        "    \n",
        "    epoch_loss = 0\n",
        "    \n",
        "    with torch.no_grad():\n",
        "    \n",
        "        for i, batch in enumerate(iterator):\n",
        "\n",
        "            src = batch.input_sentence\n",
        "            trg = batch.output_sentence\n",
        "\n",
        "            output, _ = model(src, trg[:,:-1])\n",
        "            \n",
        "            #output = [batch size, trg len - 1, output dim]\n",
        "            #trg = [batch size, trg len]\n",
        "            \n",
        "            output_dim = output.shape[-1]\n",
        "           \n",
        "            \n",
        "            output = output.contiguous().view(-1, output_dim)\n",
        "            trg = trg[:,1:].contiguous().view(-1)\n",
        "            \n",
        "            #output = [batch size * trg len - 1, output dim]\n",
        "            #trg = [batch size * trg len - 1]\n",
        "            \n",
        "            \n",
        "            #loss = criterion(output, trg)\n",
        "            loss = maskNLLLoss(output, trg,model.trg_pad_idx)\n",
        "\n",
        "            #loss,_ = maskNLLLoss(output, trg, mask)\n",
        "\n",
        "            epoch_loss += loss.item()\n",
        "        \n",
        "    return epoch_loss / len(iterator)"
      ],
      "execution_count": null,
      "outputs": []
    },
    {
      "cell_type": "code",
      "metadata": {
        "id": "jKtfpw7JNUcD"
      },
      "source": [
        "import time\r\n",
        "def epoch_time(start_time, end_time):\r\n",
        "    elapsed_time = end_time - start_time\r\n",
        "    elapsed_mins = int(elapsed_time / 60)\r\n",
        "    elapsed_secs = int(elapsed_time - (elapsed_mins * 60))\r\n",
        "    return elapsed_mins, elapsed_secs"
      ],
      "execution_count": null,
      "outputs": []
    },
    {
      "cell_type": "code",
      "metadata": {
        "colab": {
          "base_uri": "https://localhost:8080/"
        },
        "id": "Gla49icxVFWM",
        "outputId": "9487d156-58c9-4bb6-fa4d-dd64f27f2291"
      },
      "source": [
        "N_EPOCHS = 20\r\n",
        "CLIP = 1\r\n",
        "\r\n",
        "best_valid_loss = float('inf')\r\n",
        "\r\n",
        "for epoch in range(N_EPOCHS):\r\n",
        "    \r\n",
        "    start_time = time.time()\r\n",
        "    \r\n",
        "    train_loss = train(model, train_iterator, optimizer, maskNLLLoss, CLIP)\r\n",
        "    valid_loss = evaluate(model, valid_iterator, maskNLLLoss)\r\n",
        "    \r\n",
        "    end_time = time.time()\r\n",
        "    \r\n",
        "    epoch_mins, epoch_secs = epoch_time(start_time, end_time)\r\n",
        "    \r\n",
        "    if valid_loss < best_valid_loss:\r\n",
        "        best_valid_loss = valid_loss\r\n",
        "        torch.save(model.state_dict(), 'tut2-model.pt')\r\n",
        "    \r\n",
        "    print(f'Epoch: {epoch+1:02} | Time: {epoch_mins}m {epoch_secs}s')\r\n",
        "    print(f'\\tTrain Loss: {train_loss:.3f} | Train PPL: {math.exp(train_loss):7.3f}')\r\n",
        "    print(f'\\t Val. Loss: {valid_loss:.3f} |  Val. PPL: {math.exp(valid_loss):7.3f}')"
      ],
      "execution_count": null,
      "outputs": [
        {
          "output_type": "stream",
          "text": [
            "Epoch: 01 | Time: 0m 25s\n",
            "\tTrain Loss: 4.028 | Train PPL:  56.136\n",
            "\t Val. Loss: 3.690 |  Val. PPL:  40.029\n",
            "Epoch: 02 | Time: 0m 25s\n",
            "\tTrain Loss: 3.551 | Train PPL:  34.842\n",
            "\t Val. Loss: 3.578 |  Val. PPL:  35.803\n",
            "Epoch: 03 | Time: 0m 25s\n",
            "\tTrain Loss: 3.378 | Train PPL:  29.323\n",
            "\t Val. Loss: 3.558 |  Val. PPL:  35.083\n",
            "Epoch: 04 | Time: 0m 25s\n",
            "\tTrain Loss: 3.247 | Train PPL:  25.707\n",
            "\t Val. Loss: 3.553 |  Val. PPL:  34.915\n",
            "Epoch: 05 | Time: 0m 25s\n",
            "\tTrain Loss: 3.136 | Train PPL:  23.006\n",
            "\t Val. Loss: 3.559 |  Val. PPL:  35.129\n",
            "Epoch: 06 | Time: 0m 25s\n",
            "\tTrain Loss: 3.035 | Train PPL:  20.805\n",
            "\t Val. Loss: 3.593 |  Val. PPL:  36.336\n",
            "Epoch: 07 | Time: 0m 26s\n",
            "\tTrain Loss: 2.947 | Train PPL:  19.054\n",
            "\t Val. Loss: 3.617 |  Val. PPL:  37.229\n",
            "Epoch: 08 | Time: 0m 26s\n",
            "\tTrain Loss: 2.869 | Train PPL:  17.612\n",
            "\t Val. Loss: 3.648 |  Val. PPL:  38.386\n",
            "Epoch: 09 | Time: 0m 26s\n",
            "\tTrain Loss: 2.798 | Train PPL:  16.412\n",
            "\t Val. Loss: 3.702 |  Val. PPL:  40.514\n",
            "Epoch: 10 | Time: 0m 26s\n",
            "\tTrain Loss: 2.733 | Train PPL:  15.381\n",
            "\t Val. Loss: 3.732 |  Val. PPL:  41.759\n",
            "Epoch: 11 | Time: 0m 26s\n",
            "\tTrain Loss: 2.676 | Train PPL:  14.534\n",
            "\t Val. Loss: 3.778 |  Val. PPL:  43.737\n",
            "Epoch: 12 | Time: 0m 26s\n",
            "\tTrain Loss: 2.624 | Train PPL:  13.790\n",
            "\t Val. Loss: 3.800 |  Val. PPL:  44.712\n",
            "Epoch: 13 | Time: 0m 25s\n",
            "\tTrain Loss: 2.577 | Train PPL:  13.155\n",
            "\t Val. Loss: 3.830 |  Val. PPL:  46.052\n",
            "Epoch: 14 | Time: 0m 26s\n",
            "\tTrain Loss: 2.533 | Train PPL:  12.592\n",
            "\t Val. Loss: 3.867 |  Val. PPL:  47.815\n",
            "Epoch: 15 | Time: 0m 26s\n",
            "\tTrain Loss: 2.493 | Train PPL:  12.103\n",
            "\t Val. Loss: 3.911 |  Val. PPL:  49.953\n",
            "Epoch: 16 | Time: 0m 26s\n",
            "\tTrain Loss: 2.458 | Train PPL:  11.682\n",
            "\t Val. Loss: 3.928 |  Val. PPL:  50.811\n",
            "Epoch: 17 | Time: 0m 26s\n",
            "\tTrain Loss: 2.422 | Train PPL:  11.266\n",
            "\t Val. Loss: 3.987 |  Val. PPL:  53.897\n",
            "Epoch: 18 | Time: 0m 26s\n",
            "\tTrain Loss: 2.392 | Train PPL:  10.932\n",
            "\t Val. Loss: 4.019 |  Val. PPL:  55.669\n",
            "Epoch: 19 | Time: 0m 26s\n",
            "\tTrain Loss: 2.364 | Train PPL:  10.630\n",
            "\t Val. Loss: 4.032 |  Val. PPL:  56.382\n",
            "Epoch: 20 | Time: 0m 26s\n",
            "\tTrain Loss: 2.335 | Train PPL:  10.328\n",
            "\t Val. Loss: 4.085 |  Val. PPL:  59.434\n"
          ],
          "name": "stdout"
        }
      ]
    },
    {
      "cell_type": "code",
      "metadata": {
        "id": "wN66TGU2VG1O"
      },
      "source": [
        "def evaluate(sentence, trg_sentence_field, model, device,max_length=10):\r\n",
        "  model.eval()\r\n",
        "\r\n",
        "  tokens = [token.lower() for token in sentence]\r\n",
        "\r\n",
        "  tokens = [trg_sentence_field.init_token] + tokens + [trg_sentence_field.eos_token]\r\n",
        "  src_indexes = [trg_sentence_field.vocab.stoi[token] for token in tokens]\r\n",
        "  src_tensor = torch.LongTensor(src_indexes).unsqueeze(0).to(device)\r\n",
        "  src_mask = model.make_src_mask(src_tensor)\r\n",
        "\r\n",
        "  with torch.no_grad():\r\n",
        "      enc_src = model.encoder(src_tensor, src_mask)\r\n",
        "\r\n",
        "  trg_indexes = [trg_sentence_field.vocab.stoi[trg_sentence_field.init_token]]#Initializing with an init token for target input\r\n",
        "\r\n",
        "  for i in range(max_length):\r\n",
        "\r\n",
        "        trg_tensor = torch.LongTensor(trg_indexes).unsqueeze(0).to(device)\r\n",
        "\r\n",
        "        trg_mask = model.make_trg_mask(trg_tensor)\r\n",
        "        \r\n",
        "        with torch.no_grad():\r\n",
        "            output, attention = model.decoder(trg_tensor, enc_src, trg_mask, src_mask)\r\n",
        "        \r\n",
        "        pred_token = output.argmax(2)[:,-1].item()\r\n",
        "        \r\n",
        "        trg_indexes.append(pred_token)\r\n",
        "\r\n",
        "        if pred_token == trg_sentence_field.vocab.stoi[trg_sentence_field.eos_token]:\r\n",
        "            break\r\n",
        "    \r\n",
        "  trg_tokens = [trg_sentence_field.vocab.itos[i] for i in trg_indexes]\r\n",
        "  return trg_tokens[1:]\r\n"
      ],
      "execution_count": null,
      "outputs": []
    },
    {
      "cell_type": "code",
      "metadata": {
        "id": "g-F159FfTb_5"
      },
      "source": [
        "def evaluateInput( trg_sentence_field,model, device):\r\n",
        "    input_sentence = ''\r\n",
        "    while(True):\r\n",
        "        try:\r\n",
        "            # Get input sentence from the user\r\n",
        "            input_sentence = input('> ')\r\n",
        "            # Check if it is quit case\r\n",
        "            if input_sentence == 'q' or input_sentence == 'quit': break\r\n",
        "            # Normalize sentence\r\n",
        "            input_sentence = normalizeString(input_sentence)\r\n",
        "            # Evaluate sentence\r\n",
        "            output_words = evaluate(input_sentence,trg_sentence_field, model, device,max_length=10)\r\n",
        "            # Format and print response sentence\r\n",
        "            output_words[:] = [x for x in output_words if not (x == '<eos>' or x == '<pad>' or x == '<unk>')]\r\n",
        "            print('Bot:', ' '.join(output_words))\r\n",
        "\r\n",
        "        except KeyError:\r\n",
        "            print(\"Error: Encountered unknown word.\")\r\n",
        "\r\n",
        "\r\n"
      ],
      "execution_count": null,
      "outputs": []
    },
    {
      "cell_type": "markdown",
      "metadata": {
        "id": "hOjlh9bGffcf"
      },
      "source": [
        "### Chatbot Function<br>\r\n",
        "Type in the sentences to chat with the bot.<br>\r\n",
        "Type in \"q\" or \"quit\" to end the conversation."
      ]
    },
    {
      "cell_type": "code",
      "metadata": {
        "id": "uRFFhVlT4El7",
        "colab": {
          "base_uri": "https://localhost:8080/"
        },
        "outputId": "a040df30-3da5-4dc1-d902-3f93f39c26df"
      },
      "source": [
        "evaluateInput(sentence,model, device)"
      ],
      "execution_count": null,
      "outputs": [
        {
          "output_type": "stream",
          "text": [
            "> hello\n",
            "Bot: what s the matter ?\n",
            "> nothing much\n",
            "Bot: !\n",
            "> are you fine?\n",
            "Bot: yeah .\n",
            "> that's good to hear\n",
            "Bot: it s not the slightest hint .\n",
            "> what's the matter ?\n",
            "Bot: yes .\n",
            "> are you okay?\n",
            "Bot: yeah .\n",
            "> that's good\n",
            "Bot: it s not a homicide lieutenant .\n",
            "> wow\n",
            "Bot: oh .\n",
            "> okay bye\n",
            "Bot: what s that ?\n",
            "> goodbye\n",
            "Bot: .\n",
            "> quit\n"
          ],
          "name": "stdout"
        }
      ]
    },
    {
      "cell_type": "code",
      "metadata": {
        "id": "SHJUabdyeIFv"
      },
      "source": [
        ""
      ],
      "execution_count": null,
      "outputs": []
    }
  ]
}